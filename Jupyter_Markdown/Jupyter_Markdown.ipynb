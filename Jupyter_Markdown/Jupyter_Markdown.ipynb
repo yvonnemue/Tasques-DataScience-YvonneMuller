{
 "cells": [
  {
   "cell_type": "markdown",
   "metadata": {},
   "source": [
    "### Exercicis Jupyter_Markdown **Yvonne**"
   ]
  },
  {
   "cell_type": "markdown",
   "metadata": {},
   "source": [
    "*Objectius:* \n",
    "\n",
    "+ Crear variables\n",
    "+ Operacions matemàtiques\n",
    "+ Transforma amb càsting\n",
    "+ Tècniques amb Strings\n",
    "+ Booleans"
   ]
  },
  {
   "cell_type": "code",
   "execution_count": 2,
   "metadata": {},
   "outputs": [
    {
     "name": "stdout",
     "output_type": "stream",
     "text": [
      "Bona tarda\n"
     ]
    }
   ],
   "source": [
    "#Crear variables\n",
    "salut = \"Bona tarda\"\n",
    "print(salut)"
   ]
  },
  {
   "cell_type": "code",
   "execution_count": 4,
   "metadata": {},
   "outputs": [
    {
     "data": {
      "text/plain": [
       "int"
      ]
     },
     "execution_count": 4,
     "metadata": {},
     "output_type": "execute_result"
    }
   ],
   "source": [
    "edats = [25, 37, 42, 46, 55]\n",
    "type(edats[1])"
   ]
  },
  {
   "cell_type": "code",
   "execution_count": 5,
   "metadata": {},
   "outputs": [
    {
     "data": {
      "text/plain": [
       "int"
      ]
     },
     "execution_count": 5,
     "metadata": {},
     "output_type": "execute_result"
    }
   ],
   "source": [
    "alçada = 175\n",
    "type(alçada)"
   ]
  },
  {
   "cell_type": "code",
   "execution_count": 12,
   "metadata": {},
   "outputs": [
    {
     "name": "stdout",
     "output_type": "stream",
     "text": [
      "<class 'float'>\n",
      "175.0\n"
     ]
    }
   ],
   "source": [
    "alçada2 = float(alçada)\n",
    "print(type(alçada2))\n",
    "print(alçada2)"
   ]
  },
  {
   "cell_type": "code",
   "execution_count": 24,
   "metadata": {},
   "outputs": [
    {
     "name": "stdout",
     "output_type": "stream",
     "text": [
      "8\n"
     ]
    }
   ],
   "source": [
    "#Operacions matemàtiques\n",
    "hola = 5\n",
    "adeu = 3\n",
    "result = hola + adeu\n",
    "print(result)\n"
   ]
  },
  {
   "cell_type": "code",
   "execution_count": 25,
   "metadata": {},
   "outputs": [
    {
     "name": "stdout",
     "output_type": "stream",
     "text": [
      "125\n"
     ]
    }
   ],
   "source": [
    "result2 = hola*25\n",
    "print(result2)"
   ]
  },
  {
   "cell_type": "code",
   "execution_count": 26,
   "metadata": {},
   "outputs": [
    {
     "name": "stdout",
     "output_type": "stream",
     "text": [
      "hola i adéu\n"
     ]
    }
   ],
   "source": [
    "#Tècniques amb strings\n",
    "result3 = \"hola \" + \"i\" + \" adéu\"\n",
    "print(result3)"
   ]
  },
  {
   "cell_type": "code",
   "execution_count": 30,
   "metadata": {},
   "outputs": [
    {
     "name": "stdout",
     "output_type": "stream",
     "text": [
      "hola hola hola \n"
     ]
    }
   ],
   "source": [
    "result4 = \"hola \"*3\n",
    "print(result4)"
   ]
  },
  {
   "cell_type": "code",
   "execution_count": 38,
   "metadata": {},
   "outputs": [
    {
     "name": "stdout",
     "output_type": "stream",
     "text": [
      "False\n",
      "True\n",
      "False\n",
      "True\n"
     ]
    }
   ],
   "source": [
    "# Booleans\n",
    "planta = 25\n",
    "jardi = 15\n",
    "print(planta == jardi)\n",
    "print(planta != jardi)\n",
    "print(\"planta\" == \"jardi\")\n",
    "print(planta == (jardi + 10))"
   ]
  },
  {
   "cell_type": "code",
   "execution_count": 43,
   "metadata": {},
   "outputs": [
    {
     "name": "stdout",
     "output_type": "stream",
     "text": [
      "25\n",
      "<class 'int'>\n",
      "175.0\n",
      "<class 'float'>\n"
     ]
    }
   ],
   "source": [
    "#Castings\n",
    "print(str(planta))\n",
    "print(type(planta))\n",
    "alçada2 = float(alçada)\n",
    "print(alçada2)\n",
    "print(type(alçada2))\n"
   ]
  }
 ],
 "metadata": {
  "kernelspec": {
   "display_name": "Python 3",
   "language": "python",
   "name": "python3"
  },
  "language_info": {
   "codemirror_mode": {
    "name": "ipython",
    "version": 3
   },
   "file_extension": ".py",
   "mimetype": "text/x-python",
   "name": "python",
   "nbconvert_exporter": "python",
   "pygments_lexer": "ipython3",
   "version": "3.8.5"
  }
 },
 "nbformat": 4,
 "nbformat_minor": 4
}
