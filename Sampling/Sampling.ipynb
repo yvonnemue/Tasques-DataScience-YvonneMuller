{
 "cells": [
  {
   "cell_type": "markdown",
   "metadata": {},
   "source": [
    "# Exercici 1 \n",
    "\n",
    "Agafa un conjunt de dades de tema esportiu que t'agradi. Realitza un mostreig de les dades generant una mostra aleatòria simple i una mostra sistemàtica."
   ]
  },
  {
   "cell_type": "code",
   "execution_count": 1,
   "metadata": {
    "execution": {
     "iopub.execute_input": "2021-09-09T16:29:12.119661Z",
     "iopub.status.busy": "2021-09-09T16:29:12.117801Z",
     "iopub.status.idle": "2021-09-09T16:29:18.349621Z",
     "shell.execute_reply": "2021-09-09T16:29:18.347991Z",
     "shell.execute_reply.started": "2021-09-09T16:29:12.119325Z"
    }
   },
   "outputs": [],
   "source": [
    "import pandas as pd\n",
    "import numpy as np\n",
    "import matplotlib.pyplot as plt\n",
    "import seaborn as sns\n",
    "import math"
   ]
  },
  {
   "cell_type": "code",
   "execution_count": 2,
   "metadata": {
    "execution": {
     "iopub.execute_input": "2021-09-09T16:29:18.359783Z",
     "iopub.status.busy": "2021-09-09T16:29:18.359452Z",
     "iopub.status.idle": "2021-09-09T16:29:18.705813Z",
     "shell.execute_reply": "2021-09-09T16:29:18.702262Z",
     "shell.execute_reply.started": "2021-09-09T16:29:18.359734Z"
    }
   },
   "outputs": [],
   "source": [
    "df = pd.read_csv(\"Climbers.csv\", sep=\";\")"
   ]
  },
  {
   "cell_type": "code",
   "execution_count": 3,
   "metadata": {
    "execution": {
     "iopub.execute_input": "2021-09-09T16:29:18.719295Z",
     "iopub.status.busy": "2021-09-09T16:29:18.716717Z",
     "iopub.status.idle": "2021-09-09T16:29:18.906808Z",
     "shell.execute_reply": "2021-09-09T16:29:18.903688Z",
     "shell.execute_reply.started": "2021-09-09T16:29:18.718895Z"
    }
   },
   "outputs": [
    {
     "data": {
      "text/html": [
       "<div>\n",
       "<style scoped>\n",
       "    .dataframe tbody tr th:only-of-type {\n",
       "        vertical-align: middle;\n",
       "    }\n",
       "\n",
       "    .dataframe tbody tr th {\n",
       "        vertical-align: top;\n",
       "    }\n",
       "\n",
       "    .dataframe thead th {\n",
       "        text-align: right;\n",
       "    }\n",
       "</style>\n",
       "<table border=\"1\" class=\"dataframe\">\n",
       "  <thead>\n",
       "    <tr style=\"text-align: right;\">\n",
       "      <th></th>\n",
       "      <th>Timestamp</th>\n",
       "      <th>Sex</th>\n",
       "      <th>Height (cm)</th>\n",
       "      <th>Weight (KG)</th>\n",
       "      <th>Arm Span (cm)</th>\n",
       "      <th>How long have you been climbing for?</th>\n",
       "      <th>Where do you climb?</th>\n",
       "      <th>Hardest V Grade ever climbed</th>\n",
       "      <th>Hardest V Grade climbed in the Last 3 months</th>\n",
       "      <th>The V grade you can send 90-100% of routes</th>\n",
       "      <th>...</th>\n",
       "      <th>Frequency of Endurance training sesions per week</th>\n",
       "      <th>Endurance training</th>\n",
       "      <th>General Strength Training frequency per week</th>\n",
       "      <th>Time spent General strength training (hours)</th>\n",
       "      <th>Type of Strength training</th>\n",
       "      <th>Other activities (ie yoga, cardio)</th>\n",
       "      <th>Max pull up reps</th>\n",
       "      <th>5 rep max weighted pull ups</th>\n",
       "      <th>max push ups reps</th>\n",
       "      <th>max L-sit time</th>\n",
       "    </tr>\n",
       "  </thead>\n",
       "  <tbody>\n",
       "    <tr>\n",
       "      <th>0</th>\n",
       "      <td>29/01/2017 20:12:46</td>\n",
       "      <td>Male</td>\n",
       "      <td>173</td>\n",
       "      <td>77</td>\n",
       "      <td>178</td>\n",
       "      <td>4.5 - 5 years</td>\n",
       "      <td>Indoor and outdoor climbing</td>\n",
       "      <td>V8</td>\n",
       "      <td>V8</td>\n",
       "      <td>V6</td>\n",
       "      <td>...</td>\n",
       "      <td>1</td>\n",
       "      <td>4x4</td>\n",
       "      <td>3</td>\n",
       "      <td>4</td>\n",
       "      <td>Antagonists, Legs, Core</td>\n",
       "      <td>NaN</td>\n",
       "      <td>15</td>\n",
       "      <td>29kg</td>\n",
       "      <td>40</td>\n",
       "      <td>30</td>\n",
       "    </tr>\n",
       "    <tr>\n",
       "      <th>1</th>\n",
       "      <td>29/01/2017 20:17:27</td>\n",
       "      <td>Male</td>\n",
       "      <td>180</td>\n",
       "      <td>81</td>\n",
       "      <td>180</td>\n",
       "      <td>3 - 3.5 years</td>\n",
       "      <td>Indoor Climbing only</td>\n",
       "      <td>V3</td>\n",
       "      <td>V3</td>\n",
       "      <td>V1</td>\n",
       "      <td>...</td>\n",
       "      <td>1</td>\n",
       "      <td>Laps of routes</td>\n",
       "      <td>2</td>\n",
       "      <td>2</td>\n",
       "      <td>Antagonists, Legs, Core, Upper body pulling, U...</td>\n",
       "      <td>Yoga, stretching</td>\n",
       "      <td>11</td>\n",
       "      <td>5kg</td>\n",
       "      <td>24</td>\n",
       "      <td>15sec</td>\n",
       "    </tr>\n",
       "    <tr>\n",
       "      <th>2</th>\n",
       "      <td>29/01/2017 20:28:14</td>\n",
       "      <td>Male</td>\n",
       "      <td>178</td>\n",
       "      <td>67</td>\n",
       "      <td>175</td>\n",
       "      <td>.5 - 1 years</td>\n",
       "      <td>Indoor and outdoor climbing</td>\n",
       "      <td>V7</td>\n",
       "      <td>V6</td>\n",
       "      <td>V5</td>\n",
       "      <td>...</td>\n",
       "      <td>2</td>\n",
       "      <td>4x4, ARC, route climbing intervals</td>\n",
       "      <td>3</td>\n",
       "      <td>2</td>\n",
       "      <td>Antagonists, Core, Upper body pulling, Upper b...</td>\n",
       "      <td>soccer</td>\n",
       "      <td>17</td>\n",
       "      <td>20 kg</td>\n",
       "      <td>NaN</td>\n",
       "      <td>NaN</td>\n",
       "    </tr>\n",
       "    <tr>\n",
       "      <th>3</th>\n",
       "      <td>29/01/2017 20:51:08</td>\n",
       "      <td>Male</td>\n",
       "      <td>173</td>\n",
       "      <td>70</td>\n",
       "      <td>178</td>\n",
       "      <td>9 - 9.5 years</td>\n",
       "      <td>Indoor and outdoor climbing</td>\n",
       "      <td>V5</td>\n",
       "      <td>V4</td>\n",
       "      <td>V3</td>\n",
       "      <td>...</td>\n",
       "      <td>1</td>\n",
       "      <td>Laps of routes, route climbing intervals</td>\n",
       "      <td>0</td>\n",
       "      <td>0</td>\n",
       "      <td>Antagonists, Legs, Core, No other strength tra...</td>\n",
       "      <td>NaN</td>\n",
       "      <td>8</td>\n",
       "      <td>NaN</td>\n",
       "      <td>30</td>\n",
       "      <td>NaN</td>\n",
       "    </tr>\n",
       "    <tr>\n",
       "      <th>4</th>\n",
       "      <td>29/01/2017 21:03:19</td>\n",
       "      <td>Male</td>\n",
       "      <td>184</td>\n",
       "      <td>84</td>\n",
       "      <td>197</td>\n",
       "      <td>6.5 - 7 years</td>\n",
       "      <td>Indoor and outdoor climbing</td>\n",
       "      <td>V10</td>\n",
       "      <td>V10</td>\n",
       "      <td>V7</td>\n",
       "      <td>...</td>\n",
       "      <td>2</td>\n",
       "      <td>4x4, Max moves, threshold intervals</td>\n",
       "      <td>2</td>\n",
       "      <td>1</td>\n",
       "      <td>Core, Upper body pushing</td>\n",
       "      <td>NaN</td>\n",
       "      <td>NaN</td>\n",
       "      <td>NaN</td>\n",
       "      <td>NaN</td>\n",
       "      <td>NaN</td>\n",
       "    </tr>\n",
       "  </tbody>\n",
       "</table>\n",
       "<p>5 rows × 35 columns</p>\n",
       "</div>"
      ],
      "text/plain": [
       "             Timestamp   Sex Height (cm) Weight (KG) Arm Span (cm)  \\\n",
       "0  29/01/2017 20:12:46  Male         173          77           178   \n",
       "1  29/01/2017 20:17:27  Male         180          81           180   \n",
       "2  29/01/2017 20:28:14  Male         178          67           175   \n",
       "3  29/01/2017 20:51:08  Male         173          70           178   \n",
       "4  29/01/2017 21:03:19  Male         184          84           197   \n",
       "\n",
       "  How long have you been climbing for?          Where do you climb?  \\\n",
       "0                        4.5 - 5 years  Indoor and outdoor climbing   \n",
       "1                        3 - 3.5 years         Indoor Climbing only   \n",
       "2                         .5 - 1 years  Indoor and outdoor climbing   \n",
       "3                        9 - 9.5 years  Indoor and outdoor climbing   \n",
       "4                        6.5 - 7 years  Indoor and outdoor climbing   \n",
       "\n",
       "  Hardest V Grade ever climbed Hardest V Grade climbed in the Last 3 months  \\\n",
       "0                           V8                                           V8   \n",
       "1                           V3                                           V3   \n",
       "2                           V7                                           V6   \n",
       "3                           V5                                           V4   \n",
       "4                          V10                                          V10   \n",
       "\n",
       "  The V grade you can send 90-100% of routes  ...  \\\n",
       "0                                         V6  ...   \n",
       "1                                         V1  ...   \n",
       "2                                         V5  ...   \n",
       "3                                         V3  ...   \n",
       "4                                         V7  ...   \n",
       "\n",
       "  Frequency of Endurance training sesions per week  \\\n",
       "0                                                1   \n",
       "1                                                1   \n",
       "2                                                2   \n",
       "3                                                1   \n",
       "4                                                2   \n",
       "\n",
       "                         Endurance training  \\\n",
       "0                                       4x4   \n",
       "1                            Laps of routes   \n",
       "2        4x4, ARC, route climbing intervals   \n",
       "3  Laps of routes, route climbing intervals   \n",
       "4       4x4, Max moves, threshold intervals   \n",
       "\n",
       "  General Strength Training frequency per week  \\\n",
       "0                                            3   \n",
       "1                                            2   \n",
       "2                                            3   \n",
       "3                                            0   \n",
       "4                                            2   \n",
       "\n",
       "   Time spent General strength training (hours)  \\\n",
       "0                                             4   \n",
       "1                                             2   \n",
       "2                                             2   \n",
       "3                                             0   \n",
       "4                                             1   \n",
       "\n",
       "                           Type of Strength training  \\\n",
       "0                            Antagonists, Legs, Core   \n",
       "1  Antagonists, Legs, Core, Upper body pulling, U...   \n",
       "2  Antagonists, Core, Upper body pulling, Upper b...   \n",
       "3  Antagonists, Legs, Core, No other strength tra...   \n",
       "4                           Core, Upper body pushing   \n",
       "\n",
       "   Other activities (ie yoga, cardio)  Max pull up reps  \\\n",
       "0                                 NaN                15   \n",
       "1                    Yoga, stretching                11   \n",
       "2                              soccer                17   \n",
       "3                                 NaN                 8   \n",
       "4                                 NaN               NaN   \n",
       "\n",
       "  5 rep max weighted pull ups max push ups reps max L-sit time  \n",
       "0                        29kg                40             30  \n",
       "1                         5kg                24          15sec  \n",
       "2                       20 kg               NaN            NaN  \n",
       "3                         NaN                30            NaN  \n",
       "4                         NaN               NaN            NaN  \n",
       "\n",
       "[5 rows x 35 columns]"
      ]
     },
     "execution_count": 3,
     "metadata": {},
     "output_type": "execute_result"
    }
   ],
   "source": [
    "df.head()"
   ]
  },
  {
   "cell_type": "markdown",
   "metadata": {},
   "source": [
    "### Mostra aleatoria simple"
   ]
  },
  {
   "cell_type": "code",
   "execution_count": 4,
   "metadata": {
    "execution": {
     "iopub.execute_input": "2021-09-09T16:29:18.916563Z",
     "iopub.status.busy": "2021-09-09T16:29:18.914278Z",
     "iopub.status.idle": "2021-09-09T16:29:18.946419Z",
     "shell.execute_reply": "2021-09-09T16:29:18.945156Z",
     "shell.execute_reply.started": "2021-09-09T16:29:18.916505Z"
    }
   },
   "outputs": [],
   "source": [
    "sample_df = df.sample(100)"
   ]
  },
  {
   "cell_type": "code",
   "execution_count": 5,
   "metadata": {
    "execution": {
     "iopub.execute_input": "2021-09-09T16:29:18.954221Z",
     "iopub.status.busy": "2021-09-09T16:29:18.948885Z",
     "iopub.status.idle": "2021-09-09T16:29:19.076665Z",
     "shell.execute_reply": "2021-09-09T16:29:19.074829Z",
     "shell.execute_reply.started": "2021-09-09T16:29:18.954150Z"
    }
   },
   "outputs": [
    {
     "data": {
      "text/html": [
       "<div>\n",
       "<style scoped>\n",
       "    .dataframe tbody tr th:only-of-type {\n",
       "        vertical-align: middle;\n",
       "    }\n",
       "\n",
       "    .dataframe tbody tr th {\n",
       "        vertical-align: top;\n",
       "    }\n",
       "\n",
       "    .dataframe thead th {\n",
       "        text-align: right;\n",
       "    }\n",
       "</style>\n",
       "<table border=\"1\" class=\"dataframe\">\n",
       "  <thead>\n",
       "    <tr style=\"text-align: right;\">\n",
       "      <th></th>\n",
       "      <th>Timestamp</th>\n",
       "      <th>Sex</th>\n",
       "      <th>Height (cm)</th>\n",
       "      <th>Weight (KG)</th>\n",
       "      <th>Arm Span (cm)</th>\n",
       "      <th>How long have you been climbing for?</th>\n",
       "      <th>Where do you climb?</th>\n",
       "      <th>Hardest V Grade ever climbed</th>\n",
       "      <th>Hardest V Grade climbed in the Last 3 months</th>\n",
       "      <th>The V grade you can send 90-100% of routes</th>\n",
       "      <th>...</th>\n",
       "      <th>Frequency of Endurance training sesions per week</th>\n",
       "      <th>Endurance training</th>\n",
       "      <th>General Strength Training frequency per week</th>\n",
       "      <th>Time spent General strength training (hours)</th>\n",
       "      <th>Type of Strength training</th>\n",
       "      <th>Other activities (ie yoga, cardio)</th>\n",
       "      <th>Max pull up reps</th>\n",
       "      <th>5 rep max weighted pull ups</th>\n",
       "      <th>max push ups reps</th>\n",
       "      <th>max L-sit time</th>\n",
       "    </tr>\n",
       "  </thead>\n",
       "  <tbody>\n",
       "    <tr>\n",
       "      <th>418</th>\n",
       "      <td>04/12/2018 03:10:21</td>\n",
       "      <td>Male</td>\n",
       "      <td>172</td>\n",
       "      <td>75</td>\n",
       "      <td>170</td>\n",
       "      <td>.5 - 1 years</td>\n",
       "      <td>Indoor Climbing only</td>\n",
       "      <td>V4</td>\n",
       "      <td>V4</td>\n",
       "      <td>V3</td>\n",
       "      <td>...</td>\n",
       "      <td>0</td>\n",
       "      <td>I don't train for endurance</td>\n",
       "      <td>1</td>\n",
       "      <td>1</td>\n",
       "      <td>Antagonists, Core, Upper body pushing</td>\n",
       "      <td>NaN</td>\n",
       "      <td>20</td>\n",
       "      <td>NaN</td>\n",
       "      <td>NaN</td>\n",
       "      <td>NaN</td>\n",
       "    </tr>\n",
       "    <tr>\n",
       "      <th>291</th>\n",
       "      <td>18/02/2017 07:22:09</td>\n",
       "      <td>Male</td>\n",
       "      <td>187.96</td>\n",
       "      <td>74.8</td>\n",
       "      <td>198.12</td>\n",
       "      <td>4.5 - 5 years</td>\n",
       "      <td>Indoor and outdoor climbing</td>\n",
       "      <td>V9</td>\n",
       "      <td>V8</td>\n",
       "      <td>V8</td>\n",
       "      <td>...</td>\n",
       "      <td>4</td>\n",
       "      <td>hangboard repeater protocols, Max moves, syste...</td>\n",
       "      <td>4</td>\n",
       "      <td>2</td>\n",
       "      <td>Core, Upper body pulling, Upper body pushing</td>\n",
       "      <td>Slackline</td>\n",
       "      <td>25ish</td>\n",
       "      <td>-</td>\n",
       "      <td>40ish</td>\n",
       "      <td>25s</td>\n",
       "    </tr>\n",
       "    <tr>\n",
       "      <th>62</th>\n",
       "      <td>30/01/2017 05:18:43</td>\n",
       "      <td>Male</td>\n",
       "      <td>178</td>\n",
       "      <td>70</td>\n",
       "      <td>195</td>\n",
       "      <td>14.5 - 15 years</td>\n",
       "      <td>Indoor and outdoor climbing</td>\n",
       "      <td>V13</td>\n",
       "      <td>V13</td>\n",
       "      <td>V11</td>\n",
       "      <td>...</td>\n",
       "      <td>1</td>\n",
       "      <td>4x4, threshold intervals, other</td>\n",
       "      <td>3</td>\n",
       "      <td>3</td>\n",
       "      <td>Antagonists, Legs, Core, Upper body pulling, U...</td>\n",
       "      <td>NaN</td>\n",
       "      <td>25</td>\n",
       "      <td>106kg total (36kg added to BW)</td>\n",
       "      <td>40</td>\n",
       "      <td>45sec</td>\n",
       "    </tr>\n",
       "    <tr>\n",
       "      <th>42</th>\n",
       "      <td>30/01/2017 03:13:26</td>\n",
       "      <td>Male</td>\n",
       "      <td>174</td>\n",
       "      <td>65</td>\n",
       "      <td>176</td>\n",
       "      <td>1 - 1.5 years</td>\n",
       "      <td>Indoor and outdoor climbing</td>\n",
       "      <td>V5</td>\n",
       "      <td>V5</td>\n",
       "      <td>V3</td>\n",
       "      <td>...</td>\n",
       "      <td>0</td>\n",
       "      <td>I don't train for endurance</td>\n",
       "      <td>1</td>\n",
       "      <td>1</td>\n",
       "      <td>Antagonists, Legs, Core, Upper body pulling, U...</td>\n",
       "      <td>Cycling</td>\n",
       "      <td>15</td>\n",
       "      <td>N/a</td>\n",
       "      <td>40</td>\n",
       "      <td>1:30</td>\n",
       "    </tr>\n",
       "    <tr>\n",
       "      <th>39</th>\n",
       "      <td>30/01/2017 02:38:09</td>\n",
       "      <td>Male</td>\n",
       "      <td>173</td>\n",
       "      <td>58</td>\n",
       "      <td>173</td>\n",
       "      <td>1.5 - 2 years</td>\n",
       "      <td>Indoor and outdoor climbing</td>\n",
       "      <td>V8</td>\n",
       "      <td>V8</td>\n",
       "      <td>V6</td>\n",
       "      <td>...</td>\n",
       "      <td>2</td>\n",
       "      <td>Feet on 'campusing'</td>\n",
       "      <td>2</td>\n",
       "      <td>2</td>\n",
       "      <td>Antagonists, Legs, Upper body pulling</td>\n",
       "      <td>NaN</td>\n",
       "      <td>NaN</td>\n",
       "      <td>20</td>\n",
       "      <td>40</td>\n",
       "      <td>NaN</td>\n",
       "    </tr>\n",
       "  </tbody>\n",
       "</table>\n",
       "<p>5 rows × 35 columns</p>\n",
       "</div>"
      ],
      "text/plain": [
       "               Timestamp   Sex Height (cm) Weight (KG) Arm Span (cm)  \\\n",
       "418  04/12/2018 03:10:21  Male         172          75           170   \n",
       "291  18/02/2017 07:22:09  Male      187.96        74.8        198.12   \n",
       "62   30/01/2017 05:18:43  Male         178          70           195   \n",
       "42   30/01/2017 03:13:26  Male         174          65           176   \n",
       "39   30/01/2017 02:38:09  Male         173          58           173   \n",
       "\n",
       "    How long have you been climbing for?          Where do you climb?  \\\n",
       "418                         .5 - 1 years         Indoor Climbing only   \n",
       "291                        4.5 - 5 years  Indoor and outdoor climbing   \n",
       "62                       14.5 - 15 years  Indoor and outdoor climbing   \n",
       "42                         1 - 1.5 years  Indoor and outdoor climbing   \n",
       "39                         1.5 - 2 years  Indoor and outdoor climbing   \n",
       "\n",
       "    Hardest V Grade ever climbed Hardest V Grade climbed in the Last 3 months  \\\n",
       "418                           V4                                           V4   \n",
       "291                           V9                                           V8   \n",
       "62                           V13                                          V13   \n",
       "42                            V5                                           V5   \n",
       "39                            V8                                           V8   \n",
       "\n",
       "    The V grade you can send 90-100% of routes  ...  \\\n",
       "418                                         V3  ...   \n",
       "291                                         V8  ...   \n",
       "62                                         V11  ...   \n",
       "42                                          V3  ...   \n",
       "39                                          V6  ...   \n",
       "\n",
       "    Frequency of Endurance training sesions per week  \\\n",
       "418                                                0   \n",
       "291                                                4   \n",
       "62                                                 1   \n",
       "42                                                 0   \n",
       "39                                                 2   \n",
       "\n",
       "                                    Endurance training  \\\n",
       "418                        I don't train for endurance   \n",
       "291  hangboard repeater protocols, Max moves, syste...   \n",
       "62                     4x4, threshold intervals, other   \n",
       "42                         I don't train for endurance   \n",
       "39                                 Feet on 'campusing'   \n",
       "\n",
       "    General Strength Training frequency per week  \\\n",
       "418                                            1   \n",
       "291                                            4   \n",
       "62                                             3   \n",
       "42                                             1   \n",
       "39                                             2   \n",
       "\n",
       "     Time spent General strength training (hours)  \\\n",
       "418                                             1   \n",
       "291                                             2   \n",
       "62                                              3   \n",
       "42                                              1   \n",
       "39                                              2   \n",
       "\n",
       "                             Type of Strength training  \\\n",
       "418              Antagonists, Core, Upper body pushing   \n",
       "291       Core, Upper body pulling, Upper body pushing   \n",
       "62   Antagonists, Legs, Core, Upper body pulling, U...   \n",
       "42   Antagonists, Legs, Core, Upper body pulling, U...   \n",
       "39               Antagonists, Legs, Upper body pulling   \n",
       "\n",
       "     Other activities (ie yoga, cardio)  Max pull up reps  \\\n",
       "418                                 NaN                20   \n",
       "291                           Slackline             25ish   \n",
       "62                                  NaN                25   \n",
       "42                              Cycling                15   \n",
       "39                                  NaN               NaN   \n",
       "\n",
       "        5 rep max weighted pull ups max push ups reps max L-sit time  \n",
       "418                             NaN               NaN            NaN  \n",
       "291                               -             40ish            25s  \n",
       "62   106kg total (36kg added to BW)                40          45sec  \n",
       "42                              N/a                40           1:30  \n",
       "39                               20                40            NaN  \n",
       "\n",
       "[5 rows x 35 columns]"
      ]
     },
     "execution_count": 5,
     "metadata": {},
     "output_type": "execute_result"
    }
   ],
   "source": [
    "sample_df.head()"
   ]
  },
  {
   "cell_type": "markdown",
   "metadata": {},
   "source": [
    "### Mostra sistemàtica"
   ]
  },
  {
   "cell_type": "code",
   "execution_count": 6,
   "metadata": {
    "execution": {
     "iopub.execute_input": "2021-09-09T16:29:19.079998Z",
     "iopub.status.busy": "2021-09-09T16:29:19.079418Z",
     "iopub.status.idle": "2021-09-09T16:29:19.098730Z",
     "shell.execute_reply": "2021-09-09T16:29:19.096668Z",
     "shell.execute_reply.started": "2021-09-09T16:29:19.079942Z"
    }
   },
   "outputs": [],
   "source": [
    "# Creem una funció, step seran el nombre de registres que no agafarem entre mostra i mostra\n",
    "def systematic_sampling(df, step):\n",
    " \n",
    "    indexes = np.arange(0, len(df), step=step)\n",
    "    systematic_sample = df.iloc[indexes]\n",
    "    return systematic_sample"
   ]
  },
  {
   "cell_type": "code",
   "execution_count": 7,
   "metadata": {
    "execution": {
     "iopub.execute_input": "2021-09-09T16:29:19.114690Z",
     "iopub.status.busy": "2021-09-09T16:29:19.110138Z",
     "iopub.status.idle": "2021-09-09T16:29:19.134742Z",
     "shell.execute_reply": "2021-09-09T16:29:19.132138Z",
     "shell.execute_reply.started": "2021-09-09T16:29:19.114603Z"
    }
   },
   "outputs": [],
   "source": [
    "systematic_sample = systematic_sampling(df, 20)"
   ]
  },
  {
   "cell_type": "code",
   "execution_count": 8,
   "metadata": {
    "execution": {
     "iopub.execute_input": "2021-09-09T16:29:19.154597Z",
     "iopub.status.busy": "2021-09-09T16:29:19.153687Z",
     "iopub.status.idle": "2021-09-09T16:29:19.170155Z",
     "shell.execute_reply": "2021-09-09T16:29:19.167948Z",
     "shell.execute_reply.started": "2021-09-09T16:29:19.154534Z"
    }
   },
   "outputs": [
    {
     "data": {
      "text/plain": [
       "(30, 35)"
      ]
     },
     "execution_count": 8,
     "metadata": {},
     "output_type": "execute_result"
    }
   ],
   "source": [
    "# Mida de la mostra\n",
    "systematic_sample.shape"
   ]
  },
  {
   "cell_type": "code",
   "execution_count": 9,
   "metadata": {
    "execution": {
     "iopub.execute_input": "2021-09-09T16:29:19.181011Z",
     "iopub.status.busy": "2021-09-09T16:29:19.179985Z",
     "iopub.status.idle": "2021-09-09T16:29:19.195564Z",
     "shell.execute_reply": "2021-09-09T16:29:19.193336Z",
     "shell.execute_reply.started": "2021-09-09T16:29:19.180965Z"
    }
   },
   "outputs": [
    {
     "data": {
      "text/plain": [
       "(591, 35)"
      ]
     },
     "execution_count": 9,
     "metadata": {},
     "output_type": "execute_result"
    }
   ],
   "source": [
    "# Mida del df original\n",
    "df.shape"
   ]
  },
  {
   "cell_type": "markdown",
   "metadata": {},
   "source": [
    "# Exercici 2 \n",
    "\n",
    "Continua amb el conjunt de dades de tema esportiu i genera una mostra estratificada i una mostra utilitzant SMOTE (Synthetic Minority Oversampling Technique)."
   ]
  },
  {
   "cell_type": "markdown",
   "metadata": {},
   "source": [
    "### Mostra estratificada\n",
    "Com que el df està molt desequilibrat pel que fa al génere dels escaladors, hem generat una mostra que representa aquest desequilibri."
   ]
  },
  {
   "cell_type": "code",
   "execution_count": 10,
   "metadata": {
    "execution": {
     "iopub.execute_input": "2021-09-09T16:29:19.199317Z",
     "iopub.status.busy": "2021-09-09T16:29:19.198734Z",
     "iopub.status.idle": "2021-09-09T16:29:19.351894Z",
     "shell.execute_reply": "2021-09-09T16:29:19.345442Z",
     "shell.execute_reply.started": "2021-09-09T16:29:19.199255Z"
    }
   },
   "outputs": [
    {
     "data": {
      "text/plain": [
       "Male      0.869712\n",
       "Female    0.130288\n",
       "Name: Sex, dtype: float64"
      ]
     },
     "execution_count": 10,
     "metadata": {},
     "output_type": "execute_result"
    }
   ],
   "source": [
    "df['Sex'].value_counts(normalize=True)"
   ]
  },
  {
   "cell_type": "code",
   "execution_count": 11,
   "metadata": {
    "execution": {
     "iopub.execute_input": "2021-09-09T16:29:19.368056Z",
     "iopub.status.busy": "2021-09-09T16:29:19.367132Z",
     "iopub.status.idle": "2021-09-09T16:29:19.400082Z",
     "shell.execute_reply": "2021-09-09T16:29:19.394615Z",
     "shell.execute_reply.started": "2021-09-09T16:29:19.367985Z"
    }
   },
   "outputs": [],
   "source": [
    "# Amb la y decidim quina columna volem estratificar i amb test_size la mida de la mostra\n",
    "X = df\n",
    "y = df['Sex']"
   ]
  },
  {
   "cell_type": "code",
   "execution_count": 12,
   "metadata": {
    "execution": {
     "iopub.execute_input": "2021-09-09T16:29:19.417100Z",
     "iopub.status.busy": "2021-09-09T16:29:19.415777Z",
     "iopub.status.idle": "2021-09-09T16:29:21.624772Z",
     "shell.execute_reply": "2021-09-09T16:29:21.620272Z",
     "shell.execute_reply.started": "2021-09-09T16:29:19.417025Z"
    }
   },
   "outputs": [],
   "source": [
    "from sklearn.model_selection import train_test_split\n",
    "\n",
    "X_train, X_test, y_train, y_test = train_test_split(X, y,\n",
    "                                                    stratify=y, \n",
    "                                                    test_size=0.05)"
   ]
  },
  {
   "cell_type": "code",
   "execution_count": 13,
   "metadata": {
    "execution": {
     "iopub.execute_input": "2021-09-09T16:29:21.637007Z",
     "iopub.status.busy": "2021-09-09T16:29:21.635423Z",
     "iopub.status.idle": "2021-09-09T16:29:21.683825Z",
     "shell.execute_reply": "2021-09-09T16:29:21.681237Z",
     "shell.execute_reply.started": "2021-09-09T16:29:21.636935Z"
    }
   },
   "outputs": [
    {
     "data": {
      "text/plain": [
       "Male      0.866667\n",
       "Female    0.133333\n",
       "Name: Sex, dtype: float64"
      ]
     },
     "execution_count": 13,
     "metadata": {},
     "output_type": "execute_result"
    }
   ],
   "source": [
    "# X_test és la nostra mostra estratificada\n",
    "X_test['Sex'].value_counts(normalize=True)"
   ]
  },
  {
   "cell_type": "markdown",
   "metadata": {},
   "source": [
    "### Mostra SMOTE"
   ]
  },
  {
   "cell_type": "markdown",
   "metadata": {},
   "source": [
    "#### Canviem el nom de les columnes per fer la manipulació més fàcilment"
   ]
  },
  {
   "cell_type": "code",
   "execution_count": 14,
   "metadata": {
    "execution": {
     "iopub.execute_input": "2021-09-09T16:29:21.691829Z",
     "iopub.status.busy": "2021-09-09T16:29:21.689448Z",
     "iopub.status.idle": "2021-09-09T16:29:21.717634Z",
     "shell.execute_reply": "2021-09-09T16:29:21.714455Z",
     "shell.execute_reply.started": "2021-09-09T16:29:21.691772Z"
    }
   },
   "outputs": [],
   "source": [
    "df.columns = ['Timestamp', 'Sex', 'Height', 'Weight', 'Arm_span','Time_climbing', 'Indoor_vs_outdoor',\n",
    "              'Hardest_V_Grade_ever','Hardest_V_Grade_last3months','V_Grade_sent_90perc_routes',\n",
    "              'Hardest_Ewbank_Grade_ever','Hardest_Ewbank_Grade_last3months','Ewbank_Grade_sent_90perc_routes',\n",
    "              'Freq_climbing_sessions_w','Avg_hours_climbing_w','Avg_hours_training_for_climbing_w',\n",
    "              'Freq_Hangboard_w', 'Hangboard_grips_used','Style_Hangboard','Max_Weight_Hangboard_18mm_Half_crimp',\n",
    "              'Max_Weight_Hangboard_18mm_Open_crimp','Min_Edge_mm,kg_Half_crimp','Min_Edge_mm,kg_Open_crimp',\n",
    "              'Freq_CampusBoard_w', 'Time_CampusBoard_h','Freq_Endurance_session_w','Endurance_training', \n",
    "              'Freq_General_Strength_Training_w','Time_General_Strength_Training_h','Type_StrengthTraining', \n",
    "              'Other_activities','Max_PullUp_reps', 'Max_weighted_PullUps_5rep', 'Max_PushUp_reps',\n",
    "              'Max_L-sit_time']"
   ]
  },
  {
   "cell_type": "markdown",
   "metadata": {},
   "source": [
    "#### Convertim les columnes objecte a nombre"
   ]
  },
  {
   "cell_type": "code",
   "execution_count": 15,
   "metadata": {
    "execution": {
     "iopub.execute_input": "2021-09-09T16:29:21.727730Z",
     "iopub.status.busy": "2021-09-09T16:29:21.726600Z",
     "iopub.status.idle": "2021-09-09T16:29:21.765486Z",
     "shell.execute_reply": "2021-09-09T16:29:21.763626Z",
     "shell.execute_reply.started": "2021-09-09T16:29:21.727421Z"
    }
   },
   "outputs": [],
   "source": [
    "# Convertim columnes objecte a nombre\n",
    "df['Sex'] = df['Sex'].astype('category').cat.codes # 0 = Female, 1 = Male\n",
    "df.Height = pd.to_numeric(df.Height, errors='coerce')\n",
    "df.Weight = pd.to_numeric(df.Weight, errors='coerce')\n",
    "df.Arm_span = pd.to_numeric(df.Arm_span, errors='coerce')\n",
    "df.Hardest_Ewbank_Grade_ever = pd.to_numeric(df.Hardest_Ewbank_Grade_ever, errors='coerce')\n",
    "df.Hardest_Ewbank_Grade_last3months = pd.to_numeric(df.Hardest_Ewbank_Grade_last3months, errors='coerce')\n",
    "df.Ewbank_Grade_sent_90perc_routes = pd.to_numeric(df.Ewbank_Grade_sent_90perc_routes, errors='coerce')"
   ]
  },
  {
   "cell_type": "code",
   "execution_count": 16,
   "metadata": {
    "execution": {
     "iopub.execute_input": "2021-09-09T16:29:21.770213Z",
     "iopub.status.busy": "2021-09-09T16:29:21.769031Z",
     "iopub.status.idle": "2021-09-09T16:29:21.780474Z",
     "shell.execute_reply": "2021-09-09T16:29:21.777996Z",
     "shell.execute_reply.started": "2021-09-09T16:29:21.770146Z"
    }
   },
   "outputs": [],
   "source": [
    "def createTime(time):\n",
    "    start = time.find(\"- \") + len(\"- \")\n",
    "    end = time.find(\" years\")\n",
    "    substring = time[start:end]\n",
    "    return int(math.ceil(float(substring)))"
   ]
  },
  {
   "cell_type": "code",
   "execution_count": 17,
   "metadata": {
    "execution": {
     "iopub.execute_input": "2021-09-09T16:29:21.784453Z",
     "iopub.status.busy": "2021-09-09T16:29:21.782863Z",
     "iopub.status.idle": "2021-09-09T16:29:21.813222Z",
     "shell.execute_reply": "2021-09-09T16:29:21.805916Z",
     "shell.execute_reply.started": "2021-09-09T16:29:21.784376Z"
    }
   },
   "outputs": [],
   "source": [
    "df['Time_climbing'] = df['Time_climbing'].replace('More than 15 years', '- 15 years')\n",
    "df['Time_climbing'] = df['Time_climbing'].apply(lambda x: createTime(x))"
   ]
  },
  {
   "cell_type": "code",
   "execution_count": 18,
   "metadata": {
    "execution": {
     "iopub.execute_input": "2021-09-09T16:29:21.875760Z",
     "iopub.status.busy": "2021-09-09T16:29:21.874085Z",
     "iopub.status.idle": "2021-09-09T16:29:21.998368Z",
     "shell.execute_reply": "2021-09-09T16:29:21.995689Z",
     "shell.execute_reply.started": "2021-09-09T16:29:21.875689Z"
    }
   },
   "outputs": [
    {
     "name": "stdout",
     "output_type": "stream",
     "text": [
      "<class 'pandas.core.frame.DataFrame'>\n",
      "RangeIndex: 591 entries, 0 to 590\n",
      "Data columns (total 35 columns):\n",
      " #   Column                                Non-Null Count  Dtype  \n",
      "---  ------                                --------------  -----  \n",
      " 0   Timestamp                             591 non-null    object \n",
      " 1   Sex                                   591 non-null    int8   \n",
      " 2   Height                                588 non-null    float64\n",
      " 3   Weight                                583 non-null    float64\n",
      " 4   Arm_span                              563 non-null    float64\n",
      " 5   Time_climbing                         591 non-null    int64  \n",
      " 6   Indoor_vs_outdoor                     591 non-null    object \n",
      " 7   Hardest_V_Grade_ever                  591 non-null    object \n",
      " 8   Hardest_V_Grade_last3months           591 non-null    object \n",
      " 9   V_Grade_sent_90perc_routes            591 non-null    object \n",
      " 10  Hardest_Ewbank_Grade_ever             452 non-null    float64\n",
      " 11  Hardest_Ewbank_Grade_last3months      414 non-null    float64\n",
      " 12  Ewbank_Grade_sent_90perc_routes       440 non-null    float64\n",
      " 13  Freq_climbing_sessions_w              591 non-null    int64  \n",
      " 14  Avg_hours_climbing_w                  591 non-null    int64  \n",
      " 15  Avg_hours_training_for_climbing_w     591 non-null    int64  \n",
      " 16  Freq_Hangboard_w                      591 non-null    int64  \n",
      " 17  Hangboard_grips_used                  591 non-null    object \n",
      " 18  Style_Hangboard                       591 non-null    object \n",
      " 19  Max_Weight_Hangboard_18mm_Half_crimp  223 non-null    object \n",
      " 20  Max_Weight_Hangboard_18mm_Open_crimp  186 non-null    object \n",
      " 21  Min_Edge_mm,kg_Half_crimp             178 non-null    object \n",
      " 22  Min_Edge_mm,kg_Open_crimp             152 non-null    object \n",
      " 23  Freq_CampusBoard_w                    591 non-null    int64  \n",
      " 24  Time_CampusBoard_h                    591 non-null    int64  \n",
      " 25  Freq_Endurance_session_w              591 non-null    int64  \n",
      " 26  Endurance_training                    569 non-null    object \n",
      " 27  Freq_General_Strength_Training_w      591 non-null    int64  \n",
      " 28  Time_General_Strength_Training_h      591 non-null    int64  \n",
      " 29  Type_StrengthTraining                 591 non-null    object \n",
      " 30  Other_activities                      300 non-null    object \n",
      " 31  Max_PullUp_reps                       469 non-null    object \n",
      " 32  Max_weighted_PullUps_5rep             313 non-null    object \n",
      " 33  Max_PushUp_reps                       383 non-null    object \n",
      " 34  Max_L-sit_time                        243 non-null    object \n",
      "dtypes: float64(6), int64(10), int8(1), object(18)\n",
      "memory usage: 157.7+ KB\n"
     ]
    }
   ],
   "source": [
    "df.info()"
   ]
  },
  {
   "cell_type": "markdown",
   "metadata": {},
   "source": [
    "#### Seleccionem les columnes numèriques únicament"
   ]
  },
  {
   "cell_type": "code",
   "execution_count": 19,
   "metadata": {
    "execution": {
     "iopub.execute_input": "2021-09-09T16:29:22.005350Z",
     "iopub.status.busy": "2021-09-09T16:29:22.004810Z",
     "iopub.status.idle": "2021-09-09T16:29:22.240163Z",
     "shell.execute_reply": "2021-09-09T16:29:22.237601Z",
     "shell.execute_reply.started": "2021-09-09T16:29:22.005287Z"
    }
   },
   "outputs": [
    {
     "name": "stdout",
     "output_type": "stream",
     "text": [
      "(393, 17)\n",
      "1    0.86514\n",
      "0    0.13486\n",
      "Name: Sex, dtype: float64\n"
     ]
    }
   ],
   "source": [
    "df_no_object = df.select_dtypes(exclude=['object'])\n",
    "df_no_object = df_no_object.dropna()\n",
    "\n",
    "X = df_no_object\n",
    "y = df_no_object['Sex']\n",
    "\n",
    "print(X.shape)\n",
    "print(X.Sex.value_counts(normalize=True))"
   ]
  },
  {
   "cell_type": "code",
   "execution_count": 20,
   "metadata": {
    "execution": {
     "iopub.execute_input": "2021-09-09T16:29:22.260183Z",
     "iopub.status.busy": "2021-09-09T16:29:22.244748Z",
     "iopub.status.idle": "2021-09-09T16:29:23.767333Z",
     "shell.execute_reply": "2021-09-09T16:29:23.764005Z",
     "shell.execute_reply.started": "2021-09-09T16:29:22.260118Z"
    }
   },
   "outputs": [],
   "source": [
    "from imblearn.over_sampling import SMOTE\n",
    "\n",
    "oversample = SMOTE()\n",
    "X, y = oversample.fit_resample(X, y)"
   ]
  },
  {
   "cell_type": "markdown",
   "metadata": {},
   "source": [
    "#### Mostra equilibrada"
   ]
  },
  {
   "cell_type": "code",
   "execution_count": 21,
   "metadata": {
    "execution": {
     "iopub.execute_input": "2021-09-09T16:29:23.773073Z",
     "iopub.status.busy": "2021-09-09T16:29:23.772195Z",
     "iopub.status.idle": "2021-09-09T16:29:23.795726Z",
     "shell.execute_reply": "2021-09-09T16:29:23.794503Z",
     "shell.execute_reply.started": "2021-09-09T16:29:23.773020Z"
    }
   },
   "outputs": [
    {
     "name": "stdout",
     "output_type": "stream",
     "text": [
      "(680, 17)\n",
      "1    0.5\n",
      "0    0.5\n",
      "Name: Sex, dtype: float64\n"
     ]
    }
   ],
   "source": [
    "print(X.shape)\n",
    "print(X.Sex.value_counts(normalize=True))"
   ]
  },
  {
   "cell_type": "markdown",
   "metadata": {},
   "source": [
    "# Exercici 3\n",
    "Continua amb el conjunt de dades de tema esportiu i genera una mostra utilitzant el mètode Reservoir sampling."
   ]
  },
  {
   "cell_type": "markdown",
   "metadata": {},
   "source": [
    "### Mostra Reservoir Sampling"
   ]
  },
  {
   "cell_type": "code",
   "execution_count": 22,
   "metadata": {
    "execution": {
     "iopub.execute_input": "2021-09-09T16:29:23.799887Z",
     "iopub.status.busy": "2021-09-09T16:29:23.798831Z",
     "iopub.status.idle": "2021-09-09T16:29:23.828218Z",
     "shell.execute_reply": "2021-09-09T16:29:23.819405Z",
     "shell.execute_reply.started": "2021-09-09T16:29:23.799820Z"
    }
   },
   "outputs": [
    {
     "data": {
      "text/plain": [
       "[165, 180, 182, 18, 85, 432, 154, 461, 442, 515]"
      ]
     },
     "execution_count": 22,
     "metadata": {},
     "output_type": "execute_result"
    }
   ],
   "source": [
    "import random\n",
    "\n",
    "def generator(max):\n",
    "    number = 1\n",
    "    while number < max:\n",
    "        number += 1\n",
    "        yield number\n",
    "\n",
    "# K és igual al nombre de mostres que volem extraure del df\n",
    "k=10\n",
    "reservoir = []\n",
    "for i, element in enumerate(df.index):\n",
    "    if i+1<= k:\n",
    "        reservoir.append(element)\n",
    "    else:\n",
    "        probability = k/(i+1)\n",
    "        if random.random() < probability:\n",
    "             reservoir[random.choice(range(0,k))] = element\n",
    "reservoir"
   ]
  },
  {
   "cell_type": "code",
   "execution_count": 23,
   "metadata": {
    "execution": {
     "iopub.execute_input": "2021-09-09T16:29:23.848097Z",
     "iopub.status.busy": "2021-09-09T16:29:23.837230Z",
     "iopub.status.idle": "2021-09-09T16:29:23.869558Z",
     "shell.execute_reply": "2021-09-09T16:29:23.865781Z",
     "shell.execute_reply.started": "2021-09-09T16:29:23.848021Z"
    }
   },
   "outputs": [],
   "source": [
    "mostra_reservoir = df.loc[reservoir]"
   ]
  },
  {
   "cell_type": "code",
   "execution_count": 24,
   "metadata": {
    "execution": {
     "iopub.execute_input": "2021-09-09T16:29:23.878117Z",
     "iopub.status.busy": "2021-09-09T16:29:23.876586Z",
     "iopub.status.idle": "2021-09-09T16:29:23.963078Z",
     "shell.execute_reply": "2021-09-09T16:29:23.961595Z",
     "shell.execute_reply.started": "2021-09-09T16:29:23.877589Z"
    }
   },
   "outputs": [
    {
     "data": {
      "text/html": [
       "<div>\n",
       "<style scoped>\n",
       "    .dataframe tbody tr th:only-of-type {\n",
       "        vertical-align: middle;\n",
       "    }\n",
       "\n",
       "    .dataframe tbody tr th {\n",
       "        vertical-align: top;\n",
       "    }\n",
       "\n",
       "    .dataframe thead th {\n",
       "        text-align: right;\n",
       "    }\n",
       "</style>\n",
       "<table border=\"1\" class=\"dataframe\">\n",
       "  <thead>\n",
       "    <tr style=\"text-align: right;\">\n",
       "      <th></th>\n",
       "      <th>Timestamp</th>\n",
       "      <th>Sex</th>\n",
       "      <th>Height</th>\n",
       "      <th>Weight</th>\n",
       "      <th>Arm_span</th>\n",
       "      <th>Time_climbing</th>\n",
       "      <th>Indoor_vs_outdoor</th>\n",
       "      <th>Hardest_V_Grade_ever</th>\n",
       "      <th>Hardest_V_Grade_last3months</th>\n",
       "      <th>V_Grade_sent_90perc_routes</th>\n",
       "      <th>...</th>\n",
       "      <th>Freq_Endurance_session_w</th>\n",
       "      <th>Endurance_training</th>\n",
       "      <th>Freq_General_Strength_Training_w</th>\n",
       "      <th>Time_General_Strength_Training_h</th>\n",
       "      <th>Type_StrengthTraining</th>\n",
       "      <th>Other_activities</th>\n",
       "      <th>Max_PullUp_reps</th>\n",
       "      <th>Max_weighted_PullUps_5rep</th>\n",
       "      <th>Max_PushUp_reps</th>\n",
       "      <th>Max_L-sit_time</th>\n",
       "    </tr>\n",
       "  </thead>\n",
       "  <tbody>\n",
       "    <tr>\n",
       "      <th>165</th>\n",
       "      <td>31/01/2017 02:06:32</td>\n",
       "      <td>1</td>\n",
       "      <td>192.0</td>\n",
       "      <td>78.00</td>\n",
       "      <td>193.0</td>\n",
       "      <td>2</td>\n",
       "      <td>Indoor Climbing only</td>\n",
       "      <td>V4</td>\n",
       "      <td>V4</td>\n",
       "      <td>V3</td>\n",
       "      <td>...</td>\n",
       "      <td>0</td>\n",
       "      <td>I don't train for endurance</td>\n",
       "      <td>0</td>\n",
       "      <td>0</td>\n",
       "      <td>No other strength training</td>\n",
       "      <td>bike, run</td>\n",
       "      <td>8</td>\n",
       "      <td>15</td>\n",
       "      <td>10</td>\n",
       "      <td>15</td>\n",
       "    </tr>\n",
       "    <tr>\n",
       "      <th>180</th>\n",
       "      <td>31/01/2017 05:31:16</td>\n",
       "      <td>1</td>\n",
       "      <td>188.0</td>\n",
       "      <td>70.00</td>\n",
       "      <td>180.0</td>\n",
       "      <td>3</td>\n",
       "      <td>Indoor and outdoor climbing</td>\n",
       "      <td>V8</td>\n",
       "      <td>V8</td>\n",
       "      <td>V5</td>\n",
       "      <td>...</td>\n",
       "      <td>0</td>\n",
       "      <td>I don't train for endurance</td>\n",
       "      <td>0</td>\n",
       "      <td>0</td>\n",
       "      <td>No other strength training</td>\n",
       "      <td>NaN</td>\n",
       "      <td>NaN</td>\n",
       "      <td>NaN</td>\n",
       "      <td>NaN</td>\n",
       "      <td>NaN</td>\n",
       "    </tr>\n",
       "    <tr>\n",
       "      <th>182</th>\n",
       "      <td>31/01/2017 06:31:52</td>\n",
       "      <td>1</td>\n",
       "      <td>165.0</td>\n",
       "      <td>60.70</td>\n",
       "      <td>163.0</td>\n",
       "      <td>1</td>\n",
       "      <td>Indoor and outdoor climbing</td>\n",
       "      <td>V7</td>\n",
       "      <td>V7</td>\n",
       "      <td>V5</td>\n",
       "      <td>...</td>\n",
       "      <td>1</td>\n",
       "      <td>4x4, hangboard repeater protocols</td>\n",
       "      <td>3</td>\n",
       "      <td>6</td>\n",
       "      <td>Antagonists, Legs, Core, Upper body pulling, U...</td>\n",
       "      <td>NaN</td>\n",
       "      <td>21</td>\n",
       "      <td>+20 kilo</td>\n",
       "      <td>No clue</td>\n",
       "      <td>No clue</td>\n",
       "    </tr>\n",
       "    <tr>\n",
       "      <th>18</th>\n",
       "      <td>30/01/2017 00:38:22</td>\n",
       "      <td>1</td>\n",
       "      <td>176.0</td>\n",
       "      <td>60.00</td>\n",
       "      <td>177.0</td>\n",
       "      <td>3</td>\n",
       "      <td>Indoor and outdoor climbing</td>\n",
       "      <td>V7</td>\n",
       "      <td>V7</td>\n",
       "      <td>V5</td>\n",
       "      <td>...</td>\n",
       "      <td>0</td>\n",
       "      <td>Laps of routes, ARC</td>\n",
       "      <td>1</td>\n",
       "      <td>1</td>\n",
       "      <td>Antagonists, Core, Upper body pushing</td>\n",
       "      <td>Calisthenics (or is this strength training?)</td>\n",
       "      <td>10</td>\n",
       "      <td>-</td>\n",
       "      <td>30</td>\n",
       "      <td>30 - one foot off.</td>\n",
       "    </tr>\n",
       "    <tr>\n",
       "      <th>85</th>\n",
       "      <td>30/01/2017 10:40:11</td>\n",
       "      <td>1</td>\n",
       "      <td>184.0</td>\n",
       "      <td>78.00</td>\n",
       "      <td>184.0</td>\n",
       "      <td>5</td>\n",
       "      <td>Indoor and outdoor climbing</td>\n",
       "      <td>V11</td>\n",
       "      <td>V10</td>\n",
       "      <td>V8</td>\n",
       "      <td>...</td>\n",
       "      <td>1</td>\n",
       "      <td>I don't train for endurance</td>\n",
       "      <td>2</td>\n",
       "      <td>6</td>\n",
       "      <td>Antagonists, Legs, Core, Upper body pulling, U...</td>\n",
       "      <td>21h other sports (athletics, gymnastics, volle...</td>\n",
       "      <td>15-20</td>\n",
       "      <td>30+kg</td>\n",
       "      <td>50</td>\n",
       "      <td>NaN</td>\n",
       "    </tr>\n",
       "    <tr>\n",
       "      <th>432</th>\n",
       "      <td>10/12/2018 10:11:26</td>\n",
       "      <td>1</td>\n",
       "      <td>179.0</td>\n",
       "      <td>66.22</td>\n",
       "      <td>179.0</td>\n",
       "      <td>4</td>\n",
       "      <td>Indoor Climbing only</td>\n",
       "      <td>V8</td>\n",
       "      <td>V8</td>\n",
       "      <td>V5</td>\n",
       "      <td>...</td>\n",
       "      <td>1</td>\n",
       "      <td>hangboard repeater protocols, Max moves, ARC, ...</td>\n",
       "      <td>1</td>\n",
       "      <td>2</td>\n",
       "      <td>Core, Upper body pulling</td>\n",
       "      <td>Yoga</td>\n",
       "      <td>22</td>\n",
       "      <td>NaN</td>\n",
       "      <td>50</td>\n",
       "      <td>NaN</td>\n",
       "    </tr>\n",
       "    <tr>\n",
       "      <th>154</th>\n",
       "      <td>30/01/2017 22:49:28</td>\n",
       "      <td>0</td>\n",
       "      <td>154.0</td>\n",
       "      <td>50.00</td>\n",
       "      <td>159.0</td>\n",
       "      <td>1</td>\n",
       "      <td>Indoor Climbing only</td>\n",
       "      <td>V1</td>\n",
       "      <td>V1</td>\n",
       "      <td>V0</td>\n",
       "      <td>...</td>\n",
       "      <td>0</td>\n",
       "      <td>I don't train for endurance</td>\n",
       "      <td>2</td>\n",
       "      <td>2</td>\n",
       "      <td>Antagonists, Legs, Upper body pulling, Upper b...</td>\n",
       "      <td>Yoga twice a week</td>\n",
       "      <td>NaN</td>\n",
       "      <td>NaN</td>\n",
       "      <td>NaN</td>\n",
       "      <td>NaN</td>\n",
       "    </tr>\n",
       "    <tr>\n",
       "      <th>461</th>\n",
       "      <td>27/04/2019 03:01:06</td>\n",
       "      <td>1</td>\n",
       "      <td>180.0</td>\n",
       "      <td>165.00</td>\n",
       "      <td>180.0</td>\n",
       "      <td>4</td>\n",
       "      <td>Indoor and outdoor climbing</td>\n",
       "      <td>V8</td>\n",
       "      <td>V7</td>\n",
       "      <td>V5</td>\n",
       "      <td>...</td>\n",
       "      <td>2</td>\n",
       "      <td>4x4, ARC</td>\n",
       "      <td>5</td>\n",
       "      <td>2</td>\n",
       "      <td>Core</td>\n",
       "      <td>ski</td>\n",
       "      <td>25</td>\n",
       "      <td>+70 lbs</td>\n",
       "      <td>50</td>\n",
       "      <td>NaN</td>\n",
       "    </tr>\n",
       "    <tr>\n",
       "      <th>442</th>\n",
       "      <td>11/12/2018 09:20:10</td>\n",
       "      <td>1</td>\n",
       "      <td>167.0</td>\n",
       "      <td>62.50</td>\n",
       "      <td>172.0</td>\n",
       "      <td>2</td>\n",
       "      <td>Indoor and outdoor climbing</td>\n",
       "      <td>V7</td>\n",
       "      <td>V6</td>\n",
       "      <td>V4</td>\n",
       "      <td>...</td>\n",
       "      <td>0</td>\n",
       "      <td>I don't train for endurance</td>\n",
       "      <td>0</td>\n",
       "      <td>0</td>\n",
       "      <td>No other strength training</td>\n",
       "      <td>NaN</td>\n",
       "      <td>25</td>\n",
       "      <td>15kg</td>\n",
       "      <td>20</td>\n",
       "      <td>5 seconds</td>\n",
       "    </tr>\n",
       "    <tr>\n",
       "      <th>515</th>\n",
       "      <td>16/10/2019 22:58:13</td>\n",
       "      <td>1</td>\n",
       "      <td>189.0</td>\n",
       "      <td>75.00</td>\n",
       "      <td>189.0</td>\n",
       "      <td>1</td>\n",
       "      <td>Indoor and outdoor climbing</td>\n",
       "      <td>V5</td>\n",
       "      <td>V5</td>\n",
       "      <td>V2</td>\n",
       "      <td>...</td>\n",
       "      <td>0</td>\n",
       "      <td>I don't train for endurance</td>\n",
       "      <td>2</td>\n",
       "      <td>2</td>\n",
       "      <td>Core, Upper body pulling</td>\n",
       "      <td>NaN</td>\n",
       "      <td>NaN</td>\n",
       "      <td>NaN</td>\n",
       "      <td>30</td>\n",
       "      <td>NaN</td>\n",
       "    </tr>\n",
       "  </tbody>\n",
       "</table>\n",
       "<p>10 rows × 35 columns</p>\n",
       "</div>"
      ],
      "text/plain": [
       "               Timestamp  Sex  Height  Weight  Arm_span  Time_climbing  \\\n",
       "165  31/01/2017 02:06:32    1   192.0   78.00     193.0              2   \n",
       "180  31/01/2017 05:31:16    1   188.0   70.00     180.0              3   \n",
       "182  31/01/2017 06:31:52    1   165.0   60.70     163.0              1   \n",
       "18   30/01/2017 00:38:22    1   176.0   60.00     177.0              3   \n",
       "85   30/01/2017 10:40:11    1   184.0   78.00     184.0              5   \n",
       "432  10/12/2018 10:11:26    1   179.0   66.22     179.0              4   \n",
       "154  30/01/2017 22:49:28    0   154.0   50.00     159.0              1   \n",
       "461  27/04/2019 03:01:06    1   180.0  165.00     180.0              4   \n",
       "442  11/12/2018 09:20:10    1   167.0   62.50     172.0              2   \n",
       "515  16/10/2019 22:58:13    1   189.0   75.00     189.0              1   \n",
       "\n",
       "               Indoor_vs_outdoor Hardest_V_Grade_ever  \\\n",
       "165         Indoor Climbing only                   V4   \n",
       "180  Indoor and outdoor climbing                   V8   \n",
       "182  Indoor and outdoor climbing                   V7   \n",
       "18   Indoor and outdoor climbing                   V7   \n",
       "85   Indoor and outdoor climbing                  V11   \n",
       "432         Indoor Climbing only                   V8   \n",
       "154         Indoor Climbing only                   V1   \n",
       "461  Indoor and outdoor climbing                   V8   \n",
       "442  Indoor and outdoor climbing                   V7   \n",
       "515  Indoor and outdoor climbing                   V5   \n",
       "\n",
       "    Hardest_V_Grade_last3months V_Grade_sent_90perc_routes  ...  \\\n",
       "165                          V4                         V3  ...   \n",
       "180                          V8                         V5  ...   \n",
       "182                          V7                         V5  ...   \n",
       "18                           V7                         V5  ...   \n",
       "85                          V10                         V8  ...   \n",
       "432                          V8                         V5  ...   \n",
       "154                          V1                         V0  ...   \n",
       "461                          V7                         V5  ...   \n",
       "442                          V6                         V4  ...   \n",
       "515                          V5                         V2  ...   \n",
       "\n",
       "     Freq_Endurance_session_w  \\\n",
       "165                         0   \n",
       "180                         0   \n",
       "182                         1   \n",
       "18                          0   \n",
       "85                          1   \n",
       "432                         1   \n",
       "154                         0   \n",
       "461                         2   \n",
       "442                         0   \n",
       "515                         0   \n",
       "\n",
       "                                    Endurance_training  \\\n",
       "165                        I don't train for endurance   \n",
       "180                        I don't train for endurance   \n",
       "182                  4x4, hangboard repeater protocols   \n",
       "18                                 Laps of routes, ARC   \n",
       "85                         I don't train for endurance   \n",
       "432  hangboard repeater protocols, Max moves, ARC, ...   \n",
       "154                        I don't train for endurance   \n",
       "461                                           4x4, ARC   \n",
       "442                        I don't train for endurance   \n",
       "515                        I don't train for endurance   \n",
       "\n",
       "     Freq_General_Strength_Training_w  Time_General_Strength_Training_h  \\\n",
       "165                                 0                                 0   \n",
       "180                                 0                                 0   \n",
       "182                                 3                                 6   \n",
       "18                                  1                                 1   \n",
       "85                                  2                                 6   \n",
       "432                                 1                                 2   \n",
       "154                                 2                                 2   \n",
       "461                                 5                                 2   \n",
       "442                                 0                                 0   \n",
       "515                                 2                                 2   \n",
       "\n",
       "                                 Type_StrengthTraining  \\\n",
       "165                         No other strength training   \n",
       "180                         No other strength training   \n",
       "182  Antagonists, Legs, Core, Upper body pulling, U...   \n",
       "18               Antagonists, Core, Upper body pushing   \n",
       "85   Antagonists, Legs, Core, Upper body pulling, U...   \n",
       "432                           Core, Upper body pulling   \n",
       "154  Antagonists, Legs, Upper body pulling, Upper b...   \n",
       "461                                               Core   \n",
       "442                         No other strength training   \n",
       "515                           Core, Upper body pulling   \n",
       "\n",
       "                                      Other_activities  Max_PullUp_reps  \\\n",
       "165                                          bike, run                8   \n",
       "180                                                NaN              NaN   \n",
       "182                                                NaN               21   \n",
       "18        Calisthenics (or is this strength training?)               10   \n",
       "85   21h other sports (athletics, gymnastics, volle...            15-20   \n",
       "432                                               Yoga               22   \n",
       "154                                  Yoga twice a week              NaN   \n",
       "461                                                ski               25   \n",
       "442                                                NaN               25   \n",
       "515                                                NaN              NaN   \n",
       "\n",
       "    Max_weighted_PullUps_5rep Max_PushUp_reps      Max_L-sit_time  \n",
       "165                        15              10                  15  \n",
       "180                       NaN             NaN                 NaN  \n",
       "182                  +20 kilo         No clue             No clue  \n",
       "18                          -              30  30 - one foot off.  \n",
       "85                      30+kg              50                 NaN  \n",
       "432                       NaN              50                 NaN  \n",
       "154                       NaN             NaN                 NaN  \n",
       "461                   +70 lbs              50                 NaN  \n",
       "442                      15kg              20           5 seconds  \n",
       "515                       NaN              30                 NaN  \n",
       "\n",
       "[10 rows x 35 columns]"
      ]
     },
     "execution_count": 24,
     "metadata": {},
     "output_type": "execute_result"
    }
   ],
   "source": [
    "mostra_reservoir"
   ]
  }
 ],
 "metadata": {
  "kernelspec": {
   "display_name": "Python 3",
   "language": "python",
   "name": "python3"
  },
  "language_info": {
   "codemirror_mode": {
    "name": "ipython",
    "version": 3
   },
   "file_extension": ".py",
   "mimetype": "text/x-python",
   "name": "python",
   "nbconvert_exporter": "python",
   "pygments_lexer": "ipython3",
   "version": "3.8.5"
  }
 },
 "nbformat": 4,
 "nbformat_minor": 4
}
