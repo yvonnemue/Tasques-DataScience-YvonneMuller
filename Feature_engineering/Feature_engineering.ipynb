{
 "cells": [
  {
   "cell_type": "markdown",
   "metadata": {},
   "source": [
    "## Exercici 1\n",
    "Agafa un conjunt de dades de tema esportiu que t'agradi i normalitza els atributs categòrics en dummy. Estandaritza els atributs numèrics amb StandardScaler."
   ]
  },
  {
   "cell_type": "code",
   "execution_count": 1,
   "metadata": {
    "execution": {
     "iopub.execute_input": "2021-10-06T15:07:06.122142Z",
     "iopub.status.busy": "2021-10-06T15:07:06.121167Z",
     "iopub.status.idle": "2021-10-06T15:07:09.298174Z",
     "shell.execute_reply": "2021-10-06T15:07:09.296406Z",
     "shell.execute_reply.started": "2021-10-06T15:07:06.121935Z"
    }
   },
   "outputs": [],
   "source": [
    "import pandas as pd\n",
    "import numpy as np\n",
    "import matplotlib.pyplot as plt\n",
    "import seaborn as sns\n",
    "import math"
   ]
  },
  {
   "cell_type": "code",
   "execution_count": 2,
   "metadata": {
    "execution": {
     "iopub.execute_input": "2021-10-06T15:07:09.302131Z",
     "iopub.status.busy": "2021-10-06T15:07:09.301555Z",
     "iopub.status.idle": "2021-10-06T15:07:09.933256Z",
     "shell.execute_reply": "2021-10-06T15:07:09.931518Z",
     "shell.execute_reply.started": "2021-10-06T15:07:09.302062Z"
    }
   },
   "outputs": [],
   "source": [
    "df = pd.read_csv(\"athlete_events.csv\", sep=\";\")"
   ]
  },
  {
   "cell_type": "code",
   "execution_count": 3,
   "metadata": {
    "execution": {
     "iopub.execute_input": "2021-10-06T15:07:10.025533Z",
     "iopub.status.busy": "2021-10-06T15:07:10.010288Z",
     "iopub.status.idle": "2021-10-06T15:07:10.130006Z",
     "shell.execute_reply": "2021-10-06T15:07:10.128531Z",
     "shell.execute_reply.started": "2021-10-06T15:07:10.025457Z"
    }
   },
   "outputs": [
    {
     "data": {
      "text/html": [
       "<div>\n",
       "<style scoped>\n",
       "    .dataframe tbody tr th:only-of-type {\n",
       "        vertical-align: middle;\n",
       "    }\n",
       "\n",
       "    .dataframe tbody tr th {\n",
       "        vertical-align: top;\n",
       "    }\n",
       "\n",
       "    .dataframe thead th {\n",
       "        text-align: right;\n",
       "    }\n",
       "</style>\n",
       "<table border=\"1\" class=\"dataframe\">\n",
       "  <thead>\n",
       "    <tr style=\"text-align: right;\">\n",
       "      <th></th>\n",
       "      <th>ID</th>\n",
       "      <th>Name</th>\n",
       "      <th>Sex</th>\n",
       "      <th>Age</th>\n",
       "      <th>Height</th>\n",
       "      <th>Weight</th>\n",
       "      <th>Team</th>\n",
       "      <th>NOC</th>\n",
       "      <th>Games</th>\n",
       "      <th>City</th>\n",
       "      <th>Sport</th>\n",
       "    </tr>\n",
       "  </thead>\n",
       "  <tbody>\n",
       "    <tr>\n",
       "      <th>0</th>\n",
       "      <td>1</td>\n",
       "      <td>A Dijiang</td>\n",
       "      <td>M</td>\n",
       "      <td>24.0</td>\n",
       "      <td>180.0</td>\n",
       "      <td>80.0</td>\n",
       "      <td>China</td>\n",
       "      <td>CHN</td>\n",
       "      <td>1992 Summer</td>\n",
       "      <td>Barcelona</td>\n",
       "      <td>Basketball</td>\n",
       "    </tr>\n",
       "    <tr>\n",
       "      <th>1</th>\n",
       "      <td>2</td>\n",
       "      <td>A Lamusi</td>\n",
       "      <td>M</td>\n",
       "      <td>23.0</td>\n",
       "      <td>170.0</td>\n",
       "      <td>60.0</td>\n",
       "      <td>China</td>\n",
       "      <td>CHN</td>\n",
       "      <td>2012 Summer</td>\n",
       "      <td>London</td>\n",
       "      <td>Judo</td>\n",
       "    </tr>\n",
       "    <tr>\n",
       "      <th>2</th>\n",
       "      <td>3</td>\n",
       "      <td>Gunnar Nielsen Aaby</td>\n",
       "      <td>M</td>\n",
       "      <td>24.0</td>\n",
       "      <td>NaN</td>\n",
       "      <td>NaN</td>\n",
       "      <td>Denmark</td>\n",
       "      <td>DEN</td>\n",
       "      <td>1920 Summer</td>\n",
       "      <td>Antwerpen</td>\n",
       "      <td>Football</td>\n",
       "    </tr>\n",
       "    <tr>\n",
       "      <th>3</th>\n",
       "      <td>4</td>\n",
       "      <td>Edgar Lindenau Aabye</td>\n",
       "      <td>M</td>\n",
       "      <td>34.0</td>\n",
       "      <td>NaN</td>\n",
       "      <td>NaN</td>\n",
       "      <td>Denmark/Sweden</td>\n",
       "      <td>DEN</td>\n",
       "      <td>1900 Summer</td>\n",
       "      <td>Paris</td>\n",
       "      <td>Tug-Of-War</td>\n",
       "    </tr>\n",
       "    <tr>\n",
       "      <th>4</th>\n",
       "      <td>5</td>\n",
       "      <td>Christine Jacoba Aaftink</td>\n",
       "      <td>F</td>\n",
       "      <td>21.0</td>\n",
       "      <td>185.0</td>\n",
       "      <td>82.0</td>\n",
       "      <td>Netherlands</td>\n",
       "      <td>NED</td>\n",
       "      <td>1988 Winter</td>\n",
       "      <td>Calgary</td>\n",
       "      <td>Speed Skating</td>\n",
       "    </tr>\n",
       "    <tr>\n",
       "      <th>...</th>\n",
       "      <td>...</td>\n",
       "      <td>...</td>\n",
       "      <td>...</td>\n",
       "      <td>...</td>\n",
       "      <td>...</td>\n",
       "      <td>...</td>\n",
       "      <td>...</td>\n",
       "      <td>...</td>\n",
       "      <td>...</td>\n",
       "      <td>...</td>\n",
       "      <td>...</td>\n",
       "    </tr>\n",
       "    <tr>\n",
       "      <th>271111</th>\n",
       "      <td>135569</td>\n",
       "      <td>Andrzej ya</td>\n",
       "      <td>M</td>\n",
       "      <td>29.0</td>\n",
       "      <td>179.0</td>\n",
       "      <td>89.0</td>\n",
       "      <td>Poland-1</td>\n",
       "      <td>POL</td>\n",
       "      <td>1976 Winter</td>\n",
       "      <td>Innsbruck</td>\n",
       "      <td>Luge</td>\n",
       "    </tr>\n",
       "    <tr>\n",
       "      <th>271112</th>\n",
       "      <td>135570</td>\n",
       "      <td>Piotr ya</td>\n",
       "      <td>M</td>\n",
       "      <td>27.0</td>\n",
       "      <td>176.0</td>\n",
       "      <td>59.0</td>\n",
       "      <td>Poland</td>\n",
       "      <td>POL</td>\n",
       "      <td>2014 Winter</td>\n",
       "      <td>Sochi</td>\n",
       "      <td>Ski Jumping</td>\n",
       "    </tr>\n",
       "    <tr>\n",
       "      <th>271113</th>\n",
       "      <td>135570</td>\n",
       "      <td>Piotr ya</td>\n",
       "      <td>M</td>\n",
       "      <td>27.0</td>\n",
       "      <td>176.0</td>\n",
       "      <td>59.0</td>\n",
       "      <td>Poland</td>\n",
       "      <td>POL</td>\n",
       "      <td>2014 Winter</td>\n",
       "      <td>Sochi</td>\n",
       "      <td>Ski Jumping</td>\n",
       "    </tr>\n",
       "    <tr>\n",
       "      <th>271114</th>\n",
       "      <td>135571</td>\n",
       "      <td>Tomasz Ireneusz ya</td>\n",
       "      <td>M</td>\n",
       "      <td>30.0</td>\n",
       "      <td>185.0</td>\n",
       "      <td>96.0</td>\n",
       "      <td>Poland</td>\n",
       "      <td>POL</td>\n",
       "      <td>1998 Winter</td>\n",
       "      <td>Nagano</td>\n",
       "      <td>Bobsleigh</td>\n",
       "    </tr>\n",
       "    <tr>\n",
       "      <th>271115</th>\n",
       "      <td>135571</td>\n",
       "      <td>Tomasz Ireneusz ya</td>\n",
       "      <td>M</td>\n",
       "      <td>34.0</td>\n",
       "      <td>185.0</td>\n",
       "      <td>96.0</td>\n",
       "      <td>Poland</td>\n",
       "      <td>POL</td>\n",
       "      <td>2002 Winter</td>\n",
       "      <td>Salt Lake City</td>\n",
       "      <td>Bobsleigh</td>\n",
       "    </tr>\n",
       "  </tbody>\n",
       "</table>\n",
       "<p>271116 rows × 11 columns</p>\n",
       "</div>"
      ],
      "text/plain": [
       "            ID                      Name Sex   Age  Height  Weight  \\\n",
       "0            1                 A Dijiang   M  24.0   180.0    80.0   \n",
       "1            2                  A Lamusi   M  23.0   170.0    60.0   \n",
       "2            3       Gunnar Nielsen Aaby   M  24.0     NaN     NaN   \n",
       "3            4      Edgar Lindenau Aabye   M  34.0     NaN     NaN   \n",
       "4            5  Christine Jacoba Aaftink   F  21.0   185.0    82.0   \n",
       "...        ...                       ...  ..   ...     ...     ...   \n",
       "271111  135569                Andrzej ya   M  29.0   179.0    89.0   \n",
       "271112  135570                  Piotr ya   M  27.0   176.0    59.0   \n",
       "271113  135570                  Piotr ya   M  27.0   176.0    59.0   \n",
       "271114  135571        Tomasz Ireneusz ya   M  30.0   185.0    96.0   \n",
       "271115  135571        Tomasz Ireneusz ya   M  34.0   185.0    96.0   \n",
       "\n",
       "                  Team  NOC        Games            City          Sport  \n",
       "0                China  CHN  1992 Summer       Barcelona     Basketball  \n",
       "1                China  CHN  2012 Summer          London           Judo  \n",
       "2              Denmark  DEN  1920 Summer       Antwerpen       Football  \n",
       "3       Denmark/Sweden  DEN  1900 Summer           Paris     Tug-Of-War  \n",
       "4          Netherlands  NED  1988 Winter         Calgary  Speed Skating  \n",
       "...                ...  ...          ...             ...            ...  \n",
       "271111        Poland-1  POL  1976 Winter       Innsbruck           Luge  \n",
       "271112          Poland  POL  2014 Winter           Sochi    Ski Jumping  \n",
       "271113          Poland  POL  2014 Winter           Sochi    Ski Jumping  \n",
       "271114          Poland  POL  1998 Winter          Nagano      Bobsleigh  \n",
       "271115          Poland  POL  2002 Winter  Salt Lake City      Bobsleigh  \n",
       "\n",
       "[271116 rows x 11 columns]"
      ]
     },
     "execution_count": 3,
     "metadata": {},
     "output_type": "execute_result"
    }
   ],
   "source": [
    "df"
   ]
  },
  {
   "cell_type": "code",
   "execution_count": 4,
   "metadata": {
    "execution": {
     "iopub.execute_input": "2021-10-06T15:07:10.157635Z",
     "iopub.status.busy": "2021-10-06T15:07:10.132679Z",
     "iopub.status.idle": "2021-10-06T15:07:10.440833Z",
     "shell.execute_reply": "2021-10-06T15:07:10.437308Z",
     "shell.execute_reply.started": "2021-10-06T15:07:10.157551Z"
    }
   },
   "outputs": [
    {
     "name": "stdout",
     "output_type": "stream",
     "text": [
      "<class 'pandas.core.frame.DataFrame'>\n",
      "RangeIndex: 271116 entries, 0 to 271115\n",
      "Data columns (total 11 columns):\n",
      " #   Column  Non-Null Count   Dtype  \n",
      "---  ------  --------------   -----  \n",
      " 0   ID      271116 non-null  int64  \n",
      " 1   Name    271116 non-null  object \n",
      " 2   Sex     271116 non-null  object \n",
      " 3   Age     261642 non-null  float64\n",
      " 4   Height  210945 non-null  float64\n",
      " 5   Weight  208241 non-null  float64\n",
      " 6   Team    271116 non-null  object \n",
      " 7   NOC     271116 non-null  object \n",
      " 8   Games   271116 non-null  object \n",
      " 9   City    271116 non-null  object \n",
      " 10  Sport   271116 non-null  object \n",
      "dtypes: float64(3), int64(1), object(7)\n",
      "memory usage: 22.8+ MB\n"
     ]
    }
   ],
   "source": [
    "df.info()"
   ]
  },
  {
   "cell_type": "code",
   "execution_count": 5,
   "metadata": {
    "execution": {
     "iopub.execute_input": "2021-10-06T15:07:10.443872Z",
     "iopub.status.busy": "2021-10-06T15:07:10.443362Z",
     "iopub.status.idle": "2021-10-06T15:07:10.903933Z",
     "shell.execute_reply": "2021-10-06T15:07:10.900665Z",
     "shell.execute_reply.started": "2021-10-06T15:07:10.443830Z"
    }
   },
   "outputs": [],
   "source": [
    "# Drop duplicates\n",
    "df = df.drop_duplicates()"
   ]
  },
  {
   "cell_type": "code",
   "execution_count": 6,
   "metadata": {
    "execution": {
     "iopub.execute_input": "2021-10-06T15:07:10.906513Z",
     "iopub.status.busy": "2021-10-06T15:07:10.906191Z",
     "iopub.status.idle": "2021-10-06T15:07:11.058309Z",
     "shell.execute_reply": "2021-10-06T15:07:11.051694Z",
     "shell.execute_reply.started": "2021-10-06T15:07:10.906480Z"
    }
   },
   "outputs": [
    {
     "name": "stdout",
     "output_type": "stream",
     "text": [
      "<class 'pandas.core.frame.DataFrame'>\n",
      "Int64Index: 189778 entries, 0 to 271115\n",
      "Data columns (total 11 columns):\n",
      " #   Column  Non-Null Count   Dtype  \n",
      "---  ------  --------------   -----  \n",
      " 0   ID      189778 non-null  int64  \n",
      " 1   Name    189778 non-null  object \n",
      " 2   Sex     189778 non-null  object \n",
      " 3   Age     182840 non-null  float64\n",
      " 4   Height  149750 non-null  float64\n",
      " 5   Weight  148289 non-null  float64\n",
      " 6   Team    189778 non-null  object \n",
      " 7   NOC     189778 non-null  object \n",
      " 8   Games   189778 non-null  object \n",
      " 9   City    189778 non-null  object \n",
      " 10  Sport   189778 non-null  object \n",
      "dtypes: float64(3), int64(1), object(7)\n",
      "memory usage: 17.4+ MB\n"
     ]
    }
   ],
   "source": [
    "df.info()"
   ]
  },
  {
   "cell_type": "code",
   "execution_count": 7,
   "metadata": {
    "execution": {
     "iopub.execute_input": "2021-10-06T15:07:11.060610Z",
     "iopub.status.busy": "2021-10-06T15:07:11.060177Z",
     "iopub.status.idle": "2021-10-06T15:07:11.260589Z",
     "shell.execute_reply": "2021-10-06T15:07:11.259380Z",
     "shell.execute_reply.started": "2021-10-06T15:07:11.060572Z"
    }
   },
   "outputs": [
    {
     "data": {
      "text/plain": [
       "ID            0\n",
       "Name          0\n",
       "Sex           0\n",
       "Age        6938\n",
       "Height    40028\n",
       "Weight    41489\n",
       "Team          0\n",
       "NOC           0\n",
       "Games         0\n",
       "City          0\n",
       "Sport         0\n",
       "dtype: int64"
      ]
     },
     "execution_count": 7,
     "metadata": {},
     "output_type": "execute_result"
    }
   ],
   "source": [
    "# Drop missing values. Per fer el PCA és important que no tinguem missing values\n",
    "df.isna().sum()"
   ]
  },
  {
   "cell_type": "code",
   "execution_count": 8,
   "metadata": {
    "execution": {
     "iopub.execute_input": "2021-10-06T15:07:11.296056Z",
     "iopub.status.busy": "2021-10-06T15:07:11.267324Z",
     "iopub.status.idle": "2021-10-06T15:07:11.488595Z",
     "shell.execute_reply": "2021-10-06T15:07:11.487191Z",
     "shell.execute_reply.started": "2021-10-06T15:07:11.295952Z"
    }
   },
   "outputs": [],
   "source": [
    "df = df.dropna()"
   ]
  },
  {
   "cell_type": "code",
   "execution_count": 9,
   "metadata": {
    "execution": {
     "iopub.execute_input": "2021-10-06T15:07:11.496745Z",
     "iopub.status.busy": "2021-10-06T15:07:11.493567Z",
     "iopub.status.idle": "2021-10-06T15:07:11.509942Z",
     "shell.execute_reply": "2021-10-06T15:07:11.508786Z",
     "shell.execute_reply.started": "2021-10-06T15:07:11.496672Z"
    }
   },
   "outputs": [
    {
     "data": {
      "text/plain": [
       "(146428, 11)"
      ]
     },
     "execution_count": 9,
     "metadata": {},
     "output_type": "execute_result"
    }
   ],
   "source": [
    "df.shape"
   ]
  },
  {
   "cell_type": "markdown",
   "metadata": {},
   "source": [
    "#### Dummies"
   ]
  },
  {
   "cell_type": "code",
   "execution_count": 10,
   "metadata": {
    "execution": {
     "iopub.execute_input": "2021-10-06T15:07:11.517166Z",
     "iopub.status.busy": "2021-10-06T15:07:11.516560Z",
     "iopub.status.idle": "2021-10-06T15:07:12.193411Z",
     "shell.execute_reply": "2021-10-06T15:07:12.190588Z",
     "shell.execute_reply.started": "2021-10-06T15:07:11.517131Z"
    }
   },
   "outputs": [],
   "source": [
    "# Fem get_dummies per a les variables categòriques excepte el nom de les atletes. Creem un df per a cada variable\n",
    "# Fem drop_first = True perque com Sex només adopta dues opcions, amb una columna binaria (0 o 1) ja recollim tota la informació.\n",
    "sex = pd.get_dummies(df['Sex'], drop_first=True)\n",
    "team = pd.get_dummies(df['Team'], drop_first=True)\n",
    "noc = pd.get_dummies(df['NOC'], drop_first=True)\n",
    "games = pd.get_dummies(df['Games'], drop_first=True)\n",
    "city = pd.get_dummies(df['City'], drop_first=True)\n",
    "sport = pd.get_dummies(df['Sport'], drop_first=True)"
   ]
  },
  {
   "cell_type": "code",
   "execution_count": 11,
   "metadata": {
    "execution": {
     "iopub.execute_input": "2021-10-06T15:07:12.196574Z",
     "iopub.status.busy": "2021-10-06T15:07:12.196177Z",
     "iopub.status.idle": "2021-10-06T15:07:12.226576Z",
     "shell.execute_reply": "2021-10-06T15:07:12.223821Z",
     "shell.execute_reply.started": "2021-10-06T15:07:12.196516Z"
    }
   },
   "outputs": [
    {
     "data": {
      "text/plain": [
       "pandas.core.frame.DataFrame"
      ]
     },
     "execution_count": 11,
     "metadata": {},
     "output_type": "execute_result"
    }
   ],
   "source": [
    "type(sex)"
   ]
  },
  {
   "cell_type": "code",
   "execution_count": 12,
   "metadata": {
    "execution": {
     "iopub.execute_input": "2021-10-06T15:07:12.229078Z",
     "iopub.status.busy": "2021-10-06T15:07:12.228657Z",
     "iopub.status.idle": "2021-10-06T15:07:14.756398Z",
     "shell.execute_reply": "2021-10-06T15:07:14.755246Z",
     "shell.execute_reply.started": "2021-10-06T15:07:12.229030Z"
    }
   },
   "outputs": [
    {
     "data": {
      "text/plain": [
       "(146428, 1031)"
      ]
     },
     "execution_count": 12,
     "metadata": {},
     "output_type": "execute_result"
    }
   ],
   "source": [
    "#Concatenem els df per crear un sol df amb les variables normalitzades\n",
    "dummies_df = pd.concat([sex, team, noc, games, city,sport], axis=1)\n",
    "dummies_df.shape"
   ]
  },
  {
   "cell_type": "markdown",
   "metadata": {},
   "source": [
    "#### Standard Scaler"
   ]
  },
  {
   "cell_type": "code",
   "execution_count": 13,
   "metadata": {
    "execution": {
     "iopub.execute_input": "2021-10-06T15:07:14.764032Z",
     "iopub.status.busy": "2021-10-06T15:07:14.762028Z",
     "iopub.status.idle": "2021-10-06T15:07:14.853945Z",
     "shell.execute_reply": "2021-10-06T15:07:14.850432Z",
     "shell.execute_reply.started": "2021-10-06T15:07:14.763965Z"
    }
   },
   "outputs": [
    {
     "data": {
      "text/html": [
       "<div>\n",
       "<style scoped>\n",
       "    .dataframe tbody tr th:only-of-type {\n",
       "        vertical-align: middle;\n",
       "    }\n",
       "\n",
       "    .dataframe tbody tr th {\n",
       "        vertical-align: top;\n",
       "    }\n",
       "\n",
       "    .dataframe thead th {\n",
       "        text-align: right;\n",
       "    }\n",
       "</style>\n",
       "<table border=\"1\" class=\"dataframe\">\n",
       "  <thead>\n",
       "    <tr style=\"text-align: right;\">\n",
       "      <th></th>\n",
       "      <th>Age</th>\n",
       "      <th>Height</th>\n",
       "      <th>Weight</th>\n",
       "    </tr>\n",
       "  </thead>\n",
       "  <tbody>\n",
       "    <tr>\n",
       "      <th>0</th>\n",
       "      <td>24.0</td>\n",
       "      <td>180.0</td>\n",
       "      <td>80.0</td>\n",
       "    </tr>\n",
       "    <tr>\n",
       "      <th>1</th>\n",
       "      <td>23.0</td>\n",
       "      <td>170.0</td>\n",
       "      <td>60.0</td>\n",
       "    </tr>\n",
       "    <tr>\n",
       "      <th>4</th>\n",
       "      <td>21.0</td>\n",
       "      <td>185.0</td>\n",
       "      <td>82.0</td>\n",
       "    </tr>\n",
       "    <tr>\n",
       "      <th>6</th>\n",
       "      <td>25.0</td>\n",
       "      <td>185.0</td>\n",
       "      <td>82.0</td>\n",
       "    </tr>\n",
       "    <tr>\n",
       "      <th>8</th>\n",
       "      <td>27.0</td>\n",
       "      <td>185.0</td>\n",
       "      <td>82.0</td>\n",
       "    </tr>\n",
       "  </tbody>\n",
       "</table>\n",
       "</div>"
      ],
      "text/plain": [
       "    Age  Height  Weight\n",
       "0  24.0   180.0    80.0\n",
       "1  23.0   170.0    60.0\n",
       "4  21.0   185.0    82.0\n",
       "6  25.0   185.0    82.0\n",
       "8  27.0   185.0    82.0"
      ]
     },
     "execution_count": 13,
     "metadata": {},
     "output_type": "execute_result"
    }
   ],
   "source": [
    "# Fem un nou df amb només les variables numèriques\n",
    "df_no_object = df.select_dtypes(exclude=['object'])\n",
    "df_no_object = df_no_object.loc[:, df_no_object.columns != 'ID']\n",
    "df_no_object.head()"
   ]
  },
  {
   "cell_type": "code",
   "execution_count": 14,
   "metadata": {
    "execution": {
     "iopub.execute_input": "2021-10-06T15:07:14.859720Z",
     "iopub.status.busy": "2021-10-06T15:07:14.859248Z",
     "iopub.status.idle": "2021-10-06T15:07:15.743796Z",
     "shell.execute_reply": "2021-10-06T15:07:15.740782Z",
     "shell.execute_reply.started": "2021-10-06T15:07:14.859672Z"
    }
   },
   "outputs": [],
   "source": [
    "# Com hem eliminat alguns registres del df original, hem d'assegurar-nos que l'index del df escalat és igual\n",
    "# que l'original, per això especifiquem \"index=df_no_object.index\" quan creem el nou df\n",
    "\n",
    "from sklearn.preprocessing import StandardScaler\n",
    "\n",
    "scaler = StandardScaler()\n",
    "\n",
    "df_no_object_scaled = pd.DataFrame(scaler.fit_transform(df_no_object),columns = df_no_object.columns, index=df_no_object.index)"
   ]
  },
  {
   "cell_type": "code",
   "execution_count": 15,
   "metadata": {
    "execution": {
     "iopub.execute_input": "2021-10-06T15:07:15.746906Z",
     "iopub.status.busy": "2021-10-06T15:07:15.746133Z",
     "iopub.status.idle": "2021-10-06T15:07:15.818805Z",
     "shell.execute_reply": "2021-10-06T15:07:15.800743Z",
     "shell.execute_reply.started": "2021-10-06T15:07:15.746848Z"
    }
   },
   "outputs": [
    {
     "data": {
      "text/html": [
       "<div>\n",
       "<style scoped>\n",
       "    .dataframe tbody tr th:only-of-type {\n",
       "        vertical-align: middle;\n",
       "    }\n",
       "\n",
       "    .dataframe tbody tr th {\n",
       "        vertical-align: top;\n",
       "    }\n",
       "\n",
       "    .dataframe thead th {\n",
       "        text-align: right;\n",
       "    }\n",
       "</style>\n",
       "<table border=\"1\" class=\"dataframe\">\n",
       "  <thead>\n",
       "    <tr style=\"text-align: right;\">\n",
       "      <th></th>\n",
       "      <th>Age</th>\n",
       "      <th>Height</th>\n",
       "      <th>Weight</th>\n",
       "    </tr>\n",
       "  </thead>\n",
       "  <tbody>\n",
       "    <tr>\n",
       "      <th>0</th>\n",
       "      <td>-0.275915</td>\n",
       "      <td>0.326808</td>\n",
       "      <td>0.506095</td>\n",
       "    </tr>\n",
       "    <tr>\n",
       "      <th>1</th>\n",
       "      <td>-0.461075</td>\n",
       "      <td>-0.637216</td>\n",
       "      <td>-0.846032</td>\n",
       "    </tr>\n",
       "    <tr>\n",
       "      <th>4</th>\n",
       "      <td>-0.831395</td>\n",
       "      <td>0.808821</td>\n",
       "      <td>0.641308</td>\n",
       "    </tr>\n",
       "    <tr>\n",
       "      <th>6</th>\n",
       "      <td>-0.090755</td>\n",
       "      <td>0.808821</td>\n",
       "      <td>0.641308</td>\n",
       "    </tr>\n",
       "    <tr>\n",
       "      <th>8</th>\n",
       "      <td>0.279565</td>\n",
       "      <td>0.808821</td>\n",
       "      <td>0.641308</td>\n",
       "    </tr>\n",
       "  </tbody>\n",
       "</table>\n",
       "</div>"
      ],
      "text/plain": [
       "        Age    Height    Weight\n",
       "0 -0.275915  0.326808  0.506095\n",
       "1 -0.461075 -0.637216 -0.846032\n",
       "4 -0.831395  0.808821  0.641308\n",
       "6 -0.090755  0.808821  0.641308\n",
       "8  0.279565  0.808821  0.641308"
      ]
     },
     "execution_count": 15,
     "metadata": {},
     "output_type": "execute_result"
    }
   ],
   "source": [
    "df_no_object_scaled.head()"
   ]
  },
  {
   "cell_type": "markdown",
   "metadata": {},
   "source": [
    "## Exercici 2\n",
    "Continua amb el conjunt de dades de tema esportiu que t'agradi i aplica l'anàlisi de components principals."
   ]
  },
  {
   "cell_type": "code",
   "execution_count": 16,
   "metadata": {
    "execution": {
     "iopub.execute_input": "2021-10-06T15:07:15.833638Z",
     "iopub.status.busy": "2021-10-06T15:07:15.830418Z",
     "iopub.status.idle": "2021-10-06T15:07:15.846281Z",
     "shell.execute_reply": "2021-10-06T15:07:15.844783Z",
     "shell.execute_reply.started": "2021-10-06T15:07:15.833583Z"
    }
   },
   "outputs": [
    {
     "name": "stdout",
     "output_type": "stream",
     "text": [
      "(146428, 1031)\n",
      "(146428, 3)\n"
     ]
    }
   ],
   "source": [
    "#Unim els df dummies_df i new_df_scaled per fer el PCA.\n",
    "print(dummies_df.shape)\n",
    "print(df_no_object_scaled.shape)"
   ]
  },
  {
   "cell_type": "code",
   "execution_count": 18,
   "metadata": {
    "execution": {
     "iopub.execute_input": "2021-10-06T15:07:20.005071Z",
     "iopub.status.busy": "2021-10-06T15:07:20.004765Z",
     "iopub.status.idle": "2021-10-06T15:07:21.386761Z",
     "shell.execute_reply": "2021-10-06T15:07:21.385282Z",
     "shell.execute_reply.started": "2021-10-06T15:07:20.005039Z"
    }
   },
   "outputs": [],
   "source": [
    "dummies_scaled_df = pd.concat([dummies_df,df_no_object_scaled], axis=1)"
   ]
  },
  {
   "cell_type": "code",
   "execution_count": 19,
   "metadata": {
    "execution": {
     "iopub.execute_input": "2021-10-06T15:07:21.499040Z",
     "iopub.status.busy": "2021-10-06T15:07:21.498453Z",
     "iopub.status.idle": "2021-10-06T15:07:21.659596Z",
     "shell.execute_reply": "2021-10-06T15:07:21.620430Z",
     "shell.execute_reply.started": "2021-10-06T15:07:21.498979Z"
    }
   },
   "outputs": [
    {
     "data": {
      "text/html": [
       "<div>\n",
       "<style scoped>\n",
       "    .dataframe tbody tr th:only-of-type {\n",
       "        vertical-align: middle;\n",
       "    }\n",
       "\n",
       "    .dataframe tbody tr th {\n",
       "        vertical-align: top;\n",
       "    }\n",
       "\n",
       "    .dataframe thead th {\n",
       "        text-align: right;\n",
       "    }\n",
       "</style>\n",
       "<table border=\"1\" class=\"dataframe\">\n",
       "  <thead>\n",
       "    <tr style=\"text-align: right;\">\n",
       "      <th></th>\n",
       "      <th>M</th>\n",
       "      <th>Acipactli</th>\n",
       "      <th>Afghanistan</th>\n",
       "      <th>Akatonbo</th>\n",
       "      <th>Alain IV</th>\n",
       "      <th>Albania</th>\n",
       "      <th>Aldebaran</th>\n",
       "      <th>Aldebaran II</th>\n",
       "      <th>Aletta</th>\n",
       "      <th>Algeria</th>\n",
       "      <th>...</th>\n",
       "      <th>Trampolining</th>\n",
       "      <th>Triathlon</th>\n",
       "      <th>Tug-Of-War</th>\n",
       "      <th>Volleyball</th>\n",
       "      <th>Water Polo</th>\n",
       "      <th>Weightlifting</th>\n",
       "      <th>Wrestling</th>\n",
       "      <th>Age</th>\n",
       "      <th>Height</th>\n",
       "      <th>Weight</th>\n",
       "    </tr>\n",
       "  </thead>\n",
       "  <tbody>\n",
       "    <tr>\n",
       "      <th>0</th>\n",
       "      <td>1</td>\n",
       "      <td>0</td>\n",
       "      <td>0</td>\n",
       "      <td>0</td>\n",
       "      <td>0</td>\n",
       "      <td>0</td>\n",
       "      <td>0</td>\n",
       "      <td>0</td>\n",
       "      <td>0</td>\n",
       "      <td>0</td>\n",
       "      <td>...</td>\n",
       "      <td>0</td>\n",
       "      <td>0</td>\n",
       "      <td>0</td>\n",
       "      <td>0</td>\n",
       "      <td>0</td>\n",
       "      <td>0</td>\n",
       "      <td>0</td>\n",
       "      <td>-0.275915</td>\n",
       "      <td>0.326808</td>\n",
       "      <td>0.506095</td>\n",
       "    </tr>\n",
       "    <tr>\n",
       "      <th>1</th>\n",
       "      <td>1</td>\n",
       "      <td>0</td>\n",
       "      <td>0</td>\n",
       "      <td>0</td>\n",
       "      <td>0</td>\n",
       "      <td>0</td>\n",
       "      <td>0</td>\n",
       "      <td>0</td>\n",
       "      <td>0</td>\n",
       "      <td>0</td>\n",
       "      <td>...</td>\n",
       "      <td>0</td>\n",
       "      <td>0</td>\n",
       "      <td>0</td>\n",
       "      <td>0</td>\n",
       "      <td>0</td>\n",
       "      <td>0</td>\n",
       "      <td>0</td>\n",
       "      <td>-0.461075</td>\n",
       "      <td>-0.637216</td>\n",
       "      <td>-0.846032</td>\n",
       "    </tr>\n",
       "    <tr>\n",
       "      <th>4</th>\n",
       "      <td>0</td>\n",
       "      <td>0</td>\n",
       "      <td>0</td>\n",
       "      <td>0</td>\n",
       "      <td>0</td>\n",
       "      <td>0</td>\n",
       "      <td>0</td>\n",
       "      <td>0</td>\n",
       "      <td>0</td>\n",
       "      <td>0</td>\n",
       "      <td>...</td>\n",
       "      <td>0</td>\n",
       "      <td>0</td>\n",
       "      <td>0</td>\n",
       "      <td>0</td>\n",
       "      <td>0</td>\n",
       "      <td>0</td>\n",
       "      <td>0</td>\n",
       "      <td>-0.831395</td>\n",
       "      <td>0.808821</td>\n",
       "      <td>0.641308</td>\n",
       "    </tr>\n",
       "    <tr>\n",
       "      <th>6</th>\n",
       "      <td>0</td>\n",
       "      <td>0</td>\n",
       "      <td>0</td>\n",
       "      <td>0</td>\n",
       "      <td>0</td>\n",
       "      <td>0</td>\n",
       "      <td>0</td>\n",
       "      <td>0</td>\n",
       "      <td>0</td>\n",
       "      <td>0</td>\n",
       "      <td>...</td>\n",
       "      <td>0</td>\n",
       "      <td>0</td>\n",
       "      <td>0</td>\n",
       "      <td>0</td>\n",
       "      <td>0</td>\n",
       "      <td>0</td>\n",
       "      <td>0</td>\n",
       "      <td>-0.090755</td>\n",
       "      <td>0.808821</td>\n",
       "      <td>0.641308</td>\n",
       "    </tr>\n",
       "    <tr>\n",
       "      <th>8</th>\n",
       "      <td>0</td>\n",
       "      <td>0</td>\n",
       "      <td>0</td>\n",
       "      <td>0</td>\n",
       "      <td>0</td>\n",
       "      <td>0</td>\n",
       "      <td>0</td>\n",
       "      <td>0</td>\n",
       "      <td>0</td>\n",
       "      <td>0</td>\n",
       "      <td>...</td>\n",
       "      <td>0</td>\n",
       "      <td>0</td>\n",
       "      <td>0</td>\n",
       "      <td>0</td>\n",
       "      <td>0</td>\n",
       "      <td>0</td>\n",
       "      <td>0</td>\n",
       "      <td>0.279565</td>\n",
       "      <td>0.808821</td>\n",
       "      <td>0.641308</td>\n",
       "    </tr>\n",
       "  </tbody>\n",
       "</table>\n",
       "<p>5 rows × 1034 columns</p>\n",
       "</div>"
      ],
      "text/plain": [
       "   M  Acipactli  Afghanistan  Akatonbo  Alain IV  Albania  Aldebaran  \\\n",
       "0  1          0            0         0         0        0          0   \n",
       "1  1          0            0         0         0        0          0   \n",
       "4  0          0            0         0         0        0          0   \n",
       "6  0          0            0         0         0        0          0   \n",
       "8  0          0            0         0         0        0          0   \n",
       "\n",
       "   Aldebaran II  Aletta  Algeria  ...  Trampolining  Triathlon  Tug-Of-War  \\\n",
       "0             0       0        0  ...             0          0           0   \n",
       "1             0       0        0  ...             0          0           0   \n",
       "4             0       0        0  ...             0          0           0   \n",
       "6             0       0        0  ...             0          0           0   \n",
       "8             0       0        0  ...             0          0           0   \n",
       "\n",
       "   Volleyball  Water Polo  Weightlifting  Wrestling       Age    Height  \\\n",
       "0           0           0              0          0 -0.275915  0.326808   \n",
       "1           0           0              0          0 -0.461075 -0.637216   \n",
       "4           0           0              0          0 -0.831395  0.808821   \n",
       "6           0           0              0          0 -0.090755  0.808821   \n",
       "8           0           0              0          0  0.279565  0.808821   \n",
       "\n",
       "     Weight  \n",
       "0  0.506095  \n",
       "1 -0.846032  \n",
       "4  0.641308  \n",
       "6  0.641308  \n",
       "8  0.641308  \n",
       "\n",
       "[5 rows x 1034 columns]"
      ]
     },
     "execution_count": 19,
     "metadata": {},
     "output_type": "execute_result"
    }
   ],
   "source": [
    "dummies_scaled_df.head()"
   ]
  },
  {
   "cell_type": "markdown",
   "metadata": {
    "execution": {
     "iopub.execute_input": "2021-09-22T19:34:45.874421Z",
     "iopub.status.busy": "2021-09-22T19:34:45.873984Z",
     "iopub.status.idle": "2021-09-22T19:34:45.882648Z",
     "shell.execute_reply": "2021-09-22T19:34:45.880909Z",
     "shell.execute_reply.started": "2021-09-22T19:34:45.874386Z"
    }
   },
   "source": [
    "#### PCA"
   ]
  },
  {
   "cell_type": "code",
   "execution_count": 20,
   "metadata": {
    "execution": {
     "iopub.execute_input": "2021-10-06T15:07:24.652069Z",
     "iopub.status.busy": "2021-10-06T15:07:24.651746Z",
     "iopub.status.idle": "2021-10-06T15:08:02.808510Z",
     "shell.execute_reply": "2021-10-06T15:08:02.571457Z",
     "shell.execute_reply.started": "2021-10-06T15:07:24.652037Z"
    }
   },
   "outputs": [],
   "source": [
    "#Com que abans hem estandaritzat la data, podem fer el PCA directament sense fer més transformacions\n",
    "from sklearn.decomposition import PCA\n",
    "\n",
    "pca = PCA(n_components=10)\n",
    "pca.fit(dummies_scaled_df)\n",
    "df_pca = pd.DataFrame(pca.transform(dummies_scaled_df))"
   ]
  },
  {
   "cell_type": "code",
   "execution_count": 21,
   "metadata": {
    "execution": {
     "iopub.execute_input": "2021-10-06T15:08:02.863710Z",
     "iopub.status.busy": "2021-10-06T15:08:02.861867Z",
     "iopub.status.idle": "2021-10-06T15:08:03.318416Z",
     "shell.execute_reply": "2021-10-06T15:08:03.313143Z",
     "shell.execute_reply.started": "2021-10-06T15:08:02.863507Z"
    }
   },
   "outputs": [
    {
     "data": {
      "text/html": [
       "<div>\n",
       "<style scoped>\n",
       "    .dataframe tbody tr th:only-of-type {\n",
       "        vertical-align: middle;\n",
       "    }\n",
       "\n",
       "    .dataframe tbody tr th {\n",
       "        vertical-align: top;\n",
       "    }\n",
       "\n",
       "    .dataframe thead th {\n",
       "        text-align: right;\n",
       "    }\n",
       "</style>\n",
       "<table border=\"1\" class=\"dataframe\">\n",
       "  <thead>\n",
       "    <tr style=\"text-align: right;\">\n",
       "      <th></th>\n",
       "      <th>0</th>\n",
       "      <th>1</th>\n",
       "      <th>2</th>\n",
       "      <th>3</th>\n",
       "      <th>4</th>\n",
       "      <th>5</th>\n",
       "      <th>6</th>\n",
       "      <th>7</th>\n",
       "      <th>8</th>\n",
       "      <th>9</th>\n",
       "    </tr>\n",
       "  </thead>\n",
       "  <tbody>\n",
       "    <tr>\n",
       "      <th>0</th>\n",
       "      <td>0.580355</td>\n",
       "      <td>-0.416684</td>\n",
       "      <td>0.154927</td>\n",
       "      <td>-0.129106</td>\n",
       "      <td>-0.112603</td>\n",
       "      <td>0.000685</td>\n",
       "      <td>0.018601</td>\n",
       "      <td>-0.025298</td>\n",
       "      <td>0.046729</td>\n",
       "      <td>0.040053</td>\n",
       "    </tr>\n",
       "    <tr>\n",
       "      <th>1</th>\n",
       "      <td>-1.052499</td>\n",
       "      <td>-0.243081</td>\n",
       "      <td>-0.039017</td>\n",
       "      <td>-0.108671</td>\n",
       "      <td>0.087186</td>\n",
       "      <td>-0.170707</td>\n",
       "      <td>-0.114792</td>\n",
       "      <td>0.104630</td>\n",
       "      <td>1.217732</td>\n",
       "      <td>-0.310045</td>\n",
       "    </tr>\n",
       "    <tr>\n",
       "      <th>2</th>\n",
       "      <td>0.687712</td>\n",
       "      <td>-1.026038</td>\n",
       "      <td>-0.091991</td>\n",
       "      <td>0.665914</td>\n",
       "      <td>-0.169319</td>\n",
       "      <td>-0.025592</td>\n",
       "      <td>-0.081310</td>\n",
       "      <td>0.064769</td>\n",
       "      <td>0.059179</td>\n",
       "      <td>0.093249</td>\n",
       "    </tr>\n",
       "    <tr>\n",
       "      <th>3</th>\n",
       "      <td>0.838478</td>\n",
       "      <td>-0.305910</td>\n",
       "      <td>-0.150485</td>\n",
       "      <td>0.668982</td>\n",
       "      <td>-0.182490</td>\n",
       "      <td>-0.033554</td>\n",
       "      <td>-0.087553</td>\n",
       "      <td>0.067649</td>\n",
       "      <td>0.059691</td>\n",
       "      <td>0.104711</td>\n",
       "    </tr>\n",
       "    <tr>\n",
       "      <th>4</th>\n",
       "      <td>0.913951</td>\n",
       "      <td>0.051659</td>\n",
       "      <td>-0.168484</td>\n",
       "      <td>0.665958</td>\n",
       "      <td>-0.202310</td>\n",
       "      <td>-0.036889</td>\n",
       "      <td>-0.092744</td>\n",
       "      <td>0.071065</td>\n",
       "      <td>0.065468</td>\n",
       "      <td>0.123824</td>\n",
       "    </tr>\n",
       "  </tbody>\n",
       "</table>\n",
       "</div>"
      ],
      "text/plain": [
       "          0         1         2         3         4         5         6  \\\n",
       "0  0.580355 -0.416684  0.154927 -0.129106 -0.112603  0.000685  0.018601   \n",
       "1 -1.052499 -0.243081 -0.039017 -0.108671  0.087186 -0.170707 -0.114792   \n",
       "2  0.687712 -1.026038 -0.091991  0.665914 -0.169319 -0.025592 -0.081310   \n",
       "3  0.838478 -0.305910 -0.150485  0.668982 -0.182490 -0.033554 -0.087553   \n",
       "4  0.913951  0.051659 -0.168484  0.665958 -0.202310 -0.036889 -0.092744   \n",
       "\n",
       "          7         8         9  \n",
       "0 -0.025298  0.046729  0.040053  \n",
       "1  0.104630  1.217732 -0.310045  \n",
       "2  0.064769  0.059179  0.093249  \n",
       "3  0.067649  0.059691  0.104711  \n",
       "4  0.071065  0.065468  0.123824  "
      ]
     },
     "execution_count": 21,
     "metadata": {},
     "output_type": "execute_result"
    }
   ],
   "source": [
    "#El nou df amb el PCA\n",
    "df_pca.head()"
   ]
  },
  {
   "cell_type": "code",
   "execution_count": 22,
   "metadata": {
    "execution": {
     "iopub.execute_input": "2021-10-06T15:08:03.323240Z",
     "iopub.status.busy": "2021-10-06T15:08:03.322195Z",
     "iopub.status.idle": "2021-10-06T15:13:27.303175Z",
     "shell.execute_reply": "2021-10-06T15:13:27.300728Z",
     "shell.execute_reply.started": "2021-10-06T15:08:03.323176Z"
    }
   },
   "outputs": [
    {
     "data": {
      "image/png": "[encoded data removed]",
      "text/plain": [
       "<Figure size 432x288 with 1 Axes>"
      ]
     },
     "metadata": {
      "needs_background": "light"
     },
     "output_type": "display_data"
    }
   ],
   "source": [
    "pca = PCA().fit(dummies_scaled_df)\n",
    "plt.plot(np.cumsum(pca.explained_variance_ratio_))\n",
    "plt.xlabel('number of components')\n",
    "plt.ylabel('cumulative explained variance');"
   ]
  },
  {
   "cell_type": "markdown",
   "metadata": {},
   "source": [
    "Si volguessim utilitzar el PCA per reduir la dimensionalitat del df podriem utilitzar el gràfic anterior per decidir quants components volem mantindre tenint en compte la variancia que expliquen. O, el que es el mateix, quanta variancia estem disposats a perdre per reduir la dimensionalitat del df."
   ]
  },
  {
   "cell_type": "markdown",
   "metadata": {},
   "source": [
    "## Exercici 3\n",
    "Continua amb el conjunt de dades de tema esportiu que t'agradi i normalitza les dades tenint en compte els outliers."
   ]
  },
  {
   "cell_type": "code",
   "execution_count": 24,
   "metadata": {
    "execution": {
     "iopub.execute_input": "2021-10-06T15:18:04.155268Z",
     "iopub.status.busy": "2021-10-06T15:18:04.154944Z",
     "iopub.status.idle": "2021-10-06T15:18:04.322270Z",
     "shell.execute_reply": "2021-10-06T15:18:04.319886Z",
     "shell.execute_reply.started": "2021-10-06T15:18:04.155236Z"
    }
   },
   "outputs": [
    {
     "data": {
      "text/plain": [
       "(22.0, 28.0)"
      ]
     },
     "execution_count": 24,
     "metadata": {},
     "output_type": "execute_result"
    }
   ],
   "source": [
    "# Comprovem si hi ha outliers en el df\n",
    "#Finding first quartile and third quartile\n",
    "q1, q3= np.percentile(df_no_object['Age'],[25,75])\n",
    "q1, q3"
   ]
  },
  {
   "cell_type": "markdown",
   "metadata": {},
   "source": [
    "Els valors que siguin per sota del lower bound o per sobre del upper bound els considerarem outliers"
   ]
  },
  {
   "cell_type": "code",
   "execution_count": 25,
   "metadata": {
    "execution": {
     "iopub.execute_input": "2021-10-06T15:18:04.894929Z",
     "iopub.status.busy": "2021-10-06T15:18:04.894632Z",
     "iopub.status.idle": "2021-10-06T15:18:04.924180Z",
     "shell.execute_reply": "2021-10-06T15:18:04.920717Z",
     "shell.execute_reply.started": "2021-10-06T15:18:04.894898Z"
    }
   },
   "outputs": [
    {
     "name": "stdout",
     "output_type": "stream",
     "text": [
      "13.0\n",
      "37.0\n"
     ]
    }
   ],
   "source": [
    "#Find the IQR which is the difference between third and first quartile\n",
    "iqr = q3 - q1\n",
    "\n",
    "#Find lower and upper bound\n",
    "lower_bound = q1 -(1.5 * iqr) \n",
    "upper_bound = q3 +(1.5 * iqr) \n",
    "\n",
    "print(lower_bound)\n",
    "print(upper_bound)"
   ]
  },
  {
   "cell_type": "markdown",
   "metadata": {
    "execution": {
     "iopub.execute_input": "2021-10-06T15:41:42.816702Z",
     "iopub.status.busy": "2021-10-06T15:41:42.805165Z",
     "iopub.status.idle": "2021-10-06T15:41:42.920558Z",
     "shell.execute_reply": "2021-10-06T15:41:42.913048Z",
     "shell.execute_reply.started": "2021-10-06T15:41:42.816442Z"
    }
   },
   "source": [
    "Comprobem si les nostres variables tenen valors per sota de 13 o per sobre de 37. "
   ]
  },
  {
   "cell_type": "code",
   "execution_count": 27,
   "metadata": {
    "execution": {
     "iopub.execute_input": "2021-10-06T15:18:53.787851Z",
     "iopub.status.busy": "2021-10-06T15:18:53.787345Z",
     "iopub.status.idle": "2021-10-06T15:18:53.806862Z",
     "shell.execute_reply": "2021-10-06T15:18:53.804818Z",
     "shell.execute_reply.started": "2021-10-06T15:18:53.787814Z"
    }
   },
   "outputs": [
    {
     "name": "stdout",
     "output_type": "stream",
     "text": [
      "11.0\n",
      "71.0\n"
     ]
    }
   ],
   "source": [
    "print(df_no_object['Age'].min())\n",
    "print(df_no_object['Age'].max())"
   ]
  },
  {
   "cell_type": "markdown",
   "metadata": {},
   "source": [
    "I efectivament tenim com a mínim un valor per sota de 13 i un per sobre de 37. Això vol dir que si normalitzem les dades tenint en compte els outliers, els valors normalitzats haurien de ser diferents que amb el StandardScaler que hem utilitzat abans."
   ]
  },
  {
   "cell_type": "code",
   "execution_count": 28,
   "metadata": {
    "execution": {
     "iopub.execute_input": "2021-10-06T15:20:54.402137Z",
     "iopub.status.busy": "2021-10-06T15:20:54.400013Z",
     "iopub.status.idle": "2021-10-06T15:20:54.589819Z",
     "shell.execute_reply": "2021-10-06T15:20:54.588319Z",
     "shell.execute_reply.started": "2021-10-06T15:20:54.402026Z"
    }
   },
   "outputs": [
    {
     "data": {
      "text/plain": [
       "array([[-0.16666667,  0.23076923,  0.47368421],\n",
       "       [-0.33333333, -0.53846154, -0.57894737],\n",
       "       [-0.66666667,  0.61538462,  0.57894737],\n",
       "       ...,\n",
       "       [ 0.33333333, -0.07692308, -0.63157895],\n",
       "       [ 0.83333333,  0.61538462,  1.31578947],\n",
       "       [ 1.5       ,  0.61538462,  1.31578947]])"
      ]
     },
     "execution_count": 28,
     "metadata": {},
     "output_type": "execute_result"
    }
   ],
   "source": [
    "from sklearn.preprocessing import RobustScaler\n",
    "\n",
    "transformer = RobustScaler().fit(df_no_object)\n",
    "transformer"
   ]
  },
  {
   "cell_type": "code",
   "execution_count": 31,
   "metadata": {
    "execution": {
     "iopub.execute_input": "2021-10-06T15:22:01.487356Z",
     "iopub.status.busy": "2021-10-06T15:22:01.486954Z",
     "iopub.status.idle": "2021-10-06T15:22:01.500231Z",
     "shell.execute_reply": "2021-10-06T15:22:01.499174Z",
     "shell.execute_reply.started": "2021-10-06T15:22:01.487299Z"
    }
   },
   "outputs": [],
   "source": [
    "df_robust = pd.DataFrame(transformer.transform(df_no_object), index=df_no_object.index, columns=df_no_object.columns)"
   ]
  },
  {
   "cell_type": "code",
   "execution_count": 33,
   "metadata": {
    "execution": {
     "iopub.execute_input": "2021-10-06T15:22:25.494391Z",
     "iopub.status.busy": "2021-10-06T15:22:25.493921Z",
     "iopub.status.idle": "2021-10-06T15:22:25.727524Z",
     "shell.execute_reply": "2021-10-06T15:22:25.726137Z",
     "shell.execute_reply.started": "2021-10-06T15:22:25.494356Z"
    }
   },
   "outputs": [
    {
     "data": {
      "text/html": [
       "<div>\n",
       "<style scoped>\n",
       "    .dataframe tbody tr th:only-of-type {\n",
       "        vertical-align: middle;\n",
       "    }\n",
       "\n",
       "    .dataframe tbody tr th {\n",
       "        vertical-align: top;\n",
       "    }\n",
       "\n",
       "    .dataframe thead th {\n",
       "        text-align: right;\n",
       "    }\n",
       "</style>\n",
       "<table border=\"1\" class=\"dataframe\">\n",
       "  <thead>\n",
       "    <tr style=\"text-align: right;\">\n",
       "      <th></th>\n",
       "      <th>Age</th>\n",
       "      <th>Height</th>\n",
       "      <th>Weight</th>\n",
       "    </tr>\n",
       "  </thead>\n",
       "  <tbody>\n",
       "    <tr>\n",
       "      <th>count</th>\n",
       "      <td>146428.000000</td>\n",
       "      <td>146428.000000</td>\n",
       "      <td>146428.000000</td>\n",
       "    </tr>\n",
       "    <tr>\n",
       "      <th>mean</th>\n",
       "      <td>0.081691</td>\n",
       "      <td>-0.030003</td>\n",
       "      <td>0.079689</td>\n",
       "    </tr>\n",
       "    <tr>\n",
       "      <th>std</th>\n",
       "      <td>0.900126</td>\n",
       "      <td>0.797940</td>\n",
       "      <td>0.778503</td>\n",
       "    </tr>\n",
       "    <tr>\n",
       "      <th>min</th>\n",
       "      <td>-2.333333</td>\n",
       "      <td>-3.846154</td>\n",
       "      <td>-2.421053</td>\n",
       "    </tr>\n",
       "    <tr>\n",
       "      <th>25%</th>\n",
       "      <td>-0.500000</td>\n",
       "      <td>-0.538462</td>\n",
       "      <td>-0.473684</td>\n",
       "    </tr>\n",
       "    <tr>\n",
       "      <th>50%</th>\n",
       "      <td>0.000000</td>\n",
       "      <td>0.000000</td>\n",
       "      <td>0.000000</td>\n",
       "    </tr>\n",
       "    <tr>\n",
       "      <th>75%</th>\n",
       "      <td>0.500000</td>\n",
       "      <td>0.461538</td>\n",
       "      <td>0.526316</td>\n",
       "    </tr>\n",
       "    <tr>\n",
       "      <th>max</th>\n",
       "      <td>7.666667</td>\n",
       "      <td>3.769231</td>\n",
       "      <td>7.526316</td>\n",
       "    </tr>\n",
       "  </tbody>\n",
       "</table>\n",
       "</div>"
      ],
      "text/plain": [
       "                 Age         Height         Weight\n",
       "count  146428.000000  146428.000000  146428.000000\n",
       "mean        0.081691      -0.030003       0.079689\n",
       "std         0.900126       0.797940       0.778503\n",
       "min        -2.333333      -3.846154      -2.421053\n",
       "25%        -0.500000      -0.538462      -0.473684\n",
       "50%         0.000000       0.000000       0.000000\n",
       "75%         0.500000       0.461538       0.526316\n",
       "max         7.666667       3.769231       7.526316"
      ]
     },
     "execution_count": 33,
     "metadata": {},
     "output_type": "execute_result"
    }
   ],
   "source": [
    "df_robust.describe()"
   ]
  },
  {
   "cell_type": "code",
   "execution_count": 38,
   "metadata": {
    "execution": {
     "iopub.execute_input": "2021-10-06T15:24:54.359229Z",
     "iopub.status.busy": "2021-10-06T15:24:54.355191Z",
     "iopub.status.idle": "2021-10-06T15:24:54.692963Z",
     "shell.execute_reply": "2021-10-06T15:24:54.691497Z",
     "shell.execute_reply.started": "2021-10-06T15:24:54.359038Z"
    }
   },
   "outputs": [
    {
     "data": {
      "text/html": [
       "<div>\n",
       "<style scoped>\n",
       "    .dataframe tbody tr th:only-of-type {\n",
       "        vertical-align: middle;\n",
       "    }\n",
       "\n",
       "    .dataframe tbody tr th {\n",
       "        vertical-align: top;\n",
       "    }\n",
       "\n",
       "    .dataframe thead th {\n",
       "        text-align: right;\n",
       "    }\n",
       "</style>\n",
       "<table border=\"1\" class=\"dataframe\">\n",
       "  <thead>\n",
       "    <tr style=\"text-align: right;\">\n",
       "      <th></th>\n",
       "      <th>Age</th>\n",
       "      <th>Height</th>\n",
       "      <th>Weight</th>\n",
       "    </tr>\n",
       "  </thead>\n",
       "  <tbody>\n",
       "    <tr>\n",
       "      <th>count</th>\n",
       "      <td>146428</td>\n",
       "      <td>146428</td>\n",
       "      <td>146428</td>\n",
       "    </tr>\n",
       "    <tr>\n",
       "      <th>mean</th>\n",
       "      <td>2.63343e-15</td>\n",
       "      <td>-1.2956e-15</td>\n",
       "      <td>-2.10659e-16</td>\n",
       "    </tr>\n",
       "    <tr>\n",
       "      <th>std</th>\n",
       "      <td>1</td>\n",
       "      <td>1</td>\n",
       "      <td>1</td>\n",
       "    </tr>\n",
       "    <tr>\n",
       "      <th>min</th>\n",
       "      <td>-2.68299</td>\n",
       "      <td>-4.78252</td>\n",
       "      <td>-3.21225</td>\n",
       "    </tr>\n",
       "    <tr>\n",
       "      <th>25%</th>\n",
       "      <td>-0.646235</td>\n",
       "      <td>-0.637216</td>\n",
       "      <td>-0.710819</td>\n",
       "    </tr>\n",
       "    <tr>\n",
       "      <th>50%</th>\n",
       "      <td>-0.0907553</td>\n",
       "      <td>0.037601</td>\n",
       "      <td>-0.102362</td>\n",
       "    </tr>\n",
       "    <tr>\n",
       "      <th>75%</th>\n",
       "      <td>0.464725</td>\n",
       "      <td>0.616016</td>\n",
       "      <td>0.573701</td>\n",
       "    </tr>\n",
       "    <tr>\n",
       "      <th>max</th>\n",
       "      <td>8.4266</td>\n",
       "      <td>4.76132</td>\n",
       "      <td>9.56534</td>\n",
       "    </tr>\n",
       "  </tbody>\n",
       "</table>\n",
       "</div>"
      ],
      "text/plain": [
       "               Age       Height        Weight\n",
       "count       146428       146428        146428\n",
       "mean   2.63343e-15  -1.2956e-15  -2.10659e-16\n",
       "std              1            1             1\n",
       "min       -2.68299     -4.78252      -3.21225\n",
       "25%      -0.646235    -0.637216     -0.710819\n",
       "50%     -0.0907553     0.037601     -0.102362\n",
       "75%       0.464725     0.616016      0.573701\n",
       "max         8.4266      4.76132       9.56534"
      ]
     },
     "execution_count": 38,
     "metadata": {},
     "output_type": "execute_result"
    }
   ],
   "source": [
    "# Comparem els resultats amb el df normalitzat amb SandardScaler\n",
    "df_no_object_scaled.describe().apply(lambda s: s.apply(lambda x: format(x, 'g')))"
   ]
  },
  {
   "cell_type": "markdown",
   "metadata": {},
   "source": [
    "En els df anteriors podem comparar el funcionament del RobustScaler i el StandardScaler. Mentre el primer centra les dades al voltant de zero (la mediana sempre es zero), el segon centra el std a 1. \n",
    "Encara que sembli que canvia poca cosa, si ens fixem en els valors màxims i mínims, aquests son sempre més extrems en el cas del StandardScaler.\n",
    "En el cas del RobustScaler, a més, podem veure com el primer quartil és sempre al voltant de -0.5, el segon (mediana) és zero i el tercer és sempre al voltant de 0.5."
   ]
  }
 ],
 "metadata": {
  "kernelspec": {
   "display_name": "Python 3",
   "language": "python",
   "name": "python3"
  },
  "language_info": {
   "codemirror_mode": {
    "name": "ipython",
    "version": 3
   },
   "file_extension": ".py",
   "mimetype": "text/x-python",
   "name": "python",
   "nbconvert_exporter": "python",
   "pygments_lexer": "ipython3",
   "version": "3.8.5"
  }
 },
 "nbformat": 4,
 "nbformat_minor": 4
}
