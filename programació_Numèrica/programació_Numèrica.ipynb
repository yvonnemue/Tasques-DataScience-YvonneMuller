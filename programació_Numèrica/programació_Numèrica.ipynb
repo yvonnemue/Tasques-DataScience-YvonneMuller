{
 "cells": [
  {
   "cell_type": "markdown",
   "metadata": {},
   "source": [
    "- Exercici 1: \n",
    "Crea una funció que donat un Array d’una dimensió, et faci un resum estadístic bàsic de les dades. Si detecta que l’array té més d’una dimensió, ha de mostrar un missatge d’error.\n",
    "\n",
    "- Exercici 2: \n",
    "Crea una funció que et generi un quadrat NxN de nombres aleatoris entre el 0 i el 100.\n",
    "\n",
    "- Exercici 3: \n",
    "Crea una funció que donada una taula de dues dimensions, et calculi els totals per fila i els totals per columna.\n",
    "\n",
    "- Exercici 4: \n",
    "Implementa manualment una funció que calculi el coeficient de correlació. Informa’t-en sobre els seus usos i interpretació."
   ]
  },
  {
   "cell_type": "code",
   "execution_count": 136,
   "metadata": {},
   "outputs": [],
   "source": [
    "import numpy as np"
   ]
  },
  {
   "cell_type": "code",
   "execution_count": 137,
   "metadata": {},
   "outputs": [],
   "source": [
    "#Exercici 1: \n",
    "#Crea una funció que donat un Array d’una dimensió, et faci un resum estadístic bàsic de les dades. \n",
    "#Si detecta que l’array té més d’una dimensió, ha de mostrar un missatge d’error.\n",
    "\n",
    "def resum_arr(arr):\n",
    "    if (len(arr.shape)) == 1: \n",
    "        print('Mediana:', np.median(arr))\n",
    "        print('Mitjana:', np.mean(arr))\n",
    "        print('Valor mínim:', np.min(arr))\n",
    "        print('Valor màxim:', np.max(arr))\n",
    "        print('Nombre d\\'elements:', arr.shape[0])\n",
    "        print('Desviació estàndard:', arr.std())  \n",
    "    else:\n",
    "        print(\"Atenció! L\\'array té més d'una dimensió!\")"
   ]
  },
  {
   "cell_type": "code",
   "execution_count": 138,
   "metadata": {},
   "outputs": [
    {
     "name": "stdout",
     "output_type": "stream",
     "text": [
      "1\n",
      "2\n"
     ]
    }
   ],
   "source": [
    "arr1 = np.array([5, 10.4, 4, 3, 6.6])\n",
    "print(len(arr1.shape))\n",
    "\n",
    "arr2 = np.array([[5, 2],[3,4],[3,4],[3,4]])\n",
    "print(len(arr2.shape))\n"
   ]
  },
  {
   "cell_type": "code",
   "execution_count": 139,
   "metadata": {},
   "outputs": [
    {
     "name": "stdout",
     "output_type": "stream",
     "text": [
      "Mediana: 5.0\n",
      "Mitjana: 5.8\n",
      "Valor mínim: 3.0\n",
      "Valor màxim: 10.4\n",
      "Nombre d'elements: 5\n",
      "Desviació estàndard: 2.5892083732291615\n"
     ]
    }
   ],
   "source": [
    "resum_arr(arr1)"
   ]
  },
  {
   "cell_type": "code",
   "execution_count": 140,
   "metadata": {},
   "outputs": [
    {
     "name": "stdout",
     "output_type": "stream",
     "text": [
      "Atenció! L'array té més d'una dimensió!\n"
     ]
    }
   ],
   "source": [
    "resum_arr(arr2)"
   ]
  },
  {
   "cell_type": "code",
   "execution_count": 141,
   "metadata": {},
   "outputs": [],
   "source": [
    "# Exercici 2: \n",
    "#Crea una funció que et generi un quadrat NxN de nombres aleatoris entre el 0 i el 100.\n",
    "\n",
    "def crearCub(num):\n",
    "    arr = np.random.randint(0,101,[num,num])\n",
    "    return arr"
   ]
  },
  {
   "cell_type": "code",
   "execution_count": 142,
   "metadata": {},
   "outputs": [
    {
     "data": {
      "text/plain": [
       "array([[ 55,  16,  61,  54,  81],\n",
       "       [ 15,   6,  48,  34,  62],\n",
       "       [ 77,  10,  89,  22,  87],\n",
       "       [ 79,  82,  96,  55,  48],\n",
       "       [100,  31,  47,  77,  86]])"
      ]
     },
     "execution_count": 142,
     "metadata": {},
     "output_type": "execute_result"
    }
   ],
   "source": [
    "crearCub(5)"
   ]
  },
  {
   "cell_type": "code",
   "execution_count": 143,
   "metadata": {},
   "outputs": [
    {
     "data": {
      "text/plain": [
       "array([[39, 86,  4],\n",
       "       [25, 72, 89],\n",
       "       [83, 95, 94]])"
      ]
     },
     "execution_count": 143,
     "metadata": {},
     "output_type": "execute_result"
    }
   ],
   "source": [
    "crearCub(3)"
   ]
  },
  {
   "cell_type": "code",
   "execution_count": 144,
   "metadata": {},
   "outputs": [],
   "source": [
    "#Exercici 3: \n",
    "#Crea una funció que donada una taula de dues dimensions, et calculi els totals per fila i els totals per columna.\n"
   ]
  },
  {
   "cell_type": "code",
   "execution_count": 145,
   "metadata": {},
   "outputs": [],
   "source": [
    "def sumes(arr):\n",
    "    if arr.shape[0] == 2:\n",
    "        print('Suma de les files:', [sum(arr[0]), sum(arr[1])])\n",
    "        print('Suma de les columnes:', arr[0]+arr[1])\n",
    "    else:\n",
    "        print(\"Atenció! L\\'array ha de tindre dues dimensions!\")"
   ]
  },
  {
   "cell_type": "code",
   "execution_count": 146,
   "metadata": {},
   "outputs": [
    {
     "name": "stdout",
     "output_type": "stream",
     "text": [
      "Suma de les files: [10, 13]\n",
      "Suma de les columnes: [8 6 9]\n"
     ]
    }
   ],
   "source": [
    "arr3 = np.array([[5, 2, 3],\n",
    "                 [3 ,4 , 6]])\n",
    "sumes(arr3)"
   ]
  },
  {
   "cell_type": "code",
   "execution_count": 178,
   "metadata": {},
   "outputs": [],
   "source": [
    "#Exercici 4: \n",
    "#Implementa manualment una funció que calculi el coeficient de correlació. Informa’t-en sobre els seus usos i interpretació.\n",
    "\n",
    "def corr_arr(arr):\n",
    "    for i in range(0,arr.shape[0]):\n",
    "        print('Correlació de la fila ', i+1 ,' amb la resta de files', np.corrcoef(arr)[i])\n",
    "\n",
    "    \n",
    "#Dóna com a resultat una matriu amb els coeficients de correlació Pearson (relació lineal) de les diferents files de l'array.\n",
    "#La correlació es calcula fila a fila, no element a element. La diagonal de la matriu sempre es 1 perque es la correlació d'una\n",
    "#fila amb ella mateixa. \n",
    "\n",
    "#Per exemple, en una matriu 4x3:\n",
    "# [Corr linea 1 i linea 1, corr linea 1 i linea 2, corr linea 1 i linea3]\n",
    "# [Corr linea 2 i linea 1, corr linea 2 i linea 2, corr linea 2 i linea3]\n",
    "# [Corr linea 3 i linea 1, corr linea 3 i linea 2, corr linea 3 i linea3]\n",
    "\n",
    "#La correlació indica la relació entre dos elements. Pot ser positiva (entre 0 i 1), negativa (entre -1 i 0) o 0. \n",
    "#Si la correlació es 0 vol dir que els elements son totalment independents.\n",
    "#Si la correlació es positiva (com més prop de l'1, major correlació) vol dir que a mesura que un element augmenta, l'altre també ho fa.\n",
    "#Si la correlació es negativa (com més prop de l'-1, major correlació) vol dir que a mesura que un element augmenta, l'altre disminueix.\n"
   ]
  },
  {
   "cell_type": "code",
   "execution_count": 174,
   "metadata": {},
   "outputs": [],
   "source": [
    "arr4 = np.array([[5, 2, 3],\n",
    "                 [3 ,4 , 6],\n",
    "                [7, 22, 45],\n",
    "                [8, 2, 5]])\n",
    "\n",
    "arr5 = np.array([[5, 0, 4, 5],\n",
    "                 [3 , 7, 5, 6]])"
   ]
  },
  {
   "cell_type": "code",
   "execution_count": 175,
   "metadata": {},
   "outputs": [
    {
     "name": "stdout",
     "output_type": "stream",
     "text": [
      "Correlació de la fila  1  amb la resta de files [ 1.         -0.5        -0.55866082  0.98198051]\n",
      "Correlació de la fila  2  amb la resta de files [-0.5         1.          0.99760861 -0.32732684]\n",
      "Correlació de la fila  3  amb la resta de files [-0.55866082  0.99760861  1.         -0.39185288]\n",
      "Correlació de la fila  4  amb la resta de files [ 0.98198051 -0.32732684 -0.39185288  1.        ]\n"
     ]
    }
   ],
   "source": [
    "corr_arr(arr4)"
   ]
  },
  {
   "cell_type": "code",
   "execution_count": 171,
   "metadata": {},
   "outputs": [
    {
     "name": "stdout",
     "output_type": "stream",
     "text": [
      "Correlació de la fila  1  amb la resta de files [ 1.         -0.69693205]\n",
      "Correlació de la fila  2  amb la resta de files [-0.69693205  1.        ]\n"
     ]
    }
   ],
   "source": [
    "corr_arr(arr5)"
   ]
  },
  {
   "cell_type": "code",
   "execution_count": 177,
   "metadata": {},
   "outputs": [
    {
     "data": {
      "text/plain": [
       "(4, 3)"
      ]
     },
     "execution_count": 177,
     "metadata": {},
     "output_type": "execute_result"
    }
   ],
   "source": [
    "\n",
    "arr4.shape"
   ]
  },
  {
   "cell_type": "code",
   "execution_count": null,
   "metadata": {},
   "outputs": [],
   "source": []
  }
 ],
 "metadata": {
  "kernelspec": {
   "display_name": "Python 3",
   "language": "python",
   "name": "python3"
  },
  "language_info": {
   "codemirror_mode": {
    "name": "ipython",
    "version": 3
   },
   "file_extension": ".py",
   "mimetype": "text/x-python",
   "name": "python",
   "nbconvert_exporter": "python",
   "pygments_lexer": "ipython3",
   "version": "3.8.5"
  }
 },
 "nbformat": 4,
 "nbformat_minor": 4
}
