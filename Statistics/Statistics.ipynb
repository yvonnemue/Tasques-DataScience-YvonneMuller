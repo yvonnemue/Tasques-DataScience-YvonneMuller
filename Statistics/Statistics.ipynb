{
 "cells": [
  {
   "cell_type": "markdown",
   "metadata": {},
   "source": [
    "## Exercici 1\n",
    "Agafa un conjunt de dades de tema esportiu que t'agradi i selecciona un atribut del conjunt de dades. Calcula la moda, la mediana, la desviació estàndard i la mitjana aritmètica. "
   ]
  },
  {
   "cell_type": "code",
   "execution_count": 1,
   "metadata": {
    "execution": {
     "iopub.execute_input": "2021-09-13T15:43:11.662202Z",
     "iopub.status.busy": "2021-09-13T15:43:11.600899Z",
     "iopub.status.idle": "2021-09-13T15:43:20.704975Z",
     "shell.execute_reply": "2021-09-13T15:43:20.703609Z",
     "shell.execute_reply.started": "2021-09-13T15:43:11.621712Z"
    }
   },
   "outputs": [],
   "source": [
    "import pandas as pd\n",
    "import numpy as np\n",
    "import matplotlib.pyplot as plt\n",
    "import seaborn as sns\n",
    "import math"
   ]
  },
  {
   "cell_type": "code",
   "execution_count": 10,
   "metadata": {
    "execution": {
     "iopub.execute_input": "2021-09-13T15:44:35.803870Z",
     "iopub.status.busy": "2021-09-13T15:44:35.803376Z",
     "iopub.status.idle": "2021-09-13T15:44:35.830727Z",
     "shell.execute_reply": "2021-09-13T15:44:35.829283Z",
     "shell.execute_reply.started": "2021-09-13T15:44:35.803825Z"
    }
   },
   "outputs": [],
   "source": [
    "df = pd.read_csv(\"./Sampling/Climbers.csv\", sep=\";\")"
   ]
  },
  {
   "cell_type": "markdown",
   "metadata": {},
   "source": [
    "#### Canviem el nom de les columnes per fer la manipulació més fàcilment"
   ]
  },
  {
   "cell_type": "code",
   "execution_count": 11,
   "metadata": {
    "execution": {
     "iopub.execute_input": "2021-09-13T15:44:39.529848Z",
     "iopub.status.busy": "2021-09-13T15:44:39.529509Z",
     "iopub.status.idle": "2021-09-13T15:44:39.539516Z",
     "shell.execute_reply": "2021-09-13T15:44:39.538019Z",
     "shell.execute_reply.started": "2021-09-13T15:44:39.529809Z"
    }
   },
   "outputs": [],
   "source": [
    "df.columns = ['Timestamp', 'Sex', 'Height', 'Weight', 'Arm_span','Time_climbing', 'Indoor_vs_outdoor',\n",
    "              'Hardest_V_Grade_ever','Hardest_V_Grade_last3months','V_Grade_sent_90perc_routes',\n",
    "              'Hardest_Ewbank_Grade_ever','Hardest_Ewbank_Grade_last3months','Ewbank_Grade_sent_90perc_routes',\n",
    "              'Freq_climbing_sessions_w','Avg_hours_climbing_w','Avg_hours_training_for_climbing_w',\n",
    "              'Freq_Hangboard_w', 'Hangboard_grips_used','Style_Hangboard','Max_Weight_Hangboard_18mm_Half_crimp',\n",
    "              'Max_Weight_Hangboard_18mm_Open_crimp','Min_Edge_mm,kg_Half_crimp','Min_Edge_mm,kg_Open_crimp',\n",
    "              'Freq_CampusBoard_w', 'Time_CampusBoard_h','Freq_Endurance_session_w','Endurance_training', \n",
    "              'Freq_General_Strength_Training_w','Time_General_Strength_Training_h','Type_StrengthTraining', \n",
    "              'Other_activities','Max_PullUp_reps', 'Max_weighted_PullUps_5rep', 'Max_PushUp_reps',\n",
    "              'Max_L-sit_time']"
   ]
  },
  {
   "cell_type": "markdown",
   "metadata": {},
   "source": [
    "#### Convertim les columnes objecte a nombre"
   ]
  },
  {
   "cell_type": "code",
   "execution_count": 12,
   "metadata": {
    "execution": {
     "iopub.execute_input": "2021-09-13T15:44:42.397159Z",
     "iopub.status.busy": "2021-09-13T15:44:42.389795Z",
     "iopub.status.idle": "2021-09-13T15:44:42.490080Z",
     "shell.execute_reply": "2021-09-13T15:44:42.486132Z",
     "shell.execute_reply.started": "2021-09-13T15:44:42.397052Z"
    }
   },
   "outputs": [],
   "source": [
    "df['Sex'] = df['Sex'].astype('category').cat.codes # 0 = Female, 1 = Male\n",
    "df.Height = pd.to_numeric(df.Height, errors='coerce')\n",
    "df.Weight = pd.to_numeric(df.Weight, errors='coerce')\n",
    "df.Arm_span = pd.to_numeric(df.Arm_span, errors='coerce')\n",
    "df.Hardest_Ewbank_Grade_ever = pd.to_numeric(df.Hardest_Ewbank_Grade_ever, errors='coerce')\n",
    "df.Hardest_Ewbank_Grade_last3months = pd.to_numeric(df.Hardest_Ewbank_Grade_last3months, errors='coerce')\n",
    "df.Ewbank_Grade_sent_90perc_routes = pd.to_numeric(df.Ewbank_Grade_sent_90perc_routes, errors='coerce')"
   ]
  },
  {
   "cell_type": "code",
   "execution_count": 13,
   "metadata": {
    "execution": {
     "iopub.execute_input": "2021-09-13T15:44:44.527855Z",
     "iopub.status.busy": "2021-09-13T15:44:44.526456Z",
     "iopub.status.idle": "2021-09-13T15:44:44.543753Z",
     "shell.execute_reply": "2021-09-13T15:44:44.541881Z",
     "shell.execute_reply.started": "2021-09-13T15:44:44.527736Z"
    }
   },
   "outputs": [],
   "source": [
    "def createTime(time):\n",
    "    start = time.find(\"- \") + len(\"- \")\n",
    "    end = time.find(\" years\")\n",
    "    substring = time[start:end]\n",
    "    return int(math.ceil(float(substring)))"
   ]
  },
  {
   "cell_type": "code",
   "execution_count": 14,
   "metadata": {
    "execution": {
     "iopub.execute_input": "2021-09-13T15:44:45.624862Z",
     "iopub.status.busy": "2021-09-13T15:44:45.624408Z",
     "iopub.status.idle": "2021-09-13T15:44:45.654229Z",
     "shell.execute_reply": "2021-09-13T15:44:45.651821Z",
     "shell.execute_reply.started": "2021-09-13T15:44:45.624789Z"
    }
   },
   "outputs": [],
   "source": [
    "df['Time_climbing'] = df['Time_climbing'].replace('More than 15 years', '- 15 years')\n",
    "df['Time_climbing'] = df['Time_climbing'].apply(lambda x: createTime(x))"
   ]
  },
  {
   "cell_type": "markdown",
   "metadata": {},
   "source": [
    "#### Seleccionem les columnes numèriques únicament"
   ]
  },
  {
   "cell_type": "code",
   "execution_count": 15,
   "metadata": {
    "execution": {
     "iopub.execute_input": "2021-09-13T15:44:47.546190Z",
     "iopub.status.busy": "2021-09-13T15:44:47.545523Z",
     "iopub.status.idle": "2021-09-13T15:44:47.719408Z",
     "shell.execute_reply": "2021-09-13T15:44:47.717914Z",
     "shell.execute_reply.started": "2021-09-13T15:44:47.546144Z"
    }
   },
   "outputs": [],
   "source": [
    "df_no_object = df.select_dtypes(exclude=['object'])\n",
    "df_no_object = df_no_object.dropna()"
   ]
  },
  {
   "cell_type": "code",
   "execution_count": 51,
   "metadata": {
    "execution": {
     "iopub.execute_input": "2021-09-13T16:08:34.768281Z",
     "iopub.status.busy": "2021-09-13T16:08:34.765856Z",
     "iopub.status.idle": "2021-09-13T16:08:35.019763Z",
     "shell.execute_reply": "2021-09-13T16:08:35.014349Z",
     "shell.execute_reply.started": "2021-09-13T16:08:34.768088Z"
    }
   },
   "outputs": [
    {
     "data": {
      "text/html": [
       "<div>\n",
       "<style scoped>\n",
       "    .dataframe tbody tr th:only-of-type {\n",
       "        vertical-align: middle;\n",
       "    }\n",
       "\n",
       "    .dataframe tbody tr th {\n",
       "        vertical-align: top;\n",
       "    }\n",
       "\n",
       "    .dataframe thead th {\n",
       "        text-align: right;\n",
       "    }\n",
       "</style>\n",
       "<table border=\"1\" class=\"dataframe\">\n",
       "  <thead>\n",
       "    <tr style=\"text-align: right;\">\n",
       "      <th></th>\n",
       "      <th>Sex</th>\n",
       "      <th>Height</th>\n",
       "      <th>Weight</th>\n",
       "      <th>Arm_span</th>\n",
       "      <th>Time_climbing</th>\n",
       "      <th>Hardest_Ewbank_Grade_ever</th>\n",
       "      <th>Hardest_Ewbank_Grade_last3months</th>\n",
       "      <th>Ewbank_Grade_sent_90perc_routes</th>\n",
       "      <th>Freq_climbing_sessions_w</th>\n",
       "      <th>Avg_hours_climbing_w</th>\n",
       "      <th>Avg_hours_training_for_climbing_w</th>\n",
       "      <th>Freq_Hangboard_w</th>\n",
       "      <th>Freq_CampusBoard_w</th>\n",
       "      <th>Time_CampusBoard_h</th>\n",
       "      <th>Freq_Endurance_session_w</th>\n",
       "      <th>Freq_General_Strength_Training_w</th>\n",
       "      <th>Time_General_Strength_Training_h</th>\n",
       "    </tr>\n",
       "  </thead>\n",
       "  <tbody>\n",
       "    <tr>\n",
       "      <th>2</th>\n",
       "      <td>1</td>\n",
       "      <td>178.0</td>\n",
       "      <td>67.0</td>\n",
       "      <td>175.0</td>\n",
       "      <td>1</td>\n",
       "      <td>21.0</td>\n",
       "      <td>21.0</td>\n",
       "      <td>19.0</td>\n",
       "      <td>3</td>\n",
       "      <td>4</td>\n",
       "      <td>3</td>\n",
       "      <td>2</td>\n",
       "      <td>0</td>\n",
       "      <td>0</td>\n",
       "      <td>2</td>\n",
       "      <td>3</td>\n",
       "      <td>2</td>\n",
       "    </tr>\n",
       "    <tr>\n",
       "      <th>3</th>\n",
       "      <td>1</td>\n",
       "      <td>173.0</td>\n",
       "      <td>70.0</td>\n",
       "      <td>178.0</td>\n",
       "      <td>10</td>\n",
       "      <td>21.0</td>\n",
       "      <td>21.0</td>\n",
       "      <td>18.0</td>\n",
       "      <td>2</td>\n",
       "      <td>6</td>\n",
       "      <td>1</td>\n",
       "      <td>1</td>\n",
       "      <td>0</td>\n",
       "      <td>0</td>\n",
       "      <td>1</td>\n",
       "      <td>0</td>\n",
       "      <td>0</td>\n",
       "    </tr>\n",
       "    <tr>\n",
       "      <th>7</th>\n",
       "      <td>1</td>\n",
       "      <td>186.0</td>\n",
       "      <td>88.0</td>\n",
       "      <td>192.0</td>\n",
       "      <td>2</td>\n",
       "      <td>23.0</td>\n",
       "      <td>22.0</td>\n",
       "      <td>21.0</td>\n",
       "      <td>3</td>\n",
       "      <td>8</td>\n",
       "      <td>8</td>\n",
       "      <td>1</td>\n",
       "      <td>0</td>\n",
       "      <td>0</td>\n",
       "      <td>2</td>\n",
       "      <td>3</td>\n",
       "      <td>4</td>\n",
       "    </tr>\n",
       "    <tr>\n",
       "      <th>8</th>\n",
       "      <td>1</td>\n",
       "      <td>185.0</td>\n",
       "      <td>60.0</td>\n",
       "      <td>180.0</td>\n",
       "      <td>1</td>\n",
       "      <td>21.0</td>\n",
       "      <td>21.0</td>\n",
       "      <td>18.0</td>\n",
       "      <td>1</td>\n",
       "      <td>3</td>\n",
       "      <td>1</td>\n",
       "      <td>0</td>\n",
       "      <td>0</td>\n",
       "      <td>0</td>\n",
       "      <td>0</td>\n",
       "      <td>1</td>\n",
       "      <td>1</td>\n",
       "    </tr>\n",
       "    <tr>\n",
       "      <th>10</th>\n",
       "      <td>1</td>\n",
       "      <td>178.0</td>\n",
       "      <td>81.6</td>\n",
       "      <td>178.0</td>\n",
       "      <td>6</td>\n",
       "      <td>25.0</td>\n",
       "      <td>23.0</td>\n",
       "      <td>21.0</td>\n",
       "      <td>2</td>\n",
       "      <td>4</td>\n",
       "      <td>0</td>\n",
       "      <td>1</td>\n",
       "      <td>0</td>\n",
       "      <td>0</td>\n",
       "      <td>2</td>\n",
       "      <td>3</td>\n",
       "      <td>3</td>\n",
       "    </tr>\n",
       "    <tr>\n",
       "      <th>...</th>\n",
       "      <td>...</td>\n",
       "      <td>...</td>\n",
       "      <td>...</td>\n",
       "      <td>...</td>\n",
       "      <td>...</td>\n",
       "      <td>...</td>\n",
       "      <td>...</td>\n",
       "      <td>...</td>\n",
       "      <td>...</td>\n",
       "      <td>...</td>\n",
       "      <td>...</td>\n",
       "      <td>...</td>\n",
       "      <td>...</td>\n",
       "      <td>...</td>\n",
       "      <td>...</td>\n",
       "      <td>...</td>\n",
       "      <td>...</td>\n",
       "    </tr>\n",
       "    <tr>\n",
       "      <th>584</th>\n",
       "      <td>1</td>\n",
       "      <td>172.0</td>\n",
       "      <td>82.5</td>\n",
       "      <td>191.7</td>\n",
       "      <td>3</td>\n",
       "      <td>22.0</td>\n",
       "      <td>22.0</td>\n",
       "      <td>19.0</td>\n",
       "      <td>2</td>\n",
       "      <td>4</td>\n",
       "      <td>2</td>\n",
       "      <td>1</td>\n",
       "      <td>0</td>\n",
       "      <td>0</td>\n",
       "      <td>0</td>\n",
       "      <td>5</td>\n",
       "      <td>10</td>\n",
       "    </tr>\n",
       "    <tr>\n",
       "      <th>585</th>\n",
       "      <td>1</td>\n",
       "      <td>165.0</td>\n",
       "      <td>63.0</td>\n",
       "      <td>165.0</td>\n",
       "      <td>9</td>\n",
       "      <td>31.0</td>\n",
       "      <td>31.0</td>\n",
       "      <td>30.0</td>\n",
       "      <td>4</td>\n",
       "      <td>12</td>\n",
       "      <td>4</td>\n",
       "      <td>1</td>\n",
       "      <td>1</td>\n",
       "      <td>1</td>\n",
       "      <td>0</td>\n",
       "      <td>1</td>\n",
       "      <td>1</td>\n",
       "    </tr>\n",
       "    <tr>\n",
       "      <th>586</th>\n",
       "      <td>1</td>\n",
       "      <td>164.0</td>\n",
       "      <td>68.0</td>\n",
       "      <td>164.0</td>\n",
       "      <td>5</td>\n",
       "      <td>29.0</td>\n",
       "      <td>29.0</td>\n",
       "      <td>25.0</td>\n",
       "      <td>2</td>\n",
       "      <td>3</td>\n",
       "      <td>4</td>\n",
       "      <td>3</td>\n",
       "      <td>0</td>\n",
       "      <td>0</td>\n",
       "      <td>2</td>\n",
       "      <td>1</td>\n",
       "      <td>1</td>\n",
       "    </tr>\n",
       "    <tr>\n",
       "      <th>587</th>\n",
       "      <td>1</td>\n",
       "      <td>178.0</td>\n",
       "      <td>65.0</td>\n",
       "      <td>182.0</td>\n",
       "      <td>4</td>\n",
       "      <td>27.0</td>\n",
       "      <td>26.0</td>\n",
       "      <td>23.0</td>\n",
       "      <td>3</td>\n",
       "      <td>4</td>\n",
       "      <td>2</td>\n",
       "      <td>7</td>\n",
       "      <td>0</td>\n",
       "      <td>0</td>\n",
       "      <td>1</td>\n",
       "      <td>0</td>\n",
       "      <td>0</td>\n",
       "    </tr>\n",
       "    <tr>\n",
       "      <th>590</th>\n",
       "      <td>1</td>\n",
       "      <td>180.0</td>\n",
       "      <td>63.5</td>\n",
       "      <td>181.0</td>\n",
       "      <td>2</td>\n",
       "      <td>22.0</td>\n",
       "      <td>22.0</td>\n",
       "      <td>18.0</td>\n",
       "      <td>1</td>\n",
       "      <td>2</td>\n",
       "      <td>1</td>\n",
       "      <td>2</td>\n",
       "      <td>1</td>\n",
       "      <td>0</td>\n",
       "      <td>1</td>\n",
       "      <td>1</td>\n",
       "      <td>1</td>\n",
       "    </tr>\n",
       "  </tbody>\n",
       "</table>\n",
       "<p>393 rows × 17 columns</p>\n",
       "</div>"
      ],
      "text/plain": [
       "     Sex  Height  Weight  Arm_span  Time_climbing  Hardest_Ewbank_Grade_ever  \\\n",
       "2      1   178.0    67.0     175.0              1                       21.0   \n",
       "3      1   173.0    70.0     178.0             10                       21.0   \n",
       "7      1   186.0    88.0     192.0              2                       23.0   \n",
       "8      1   185.0    60.0     180.0              1                       21.0   \n",
       "10     1   178.0    81.6     178.0              6                       25.0   \n",
       "..   ...     ...     ...       ...            ...                        ...   \n",
       "584    1   172.0    82.5     191.7              3                       22.0   \n",
       "585    1   165.0    63.0     165.0              9                       31.0   \n",
       "586    1   164.0    68.0     164.0              5                       29.0   \n",
       "587    1   178.0    65.0     182.0              4                       27.0   \n",
       "590    1   180.0    63.5     181.0              2                       22.0   \n",
       "\n",
       "     Hardest_Ewbank_Grade_last3months  Ewbank_Grade_sent_90perc_routes  \\\n",
       "2                                21.0                             19.0   \n",
       "3                                21.0                             18.0   \n",
       "7                                22.0                             21.0   \n",
       "8                                21.0                             18.0   \n",
       "10                               23.0                             21.0   \n",
       "..                                ...                              ...   \n",
       "584                              22.0                             19.0   \n",
       "585                              31.0                             30.0   \n",
       "586                              29.0                             25.0   \n",
       "587                              26.0                             23.0   \n",
       "590                              22.0                             18.0   \n",
       "\n",
       "     Freq_climbing_sessions_w  Avg_hours_climbing_w  \\\n",
       "2                           3                     4   \n",
       "3                           2                     6   \n",
       "7                           3                     8   \n",
       "8                           1                     3   \n",
       "10                          2                     4   \n",
       "..                        ...                   ...   \n",
       "584                         2                     4   \n",
       "585                         4                    12   \n",
       "586                         2                     3   \n",
       "587                         3                     4   \n",
       "590                         1                     2   \n",
       "\n",
       "     Avg_hours_training_for_climbing_w  Freq_Hangboard_w  Freq_CampusBoard_w  \\\n",
       "2                                    3                 2                   0   \n",
       "3                                    1                 1                   0   \n",
       "7                                    8                 1                   0   \n",
       "8                                    1                 0                   0   \n",
       "10                                   0                 1                   0   \n",
       "..                                 ...               ...                 ...   \n",
       "584                                  2                 1                   0   \n",
       "585                                  4                 1                   1   \n",
       "586                                  4                 3                   0   \n",
       "587                                  2                 7                   0   \n",
       "590                                  1                 2                   1   \n",
       "\n",
       "     Time_CampusBoard_h  Freq_Endurance_session_w  \\\n",
       "2                     0                         2   \n",
       "3                     0                         1   \n",
       "7                     0                         2   \n",
       "8                     0                         0   \n",
       "10                    0                         2   \n",
       "..                  ...                       ...   \n",
       "584                   0                         0   \n",
       "585                   1                         0   \n",
       "586                   0                         2   \n",
       "587                   0                         1   \n",
       "590                   0                         1   \n",
       "\n",
       "     Freq_General_Strength_Training_w  Time_General_Strength_Training_h  \n",
       "2                                   3                                 2  \n",
       "3                                   0                                 0  \n",
       "7                                   3                                 4  \n",
       "8                                   1                                 1  \n",
       "10                                  3                                 3  \n",
       "..                                ...                               ...  \n",
       "584                                 5                                10  \n",
       "585                                 1                                 1  \n",
       "586                                 1                                 1  \n",
       "587                                 0                                 0  \n",
       "590                                 1                                 1  \n",
       "\n",
       "[393 rows x 17 columns]"
      ]
     },
     "execution_count": 51,
     "metadata": {},
     "output_type": "execute_result"
    }
   ],
   "source": [
    "df_no_object"
   ]
  },
  {
   "cell_type": "markdown",
   "metadata": {},
   "source": [
    "#### Calculem la moda, la mediana, la desviació estàndard i la mitjana aritmètica de **l'alçada**. "
   ]
  },
  {
   "cell_type": "markdown",
   "metadata": {},
   "source": [
    "##### **Moda**"
   ]
  },
  {
   "cell_type": "code",
   "execution_count": 19,
   "metadata": {
    "execution": {
     "iopub.execute_input": "2021-09-13T15:49:02.162892Z",
     "iopub.status.busy": "2021-09-13T15:49:02.160609Z",
     "iopub.status.idle": "2021-09-13T15:49:02.297393Z",
     "shell.execute_reply": "2021-09-13T15:49:02.293542Z",
     "shell.execute_reply.started": "2021-09-13T15:49:02.162756Z"
    }
   },
   "outputs": [
    {
     "data": {
      "text/plain": [
       "0    178.0\n",
       "dtype: float64"
      ]
     },
     "execution_count": 19,
     "metadata": {},
     "output_type": "execute_result"
    }
   ],
   "source": [
    "df_no_object.Height.mode()"
   ]
  },
  {
   "cell_type": "code",
   "execution_count": 21,
   "metadata": {
    "execution": {
     "iopub.execute_input": "2021-09-13T15:49:59.227119Z",
     "iopub.status.busy": "2021-09-13T15:49:59.224900Z",
     "iopub.status.idle": "2021-09-13T15:49:59.424335Z",
     "shell.execute_reply": "2021-09-13T15:49:59.420785Z",
     "shell.execute_reply.started": "2021-09-13T15:49:59.226991Z"
    }
   },
   "outputs": [
    {
     "data": {
      "text/plain": [
       "178.0    41\n",
       "180.0    34\n",
       "183.0    24\n",
       "175.0    22\n",
       "170.0    17\n",
       "         ..\n",
       "110.0     1\n",
       "155.0     1\n",
       "158.0     1\n",
       "177.4     1\n",
       "159.0     1\n",
       "Name: Height, Length: 67, dtype: int64"
      ]
     },
     "execution_count": 21,
     "metadata": {},
     "output_type": "execute_result"
    }
   ],
   "source": [
    "#Confirmem que l'alçada més comú es de 178 cm.\n",
    "df_no_object.Height.value_counts()"
   ]
  },
  {
   "cell_type": "markdown",
   "metadata": {},
   "source": [
    "##### **Mediana**"
   ]
  },
  {
   "cell_type": "code",
   "execution_count": 20,
   "metadata": {
    "execution": {
     "iopub.execute_input": "2021-09-13T15:49:37.647143Z",
     "iopub.status.busy": "2021-09-13T15:49:37.644212Z",
     "iopub.status.idle": "2021-09-13T15:49:37.694526Z",
     "shell.execute_reply": "2021-09-13T15:49:37.689911Z",
     "shell.execute_reply.started": "2021-09-13T15:49:37.646990Z"
    }
   },
   "outputs": [
    {
     "data": {
      "text/plain": [
       "178.0"
      ]
     },
     "execution_count": 20,
     "metadata": {},
     "output_type": "execute_result"
    }
   ],
   "source": [
    "df_no_object.Height.median()"
   ]
  },
  {
   "cell_type": "code",
   "execution_count": 24,
   "metadata": {
    "execution": {
     "iopub.execute_input": "2021-09-13T15:54:41.464649Z",
     "iopub.status.busy": "2021-09-13T15:54:41.463861Z",
     "iopub.status.idle": "2021-09-13T15:54:41.526714Z",
     "shell.execute_reply": "2021-09-13T15:54:41.525421Z",
     "shell.execute_reply.started": "2021-09-13T15:54:41.464483Z"
    }
   },
   "outputs": [
    {
     "name": "stdout",
     "output_type": "stream",
     "text": [
      "178.0\n"
     ]
    }
   ],
   "source": [
    "# Doble comprovació\n",
    "n = len(df_no_object.Height)\n",
    "index = n // 2\n",
    "\n",
    "# Si 'n' no és parell\n",
    "if n % 2:\n",
    "    print(sorted(df_no_object.Height)[index])\n",
    "# Si 'n' és parell   \n",
    "else:\n",
    "    print(sum(sorted(df_no_object.Height)[index - 1:index + 1]) / 2)"
   ]
  },
  {
   "cell_type": "markdown",
   "metadata": {},
   "source": [
    "##### **Desviació estàndard**"
   ]
  },
  {
   "cell_type": "code",
   "execution_count": 17,
   "metadata": {
    "execution": {
     "iopub.execute_input": "2021-09-13T15:48:46.069115Z",
     "iopub.status.busy": "2021-09-13T15:48:46.061512Z",
     "iopub.status.idle": "2021-09-13T15:48:46.229532Z",
     "shell.execute_reply": "2021-09-13T15:48:46.220343Z",
     "shell.execute_reply.started": "2021-09-13T15:48:46.068826Z"
    }
   },
   "outputs": [
    {
     "data": {
      "text/plain": [
       "58.77957592741358"
      ]
     },
     "execution_count": 17,
     "metadata": {},
     "output_type": "execute_result"
    }
   ],
   "source": [
    "df_no_object.Height.std()"
   ]
  },
  {
   "cell_type": "markdown",
   "metadata": {},
   "source": [
    "##### **Mitjana aritmètica**"
   ]
  },
  {
   "cell_type": "code",
   "execution_count": 18,
   "metadata": {
    "execution": {
     "iopub.execute_input": "2021-09-13T15:48:55.733785Z",
     "iopub.status.busy": "2021-09-13T15:48:55.733396Z",
     "iopub.status.idle": "2021-09-13T15:48:55.751664Z",
     "shell.execute_reply": "2021-09-13T15:48:55.750327Z",
     "shell.execute_reply.started": "2021-09-13T15:48:55.733731Z"
    }
   },
   "outputs": [
    {
     "data": {
      "text/plain": [
       "178.84099236641225"
      ]
     },
     "execution_count": 18,
     "metadata": {},
     "output_type": "execute_result"
    }
   ],
   "source": [
    "df_no_object.Height.mean()"
   ]
  },
  {
   "cell_type": "code",
   "execution_count": 22,
   "metadata": {
    "execution": {
     "iopub.execute_input": "2021-09-13T15:52:15.327852Z",
     "iopub.status.busy": "2021-09-13T15:52:15.322952Z",
     "iopub.status.idle": "2021-09-13T15:52:15.461331Z",
     "shell.execute_reply": "2021-09-13T15:52:15.459031Z",
     "shell.execute_reply.started": "2021-09-13T15:52:15.327098Z"
    }
   },
   "outputs": [
    {
     "data": {
      "text/plain": [
       "178.84099236641225"
      ]
     },
     "execution_count": 22,
     "metadata": {},
     "output_type": "execute_result"
    }
   ],
   "source": [
    "#Doble comprovación\n",
    "df_no_object.Height.sum()/len(df_no_object.Height)"
   ]
  },
  {
   "cell_type": "markdown",
   "metadata": {},
   "source": [
    "## Exercici 2\n",
    "Continuant amb les dades de tema esportiu, selecciona dos atributs i calcula'n la seva correlació. "
   ]
  },
  {
   "cell_type": "markdown",
   "metadata": {},
   "source": [
    "#### Calculem la correlació entre alçada i pes"
   ]
  },
  {
   "cell_type": "code",
   "execution_count": 71,
   "metadata": {
    "execution": {
     "iopub.execute_input": "2021-09-13T16:15:33.260129Z",
     "iopub.status.busy": "2021-09-13T16:15:33.259708Z",
     "iopub.status.idle": "2021-09-13T16:15:33.324327Z",
     "shell.execute_reply": "2021-09-13T16:15:33.303441Z",
     "shell.execute_reply.started": "2021-09-13T16:15:33.260095Z"
    }
   },
   "outputs": [],
   "source": [
    "#Eliminem valors amb alçada superior a 500 cm o inferior a 125 cm, ja que son outliers\n",
    "df_no_object = df_no_object.drop(df_no_object[df_no_object.Height > 500].index)\n",
    "df_no_object = df_no_object.drop(df_no_object[df_no_object.Height < 125].index)"
   ]
  },
  {
   "cell_type": "code",
   "execution_count": 72,
   "metadata": {
    "execution": {
     "iopub.execute_input": "2021-09-13T16:15:34.942188Z",
     "iopub.status.busy": "2021-09-13T16:15:34.941861Z",
     "iopub.status.idle": "2021-09-13T16:15:34.951242Z",
     "shell.execute_reply": "2021-09-13T16:15:34.949370Z",
     "shell.execute_reply.started": "2021-09-13T16:15:34.942155Z"
    }
   },
   "outputs": [
    {
     "data": {
      "text/plain": [
       "0.370900537214909"
      ]
     },
     "execution_count": 72,
     "metadata": {},
     "output_type": "execute_result"
    }
   ],
   "source": [
    "#Calculem la correlació entre les variables. \n",
    "df_no_object.Height.corr(df_no_object.Weight)"
   ]
  },
  {
   "cell_type": "code",
   "execution_count": 75,
   "metadata": {
    "execution": {
     "iopub.execute_input": "2021-09-13T16:23:38.292844Z",
     "iopub.status.busy": "2021-09-13T16:23:38.292512Z",
     "iopub.status.idle": "2021-09-13T16:23:38.649323Z",
     "shell.execute_reply": "2021-09-13T16:23:38.648043Z",
     "shell.execute_reply.started": "2021-09-13T16:23:38.292811Z"
    }
   },
   "outputs": [
    {
     "data": {
      "image/png": "[encoded data removed]",
      "text/plain": [
       "<Figure size 432x288 with 1 Axes>"
      ]
     },
     "metadata": {
      "needs_background": "light"
     },
     "output_type": "display_data"
    }
   ],
   "source": [
    "#Representació visual de la correlació entre alçada i pes\n",
    "sns.scatterplot(x='Height', y='Weight', data=df_no_object)\n",
    "#plt.legend(bbox_to_anchor=(1.05, 1), loc=2, borderaxespad=0.)\n",
    "plt.show()"
   ]
  },
  {
   "cell_type": "markdown",
   "metadata": {},
   "source": [
    "La correlació entre l'alçada i el pes es inferior a l'esperada (0,37), probablement a causa de la presencia de valors outliers (alçades i pesos introduits en el sistema imperial, en lloc del mètric). Com observem en el següent plot, si eliminem els valors de pes superiors a 115, la correlació entre les variables augmenta a quasi 0,7."
   ]
  },
  {
   "cell_type": "code",
   "execution_count": 94,
   "metadata": {
    "execution": {
     "iopub.execute_input": "2021-09-14T15:22:02.065244Z",
     "iopub.status.busy": "2021-09-14T15:22:02.064864Z",
     "iopub.status.idle": "2021-09-14T15:22:02.531642Z",
     "shell.execute_reply": "2021-09-14T15:22:02.529078Z",
     "shell.execute_reply.started": "2021-09-14T15:22:02.065209Z"
    }
   },
   "outputs": [
    {
     "name": "stdout",
     "output_type": "stream",
     "text": [
      "0.6900371804274974\n"
     ]
    },
    {
     "data": {
      "image/png": "[encoded data removed]",
      "text/plain": [
       "<Figure size 432x288 with 1 Axes>"
      ]
     },
     "metadata": {
      "needs_background": "light"
     },
     "output_type": "display_data"
    }
   ],
   "source": [
    "df_no_object_2 = df_no_object.drop(df_no_object[df_no_object.Weight > 115].index)\n",
    "print(df_no_object.Height.corr(df_no_object_2.Weight))\n",
    "sns.scatterplot(x='Height', y='Weight', data=df_no_object_2)\n",
    "plt.show()"
   ]
  },
  {
   "cell_type": "markdown",
   "metadata": {},
   "source": [
    "## Exercici 3\n",
    "Continuant amb les dades de tema esportiu, calcula la correlació de tots els atributs entre sí i representa'ls en una matriu amb diferents colors d'intensitat."
   ]
  },
  {
   "cell_type": "code",
   "execution_count": 79,
   "metadata": {
    "execution": {
     "iopub.execute_input": "2021-09-13T16:24:50.603768Z",
     "iopub.status.busy": "2021-09-13T16:24:50.599667Z",
     "iopub.status.idle": "2021-09-13T16:24:50.960313Z",
     "shell.execute_reply": "2021-09-13T16:24:50.954804Z",
     "shell.execute_reply.started": "2021-09-13T16:24:50.603594Z"
    }
   },
   "outputs": [
    {
     "data": {
      "text/html": [
       "<div>\n",
       "<style scoped>\n",
       "    .dataframe tbody tr th:only-of-type {\n",
       "        vertical-align: middle;\n",
       "    }\n",
       "\n",
       "    .dataframe tbody tr th {\n",
       "        vertical-align: top;\n",
       "    }\n",
       "\n",
       "    .dataframe thead th {\n",
       "        text-align: right;\n",
       "    }\n",
       "</style>\n",
       "<table border=\"1\" class=\"dataframe\">\n",
       "  <thead>\n",
       "    <tr style=\"text-align: right;\">\n",
       "      <th></th>\n",
       "      <th>Sex</th>\n",
       "      <th>Height</th>\n",
       "      <th>Weight</th>\n",
       "      <th>Arm_span</th>\n",
       "      <th>Time_climbing</th>\n",
       "      <th>Hardest_Ewbank_Grade_ever</th>\n",
       "      <th>Hardest_Ewbank_Grade_last3months</th>\n",
       "      <th>Ewbank_Grade_sent_90perc_routes</th>\n",
       "      <th>Freq_climbing_sessions_w</th>\n",
       "      <th>Avg_hours_climbing_w</th>\n",
       "      <th>Avg_hours_training_for_climbing_w</th>\n",
       "      <th>Freq_Hangboard_w</th>\n",
       "      <th>Freq_CampusBoard_w</th>\n",
       "      <th>Time_CampusBoard_h</th>\n",
       "      <th>Freq_Endurance_session_w</th>\n",
       "      <th>Freq_General_Strength_Training_w</th>\n",
       "      <th>Time_General_Strength_Training_h</th>\n",
       "    </tr>\n",
       "  </thead>\n",
       "  <tbody>\n",
       "    <tr>\n",
       "      <th>Sex</th>\n",
       "      <td>1.000000</td>\n",
       "      <td>0.580212</td>\n",
       "      <td>0.252213</td>\n",
       "      <td>0.313752</td>\n",
       "      <td>0.069642</td>\n",
       "      <td>0.228840</td>\n",
       "      <td>0.215440</td>\n",
       "      <td>0.222175</td>\n",
       "      <td>-0.013429</td>\n",
       "      <td>0.023331</td>\n",
       "      <td>0.047999</td>\n",
       "      <td>0.166493</td>\n",
       "      <td>0.058058</td>\n",
       "      <td>0.001733</td>\n",
       "      <td>0.076784</td>\n",
       "      <td>0.040466</td>\n",
       "      <td>0.031989</td>\n",
       "    </tr>\n",
       "    <tr>\n",
       "      <th>Height</th>\n",
       "      <td>0.580212</td>\n",
       "      <td>1.000000</td>\n",
       "      <td>0.370901</td>\n",
       "      <td>0.450021</td>\n",
       "      <td>0.016430</td>\n",
       "      <td>0.075222</td>\n",
       "      <td>0.021361</td>\n",
       "      <td>0.043667</td>\n",
       "      <td>0.005602</td>\n",
       "      <td>0.041058</td>\n",
       "      <td>0.011314</td>\n",
       "      <td>0.062008</td>\n",
       "      <td>0.003831</td>\n",
       "      <td>-0.024650</td>\n",
       "      <td>0.091686</td>\n",
       "      <td>0.049191</td>\n",
       "      <td>0.028997</td>\n",
       "    </tr>\n",
       "    <tr>\n",
       "      <th>Weight</th>\n",
       "      <td>0.252213</td>\n",
       "      <td>0.370901</td>\n",
       "      <td>1.000000</td>\n",
       "      <td>0.180346</td>\n",
       "      <td>-0.055962</td>\n",
       "      <td>-0.043838</td>\n",
       "      <td>-0.074147</td>\n",
       "      <td>-0.062502</td>\n",
       "      <td>0.001047</td>\n",
       "      <td>-0.006787</td>\n",
       "      <td>0.037082</td>\n",
       "      <td>-0.040508</td>\n",
       "      <td>0.010884</td>\n",
       "      <td>-0.004403</td>\n",
       "      <td>0.052439</td>\n",
       "      <td>0.169523</td>\n",
       "      <td>0.224661</td>\n",
       "    </tr>\n",
       "    <tr>\n",
       "      <th>Arm_span</th>\n",
       "      <td>0.313752</td>\n",
       "      <td>0.450021</td>\n",
       "      <td>0.180346</td>\n",
       "      <td>1.000000</td>\n",
       "      <td>-0.034346</td>\n",
       "      <td>0.150868</td>\n",
       "      <td>0.109112</td>\n",
       "      <td>0.107334</td>\n",
       "      <td>0.035429</td>\n",
       "      <td>0.084235</td>\n",
       "      <td>0.007582</td>\n",
       "      <td>0.045861</td>\n",
       "      <td>0.049752</td>\n",
       "      <td>0.021427</td>\n",
       "      <td>0.091089</td>\n",
       "      <td>0.052536</td>\n",
       "      <td>0.028011</td>\n",
       "    </tr>\n",
       "    <tr>\n",
       "      <th>Time_climbing</th>\n",
       "      <td>0.069642</td>\n",
       "      <td>0.016430</td>\n",
       "      <td>-0.055962</td>\n",
       "      <td>-0.034346</td>\n",
       "      <td>1.000000</td>\n",
       "      <td>0.482290</td>\n",
       "      <td>0.351622</td>\n",
       "      <td>0.444701</td>\n",
       "      <td>0.050446</td>\n",
       "      <td>0.023568</td>\n",
       "      <td>0.228753</td>\n",
       "      <td>0.171685</td>\n",
       "      <td>0.108516</td>\n",
       "      <td>0.147481</td>\n",
       "      <td>0.065466</td>\n",
       "      <td>-0.112522</td>\n",
       "      <td>-0.113459</td>\n",
       "    </tr>\n",
       "    <tr>\n",
       "      <th>Hardest_Ewbank_Grade_ever</th>\n",
       "      <td>0.228840</td>\n",
       "      <td>0.075222</td>\n",
       "      <td>-0.043838</td>\n",
       "      <td>0.150868</td>\n",
       "      <td>0.482290</td>\n",
       "      <td>1.000000</td>\n",
       "      <td>0.914264</td>\n",
       "      <td>0.903087</td>\n",
       "      <td>0.252264</td>\n",
       "      <td>0.221651</td>\n",
       "      <td>0.245637</td>\n",
       "      <td>0.276132</td>\n",
       "      <td>0.159373</td>\n",
       "      <td>0.154879</td>\n",
       "      <td>0.134413</td>\n",
       "      <td>-0.072540</td>\n",
       "      <td>-0.094094</td>\n",
       "    </tr>\n",
       "    <tr>\n",
       "      <th>Hardest_Ewbank_Grade_last3months</th>\n",
       "      <td>0.215440</td>\n",
       "      <td>0.021361</td>\n",
       "      <td>-0.074147</td>\n",
       "      <td>0.109112</td>\n",
       "      <td>0.351622</td>\n",
       "      <td>0.914264</td>\n",
       "      <td>1.000000</td>\n",
       "      <td>0.906766</td>\n",
       "      <td>0.287951</td>\n",
       "      <td>0.221150</td>\n",
       "      <td>0.217982</td>\n",
       "      <td>0.244932</td>\n",
       "      <td>0.156553</td>\n",
       "      <td>0.158228</td>\n",
       "      <td>0.087822</td>\n",
       "      <td>-0.060561</td>\n",
       "      <td>-0.092247</td>\n",
       "    </tr>\n",
       "    <tr>\n",
       "      <th>Ewbank_Grade_sent_90perc_routes</th>\n",
       "      <td>0.222175</td>\n",
       "      <td>0.043667</td>\n",
       "      <td>-0.062502</td>\n",
       "      <td>0.107334</td>\n",
       "      <td>0.444701</td>\n",
       "      <td>0.903087</td>\n",
       "      <td>0.906766</td>\n",
       "      <td>1.000000</td>\n",
       "      <td>0.297162</td>\n",
       "      <td>0.223624</td>\n",
       "      <td>0.275454</td>\n",
       "      <td>0.289074</td>\n",
       "      <td>0.172961</td>\n",
       "      <td>0.183333</td>\n",
       "      <td>0.129649</td>\n",
       "      <td>-0.006503</td>\n",
       "      <td>-0.043537</td>\n",
       "    </tr>\n",
       "    <tr>\n",
       "      <th>Freq_climbing_sessions_w</th>\n",
       "      <td>-0.013429</td>\n",
       "      <td>0.005602</td>\n",
       "      <td>0.001047</td>\n",
       "      <td>0.035429</td>\n",
       "      <td>0.050446</td>\n",
       "      <td>0.252264</td>\n",
       "      <td>0.287951</td>\n",
       "      <td>0.297162</td>\n",
       "      <td>1.000000</td>\n",
       "      <td>0.615056</td>\n",
       "      <td>0.321169</td>\n",
       "      <td>0.254601</td>\n",
       "      <td>0.187228</td>\n",
       "      <td>0.228582</td>\n",
       "      <td>0.256710</td>\n",
       "      <td>0.131669</td>\n",
       "      <td>0.055980</td>\n",
       "    </tr>\n",
       "    <tr>\n",
       "      <th>Avg_hours_climbing_w</th>\n",
       "      <td>0.023331</td>\n",
       "      <td>0.041058</td>\n",
       "      <td>-0.006787</td>\n",
       "      <td>0.084235</td>\n",
       "      <td>0.023568</td>\n",
       "      <td>0.221651</td>\n",
       "      <td>0.221150</td>\n",
       "      <td>0.223624</td>\n",
       "      <td>0.615056</td>\n",
       "      <td>1.000000</td>\n",
       "      <td>0.126465</td>\n",
       "      <td>0.096918</td>\n",
       "      <td>0.057488</td>\n",
       "      <td>0.014799</td>\n",
       "      <td>0.119619</td>\n",
       "      <td>0.029045</td>\n",
       "      <td>0.010007</td>\n",
       "    </tr>\n",
       "    <tr>\n",
       "      <th>Avg_hours_training_for_climbing_w</th>\n",
       "      <td>0.047999</td>\n",
       "      <td>0.011314</td>\n",
       "      <td>0.037082</td>\n",
       "      <td>0.007582</td>\n",
       "      <td>0.228753</td>\n",
       "      <td>0.245637</td>\n",
       "      <td>0.217982</td>\n",
       "      <td>0.275454</td>\n",
       "      <td>0.321169</td>\n",
       "      <td>0.126465</td>\n",
       "      <td>1.000000</td>\n",
       "      <td>0.382457</td>\n",
       "      <td>0.249679</td>\n",
       "      <td>0.338779</td>\n",
       "      <td>0.316430</td>\n",
       "      <td>0.369113</td>\n",
       "      <td>0.398379</td>\n",
       "    </tr>\n",
       "    <tr>\n",
       "      <th>Freq_Hangboard_w</th>\n",
       "      <td>0.166493</td>\n",
       "      <td>0.062008</td>\n",
       "      <td>-0.040508</td>\n",
       "      <td>0.045861</td>\n",
       "      <td>0.171685</td>\n",
       "      <td>0.276132</td>\n",
       "      <td>0.244932</td>\n",
       "      <td>0.289074</td>\n",
       "      <td>0.254601</td>\n",
       "      <td>0.096918</td>\n",
       "      <td>0.382457</td>\n",
       "      <td>1.000000</td>\n",
       "      <td>0.229646</td>\n",
       "      <td>0.202968</td>\n",
       "      <td>0.395975</td>\n",
       "      <td>0.185707</td>\n",
       "      <td>0.155032</td>\n",
       "    </tr>\n",
       "    <tr>\n",
       "      <th>Freq_CampusBoard_w</th>\n",
       "      <td>0.058058</td>\n",
       "      <td>0.003831</td>\n",
       "      <td>0.010884</td>\n",
       "      <td>0.049752</td>\n",
       "      <td>0.108516</td>\n",
       "      <td>0.159373</td>\n",
       "      <td>0.156553</td>\n",
       "      <td>0.172961</td>\n",
       "      <td>0.187228</td>\n",
       "      <td>0.057488</td>\n",
       "      <td>0.249679</td>\n",
       "      <td>0.229646</td>\n",
       "      <td>1.000000</td>\n",
       "      <td>0.809992</td>\n",
       "      <td>0.328029</td>\n",
       "      <td>0.183037</td>\n",
       "      <td>0.169871</td>\n",
       "    </tr>\n",
       "    <tr>\n",
       "      <th>Time_CampusBoard_h</th>\n",
       "      <td>0.001733</td>\n",
       "      <td>-0.024650</td>\n",
       "      <td>-0.004403</td>\n",
       "      <td>0.021427</td>\n",
       "      <td>0.147481</td>\n",
       "      <td>0.154879</td>\n",
       "      <td>0.158228</td>\n",
       "      <td>0.183333</td>\n",
       "      <td>0.228582</td>\n",
       "      <td>0.014799</td>\n",
       "      <td>0.338779</td>\n",
       "      <td>0.202968</td>\n",
       "      <td>0.809992</td>\n",
       "      <td>1.000000</td>\n",
       "      <td>0.237798</td>\n",
       "      <td>0.176003</td>\n",
       "      <td>0.222385</td>\n",
       "    </tr>\n",
       "    <tr>\n",
       "      <th>Freq_Endurance_session_w</th>\n",
       "      <td>0.076784</td>\n",
       "      <td>0.091686</td>\n",
       "      <td>0.052439</td>\n",
       "      <td>0.091089</td>\n",
       "      <td>0.065466</td>\n",
       "      <td>0.134413</td>\n",
       "      <td>0.087822</td>\n",
       "      <td>0.129649</td>\n",
       "      <td>0.256710</td>\n",
       "      <td>0.119619</td>\n",
       "      <td>0.316430</td>\n",
       "      <td>0.395975</td>\n",
       "      <td>0.328029</td>\n",
       "      <td>0.237798</td>\n",
       "      <td>1.000000</td>\n",
       "      <td>0.234094</td>\n",
       "      <td>0.221759</td>\n",
       "    </tr>\n",
       "    <tr>\n",
       "      <th>Freq_General_Strength_Training_w</th>\n",
       "      <td>0.040466</td>\n",
       "      <td>0.049191</td>\n",
       "      <td>0.169523</td>\n",
       "      <td>0.052536</td>\n",
       "      <td>-0.112522</td>\n",
       "      <td>-0.072540</td>\n",
       "      <td>-0.060561</td>\n",
       "      <td>-0.006503</td>\n",
       "      <td>0.131669</td>\n",
       "      <td>0.029045</td>\n",
       "      <td>0.369113</td>\n",
       "      <td>0.185707</td>\n",
       "      <td>0.183037</td>\n",
       "      <td>0.176003</td>\n",
       "      <td>0.234094</td>\n",
       "      <td>1.000000</td>\n",
       "      <td>0.748941</td>\n",
       "    </tr>\n",
       "    <tr>\n",
       "      <th>Time_General_Strength_Training_h</th>\n",
       "      <td>0.031989</td>\n",
       "      <td>0.028997</td>\n",
       "      <td>0.224661</td>\n",
       "      <td>0.028011</td>\n",
       "      <td>-0.113459</td>\n",
       "      <td>-0.094094</td>\n",
       "      <td>-0.092247</td>\n",
       "      <td>-0.043537</td>\n",
       "      <td>0.055980</td>\n",
       "      <td>0.010007</td>\n",
       "      <td>0.398379</td>\n",
       "      <td>0.155032</td>\n",
       "      <td>0.169871</td>\n",
       "      <td>0.222385</td>\n",
       "      <td>0.221759</td>\n",
       "      <td>0.748941</td>\n",
       "      <td>1.000000</td>\n",
       "    </tr>\n",
       "  </tbody>\n",
       "</table>\n",
       "</div>"
      ],
      "text/plain": [
       "                                        Sex    Height    Weight  Arm_span  \\\n",
       "Sex                                1.000000  0.580212  0.252213  0.313752   \n",
       "Height                             0.580212  1.000000  0.370901  0.450021   \n",
       "Weight                             0.252213  0.370901  1.000000  0.180346   \n",
       "Arm_span                           0.313752  0.450021  0.180346  1.000000   \n",
       "Time_climbing                      0.069642  0.016430 -0.055962 -0.034346   \n",
       "Hardest_Ewbank_Grade_ever          0.228840  0.075222 -0.043838  0.150868   \n",
       "Hardest_Ewbank_Grade_last3months   0.215440  0.021361 -0.074147  0.109112   \n",
       "Ewbank_Grade_sent_90perc_routes    0.222175  0.043667 -0.062502  0.107334   \n",
       "Freq_climbing_sessions_w          -0.013429  0.005602  0.001047  0.035429   \n",
       "Avg_hours_climbing_w               0.023331  0.041058 -0.006787  0.084235   \n",
       "Avg_hours_training_for_climbing_w  0.047999  0.011314  0.037082  0.007582   \n",
       "Freq_Hangboard_w                   0.166493  0.062008 -0.040508  0.045861   \n",
       "Freq_CampusBoard_w                 0.058058  0.003831  0.010884  0.049752   \n",
       "Time_CampusBoard_h                 0.001733 -0.024650 -0.004403  0.021427   \n",
       "Freq_Endurance_session_w           0.076784  0.091686  0.052439  0.091089   \n",
       "Freq_General_Strength_Training_w   0.040466  0.049191  0.169523  0.052536   \n",
       "Time_General_Strength_Training_h   0.031989  0.028997  0.224661  0.028011   \n",
       "\n",
       "                                   Time_climbing  Hardest_Ewbank_Grade_ever  \\\n",
       "Sex                                     0.069642                   0.228840   \n",
       "Height                                  0.016430                   0.075222   \n",
       "Weight                                 -0.055962                  -0.043838   \n",
       "Arm_span                               -0.034346                   0.150868   \n",
       "Time_climbing                           1.000000                   0.482290   \n",
       "Hardest_Ewbank_Grade_ever               0.482290                   1.000000   \n",
       "Hardest_Ewbank_Grade_last3months        0.351622                   0.914264   \n",
       "Ewbank_Grade_sent_90perc_routes         0.444701                   0.903087   \n",
       "Freq_climbing_sessions_w                0.050446                   0.252264   \n",
       "Avg_hours_climbing_w                    0.023568                   0.221651   \n",
       "Avg_hours_training_for_climbing_w       0.228753                   0.245637   \n",
       "Freq_Hangboard_w                        0.171685                   0.276132   \n",
       "Freq_CampusBoard_w                      0.108516                   0.159373   \n",
       "Time_CampusBoard_h                      0.147481                   0.154879   \n",
       "Freq_Endurance_session_w                0.065466                   0.134413   \n",
       "Freq_General_Strength_Training_w       -0.112522                  -0.072540   \n",
       "Time_General_Strength_Training_h       -0.113459                  -0.094094   \n",
       "\n",
       "                                   Hardest_Ewbank_Grade_last3months  \\\n",
       "Sex                                                        0.215440   \n",
       "Height                                                     0.021361   \n",
       "Weight                                                    -0.074147   \n",
       "Arm_span                                                   0.109112   \n",
       "Time_climbing                                              0.351622   \n",
       "Hardest_Ewbank_Grade_ever                                  0.914264   \n",
       "Hardest_Ewbank_Grade_last3months                           1.000000   \n",
       "Ewbank_Grade_sent_90perc_routes                            0.906766   \n",
       "Freq_climbing_sessions_w                                   0.287951   \n",
       "Avg_hours_climbing_w                                       0.221150   \n",
       "Avg_hours_training_for_climbing_w                          0.217982   \n",
       "Freq_Hangboard_w                                           0.244932   \n",
       "Freq_CampusBoard_w                                         0.156553   \n",
       "Time_CampusBoard_h                                         0.158228   \n",
       "Freq_Endurance_session_w                                   0.087822   \n",
       "Freq_General_Strength_Training_w                          -0.060561   \n",
       "Time_General_Strength_Training_h                          -0.092247   \n",
       "\n",
       "                                   Ewbank_Grade_sent_90perc_routes  \\\n",
       "Sex                                                       0.222175   \n",
       "Height                                                    0.043667   \n",
       "Weight                                                   -0.062502   \n",
       "Arm_span                                                  0.107334   \n",
       "Time_climbing                                             0.444701   \n",
       "Hardest_Ewbank_Grade_ever                                 0.903087   \n",
       "Hardest_Ewbank_Grade_last3months                          0.906766   \n",
       "Ewbank_Grade_sent_90perc_routes                           1.000000   \n",
       "Freq_climbing_sessions_w                                  0.297162   \n",
       "Avg_hours_climbing_w                                      0.223624   \n",
       "Avg_hours_training_for_climbing_w                         0.275454   \n",
       "Freq_Hangboard_w                                          0.289074   \n",
       "Freq_CampusBoard_w                                        0.172961   \n",
       "Time_CampusBoard_h                                        0.183333   \n",
       "Freq_Endurance_session_w                                  0.129649   \n",
       "Freq_General_Strength_Training_w                         -0.006503   \n",
       "Time_General_Strength_Training_h                         -0.043537   \n",
       "\n",
       "                                   Freq_climbing_sessions_w  \\\n",
       "Sex                                               -0.013429   \n",
       "Height                                             0.005602   \n",
       "Weight                                             0.001047   \n",
       "Arm_span                                           0.035429   \n",
       "Time_climbing                                      0.050446   \n",
       "Hardest_Ewbank_Grade_ever                          0.252264   \n",
       "Hardest_Ewbank_Grade_last3months                   0.287951   \n",
       "Ewbank_Grade_sent_90perc_routes                    0.297162   \n",
       "Freq_climbing_sessions_w                           1.000000   \n",
       "Avg_hours_climbing_w                               0.615056   \n",
       "Avg_hours_training_for_climbing_w                  0.321169   \n",
       "Freq_Hangboard_w                                   0.254601   \n",
       "Freq_CampusBoard_w                                 0.187228   \n",
       "Time_CampusBoard_h                                 0.228582   \n",
       "Freq_Endurance_session_w                           0.256710   \n",
       "Freq_General_Strength_Training_w                   0.131669   \n",
       "Time_General_Strength_Training_h                   0.055980   \n",
       "\n",
       "                                   Avg_hours_climbing_w  \\\n",
       "Sex                                            0.023331   \n",
       "Height                                         0.041058   \n",
       "Weight                                        -0.006787   \n",
       "Arm_span                                       0.084235   \n",
       "Time_climbing                                  0.023568   \n",
       "Hardest_Ewbank_Grade_ever                      0.221651   \n",
       "Hardest_Ewbank_Grade_last3months               0.221150   \n",
       "Ewbank_Grade_sent_90perc_routes                0.223624   \n",
       "Freq_climbing_sessions_w                       0.615056   \n",
       "Avg_hours_climbing_w                           1.000000   \n",
       "Avg_hours_training_for_climbing_w              0.126465   \n",
       "Freq_Hangboard_w                               0.096918   \n",
       "Freq_CampusBoard_w                             0.057488   \n",
       "Time_CampusBoard_h                             0.014799   \n",
       "Freq_Endurance_session_w                       0.119619   \n",
       "Freq_General_Strength_Training_w               0.029045   \n",
       "Time_General_Strength_Training_h               0.010007   \n",
       "\n",
       "                                   Avg_hours_training_for_climbing_w  \\\n",
       "Sex                                                         0.047999   \n",
       "Height                                                      0.011314   \n",
       "Weight                                                      0.037082   \n",
       "Arm_span                                                    0.007582   \n",
       "Time_climbing                                               0.228753   \n",
       "Hardest_Ewbank_Grade_ever                                   0.245637   \n",
       "Hardest_Ewbank_Grade_last3months                            0.217982   \n",
       "Ewbank_Grade_sent_90perc_routes                             0.275454   \n",
       "Freq_climbing_sessions_w                                    0.321169   \n",
       "Avg_hours_climbing_w                                        0.126465   \n",
       "Avg_hours_training_for_climbing_w                           1.000000   \n",
       "Freq_Hangboard_w                                            0.382457   \n",
       "Freq_CampusBoard_w                                          0.249679   \n",
       "Time_CampusBoard_h                                          0.338779   \n",
       "Freq_Endurance_session_w                                    0.316430   \n",
       "Freq_General_Strength_Training_w                            0.369113   \n",
       "Time_General_Strength_Training_h                            0.398379   \n",
       "\n",
       "                                   Freq_Hangboard_w  Freq_CampusBoard_w  \\\n",
       "Sex                                        0.166493            0.058058   \n",
       "Height                                     0.062008            0.003831   \n",
       "Weight                                    -0.040508            0.010884   \n",
       "Arm_span                                   0.045861            0.049752   \n",
       "Time_climbing                              0.171685            0.108516   \n",
       "Hardest_Ewbank_Grade_ever                  0.276132            0.159373   \n",
       "Hardest_Ewbank_Grade_last3months           0.244932            0.156553   \n",
       "Ewbank_Grade_sent_90perc_routes            0.289074            0.172961   \n",
       "Freq_climbing_sessions_w                   0.254601            0.187228   \n",
       "Avg_hours_climbing_w                       0.096918            0.057488   \n",
       "Avg_hours_training_for_climbing_w          0.382457            0.249679   \n",
       "Freq_Hangboard_w                           1.000000            0.229646   \n",
       "Freq_CampusBoard_w                         0.229646            1.000000   \n",
       "Time_CampusBoard_h                         0.202968            0.809992   \n",
       "Freq_Endurance_session_w                   0.395975            0.328029   \n",
       "Freq_General_Strength_Training_w           0.185707            0.183037   \n",
       "Time_General_Strength_Training_h           0.155032            0.169871   \n",
       "\n",
       "                                   Time_CampusBoard_h  \\\n",
       "Sex                                          0.001733   \n",
       "Height                                      -0.024650   \n",
       "Weight                                      -0.004403   \n",
       "Arm_span                                     0.021427   \n",
       "Time_climbing                                0.147481   \n",
       "Hardest_Ewbank_Grade_ever                    0.154879   \n",
       "Hardest_Ewbank_Grade_last3months             0.158228   \n",
       "Ewbank_Grade_sent_90perc_routes              0.183333   \n",
       "Freq_climbing_sessions_w                     0.228582   \n",
       "Avg_hours_climbing_w                         0.014799   \n",
       "Avg_hours_training_for_climbing_w            0.338779   \n",
       "Freq_Hangboard_w                             0.202968   \n",
       "Freq_CampusBoard_w                           0.809992   \n",
       "Time_CampusBoard_h                           1.000000   \n",
       "Freq_Endurance_session_w                     0.237798   \n",
       "Freq_General_Strength_Training_w             0.176003   \n",
       "Time_General_Strength_Training_h             0.222385   \n",
       "\n",
       "                                   Freq_Endurance_session_w  \\\n",
       "Sex                                                0.076784   \n",
       "Height                                             0.091686   \n",
       "Weight                                             0.052439   \n",
       "Arm_span                                           0.091089   \n",
       "Time_climbing                                      0.065466   \n",
       "Hardest_Ewbank_Grade_ever                          0.134413   \n",
       "Hardest_Ewbank_Grade_last3months                   0.087822   \n",
       "Ewbank_Grade_sent_90perc_routes                    0.129649   \n",
       "Freq_climbing_sessions_w                           0.256710   \n",
       "Avg_hours_climbing_w                               0.119619   \n",
       "Avg_hours_training_for_climbing_w                  0.316430   \n",
       "Freq_Hangboard_w                                   0.395975   \n",
       "Freq_CampusBoard_w                                 0.328029   \n",
       "Time_CampusBoard_h                                 0.237798   \n",
       "Freq_Endurance_session_w                           1.000000   \n",
       "Freq_General_Strength_Training_w                   0.234094   \n",
       "Time_General_Strength_Training_h                   0.221759   \n",
       "\n",
       "                                   Freq_General_Strength_Training_w  \\\n",
       "Sex                                                        0.040466   \n",
       "Height                                                     0.049191   \n",
       "Weight                                                     0.169523   \n",
       "Arm_span                                                   0.052536   \n",
       "Time_climbing                                             -0.112522   \n",
       "Hardest_Ewbank_Grade_ever                                 -0.072540   \n",
       "Hardest_Ewbank_Grade_last3months                          -0.060561   \n",
       "Ewbank_Grade_sent_90perc_routes                           -0.006503   \n",
       "Freq_climbing_sessions_w                                   0.131669   \n",
       "Avg_hours_climbing_w                                       0.029045   \n",
       "Avg_hours_training_for_climbing_w                          0.369113   \n",
       "Freq_Hangboard_w                                           0.185707   \n",
       "Freq_CampusBoard_w                                         0.183037   \n",
       "Time_CampusBoard_h                                         0.176003   \n",
       "Freq_Endurance_session_w                                   0.234094   \n",
       "Freq_General_Strength_Training_w                           1.000000   \n",
       "Time_General_Strength_Training_h                           0.748941   \n",
       "\n",
       "                                   Time_General_Strength_Training_h  \n",
       "Sex                                                        0.031989  \n",
       "Height                                                     0.028997  \n",
       "Weight                                                     0.224661  \n",
       "Arm_span                                                   0.028011  \n",
       "Time_climbing                                             -0.113459  \n",
       "Hardest_Ewbank_Grade_ever                                 -0.094094  \n",
       "Hardest_Ewbank_Grade_last3months                          -0.092247  \n",
       "Ewbank_Grade_sent_90perc_routes                           -0.043537  \n",
       "Freq_climbing_sessions_w                                   0.055980  \n",
       "Avg_hours_climbing_w                                       0.010007  \n",
       "Avg_hours_training_for_climbing_w                          0.398379  \n",
       "Freq_Hangboard_w                                           0.155032  \n",
       "Freq_CampusBoard_w                                         0.169871  \n",
       "Time_CampusBoard_h                                         0.222385  \n",
       "Freq_Endurance_session_w                                   0.221759  \n",
       "Freq_General_Strength_Training_w                           0.748941  \n",
       "Time_General_Strength_Training_h                           1.000000  "
      ]
     },
     "execution_count": 79,
     "metadata": {},
     "output_type": "execute_result"
    }
   ],
   "source": [
    "corr = df_no_object.corr()\n",
    "corr"
   ]
  },
  {
   "cell_type": "code",
   "execution_count": 88,
   "metadata": {
    "execution": {
     "iopub.execute_input": "2021-09-14T14:21:22.076223Z",
     "iopub.status.busy": "2021-09-14T14:21:21.996064Z",
     "iopub.status.idle": "2021-09-14T14:21:30.665702Z",
     "shell.execute_reply": "2021-09-14T14:21:30.655544Z",
     "shell.execute_reply.started": "2021-09-14T14:21:22.070505Z"
    }
   },
   "outputs": [
    {
     "data": {
      "text/plain": [
       "<AxesSubplot:>"
      ]
     },
     "execution_count": 88,
     "metadata": {},
     "output_type": "execute_result"
    },
    {
     "data": {
      "image/png": "[encoded data removed]",
      "text/plain": [
       "<Figure size 1440x1440 with 2 Axes>"
      ]
     },
     "metadata": {
      "needs_background": "light"
     },
     "output_type": "display_data"
    }
   ],
   "source": [
    "# Matriu de correlació\n",
    "mask = np.triu(np.ones_like(corr, dtype=bool))\n",
    "f, ax = plt.subplots(figsize=(20, 20))\n",
    "cmap = sns.diverging_palette(145, 300, s=60, as_cmap=True)\n",
    "sns.heatmap(corr, mask=mask, cmap=cmap, center=0, vmin=-1, vmax=1, annot=True, linewidths=.3, cbar_kws={\"shrink\": .5}) "
   ]
  },
  {
   "cell_type": "markdown",
   "metadata": {},
   "source": [
    "Com observem a la matriu, la correlació entre variables és generalment baixa, excepte en els següents casos:"
   ]
  },
  {
   "cell_type": "code",
   "execution_count": 91,
   "metadata": {
    "execution": {
     "iopub.execute_input": "2021-09-14T14:45:24.915454Z",
     "iopub.status.busy": "2021-09-14T14:45:24.914907Z",
     "iopub.status.idle": "2021-09-14T14:45:24.941868Z",
     "shell.execute_reply": "2021-09-14T14:45:24.937728Z",
     "shell.execute_reply.started": "2021-09-14T14:45:24.915395Z"
    }
   },
   "outputs": [
    {
     "data": {
      "text/plain": [
       "Hardest_Ewbank_Grade_last3months  Hardest_Ewbank_Grade_ever           0.914264\n",
       "                                  Ewbank_Grade_sent_90perc_routes     0.906766\n",
       "Hardest_Ewbank_Grade_ever         Ewbank_Grade_sent_90perc_routes     0.903087\n",
       "Freq_CampusBoard_w                Time_CampusBoard_h                  0.809992\n",
       "Time_General_Strength_Training_h  Freq_General_Strength_Training_w    0.748941\n",
       "dtype: float64"
      ]
     },
     "execution_count": 91,
     "metadata": {},
     "output_type": "execute_result"
    }
   ],
   "source": [
    "df_no_object.corr().unstack().sort_values(ascending=False).drop_duplicates()[1:6]"
   ]
  },
  {
   "cell_type": "markdown",
   "metadata": {},
   "source": [
    "Les variables del mateix grup estan, logicament, fortament correlacionades. Com més vegades a la setmana entrenem amb la Campusboard (Freq_CampusBoard_w), més hores a la setmana li'n dedicarem (Time_CampusBoard_h), per exemple. Aiximateix, el grau Ewbank que un usuari pot escalar el 90% de les vegades (Ewbank_Grade_sent_90perc_routes) està molt relacionat amb el grau més alt que ha escalat mai (Hardest_Ewbank_Grade_ever) o en els últims 3 mesos (Hardest_Ewbank_Grade_last3months)."
   ]
  },
  {
   "cell_type": "markdown",
   "metadata": {},
   "source": [
    "## Exercici 4\n",
    "Continuant amb les dades de tema esportiu, selecciona un atribut i calcula la mitjana geomètrica i la mitjana harmònica."
   ]
  },
  {
   "cell_type": "markdown",
   "metadata": {},
   "source": [
    "**Mitjana geomètrica de Hardest_Ewbank_Grade_ever**"
   ]
  },
  {
   "cell_type": "code",
   "execution_count": 99,
   "metadata": {
    "execution": {
     "iopub.execute_input": "2021-09-14T15:34:15.458375Z",
     "iopub.status.busy": "2021-09-14T15:34:15.456040Z",
     "iopub.status.idle": "2021-09-14T15:34:15.664210Z",
     "shell.execute_reply": "2021-09-14T15:34:15.662291Z",
     "shell.execute_reply.started": "2021-09-14T15:34:15.458217Z"
    }
   },
   "outputs": [
    {
     "data": {
      "text/plain": [
       "24.03610443824698"
      ]
     },
     "execution_count": 99,
     "metadata": {},
     "output_type": "execute_result"
    }
   ],
   "source": [
    "import math\n",
    "\n",
    "math.exp(math.fsum(math.log(x) for x in df_no_object.Hardest_Ewbank_Grade_ever) / len(df_no_object.Hardest_Ewbank_Grade_ever))"
   ]
  },
  {
   "cell_type": "code",
   "execution_count": 102,
   "metadata": {
    "execution": {
     "iopub.execute_input": "2021-09-14T15:36:32.401506Z",
     "iopub.status.busy": "2021-09-14T15:36:32.392469Z",
     "iopub.status.idle": "2021-09-14T15:36:32.482976Z",
     "shell.execute_reply": "2021-09-14T15:36:32.455554Z",
     "shell.execute_reply.started": "2021-09-14T15:36:32.401446Z"
    }
   },
   "outputs": [
    {
     "data": {
      "text/plain": [
       "24.03610443824697"
      ]
     },
     "execution_count": 102,
     "metadata": {},
     "output_type": "execute_result"
    }
   ],
   "source": [
    "# Comprovació\n",
    "from scipy.stats.mstats import gmean\n",
    "\n",
    "gmean(df_no_object.Hardest_Ewbank_Grade_ever)"
   ]
  },
  {
   "cell_type": "code",
   "execution_count": 118,
   "metadata": {
    "execution": {
     "iopub.execute_input": "2021-09-14T15:51:04.730012Z",
     "iopub.status.busy": "2021-09-14T15:51:04.726863Z",
     "iopub.status.idle": "2021-09-14T15:51:04.853174Z",
     "shell.execute_reply": "2021-09-14T15:51:04.850963Z",
     "shell.execute_reply.started": "2021-09-14T15:51:04.729851Z"
    }
   },
   "outputs": [
    {
     "name": "stdout",
     "output_type": "stream",
     "text": [
      "59602429580937476792514033659966755182197122902211072462162801468553492189332157367374999057709867548816863475694442551364568665328078639270250044335300417032784493878357576018759861983076787843272315155288054936703205461190776589936332163455038552725282832926946919937979824049472085548334592062835751793132207464741405596323869620277986944890949419152640779125334791213914521600000000000000000000000000000000000000000000000000000000000000000000000000000000000000000000000000000000000000000000000000000000000000000000000000000000000000\n"
     ]
    }
   ],
   "source": [
    "# Comprovació manual\n",
    "num = 1\n",
    "for elem in df_no_object.Hardest_Ewbank_Grade_ever:\n",
    "    num = int(elem) * num\n",
    "print(num)"
   ]
  },
  {
   "cell_type": "markdown",
   "metadata": {},
   "source": [
    "##### Hem d'importar la classe Decimal per poder generar el càlcul, ja que els nombres són molt grans"
   ]
  },
  {
   "cell_type": "code",
   "execution_count": 128,
   "metadata": {
    "execution": {
     "iopub.execute_input": "2021-09-14T15:58:24.331291Z",
     "iopub.status.busy": "2021-09-14T15:58:24.326092Z",
     "iopub.status.idle": "2021-09-14T15:58:24.413297Z",
     "shell.execute_reply": "2021-09-14T15:58:24.409622Z",
     "shell.execute_reply.started": "2021-09-14T15:58:24.331146Z"
    }
   },
   "outputs": [
    {
     "data": {
      "text/plain": [
       "Decimal('24.03610443824697554049463911')"
      ]
     },
     "execution_count": 128,
     "metadata": {},
     "output_type": "execute_result"
    }
   ],
   "source": [
    "from decimal import Decimal\n",
    " \n",
    "num ** Decimal(1/len(df_no_object.Hardest_Ewbank_Grade_ever))"
   ]
  },
  {
   "cell_type": "code",
   "execution_count": 130,
   "metadata": {
    "execution": {
     "iopub.execute_input": "2021-09-14T15:58:42.031947Z",
     "iopub.status.busy": "2021-09-14T15:58:42.031501Z",
     "iopub.status.idle": "2021-09-14T15:58:42.054268Z",
     "shell.execute_reply": "2021-09-14T15:58:42.051827Z",
     "shell.execute_reply.started": "2021-09-14T15:58:42.031905Z"
    }
   },
   "outputs": [
    {
     "ename": "OverflowError",
     "evalue": "int too large to convert to float",
     "output_type": "error",
     "traceback": [
      "\u001b[0;31m---------------------------------------------------------------------------\u001b[0m",
      "\u001b[0;31mOverflowError\u001b[0m                             Traceback (most recent call last)",
      "\u001b[0;32m<ipython-input-130-dc622571fceb>\u001b[0m in \u001b[0;36m<module>\u001b[0;34m\u001b[0m\n\u001b[1;32m      1\u001b[0m \u001b[0;31m# Sense classe Decimal\u001b[0m\u001b[0;34m\u001b[0m\u001b[0;34m\u001b[0m\u001b[0;34m\u001b[0m\u001b[0m\n\u001b[0;32m----> 2\u001b[0;31m \u001b[0mnum\u001b[0m \u001b[0;34m**\u001b[0m \u001b[0;36m1.\u001b[0m\u001b[0;34m/\u001b[0m\u001b[0mlen\u001b[0m\u001b[0;34m(\u001b[0m\u001b[0mdf_no_object\u001b[0m\u001b[0;34m.\u001b[0m\u001b[0mHardest_Ewbank_Grade_ever\u001b[0m\u001b[0;34m)\u001b[0m\u001b[0;34m\u001b[0m\u001b[0;34m\u001b[0m\u001b[0m\n\u001b[0m",
      "\u001b[0;31mOverflowError\u001b[0m: int too large to convert to float"
     ]
    }
   ],
   "source": [
    "# Sense classe Decimal\n",
    "num ** 1./len(df_no_object.Hardest_Ewbank_Grade_ever)"
   ]
  },
  {
   "cell_type": "markdown",
   "metadata": {},
   "source": [
    "**Mitjana harmònica de Hardest_Ewbank_Grade_ever**"
   ]
  },
  {
   "cell_type": "code",
   "execution_count": 133,
   "metadata": {
    "execution": {
     "iopub.execute_input": "2021-09-14T16:01:23.223023Z",
     "iopub.status.busy": "2021-09-14T16:01:23.219495Z",
     "iopub.status.idle": "2021-09-14T16:01:24.727533Z",
     "shell.execute_reply": "2021-09-14T16:01:24.726350Z",
     "shell.execute_reply.started": "2021-09-14T16:01:23.222953Z"
    }
   },
   "outputs": [
    {
     "data": {
      "text/plain": [
       "23.650368897705675"
      ]
     },
     "execution_count": 133,
     "metadata": {},
     "output_type": "execute_result"
    }
   ],
   "source": [
    "import statistics\n",
    "statistics.harmonic_mean(df_no_object.Hardest_Ewbank_Grade_ever)"
   ]
  },
  {
   "cell_type": "code",
   "execution_count": 131,
   "metadata": {
    "execution": {
     "iopub.execute_input": "2021-09-14T16:00:04.163174Z",
     "iopub.status.busy": "2021-09-14T16:00:04.159212Z",
     "iopub.status.idle": "2021-09-14T16:00:04.421287Z",
     "shell.execute_reply": "2021-09-14T16:00:04.410683Z",
     "shell.execute_reply.started": "2021-09-14T16:00:04.163036Z"
    }
   },
   "outputs": [
    {
     "data": {
      "text/plain": [
       "23.650368897705675"
      ]
     },
     "execution_count": 131,
     "metadata": {},
     "output_type": "execute_result"
    }
   ],
   "source": [
    "# Comprovació\n",
    "from scipy.stats.mstats import hmean\n",
    "\n",
    "hmean(df_no_object.Hardest_Ewbank_Grade_ever)"
   ]
  },
  {
   "cell_type": "code",
   "execution_count": 139,
   "metadata": {
    "execution": {
     "iopub.execute_input": "2021-09-14T16:06:24.721851Z",
     "iopub.status.busy": "2021-09-14T16:06:24.721527Z",
     "iopub.status.idle": "2021-09-14T16:06:24.737330Z",
     "shell.execute_reply": "2021-09-14T16:06:24.735759Z",
     "shell.execute_reply.started": "2021-09-14T16:06:24.721818Z"
    }
   },
   "outputs": [
    {
     "name": "stdout",
     "output_type": "stream",
     "text": [
      "23.65036889770571\n"
     ]
    }
   ],
   "source": [
    "# Comprovació manual\n",
    "\n",
    "num = 0\n",
    "for elem in df_no_object.Hardest_Ewbank_Grade_ever:\n",
    "    num += 1/elem\n",
    "\n",
    "print(len(df_no_object.Hardest_Ewbank_Grade_ever)/num)"
   ]
  }
 ],
 "metadata": {
  "kernelspec": {
   "display_name": "Python 3",
   "language": "python",
   "name": "python3"
  },
  "language_info": {
   "codemirror_mode": {
    "name": "ipython",
    "version": 3
   },
   "file_extension": ".py",
   "mimetype": "text/x-python",
   "name": "python",
   "nbconvert_exporter": "python",
   "pygments_lexer": "ipython3",
   "version": "3.8.5"
  }
 },
 "nbformat": 4,
 "nbformat_minor": 4
}
