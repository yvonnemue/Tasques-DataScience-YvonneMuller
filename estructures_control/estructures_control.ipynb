{
 "cells": [
  {
   "cell_type": "markdown",
   "metadata": {},
   "source": [
    "- Exercici 1 \n",
    "\n",
    "L'exercici consisteix a crear un programa que et classifiqui una variable numèrica en funció de l’escala Suspès/Aprovat/Notable/Excel·lent.\n",
    "\n",
    "- Exercici 2 \n",
    "\n",
    "Utilitzant el següent tutorial Programiz: Python Input, Output and Import crea un programa que et pregunti dos números. T’ha de mostrar un missatge dient si el primer és més gran, el segon és més gran o són iguals.\n",
    "\n",
    "- Exercici 3 \n",
    "\n",
    "Crea un programa que et pregunti el teu nom, i et demani un número. Si el número és 0, hauria de mostrar un missatge d’error. En cas contrari, hauria de mostrar el nom repetit tants cops com indiqui el número. Per exemple, “Joan Joan Joan”.\n",
    "\n",
    "- Exercici 4 \n",
    "\n",
    "Crea un programa que donada una llista qualsevol, et digui si es simètrica o no. Si ho és, que et digui quants elements té.\n",
    "\n",
    "- Exercici 5\n",
    "\n",
    "Crea un programa que donada una llista, et digui quants números coincideixen amb la seva posició. Per exemple [3,4,2,0,2,3,6] el 2 i el 6 coincideixen."
   ]
  },
  {
   "cell_type": "code",
   "execution_count": 9,
   "metadata": {},
   "outputs": [],
   "source": [
    "# Exercici 1\n",
    "def rangNota(nota):\n",
    "    if nota < 5:\n",
    "        print('Suspès')\n",
    "    elif nota < 7:\n",
    "        print('Aprovat')\n",
    "    elif nota < 9:\n",
    "        print('Notable')\n",
    "    elif nota > 10:\n",
    "        print('Introdueix un valor entre 0 y 10')\n",
    "    else:\n",
    "        print ('Excel·lent') "
   ]
  },
  {
   "cell_type": "code",
   "execution_count": 11,
   "metadata": {},
   "outputs": [
    {
     "name": "stdout",
     "output_type": "stream",
     "text": [
      "Suspès\n",
      "Aprovat\n",
      "Notable\n",
      "Notable\n",
      "Excel·lent\n",
      "Introdueix un valor entre 0 y 10\n"
     ]
    }
   ],
   "source": [
    "rangNota(4)\n",
    "rangNota(5)\n",
    "rangNota(7.2)\n",
    "rangNota(8.8)\n",
    "rangNota(9)\n",
    "rangNota(11)"
   ]
  },
  {
   "cell_type": "code",
   "execution_count": 51,
   "metadata": {},
   "outputs": [
    {
     "name": "stdin",
     "output_type": "stream",
     "text": [
      "Introdueix un nombre:  2\n",
      "Introdueix un altre nombre:  3\n"
     ]
    },
    {
     "name": "stdout",
     "output_type": "stream",
     "text": [
      "El segon nombre és més gran que el primer!\n"
     ]
    }
   ],
   "source": [
    "# Exercici 2\n",
    "num1 = int(input('Introdueix un nombre: '))\n",
    "num2 = int(input('Introdueix un altre nombre: '))\n",
    "if num1 == num2:\n",
    "    print('Els dos nombres són iguals!')\n",
    "elif num1 > num2:\n",
    "    print('El primer nombre és més gran que el segon!')\n",
    "else:\n",
    "    print('El segon nombre és més gran que el primer!')"
   ]
  },
  {
   "cell_type": "code",
   "execution_count": 52,
   "metadata": {},
   "outputs": [
    {
     "name": "stdin",
     "output_type": "stream",
     "text": [
      "Introdueix el teu nom:  An\n",
      "Introdueix un nombre:  3\n"
     ]
    },
    {
     "name": "stdout",
     "output_type": "stream",
     "text": [
      "An An An \n"
     ]
    }
   ],
   "source": [
    "# Exercici 3\n",
    "nom = input('Introdueix el teu nom: ') + \" \"\n",
    "num = int(input('Introdueix un nombre: '))\n",
    "if num > 0:\n",
    "    print(nom * num)\n",
    "else:\n",
    "    print(\"Introdueix un nombre superior a 0\")"
   ]
  },
  {
   "cell_type": "code",
   "execution_count": 92,
   "metadata": {},
   "outputs": [],
   "source": [
    "#Exercici 4\n",
    "def llista_sim(llista):\n",
    "    llista_rev = []\n",
    "    for i in range((len(llista)-1),-1,-1):\n",
    "        llista_rev.append(llista[i])\n",
    "    if llista == llista_rev:\n",
    "        print('La llista té', len(llista), 'elements.') \n",
    "    else:\n",
    "        print('La llista no és simètrica.')"
   ]
  },
  {
   "cell_type": "code",
   "execution_count": 72,
   "metadata": {},
   "outputs": [
    {
     "name": "stdout",
     "output_type": "stream",
     "text": [
      "La llista no és simètrica.\n"
     ]
    }
   ],
   "source": [
    "llista_sim([2,'de', 4, 5,4,'de',3])"
   ]
  },
  {
   "cell_type": "code",
   "execution_count": 75,
   "metadata": {},
   "outputs": [
    {
     "name": "stdout",
     "output_type": "stream",
     "text": [
      "La llista té 7 elements.\n"
     ]
    }
   ],
   "source": [
    "llista_sim([2,'de', 4, 5,4,'de',2])"
   ]
  },
  {
   "cell_type": "code",
   "execution_count": 91,
   "metadata": {},
   "outputs": [],
   "source": [
    "#Exercici 5\n",
    "def pos_llista(llista):\n",
    "    nums_ben_pos = []\n",
    "    e=0\n",
    "    for i in range(0,len(llista)):\n",
    "        if llista[i] == i:\n",
    "            nums_ben_pos.append(llista[i])\n",
    "        e += 1\n",
    "    if len(nums_ben_pos) < 1:\n",
    "        print('No hi ha nombres que coincideixin amb la seva posició.')\n",
    "    elif len(nums_ben_pos) < 2:\n",
    "        print('Només el nombre', nums_ben_pos, 'coincideix amb la seva posició.')\n",
    "    else:\n",
    "        print('Els nombres', nums_ben_pos, 'coincideixen amb la seva posició.')"
   ]
  },
  {
   "cell_type": "code",
   "execution_count": 90,
   "metadata": {},
   "outputs": [
    {
     "name": "stdout",
     "output_type": "stream",
     "text": [
      "Els nombres [2, 6] coincideixen amb la seva posició.\n"
     ]
    }
   ],
   "source": [
    "pos_llista([3,4,2,0,2,3,6])"
   ]
  }
 ],
 "metadata": {
  "kernelspec": {
   "display_name": "Python 3",
   "language": "python",
   "name": "python3"
  },
  "language_info": {
   "codemirror_mode": {
    "name": "ipython",
    "version": 3
   },
   "file_extension": ".py",
   "mimetype": "text/x-python",
   "name": "python",
   "nbconvert_exporter": "python",
   "pygments_lexer": "ipython3",
   "version": "3.8.5"
  }
 },
 "nbformat": 4,
 "nbformat_minor": 4
}
