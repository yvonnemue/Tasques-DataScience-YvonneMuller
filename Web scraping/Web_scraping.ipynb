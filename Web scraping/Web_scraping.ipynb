{
 "cells": [
  {
   "cell_type": "markdown",
   "metadata": {},
   "source": [
    "# Sprint 12 Tasca 2. Tasca de web scraping"
   ]
  },
  {
   "cell_type": "markdown",
   "metadata": {},
   "source": [
    "## Nivell 1"
   ]
  },
  {
   "cell_type": "markdown",
   "metadata": {},
   "source": [
    "## Exercici 1.  Realitza web scraping d'una pàgina de la borsa de Madrid (https://www.bolsamadrid.es) utilitzant BeautifulSoup i Selenium.\n"
   ]
  },
  {
   "cell_type": "code",
   "execution_count": 1,
   "metadata": {
    "execution": {
     "iopub.execute_input": "2022-02-12T21:02:00.631590Z",
     "iopub.status.busy": "2022-02-12T21:02:00.631199Z",
     "iopub.status.idle": "2022-02-12T21:02:04.545655Z",
     "shell.execute_reply": "2022-02-12T21:02:04.543935Z",
     "shell.execute_reply.started": "2022-02-12T21:02:00.631500Z"
    }
   },
   "outputs": [],
   "source": [
    "import pandas as pd\n",
    "import numpy as np\n",
    "import matplotlib.pyplot as plt\n",
    "import seaborn as sns\n",
    "import math\n",
    "import warnings\n",
    "\n",
    "warnings.filterwarnings('ignore')\n",
    "pd.set_option('display.max_columns', None)"
   ]
  },
  {
   "cell_type": "code",
   "execution_count": 2,
   "metadata": {
    "execution": {
     "iopub.execute_input": "2022-02-12T21:02:04.552674Z",
     "iopub.status.busy": "2022-02-12T21:02:04.551874Z",
     "iopub.status.idle": "2022-02-12T21:02:05.037296Z",
     "shell.execute_reply": "2022-02-12T21:02:05.035746Z",
     "shell.execute_reply.started": "2022-02-12T21:02:04.552606Z"
    }
   },
   "outputs": [],
   "source": [
    "from bs4 import BeautifulSoup\n",
    "import requests\n",
    "\n",
    "def get_soup(url):\n",
    "    res = requests.get(url)\n",
    "    return BeautifulSoup(res.content, \"html.parser\")\n",
    "\n",
    "pag = 'https://www.bolsamadrid.es/esp/aspx/Empresas/FichaValor.aspx?ISIN=ES0157097017&ClvEmis=57097'\n"
   ]
  },
  {
   "cell_type": "markdown",
   "metadata": {},
   "source": [
    "### Soup conté l'HTML de la pàgina web, ara només hem d'extreure la data que ens interesa"
   ]
  },
  {
   "cell_type": "code",
   "execution_count": 3,
   "metadata": {
    "execution": {
     "iopub.execute_input": "2022-02-12T21:02:05.041827Z",
     "iopub.status.busy": "2022-02-12T21:02:05.041355Z",
     "iopub.status.idle": "2022-02-12T21:02:05.313868Z",
     "shell.execute_reply": "2022-02-12T21:02:05.312366Z",
     "shell.execute_reply.started": "2022-02-12T21:02:05.041773Z"
    }
   },
   "outputs": [],
   "source": [
    "soup = get_soup(pag)"
   ]
  },
  {
   "cell_type": "code",
   "execution_count": 4,
   "metadata": {
    "execution": {
     "iopub.execute_input": "2022-02-12T21:02:05.316732Z",
     "iopub.status.busy": "2022-02-12T21:02:05.316163Z",
     "iopub.status.idle": "2022-02-12T21:02:05.331616Z",
     "shell.execute_reply": "2022-02-12T21:02:05.329971Z",
     "shell.execute_reply.started": "2022-02-12T21:02:05.316675Z"
    }
   },
   "outputs": [],
   "source": [
    "## Amb 'get_text()' podem extreure tot el text de la pàgina sense etiquetes HTML però si només volem extreure alguna info de la pàgina podem filtrat per etiqueta o per id, per exemple\n",
    "tot_text = soup.get_text()"
   ]
  },
  {
   "cell_type": "code",
   "execution_count": 5,
   "metadata": {
    "execution": {
     "iopub.execute_input": "2022-02-12T21:02:05.335470Z",
     "iopub.status.busy": "2022-02-12T21:02:05.335020Z",
     "iopub.status.idle": "2022-02-12T21:02:05.347596Z",
     "shell.execute_reply": "2022-02-12T21:02:05.345962Z",
     "shell.execute_reply.started": "2022-02-12T21:02:05.335421Z"
    }
   },
   "outputs": [
    {
     "name": "stdout",
     "output_type": "stream",
     "text": [
      "Títol:  \n",
      "\tBolsa de Madrid - Ficha de ALMIRALL, S.A.\n",
      "\n"
     ]
    }
   ],
   "source": [
    "## Amb '.title.get_text()' podem extreure el títol de la pàgina\n",
    "titol = soup.title.get_text()\n",
    "print('Títol: ', titol)"
   ]
  },
  {
   "cell_type": "code",
   "execution_count": 6,
   "metadata": {
    "execution": {
     "iopub.execute_input": "2022-02-12T21:02:05.351164Z",
     "iopub.status.busy": "2022-02-12T21:02:05.350627Z",
     "iopub.status.idle": "2022-02-12T21:02:05.363987Z",
     "shell.execute_reply": "2022-02-12T21:02:05.362659Z",
     "shell.execute_reply.started": "2022-02-12T21:02:05.351112Z"
    }
   },
   "outputs": [
    {
     "name": "stdout",
     "output_type": "stream",
     "text": [
      "Descripció:  <p> Almirall es una compañía biofarmacéutica global enfocada en la salud de la piel. Colaboramos con científicos y profesionales de la salud para abordar las necesidades del paciente a través de la ciencia con el fin de mejorar sus vidas. Nuestro propósito noble guía nuestro trabajo: “Transform the patients' world by helping them realize their hopes and dreams for a healthy life”. Invertimos en productos de dermatología médica diferenciados y pioneros para llevar nuestras soluciones innovadoras a los pacientes que lo necesitan. </p>\n"
     ]
    }
   ],
   "source": [
    "## Amb 'soup.p' podem extreure la descripció de l'empresa\n",
    "descripcio = soup.p\n",
    "descripcio\n",
    "print('Descripció: ', descripcio)"
   ]
  },
  {
   "cell_type": "code",
   "execution_count": 7,
   "metadata": {
    "execution": {
     "iopub.execute_input": "2022-02-12T21:02:05.366992Z",
     "iopub.status.busy": "2022-02-12T21:02:05.366609Z",
     "iopub.status.idle": "2022-02-12T21:02:05.400622Z",
     "shell.execute_reply": "2022-02-12T21:02:05.390030Z",
     "shell.execute_reply.started": "2022-02-12T21:02:05.366959Z"
    }
   },
   "outputs": [
    {
     "name": "stdout",
     "output_type": "stream",
     "text": [
      "\n",
      "Capital admitido:  21.573.216,24 Euros \n"
     ]
    }
   ],
   "source": [
    "## Amb 'soup.find' podem extreure info per id\n",
    "print()\n",
    "capital = soup.find(id=\"ctl00_Contenido_CapAdmDat\").get_text()\n",
    "print('Capital admitido: ', capital)"
   ]
  },
  {
   "cell_type": "code",
   "execution_count": 8,
   "metadata": {
    "execution": {
     "iopub.execute_input": "2022-02-12T21:02:05.417069Z",
     "iopub.status.busy": "2022-02-12T21:02:05.416019Z",
     "iopub.status.idle": "2022-02-12T21:02:05.437333Z",
     "shell.execute_reply": "2022-02-12T21:02:05.435627Z",
     "shell.execute_reply.started": "2022-02-12T21:02:05.416978Z"
    }
   },
   "outputs": [
    {
     "name": "stdout",
     "output_type": "stream",
     "text": [
      "Últims preus:  <table cellpadding=\"3\" cellspacing=\"0\" class=\"TblPort\" id=\"ctl00_Contenido_tblPrecios\" width=\"100%\">\n",
      "<tr align=\"center\">\n",
      "<th scope=\"col\">Fecha</th><th scope=\"col\">Hora</th><th scope=\"col\">Cierre</th><th scope=\"col\">Ref.</th><th scope=\"col\">% Dif.</th><th scope=\"col\">Últ.</th><th scope=\"col\">Máx.</th><th scope=\"col\">Mín.</th><th scope=\"col\">Medio</th><th scope=\"col\">Volumen</th><th class=\"Ult\" scope=\"col\">Efectivo</th>\n",
      "</tr><tr align=\"right\">\n",
      "<td align=\"center\" class=\"enlacePosiciones\" data-categoryga=\"Posiciones Acciones\" data-labelga=\"ALMIRALL\">11/02/2022</td><td align=\"center\">Cierre</td><td>10,6200</td><td>10,8400</td><td class=\"DifClBj\">-2,03</td><td>10,6200</td><td>10,8000</td><td>10,6200</td><td>10,7120</td><td>174.262</td><td class=\"Ult\">1.866.688,36</td>\n",
      "</tr>\n",
      "</table>\n"
     ]
    }
   ],
   "source": [
    "## Utilitzen find + regular expressions per extreure els preus\n",
    "preus = soup.find(id=\"ctl00_Contenido_tblPrecios\")\n",
    "print('Últims preus: ', preus)"
   ]
  },
  {
   "cell_type": "code",
   "execution_count": 9,
   "metadata": {
    "execution": {
     "iopub.execute_input": "2022-02-12T21:02:05.442406Z",
     "iopub.status.busy": "2022-02-12T21:02:05.441776Z",
     "iopub.status.idle": "2022-02-12T21:02:05.452424Z",
     "shell.execute_reply": "2022-02-12T21:02:05.450120Z",
     "shell.execute_reply.started": "2022-02-12T21:02:05.442345Z"
    }
   },
   "outputs": [],
   "source": [
    "import re\n",
    "# regex to extract required strings\n",
    "tag = 'td'\n",
    "reg_str = \"<\" + tag + \">(.*?)</\" + tag + \">\"\n",
    "preuss = re.findall(reg_str, str(preus))"
   ]
  },
  {
   "cell_type": "code",
   "execution_count": 10,
   "metadata": {
    "execution": {
     "iopub.execute_input": "2022-02-12T21:02:05.457261Z",
     "iopub.status.busy": "2022-02-12T21:02:05.456499Z",
     "iopub.status.idle": "2022-02-12T21:02:05.468284Z",
     "shell.execute_reply": "2022-02-12T21:02:05.466745Z",
     "shell.execute_reply.started": "2022-02-12T21:02:05.457197Z"
    }
   },
   "outputs": [
    {
     "data": {
      "text/plain": [
       "['10,6200', '10,8400', '10,6200', '10,8000', '10,6200', '10,7120', '174.262']"
      ]
     },
     "execution_count": 10,
     "metadata": {},
     "output_type": "execute_result"
    }
   ],
   "source": [
    "preuss"
   ]
  },
  {
   "cell_type": "code",
   "execution_count": 11,
   "metadata": {
    "execution": {
     "iopub.execute_input": "2022-02-12T21:02:05.471301Z",
     "iopub.status.busy": "2022-02-12T21:02:05.470778Z",
     "iopub.status.idle": "2022-02-12T21:02:05.479621Z",
     "shell.execute_reply": "2022-02-12T21:02:05.478067Z",
     "shell.execute_reply.started": "2022-02-12T21:02:05.471264Z"
    }
   },
   "outputs": [
    {
     "name": "stdout",
     "output_type": "stream",
     "text": [
      "Preu tancament:  10,6200\n",
      "Preu màxim:  10,8000\n",
      "Preu mínim:  10,6200\n",
      "Preu mitjà:  10,7120\n",
      "Volumen:  174.262\n"
     ]
    }
   ],
   "source": [
    "preu_cierre = preuss[0]\n",
    "preu_max = preuss[3]\n",
    "preu_min = preuss[4]\n",
    "preu_medio = preuss[5]\n",
    "volumen = preuss[6]\n",
    "print('Preu tancament: ', preu_cierre)\n",
    "print('Preu màxim: ', preu_max)\n",
    "print('Preu mínim: ', preu_min)\n",
    "print('Preu mitjà: ', preu_medio)\n",
    "print('Volumen: ', volumen)"
   ]
  },
  {
   "cell_type": "code",
   "execution_count": 12,
   "metadata": {
    "execution": {
     "iopub.execute_input": "2022-02-12T21:02:05.482082Z",
     "iopub.status.busy": "2022-02-12T21:02:05.481545Z",
     "iopub.status.idle": "2022-02-12T21:02:05.491539Z",
     "shell.execute_reply": "2022-02-12T21:02:05.489652Z",
     "shell.execute_reply.started": "2022-02-12T21:02:05.482036Z"
    }
   },
   "outputs": [],
   "source": [
    "reg_str_2 = \"<td align=\\\"center\\\" class=\\\"enlacePosiciones\\\" data-categoryga=\\\"Posiciones Acciones\\\" data-labelga=\\\"(.*?)\\\">(.*?)</td>\"\n",
    "data = re.findall(reg_str_2, str(preus))"
   ]
  },
  {
   "cell_type": "code",
   "execution_count": 13,
   "metadata": {
    "execution": {
     "iopub.execute_input": "2022-02-12T21:02:05.494683Z",
     "iopub.status.busy": "2022-02-12T21:02:05.494265Z",
     "iopub.status.idle": "2022-02-12T21:02:05.503859Z",
     "shell.execute_reply": "2022-02-12T21:02:05.500404Z",
     "shell.execute_reply.started": "2022-02-12T21:02:05.494650Z"
    }
   },
   "outputs": [
    {
     "name": "stdout",
     "output_type": "stream",
     "text": [
      "Nom empresa:  ALMIRALL\n",
      "Data:  11/02/2022\n"
     ]
    }
   ],
   "source": [
    "nom = data[0][0]\n",
    "fecha = data[0][1]\n",
    "print('Nom empresa: ', nom)\n",
    "print('Data: ', fecha)"
   ]
  },
  {
   "cell_type": "markdown",
   "metadata": {},
   "source": [
    "### Guardem la info en arrays per poder crear després un df amb dades d'altres empreses"
   ]
  },
  {
   "cell_type": "code",
   "execution_count": 14,
   "metadata": {
    "execution": {
     "iopub.execute_input": "2022-02-12T21:02:05.507277Z",
     "iopub.status.busy": "2022-02-12T21:02:05.506517Z",
     "iopub.status.idle": "2022-02-12T21:02:05.515377Z",
     "shell.execute_reply": "2022-02-12T21:02:05.512586Z",
     "shell.execute_reply.started": "2022-02-12T21:02:05.507206Z"
    }
   },
   "outputs": [],
   "source": [
    "arr_empresa = [nom]\n",
    "arr_descripcio =[descripcio]\n",
    "arr_fecha = [fecha]\n",
    "arr_capital = [capital]\n",
    "arr_cierre = [preu_cierre]\n",
    "arr_max = [preu_max]\n",
    "arr_min = [preu_min]\n",
    "arr_medio = [preu_medio]\n",
    "arr_vol = [volumen]"
   ]
  },
  {
   "cell_type": "markdown",
   "metadata": {
    "execution": {
     "iopub.execute_input": "2022-02-10T23:00:22.175154Z",
     "iopub.status.busy": "2022-02-10T23:00:22.172750Z",
     "iopub.status.idle": "2022-02-10T23:00:22.242488Z",
     "shell.execute_reply": "2022-02-10T23:00:22.240071Z",
     "shell.execute_reply.started": "2022-02-10T23:00:22.175041Z"
    }
   },
   "source": [
    "### SELENIUM"
   ]
  },
  {
   "cell_type": "code",
   "execution_count": 15,
   "metadata": {
    "execution": {
     "iopub.execute_input": "2022-02-12T21:02:05.518740Z",
     "iopub.status.busy": "2022-02-12T21:02:05.518206Z",
     "iopub.status.idle": "2022-02-12T21:02:15.315438Z",
     "shell.execute_reply": "2022-02-12T21:02:15.313517Z",
     "shell.execute_reply.started": "2022-02-12T21:02:05.518700Z"
    }
   },
   "outputs": [
    {
     "name": "stdout",
     "output_type": "stream",
     "text": [
      "################ Test start ################\n",
      "---> URL de visita: https://www.bolsamadrid.es/esp/aspx/Empresas/FichaValor.aspx?ISIN=ES0157097017&ClvEmis=57097\n",
      "---> Título de la pág.: Bolsa de Madrid - Ficha de ALMIRALL, S.A.\n",
      "---> Buscar otra empresa en el buscador\n",
      "---> Título de la segunda pág.: Bolsa de Madrid - Ficha de BANCO DE SABADELL, S.A.\n",
      "---> Ir al gráfico de 5 años\n",
      "---> Título de la tercera pág.: Bolsa de Madrid\n",
      "---> Buscar otra empresa en el buscador\n",
      "---> Título de la cuarta pág.: Bolsa de Madrid - Ficha de ACCIONA,S.A.\n",
      "---> Cerrar el navegador\n",
      "################ Fin de la prueba ################\n"
     ]
    }
   ],
   "source": [
    "import  os\n",
    "import time\n",
    "from selenium import webdriver\n",
    "from selenium.webdriver.common.keys import Keys\n",
    "\n",
    "#from selenium.webdriver.common.keys import Keys\n",
    "print ('################ Test start ################')\n",
    "loginUrl  = pag \n",
    "loginName = '1001'\n",
    "loginPass = '1001'\n",
    " \n",
    "options = webdriver.ChromeOptions()\n",
    "options.add_argument ('- sin cabeza') # Habilita el modo sin cabeza\n",
    "options.add_argument ('- disable-gpu') # Desactiva la aceleración de la GPU de la tarjeta gráfica, la recomendación oficial es desactivar: https: # bugs.chromium.org / p / chromium / issues / detail? id = 737678\n",
    " \n",
    " # En el modo sin cabeza, es mejor establecer el tamaño específico, ya que el valor predeterminado se maximiza, después de la captura de pantalla final, es muy pequeño, equivalente a incompleto\n",
    " # options.add_argument ('- start-maximized') # Maximizar al inicio\n",
    " \n",
    "options.add_argument ('- no-sandbox') # Desactivar sandbox\n",
    "options.add_argument ('- disable-plugins') # Desactivar complementos\n",
    "options.add_argument ('- disable-popup-block') # deshabilitar el aviso de bloqueo\n",
    "options.add_argument ('- ignore-certificate-errors') # Ignorar aviso de advertencia de error de certificado\n",
    " # options.add_argument ('- test-type', '- ignore-certificate-errors') # Ignora el aviso de advertencia de error del certificado, ¡sin efecto!\n",
    " # options.add_experimental_option ('excludeSwitches', ['ignore-certificate-errors']) # Ignora el aviso de advertencia de error del certificado, ¡sin efecto!\n",
    "options.add_argument ('- allow-running-insecure-content') # Desactivar solicitud insegura\n",
    "options.add_argument ('- disable-infobars') # Desactiva el mensaje \"Chrome está siendo controlado por un software de prueba automático\"\n",
    " \n",
    "driver  = webdriver.Chrome(chrome_options=options)  # Firefox()  , Ie()\n",
    " # Establecer el tamaño y la ubicación del navegador\n",
    "driver.set_window_position (50,50); # La coordenada de la ventana en relación con la esquina superior izquierda de la pantalla (0,0)\n",
    "driver.set_window_size (1440,900); # tamaño de ventana \n",
    " \n",
    "print ('---> URL de visita: ' + loginUrl)\n",
    "driver.get(loginUrl)\n",
    "\n",
    "# Imprimir título de la página  actual\n",
    "print('---> Título de la pág.: '  + driver.title)\n",
    " \n",
    "# Buscar otra empresa en el buscador\n",
    "print('---> Buscar otra empresa en el buscador')\n",
    "elem = driver.find_element_by_name(\"busq\")\n",
    "elem.send_keys(\"Banco de Sabadell\")\n",
    "elem.send_keys(Keys.RETURN)\n",
    "continue_link = driver.find_element_by_link_text('BANCO DE SABADELL, S.A.')\n",
    "continue_link.send_keys(Keys.RETURN)\n",
    "\n",
    "# Imprimir título de la segunda página\n",
    "print('---> Título de la segunda pág.: ' + driver.title)\n",
    "\n",
    "## Extreure info de la pàgina per afegir-la a les nostres arrays\n",
    "soup = get_soup(driver.current_url)\n",
    "\n",
    "arr_descripcio.append(soup.p)\n",
    "arr_capital.append(soup.find(id=\"ctl00_Contenido_CapAdmDat\").get_text())\n",
    "\n",
    "preus = soup.find(id=\"ctl00_Contenido_tblPrecios\")\n",
    "tag = 'td'\n",
    "reg_str = \"<\" + tag + \">(.*?)</\" + tag + \">\"\n",
    "preuss = re.findall(reg_str, str(preus))\n",
    "\n",
    "reg_str_2 = \"<td align=\\\"center\\\" class=\\\"enlacePosiciones\\\" data-categoryga=\\\"Posiciones Acciones\\\" data-labelga=\\\"(.*?)\\\">(.*?)</td>\"\n",
    "data = re.findall(reg_str_2, str(preus))\n",
    "\n",
    "arr_empresa.append(data[0][0])\n",
    "arr_fecha.append(data[0][1])\n",
    "arr_cierre.append(preuss[0])\n",
    "arr_max.append(preuss[3])\n",
    "arr_min.append(preuss[4])\n",
    "arr_medio.append(preuss[5])\n",
    "arr_vol.append(preuss[6])\n",
    "\n",
    "# Ir al gráfico de 5 años\n",
    "print('---> Ir al gráfico de 5 años')\n",
    "graf_5 = driver.find_element_by_partial_link_text('5 años')\n",
    "graf_5.send_keys(Keys.RETURN)\n",
    "\n",
    "# Imprimir título de la tercera página\n",
    "print('---> Título de la tercera pág.: ' + driver.title)\n",
    "\n",
    "# Buscar otra empresa en el buscador\n",
    "print('---> Buscar otra empresa en el buscador')\n",
    "elem = driver.find_element_by_name(\"busq\")\n",
    "elem.send_keys(\"ACCIONA,S.A.\")\n",
    "elem.send_keys(Keys.RETURN)\n",
    "continue_link = driver.find_element_by_link_text('ACCIONA,S.A.')\n",
    "continue_link.send_keys(Keys.RETURN)\n",
    "\n",
    "# Imprimir título de la cuarta página\n",
    "print('---> Título de la cuarta pág.: ' + driver.title)\n",
    "\n",
    "## Extreure info de la pàgina per afegir-la a les nostres arrays\n",
    "soup = get_soup(driver.current_url)\n",
    "\n",
    "arr_descripcio.append(soup.p)\n",
    "arr_capital.append(soup.find(id=\"ctl00_Contenido_CapAdmDat\").get_text())\n",
    "\n",
    "preus = soup.find(id=\"ctl00_Contenido_tblPrecios\")\n",
    "tag = 'td'\n",
    "reg_str = \"<\" + tag + \">(.*?)</\" + tag + \">\"\n",
    "preuss = re.findall(reg_str, str(preus))\n",
    "\n",
    "reg_str_2 = \"<td align=\\\"center\\\" class=\\\"enlacePosiciones\\\" data-categoryga=\\\"Posiciones Acciones\\\" data-labelga=\\\"(.*?)\\\">(.*?)</td>\"\n",
    "data = re.findall(reg_str_2, str(preus))\n",
    "\n",
    "arr_empresa.append(data[0][0])\n",
    "arr_fecha.append(data[0][1])\n",
    "arr_cierre.append(preuss[0])\n",
    "arr_max.append(preuss[3])\n",
    "arr_min.append(preuss[4])\n",
    "arr_medio.append(preuss[5])\n",
    "arr_vol.append(preuss[6])\n",
    "\n",
    "print ('---> Cerrar el navegador')\n",
    "driver.close()\n",
    "print ('################ Fin de la prueba ################')\n",
    "\n"
   ]
  },
  {
   "cell_type": "markdown",
   "metadata": {},
   "source": [
    "### Creem el df amb les dades que hem recollit"
   ]
  },
  {
   "cell_type": "code",
   "execution_count": 23,
   "metadata": {
    "execution": {
     "iopub.execute_input": "2022-02-12T21:11:02.413769Z",
     "iopub.status.busy": "2022-02-12T21:11:02.413419Z",
     "iopub.status.idle": "2022-02-12T21:11:02.530761Z",
     "shell.execute_reply": "2022-02-12T21:11:02.527325Z",
     "shell.execute_reply.started": "2022-02-12T21:11:02.413736Z"
    }
   },
   "outputs": [
    {
     "data": {
      "text/html": [
       "<div>\n",
       "<style scoped>\n",
       "    .dataframe tbody tr th:only-of-type {\n",
       "        vertical-align: middle;\n",
       "    }\n",
       "\n",
       "    .dataframe tbody tr th {\n",
       "        vertical-align: top;\n",
       "    }\n",
       "\n",
       "    .dataframe thead th {\n",
       "        text-align: right;\n",
       "    }\n",
       "</style>\n",
       "<table border=\"1\" class=\"dataframe\">\n",
       "  <thead>\n",
       "    <tr style=\"text-align: right;\">\n",
       "      <th></th>\n",
       "      <th>Empresa</th>\n",
       "      <th>Descripcio</th>\n",
       "      <th>Data</th>\n",
       "      <th>Capital</th>\n",
       "      <th>Preu_cierre</th>\n",
       "      <th>Preu_max</th>\n",
       "      <th>Preu_min</th>\n",
       "      <th>Preu_medio</th>\n",
       "      <th>Volumen</th>\n",
       "    </tr>\n",
       "  </thead>\n",
       "  <tbody>\n",
       "    <tr>\n",
       "      <th>0</th>\n",
       "      <td>ALMIRALL</td>\n",
       "      <td>[ Almirall es una compañía biofarmacéutica glo...</td>\n",
       "      <td>11/02/2022</td>\n",
       "      <td>21.573.216,24 Euros</td>\n",
       "      <td>10,6200</td>\n",
       "      <td>10,8000</td>\n",
       "      <td>10,6200</td>\n",
       "      <td>10,7120</td>\n",
       "      <td>174.262</td>\n",
       "    </tr>\n",
       "    <tr>\n",
       "      <th>1</th>\n",
       "      <td>BANCO DE SABADELL</td>\n",
       "      <td>[Banco Sabadell encabeza el cuarto grupo banca...</td>\n",
       "      <td>11/02/2022</td>\n",
       "      <td>703.370.587,62 Euros</td>\n",
       "      <td>0,9432</td>\n",
       "      <td>0,9484</td>\n",
       "      <td>0,9222</td>\n",
       "      <td>0,9388</td>\n",
       "      <td>48.392.926</td>\n",
       "    </tr>\n",
       "    <tr>\n",
       "      <th>2</th>\n",
       "      <td>ACCIONA</td>\n",
       "      <td>[ACCIONA es una de las principales corporacion...</td>\n",
       "      <td>11/02/2022</td>\n",
       "      <td>54.856.653,00 Euros</td>\n",
       "      <td>144,0000</td>\n",
       "      <td>145,6000</td>\n",
       "      <td>141,9000</td>\n",
       "      <td>144,0652</td>\n",
       "      <td>101.375</td>\n",
       "    </tr>\n",
       "  </tbody>\n",
       "</table>\n",
       "</div>"
      ],
      "text/plain": [
       "             Empresa                                         Descripcio  \\\n",
       "0           ALMIRALL  [ Almirall es una compañía biofarmacéutica glo...   \n",
       "1  BANCO DE SABADELL  [Banco Sabadell encabeza el cuarto grupo banca...   \n",
       "2            ACCIONA  [ACCIONA es una de las principales corporacion...   \n",
       "\n",
       "         Data                Capital Preu_cierre  Preu_max  Preu_min  \\\n",
       "0  11/02/2022   21.573.216,24 Euros      10,6200   10,8000   10,6200   \n",
       "1  11/02/2022  703.370.587,62 Euros       0,9432    0,9484    0,9222   \n",
       "2  11/02/2022   54.856.653,00 Euros     144,0000  145,6000  141,9000   \n",
       "\n",
       "  Preu_medio     Volumen  \n",
       "0    10,7120     174.262  \n",
       "1     0,9388  48.392.926  \n",
       "2   144,0652     101.375  "
      ]
     },
     "execution_count": 23,
     "metadata": {},
     "output_type": "execute_result"
    }
   ],
   "source": [
    "df = pd.DataFrame(arr_empresa,columns =['Empresa'])\n",
    "df['Descripcio'] = arr_descripcio\n",
    "df['Data'] = arr_fecha\n",
    "df['Capital'] = arr_capital\n",
    "df['Preu_cierre'] = arr_cierre \n",
    "df['Preu_max'] = arr_max\n",
    "df['Preu_min'] = arr_min\n",
    "df['Preu_medio'] = arr_medio\n",
    "df['Volumen'] = arr_vol \n",
    "df"
   ]
  },
  {
   "cell_type": "code",
   "execution_count": null,
   "metadata": {},
   "outputs": [],
   "source": []
  },
  {
   "cell_type": "markdown",
   "metadata": {},
   "source": [
    "## Nivell 2"
   ]
  },
  {
   "cell_type": "markdown",
   "metadata": {},
   "source": [
    "## Exercici 2. Documenta en un word el teu conjunt de dades generat amb la informació que tenen els diferents arxius de Kaggle."
   ]
  },
  {
   "cell_type": "markdown",
   "metadata": {},
   "source": [
    "**Atenció**    *En lloc de crear un word, he inclòs la informació en les següent cel·les formatejant-la amb l'ajuda de Markdown*"
   ]
  },
  {
   "cell_type": "markdown",
   "metadata": {},
   "source": [
    "#### Context\n",
    "\n",
    "Aquest conjunt de dades inclou informació de tres empreses que es troben el l'**IBEX 35**: Almirall, Acciona i Banco de Sabadell. Entre les dades que s'han extret hi ha una descripció de l'empresa, el seu capital i volum, i els valors màxim, mínim, mitjà i de tancament del preu en el día de la consulta."
   ]
  },
  {
   "cell_type": "markdown",
   "metadata": {},
   "source": [
    "#### Contingut\n",
    "\n",
    "- Empresa: El nom oficial de l'empresa.\n",
    "- Descripcio: Petita descripció de l'empresa.\n",
    "- Data: El dia, mes i any (en format: dd/mm/yyyy) en que s'han consultat els valors (no fa referència al moment en que s'ha fet l'scrapping, sino en que s'han publicat les dades al web, ja que en dissabte i diumenge no hi ha actualitzacions al web, per tant, la data dels dissabtes i diumenges serà la del divendres anterior.\n",
    "- Capital: El capital social de l'empresa (en €).\n",
    "- Preu_cierre: El preu de tancament, és a dir, el preu de l'acció en el moment què s'ha tancat la borsa en el dia que s'indica a la Data.\n",
    "- Preu_max: El preu màxim de l'acció assollit durant el dia que s'indica a la Data.\n",
    "- Preu_min: El preu mínim de l'acció assollit durant el dia que s'indica a la Data.\n",
    "- Preu_medio: El preu mirtjà al que ha estat l'acció durant el dia que s'indica a la Data.\n",
    "- Volumen: El nombre d'accions que han estat objecte de compra venda durant el dia que s'indica a la Data.\n"
   ]
  },
  {
   "cell_type": "markdown",
   "metadata": {},
   "source": [
    "#### Agraïment\n",
    "\n",
    "Les dades han estat srapejades de la pàgina web de la Bolsa de Madrid: https://www.bolsamadrid.es/. "
   ]
  },
  {
   "cell_type": "markdown",
   "metadata": {},
   "source": []
  },
  {
   "cell_type": "markdown",
   "metadata": {},
   "source": [
    "## Nivell 3"
   ]
  },
  {
   "cell_type": "markdown",
   "metadata": {},
   "source": [
    "## Exercici 3. Tria una página web que tu vulguis i realitza web scraping mitjançant la llibreria Scrapy. \n",
    "\n"
   ]
  },
  {
   "cell_type": "markdown",
   "metadata": {},
   "source": [
    "Després de seguir el tutorial de https://docs.scrapy.org/en/latest/intro/tutorial.html aquests son els documents JSON amb les dades que hem descarregat de la pàgina quotes."
   ]
  },
  {
   "cell_type": "code",
   "execution_count": 30,
   "metadata": {
    "execution": {
     "iopub.execute_input": "2022-02-12T23:09:21.205430Z",
     "iopub.status.busy": "2022-02-12T23:09:21.205040Z",
     "iopub.status.idle": "2022-02-12T23:09:21.246535Z",
     "shell.execute_reply": "2022-02-12T23:09:21.245601Z",
     "shell.execute_reply.started": "2022-02-12T23:09:21.205378Z"
    }
   },
   "outputs": [],
   "source": [
    "import json\n",
    "\n",
    "with open('quotes.json') as f:\n",
    "    json_data = json.load(f)\n",
    "    \n",
    "with open('author.json') as f:\n",
    "    json_data_2 = json.load(f)"
   ]
  },
  {
   "cell_type": "code",
   "execution_count": 31,
   "metadata": {
    "execution": {
     "iopub.execute_input": "2022-02-12T23:09:23.815163Z",
     "iopub.status.busy": "2022-02-12T23:09:23.814717Z",
     "iopub.status.idle": "2022-02-12T23:09:23.825338Z",
     "shell.execute_reply": "2022-02-12T23:09:23.822151Z",
     "shell.execute_reply.started": "2022-02-12T23:09:23.815104Z"
    }
   },
   "outputs": [
    {
     "data": {
      "text/plain": [
       "[{'text': '“The world as we have created it is a process of our thinking. It cannot be changed without changing our thinking.”',\n",
       "  'author': 'Albert Einstein'},\n",
       " {'text': '“It is our choices, Harry, that show what we truly are, far more than our abilities.”',\n",
       "  'author': 'J.K. Rowling'},\n",
       " {'text': '“There are only two ways to live your life. One is as though nothing is a miracle. The other is as though everything is a miracle.”',\n",
       "  'author': 'Albert Einstein'},\n",
       " {'text': '“The person, be it gentleman or lady, who has not pleasure in a good novel, must be intolerably stupid.”',\n",
       "  'author': 'Jane Austen'},\n",
       " {'text': \"“Imperfection is beauty, madness is genius and it's better to be absolutely ridiculous than absolutely boring.”\",\n",
       "  'author': 'Marilyn Monroe'},\n",
       " {'text': '“Try not to become a man of success. Rather become a man of value.”',\n",
       "  'author': 'Albert Einstein'},\n",
       " {'text': '“It is better to be hated for what you are than to be loved for what you are not.”',\n",
       "  'author': 'André Gide'},\n",
       " {'text': \"“I have not failed. I've just found 10,000 ways that won't work.”\",\n",
       "  'author': 'Thomas A. Edison'},\n",
       " {'text': \"“A woman is like a tea bag; you never know how strong it is until it's in hot water.”\",\n",
       "  'author': 'Eleanor Roosevelt'},\n",
       " {'text': '“A day without sunshine is like, you know, night.”',\n",
       "  'author': 'Steve Martin'}]"
      ]
     },
     "execution_count": 31,
     "metadata": {},
     "output_type": "execute_result"
    }
   ],
   "source": [
    "json_data[:10]"
   ]
  },
  {
   "cell_type": "code",
   "execution_count": 32,
   "metadata": {
    "execution": {
     "iopub.execute_input": "2022-02-12T23:09:25.741620Z",
     "iopub.status.busy": "2022-02-12T23:09:25.741021Z",
     "iopub.status.idle": "2022-02-12T23:09:25.782041Z",
     "shell.execute_reply": "2022-02-12T23:09:25.779054Z",
     "shell.execute_reply.started": "2022-02-12T23:09:25.741555Z"
    }
   },
   "outputs": [
    {
     "data": {
      "text/plain": [
       "[{'name': 'Thomas A. Edison',\n",
       "  'birthdate': 'February 11, 1847',\n",
       "  'bio': 'Thomas Alva Edison was an American inventor, scientist and businessman who developed many devices that greatly influenced life around the world, including the phonograph, the motion picture camera, and a long-lasting, practical electric light bulb. Dubbed \"The Wizard of Menlo Park\" (now Edison, New Jersey) by a newspaper reporter, he was one of the first inventors to apply the principles of mass production and large teamwork to the process of invention, and therefore is often credited with the creation of the first industrial research laboratory.Edison is considered one of the most prolific inventors in history, holding 1,093 U.S. patents in his name, as well as many patents in the United Kingdom, France and Germany. He is credited with numerous inventions that contributed to mass communication and, in particular, telecommunications. His advanced work in these fields was an outgrowth of his early career as a telegraph operator. Edison originated the concept and implementation of electric-power generation and distribution to homes, businesses, and factories – a crucial development in the modern industrialized world. His first power station was on Manhattan Island, New York.'},\n",
       " {'name': 'André Gide',\n",
       "  'birthdate': 'November 22, 1869',\n",
       "  'bio': \"André Paul Guillaume Gide was a French author and winner of the Nobel Prize in literature in 1947. Gide's career ranged from its beginnings in the symbolist movement, to the advent of anticolonialism between the two World Wars.Known for his fiction as well as his autobiographical works, Gide exposes to public view the conflict and eventual reconciliation between the two sides of his personality, split apart by a straight-laced education and a narrow social moralism. Gide's work can be seen as an investigation of freedom and empowerment in the face of moralistic and puritan constraints, and gravitates around his continuous effort to achieve intellectual honesty. His self-exploratory texts reflect his search of how to be fully oneself, even to the point of owning one's sexual nature, without at the same time betraying one's values. His political activity is informed by the same ethos, as suggested by his repudiation of communism after his 1936 voyage to the USSR.\"},\n",
       " {'name': 'Eleanor Roosevelt',\n",
       "  'birthdate': 'October 11, 1884',\n",
       "  'bio': 'Anna Eleanor Roosevelt was an American political leader who used her influence as an active First Lady from 1933 to 1945 to promote the New Deal policies of her husband, President Franklin D. Roosevelt, as well as taking a prominent role as an advocate for civil rights. After her husband\\'s death in 1945, she continued to be an internationally prominent author and speaker for the New Deal coalition. She was a suffragist who worked to enhance the status of working women, although she opposed the Equal Rights Amendment because she believed it would adversely affect women. In the 1940s, she was one of the co-founders of Freedom House and supported the formation of the United Nations. Eleanor Roosevelt founded the UN Association of the United States in 1943 to advance support for the formation of the UN. She was a delegate to the UN General Assembly from 1945 and 1952, a job for which she was appointed by President Harry S. Truman and confirmed by the United States Congress. During her time at the United Nations chaired the committee that drafted and approved the Universal Declaration of Human Rights. President Truman called her the \"First Lady of the World\" in tribute to her human rights achievements.She was one of the most admired persons of the 20th century, according to Gallup\\'s List of Widely Admired People.'},\n",
       " {'name': 'Jane Austen',\n",
       "  'birthdate': 'December 16, 1775',\n",
       "  'bio': \"Jane Austen was an English novelist whose works of romantic fiction, set among the landed gentry, earned her a place as one of the most widely read writers in English literature, her realism and biting social commentary cementing her historical importance among scholars and critics.Austen lived her entire life as part of a close-knit family located on the lower fringes of the English landed gentry. She was educated primarily by her father and older brothers as well as through her own reading. The steadfast support of her family was critical to her development as a professional writer. Her artistic apprenticeship lasted from her teenage years until she was about 35 years old. During this period, she experimented with various literary forms, including the epistolary novel which she tried then abandoned, and wrote and extensively revised three major novels and began a fourth. From 1811 until 1816, with the release of Sense and Sensibility (1811), Pride and Prejudice (1813), Mansfield Park (1814) and Emma (1815), she achieved success as a published writer. She wrote two additional novels, Northanger Abbey and Persuasion, both published posthumously in 1818, and began a third, which was eventually titled Sanditon, but died before completing it.Austen's works critique the novels of sensibility of the second half of the 18th century and are part of the transition to 19th-century realism. Her plots, though fundamentally comic, highlight the dependence of women on marriage to secure social standing and economic security. Her work brought her little personal fame and only a few positive reviews during her lifetime, but the publication in 1869 of her nephew's A Memoir of Jane Austen introduced her to a wider public, and by the 1940s she had become widely accepted in academia as a great English writer. The second half of the 20th century saw a proliferation of Austen scholarship and the emergence of a Janeite fan culture.\"},\n",
       " {'name': 'J.K. Rowling',\n",
       "  'birthdate': 'July 31, 1965',\n",
       "  'bio': 'See also: Robert GalbraithAlthough she writes under the pen name J.K. Rowling, pronounced like rolling, her name when her first Harry Potter book was published was simply Joanne Rowling. Anticipating that the target audience of young boys might not want to read a book written by a woman, her publishers demanded that she use two initials, rather than her full name. As she had no middle name, she chose K as the second initial of her pen name, from her paternal grandmother Kathleen Ada Bulgen Rowling. She calls herself Jo and has said, \"No one ever called me \\'Joanne\\' when I was young, unless they were angry.\" Following her marriage, she has sometimes used the name Joanne Murray when conducting personal business. During the Leveson Inquiry she gave evidence under the name of Joanne Kathleen Rowling. In a 2012 interview, Rowling noted that she no longer cared that people pronounced her name incorrectly.Rowling was born to Peter James Rowling, a Rolls-Royce aircraft engineer, and Anne Rowling (née Volant), on 31 July 1965 in Yate, Gloucestershire, England, 10 miles (16 km) northeast of Bristol. Her mother Anne was half-French and half-Scottish. Her parents first met on a train departing from King\\'s Cross Station bound for Arbroath in 1964. They married on 14 March 1965. Her mother\\'s maternal grandfather, Dugald Campbell, was born in Lamlash on the Isle of Arran. Her mother\\'s paternal grandfather, Louis Volant, was awarded the Croix de Guerre for exceptional bravery in defending the village of Courcelles-le-Comte during the First World War.Rowling\\'s sister Dianne was born at their home when Rowling was 23 months old. The family moved to the nearby village Winterbourne when Rowling was four. She attended St Michael\\'s Primary School, a school founded by abolitionist William Wilberforce and education reformer Hannah More. Her headmaster at St Michael\\'s, Alfred Dunn, has been suggested as the inspiration for the Harry Potter headmaster Albus Dumbledore.As a child, Rowling often wrote fantasy stories, which she would usually then read to her sister. She recalls that: \"I can still remember me telling her a story in which she fell down a rabbit hole and was fed strawberries by the rabbit family inside it. Certainly the first story I ever wrote down (when I was five or six) was about a rabbit called Rabbit. He got the measles and was visited by his friends, including a giant bee called Miss Bee.\" At the age of nine, Rowling moved to Church Cottage in the Gloucestershire village of Tutshill, close to Chepstow, Wales. When she was a young teenager, her great aunt, who Rowling said \"taught classics and approved of a thirst for knowledge, even of a questionable kind,\" gave her a very old copy of Jessica Mitford\\'s autobiography, Hons and Rebels. Mitford became Rowling\\'s heroine, and Rowling subsequently read all of her books.Rowling has said of her teenage years, in an interview with The New Yorker, \"I wasn’t particularly happy. I think it’s a dreadful time of life.\" She had a difficult homelife; her mother was ill and she had a difficult relationship with her father (she is no longer on speaking terms with him). She attended secondary school at Wyedean School and College, where her mother had worked as a technician in the science department. Rowling said of her adolescence, \"Hermione [a bookish, know-it-all Harry Potter character] is loosely based on me. She\\'s a caricature of me when I was eleven, which I\\'m not particularly proud of.\" Steve Eddy, who taught Rowling English when she first arrived, remembers her as \"not exceptional\" but \"one of a group of girls who were bright, and quite good at English.\" Sean Harris, her best friend in the Upper Sixth owned a turquoise Ford Anglia, which she says inspired the one in her books.'},\n",
       " {'name': 'Marilyn Monroe',\n",
       "  'birthdate': 'June 01, 1926',\n",
       "  'bio': 'Marilyn Monroe (born Norma Jeane Mortenson; June 1, 1926 – August 5, 1962) was an American actress, model, and singer, who became a major sex symbol, starring in a number of commercially successful motion pictures during the 1950s and early 1960s.After spending much of her childhood in foster homes, Monroe began a career as a model, which led to a film contract in 1946 with Twentieth Century-Fox. Her early film appearances were minor, but her performances in The Asphalt Jungle and All About Eve (both 1950), drew attention. By 1952 she had her first leading role in Don\\'t Bother to Knock and 1953 brought a lead in Niagara, a melodramatic film noir that dwelt on her seductiveness. Her \"dumb blonde\" persona was used to comic effect in subsequent films such as Gentlemen Prefer Blondes (1953), How to Marry a Millionaire (1953) and The Seven Year Itch (1955). Limited by typecasting, Monroe studied at the Actors Studio to broaden her range. Her dramatic performance in Bus Stop (1956) was hailed by critics and garnered a Golden Globe nomination. Her production company, Marilyn Monroe Productions, released The Prince and the Showgirl (1957), for which she received a BAFTA Award nomination and won a David di Donatello award. She received a Golden Globe Award for her performance in Some Like It Hot (1959). Monroe\\'s last completed film was The Misfits, co-starring Clark Gable with screenplay by her then-husband, Arthur Miller.Marilyn was a passionate reader, owning four hundred books at the time of her death, and was often photographed with a book.The final years of Monroe\\'s life were marked by illness, personal problems, and a reputation for unreliability and being difficult to work with. The circumstances of her death, from an overdose of barbiturates, have been the subject of conjecture. Though officially classified as a \"probable suicide\", the possibility of an accidental overdose, as well as of homicide, have not been ruled out. In 1999, Monroe was ranked as the sixth greatest female star of all time by the American Film Institute. In the decades following her death, she has often been cited as both a pop and a cultural icon as well as the quintessential American sex symbol.'},\n",
       " {'name': 'Steve Martin',\n",
       "  'birthdate': 'August 14, 1945',\n",
       "  'bio': 'Stephen Glenn \"Steve\" Martin is an American actor, comedian, writer, playwright, producer, musician, and composer. He was raised in Southern California in a Baptist family, where his early influences were working at Disneyland and Knott\\'s Berry Farm and working magic and comedy acts at these and other smaller venues in the area. His ascent to fame picked up when he became a writer for the Smothers Brothers Comedy Hour, and later became a frequent guest on the Tonight Show.In the 1970s, Martin performed his offbeat, absurdist comedy routines before packed houses on national tours. In the 1980s, having branched away from stand-up comedy, he became a successful actor, playwright, and juggler, and eventually earned Emmy, Grammy, and American Comedy awards.'},\n",
       " {'name': 'Albert Einstein',\n",
       "  'birthdate': 'March 14, 1879',\n",
       "  'bio': 'In 1879, Albert Einstein was born in Ulm, Germany. He completed his Ph.D. at the University of Zurich by 1909. His 1905 paper explaining the photoelectric effect, the basis of electronics, earned him the Nobel Prize in 1921. His first paper on Special Relativity Theory, also published in 1905, changed the world. After the rise of the Nazi party, Einstein made Princeton his permanent home, becoming a U.S. citizen in 1940. Einstein, a pacifist during World War I, stayed a firm proponent of social justice and responsibility. He chaired the Emergency Committee of Atomic Scientists, which organized to alert the public to the dangers of atomic warfare.At a symposium, he advised: \"In their struggle for the ethical good, teachers of religion must have the stature to give up the doctrine of a personal God, that is, give up that source of fear and hope which in the past placed such vast power in the hands of priests. In their labors they will have to avail themselves of those forces which are capable of cultivating the Good, the True, and the Beautiful in humanity itself. This is, to be sure a more difficult but an incomparably more worthy task . . . \" (\"Science, Philosophy and Religion, A Symposium,\" published by the Conference on Science, Philosophy and Religion in their Relation to the Democratic Way of Life, Inc., New York, 1941). In a letter to philosopher Eric Gutkind, dated Jan. 3, 1954, Einstein stated: \"The word god is for me nothing more than the expression and product of human weaknesses, the Bible a collection of honorable, but still primitive legends which are nevertheless pretty childish. No interpretation no matter how subtle can (for me) change this,\" (The Guardian, \"Childish superstition: Einstein\\'s letter makes view of religion relatively clear,\" by James Randerson, May 13, 2008). D. 1955.While best known for his mass–energy equivalence formula E = mc2 (which has been dubbed \"the world\\'s most famous equation\"), he received the 1921 Nobel Prize in Physics \"for his services to theoretical physics, and especially for his discovery of the law of the photoelectric effect\". The latter was pivotal in establishing quantum theory.Einstein thought that Newtonion mechanics was no longer enough to reconcile the laws of classical mechanics with the laws of the electromagnetic field. This led to the development of his special theory of relativity. He realized, however, that the principle of relativity could also be extended to gravitational fields, and with his subsequent theory of gravitation in 1916, he published a paper on the general theory of relativity. He continued to deal with problems of statistical mechanics and quantum theory, which led to his explanations of particle theory and the motion of molecules. He also investigated the thermal properties of light which laid the foundation of the photon theory of light.He was visiting the United States when Adolf Hitler came to power in 1933 and did not go back to Germany. On the eve of World War II, he endorsed a letter to President Franklin D. Roosevelt alerting him to the potential development of \"extremely powerful bombs of a new type\" and recommending that the U.S. begin similar research. This eventually led to what would become the Manhattan Project. Einstein supported defending the Allied forces, but largely denounced the idea of using the newly discovered nuclear fission as a weapon. Later, with Bertrand Russell, Einstein signed the Russell–Einstein Manifesto, which highlighted the danger of nuclear weapons. Einstein was affiliated with the Institute for Advanced Study in Princeton, New Jersey, until his death in 1955.His great intellectual achievements and originality have made the word \"Einstein\" synonymous with genius.More: http://en.wikipedia.org/wiki/Albert_E...http://www.nobelprize.org/nobel_prize...'},\n",
       " {'name': 'Allen Saunders',\n",
       "  'birthdate': 'April 24, 1899',\n",
       "  'bio': \"Allen Saunders was an American writer, journalist and cartoonist who wrote the comic strips Steve Roper and Mike Nomad, Mary Worth and Kerry Drake. His full name, John Allen Saunders, sometimes led to confusion with his son John (John Phillip Saunders, 1924–2003), who later continued two of his father's strips.Born in Lebanon, Indiana, Saunders enjoyed newspaper comics as a youth, and he practiced drawing them. After graduating from Wabash College in 1920, he taught French there for seven years while working in the summers on his M.A. at the University of Chicago and taking night classes at the Chicago Academy of Fine Arts. He drew editorial cartoons and the single-panel Miserable Moments, wrote detective fiction for magazines, worked in Chautauqua theater and wrote plays. These experiences converged in his later comics career.[2]In 1927, while on sabbatical from Wabash, he moved to Toledo, Ohio as a reporter and drama critic for the News-Bee, and he stayed on with that newspaper. Eight years later, Elmer Woggon (a friend at the rival Toledo Blade) proposed a comic strip for Publishers Syndicate (later Publishers-Hall Syndicate), The Great Gusto, which he would draw if Saunders did the writing. They shook on it, but it wasn't accepted until they refocused on its Indian character. On November 23, 1936, it finally appeared in the newspapers as Big Chief Wahoo and scored a success—fortunately, as Saunders' regular job ended when the News-Bee folded in 1938. Gags gave way to adventure strips, so in 1940, he began to reshape the narrative into Steve Roper, centered on the escapades of a racket-busting photojournalist\"},\n",
       " {'name': 'Mark Twain',\n",
       "  'birthdate': 'November 30, 1835',\n",
       "  'bio': 'Samuel Langhorne Clemens, better known by his pen name Mark Twain, was an American author and humorist. He is noted for his novels Adventures of Huckleberry Finn (1885), called \"the Great American Novel\", and The Adventures of Tom Sawyer (1876).Twain grew up in Hannibal, Missouri, which would later provide the setting for Huckleberry Finn and Tom Sawyer. He apprenticed with a printer. He also worked as a typesetter and contributed articles to his older brother Orion\\'s newspaper. After toiling as a printer in various cities, he became a master riverboat pilot on the Mississippi River, before heading west to join Orion. He was a failure at gold mining, so he next turned to journalism. While a reporter, he wrote a humorous story, \"The Celebrated Jumping Frog of Calaveras County,\" which proved to be very popular and brought him nationwide attention. His travelogues were also well-received. Twain had found his calling.He achieved great success as a writer and public speaker. His wit and satire earned praise from critics and peers, and he was a friend to presidents, artists, industrialists, and European royalty.However, he lacked financial acumen. Though he made a great deal of money from his writings and lectures, he squandered it on various ventures, in particular the Paige Compositor, and was forced to declare bankruptcy. With the help of Henry Huttleston Rogers, however, he eventually overcame his financial troubles. Twain worked hard to ensure that all of his creditors were paid in full, even though his bankruptcy had relieved him of the legal responsibility.Born during a visit by Halley\\'s Comet, he died on its return. He was lauded as the \"greatest American humorist of his age\", and William Faulkner called Twain \"the father of American literature\".Excerpted from Wikipedia.'}]"
      ]
     },
     "execution_count": 32,
     "metadata": {},
     "output_type": "execute_result"
    }
   ],
   "source": [
    "json_data_2[:10]"
   ]
  },
  {
   "cell_type": "markdown",
   "metadata": {},
   "source": [
    "### Ara podem crear un df unint les dades dels dos arxius"
   ]
  },
  {
   "cell_type": "code",
   "execution_count": 35,
   "metadata": {
    "execution": {
     "iopub.execute_input": "2022-02-12T23:11:31.875766Z",
     "iopub.status.busy": "2022-02-12T23:11:31.875436Z",
     "iopub.status.idle": "2022-02-12T23:11:31.889322Z",
     "shell.execute_reply": "2022-02-12T23:11:31.887986Z",
     "shell.execute_reply.started": "2022-02-12T23:11:31.875729Z"
    }
   },
   "outputs": [
    {
     "data": {
      "text/html": [
       "<div>\n",
       "<style scoped>\n",
       "    .dataframe tbody tr th:only-of-type {\n",
       "        vertical-align: middle;\n",
       "    }\n",
       "\n",
       "    .dataframe tbody tr th {\n",
       "        vertical-align: top;\n",
       "    }\n",
       "\n",
       "    .dataframe thead th {\n",
       "        text-align: right;\n",
       "    }\n",
       "</style>\n",
       "<table border=\"1\" class=\"dataframe\">\n",
       "  <thead>\n",
       "    <tr style=\"text-align: right;\">\n",
       "      <th></th>\n",
       "      <th>text</th>\n",
       "      <th>author</th>\n",
       "    </tr>\n",
       "  </thead>\n",
       "  <tbody>\n",
       "    <tr>\n",
       "      <th>0</th>\n",
       "      <td>“The world as we have created it is a process ...</td>\n",
       "      <td>Albert Einstein</td>\n",
       "    </tr>\n",
       "    <tr>\n",
       "      <th>1</th>\n",
       "      <td>“It is our choices, Harry, that show what we t...</td>\n",
       "      <td>J.K. Rowling</td>\n",
       "    </tr>\n",
       "    <tr>\n",
       "      <th>2</th>\n",
       "      <td>“There are only two ways to live your life. On...</td>\n",
       "      <td>Albert Einstein</td>\n",
       "    </tr>\n",
       "    <tr>\n",
       "      <th>3</th>\n",
       "      <td>“The person, be it gentleman or lady, who has ...</td>\n",
       "      <td>Jane Austen</td>\n",
       "    </tr>\n",
       "    <tr>\n",
       "      <th>4</th>\n",
       "      <td>“Imperfection is beauty, madness is genius and...</td>\n",
       "      <td>Marilyn Monroe</td>\n",
       "    </tr>\n",
       "  </tbody>\n",
       "</table>\n",
       "</div>"
      ],
      "text/plain": [
       "                                                text           author\n",
       "0  “The world as we have created it is a process ...  Albert Einstein\n",
       "1  “It is our choices, Harry, that show what we t...     J.K. Rowling\n",
       "2  “There are only two ways to live your life. On...  Albert Einstein\n",
       "3  “The person, be it gentleman or lady, who has ...      Jane Austen\n",
       "4  “Imperfection is beauty, madness is genius and...   Marilyn Monroe"
      ]
     },
     "execution_count": 35,
     "metadata": {},
     "output_type": "execute_result"
    }
   ],
   "source": [
    "df_test_author = pd.DataFrame.from_dict(json_data)\n",
    "df_test_author.head()"
   ]
  },
  {
   "cell_type": "code",
   "execution_count": 36,
   "metadata": {
    "execution": {
     "iopub.execute_input": "2022-02-12T23:11:50.088924Z",
     "iopub.status.busy": "2022-02-12T23:11:50.088584Z",
     "iopub.status.idle": "2022-02-12T23:11:50.104454Z",
     "shell.execute_reply": "2022-02-12T23:11:50.102977Z",
     "shell.execute_reply.started": "2022-02-12T23:11:50.088888Z"
    }
   },
   "outputs": [
    {
     "data": {
      "text/html": [
       "<div>\n",
       "<style scoped>\n",
       "    .dataframe tbody tr th:only-of-type {\n",
       "        vertical-align: middle;\n",
       "    }\n",
       "\n",
       "    .dataframe tbody tr th {\n",
       "        vertical-align: top;\n",
       "    }\n",
       "\n",
       "    .dataframe thead th {\n",
       "        text-align: right;\n",
       "    }\n",
       "</style>\n",
       "<table border=\"1\" class=\"dataframe\">\n",
       "  <thead>\n",
       "    <tr style=\"text-align: right;\">\n",
       "      <th></th>\n",
       "      <th>name</th>\n",
       "      <th>birthdate</th>\n",
       "      <th>bio</th>\n",
       "    </tr>\n",
       "  </thead>\n",
       "  <tbody>\n",
       "    <tr>\n",
       "      <th>0</th>\n",
       "      <td>Thomas A. Edison</td>\n",
       "      <td>February 11, 1847</td>\n",
       "      <td>Thomas Alva Edison was an American inventor, s...</td>\n",
       "    </tr>\n",
       "    <tr>\n",
       "      <th>1</th>\n",
       "      <td>André Gide</td>\n",
       "      <td>November 22, 1869</td>\n",
       "      <td>André Paul Guillaume Gide was a French author ...</td>\n",
       "    </tr>\n",
       "    <tr>\n",
       "      <th>2</th>\n",
       "      <td>Eleanor Roosevelt</td>\n",
       "      <td>October 11, 1884</td>\n",
       "      <td>Anna Eleanor Roosevelt was an American politic...</td>\n",
       "    </tr>\n",
       "    <tr>\n",
       "      <th>3</th>\n",
       "      <td>Jane Austen</td>\n",
       "      <td>December 16, 1775</td>\n",
       "      <td>Jane Austen was an English novelist whose work...</td>\n",
       "    </tr>\n",
       "    <tr>\n",
       "      <th>4</th>\n",
       "      <td>J.K. Rowling</td>\n",
       "      <td>July 31, 1965</td>\n",
       "      <td>See also: Robert GalbraithAlthough she writes ...</td>\n",
       "    </tr>\n",
       "  </tbody>\n",
       "</table>\n",
       "</div>"
      ],
      "text/plain": [
       "                name          birthdate  \\\n",
       "0   Thomas A. Edison  February 11, 1847   \n",
       "1         André Gide  November 22, 1869   \n",
       "2  Eleanor Roosevelt   October 11, 1884   \n",
       "3        Jane Austen  December 16, 1775   \n",
       "4       J.K. Rowling      July 31, 1965   \n",
       "\n",
       "                                                 bio  \n",
       "0  Thomas Alva Edison was an American inventor, s...  \n",
       "1  André Paul Guillaume Gide was a French author ...  \n",
       "2  Anna Eleanor Roosevelt was an American politic...  \n",
       "3  Jane Austen was an English novelist whose work...  \n",
       "4  See also: Robert GalbraithAlthough she writes ...  "
      ]
     },
     "execution_count": 36,
     "metadata": {},
     "output_type": "execute_result"
    }
   ],
   "source": [
    "df_bio_author = pd.DataFrame.from_dict(json_data_2)\n",
    "df_bio_author.head()"
   ]
  },
  {
   "cell_type": "code",
   "execution_count": 41,
   "metadata": {
    "execution": {
     "iopub.execute_input": "2022-02-12T23:14:46.701339Z",
     "iopub.status.busy": "2022-02-12T23:14:46.700948Z",
     "iopub.status.idle": "2022-02-12T23:14:46.719151Z",
     "shell.execute_reply": "2022-02-12T23:14:46.717524Z",
     "shell.execute_reply.started": "2022-02-12T23:14:46.701295Z"
    }
   },
   "outputs": [
    {
     "data": {
      "text/html": [
       "<div>\n",
       "<style scoped>\n",
       "    .dataframe tbody tr th:only-of-type {\n",
       "        vertical-align: middle;\n",
       "    }\n",
       "\n",
       "    .dataframe tbody tr th {\n",
       "        vertical-align: top;\n",
       "    }\n",
       "\n",
       "    .dataframe thead th {\n",
       "        text-align: right;\n",
       "    }\n",
       "</style>\n",
       "<table border=\"1\" class=\"dataframe\">\n",
       "  <thead>\n",
       "    <tr style=\"text-align: right;\">\n",
       "      <th></th>\n",
       "      <th>author</th>\n",
       "      <th>birthdate</th>\n",
       "      <th>bio</th>\n",
       "    </tr>\n",
       "  </thead>\n",
       "  <tbody>\n",
       "    <tr>\n",
       "      <th>0</th>\n",
       "      <td>Thomas A. Edison</td>\n",
       "      <td>February 11, 1847</td>\n",
       "      <td>Thomas Alva Edison was an American inventor, s...</td>\n",
       "    </tr>\n",
       "    <tr>\n",
       "      <th>1</th>\n",
       "      <td>André Gide</td>\n",
       "      <td>November 22, 1869</td>\n",
       "      <td>André Paul Guillaume Gide was a French author ...</td>\n",
       "    </tr>\n",
       "    <tr>\n",
       "      <th>2</th>\n",
       "      <td>Eleanor Roosevelt</td>\n",
       "      <td>October 11, 1884</td>\n",
       "      <td>Anna Eleanor Roosevelt was an American politic...</td>\n",
       "    </tr>\n",
       "    <tr>\n",
       "      <th>3</th>\n",
       "      <td>Jane Austen</td>\n",
       "      <td>December 16, 1775</td>\n",
       "      <td>Jane Austen was an English novelist whose work...</td>\n",
       "    </tr>\n",
       "    <tr>\n",
       "      <th>4</th>\n",
       "      <td>J.K. Rowling</td>\n",
       "      <td>July 31, 1965</td>\n",
       "      <td>See also: Robert GalbraithAlthough she writes ...</td>\n",
       "    </tr>\n",
       "  </tbody>\n",
       "</table>\n",
       "</div>"
      ],
      "text/plain": [
       "              author          birthdate  \\\n",
       "0   Thomas A. Edison  February 11, 1847   \n",
       "1         André Gide  November 22, 1869   \n",
       "2  Eleanor Roosevelt   October 11, 1884   \n",
       "3        Jane Austen  December 16, 1775   \n",
       "4       J.K. Rowling      July 31, 1965   \n",
       "\n",
       "                                                 bio  \n",
       "0  Thomas Alva Edison was an American inventor, s...  \n",
       "1  André Paul Guillaume Gide was a French author ...  \n",
       "2  Anna Eleanor Roosevelt was an American politic...  \n",
       "3  Jane Austen was an English novelist whose work...  \n",
       "4  See also: Robert GalbraithAlthough she writes ...  "
      ]
     },
     "execution_count": 41,
     "metadata": {},
     "output_type": "execute_result"
    }
   ],
   "source": [
    "df_bio_author_2 = df_bio_author.rename(columns={\"name\": \"author\"})\n",
    "df_bio_author_2.head()"
   ]
  },
  {
   "cell_type": "code",
   "execution_count": 43,
   "metadata": {
    "execution": {
     "iopub.execute_input": "2022-02-12T23:16:34.949976Z",
     "iopub.status.busy": "2022-02-12T23:16:34.949240Z",
     "iopub.status.idle": "2022-02-12T23:16:34.959741Z",
     "shell.execute_reply": "2022-02-12T23:16:34.958166Z",
     "shell.execute_reply.started": "2022-02-12T23:16:34.949906Z"
    }
   },
   "outputs": [],
   "source": [
    "df_final = pd.merge(df_test_author, df_bio_author_2, on='author')"
   ]
  },
  {
   "cell_type": "markdown",
   "metadata": {},
   "source": [
    "### Aquest és el resultat: un conjunt de dades amb 99 cites de 49 autors diferents, amb la seva data de naixement i una petita biografia.\n",
    "\n",
    "L'autor amb més cites es Albert Einstein (10 cites), següit per J. K. Rowling amb 1 cita menys i Marilyn Monroe amb 7 cites."
   ]
  },
  {
   "cell_type": "code",
   "execution_count": 65,
   "metadata": {
    "execution": {
     "iopub.execute_input": "2022-02-12T23:20:56.253525Z",
     "iopub.status.busy": "2022-02-12T23:20:56.253165Z",
     "iopub.status.idle": "2022-02-12T23:20:56.268463Z",
     "shell.execute_reply": "2022-02-12T23:20:56.266912Z",
     "shell.execute_reply.started": "2022-02-12T23:20:56.253485Z"
    }
   },
   "outputs": [
    {
     "data": {
      "text/html": [
       "<div>\n",
       "<style scoped>\n",
       "    .dataframe tbody tr th:only-of-type {\n",
       "        vertical-align: middle;\n",
       "    }\n",
       "\n",
       "    .dataframe tbody tr th {\n",
       "        vertical-align: top;\n",
       "    }\n",
       "\n",
       "    .dataframe thead th {\n",
       "        text-align: right;\n",
       "    }\n",
       "</style>\n",
       "<table border=\"1\" class=\"dataframe\">\n",
       "  <thead>\n",
       "    <tr style=\"text-align: right;\">\n",
       "      <th></th>\n",
       "      <th>text</th>\n",
       "      <th>author</th>\n",
       "      <th>birthdate</th>\n",
       "      <th>bio</th>\n",
       "    </tr>\n",
       "  </thead>\n",
       "  <tbody>\n",
       "    <tr>\n",
       "      <th>89</th>\n",
       "      <td>“The reason I talk to myself is because I’m th...</td>\n",
       "      <td>George Carlin</td>\n",
       "      <td>May 12, 1937</td>\n",
       "      <td>George Denis Patrick Carlin was a Grammy-winni...</td>\n",
       "    </tr>\n",
       "    <tr>\n",
       "      <th>90</th>\n",
       "      <td>“You may say I'm a dreamer, but I'm not the on...</td>\n",
       "      <td>John Lennon</td>\n",
       "      <td>October 09, 1940</td>\n",
       "      <td>John Winston Ono Lennon, MBE, was an English s...</td>\n",
       "    </tr>\n",
       "    <tr>\n",
       "      <th>91</th>\n",
       "      <td>“I am free of all prejudice. I hate everyone e...</td>\n",
       "      <td>W.C. Fields</td>\n",
       "      <td>January 29, 1880</td>\n",
       "      <td>W. C. Fields was born William Claude Dukenfiel...</td>\n",
       "    </tr>\n",
       "    <tr>\n",
       "      <th>92</th>\n",
       "      <td>“The question isn't who is going to let me; it...</td>\n",
       "      <td>Ayn Rand</td>\n",
       "      <td>February 02, 1905</td>\n",
       "      <td>Alisa Rosenbaum was born in pre-revolutionary ...</td>\n",
       "    </tr>\n",
       "    <tr>\n",
       "      <th>93</th>\n",
       "      <td>“I'm the one that's got to die when it's time ...</td>\n",
       "      <td>Jimi Hendrix</td>\n",
       "      <td>November 27, 1942</td>\n",
       "      <td>Jimi Hendrix was an American guitarist, singer...</td>\n",
       "    </tr>\n",
       "    <tr>\n",
       "      <th>94</th>\n",
       "      <td>“To die will be an awfully big adventure.”</td>\n",
       "      <td>J.M. Barrie</td>\n",
       "      <td>May 09, 1860</td>\n",
       "      <td>Sir James Matthew Barrie, 1st Baronet, OM (9 M...</td>\n",
       "    </tr>\n",
       "    <tr>\n",
       "      <th>95</th>\n",
       "      <td>“It takes courage to grow up and become who yo...</td>\n",
       "      <td>E.E. Cummings</td>\n",
       "      <td>October 14, 1894</td>\n",
       "      <td>Edward Estlin Cummings was born in Cambridge, ...</td>\n",
       "    </tr>\n",
       "    <tr>\n",
       "      <th>96</th>\n",
       "      <td>“But better to get hurt by the truth than comf...</td>\n",
       "      <td>Khaled Hosseini</td>\n",
       "      <td>March 04, 1965</td>\n",
       "      <td>Hosseini was born in Kabul, Afghanistan, in 19...</td>\n",
       "    </tr>\n",
       "    <tr>\n",
       "      <th>97</th>\n",
       "      <td>“You never really understand a person until yo...</td>\n",
       "      <td>Harper Lee</td>\n",
       "      <td>April 28, 1926</td>\n",
       "      <td>Harper Lee, known as Nelle, was born in the Al...</td>\n",
       "    </tr>\n",
       "    <tr>\n",
       "      <th>98</th>\n",
       "      <td>“You have to write the book that wants to be w...</td>\n",
       "      <td>Madeleine L'Engle</td>\n",
       "      <td>November 29, 1918</td>\n",
       "      <td>Madeleine L'Engle was an American writer best ...</td>\n",
       "    </tr>\n",
       "  </tbody>\n",
       "</table>\n",
       "</div>"
      ],
      "text/plain": [
       "                                                 text             author  \\\n",
       "89  “The reason I talk to myself is because I’m th...      George Carlin   \n",
       "90  “You may say I'm a dreamer, but I'm not the on...        John Lennon   \n",
       "91  “I am free of all prejudice. I hate everyone e...        W.C. Fields   \n",
       "92  “The question isn't who is going to let me; it...           Ayn Rand   \n",
       "93  “I'm the one that's got to die when it's time ...       Jimi Hendrix   \n",
       "94         “To die will be an awfully big adventure.”        J.M. Barrie   \n",
       "95  “It takes courage to grow up and become who yo...      E.E. Cummings   \n",
       "96  “But better to get hurt by the truth than comf...    Khaled Hosseini   \n",
       "97  “You never really understand a person until yo...         Harper Lee   \n",
       "98  “You have to write the book that wants to be w...  Madeleine L'Engle   \n",
       "\n",
       "            birthdate                                                bio  \n",
       "89       May 12, 1937  George Denis Patrick Carlin was a Grammy-winni...  \n",
       "90   October 09, 1940  John Winston Ono Lennon, MBE, was an English s...  \n",
       "91   January 29, 1880  W. C. Fields was born William Claude Dukenfiel...  \n",
       "92  February 02, 1905  Alisa Rosenbaum was born in pre-revolutionary ...  \n",
       "93  November 27, 1942  Jimi Hendrix was an American guitarist, singer...  \n",
       "94       May 09, 1860  Sir James Matthew Barrie, 1st Baronet, OM (9 M...  \n",
       "95   October 14, 1894  Edward Estlin Cummings was born in Cambridge, ...  \n",
       "96     March 04, 1965  Hosseini was born in Kabul, Afghanistan, in 19...  \n",
       "97     April 28, 1926  Harper Lee, known as Nelle, was born in the Al...  \n",
       "98  November 29, 1918  Madeleine L'Engle was an American writer best ...  "
      ]
     },
     "execution_count": 65,
     "metadata": {},
     "output_type": "execute_result"
    }
   ],
   "source": [
    "df_final.tail(10)"
   ]
  },
  {
   "cell_type": "code",
   "execution_count": 59,
   "metadata": {
    "execution": {
     "iopub.execute_input": "2022-02-12T23:19:46.740374Z",
     "iopub.status.busy": "2022-02-12T23:19:46.739861Z",
     "iopub.status.idle": "2022-02-12T23:19:46.756177Z",
     "shell.execute_reply": "2022-02-12T23:19:46.751834Z",
     "shell.execute_reply.started": "2022-02-12T23:19:46.740324Z"
    }
   },
   "outputs": [
    {
     "data": {
      "text/plain": [
       "Albert Einstein    10\n",
       "J.K. Rowling        9\n",
       "Marilyn Monroe      7\n",
       "Dr. Seuss           6\n",
       "Mark Twain          6\n",
       "Name: author, dtype: int64"
      ]
     },
     "execution_count": 59,
     "metadata": {},
     "output_type": "execute_result"
    }
   ],
   "source": [
    "df_final.author.value_counts().head()"
   ]
  },
  {
   "cell_type": "code",
   "execution_count": 60,
   "metadata": {
    "execution": {
     "iopub.execute_input": "2022-02-12T23:19:58.407016Z",
     "iopub.status.busy": "2022-02-12T23:19:58.406630Z",
     "iopub.status.idle": "2022-02-12T23:19:58.418533Z",
     "shell.execute_reply": "2022-02-12T23:19:58.416962Z",
     "shell.execute_reply.started": "2022-02-12T23:19:58.406974Z"
    }
   },
   "outputs": [
    {
     "data": {
      "text/plain": [
       "49"
      ]
     },
     "execution_count": 60,
     "metadata": {},
     "output_type": "execute_result"
    }
   ],
   "source": [
    "df_final.author.nunique()"
   ]
  }
 ],
 "metadata": {
  "kernelspec": {
   "display_name": "Python 3",
   "language": "python",
   "name": "python3"
  },
  "language_info": {
   "codemirror_mode": {
    "name": "ipython",
    "version": 3
   },
   "file_extension": ".py",
   "mimetype": "text/x-python",
   "name": "python",
   "nbconvert_exporter": "python",
   "pygments_lexer": "ipython3",
   "version": "3.8.5"
  },
  "toc": {
   "base_numbering": 1,
   "nav_menu": {},
   "number_sections": true,
   "sideBar": true,
   "skip_h1_title": false,
   "title_cell": "Table of Contents",
   "title_sidebar": "Contents",
   "toc_cell": true,
   "toc_position": {},
   "toc_section_display": true,
   "toc_window_display": false
  },
  "varInspector": {
   "cols": {
    "lenName": 16,
    "lenType": 16,
    "lenVar": 40
   },
   "kernels_config": {
    "python": {
     "delete_cmd_postfix": "",
     "delete_cmd_prefix": "del ",
     "library": "var_list.py",
     "varRefreshCmd": "print(var_dic_list())"
    },
    "r": {
     "delete_cmd_postfix": ") ",
     "delete_cmd_prefix": "rm(",
     "library": "var_list.r",
     "varRefreshCmd": "cat(var_dic_list()) "
    }
   },
   "types_to_exclude": [
    "module",
    "function",
    "builtin_function_or_method",
    "instance",
    "_Feature"
   ],
   "window_display": false
  }
 },
 "nbformat": 4,
 "nbformat_minor": 4
}
