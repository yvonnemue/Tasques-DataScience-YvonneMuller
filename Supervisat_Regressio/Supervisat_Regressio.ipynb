{
 "cells": [
  {
   "cell_type": "markdown",
   "metadata": {},
   "source": [
    "# Sprint 9. Aprenentatge Supervisat - Regressions"
   ]
  },
  {
   "cell_type": "markdown",
   "metadata": {},
   "source": [
    "## Exercici 1. Crea almenys tres models de regressió diferents per intentar predir el millor possible l’endarreriment dels vols (ArrDelay) de DelayedFlights.csv."
   ]
  },
  {
   "cell_type": "code",
   "execution_count": 1,
   "metadata": {
    "ExecuteTime": {
     "end_time": "2021-11-23T14:44:08.728280Z",
     "start_time": "2021-11-23T14:44:05.546031Z"
    },
    "execution": {
     "iopub.execute_input": "2021-12-13T14:17:03.252756Z",
     "iopub.status.busy": "2021-12-13T14:17:03.250842Z",
     "iopub.status.idle": "2021-12-13T14:17:07.156460Z",
     "shell.execute_reply": "2021-12-13T14:17:07.154847Z",
     "shell.execute_reply.started": "2021-12-13T14:17:03.252370Z"
    }
   },
   "outputs": [],
   "source": [
    "import pandas as pd\n",
    "import numpy as np\n",
    "import matplotlib.pyplot as plt\n",
    "import seaborn as sns\n",
    "import math\n",
    "import warnings\n",
    "\n",
    "warnings.filterwarnings('ignore')\n",
    "pd.set_option('display.max_columns', None)"
   ]
  },
  {
   "cell_type": "code",
   "execution_count": 2,
   "metadata": {
    "ExecuteTime": {
     "end_time": "2021-11-23T14:44:22.125037Z",
     "start_time": "2021-11-23T14:44:08.784812Z"
    },
    "execution": {
     "iopub.execute_input": "2021-12-13T14:17:07.160949Z",
     "iopub.status.busy": "2021-12-13T14:17:07.159854Z",
     "iopub.status.idle": "2021-12-13T14:17:19.857689Z",
     "shell.execute_reply": "2021-12-13T14:17:19.852479Z",
     "shell.execute_reply.started": "2021-12-13T14:17:07.160900Z"
    }
   },
   "outputs": [],
   "source": [
    "df = pd.read_csv(\"../estructures_dataframe/DelayedFlights.csv\", sep=\",\")"
   ]
  },
  {
   "cell_type": "code",
   "execution_count": 3,
   "metadata": {
    "ExecuteTime": {
     "end_time": "2021-11-23T14:44:30.478928Z",
     "start_time": "2021-11-23T14:44:22.472525Z"
    },
    "execution": {
     "iopub.execute_input": "2021-12-13T14:17:19.949114Z",
     "iopub.status.busy": "2021-12-13T14:17:19.939008Z",
     "iopub.status.idle": "2021-12-13T14:17:23.714522Z",
     "shell.execute_reply": "2021-12-13T14:17:23.712897Z",
     "shell.execute_reply.started": "2021-12-13T14:17:19.948534Z"
    }
   },
   "outputs": [],
   "source": [
    "df = df.set_index('Unnamed: 0')\n",
    "\n",
    "#Dropping Na\n",
    "df = df.dropna()"
   ]
  },
  {
   "cell_type": "code",
   "execution_count": 4,
   "metadata": {
    "ExecuteTime": {
     "end_time": "2021-11-23T14:44:30.888377Z",
     "start_time": "2021-11-23T14:44:30.786589Z"
    },
    "execution": {
     "iopub.execute_input": "2021-12-13T14:17:23.718287Z",
     "iopub.status.busy": "2021-12-13T14:17:23.717778Z",
     "iopub.status.idle": "2021-12-13T14:17:23.894619Z",
     "shell.execute_reply": "2021-12-13T14:17:23.893395Z",
     "shell.execute_reply.started": "2021-12-13T14:17:23.718234Z"
    }
   },
   "outputs": [
    {
     "data": {
      "text/html": [
       "<div>\n",
       "<style scoped>\n",
       "    .dataframe tbody tr th:only-of-type {\n",
       "        vertical-align: middle;\n",
       "    }\n",
       "\n",
       "    .dataframe tbody tr th {\n",
       "        vertical-align: top;\n",
       "    }\n",
       "\n",
       "    .dataframe thead th {\n",
       "        text-align: right;\n",
       "    }\n",
       "</style>\n",
       "<table border=\"1\" class=\"dataframe\">\n",
       "  <thead>\n",
       "    <tr style=\"text-align: right;\">\n",
       "      <th></th>\n",
       "      <th>Year</th>\n",
       "      <th>Month</th>\n",
       "      <th>DayofMonth</th>\n",
       "      <th>DayOfWeek</th>\n",
       "      <th>DepTime</th>\n",
       "      <th>CRSDepTime</th>\n",
       "      <th>ArrTime</th>\n",
       "      <th>CRSArrTime</th>\n",
       "      <th>UniqueCarrier</th>\n",
       "      <th>FlightNum</th>\n",
       "      <th>TailNum</th>\n",
       "      <th>ActualElapsedTime</th>\n",
       "      <th>CRSElapsedTime</th>\n",
       "      <th>AirTime</th>\n",
       "      <th>ArrDelay</th>\n",
       "      <th>DepDelay</th>\n",
       "      <th>Origin</th>\n",
       "      <th>Dest</th>\n",
       "      <th>Distance</th>\n",
       "      <th>TaxiIn</th>\n",
       "      <th>TaxiOut</th>\n",
       "      <th>Cancelled</th>\n",
       "      <th>CancellationCode</th>\n",
       "      <th>Diverted</th>\n",
       "      <th>CarrierDelay</th>\n",
       "      <th>WeatherDelay</th>\n",
       "      <th>NASDelay</th>\n",
       "      <th>SecurityDelay</th>\n",
       "      <th>LateAircraftDelay</th>\n",
       "    </tr>\n",
       "    <tr>\n",
       "      <th>Unnamed: 0</th>\n",
       "      <th></th>\n",
       "      <th></th>\n",
       "      <th></th>\n",
       "      <th></th>\n",
       "      <th></th>\n",
       "      <th></th>\n",
       "      <th></th>\n",
       "      <th></th>\n",
       "      <th></th>\n",
       "      <th></th>\n",
       "      <th></th>\n",
       "      <th></th>\n",
       "      <th></th>\n",
       "      <th></th>\n",
       "      <th></th>\n",
       "      <th></th>\n",
       "      <th></th>\n",
       "      <th></th>\n",
       "      <th></th>\n",
       "      <th></th>\n",
       "      <th></th>\n",
       "      <th></th>\n",
       "      <th></th>\n",
       "      <th></th>\n",
       "      <th></th>\n",
       "      <th></th>\n",
       "      <th></th>\n",
       "      <th></th>\n",
       "      <th></th>\n",
       "    </tr>\n",
       "  </thead>\n",
       "  <tbody>\n",
       "    <tr>\n",
       "      <th>4</th>\n",
       "      <td>2008</td>\n",
       "      <td>1</td>\n",
       "      <td>3</td>\n",
       "      <td>4</td>\n",
       "      <td>1829.0</td>\n",
       "      <td>1755</td>\n",
       "      <td>1959.0</td>\n",
       "      <td>1925</td>\n",
       "      <td>WN</td>\n",
       "      <td>3920</td>\n",
       "      <td>N464WN</td>\n",
       "      <td>90.0</td>\n",
       "      <td>90.0</td>\n",
       "      <td>77.0</td>\n",
       "      <td>34.0</td>\n",
       "      <td>34.0</td>\n",
       "      <td>IND</td>\n",
       "      <td>BWI</td>\n",
       "      <td>515</td>\n",
       "      <td>3.0</td>\n",
       "      <td>10.0</td>\n",
       "      <td>0</td>\n",
       "      <td>N</td>\n",
       "      <td>0</td>\n",
       "      <td>2.0</td>\n",
       "      <td>0.0</td>\n",
       "      <td>0.0</td>\n",
       "      <td>0.0</td>\n",
       "      <td>32.0</td>\n",
       "    </tr>\n",
       "    <tr>\n",
       "      <th>6</th>\n",
       "      <td>2008</td>\n",
       "      <td>1</td>\n",
       "      <td>3</td>\n",
       "      <td>4</td>\n",
       "      <td>1937.0</td>\n",
       "      <td>1830</td>\n",
       "      <td>2037.0</td>\n",
       "      <td>1940</td>\n",
       "      <td>WN</td>\n",
       "      <td>509</td>\n",
       "      <td>N763SW</td>\n",
       "      <td>240.0</td>\n",
       "      <td>250.0</td>\n",
       "      <td>230.0</td>\n",
       "      <td>57.0</td>\n",
       "      <td>67.0</td>\n",
       "      <td>IND</td>\n",
       "      <td>LAS</td>\n",
       "      <td>1591</td>\n",
       "      <td>3.0</td>\n",
       "      <td>7.0</td>\n",
       "      <td>0</td>\n",
       "      <td>N</td>\n",
       "      <td>0</td>\n",
       "      <td>10.0</td>\n",
       "      <td>0.0</td>\n",
       "      <td>0.0</td>\n",
       "      <td>0.0</td>\n",
       "      <td>47.0</td>\n",
       "    </tr>\n",
       "    <tr>\n",
       "      <th>11</th>\n",
       "      <td>2008</td>\n",
       "      <td>1</td>\n",
       "      <td>3</td>\n",
       "      <td>4</td>\n",
       "      <td>1644.0</td>\n",
       "      <td>1510</td>\n",
       "      <td>1845.0</td>\n",
       "      <td>1725</td>\n",
       "      <td>WN</td>\n",
       "      <td>1333</td>\n",
       "      <td>N334SW</td>\n",
       "      <td>121.0</td>\n",
       "      <td>135.0</td>\n",
       "      <td>107.0</td>\n",
       "      <td>80.0</td>\n",
       "      <td>94.0</td>\n",
       "      <td>IND</td>\n",
       "      <td>MCO</td>\n",
       "      <td>828</td>\n",
       "      <td>6.0</td>\n",
       "      <td>8.0</td>\n",
       "      <td>0</td>\n",
       "      <td>N</td>\n",
       "      <td>0</td>\n",
       "      <td>8.0</td>\n",
       "      <td>0.0</td>\n",
       "      <td>0.0</td>\n",
       "      <td>0.0</td>\n",
       "      <td>72.0</td>\n",
       "    </tr>\n",
       "    <tr>\n",
       "      <th>16</th>\n",
       "      <td>2008</td>\n",
       "      <td>1</td>\n",
       "      <td>3</td>\n",
       "      <td>4</td>\n",
       "      <td>1452.0</td>\n",
       "      <td>1425</td>\n",
       "      <td>1640.0</td>\n",
       "      <td>1625</td>\n",
       "      <td>WN</td>\n",
       "      <td>675</td>\n",
       "      <td>N286WN</td>\n",
       "      <td>228.0</td>\n",
       "      <td>240.0</td>\n",
       "      <td>213.0</td>\n",
       "      <td>15.0</td>\n",
       "      <td>27.0</td>\n",
       "      <td>IND</td>\n",
       "      <td>PHX</td>\n",
       "      <td>1489</td>\n",
       "      <td>7.0</td>\n",
       "      <td>8.0</td>\n",
       "      <td>0</td>\n",
       "      <td>N</td>\n",
       "      <td>0</td>\n",
       "      <td>3.0</td>\n",
       "      <td>0.0</td>\n",
       "      <td>0.0</td>\n",
       "      <td>0.0</td>\n",
       "      <td>12.0</td>\n",
       "    </tr>\n",
       "    <tr>\n",
       "      <th>18</th>\n",
       "      <td>2008</td>\n",
       "      <td>1</td>\n",
       "      <td>3</td>\n",
       "      <td>4</td>\n",
       "      <td>1323.0</td>\n",
       "      <td>1255</td>\n",
       "      <td>1526.0</td>\n",
       "      <td>1510</td>\n",
       "      <td>WN</td>\n",
       "      <td>4</td>\n",
       "      <td>N674AA</td>\n",
       "      <td>123.0</td>\n",
       "      <td>135.0</td>\n",
       "      <td>110.0</td>\n",
       "      <td>16.0</td>\n",
       "      <td>28.0</td>\n",
       "      <td>IND</td>\n",
       "      <td>TPA</td>\n",
       "      <td>838</td>\n",
       "      <td>4.0</td>\n",
       "      <td>9.0</td>\n",
       "      <td>0</td>\n",
       "      <td>N</td>\n",
       "      <td>0</td>\n",
       "      <td>0.0</td>\n",
       "      <td>0.0</td>\n",
       "      <td>0.0</td>\n",
       "      <td>0.0</td>\n",
       "      <td>16.0</td>\n",
       "    </tr>\n",
       "  </tbody>\n",
       "</table>\n",
       "</div>"
      ],
      "text/plain": [
       "            Year  Month  DayofMonth  DayOfWeek  DepTime  CRSDepTime  ArrTime  \\\n",
       "Unnamed: 0                                                                     \n",
       "4           2008      1           3          4   1829.0        1755   1959.0   \n",
       "6           2008      1           3          4   1937.0        1830   2037.0   \n",
       "11          2008      1           3          4   1644.0        1510   1845.0   \n",
       "16          2008      1           3          4   1452.0        1425   1640.0   \n",
       "18          2008      1           3          4   1323.0        1255   1526.0   \n",
       "\n",
       "            CRSArrTime UniqueCarrier  FlightNum TailNum  ActualElapsedTime  \\\n",
       "Unnamed: 0                                                                   \n",
       "4                 1925            WN       3920  N464WN               90.0   \n",
       "6                 1940            WN        509  N763SW              240.0   \n",
       "11                1725            WN       1333  N334SW              121.0   \n",
       "16                1625            WN        675  N286WN              228.0   \n",
       "18                1510            WN          4  N674AA              123.0   \n",
       "\n",
       "            CRSElapsedTime  AirTime  ArrDelay  DepDelay Origin Dest  Distance  \\\n",
       "Unnamed: 0                                                                      \n",
       "4                     90.0     77.0      34.0      34.0    IND  BWI       515   \n",
       "6                    250.0    230.0      57.0      67.0    IND  LAS      1591   \n",
       "11                   135.0    107.0      80.0      94.0    IND  MCO       828   \n",
       "16                   240.0    213.0      15.0      27.0    IND  PHX      1489   \n",
       "18                   135.0    110.0      16.0      28.0    IND  TPA       838   \n",
       "\n",
       "            TaxiIn  TaxiOut  Cancelled CancellationCode  Diverted  \\\n",
       "Unnamed: 0                                                          \n",
       "4              3.0     10.0          0                N         0   \n",
       "6              3.0      7.0          0                N         0   \n",
       "11             6.0      8.0          0                N         0   \n",
       "16             7.0      8.0          0                N         0   \n",
       "18             4.0      9.0          0                N         0   \n",
       "\n",
       "            CarrierDelay  WeatherDelay  NASDelay  SecurityDelay  \\\n",
       "Unnamed: 0                                                        \n",
       "4                    2.0           0.0       0.0            0.0   \n",
       "6                   10.0           0.0       0.0            0.0   \n",
       "11                   8.0           0.0       0.0            0.0   \n",
       "16                   3.0           0.0       0.0            0.0   \n",
       "18                   0.0           0.0       0.0            0.0   \n",
       "\n",
       "            LateAircraftDelay  \n",
       "Unnamed: 0                     \n",
       "4                        32.0  \n",
       "6                        47.0  \n",
       "11                       72.0  \n",
       "16                       12.0  \n",
       "18                       16.0  "
      ]
     },
     "execution_count": 4,
     "metadata": {},
     "output_type": "execute_result"
    }
   ],
   "source": [
    "df.head()"
   ]
  },
  {
   "cell_type": "code",
   "execution_count": 5,
   "metadata": {
    "ExecuteTime": {
     "end_time": "2021-11-23T14:44:33.383591Z",
     "start_time": "2021-11-23T14:44:31.075066Z"
    },
    "execution": {
     "iopub.execute_input": "2021-12-13T14:17:23.898188Z",
     "iopub.status.busy": "2021-12-13T14:17:23.897729Z",
     "iopub.status.idle": "2021-12-13T14:17:25.609696Z",
     "shell.execute_reply": "2021-12-13T14:17:25.608525Z",
     "shell.execute_reply.started": "2021-12-13T14:17:23.898140Z"
    }
   },
   "outputs": [
    {
     "data": {
      "text/html": [
       "<div>\n",
       "<style scoped>\n",
       "    .dataframe tbody tr th:only-of-type {\n",
       "        vertical-align: middle;\n",
       "    }\n",
       "\n",
       "    .dataframe tbody tr th {\n",
       "        vertical-align: top;\n",
       "    }\n",
       "\n",
       "    .dataframe thead th {\n",
       "        text-align: right;\n",
       "    }\n",
       "</style>\n",
       "<table border=\"1\" class=\"dataframe\">\n",
       "  <thead>\n",
       "    <tr style=\"text-align: right;\">\n",
       "      <th></th>\n",
       "      <th>Year</th>\n",
       "      <th>Month</th>\n",
       "      <th>DayofMonth</th>\n",
       "      <th>DayOfWeek</th>\n",
       "      <th>DepTime</th>\n",
       "      <th>CRSDepTime</th>\n",
       "      <th>ArrTime</th>\n",
       "      <th>CRSArrTime</th>\n",
       "      <th>FlightNum</th>\n",
       "      <th>ActualElapsedTime</th>\n",
       "      <th>CRSElapsedTime</th>\n",
       "      <th>AirTime</th>\n",
       "      <th>ArrDelay</th>\n",
       "      <th>DepDelay</th>\n",
       "      <th>Distance</th>\n",
       "      <th>TaxiIn</th>\n",
       "      <th>TaxiOut</th>\n",
       "      <th>Cancelled</th>\n",
       "      <th>Diverted</th>\n",
       "      <th>CarrierDelay</th>\n",
       "      <th>WeatherDelay</th>\n",
       "      <th>NASDelay</th>\n",
       "      <th>SecurityDelay</th>\n",
       "      <th>LateAircraftDelay</th>\n",
       "    </tr>\n",
       "  </thead>\n",
       "  <tbody>\n",
       "    <tr>\n",
       "      <th>count</th>\n",
       "      <td>1247486.000</td>\n",
       "      <td>1247486.000</td>\n",
       "      <td>1247486.000</td>\n",
       "      <td>1247486.000</td>\n",
       "      <td>1247486.000</td>\n",
       "      <td>1247486.000</td>\n",
       "      <td>1247486.000</td>\n",
       "      <td>1247486.000</td>\n",
       "      <td>1247486.000</td>\n",
       "      <td>1247486.000</td>\n",
       "      <td>1247486.000</td>\n",
       "      <td>1247486.000</td>\n",
       "      <td>1247486.000</td>\n",
       "      <td>1247486.000</td>\n",
       "      <td>1247486.000</td>\n",
       "      <td>1247486.000</td>\n",
       "      <td>1247486.000</td>\n",
       "      <td>1247486.000</td>\n",
       "      <td>1247486.000</td>\n",
       "      <td>1247486.000</td>\n",
       "      <td>1247486.000</td>\n",
       "      <td>1247486.000</td>\n",
       "      <td>1247486.000</td>\n",
       "      <td>1247486.000</td>\n",
       "    </tr>\n",
       "    <tr>\n",
       "      <th>mean</th>\n",
       "      <td>2008.000</td>\n",
       "      <td>6.065</td>\n",
       "      <td>15.725</td>\n",
       "      <td>3.980</td>\n",
       "      <td>1558.832</td>\n",
       "      <td>1487.949</td>\n",
       "      <td>1616.749</td>\n",
       "      <td>1652.458</td>\n",
       "      <td>2276.526</td>\n",
       "      <td>135.378</td>\n",
       "      <td>131.764</td>\n",
       "      <td>107.420</td>\n",
       "      <td>63.291</td>\n",
       "      <td>59.677</td>\n",
       "      <td>741.587</td>\n",
       "      <td>7.297</td>\n",
       "      <td>20.660</td>\n",
       "      <td>0.000</td>\n",
       "      <td>0.000</td>\n",
       "      <td>19.179</td>\n",
       "      <td>3.703</td>\n",
       "      <td>15.022</td>\n",
       "      <td>0.090</td>\n",
       "      <td>25.296</td>\n",
       "    </tr>\n",
       "    <tr>\n",
       "      <th>std</th>\n",
       "      <td>0.000</td>\n",
       "      <td>3.509</td>\n",
       "      <td>8.793</td>\n",
       "      <td>1.993</td>\n",
       "      <td>454.330</td>\n",
       "      <td>421.178</td>\n",
       "      <td>583.942</td>\n",
       "      <td>461.737</td>\n",
       "      <td>1997.547</td>\n",
       "      <td>72.296</td>\n",
       "      <td>69.532</td>\n",
       "      <td>68.175</td>\n",
       "      <td>60.754</td>\n",
       "      <td>59.869</td>\n",
       "      <td>559.364</td>\n",
       "      <td>6.033</td>\n",
       "      <td>16.680</td>\n",
       "      <td>0.000</td>\n",
       "      <td>0.000</td>\n",
       "      <td>43.546</td>\n",
       "      <td>21.492</td>\n",
       "      <td>33.833</td>\n",
       "      <td>2.023</td>\n",
       "      <td>42.055</td>\n",
       "    </tr>\n",
       "    <tr>\n",
       "      <th>min</th>\n",
       "      <td>2008.000</td>\n",
       "      <td>1.000</td>\n",
       "      <td>1.000</td>\n",
       "      <td>1.000</td>\n",
       "      <td>1.000</td>\n",
       "      <td>0.000</td>\n",
       "      <td>1.000</td>\n",
       "      <td>0.000</td>\n",
       "      <td>1.000</td>\n",
       "      <td>14.000</td>\n",
       "      <td>-21.000</td>\n",
       "      <td>0.000</td>\n",
       "      <td>15.000</td>\n",
       "      <td>6.000</td>\n",
       "      <td>11.000</td>\n",
       "      <td>0.000</td>\n",
       "      <td>0.000</td>\n",
       "      <td>0.000</td>\n",
       "      <td>0.000</td>\n",
       "      <td>0.000</td>\n",
       "      <td>0.000</td>\n",
       "      <td>0.000</td>\n",
       "      <td>0.000</td>\n",
       "      <td>0.000</td>\n",
       "    </tr>\n",
       "    <tr>\n",
       "      <th>25%</th>\n",
       "      <td>2008.000</td>\n",
       "      <td>3.000</td>\n",
       "      <td>8.000</td>\n",
       "      <td>2.000</td>\n",
       "      <td>1232.000</td>\n",
       "      <td>1150.000</td>\n",
       "      <td>1326.000</td>\n",
       "      <td>1340.000</td>\n",
       "      <td>637.000</td>\n",
       "      <td>83.000</td>\n",
       "      <td>80.000</td>\n",
       "      <td>58.000</td>\n",
       "      <td>26.000</td>\n",
       "      <td>24.000</td>\n",
       "      <td>334.000</td>\n",
       "      <td>4.000</td>\n",
       "      <td>11.000</td>\n",
       "      <td>0.000</td>\n",
       "      <td>0.000</td>\n",
       "      <td>0.000</td>\n",
       "      <td>0.000</td>\n",
       "      <td>0.000</td>\n",
       "      <td>0.000</td>\n",
       "      <td>0.000</td>\n",
       "    </tr>\n",
       "    <tr>\n",
       "      <th>50%</th>\n",
       "      <td>2008.000</td>\n",
       "      <td>6.000</td>\n",
       "      <td>16.000</td>\n",
       "      <td>4.000</td>\n",
       "      <td>1618.000</td>\n",
       "      <td>1529.000</td>\n",
       "      <td>1737.000</td>\n",
       "      <td>1722.000</td>\n",
       "      <td>1589.000</td>\n",
       "      <td>118.000</td>\n",
       "      <td>115.000</td>\n",
       "      <td>90.000</td>\n",
       "      <td>43.000</td>\n",
       "      <td>41.000</td>\n",
       "      <td>595.000</td>\n",
       "      <td>6.000</td>\n",
       "      <td>16.000</td>\n",
       "      <td>0.000</td>\n",
       "      <td>0.000</td>\n",
       "      <td>2.000</td>\n",
       "      <td>0.000</td>\n",
       "      <td>2.000</td>\n",
       "      <td>0.000</td>\n",
       "      <td>8.000</td>\n",
       "    </tr>\n",
       "    <tr>\n",
       "      <th>75%</th>\n",
       "      <td>2008.000</td>\n",
       "      <td>9.000</td>\n",
       "      <td>23.000</td>\n",
       "      <td>6.000</td>\n",
       "      <td>1924.000</td>\n",
       "      <td>1830.000</td>\n",
       "      <td>2048.000</td>\n",
       "      <td>2022.000</td>\n",
       "      <td>3676.000</td>\n",
       "      <td>167.000</td>\n",
       "      <td>161.000</td>\n",
       "      <td>136.000</td>\n",
       "      <td>79.000</td>\n",
       "      <td>75.000</td>\n",
       "      <td>972.000</td>\n",
       "      <td>8.000</td>\n",
       "      <td>24.000</td>\n",
       "      <td>0.000</td>\n",
       "      <td>0.000</td>\n",
       "      <td>21.000</td>\n",
       "      <td>0.000</td>\n",
       "      <td>15.000</td>\n",
       "      <td>0.000</td>\n",
       "      <td>33.000</td>\n",
       "    </tr>\n",
       "    <tr>\n",
       "      <th>max</th>\n",
       "      <td>2008.000</td>\n",
       "      <td>12.000</td>\n",
       "      <td>31.000</td>\n",
       "      <td>7.000</td>\n",
       "      <td>2400.000</td>\n",
       "      <td>2359.000</td>\n",
       "      <td>2400.000</td>\n",
       "      <td>2359.000</td>\n",
       "      <td>9741.000</td>\n",
       "      <td>1114.000</td>\n",
       "      <td>660.000</td>\n",
       "      <td>1091.000</td>\n",
       "      <td>2461.000</td>\n",
       "      <td>2467.000</td>\n",
       "      <td>4962.000</td>\n",
       "      <td>240.000</td>\n",
       "      <td>422.000</td>\n",
       "      <td>0.000</td>\n",
       "      <td>0.000</td>\n",
       "      <td>2436.000</td>\n",
       "      <td>1352.000</td>\n",
       "      <td>1357.000</td>\n",
       "      <td>392.000</td>\n",
       "      <td>1316.000</td>\n",
       "    </tr>\n",
       "  </tbody>\n",
       "</table>\n",
       "</div>"
      ],
      "text/plain": [
       "              Year        Month   DayofMonth    DayOfWeek      DepTime  \\\n",
       "count  1247486.000  1247486.000  1247486.000  1247486.000  1247486.000   \n",
       "mean      2008.000        6.065       15.725        3.980     1558.832   \n",
       "std          0.000        3.509        8.793        1.993      454.330   \n",
       "min       2008.000        1.000        1.000        1.000        1.000   \n",
       "25%       2008.000        3.000        8.000        2.000     1232.000   \n",
       "50%       2008.000        6.000       16.000        4.000     1618.000   \n",
       "75%       2008.000        9.000       23.000        6.000     1924.000   \n",
       "max       2008.000       12.000       31.000        7.000     2400.000   \n",
       "\n",
       "        CRSDepTime      ArrTime   CRSArrTime    FlightNum ActualElapsedTime  \\\n",
       "count  1247486.000  1247486.000  1247486.000  1247486.000       1247486.000   \n",
       "mean      1487.949     1616.749     1652.458     2276.526           135.378   \n",
       "std        421.178      583.942      461.737     1997.547            72.296   \n",
       "min          0.000        1.000        0.000        1.000            14.000   \n",
       "25%       1150.000     1326.000     1340.000      637.000            83.000   \n",
       "50%       1529.000     1737.000     1722.000     1589.000           118.000   \n",
       "75%       1830.000     2048.000     2022.000     3676.000           167.000   \n",
       "max       2359.000     2400.000     2359.000     9741.000          1114.000   \n",
       "\n",
       "      CRSElapsedTime      AirTime     ArrDelay     DepDelay     Distance  \\\n",
       "count    1247486.000  1247486.000  1247486.000  1247486.000  1247486.000   \n",
       "mean         131.764      107.420       63.291       59.677      741.587   \n",
       "std           69.532       68.175       60.754       59.869      559.364   \n",
       "min          -21.000        0.000       15.000        6.000       11.000   \n",
       "25%           80.000       58.000       26.000       24.000      334.000   \n",
       "50%          115.000       90.000       43.000       41.000      595.000   \n",
       "75%          161.000      136.000       79.000       75.000      972.000   \n",
       "max          660.000     1091.000     2461.000     2467.000     4962.000   \n",
       "\n",
       "            TaxiIn      TaxiOut    Cancelled     Diverted CarrierDelay  \\\n",
       "count  1247486.000  1247486.000  1247486.000  1247486.000  1247486.000   \n",
       "mean         7.297       20.660        0.000        0.000       19.179   \n",
       "std          6.033       16.680        0.000        0.000       43.546   \n",
       "min          0.000        0.000        0.000        0.000        0.000   \n",
       "25%          4.000       11.000        0.000        0.000        0.000   \n",
       "50%          6.000       16.000        0.000        0.000        2.000   \n",
       "75%          8.000       24.000        0.000        0.000       21.000   \n",
       "max        240.000      422.000        0.000        0.000     2436.000   \n",
       "\n",
       "      WeatherDelay     NASDelay SecurityDelay LateAircraftDelay  \n",
       "count  1247486.000  1247486.000   1247486.000       1247486.000  \n",
       "mean         3.703       15.022         0.090            25.296  \n",
       "std         21.492       33.833         2.023            42.055  \n",
       "min          0.000        0.000         0.000             0.000  \n",
       "25%          0.000        0.000         0.000             0.000  \n",
       "50%          0.000        2.000         0.000             8.000  \n",
       "75%          0.000       15.000         0.000            33.000  \n",
       "max       1352.000     1357.000       392.000          1316.000  "
      ]
     },
     "execution_count": 5,
     "metadata": {},
     "output_type": "execute_result"
    }
   ],
   "source": [
    "df.describe().apply(lambda s: s.apply('{0:.3f}'.format))"
   ]
  },
  {
   "cell_type": "code",
   "execution_count": 6,
   "metadata": {
    "execution": {
     "iopub.execute_input": "2021-12-13T14:17:25.612951Z",
     "iopub.status.busy": "2021-12-13T14:17:25.612384Z",
     "iopub.status.idle": "2021-12-13T14:17:26.269423Z",
     "shell.execute_reply": "2021-12-13T14:17:26.267105Z",
     "shell.execute_reply.started": "2021-12-13T14:17:25.612871Z"
    }
   },
   "outputs": [
    {
     "name": "stdout",
     "output_type": "stream",
     "text": [
      "<class 'pandas.core.frame.DataFrame'>\n",
      "Int64Index: 1247486 entries, 4 to 7009718\n",
      "Data columns (total 29 columns):\n",
      " #   Column             Non-Null Count    Dtype  \n",
      "---  ------             --------------    -----  \n",
      " 0   Year               1247486 non-null  int64  \n",
      " 1   Month              1247486 non-null  int64  \n",
      " 2   DayofMonth         1247486 non-null  int64  \n",
      " 3   DayOfWeek          1247486 non-null  int64  \n",
      " 4   DepTime            1247486 non-null  float64\n",
      " 5   CRSDepTime         1247486 non-null  int64  \n",
      " 6   ArrTime            1247486 non-null  float64\n",
      " 7   CRSArrTime         1247486 non-null  int64  \n",
      " 8   UniqueCarrier      1247486 non-null  object \n",
      " 9   FlightNum          1247486 non-null  int64  \n",
      " 10  TailNum            1247486 non-null  object \n",
      " 11  ActualElapsedTime  1247486 non-null  float64\n",
      " 12  CRSElapsedTime     1247486 non-null  float64\n",
      " 13  AirTime            1247486 non-null  float64\n",
      " 14  ArrDelay           1247486 non-null  float64\n",
      " 15  DepDelay           1247486 non-null  float64\n",
      " 16  Origin             1247486 non-null  object \n",
      " 17  Dest               1247486 non-null  object \n",
      " 18  Distance           1247486 non-null  int64  \n",
      " 19  TaxiIn             1247486 non-null  float64\n",
      " 20  TaxiOut            1247486 non-null  float64\n",
      " 21  Cancelled          1247486 non-null  int64  \n",
      " 22  CancellationCode   1247486 non-null  object \n",
      " 23  Diverted           1247486 non-null  int64  \n",
      " 24  CarrierDelay       1247486 non-null  float64\n",
      " 25  WeatherDelay       1247486 non-null  float64\n",
      " 26  NASDelay           1247486 non-null  float64\n",
      " 27  SecurityDelay      1247486 non-null  float64\n",
      " 28  LateAircraftDelay  1247486 non-null  float64\n",
      "dtypes: float64(14), int64(10), object(5)\n",
      "memory usage: 285.5+ MB\n"
     ]
    }
   ],
   "source": [
    "df.info()"
   ]
  },
  {
   "cell_type": "markdown",
   "metadata": {},
   "source": [
    "### Train test split\n",
    "\n",
    "Com que els models de regressió lineal només accepten valors numèrics, seleccionem només les columnes que no son objecte i més endavant podem convertir les columnes objecte que escaigui mitjançant columnes dummy, per exemple.\n"
   ]
  },
  {
   "cell_type": "markdown",
   "metadata": {},
   "source": [
    "#### Split"
   ]
  },
  {
   "cell_type": "code",
   "execution_count": 7,
   "metadata": {
    "execution": {
     "iopub.execute_input": "2021-12-13T14:17:26.275501Z",
     "iopub.status.busy": "2021-12-13T14:17:26.274364Z",
     "iopub.status.idle": "2021-12-13T14:17:28.510483Z",
     "shell.execute_reply": "2021-12-13T14:17:28.509234Z",
     "shell.execute_reply.started": "2021-12-13T14:17:26.275435Z"
    }
   },
   "outputs": [],
   "source": [
    "from sklearn.model_selection import train_test_split\n",
    "\n",
    "X = df[df.columns[~df.columns.isin(['CancellationCode','UniqueCarrier','TailNum','Origin','Dest','ArrDelay'])]]\n",
    "\n",
    "y = df['ArrDelay']\n",
    "\n",
    "X_train, X_test, y_train, y_test = train_test_split(X, y, random_state=0, test_size=0.2) "
   ]
  },
  {
   "cell_type": "code",
   "execution_count": 8,
   "metadata": {
    "execution": {
     "iopub.execute_input": "2021-12-13T14:17:28.517241Z",
     "iopub.status.busy": "2021-12-13T14:17:28.516724Z",
     "iopub.status.idle": "2021-12-13T14:17:28.748566Z",
     "shell.execute_reply": "2021-12-13T14:17:28.746984Z",
     "shell.execute_reply.started": "2021-12-13T14:17:28.517182Z"
    }
   },
   "outputs": [
    {
     "name": "stdout",
     "output_type": "stream",
     "text": [
      "<class 'pandas.core.frame.DataFrame'>\n",
      "Int64Index: 1247486 entries, 4 to 7009718\n",
      "Data columns (total 23 columns):\n",
      " #   Column             Non-Null Count    Dtype  \n",
      "---  ------             --------------    -----  \n",
      " 0   Year               1247486 non-null  int64  \n",
      " 1   Month              1247486 non-null  int64  \n",
      " 2   DayofMonth         1247486 non-null  int64  \n",
      " 3   DayOfWeek          1247486 non-null  int64  \n",
      " 4   DepTime            1247486 non-null  float64\n",
      " 5   CRSDepTime         1247486 non-null  int64  \n",
      " 6   ArrTime            1247486 non-null  float64\n",
      " 7   CRSArrTime         1247486 non-null  int64  \n",
      " 8   FlightNum          1247486 non-null  int64  \n",
      " 9   ActualElapsedTime  1247486 non-null  float64\n",
      " 10  CRSElapsedTime     1247486 non-null  float64\n",
      " 11  AirTime            1247486 non-null  float64\n",
      " 12  DepDelay           1247486 non-null  float64\n",
      " 13  Distance           1247486 non-null  int64  \n",
      " 14  TaxiIn             1247486 non-null  float64\n",
      " 15  TaxiOut            1247486 non-null  float64\n",
      " 16  Cancelled          1247486 non-null  int64  \n",
      " 17  Diverted           1247486 non-null  int64  \n",
      " 18  CarrierDelay       1247486 non-null  float64\n",
      " 19  WeatherDelay       1247486 non-null  float64\n",
      " 20  NASDelay           1247486 non-null  float64\n",
      " 21  SecurityDelay      1247486 non-null  float64\n",
      " 22  LateAircraftDelay  1247486 non-null  float64\n",
      "dtypes: float64(13), int64(10)\n",
      "memory usage: 228.4 MB\n"
     ]
    }
   ],
   "source": [
    "X.info()"
   ]
  },
  {
   "cell_type": "markdown",
   "metadata": {},
   "source": [
    "### Model 1 Regressió lineal"
   ]
  },
  {
   "cell_type": "code",
   "execution_count": 9,
   "metadata": {
    "ExecuteTime": {
     "end_time": "2021-11-23T14:44:33.740783Z",
     "start_time": "2021-11-23T14:44:33.695204Z"
    },
    "execution": {
     "iopub.execute_input": "2021-12-13T14:17:28.752901Z",
     "iopub.status.busy": "2021-12-13T14:17:28.752528Z",
     "iopub.status.idle": "2021-12-13T14:17:31.165483Z",
     "shell.execute_reply": "2021-12-13T14:17:31.164504Z",
     "shell.execute_reply.started": "2021-12-13T14:17:28.752860Z"
    }
   },
   "outputs": [],
   "source": [
    "from sklearn.linear_model import LinearRegression\n",
    "\n",
    "lr = LinearRegression()\n",
    "lr.fit(X_train, y_train)\n",
    "\n",
    "y_hat_lr = lr.predict(X_test)"
   ]
  },
  {
   "cell_type": "markdown",
   "metadata": {},
   "source": [
    "### Model 2 ElasticNet"
   ]
  },
  {
   "cell_type": "code",
   "execution_count": 10,
   "metadata": {
    "execution": {
     "iopub.execute_input": "2021-12-13T14:17:31.171592Z",
     "iopub.status.busy": "2021-12-13T14:17:31.168886Z",
     "iopub.status.idle": "2021-12-13T14:19:04.864300Z",
     "shell.execute_reply": "2021-12-13T14:19:04.862350Z",
     "shell.execute_reply.started": "2021-12-13T14:17:31.171524Z"
    }
   },
   "outputs": [],
   "source": [
    "from sklearn.linear_model import ElasticNetCV\n",
    "\n",
    "elnet = ElasticNetCV()\n",
    "elnet.fit(X_train, y_train)\n",
    "\n",
    "y_hat_elnet = elnet.predict(X_test)"
   ]
  },
  {
   "cell_type": "markdown",
   "metadata": {},
   "source": [
    "### Model 3 Decision Tree"
   ]
  },
  {
   "cell_type": "code",
   "execution_count": 11,
   "metadata": {
    "execution": {
     "iopub.execute_input": "2021-12-13T14:19:04.870377Z",
     "iopub.status.busy": "2021-12-13T14:19:04.867384Z",
     "iopub.status.idle": "2021-12-13T14:19:37.853008Z",
     "shell.execute_reply": "2021-12-13T14:19:37.851655Z",
     "shell.execute_reply.started": "2021-12-13T14:19:04.870311Z"
    }
   },
   "outputs": [],
   "source": [
    "from sklearn import tree\n",
    "clf = tree.DecisionTreeRegressor()\n",
    "clf = clf.fit(X_train, y_train)\n",
    "\n",
    "y_hat_clf = clf.predict(X_test)"
   ]
  },
  {
   "cell_type": "markdown",
   "metadata": {},
   "source": [
    "## Exercici 2. Compara’ls en base al MSE i al R2."
   ]
  },
  {
   "cell_type": "markdown",
   "metadata": {},
   "source": [
    "R-squared represents the fraction of variance of response variable captured by the regression model rather than the MSE which captures the residual error. Per tant, el model que explica millor la variança en ArrDelay es la regressió lineal, amb un R2 màxim d'1, i el que menys error residual genera (1.79e-25).  \n",
    "\n",
    "L'ElasticNet ocupa la segona posició tant en R2 com en error residual. \n",
    "\n",
    "L'arbre de decisió és el que més error captura i menys variança explica."
   ]
  },
  {
   "cell_type": "code",
   "execution_count": 12,
   "metadata": {
    "execution": {
     "iopub.execute_input": "2021-12-13T14:19:37.856617Z",
     "iopub.status.busy": "2021-12-13T14:19:37.855972Z",
     "iopub.status.idle": "2021-12-13T14:19:37.917471Z",
     "shell.execute_reply": "2021-12-13T14:19:37.916227Z",
     "shell.execute_reply.started": "2021-12-13T14:19:37.856556Z"
    }
   },
   "outputs": [
    {
     "data": {
      "text/plain": [
       "{'r2_LinearRegression': 1.0,\n",
       " 'r2_ElasticNet': 0.9996474010990963,\n",
       " 'r2_DecisionTree': 0.9959699375206533}"
      ]
     },
     "execution_count": 12,
     "metadata": {},
     "output_type": "execute_result"
    }
   ],
   "source": [
    "from sklearn.metrics import r2_score\n",
    "r2_1 = {}\n",
    "r2_1['r2_LinearRegression'] = r2_score(y_test, y_hat_lr)\n",
    "r2_1['r2_ElasticNet'] = r2_score(y_test, y_hat_elnet)\n",
    "r2_1['r2_DecisionTree'] = r2_score(y_test, y_hat_clf)\n",
    "\n",
    "r2_1"
   ]
  },
  {
   "cell_type": "code",
   "execution_count": 13,
   "metadata": {
    "execution": {
     "iopub.execute_input": "2021-12-13T14:19:37.920713Z",
     "iopub.status.busy": "2021-12-13T14:19:37.919676Z",
     "iopub.status.idle": "2021-12-13T14:19:37.940741Z",
     "shell.execute_reply": "2021-12-13T14:19:37.938616Z",
     "shell.execute_reply.started": "2021-12-13T14:19:37.920647Z"
    }
   },
   "outputs": [
    {
     "data": {
      "text/plain": [
       "{'mse_LinearRegression': 1.7948154788866446e-25,\n",
       " 'mse_ElasticNet': 1.2834120259717667,\n",
       " 'mse_DecisionTree': 14.668879109251376}"
      ]
     },
     "execution_count": 13,
     "metadata": {},
     "output_type": "execute_result"
    }
   ],
   "source": [
    "from sklearn.metrics import mean_squared_error\n",
    "mse_1 = {}\n",
    "mse_1['mse_LinearRegression'] = mean_squared_error(y_test, y_hat_lr)\n",
    "mse_1['mse_ElasticNet'] = mean_squared_error(y_test, y_hat_elnet)\n",
    "mse_1['mse_DecisionTree'] = mean_squared_error(y_test, y_hat_clf)\n",
    "\n",
    "mse_1"
   ]
  },
  {
   "cell_type": "markdown",
   "metadata": {},
   "source": [
    "## Exercici 3. Entrena’ls utilitzant els diferents paràmetres que admeten."
   ]
  },
  {
   "cell_type": "markdown",
   "metadata": {},
   "source": [
    "Si coneixem els diferents paràmetres que admeten els models podem utilitzar Grid Search per descobrir amb quina combinació de paràmetres obtenem una millor performance en cada model. \n",
    "\n",
    "Amb la regressió lineal totes les opcions ens donen el mateix valor d'r2: 1.000. Per tant, la configuració estàndard de la regressio lineal amb Fit_intercept: True, normalize: False i positive: False ja ens serveix en aquest cas.\n",
    "\n",
    "L'arbre de decissió i l'ElasticNet permeten modificar molts paràmetres però només se n'han modificat alguns. \n",
    "La millor combinació, pel que fa a l'R2 (0.999937), de l'ElasticNet és fit_intercept: True, l1_ratio: 1 i normalize: True} \n",
    "\n",
    "Pel que fa a l'arbre de decissió, el millor R2 obtingut és d'0.995364 amb els paràmetres min_samples_leaf: 2, min_samples_split: 3 i splitter: best. "
   ]
  },
  {
   "cell_type": "markdown",
   "metadata": {},
   "source": [
    "#### Regressió lineal"
   ]
  },
  {
   "cell_type": "code",
   "execution_count": 14,
   "metadata": {
    "execution": {
     "iopub.execute_input": "2021-12-13T14:19:37.942933Z",
     "iopub.status.busy": "2021-12-13T14:19:37.942642Z",
     "iopub.status.idle": "2021-12-13T14:20:23.085263Z",
     "shell.execute_reply": "2021-12-13T14:20:23.079192Z",
     "shell.execute_reply.started": "2021-12-13T14:19:37.942902Z"
    }
   },
   "outputs": [
    {
     "name": "stdout",
     "output_type": "stream",
     "text": [
      "Best: 1.000000 using {'fit_intercept': True, 'normalize': True, 'positive': True}\n",
      "1.000000 (0.000000) with: {'fit_intercept': True, 'normalize': True, 'positive': True}\n",
      "1.000000 (0.000000) with: {'fit_intercept': True, 'normalize': True, 'positive': False}\n",
      "1.000000 (0.000000) with: {'fit_intercept': True, 'normalize': False, 'positive': True}\n",
      "1.000000 (0.000000) with: {'fit_intercept': True, 'normalize': False, 'positive': False}\n",
      "1.000000 (0.000000) with: {'fit_intercept': False, 'normalize': True, 'positive': True}\n",
      "1.000000 (0.000000) with: {'fit_intercept': False, 'normalize': True, 'positive': False}\n",
      "1.000000 (0.000000) with: {'fit_intercept': False, 'normalize': False, 'positive': True}\n",
      "1.000000 (0.000000) with: {'fit_intercept': False, 'normalize': False, 'positive': False}\n"
     ]
    },
    {
     "data": {
      "text/plain": [
       "{\"GridSearch lr{'fit_intercept': True, 'normalize': True, 'positive': True}\": 1.0}"
      ]
     },
     "execution_count": 14,
     "metadata": {},
     "output_type": "execute_result"
    }
   ],
   "source": [
    "from sklearn.model_selection import GridSearchCV\n",
    "\n",
    "#Creating the grid for gridsearch\n",
    "param_grid = {}\n",
    "param_grid['fit_intercept'] = [True, False]\n",
    "param_grid['normalize'] = [True, False]\n",
    "param_grid['positive'] = [True, False]\n",
    "\n",
    "grid_search_lr = GridSearchCV(LinearRegression(), param_grid, cv=3, scoring='r2', error_score=0)\n",
    "grid_result_lr = grid_search_lr.fit(X, y)\n",
    "\n",
    "# summarize results\n",
    "print(\"Best: %f using %s\" % (grid_result_lr.best_score_, grid_result_lr.best_params_))\n",
    "means = grid_result_lr.cv_results_['mean_test_score']\n",
    "stds = grid_result_lr.cv_results_['std_test_score']\n",
    "params = grid_result_lr.cv_results_['params']\n",
    "for mean, stdev, param in zip(means, stds, params):\n",
    "    print(\"%f (%f) with: %r\" % (mean, stdev, param))\n",
    "\n",
    "#Create dict \n",
    "losses = {}    \n",
    "#Update the dict    \n",
    "losses['GridSearch lr' + str(grid_result_lr.best_params_)] = grid_result_lr.best_score_\n",
    "losses"
   ]
  },
  {
   "cell_type": "markdown",
   "metadata": {},
   "source": [
    "#### ElasticNet"
   ]
  },
  {
   "cell_type": "code",
   "execution_count": 15,
   "metadata": {
    "execution": {
     "iopub.execute_input": "2021-12-13T14:20:23.103295Z",
     "iopub.status.busy": "2021-12-13T14:20:23.102133Z",
     "iopub.status.idle": "2021-12-13T14:36:36.765849Z",
     "shell.execute_reply": "2021-12-13T14:36:36.749929Z",
     "shell.execute_reply.started": "2021-12-13T14:20:23.103211Z"
    }
   },
   "outputs": [
    {
     "name": "stdout",
     "output_type": "stream",
     "text": [
      "Best: 0.999937 using {'fit_intercept': True, 'l1_ratio': 1, 'normalize': True}\n",
      "0.000000 (0.000000) with: {'fit_intercept': True, 'l1_ratio': 0, 'normalize': True}\n",
      "0.000000 (0.000000) with: {'fit_intercept': True, 'l1_ratio': 0, 'normalize': False}\n",
      "0.067673 (0.000152) with: {'fit_intercept': True, 'l1_ratio': 0.5, 'normalize': True}\n",
      "0.999633 (0.000015) with: {'fit_intercept': True, 'l1_ratio': 0.5, 'normalize': False}\n",
      "0.999937 (0.000002) with: {'fit_intercept': True, 'l1_ratio': 1, 'normalize': True}\n",
      "0.999909 (0.000003) with: {'fit_intercept': True, 'l1_ratio': 1, 'normalize': False}\n",
      "0.000000 (0.000000) with: {'fit_intercept': False, 'l1_ratio': 0, 'normalize': True}\n",
      "0.000000 (0.000000) with: {'fit_intercept': False, 'l1_ratio': 0, 'normalize': False}\n",
      "0.946174 (0.000629) with: {'fit_intercept': False, 'l1_ratio': 0.5, 'normalize': True}\n",
      "0.946174 (0.000629) with: {'fit_intercept': False, 'l1_ratio': 0.5, 'normalize': False}\n",
      "0.955780 (0.000648) with: {'fit_intercept': False, 'l1_ratio': 1, 'normalize': True}\n",
      "0.955780 (0.000648) with: {'fit_intercept': False, 'l1_ratio': 1, 'normalize': False}\n"
     ]
    },
    {
     "data": {
      "text/plain": [
       "{\"GridSearch lr{'fit_intercept': True, 'normalize': True, 'positive': True}\": 1.0,\n",
       " \"GridSearch ElNet{'fit_intercept': True, 'l1_ratio': 1, 'normalize': True}\": 0.9999370586650528}"
      ]
     },
     "execution_count": 15,
     "metadata": {},
     "output_type": "execute_result"
    }
   ],
   "source": [
    "param_grid = {}\n",
    "param_grid['l1_ratio'] = [0, 0.5, 1]\n",
    "param_grid['fit_intercept'] = [True, False]\n",
    "param_grid['normalize'] = [True, False]\n",
    "\n",
    "grid_search_elnet = GridSearchCV(ElasticNetCV(), param_grid, cv=3, scoring='r2', error_score=0)\n",
    "grid_result_elnet = grid_search_elnet.fit(X_train, y_train)\n",
    "\n",
    "# summarize results\n",
    "print(\"Best: %f using %s\" % (grid_result_elnet.best_score_, grid_result_elnet.best_params_))\n",
    "means = grid_result_elnet.cv_results_['mean_test_score']\n",
    "stds = grid_result_elnet.cv_results_['std_test_score']\n",
    "params = grid_result_elnet.cv_results_['params']\n",
    "for mean, stdev, param in zip(means, stds, params):\n",
    "    print(\"%f (%f) with: %r\" % (mean, stdev, param))\n",
    "\n",
    "    \n",
    "losses['GridSearch ElNet'+ str(grid_result_elnet.best_params_)] = grid_result_elnet.best_score_\n",
    "losses"
   ]
  },
  {
   "cell_type": "markdown",
   "metadata": {},
   "source": [
    "#### Decision Tree"
   ]
  },
  {
   "cell_type": "code",
   "execution_count": 16,
   "metadata": {
    "execution": {
     "iopub.execute_input": "2021-12-13T14:36:36.783837Z",
     "iopub.status.busy": "2021-12-13T14:36:36.782923Z",
     "iopub.status.idle": "2021-12-13T14:43:14.673119Z",
     "shell.execute_reply": "2021-12-13T14:43:14.669720Z",
     "shell.execute_reply.started": "2021-12-13T14:36:36.783757Z"
    }
   },
   "outputs": [
    {
     "name": "stdout",
     "output_type": "stream",
     "text": [
      "Best: 0.995364 using {'min_samples_leaf': 2, 'min_samples_split': 3, 'splitter': 'best'}\n",
      "0.000000 (0.000000) with: {'min_samples_leaf': 0.5, 'min_samples_split': 1, 'splitter': 'best'}\n",
      "0.000000 (0.000000) with: {'min_samples_leaf': 0.5, 'min_samples_split': 1, 'splitter': 'random'}\n",
      "-0.000002 (0.000002) with: {'min_samples_leaf': 0.5, 'min_samples_split': 2, 'splitter': 'best'}\n",
      "-0.000002 (0.000002) with: {'min_samples_leaf': 0.5, 'min_samples_split': 2, 'splitter': 'random'}\n",
      "-0.000002 (0.000002) with: {'min_samples_leaf': 0.5, 'min_samples_split': 3, 'splitter': 'best'}\n",
      "-0.000002 (0.000002) with: {'min_samples_leaf': 0.5, 'min_samples_split': 3, 'splitter': 'random'}\n",
      "0.000000 (0.000000) with: {'min_samples_leaf': 1, 'min_samples_split': 1, 'splitter': 'best'}\n",
      "0.000000 (0.000000) with: {'min_samples_leaf': 1, 'min_samples_split': 1, 'splitter': 'random'}\n",
      "0.994701 (0.000121) with: {'min_samples_leaf': 1, 'min_samples_split': 2, 'splitter': 'best'}\n",
      "0.992537 (0.000844) with: {'min_samples_leaf': 1, 'min_samples_split': 2, 'splitter': 'random'}\n",
      "0.994948 (0.000391) with: {'min_samples_leaf': 1, 'min_samples_split': 3, 'splitter': 'best'}\n",
      "0.993182 (0.002054) with: {'min_samples_leaf': 1, 'min_samples_split': 3, 'splitter': 'random'}\n",
      "0.000000 (0.000000) with: {'min_samples_leaf': 2, 'min_samples_split': 1, 'splitter': 'best'}\n",
      "0.000000 (0.000000) with: {'min_samples_leaf': 2, 'min_samples_split': 1, 'splitter': 'random'}\n",
      "0.995137 (0.000322) with: {'min_samples_leaf': 2, 'min_samples_split': 2, 'splitter': 'best'}\n",
      "0.993597 (0.000849) with: {'min_samples_leaf': 2, 'min_samples_split': 2, 'splitter': 'random'}\n",
      "0.995364 (0.000121) with: {'min_samples_leaf': 2, 'min_samples_split': 3, 'splitter': 'best'}\n",
      "0.993420 (0.001685) with: {'min_samples_leaf': 2, 'min_samples_split': 3, 'splitter': 'random'}\n"
     ]
    },
    {
     "data": {
      "text/plain": [
       "{\"GridSearch lr{'fit_intercept': True, 'normalize': True, 'positive': True}\": 1.0,\n",
       " \"GridSearch ElNet{'fit_intercept': True, 'l1_ratio': 1, 'normalize': True}\": 0.9999370586650528,\n",
       " \"GridSearch tree{'min_samples_leaf': 2, 'min_samples_split': 3, 'splitter': 'best'}\": 0.9953639190413193}"
      ]
     },
     "execution_count": 16,
     "metadata": {},
     "output_type": "execute_result"
    }
   ],
   "source": [
    "param_grid = {}\n",
    "param_grid['splitter'] = ['best','random']\n",
    "param_grid['min_samples_split'] = [1, 2, 3]\n",
    "param_grid['min_samples_leaf'] = [0.5, 1, 2]\n",
    "\n",
    "grid_search_tree = GridSearchCV(tree.DecisionTreeRegressor(), param_grid, cv=3, scoring='r2', error_score=0)\n",
    "grid_result_tree = grid_search_tree.fit(X_train, y_train)\n",
    "\n",
    "# summarize results\n",
    "print(\"Best: %f using %s\" % (grid_result_tree.best_score_, grid_result_tree.best_params_))\n",
    "means = grid_result_tree.cv_results_['mean_test_score']\n",
    "stds = grid_result_tree.cv_results_['std_test_score']\n",
    "params = grid_result_tree.cv_results_['params']\n",
    "for mean, stdev, param in zip(means, stds, params):\n",
    "    print(\"%f (%f) with: %r\" % (mean, stdev, param))\n",
    "\n",
    "    \n",
    "losses['GridSearch tree'+ str(grid_result_tree.best_params_)] = grid_result_tree.best_score_\n",
    "losses"
   ]
  },
  {
   "cell_type": "markdown",
   "metadata": {},
   "source": [
    "## Exercici 4. Compara el seu rendiment utilitzant l’aproximació traint/test o utilitzant totes les dades (validació interna)"
   ]
  },
  {
   "cell_type": "markdown",
   "metadata": {},
   "source": [
    "En l'exercici anterior, en el cas de l'ElasticNet, per exemple, podem veure com tot i utilitzant els paràmetres per defecte del model (fit_intercept: True, l1_ratio: 0.5 i normalize: False}, el R2 score és lleugerament diferent a l'ElasticNet del primer exercici. Això es deu a que en el primer cas hem fet la validació només amb el test subset i en l'exercici 3 hem utilitzat GridSearch, que inclou cross validation, és a dir, validació interna. Quan s'utilitza la cross validation el rendiment sol ser una mica inferior al rendiment del test subset però ens permet evitar el sobreentrenament del model.\n",
    " \n",
    "R2 Default params ElasticNet Exercici 1: **0.999647**\n",
    "\n",
    "R2 Default params ElasticNet Exercici 3: **0.999633**\n",
    "\n",
    "Com que el GridSearch no ofereix la mètrica MSE, però sí la neg MSE, que segons [aquesta font](https://stackoverflow.com/questions/21443865/scikit-learn-cross-validation-negative-values-with-mean-squared-error) sembla ser el MSE però en negatiu, \n",
    "calculem el Neg MSE amb cross validation pero comparar-ne el rendiment:\n",
    "\n",
    "MSE Default params ElasticNet Exercici 1: **1.283412**\n",
    "\n",
    "MSE Default params ElasticNet amb CV: **1.357881**\n"
   ]
  },
  {
   "cell_type": "code",
   "execution_count": 17,
   "metadata": {
    "execution": {
     "iopub.execute_input": "2021-12-13T14:43:14.685914Z",
     "iopub.status.busy": "2021-12-13T14:43:14.685290Z",
     "iopub.status.idle": "2021-12-13T14:48:16.053423Z",
     "shell.execute_reply": "2021-12-13T14:48:16.051305Z",
     "shell.execute_reply.started": "2021-12-13T14:43:14.685866Z"
    }
   },
   "outputs": [
    {
     "name": "stdout",
     "output_type": "stream",
     "text": [
      "Best: -1.357881 using {'fit_intercept': True, 'l1_ratio': 0.5, 'normalize': False}\n",
      "-1.357881 (0.052518) with: {'fit_intercept': True, 'l1_ratio': 0.5, 'normalize': False}\n"
     ]
    },
    {
     "data": {
      "text/plain": [
       "{\"GridSearch ElNet_NegMSE{'fit_intercept': True, 'l1_ratio': 0.5, 'normalize': False}\": -1.3578813990409693}"
      ]
     },
     "execution_count": 17,
     "metadata": {},
     "output_type": "execute_result"
    }
   ],
   "source": [
    "param_grid = {}\n",
    "param_grid['l1_ratio'] = [0.5]\n",
    "param_grid['fit_intercept'] = [True]\n",
    "param_grid['normalize'] = [False]\n",
    "\n",
    "grid_search_elnet = GridSearchCV(ElasticNetCV(), param_grid, cv=3, scoring='neg_mean_squared_error', error_score=0)\n",
    "grid_result_elnet = grid_search_elnet.fit(X_train, y_train)\n",
    "\n",
    "# summarize results\n",
    "print(\"Best: %f using %s\" % (grid_result_elnet.best_score_, grid_result_elnet.best_params_))\n",
    "means = grid_result_elnet.cv_results_['mean_test_score']\n",
    "stds = grid_result_elnet.cv_results_['std_test_score']\n",
    "params = grid_result_elnet.cv_results_['params']\n",
    "for mean, stdev, param in zip(means, stds, params):\n",
    "    print(\"%f (%f) with: %r\" % (mean, stdev, param))\n",
    "\n",
    "NegMSE = {}    \n",
    "NegMSE['GridSearch ElNet_NegMSE'+ str(grid_result_elnet.best_params_)] = grid_result_elnet.best_score_\n",
    "NegMSE"
   ]
  },
  {
   "cell_type": "markdown",
   "metadata": {},
   "source": [
    "## Exercici 5. Realitza algun procés d’enginyeria de variables per millorar-ne la predicció"
   ]
  },
  {
   "cell_type": "markdown",
   "metadata": {},
   "source": [
    "Com que els models de regressió lineal només accepten valors numèrics, mitjançant columnes dummy podem transformar les columnes objecte en columnes numèriques. Per fer-ho analitzem el valor que aporta cadascuna de les columnes numèriques:\n",
    "\n",
    "- Cancellation code només té un valor, pel que no aporta valor al model i no cal incloure'l. \n",
    "\n",
    "- Com que UniqueCarrier només te 20 valors differents podem crear columnes dummy per convertir la columna d'objecte a integer. \n",
    "\n",
    "- Tailnum, Origin i Dest tenen tants valors no numèrics diferents que no els anem a utilitzar per a la predicció."
   ]
  },
  {
   "cell_type": "code",
   "execution_count": 18,
   "metadata": {
    "execution": {
     "iopub.execute_input": "2021-12-13T14:48:16.064470Z",
     "iopub.status.busy": "2021-12-13T14:48:16.063863Z",
     "iopub.status.idle": "2021-12-13T14:48:16.272623Z",
     "shell.execute_reply": "2021-12-13T14:48:16.271133Z",
     "shell.execute_reply.started": "2021-12-13T14:48:16.064405Z"
    }
   },
   "outputs": [
    {
     "data": {
      "text/plain": [
       "1"
      ]
     },
     "execution_count": 18,
     "metadata": {},
     "output_type": "execute_result"
    }
   ],
   "source": [
    "df.CancellationCode.nunique()"
   ]
  },
  {
   "cell_type": "code",
   "execution_count": 19,
   "metadata": {
    "execution": {
     "iopub.execute_input": "2021-12-13T14:48:16.277950Z",
     "iopub.status.busy": "2021-12-13T14:48:16.277353Z",
     "iopub.status.idle": "2021-12-13T14:48:16.513905Z",
     "shell.execute_reply": "2021-12-13T14:48:16.509979Z",
     "shell.execute_reply.started": "2021-12-13T14:48:16.277907Z"
    }
   },
   "outputs": [
    {
     "data": {
      "text/plain": [
       "20"
      ]
     },
     "execution_count": 19,
     "metadata": {},
     "output_type": "execute_result"
    }
   ],
   "source": [
    "df.UniqueCarrier.nunique()"
   ]
  },
  {
   "cell_type": "code",
   "execution_count": 20,
   "metadata": {
    "execution": {
     "iopub.execute_input": "2021-12-13T14:48:16.530633Z",
     "iopub.status.busy": "2021-12-13T14:48:16.530125Z",
     "iopub.status.idle": "2021-12-13T14:48:16.808822Z",
     "shell.execute_reply": "2021-12-13T14:48:16.807007Z",
     "shell.execute_reply.started": "2021-12-13T14:48:16.530595Z"
    }
   },
   "outputs": [
    {
     "data": {
      "text/plain": [
       "5349"
      ]
     },
     "execution_count": 20,
     "metadata": {},
     "output_type": "execute_result"
    }
   ],
   "source": [
    "df.TailNum.nunique()"
   ]
  },
  {
   "cell_type": "markdown",
   "metadata": {},
   "source": [
    "#### Dummies"
   ]
  },
  {
   "cell_type": "code",
   "execution_count": 21,
   "metadata": {
    "execution": {
     "iopub.execute_input": "2021-12-13T14:48:16.812182Z",
     "iopub.status.busy": "2021-12-13T14:48:16.810774Z",
     "iopub.status.idle": "2021-12-13T14:48:17.050517Z",
     "shell.execute_reply": "2021-12-13T14:48:17.049418Z",
     "shell.execute_reply.started": "2021-12-13T14:48:16.812118Z"
    }
   },
   "outputs": [],
   "source": [
    "df_dum = pd.get_dummies(df['UniqueCarrier'], drop_first=True)"
   ]
  },
  {
   "cell_type": "code",
   "execution_count": 22,
   "metadata": {
    "execution": {
     "iopub.execute_input": "2021-12-13T14:48:17.058405Z",
     "iopub.status.busy": "2021-12-13T14:48:17.053797Z",
     "iopub.status.idle": "2021-12-13T14:48:19.044244Z",
     "shell.execute_reply": "2021-12-13T14:48:19.042579Z",
     "shell.execute_reply.started": "2021-12-13T14:48:17.058139Z"
    }
   },
   "outputs": [
    {
     "data": {
      "text/html": [
       "<div>\n",
       "<style scoped>\n",
       "    .dataframe tbody tr th:only-of-type {\n",
       "        vertical-align: middle;\n",
       "    }\n",
       "\n",
       "    .dataframe tbody tr th {\n",
       "        vertical-align: top;\n",
       "    }\n",
       "\n",
       "    .dataframe thead th {\n",
       "        text-align: right;\n",
       "    }\n",
       "</style>\n",
       "<table border=\"1\" class=\"dataframe\">\n",
       "  <thead>\n",
       "    <tr style=\"text-align: right;\">\n",
       "      <th></th>\n",
       "      <th>Year</th>\n",
       "      <th>Month</th>\n",
       "      <th>DayofMonth</th>\n",
       "      <th>DayOfWeek</th>\n",
       "      <th>DepTime</th>\n",
       "      <th>CRSDepTime</th>\n",
       "      <th>ArrTime</th>\n",
       "      <th>CRSArrTime</th>\n",
       "      <th>UniqueCarrier</th>\n",
       "      <th>FlightNum</th>\n",
       "      <th>TailNum</th>\n",
       "      <th>ActualElapsedTime</th>\n",
       "      <th>CRSElapsedTime</th>\n",
       "      <th>AirTime</th>\n",
       "      <th>ArrDelay</th>\n",
       "      <th>DepDelay</th>\n",
       "      <th>Origin</th>\n",
       "      <th>Dest</th>\n",
       "      <th>Distance</th>\n",
       "      <th>TaxiIn</th>\n",
       "      <th>TaxiOut</th>\n",
       "      <th>Cancelled</th>\n",
       "      <th>CancellationCode</th>\n",
       "      <th>Diverted</th>\n",
       "      <th>CarrierDelay</th>\n",
       "      <th>WeatherDelay</th>\n",
       "      <th>NASDelay</th>\n",
       "      <th>SecurityDelay</th>\n",
       "      <th>LateAircraftDelay</th>\n",
       "      <th>AA</th>\n",
       "      <th>AQ</th>\n",
       "      <th>AS</th>\n",
       "      <th>B6</th>\n",
       "      <th>CO</th>\n",
       "      <th>DL</th>\n",
       "      <th>EV</th>\n",
       "      <th>F9</th>\n",
       "      <th>FL</th>\n",
       "      <th>HA</th>\n",
       "      <th>MQ</th>\n",
       "      <th>NW</th>\n",
       "      <th>OH</th>\n",
       "      <th>OO</th>\n",
       "      <th>UA</th>\n",
       "      <th>US</th>\n",
       "      <th>WN</th>\n",
       "      <th>XE</th>\n",
       "      <th>YV</th>\n",
       "    </tr>\n",
       "    <tr>\n",
       "      <th>Unnamed: 0</th>\n",
       "      <th></th>\n",
       "      <th></th>\n",
       "      <th></th>\n",
       "      <th></th>\n",
       "      <th></th>\n",
       "      <th></th>\n",
       "      <th></th>\n",
       "      <th></th>\n",
       "      <th></th>\n",
       "      <th></th>\n",
       "      <th></th>\n",
       "      <th></th>\n",
       "      <th></th>\n",
       "      <th></th>\n",
       "      <th></th>\n",
       "      <th></th>\n",
       "      <th></th>\n",
       "      <th></th>\n",
       "      <th></th>\n",
       "      <th></th>\n",
       "      <th></th>\n",
       "      <th></th>\n",
       "      <th></th>\n",
       "      <th></th>\n",
       "      <th></th>\n",
       "      <th></th>\n",
       "      <th></th>\n",
       "      <th></th>\n",
       "      <th></th>\n",
       "      <th></th>\n",
       "      <th></th>\n",
       "      <th></th>\n",
       "      <th></th>\n",
       "      <th></th>\n",
       "      <th></th>\n",
       "      <th></th>\n",
       "      <th></th>\n",
       "      <th></th>\n",
       "      <th></th>\n",
       "      <th></th>\n",
       "      <th></th>\n",
       "      <th></th>\n",
       "      <th></th>\n",
       "      <th></th>\n",
       "      <th></th>\n",
       "      <th></th>\n",
       "      <th></th>\n",
       "      <th></th>\n",
       "    </tr>\n",
       "  </thead>\n",
       "  <tbody>\n",
       "    <tr>\n",
       "      <th>4</th>\n",
       "      <td>2008</td>\n",
       "      <td>1</td>\n",
       "      <td>3</td>\n",
       "      <td>4</td>\n",
       "      <td>1829.0</td>\n",
       "      <td>1755</td>\n",
       "      <td>1959.0</td>\n",
       "      <td>1925</td>\n",
       "      <td>WN</td>\n",
       "      <td>3920</td>\n",
       "      <td>N464WN</td>\n",
       "      <td>90.0</td>\n",
       "      <td>90.0</td>\n",
       "      <td>77.0</td>\n",
       "      <td>34.0</td>\n",
       "      <td>34.0</td>\n",
       "      <td>IND</td>\n",
       "      <td>BWI</td>\n",
       "      <td>515</td>\n",
       "      <td>3.0</td>\n",
       "      <td>10.0</td>\n",
       "      <td>0</td>\n",
       "      <td>N</td>\n",
       "      <td>0</td>\n",
       "      <td>2.0</td>\n",
       "      <td>0.0</td>\n",
       "      <td>0.0</td>\n",
       "      <td>0.0</td>\n",
       "      <td>32.0</td>\n",
       "      <td>0</td>\n",
       "      <td>0</td>\n",
       "      <td>0</td>\n",
       "      <td>0</td>\n",
       "      <td>0</td>\n",
       "      <td>0</td>\n",
       "      <td>0</td>\n",
       "      <td>0</td>\n",
       "      <td>0</td>\n",
       "      <td>0</td>\n",
       "      <td>0</td>\n",
       "      <td>0</td>\n",
       "      <td>0</td>\n",
       "      <td>0</td>\n",
       "      <td>0</td>\n",
       "      <td>0</td>\n",
       "      <td>1</td>\n",
       "      <td>0</td>\n",
       "      <td>0</td>\n",
       "    </tr>\n",
       "    <tr>\n",
       "      <th>6</th>\n",
       "      <td>2008</td>\n",
       "      <td>1</td>\n",
       "      <td>3</td>\n",
       "      <td>4</td>\n",
       "      <td>1937.0</td>\n",
       "      <td>1830</td>\n",
       "      <td>2037.0</td>\n",
       "      <td>1940</td>\n",
       "      <td>WN</td>\n",
       "      <td>509</td>\n",
       "      <td>N763SW</td>\n",
       "      <td>240.0</td>\n",
       "      <td>250.0</td>\n",
       "      <td>230.0</td>\n",
       "      <td>57.0</td>\n",
       "      <td>67.0</td>\n",
       "      <td>IND</td>\n",
       "      <td>LAS</td>\n",
       "      <td>1591</td>\n",
       "      <td>3.0</td>\n",
       "      <td>7.0</td>\n",
       "      <td>0</td>\n",
       "      <td>N</td>\n",
       "      <td>0</td>\n",
       "      <td>10.0</td>\n",
       "      <td>0.0</td>\n",
       "      <td>0.0</td>\n",
       "      <td>0.0</td>\n",
       "      <td>47.0</td>\n",
       "      <td>0</td>\n",
       "      <td>0</td>\n",
       "      <td>0</td>\n",
       "      <td>0</td>\n",
       "      <td>0</td>\n",
       "      <td>0</td>\n",
       "      <td>0</td>\n",
       "      <td>0</td>\n",
       "      <td>0</td>\n",
       "      <td>0</td>\n",
       "      <td>0</td>\n",
       "      <td>0</td>\n",
       "      <td>0</td>\n",
       "      <td>0</td>\n",
       "      <td>0</td>\n",
       "      <td>0</td>\n",
       "      <td>1</td>\n",
       "      <td>0</td>\n",
       "      <td>0</td>\n",
       "    </tr>\n",
       "    <tr>\n",
       "      <th>11</th>\n",
       "      <td>2008</td>\n",
       "      <td>1</td>\n",
       "      <td>3</td>\n",
       "      <td>4</td>\n",
       "      <td>1644.0</td>\n",
       "      <td>1510</td>\n",
       "      <td>1845.0</td>\n",
       "      <td>1725</td>\n",
       "      <td>WN</td>\n",
       "      <td>1333</td>\n",
       "      <td>N334SW</td>\n",
       "      <td>121.0</td>\n",
       "      <td>135.0</td>\n",
       "      <td>107.0</td>\n",
       "      <td>80.0</td>\n",
       "      <td>94.0</td>\n",
       "      <td>IND</td>\n",
       "      <td>MCO</td>\n",
       "      <td>828</td>\n",
       "      <td>6.0</td>\n",
       "      <td>8.0</td>\n",
       "      <td>0</td>\n",
       "      <td>N</td>\n",
       "      <td>0</td>\n",
       "      <td>8.0</td>\n",
       "      <td>0.0</td>\n",
       "      <td>0.0</td>\n",
       "      <td>0.0</td>\n",
       "      <td>72.0</td>\n",
       "      <td>0</td>\n",
       "      <td>0</td>\n",
       "      <td>0</td>\n",
       "      <td>0</td>\n",
       "      <td>0</td>\n",
       "      <td>0</td>\n",
       "      <td>0</td>\n",
       "      <td>0</td>\n",
       "      <td>0</td>\n",
       "      <td>0</td>\n",
       "      <td>0</td>\n",
       "      <td>0</td>\n",
       "      <td>0</td>\n",
       "      <td>0</td>\n",
       "      <td>0</td>\n",
       "      <td>0</td>\n",
       "      <td>1</td>\n",
       "      <td>0</td>\n",
       "      <td>0</td>\n",
       "    </tr>\n",
       "    <tr>\n",
       "      <th>16</th>\n",
       "      <td>2008</td>\n",
       "      <td>1</td>\n",
       "      <td>3</td>\n",
       "      <td>4</td>\n",
       "      <td>1452.0</td>\n",
       "      <td>1425</td>\n",
       "      <td>1640.0</td>\n",
       "      <td>1625</td>\n",
       "      <td>WN</td>\n",
       "      <td>675</td>\n",
       "      <td>N286WN</td>\n",
       "      <td>228.0</td>\n",
       "      <td>240.0</td>\n",
       "      <td>213.0</td>\n",
       "      <td>15.0</td>\n",
       "      <td>27.0</td>\n",
       "      <td>IND</td>\n",
       "      <td>PHX</td>\n",
       "      <td>1489</td>\n",
       "      <td>7.0</td>\n",
       "      <td>8.0</td>\n",
       "      <td>0</td>\n",
       "      <td>N</td>\n",
       "      <td>0</td>\n",
       "      <td>3.0</td>\n",
       "      <td>0.0</td>\n",
       "      <td>0.0</td>\n",
       "      <td>0.0</td>\n",
       "      <td>12.0</td>\n",
       "      <td>0</td>\n",
       "      <td>0</td>\n",
       "      <td>0</td>\n",
       "      <td>0</td>\n",
       "      <td>0</td>\n",
       "      <td>0</td>\n",
       "      <td>0</td>\n",
       "      <td>0</td>\n",
       "      <td>0</td>\n",
       "      <td>0</td>\n",
       "      <td>0</td>\n",
       "      <td>0</td>\n",
       "      <td>0</td>\n",
       "      <td>0</td>\n",
       "      <td>0</td>\n",
       "      <td>0</td>\n",
       "      <td>1</td>\n",
       "      <td>0</td>\n",
       "      <td>0</td>\n",
       "    </tr>\n",
       "    <tr>\n",
       "      <th>18</th>\n",
       "      <td>2008</td>\n",
       "      <td>1</td>\n",
       "      <td>3</td>\n",
       "      <td>4</td>\n",
       "      <td>1323.0</td>\n",
       "      <td>1255</td>\n",
       "      <td>1526.0</td>\n",
       "      <td>1510</td>\n",
       "      <td>WN</td>\n",
       "      <td>4</td>\n",
       "      <td>N674AA</td>\n",
       "      <td>123.0</td>\n",
       "      <td>135.0</td>\n",
       "      <td>110.0</td>\n",
       "      <td>16.0</td>\n",
       "      <td>28.0</td>\n",
       "      <td>IND</td>\n",
       "      <td>TPA</td>\n",
       "      <td>838</td>\n",
       "      <td>4.0</td>\n",
       "      <td>9.0</td>\n",
       "      <td>0</td>\n",
       "      <td>N</td>\n",
       "      <td>0</td>\n",
       "      <td>0.0</td>\n",
       "      <td>0.0</td>\n",
       "      <td>0.0</td>\n",
       "      <td>0.0</td>\n",
       "      <td>16.0</td>\n",
       "      <td>0</td>\n",
       "      <td>0</td>\n",
       "      <td>0</td>\n",
       "      <td>0</td>\n",
       "      <td>0</td>\n",
       "      <td>0</td>\n",
       "      <td>0</td>\n",
       "      <td>0</td>\n",
       "      <td>0</td>\n",
       "      <td>0</td>\n",
       "      <td>0</td>\n",
       "      <td>0</td>\n",
       "      <td>0</td>\n",
       "      <td>0</td>\n",
       "      <td>0</td>\n",
       "      <td>0</td>\n",
       "      <td>1</td>\n",
       "      <td>0</td>\n",
       "      <td>0</td>\n",
       "    </tr>\n",
       "  </tbody>\n",
       "</table>\n",
       "</div>"
      ],
      "text/plain": [
       "            Year  Month  DayofMonth  DayOfWeek  DepTime  CRSDepTime  ArrTime  \\\n",
       "Unnamed: 0                                                                     \n",
       "4           2008      1           3          4   1829.0        1755   1959.0   \n",
       "6           2008      1           3          4   1937.0        1830   2037.0   \n",
       "11          2008      1           3          4   1644.0        1510   1845.0   \n",
       "16          2008      1           3          4   1452.0        1425   1640.0   \n",
       "18          2008      1           3          4   1323.0        1255   1526.0   \n",
       "\n",
       "            CRSArrTime UniqueCarrier  FlightNum TailNum  ActualElapsedTime  \\\n",
       "Unnamed: 0                                                                   \n",
       "4                 1925            WN       3920  N464WN               90.0   \n",
       "6                 1940            WN        509  N763SW              240.0   \n",
       "11                1725            WN       1333  N334SW              121.0   \n",
       "16                1625            WN        675  N286WN              228.0   \n",
       "18                1510            WN          4  N674AA              123.0   \n",
       "\n",
       "            CRSElapsedTime  AirTime  ArrDelay  DepDelay Origin Dest  Distance  \\\n",
       "Unnamed: 0                                                                      \n",
       "4                     90.0     77.0      34.0      34.0    IND  BWI       515   \n",
       "6                    250.0    230.0      57.0      67.0    IND  LAS      1591   \n",
       "11                   135.0    107.0      80.0      94.0    IND  MCO       828   \n",
       "16                   240.0    213.0      15.0      27.0    IND  PHX      1489   \n",
       "18                   135.0    110.0      16.0      28.0    IND  TPA       838   \n",
       "\n",
       "            TaxiIn  TaxiOut  Cancelled CancellationCode  Diverted  \\\n",
       "Unnamed: 0                                                          \n",
       "4              3.0     10.0          0                N         0   \n",
       "6              3.0      7.0          0                N         0   \n",
       "11             6.0      8.0          0                N         0   \n",
       "16             7.0      8.0          0                N         0   \n",
       "18             4.0      9.0          0                N         0   \n",
       "\n",
       "            CarrierDelay  WeatherDelay  NASDelay  SecurityDelay  \\\n",
       "Unnamed: 0                                                        \n",
       "4                    2.0           0.0       0.0            0.0   \n",
       "6                   10.0           0.0       0.0            0.0   \n",
       "11                   8.0           0.0       0.0            0.0   \n",
       "16                   3.0           0.0       0.0            0.0   \n",
       "18                   0.0           0.0       0.0            0.0   \n",
       "\n",
       "            LateAircraftDelay  AA  AQ  AS  B6  CO  DL  EV  F9  FL  HA  MQ  NW  \\\n",
       "Unnamed: 0                                                                      \n",
       "4                        32.0   0   0   0   0   0   0   0   0   0   0   0   0   \n",
       "6                        47.0   0   0   0   0   0   0   0   0   0   0   0   0   \n",
       "11                       72.0   0   0   0   0   0   0   0   0   0   0   0   0   \n",
       "16                       12.0   0   0   0   0   0   0   0   0   0   0   0   0   \n",
       "18                       16.0   0   0   0   0   0   0   0   0   0   0   0   0   \n",
       "\n",
       "            OH  OO  UA  US  WN  XE  YV  \n",
       "Unnamed: 0                              \n",
       "4            0   0   0   0   1   0   0  \n",
       "6            0   0   0   0   1   0   0  \n",
       "11           0   0   0   0   1   0   0  \n",
       "16           0   0   0   0   1   0   0  \n",
       "18           0   0   0   0   1   0   0  "
      ]
     },
     "execution_count": 22,
     "metadata": {},
     "output_type": "execute_result"
    }
   ],
   "source": [
    "df2 = pd.concat([df,df_dum], axis=1)\n",
    "df2.head()"
   ]
  },
  {
   "cell_type": "markdown",
   "metadata": {},
   "source": [
    "#### Split"
   ]
  },
  {
   "cell_type": "code",
   "execution_count": 23,
   "metadata": {
    "execution": {
     "iopub.execute_input": "2021-12-13T14:48:19.094141Z",
     "iopub.status.busy": "2021-12-13T14:48:19.090281Z",
     "iopub.status.idle": "2021-12-13T14:48:24.838525Z",
     "shell.execute_reply": "2021-12-13T14:48:24.834279Z",
     "shell.execute_reply.started": "2021-12-13T14:48:19.094073Z"
    }
   },
   "outputs": [],
   "source": [
    "X_plus = df2[df2.columns[~df2.columns.isin(['CancellationCode','UniqueCarrier','TailNum','Origin','Dest','ArrDelay'])]]\n",
    "\n",
    "y_plus = df2['ArrDelay']\n",
    "\n",
    "X_train_plus, X_test_plus, y_train_plus, y_test_plus = train_test_split(X_plus, y_plus, random_state=0, test_size=0.2) "
   ]
  },
  {
   "cell_type": "markdown",
   "metadata": {},
   "source": [
    "### Model 1 Regressió lineal"
   ]
  },
  {
   "cell_type": "code",
   "execution_count": 24,
   "metadata": {
    "ExecuteTime": {
     "end_time": "2021-11-23T14:44:33.740783Z",
     "start_time": "2021-11-23T14:44:33.695204Z"
    },
    "execution": {
     "iopub.execute_input": "2021-12-13T14:48:24.847461Z",
     "iopub.status.busy": "2021-12-13T14:48:24.846681Z",
     "iopub.status.idle": "2021-12-13T14:48:30.072533Z",
     "shell.execute_reply": "2021-12-13T14:48:30.062406Z",
     "shell.execute_reply.started": "2021-12-13T14:48:24.847373Z"
    }
   },
   "outputs": [],
   "source": [
    "lr_plus = LinearRegression()\n",
    "lr_plus.fit(X_train_plus, y_train_plus)\n",
    "\n",
    "y_hat_lr_plus = lr_plus.predict(X_test_plus)"
   ]
  },
  {
   "cell_type": "markdown",
   "metadata": {},
   "source": [
    "### Model 2 ElasticNet"
   ]
  },
  {
   "cell_type": "code",
   "execution_count": 25,
   "metadata": {
    "execution": {
     "iopub.execute_input": "2021-12-13T14:48:30.091431Z",
     "iopub.status.busy": "2021-12-13T14:48:30.077559Z",
     "iopub.status.idle": "2021-12-13T14:50:51.001711Z",
     "shell.execute_reply": "2021-12-13T14:50:50.996211Z",
     "shell.execute_reply.started": "2021-12-13T14:48:30.091347Z"
    }
   },
   "outputs": [],
   "source": [
    "elnet_plus = ElasticNetCV()\n",
    "elnet_plus.fit(X_train_plus, y_train_plus)\n",
    "\n",
    "y_hat_elnet_plus = elnet_plus.predict(X_test_plus)"
   ]
  },
  {
   "cell_type": "markdown",
   "metadata": {},
   "source": [
    "### Model 3 Decision Tree"
   ]
  },
  {
   "cell_type": "code",
   "execution_count": 26,
   "metadata": {
    "execution": {
     "iopub.execute_input": "2021-12-13T14:50:51.065974Z",
     "iopub.status.busy": "2021-12-13T14:50:51.065071Z",
     "iopub.status.idle": "2021-12-13T14:51:34.132710Z",
     "shell.execute_reply": "2021-12-13T14:51:34.129555Z",
     "shell.execute_reply.started": "2021-12-13T14:50:51.065884Z"
    }
   },
   "outputs": [],
   "source": [
    "clf_plus = tree.DecisionTreeRegressor()\n",
    "clf_plus.fit(X_train_plus, y_train_plus)\n",
    "\n",
    "y_hat_clf_plus = clf_plus.predict(X_test_plus)"
   ]
  },
  {
   "cell_type": "markdown",
   "metadata": {},
   "source": [
    "### Mètriques"
   ]
  },
  {
   "cell_type": "code",
   "execution_count": 33,
   "metadata": {
    "execution": {
     "iopub.execute_input": "2021-12-13T14:55:58.477748Z",
     "iopub.status.busy": "2021-12-13T14:55:58.474694Z",
     "iopub.status.idle": "2021-12-13T14:55:58.588531Z",
     "shell.execute_reply": "2021-12-13T14:55:58.585004Z",
     "shell.execute_reply.started": "2021-12-13T14:55:58.477538Z"
    }
   },
   "outputs": [],
   "source": [
    "# R2\n",
    "r2_2 = {}\n",
    "r2_2['r2_LinearRegressionPlus'] = r2_score(y_test_plus, y_hat_lr_plus)\n",
    "r2_2['r2_ElasticNetPlus'] = r2_score(y_test_plus, y_hat_elnet_plus)\n",
    "r2_2['r2_DecisionTreePlus'] = r2_score(y_test_plus, y_hat_clf_plus)"
   ]
  },
  {
   "cell_type": "code",
   "execution_count": 34,
   "metadata": {
    "execution": {
     "iopub.execute_input": "2021-12-13T14:56:00.247288Z",
     "iopub.status.busy": "2021-12-13T14:56:00.246926Z",
     "iopub.status.idle": "2021-12-13T14:56:00.273236Z",
     "shell.execute_reply": "2021-12-13T14:56:00.269640Z",
     "shell.execute_reply.started": "2021-12-13T14:56:00.247242Z"
    }
   },
   "outputs": [],
   "source": [
    "# MSE\n",
    "mse_2 = {}\n",
    "mse_2['mse_LinearRegressionPlus'] = mean_squared_error(y_test_plus, y_hat_lr_plus)\n",
    "mse_2['mse_ElasticNetPlus'] = mean_squared_error(y_test_plus, y_hat_elnet_plus)\n",
    "mse_2['mse_DecisionTreePlus'] = mean_squared_error(y_test_plus, y_hat_clf_plus)"
   ]
  },
  {
   "cell_type": "markdown",
   "metadata": {},
   "source": [
    "#### Amb aquestes dades i les dels exercics anteriors podem veure si realmente hem millorat la predició afegint la columna UniqueCarrier\n",
    "\n",
    "Pel que fa a l'R2, afegir més variables al model no suposa cap tipus de millora en cap dels 3 models. A més, pel que fa a l'MSE, excepte en el cas de l'ElasticNet, que es queda igual, en la resta de models l'MSE ha augmentat lleugerament. Per tant, podem afirmar, que incloure més variables en un model no significa que el model pugui predir millor. "
   ]
  },
  {
   "cell_type": "code",
   "execution_count": 46,
   "metadata": {
    "execution": {
     "iopub.execute_input": "2021-12-13T15:00:49.100769Z",
     "iopub.status.busy": "2021-12-13T15:00:49.100214Z",
     "iopub.status.idle": "2021-12-13T15:00:49.122639Z",
     "shell.execute_reply": "2021-12-13T15:00:49.121493Z",
     "shell.execute_reply.started": "2021-12-13T15:00:49.100677Z"
    }
   },
   "outputs": [
    {
     "data": {
      "text/plain": [
       "{'r2_LinearRegression': 1.0,\n",
       " 'r2_ElasticNet': 0.9996474010990963,\n",
       " 'r2_DecisionTree': 0.9959699375206533}"
      ]
     },
     "metadata": {},
     "output_type": "display_data"
    },
    {
     "data": {
      "text/plain": [
       "{'r2_LinearRegressionPlus': 1.0,\n",
       " 'r2_ElasticNetPlus': 0.9996474010990963,\n",
       " 'r2_DecisionTreePlus': 0.996055181100377}"
      ]
     },
     "metadata": {},
     "output_type": "display_data"
    }
   ],
   "source": [
    "display(r2_1)\n",
    "display(r2_2)"
   ]
  },
  {
   "cell_type": "code",
   "execution_count": 47,
   "metadata": {
    "execution": {
     "iopub.execute_input": "2021-12-13T15:01:32.349069Z",
     "iopub.status.busy": "2021-12-13T15:01:32.348683Z",
     "iopub.status.idle": "2021-12-13T15:01:32.362318Z",
     "shell.execute_reply": "2021-12-13T15:01:32.360751Z",
     "shell.execute_reply.started": "2021-12-13T15:01:32.349030Z"
    }
   },
   "outputs": [
    {
     "data": {
      "text/plain": [
       "{'mse_LinearRegression': 1.7948154788866446e-25,\n",
       " 'mse_ElasticNet': 1.2834120259717667,\n",
       " 'mse_DecisionTree': 14.668879109251376}"
      ]
     },
     "metadata": {},
     "output_type": "display_data"
    },
    {
     "data": {
      "text/plain": [
       "{'mse_LinearRegressionPlus': 5.687343899902766e-25,\n",
       " 'mse_ElasticNetPlus': 1.2834120259717667,\n",
       " 'mse_DecisionTreePlus': 14.35860407698659}"
      ]
     },
     "metadata": {},
     "output_type": "display_data"
    }
   ],
   "source": [
    "display(mse_1)\n",
    "display(mse_2)"
   ]
  },
  {
   "cell_type": "markdown",
   "metadata": {},
   "source": [
    "## Exercici 6. No utilitzis la variable DepDelay a l’hora de fer prediccions"
   ]
  },
  {
   "cell_type": "markdown",
   "metadata": {},
   "source": [
    "Com que hi ha una correlació molt elevanda (0.95) entre DepDelay i ArrDelay, els models es basen en DepDelay per fer la predicció d'ArrDelay. Si eliminem DepDelay del model, l'R2 i MSE dels models canviaran: \n",
    "\n",
    "- Pel que fa a l'R2: el model de regressió lineal genera el mateix resultat màxim d'1.0, l'ElasticNet té un resultat lleugèrament inferior (0.99965 vs 0.99898) i l'arbre de decisión, lleugerament superior (0.99597 vs 0.99690) quan no utilitzem la variable DepDelay.\n",
    "\n",
    "- Pel que fa a l'MSE: aquest augmenta lleugerament en el cas de la regressió lineal (1.795e-25 vs 2.957e-25) i de l'ElasticNet (1.28 vs 3.73), però disminueix en l'arbre de decisió (14.67 vs 11.25). \n"
   ]
  },
  {
   "cell_type": "code",
   "execution_count": 51,
   "metadata": {
    "execution": {
     "iopub.execute_input": "2021-12-13T15:30:45.980524Z",
     "iopub.status.busy": "2021-12-13T15:30:45.980051Z",
     "iopub.status.idle": "2021-12-13T15:30:48.699652Z",
     "shell.execute_reply": "2021-12-13T15:30:48.694683Z",
     "shell.execute_reply.started": "2021-12-13T15:30:45.980472Z"
    }
   },
   "outputs": [
    {
     "data": {
      "text/plain": [
       "0.9503232811843663"
      ]
     },
     "execution_count": 51,
     "metadata": {},
     "output_type": "execute_result"
    }
   ],
   "source": [
    "# Correlació entre DepDelay i ArrDelay\n",
    "df.corr()['DepDelay']['ArrDelay']"
   ]
  },
  {
   "cell_type": "markdown",
   "metadata": {},
   "source": [
    "#### Split"
   ]
  },
  {
   "cell_type": "code",
   "execution_count": 55,
   "metadata": {
    "execution": {
     "iopub.execute_input": "2021-12-13T15:34:01.625937Z",
     "iopub.status.busy": "2021-12-13T15:34:01.625203Z",
     "iopub.status.idle": "2021-12-13T15:34:04.210452Z",
     "shell.execute_reply": "2021-12-13T15:34:04.208134Z",
     "shell.execute_reply.started": "2021-12-13T15:34:01.625890Z"
    }
   },
   "outputs": [],
   "source": [
    "X_3 = df2[df2.columns[~df2.columns.isin(['CancellationCode','UniqueCarrier','TailNum','Origin','Dest','ArrDelay','DepDelay'])]]\n",
    "\n",
    "y_3 = df2['ArrDelay']\n",
    "\n",
    "X_train_3, X_test_3, y_train_3, y_test_3 = train_test_split(X_3, y_3, random_state=0, test_size=0.2) "
   ]
  },
  {
   "cell_type": "markdown",
   "metadata": {},
   "source": [
    "#### Model 1 Regressió lineal"
   ]
  },
  {
   "cell_type": "code",
   "execution_count": 57,
   "metadata": {
    "ExecuteTime": {
     "end_time": "2021-11-23T14:44:33.740783Z",
     "start_time": "2021-11-23T14:44:33.695204Z"
    },
    "execution": {
     "iopub.execute_input": "2021-12-13T15:34:21.439969Z",
     "iopub.status.busy": "2021-12-13T15:34:21.438446Z",
     "iopub.status.idle": "2021-12-13T15:34:25.969585Z",
     "shell.execute_reply": "2021-12-13T15:34:25.968037Z",
     "shell.execute_reply.started": "2021-12-13T15:34:21.439898Z"
    }
   },
   "outputs": [],
   "source": [
    "lr_3 = LinearRegression()\n",
    "lr_3.fit(X_train, y_train)\n",
    "\n",
    "y_hat_lr_3 = lr_3.predict(X_test_3)\n",
    "\n",
    "r2_3 = {}\n",
    "r2_3['r2_LinearRegression_3'] = r2_score(y_test_3, y_hat_lr_3)\n",
    "\n",
    "mse_3 = {}\n",
    "mse_3['mse_LinearRegression_3'] = mean_squared_error(y_test_3, y_hat_lr_3)"
   ]
  },
  {
   "cell_type": "markdown",
   "metadata": {},
   "source": [
    "#### Model 2 ElasticNet"
   ]
  },
  {
   "cell_type": "code",
   "execution_count": 58,
   "metadata": {
    "execution": {
     "iopub.execute_input": "2021-12-13T15:34:36.188644Z",
     "iopub.status.busy": "2021-12-13T15:34:36.188233Z",
     "iopub.status.idle": "2021-12-13T15:35:17.680340Z",
     "shell.execute_reply": "2021-12-13T15:35:17.677185Z",
     "shell.execute_reply.started": "2021-12-13T15:34:36.188590Z"
    }
   },
   "outputs": [],
   "source": [
    "elnet_3 = ElasticNetCV()\n",
    "elnet_3.fit(X_train_3, y_train_3)\n",
    "\n",
    "y_hat_elnet_3 = elnet_3.predict(X_test_3)\n",
    "\n",
    "r2_3['r2_ElasticNet_3'] = r2_score(y_test_3, y_hat_elnet_3)\n",
    "mse_3['mse_ElasticNet_3'] = mean_squared_error(y_test_3, y_hat_elnet_3)\n"
   ]
  },
  {
   "cell_type": "markdown",
   "metadata": {},
   "source": [
    "#### Model 3 Decision Tree"
   ]
  },
  {
   "cell_type": "code",
   "execution_count": 59,
   "metadata": {
    "execution": {
     "iopub.execute_input": "2021-12-13T15:35:17.694765Z",
     "iopub.status.busy": "2021-12-13T15:35:17.687254Z",
     "iopub.status.idle": "2021-12-13T15:36:10.107939Z",
     "shell.execute_reply": "2021-12-13T15:36:10.106337Z",
     "shell.execute_reply.started": "2021-12-13T15:35:17.694665Z"
    }
   },
   "outputs": [],
   "source": [
    "clf_3 = tree.DecisionTreeRegressor()\n",
    "clf_3.fit(X_train_3, y_train_3)\n",
    "\n",
    "y_hat_clf_3 = clf_3.predict(X_test_3)\n",
    "\n",
    "r2_3['r2_DecisionTree_3'] = r2_score(y_test_3, y_hat_clf_3)\n",
    "mse_3['mse_DecisionTree_3'] = mean_squared_error(y_test_3, y_hat_clf_3)"
   ]
  },
  {
   "cell_type": "markdown",
   "metadata": {},
   "source": [
    "#### Mètriques"
   ]
  },
  {
   "cell_type": "code",
   "execution_count": 62,
   "metadata": {
    "execution": {
     "iopub.execute_input": "2021-12-13T15:37:12.758316Z",
     "iopub.status.busy": "2021-12-13T15:37:12.757980Z",
     "iopub.status.idle": "2021-12-13T15:37:12.803141Z",
     "shell.execute_reply": "2021-12-13T15:37:12.800814Z",
     "shell.execute_reply.started": "2021-12-13T15:37:12.758283Z"
    }
   },
   "outputs": [
    {
     "data": {
      "text/plain": [
       "'R2 amb DepDelay: '"
      ]
     },
     "metadata": {},
     "output_type": "display_data"
    },
    {
     "data": {
      "text/plain": [
       "{'r2_LinearRegression': 1.0,\n",
       " 'r2_ElasticNet': 0.9996474010990963,\n",
       " 'r2_DecisionTree': 0.9959699375206533}"
      ]
     },
     "metadata": {},
     "output_type": "display_data"
    },
    {
     "data": {
      "text/plain": [
       "'R2 sense DepDelay: '"
      ]
     },
     "metadata": {},
     "output_type": "display_data"
    },
    {
     "data": {
      "text/plain": [
       "{'r2_LinearRegression_3': 1.0,\n",
       " 'r2_ElasticNet_3': 0.998976306335247,\n",
       " 'r2_DecisionTree_3': 0.99690827428613}"
      ]
     },
     "metadata": {},
     "output_type": "display_data"
    },
    {
     "data": {
      "text/plain": [
       "'MSE amb DepDelay: '"
      ]
     },
     "metadata": {},
     "output_type": "display_data"
    },
    {
     "data": {
      "text/plain": [
       "{'mse_LinearRegression': 1.7948154788866446e-25,\n",
       " 'mse_ElasticNet': 1.2834120259717667,\n",
       " 'mse_DecisionTree': 14.668879109251376}"
      ]
     },
     "metadata": {},
     "output_type": "display_data"
    },
    {
     "data": {
      "text/plain": [
       "'MSE sense DepDelay: '"
      ]
     },
     "metadata": {},
     "output_type": "display_data"
    },
    {
     "data": {
      "text/plain": [
       "{'mse_LinearRegression_3': 2.956598523806986e-25,\n",
       " 'mse_ElasticNet_3': 3.7261056596826387,\n",
       " 'mse_DecisionTree_3': 11.25346094958677}"
      ]
     },
     "metadata": {},
     "output_type": "display_data"
    }
   ],
   "source": [
    "# R2 primer vs segon model\n",
    "display('R2 amb DepDelay: ', r2_1)\n",
    "display('R2 sense DepDelay: ', r2_3)\n",
    "\n",
    "# MSE primer vs segon model\n",
    "display('MSE amb DepDelay: ',mse_1)\n",
    "display('MSE sense DepDelay: ',mse_3)"
   ]
  }
 ],
 "metadata": {
  "kernelspec": {
   "display_name": "Python 3",
   "language": "python",
   "name": "python3"
  },
  "language_info": {
   "codemirror_mode": {
    "name": "ipython",
    "version": 3
   },
   "file_extension": ".py",
   "mimetype": "text/x-python",
   "name": "python",
   "nbconvert_exporter": "python",
   "pygments_lexer": "ipython3",
   "version": "3.8.5"
  },
  "toc": {
   "base_numbering": 1,
   "nav_menu": {},
   "number_sections": true,
   "sideBar": true,
   "skip_h1_title": false,
   "title_cell": "Table of Contents",
   "title_sidebar": "Contents",
   "toc_cell": true,
   "toc_position": {},
   "toc_section_display": true,
   "toc_window_display": false
  },
  "varInspector": {
   "cols": {
    "lenName": 16,
    "lenType": 16,
    "lenVar": 40
   },
   "kernels_config": {
    "python": {
     "delete_cmd_postfix": "",
     "delete_cmd_prefix": "del ",
     "library": "var_list.py",
     "varRefreshCmd": "print(var_dic_list())"
    },
    "r": {
     "delete_cmd_postfix": ") ",
     "delete_cmd_prefix": "rm(",
     "library": "var_list.r",
     "varRefreshCmd": "cat(var_dic_list()) "
    }
   },
   "types_to_exclude": [
    "module",
    "function",
    "builtin_function_or_method",
    "instance",
    "_Feature"
   ],
   "window_display": false
  }
 },
 "nbformat": 4,
 "nbformat_minor": 4
}
