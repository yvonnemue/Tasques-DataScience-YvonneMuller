{
 "cells": [
  {
   "cell_type": "markdown",
   "metadata": {},
   "source": [
    "## Exercici 1\n",
    "\n",
    "Realitza la pràctica del notebook a GitHub \"03 EXAMINING DATA\" amb seaborn i el dataset \"tips\"."
   ]
  },
  {
   "cell_type": "code",
   "execution_count": 1,
   "metadata": {
    "ExecuteTime": {
     "end_time": "2021-08-18T17:27:12.511887Z",
     "start_time": "2021-08-18T17:27:09.207080Z"
    }
   },
   "outputs": [],
   "source": [
    "# importing libraries\n",
    "import numpy as np\n",
    "import pandas as pd\n",
    "import matplotlib.pyplot as plt\n",
    "import seaborn as sns\n",
    "import warnings\n",
    "\n",
    "warnings.filterwarnings('ignore')"
   ]
  },
  {
   "cell_type": "code",
   "execution_count": 2,
   "metadata": {
    "ExecuteTime": {
     "end_time": "2021-08-18T17:27:12.571526Z",
     "start_time": "2021-08-18T17:27:12.517876Z"
    }
   },
   "outputs": [
    {
     "data": {
      "text/html": [
       "<div>\n",
       "<style scoped>\n",
       "    .dataframe tbody tr th:only-of-type {\n",
       "        vertical-align: middle;\n",
       "    }\n",
       "\n",
       "    .dataframe tbody tr th {\n",
       "        vertical-align: top;\n",
       "    }\n",
       "\n",
       "    .dataframe thead th {\n",
       "        text-align: right;\n",
       "    }\n",
       "</style>\n",
       "<table border=\"1\" class=\"dataframe\">\n",
       "  <thead>\n",
       "    <tr style=\"text-align: right;\">\n",
       "      <th></th>\n",
       "      <th>total_bill</th>\n",
       "      <th>tip</th>\n",
       "      <th>sex</th>\n",
       "      <th>smoker</th>\n",
       "      <th>day</th>\n",
       "      <th>time</th>\n",
       "      <th>size</th>\n",
       "    </tr>\n",
       "  </thead>\n",
       "  <tbody>\n",
       "    <tr>\n",
       "      <th>0</th>\n",
       "      <td>16.99</td>\n",
       "      <td>1.01</td>\n",
       "      <td>Female</td>\n",
       "      <td>No</td>\n",
       "      <td>Sun</td>\n",
       "      <td>Dinner</td>\n",
       "      <td>2</td>\n",
       "    </tr>\n",
       "    <tr>\n",
       "      <th>1</th>\n",
       "      <td>10.34</td>\n",
       "      <td>1.66</td>\n",
       "      <td>Male</td>\n",
       "      <td>No</td>\n",
       "      <td>Sun</td>\n",
       "      <td>Dinner</td>\n",
       "      <td>3</td>\n",
       "    </tr>\n",
       "    <tr>\n",
       "      <th>2</th>\n",
       "      <td>21.01</td>\n",
       "      <td>3.50</td>\n",
       "      <td>Male</td>\n",
       "      <td>No</td>\n",
       "      <td>Sun</td>\n",
       "      <td>Dinner</td>\n",
       "      <td>3</td>\n",
       "    </tr>\n",
       "    <tr>\n",
       "      <th>3</th>\n",
       "      <td>23.68</td>\n",
       "      <td>3.31</td>\n",
       "      <td>Male</td>\n",
       "      <td>No</td>\n",
       "      <td>Sun</td>\n",
       "      <td>Dinner</td>\n",
       "      <td>2</td>\n",
       "    </tr>\n",
       "    <tr>\n",
       "      <th>4</th>\n",
       "      <td>24.59</td>\n",
       "      <td>3.61</td>\n",
       "      <td>Female</td>\n",
       "      <td>No</td>\n",
       "      <td>Sun</td>\n",
       "      <td>Dinner</td>\n",
       "      <td>4</td>\n",
       "    </tr>\n",
       "  </tbody>\n",
       "</table>\n",
       "</div>"
      ],
      "text/plain": [
       "   total_bill   tip     sex smoker  day    time  size\n",
       "0       16.99  1.01  Female     No  Sun  Dinner     2\n",
       "1       10.34  1.66    Male     No  Sun  Dinner     3\n",
       "2       21.01  3.50    Male     No  Sun  Dinner     3\n",
       "3       23.68  3.31    Male     No  Sun  Dinner     2\n",
       "4       24.59  3.61  Female     No  Sun  Dinner     4"
      ]
     },
     "execution_count": 2,
     "metadata": {},
     "output_type": "execute_result"
    }
   ],
   "source": [
    "tips = pd.read_csv('Data-Science/Data-sources/tips.csv', sep = ',', encoding = 'utf-8')\n",
    "tips.head()"
   ]
  },
  {
   "cell_type": "code",
   "execution_count": 3,
   "metadata": {
    "ExecuteTime": {
     "end_time": "2021-08-18T17:27:12.589294Z",
     "start_time": "2021-08-18T17:27:12.580166Z"
    }
   },
   "outputs": [
    {
     "data": {
      "text/plain": [
       "(244, 7)"
      ]
     },
     "execution_count": 3,
     "metadata": {},
     "output_type": "execute_result"
    }
   ],
   "source": [
    "tips.shape"
   ]
  },
  {
   "cell_type": "code",
   "execution_count": 4,
   "metadata": {
    "ExecuteTime": {
     "end_time": "2021-08-18T17:27:12.600919Z",
     "start_time": "2021-08-18T17:27:12.594267Z"
    }
   },
   "outputs": [
    {
     "data": {
      "text/plain": [
       "2"
      ]
     },
     "execution_count": 4,
     "metadata": {},
     "output_type": "execute_result"
    }
   ],
   "source": [
    "tips.ndim"
   ]
  },
  {
   "cell_type": "code",
   "execution_count": 5,
   "metadata": {
    "ExecuteTime": {
     "end_time": "2021-08-18T17:27:12.610782Z",
     "start_time": "2021-08-18T17:27:12.604085Z"
    }
   },
   "outputs": [
    {
     "data": {
      "text/plain": [
       "Index(['total_bill', 'tip', 'sex', 'smoker', 'day', 'time', 'size'], dtype='object')"
      ]
     },
     "execution_count": 5,
     "metadata": {},
     "output_type": "execute_result"
    }
   ],
   "source": [
    "tips.columns"
   ]
  },
  {
   "cell_type": "code",
   "execution_count": 6,
   "metadata": {
    "ExecuteTime": {
     "end_time": "2021-08-18T17:27:12.624089Z",
     "start_time": "2021-08-18T17:27:12.613823Z"
    }
   },
   "outputs": [
    {
     "data": {
      "text/plain": [
       "total_bill    float64\n",
       "tip           float64\n",
       "sex            object\n",
       "smoker         object\n",
       "day            object\n",
       "time           object\n",
       "size            int64\n",
       "dtype: object"
      ]
     },
     "execution_count": 6,
     "metadata": {},
     "output_type": "execute_result"
    }
   ],
   "source": [
    "tips.dtypes"
   ]
  },
  {
   "cell_type": "code",
   "execution_count": 7,
   "metadata": {
    "ExecuteTime": {
     "end_time": "2021-08-18T17:27:12.663160Z",
     "start_time": "2021-08-18T17:27:12.627963Z"
    }
   },
   "outputs": [
    {
     "data": {
      "text/html": [
       "<div>\n",
       "<style scoped>\n",
       "    .dataframe tbody tr th:only-of-type {\n",
       "        vertical-align: middle;\n",
       "    }\n",
       "\n",
       "    .dataframe tbody tr th {\n",
       "        vertical-align: top;\n",
       "    }\n",
       "\n",
       "    .dataframe thead th {\n",
       "        text-align: right;\n",
       "    }\n",
       "</style>\n",
       "<table border=\"1\" class=\"dataframe\">\n",
       "  <thead>\n",
       "    <tr style=\"text-align: right;\">\n",
       "      <th></th>\n",
       "      <th>total_bill</th>\n",
       "      <th>tip</th>\n",
       "      <th>sex</th>\n",
       "      <th>smoker</th>\n",
       "      <th>day</th>\n",
       "      <th>time</th>\n",
       "      <th>size</th>\n",
       "      <th>tip_pct</th>\n",
       "    </tr>\n",
       "  </thead>\n",
       "  <tbody>\n",
       "    <tr>\n",
       "      <th>0</th>\n",
       "      <td>16.99</td>\n",
       "      <td>1.01</td>\n",
       "      <td>Female</td>\n",
       "      <td>No</td>\n",
       "      <td>Sun</td>\n",
       "      <td>Dinner</td>\n",
       "      <td>2</td>\n",
       "      <td>6.32</td>\n",
       "    </tr>\n",
       "    <tr>\n",
       "      <th>1</th>\n",
       "      <td>10.34</td>\n",
       "      <td>1.66</td>\n",
       "      <td>Male</td>\n",
       "      <td>No</td>\n",
       "      <td>Sun</td>\n",
       "      <td>Dinner</td>\n",
       "      <td>3</td>\n",
       "      <td>19.12</td>\n",
       "    </tr>\n",
       "    <tr>\n",
       "      <th>2</th>\n",
       "      <td>21.01</td>\n",
       "      <td>3.50</td>\n",
       "      <td>Male</td>\n",
       "      <td>No</td>\n",
       "      <td>Sun</td>\n",
       "      <td>Dinner</td>\n",
       "      <td>3</td>\n",
       "      <td>19.99</td>\n",
       "    </tr>\n",
       "    <tr>\n",
       "      <th>3</th>\n",
       "      <td>23.68</td>\n",
       "      <td>3.31</td>\n",
       "      <td>Male</td>\n",
       "      <td>No</td>\n",
       "      <td>Sun</td>\n",
       "      <td>Dinner</td>\n",
       "      <td>2</td>\n",
       "      <td>16.25</td>\n",
       "    </tr>\n",
       "    <tr>\n",
       "      <th>4</th>\n",
       "      <td>24.59</td>\n",
       "      <td>3.61</td>\n",
       "      <td>Female</td>\n",
       "      <td>No</td>\n",
       "      <td>Sun</td>\n",
       "      <td>Dinner</td>\n",
       "      <td>4</td>\n",
       "      <td>17.21</td>\n",
       "    </tr>\n",
       "  </tbody>\n",
       "</table>\n",
       "</div>"
      ],
      "text/plain": [
       "   total_bill   tip     sex smoker  day    time  size  tip_pct\n",
       "0       16.99  1.01  Female     No  Sun  Dinner     2     6.32\n",
       "1       10.34  1.66    Male     No  Sun  Dinner     3    19.12\n",
       "2       21.01  3.50    Male     No  Sun  Dinner     3    19.99\n",
       "3       23.68  3.31    Male     No  Sun  Dinner     2    16.25\n",
       "4       24.59  3.61  Female     No  Sun  Dinner     4    17.21"
      ]
     },
     "execution_count": 7,
     "metadata": {},
     "output_type": "execute_result"
    }
   ],
   "source": [
    "tips['tip_pct'] = round((tips['tip'] / (tips['total_bill'] - tips['tip']))*100, 2)\n",
    "tips.head()"
   ]
  },
  {
   "cell_type": "code",
   "execution_count": 8,
   "metadata": {
    "ExecuteTime": {
     "end_time": "2021-08-18T17:27:13.124344Z",
     "start_time": "2021-08-18T17:27:12.670379Z"
    }
   },
   "outputs": [
    {
     "data": {
      "image/png": "[encoded data removed]",
      "text/plain": [
       "<Figure size 432x288 with 1 Axes>"
      ]
     },
     "metadata": {
      "needs_background": "light"
     },
     "output_type": "display_data"
    }
   ],
   "source": [
    "sns.barplot(x='tip_pct', y='day', data=tips, orient=\"h\")\n",
    "plt.show()"
   ]
  },
  {
   "cell_type": "code",
   "execution_count": 9,
   "metadata": {
    "ExecuteTime": {
     "end_time": "2021-08-18T17:27:13.612232Z",
     "start_time": "2021-08-18T17:27:13.130433Z"
    }
   },
   "outputs": [
    {
     "data": {
      "image/png": "[encoded data removed]",
      "text/plain": [
       "<Figure size 432x288 with 1 Axes>"
      ]
     },
     "metadata": {
      "needs_background": "light"
     },
     "output_type": "display_data"
    }
   ],
   "source": [
    "sns.barplot(x='tip_pct', y='day', hue='time', data=tips, orient='h')\n",
    "plt.show()\n",
    "sns.set(style=\"darkgrid\")"
   ]
  },
  {
   "cell_type": "code",
   "execution_count": 10,
   "metadata": {
    "ExecuteTime": {
     "end_time": "2021-08-18T17:27:13.648872Z",
     "start_time": "2021-08-18T17:27:13.616164Z"
    }
   },
   "outputs": [
    {
     "data": {
      "text/html": [
       "<div>\n",
       "<style scoped>\n",
       "    .dataframe tbody tr th:only-of-type {\n",
       "        vertical-align: middle;\n",
       "    }\n",
       "\n",
       "    .dataframe tbody tr th {\n",
       "        vertical-align: top;\n",
       "    }\n",
       "\n",
       "    .dataframe thead th {\n",
       "        text-align: right;\n",
       "    }\n",
       "</style>\n",
       "<table border=\"1\" class=\"dataframe\">\n",
       "  <thead>\n",
       "    <tr style=\"text-align: right;\">\n",
       "      <th></th>\n",
       "      <th>total_bill</th>\n",
       "      <th>tip</th>\n",
       "      <th>size</th>\n",
       "      <th>tip_pct</th>\n",
       "    </tr>\n",
       "  </thead>\n",
       "  <tbody>\n",
       "    <tr>\n",
       "      <th>count</th>\n",
       "      <td>244.000000</td>\n",
       "      <td>244.000000</td>\n",
       "      <td>244.000000</td>\n",
       "      <td>244.000000</td>\n",
       "    </tr>\n",
       "    <tr>\n",
       "      <th>mean</th>\n",
       "      <td>19.785943</td>\n",
       "      <td>2.998279</td>\n",
       "      <td>2.569672</td>\n",
       "      <td>20.212418</td>\n",
       "    </tr>\n",
       "    <tr>\n",
       "      <th>std</th>\n",
       "      <td>8.902412</td>\n",
       "      <td>1.383638</td>\n",
       "      <td>0.951100</td>\n",
       "      <td>16.338588</td>\n",
       "    </tr>\n",
       "    <tr>\n",
       "      <th>min</th>\n",
       "      <td>3.070000</td>\n",
       "      <td>1.000000</td>\n",
       "      <td>1.000000</td>\n",
       "      <td>3.700000</td>\n",
       "    </tr>\n",
       "    <tr>\n",
       "      <th>25%</th>\n",
       "      <td>13.347500</td>\n",
       "      <td>2.000000</td>\n",
       "      <td>2.000000</td>\n",
       "      <td>14.830000</td>\n",
       "    </tr>\n",
       "    <tr>\n",
       "      <th>50%</th>\n",
       "      <td>17.795000</td>\n",
       "      <td>2.900000</td>\n",
       "      <td>2.000000</td>\n",
       "      <td>18.310000</td>\n",
       "    </tr>\n",
       "    <tr>\n",
       "      <th>75%</th>\n",
       "      <td>24.127500</td>\n",
       "      <td>3.562500</td>\n",
       "      <td>3.000000</td>\n",
       "      <td>23.682500</td>\n",
       "    </tr>\n",
       "    <tr>\n",
       "      <th>max</th>\n",
       "      <td>50.810000</td>\n",
       "      <td>10.000000</td>\n",
       "      <td>6.000000</td>\n",
       "      <td>245.240000</td>\n",
       "    </tr>\n",
       "  </tbody>\n",
       "</table>\n",
       "</div>"
      ],
      "text/plain": [
       "       total_bill         tip        size     tip_pct\n",
       "count  244.000000  244.000000  244.000000  244.000000\n",
       "mean    19.785943    2.998279    2.569672   20.212418\n",
       "std      8.902412    1.383638    0.951100   16.338588\n",
       "min      3.070000    1.000000    1.000000    3.700000\n",
       "25%     13.347500    2.000000    2.000000   14.830000\n",
       "50%     17.795000    2.900000    2.000000   18.310000\n",
       "75%     24.127500    3.562500    3.000000   23.682500\n",
       "max     50.810000   10.000000    6.000000  245.240000"
      ]
     },
     "execution_count": 10,
     "metadata": {},
     "output_type": "execute_result"
    }
   ],
   "source": [
    "tips.describe()"
   ]
  },
  {
   "cell_type": "code",
   "execution_count": 11,
   "metadata": {
    "ExecuteTime": {
     "end_time": "2021-08-18T17:27:13.725720Z",
     "start_time": "2021-08-18T17:27:13.653088Z"
    }
   },
   "outputs": [
    {
     "data": {
      "text/html": [
       "<div>\n",
       "<style scoped>\n",
       "    .dataframe tbody tr th:only-of-type {\n",
       "        vertical-align: middle;\n",
       "    }\n",
       "\n",
       "    .dataframe tbody tr th {\n",
       "        vertical-align: top;\n",
       "    }\n",
       "\n",
       "    .dataframe thead th {\n",
       "        text-align: right;\n",
       "    }\n",
       "</style>\n",
       "<table border=\"1\" class=\"dataframe\">\n",
       "  <thead>\n",
       "    <tr style=\"text-align: right;\">\n",
       "      <th></th>\n",
       "      <th>total_bill</th>\n",
       "      <th>tip</th>\n",
       "      <th>sex</th>\n",
       "      <th>smoker</th>\n",
       "      <th>day</th>\n",
       "      <th>time</th>\n",
       "      <th>size</th>\n",
       "      <th>tip_pct</th>\n",
       "    </tr>\n",
       "  </thead>\n",
       "  <tbody>\n",
       "    <tr>\n",
       "      <th>count</th>\n",
       "      <td>244.000</td>\n",
       "      <td>244.000</td>\n",
       "      <td>244</td>\n",
       "      <td>244</td>\n",
       "      <td>244</td>\n",
       "      <td>244</td>\n",
       "      <td>244.000</td>\n",
       "      <td>244.000</td>\n",
       "    </tr>\n",
       "    <tr>\n",
       "      <th>unique</th>\n",
       "      <td>NaN</td>\n",
       "      <td>NaN</td>\n",
       "      <td>2</td>\n",
       "      <td>2</td>\n",
       "      <td>4</td>\n",
       "      <td>2</td>\n",
       "      <td>NaN</td>\n",
       "      <td>NaN</td>\n",
       "    </tr>\n",
       "    <tr>\n",
       "      <th>top</th>\n",
       "      <td>NaN</td>\n",
       "      <td>NaN</td>\n",
       "      <td>Male</td>\n",
       "      <td>No</td>\n",
       "      <td>Sat</td>\n",
       "      <td>Dinner</td>\n",
       "      <td>NaN</td>\n",
       "      <td>NaN</td>\n",
       "    </tr>\n",
       "    <tr>\n",
       "      <th>freq</th>\n",
       "      <td>NaN</td>\n",
       "      <td>NaN</td>\n",
       "      <td>157</td>\n",
       "      <td>151</td>\n",
       "      <td>87</td>\n",
       "      <td>176</td>\n",
       "      <td>NaN</td>\n",
       "      <td>NaN</td>\n",
       "    </tr>\n",
       "    <tr>\n",
       "      <th>mean</th>\n",
       "      <td>19.786</td>\n",
       "      <td>2.998</td>\n",
       "      <td>NaN</td>\n",
       "      <td>NaN</td>\n",
       "      <td>NaN</td>\n",
       "      <td>NaN</td>\n",
       "      <td>2.570</td>\n",
       "      <td>20.212</td>\n",
       "    </tr>\n",
       "    <tr>\n",
       "      <th>std</th>\n",
       "      <td>8.902</td>\n",
       "      <td>1.384</td>\n",
       "      <td>NaN</td>\n",
       "      <td>NaN</td>\n",
       "      <td>NaN</td>\n",
       "      <td>NaN</td>\n",
       "      <td>0.951</td>\n",
       "      <td>16.339</td>\n",
       "    </tr>\n",
       "    <tr>\n",
       "      <th>min</th>\n",
       "      <td>3.070</td>\n",
       "      <td>1.000</td>\n",
       "      <td>NaN</td>\n",
       "      <td>NaN</td>\n",
       "      <td>NaN</td>\n",
       "      <td>NaN</td>\n",
       "      <td>1.000</td>\n",
       "      <td>3.700</td>\n",
       "    </tr>\n",
       "    <tr>\n",
       "      <th>25%</th>\n",
       "      <td>13.348</td>\n",
       "      <td>2.000</td>\n",
       "      <td>NaN</td>\n",
       "      <td>NaN</td>\n",
       "      <td>NaN</td>\n",
       "      <td>NaN</td>\n",
       "      <td>2.000</td>\n",
       "      <td>14.830</td>\n",
       "    </tr>\n",
       "    <tr>\n",
       "      <th>50%</th>\n",
       "      <td>17.795</td>\n",
       "      <td>2.900</td>\n",
       "      <td>NaN</td>\n",
       "      <td>NaN</td>\n",
       "      <td>NaN</td>\n",
       "      <td>NaN</td>\n",
       "      <td>2.000</td>\n",
       "      <td>18.310</td>\n",
       "    </tr>\n",
       "    <tr>\n",
       "      <th>75%</th>\n",
       "      <td>24.127</td>\n",
       "      <td>3.562</td>\n",
       "      <td>NaN</td>\n",
       "      <td>NaN</td>\n",
       "      <td>NaN</td>\n",
       "      <td>NaN</td>\n",
       "      <td>3.000</td>\n",
       "      <td>23.682</td>\n",
       "    </tr>\n",
       "    <tr>\n",
       "      <th>max</th>\n",
       "      <td>50.810</td>\n",
       "      <td>10.000</td>\n",
       "      <td>NaN</td>\n",
       "      <td>NaN</td>\n",
       "      <td>NaN</td>\n",
       "      <td>NaN</td>\n",
       "      <td>6.000</td>\n",
       "      <td>245.240</td>\n",
       "    </tr>\n",
       "  </tbody>\n",
       "</table>\n",
       "</div>"
      ],
      "text/plain": [
       "        total_bill      tip   sex smoker  day    time     size  tip_pct\n",
       "count      244.000  244.000   244    244  244     244  244.000  244.000\n",
       "unique         NaN      NaN     2      2    4       2      NaN      NaN\n",
       "top            NaN      NaN  Male     No  Sat  Dinner      NaN      NaN\n",
       "freq           NaN      NaN   157    151   87     176      NaN      NaN\n",
       "mean        19.786    2.998   NaN    NaN  NaN     NaN    2.570   20.212\n",
       "std          8.902    1.384   NaN    NaN  NaN     NaN    0.951   16.339\n",
       "min          3.070    1.000   NaN    NaN  NaN     NaN    1.000    3.700\n",
       "25%         13.348    2.000   NaN    NaN  NaN     NaN    2.000   14.830\n",
       "50%         17.795    2.900   NaN    NaN  NaN     NaN    2.000   18.310\n",
       "75%         24.127    3.562   NaN    NaN  NaN     NaN    3.000   23.682\n",
       "max         50.810   10.000   NaN    NaN  NaN     NaN    6.000  245.240"
      ]
     },
     "execution_count": 11,
     "metadata": {},
     "output_type": "execute_result"
    }
   ],
   "source": [
    "round(tips.describe(include='all'), 3)"
   ]
  },
  {
   "cell_type": "code",
   "execution_count": 12,
   "metadata": {
    "ExecuteTime": {
     "end_time": "2021-08-18T17:27:13.746912Z",
     "start_time": "2021-08-18T17:27:13.733499Z"
    }
   },
   "outputs": [
    {
     "data": {
      "text/plain": [
       "total_bill    0.0\n",
       "tip           0.0\n",
       "sex           0.0\n",
       "smoker        0.0\n",
       "day           0.0\n",
       "time          0.0\n",
       "size          0.0\n",
       "tip_pct       0.0\n",
       "dtype: float64"
      ]
     },
     "execution_count": 12,
     "metadata": {},
     "output_type": "execute_result"
    }
   ],
   "source": [
    "tips.isnull().sum()/len(tips)"
   ]
  },
  {
   "cell_type": "code",
   "execution_count": 13,
   "metadata": {
    "ExecuteTime": {
     "end_time": "2021-08-18T17:27:13.767693Z",
     "start_time": "2021-08-18T17:27:13.752221Z"
    }
   },
   "outputs": [
    {
     "data": {
      "text/plain": [
       "count    244.000\n",
       "mean       2.998\n",
       "std        1.384\n",
       "min        1.000\n",
       "25%        2.000\n",
       "50%        2.900\n",
       "75%        3.562\n",
       "max       10.000\n",
       "Name: tip, dtype: float64"
      ]
     },
     "execution_count": 13,
     "metadata": {},
     "output_type": "execute_result"
    }
   ],
   "source": [
    "round((tips['tip']).describe(), 3)"
   ]
  },
  {
   "cell_type": "code",
   "execution_count": 14,
   "metadata": {
    "ExecuteTime": {
     "end_time": "2021-08-18T17:27:13.798019Z",
     "start_time": "2021-08-18T17:27:13.782782Z"
    }
   },
   "outputs": [
    {
     "data": {
      "text/plain": [
       "2.9"
      ]
     },
     "execution_count": 14,
     "metadata": {},
     "output_type": "execute_result"
    }
   ],
   "source": [
    "round((tips['tip']).median(),3)"
   ]
  },
  {
   "cell_type": "code",
   "execution_count": 15,
   "metadata": {
    "ExecuteTime": {
     "end_time": "2021-08-18T17:27:14.061777Z",
     "start_time": "2021-08-18T17:27:13.803605Z"
    }
   },
   "outputs": [
    {
     "data": {
      "image/png": "[encoded data removed]",
      "text/plain": [
       "<Figure size 432x288 with 1 Axes>"
      ]
     },
     "metadata": {},
     "output_type": "display_data"
    }
   ],
   "source": [
    "sns.set(style=\"whitegrid\")\n",
    "ax = sns.boxplot(x = tips['tip'], color='lightblue', fliersize=5, orient='v', linewidth=1, width=0.3)"
   ]
  },
  {
   "cell_type": "code",
   "execution_count": 16,
   "metadata": {
    "ExecuteTime": {
     "end_time": "2021-08-18T17:27:14.231218Z",
     "start_time": "2021-08-18T17:27:14.065827Z"
    }
   },
   "outputs": [
    {
     "data": {
      "image/png": "[encoded data removed]",
      "text/plain": [
       "<Figure size 432x288 with 1 Axes>"
      ]
     },
     "metadata": {},
     "output_type": "display_data"
    }
   ],
   "source": [
    "ax = sns.boxplot(y=\"tip\", data=tips,  color='lightblue', fliersize=5,  orient='v', linewidth=1 , width=0.3)\n",
    "ax = sns.stripplot(y=tips[\"tip\"], orient='v', color='darkblue', alpha= 0.5)"
   ]
  },
  {
   "cell_type": "markdown",
   "metadata": {
    "ExecuteTime": {
     "end_time": "2021-02-03T11:36:21.844979Z",
     "start_time": "2021-02-03T11:36:21.838998Z"
    }
   },
   "source": [
    "<span style=color:blue><font size=4><b><u>Una Variable</u></b>: 1 Numérica = 'tip_pct'</font></span>"
   ]
  },
  {
   "cell_type": "code",
   "execution_count": 17,
   "metadata": {
    "ExecuteTime": {
     "end_time": "2021-08-18T17:27:14.248563Z",
     "start_time": "2021-08-18T17:27:14.239580Z"
    }
   },
   "outputs": [
    {
     "data": {
      "text/plain": [
       "total_bill    float64\n",
       "tip           float64\n",
       "sex            object\n",
       "smoker         object\n",
       "day            object\n",
       "time           object\n",
       "size            int64\n",
       "tip_pct       float64\n",
       "dtype: object"
      ]
     },
     "execution_count": 17,
     "metadata": {},
     "output_type": "execute_result"
    }
   ],
   "source": [
    "tips.dtypes"
   ]
  },
  {
   "cell_type": "code",
   "execution_count": 18,
   "metadata": {
    "ExecuteTime": {
     "end_time": "2021-08-18T17:27:14.447547Z",
     "start_time": "2021-08-18T17:27:14.253391Z"
    }
   },
   "outputs": [
    {
     "data": {
      "image/png": "[encoded data removed]",
      "text/plain": [
       "<Figure size 432x288 with 1 Axes>"
      ]
     },
     "metadata": {},
     "output_type": "display_data"
    }
   ],
   "source": [
    "sns.boxplot(y=\"tip_pct\", data=tips[tips.tip < 10],  color='lightblue', fliersize=5,  orient='v', linewidth=1 , width=0.3);"
   ]
  },
  {
   "cell_type": "markdown",
   "metadata": {},
   "source": [
    "<span style=color:blue><font size=4><b><u>Dos Variables</u></b>: 1 Categórica = 'day', 1 Numérica = 'tip_pct'</font></span>"
   ]
  },
  {
   "cell_type": "code",
   "execution_count": 19,
   "metadata": {
    "ExecuteTime": {
     "end_time": "2021-08-18T17:27:14.897421Z",
     "start_time": "2021-08-18T17:27:14.454827Z"
    },
    "scrolled": true
   },
   "outputs": [
    {
     "data": {
      "image/png": "[encoded data removed]",
      "text/plain": [
       "<Figure size 360x360 with 1 Axes>"
      ]
     },
     "metadata": {},
     "output_type": "display_data"
    }
   ],
   "source": [
    "## añadimos variable categorica 'day' en x:\n",
    "ax = sns.catplot(x='day', y='tip_pct', kind='box',\n",
    "                 data=tips[tips.tip_pct < 245]);"
   ]
  },
  {
   "cell_type": "code",
   "execution_count": 20,
   "metadata": {
    "ExecuteTime": {
     "end_time": "2021-08-18T17:27:15.330396Z",
     "start_time": "2021-08-18T17:27:14.903328Z"
    }
   },
   "outputs": [
    {
     "data": {
      "image/png": "[encoded data removed]",
      "text/plain": [
       "<Figure size 360x360 with 1 Axes>"
      ]
     },
     "metadata": {},
     "output_type": "display_data"
    }
   ],
   "source": [
    "## añadimos variable categorica 'day' en x:\n",
    "ax = sns.catplot(x='day', y='tip_pct', kind='box',\n",
    "                 data=tips[tips.tip_pct < 245]);\n",
    "\n",
    "ax = sns.stripplot(x='day', y='tip_pct', data=tips[tips.tip_pct < 245], orient='v', color='darkblue', alpha= 0.4);"
   ]
  },
  {
   "cell_type": "markdown",
   "metadata": {},
   "source": [
    "<span style=color:blue><font size=4><b><u>Tres Variables</u></b> : 2 Categóricas = ('day', 'time'), 1 Numérica = 'tip_pct'</font></span>"
   ]
  },
  {
   "cell_type": "code",
   "execution_count": 21,
   "metadata": {
    "ExecuteTime": {
     "end_time": "2021-08-18T17:27:15.693071Z",
     "start_time": "2021-08-18T17:27:15.333770Z"
    }
   },
   "outputs": [
    {
     "data": {
      "image/png": "[encoded data removed]",
      "text/plain": [
       "<Figure size 432x288 with 1 Axes>"
      ]
     },
     "metadata": {},
     "output_type": "display_data"
    }
   ],
   "source": [
    "sns.boxplot(x='day', y='tip_pct', hue='time', \n",
    "               data=tips[tips.tip_pct < 245]);"
   ]
  },
  {
   "cell_type": "code",
   "execution_count": 22,
   "metadata": {
    "ExecuteTime": {
     "end_time": "2021-08-18T17:27:16.274816Z",
     "start_time": "2021-08-18T17:27:15.700798Z"
    },
    "scrolled": true
   },
   "outputs": [
    {
     "data": {
      "image/png": "[encoded data removed]",
      "text/plain": [
       "<Figure size 432x288 with 1 Axes>"
      ]
     },
     "metadata": {},
     "output_type": "display_data"
    }
   ],
   "source": [
    "sns.boxplot(x='day', y='tip_pct', hue = 'time',\n",
    "               data=tips[tips.tip_pct < 245]);\n",
    "ax = sns.stripplot(x='day', y='tip_pct', hue='time', data=tips[tips.tip_pct < 245], orient='v', color='darkblue', alpha= 0.4);"
   ]
  },
  {
   "cell_type": "markdown",
   "metadata": {},
   "source": [
    "### <span style=color:blue>Facet Grids y Categorical DataFrame</span>"
   ]
  },
  {
   "cell_type": "markdown",
   "metadata": {
    "ExecuteTime": {
     "end_time": "2021-02-03T13:24:29.112841Z",
     "start_time": "2021-02-03T13:24:29.106102Z"
    }
   },
   "source": [
    "<span style=color:blue><font size=4><b><u>Cuatro Variables</u></b> : 3 Categoricas = ('day', 'time', 'smoker'), 1 Numérica = 'tip_pct'</font></span>"
   ]
  },
  {
   "cell_type": "code",
   "execution_count": 23,
   "metadata": {
    "ExecuteTime": {
     "end_time": "2021-08-18T17:27:17.355612Z",
     "start_time": "2021-08-18T17:27:16.285956Z"
    }
   },
   "outputs": [
    {
     "data": {
      "image/png": "[encoded data removed]",
      "text/plain": [
       "<Figure size 792.225x360 with 2 Axes>"
      ]
     },
     "metadata": {},
     "output_type": "display_data"
    }
   ],
   "source": [
    "sns.catplot(x='day', y='tip_pct', hue='time', col='smoker',\n",
    "               kind='box', data=tips[tips.tip_pct < 245]);"
   ]
  },
  {
   "cell_type": "markdown",
   "metadata": {},
   "source": [
    "## Exercici 2\n",
    "\n",
    "Repeteix l'exercici 1 amb el dataset que disposem en el repositori de GitHub PRE-PROCESSING-DATA, movies.dat"
   ]
  },
  {
   "cell_type": "code",
   "execution_count": 24,
   "metadata": {
    "ExecuteTime": {
     "end_time": "2021-08-18T17:27:17.456806Z",
     "start_time": "2021-08-18T17:27:17.363959Z"
    }
   },
   "outputs": [
    {
     "data": {
      "text/html": [
       "<div>\n",
       "<style scoped>\n",
       "    .dataframe tbody tr th:only-of-type {\n",
       "        vertical-align: middle;\n",
       "    }\n",
       "\n",
       "    .dataframe tbody tr th {\n",
       "        vertical-align: top;\n",
       "    }\n",
       "\n",
       "    .dataframe thead th {\n",
       "        text-align: right;\n",
       "    }\n",
       "</style>\n",
       "<table border=\"1\" class=\"dataframe\">\n",
       "  <thead>\n",
       "    <tr style=\"text-align: right;\">\n",
       "      <th></th>\n",
       "      <th>movie_id</th>\n",
       "      <th>titulo</th>\n",
       "      <th>genero</th>\n",
       "    </tr>\n",
       "  </thead>\n",
       "  <tbody>\n",
       "    <tr>\n",
       "      <th>0</th>\n",
       "      <td>1</td>\n",
       "      <td>Toy Story (1995)</td>\n",
       "      <td>Animation|Children's|Comedy</td>\n",
       "    </tr>\n",
       "    <tr>\n",
       "      <th>1</th>\n",
       "      <td>2</td>\n",
       "      <td>Jumanji (1995)</td>\n",
       "      <td>Adventure|Children's|Fantasy</td>\n",
       "    </tr>\n",
       "    <tr>\n",
       "      <th>2</th>\n",
       "      <td>3</td>\n",
       "      <td>Grumpier Old Men (1995)</td>\n",
       "      <td>Comedy|Romance</td>\n",
       "    </tr>\n",
       "    <tr>\n",
       "      <th>3</th>\n",
       "      <td>4</td>\n",
       "      <td>Waiting to Exhale (1995)</td>\n",
       "      <td>Comedy|Drama</td>\n",
       "    </tr>\n",
       "    <tr>\n",
       "      <th>4</th>\n",
       "      <td>5</td>\n",
       "      <td>Father of the Bride Part II (1995)</td>\n",
       "      <td>Comedy</td>\n",
       "    </tr>\n",
       "  </tbody>\n",
       "</table>\n",
       "</div>"
      ],
      "text/plain": [
       "   movie_id                              titulo                        genero\n",
       "0         1                    Toy Story (1995)   Animation|Children's|Comedy\n",
       "1         2                      Jumanji (1995)  Adventure|Children's|Fantasy\n",
       "2         3             Grumpier Old Men (1995)                Comedy|Romance\n",
       "3         4            Waiting to Exhale (1995)                  Comedy|Drama\n",
       "4         5  Father of the Bride Part II (1995)                        Comedy"
      ]
     },
     "execution_count": 24,
     "metadata": {},
     "output_type": "execute_result"
    }
   ],
   "source": [
    "movies = pd.read_table('Data-Science/Pre-processing-data/movies.dat', sep = '::', header = None, names=['movie_id', 'titulo', 'genero'])\n",
    "movies.head()"
   ]
  },
  {
   "cell_type": "code",
   "execution_count": 25,
   "metadata": {
    "ExecuteTime": {
     "end_time": "2021-08-18T17:27:17.472047Z",
     "start_time": "2021-08-18T17:27:17.464672Z"
    }
   },
   "outputs": [
    {
     "data": {
      "text/plain": [
       "(3883, 3)"
      ]
     },
     "execution_count": 25,
     "metadata": {},
     "output_type": "execute_result"
    }
   ],
   "source": [
    "movies.shape"
   ]
  },
  {
   "cell_type": "code",
   "execution_count": 26,
   "metadata": {
    "ExecuteTime": {
     "end_time": "2021-08-18T17:27:17.484908Z",
     "start_time": "2021-08-18T17:27:17.477274Z"
    }
   },
   "outputs": [
    {
     "data": {
      "text/plain": [
       "2"
      ]
     },
     "execution_count": 26,
     "metadata": {},
     "output_type": "execute_result"
    }
   ],
   "source": [
    "movies.ndim"
   ]
  },
  {
   "cell_type": "code",
   "execution_count": 27,
   "metadata": {
    "ExecuteTime": {
     "end_time": "2021-08-18T17:27:17.498878Z",
     "start_time": "2021-08-18T17:27:17.488723Z"
    }
   },
   "outputs": [
    {
     "data": {
      "text/plain": [
       "Index(['movie_id', 'titulo', 'genero'], dtype='object')"
      ]
     },
     "execution_count": 27,
     "metadata": {},
     "output_type": "execute_result"
    }
   ],
   "source": [
    "movies.columns"
   ]
  },
  {
   "cell_type": "code",
   "execution_count": 28,
   "metadata": {
    "ExecuteTime": {
     "end_time": "2021-08-18T17:27:17.511669Z",
     "start_time": "2021-08-18T17:27:17.502100Z"
    }
   },
   "outputs": [
    {
     "data": {
      "text/plain": [
       "movie_id     int64\n",
       "titulo      object\n",
       "genero      object\n",
       "dtype: object"
      ]
     },
     "execution_count": 28,
     "metadata": {},
     "output_type": "execute_result"
    }
   ],
   "source": [
    "movies.dtypes"
   ]
  },
  {
   "cell_type": "code",
   "execution_count": 29,
   "metadata": {
    "ExecuteTime": {
     "end_time": "2021-08-18T17:27:17.544143Z",
     "start_time": "2021-08-18T17:27:17.515675Z"
    }
   },
   "outputs": [],
   "source": [
    "movies['anyo'] = movies.titulo.apply(lambda x: int(str(x[-5:-1])))\n",
    "movies['titulo'] = movies.titulo.apply(lambda x: x[:-7])"
   ]
  },
  {
   "cell_type": "code",
   "execution_count": 30,
   "metadata": {
    "ExecuteTime": {
     "end_time": "2021-08-18T17:27:17.578018Z",
     "start_time": "2021-08-18T17:27:17.558732Z"
    }
   },
   "outputs": [],
   "source": [
    "movies['decada'] = movies.anyo.apply(lambda x: int(str(x)[-5:-1]+'0'))"
   ]
  },
  {
   "cell_type": "code",
   "execution_count": 31,
   "metadata": {
    "ExecuteTime": {
     "end_time": "2021-08-18T17:27:17.592109Z",
     "start_time": "2021-08-18T17:27:17.583803Z"
    }
   },
   "outputs": [],
   "source": [
    "def comedia(generos):\n",
    "    if \"Comedy\" in str(generos):\n",
    "        return 1\n",
    "    else:\n",
    "        return 0\n",
    "    \n",
    "def nens(generos):\n",
    "    if \"Children\" in str(generos):\n",
    "        return 1\n",
    "    else:\n",
    "        return 0\n",
    "    \n",
    "def animacio(generos):\n",
    "    if \"Animation\" in str(generos):\n",
    "        return 1\n",
    "    else:\n",
    "        return 0"
   ]
  },
  {
   "cell_type": "code",
   "execution_count": 32,
   "metadata": {
    "ExecuteTime": {
     "end_time": "2021-08-18T17:27:17.617749Z",
     "start_time": "2021-08-18T17:27:17.597951Z"
    }
   },
   "outputs": [],
   "source": [
    "movies['gen_comedia'] = movies.genero.apply(lambda x: comedia(x))\n",
    "movies['gen_infantil'] = movies.genero.apply(lambda x: nens(x))\n",
    "movies['gen_animacion'] = movies.genero.apply(lambda x: animacio(x))"
   ]
  },
  {
   "cell_type": "code",
   "execution_count": 33,
   "metadata": {
    "ExecuteTime": {
     "end_time": "2021-08-18T17:27:17.649055Z",
     "start_time": "2021-08-18T17:27:17.621698Z"
    }
   },
   "outputs": [
    {
     "data": {
      "text/html": [
       "<div>\n",
       "<style scoped>\n",
       "    .dataframe tbody tr th:only-of-type {\n",
       "        vertical-align: middle;\n",
       "    }\n",
       "\n",
       "    .dataframe tbody tr th {\n",
       "        vertical-align: top;\n",
       "    }\n",
       "\n",
       "    .dataframe thead th {\n",
       "        text-align: right;\n",
       "    }\n",
       "</style>\n",
       "<table border=\"1\" class=\"dataframe\">\n",
       "  <thead>\n",
       "    <tr style=\"text-align: right;\">\n",
       "      <th></th>\n",
       "      <th>movie_id</th>\n",
       "      <th>titulo</th>\n",
       "      <th>genero</th>\n",
       "      <th>anyo</th>\n",
       "      <th>decada</th>\n",
       "      <th>gen_comedia</th>\n",
       "      <th>gen_infantil</th>\n",
       "      <th>gen_animacion</th>\n",
       "    </tr>\n",
       "  </thead>\n",
       "  <tbody>\n",
       "    <tr>\n",
       "      <th>0</th>\n",
       "      <td>1</td>\n",
       "      <td>Toy Story</td>\n",
       "      <td>Animation|Children's|Comedy</td>\n",
       "      <td>1995</td>\n",
       "      <td>1990</td>\n",
       "      <td>1</td>\n",
       "      <td>1</td>\n",
       "      <td>1</td>\n",
       "    </tr>\n",
       "    <tr>\n",
       "      <th>1</th>\n",
       "      <td>2</td>\n",
       "      <td>Jumanji</td>\n",
       "      <td>Adventure|Children's|Fantasy</td>\n",
       "      <td>1995</td>\n",
       "      <td>1990</td>\n",
       "      <td>0</td>\n",
       "      <td>1</td>\n",
       "      <td>0</td>\n",
       "    </tr>\n",
       "    <tr>\n",
       "      <th>2</th>\n",
       "      <td>3</td>\n",
       "      <td>Grumpier Old Men</td>\n",
       "      <td>Comedy|Romance</td>\n",
       "      <td>1995</td>\n",
       "      <td>1990</td>\n",
       "      <td>1</td>\n",
       "      <td>0</td>\n",
       "      <td>0</td>\n",
       "    </tr>\n",
       "    <tr>\n",
       "      <th>3</th>\n",
       "      <td>4</td>\n",
       "      <td>Waiting to Exhale</td>\n",
       "      <td>Comedy|Drama</td>\n",
       "      <td>1995</td>\n",
       "      <td>1990</td>\n",
       "      <td>1</td>\n",
       "      <td>0</td>\n",
       "      <td>0</td>\n",
       "    </tr>\n",
       "    <tr>\n",
       "      <th>4</th>\n",
       "      <td>5</td>\n",
       "      <td>Father of the Bride Part II</td>\n",
       "      <td>Comedy</td>\n",
       "      <td>1995</td>\n",
       "      <td>1990</td>\n",
       "      <td>1</td>\n",
       "      <td>0</td>\n",
       "      <td>0</td>\n",
       "    </tr>\n",
       "    <tr>\n",
       "      <th>...</th>\n",
       "      <td>...</td>\n",
       "      <td>...</td>\n",
       "      <td>...</td>\n",
       "      <td>...</td>\n",
       "      <td>...</td>\n",
       "      <td>...</td>\n",
       "      <td>...</td>\n",
       "      <td>...</td>\n",
       "    </tr>\n",
       "    <tr>\n",
       "      <th>3878</th>\n",
       "      <td>3948</td>\n",
       "      <td>Meet the Parents</td>\n",
       "      <td>Comedy</td>\n",
       "      <td>2000</td>\n",
       "      <td>2000</td>\n",
       "      <td>1</td>\n",
       "      <td>0</td>\n",
       "      <td>0</td>\n",
       "    </tr>\n",
       "    <tr>\n",
       "      <th>3879</th>\n",
       "      <td>3949</td>\n",
       "      <td>Requiem for a Dream</td>\n",
       "      <td>Drama</td>\n",
       "      <td>2000</td>\n",
       "      <td>2000</td>\n",
       "      <td>0</td>\n",
       "      <td>0</td>\n",
       "      <td>0</td>\n",
       "    </tr>\n",
       "    <tr>\n",
       "      <th>3880</th>\n",
       "      <td>3950</td>\n",
       "      <td>Tigerland</td>\n",
       "      <td>Drama</td>\n",
       "      <td>2000</td>\n",
       "      <td>2000</td>\n",
       "      <td>0</td>\n",
       "      <td>0</td>\n",
       "      <td>0</td>\n",
       "    </tr>\n",
       "    <tr>\n",
       "      <th>3881</th>\n",
       "      <td>3951</td>\n",
       "      <td>Two Family House</td>\n",
       "      <td>Drama</td>\n",
       "      <td>2000</td>\n",
       "      <td>2000</td>\n",
       "      <td>0</td>\n",
       "      <td>0</td>\n",
       "      <td>0</td>\n",
       "    </tr>\n",
       "    <tr>\n",
       "      <th>3882</th>\n",
       "      <td>3952</td>\n",
       "      <td>Contender, The</td>\n",
       "      <td>Drama|Thriller</td>\n",
       "      <td>2000</td>\n",
       "      <td>2000</td>\n",
       "      <td>0</td>\n",
       "      <td>0</td>\n",
       "      <td>0</td>\n",
       "    </tr>\n",
       "  </tbody>\n",
       "</table>\n",
       "<p>3883 rows × 8 columns</p>\n",
       "</div>"
      ],
      "text/plain": [
       "      movie_id                       titulo                        genero  \\\n",
       "0            1                    Toy Story   Animation|Children's|Comedy   \n",
       "1            2                      Jumanji  Adventure|Children's|Fantasy   \n",
       "2            3             Grumpier Old Men                Comedy|Romance   \n",
       "3            4            Waiting to Exhale                  Comedy|Drama   \n",
       "4            5  Father of the Bride Part II                        Comedy   \n",
       "...        ...                          ...                           ...   \n",
       "3878      3948             Meet the Parents                        Comedy   \n",
       "3879      3949          Requiem for a Dream                         Drama   \n",
       "3880      3950                    Tigerland                         Drama   \n",
       "3881      3951             Two Family House                         Drama   \n",
       "3882      3952               Contender, The                Drama|Thriller   \n",
       "\n",
       "      anyo  decada  gen_comedia  gen_infantil  gen_animacion  \n",
       "0     1995    1990            1             1              1  \n",
       "1     1995    1990            0             1              0  \n",
       "2     1995    1990            1             0              0  \n",
       "3     1995    1990            1             0              0  \n",
       "4     1995    1990            1             0              0  \n",
       "...    ...     ...          ...           ...            ...  \n",
       "3878  2000    2000            1             0              0  \n",
       "3879  2000    2000            0             0              0  \n",
       "3880  2000    2000            0             0              0  \n",
       "3881  2000    2000            0             0              0  \n",
       "3882  2000    2000            0             0              0  \n",
       "\n",
       "[3883 rows x 8 columns]"
      ]
     },
     "execution_count": 33,
     "metadata": {},
     "output_type": "execute_result"
    }
   ],
   "source": [
    "movies"
   ]
  },
  {
   "cell_type": "code",
   "execution_count": 34,
   "metadata": {
    "ExecuteTime": {
     "end_time": "2021-08-18T17:27:17.667967Z",
     "start_time": "2021-08-18T17:27:17.654249Z"
    }
   },
   "outputs": [
    {
     "data": {
      "text/plain": [
       "Drama                                   843\n",
       "Comedy                                  521\n",
       "Horror                                  178\n",
       "Comedy|Drama                            162\n",
       "Comedy|Romance                          142\n",
       "                                       ... \n",
       "Drama|Film-Noir|Thriller                  1\n",
       "Adventure|Comedy|Musical                  1\n",
       "Action|Comedy|Romance|Thriller            1\n",
       "Animation|Children's|Musical|Romance      1\n",
       "Drama|Romance|Sci-Fi                      1\n",
       "Name: genero, Length: 301, dtype: int64"
      ]
     },
     "execution_count": 34,
     "metadata": {},
     "output_type": "execute_result"
    }
   ],
   "source": [
    "movies.genero.value_counts()"
   ]
  },
  {
   "cell_type": "code",
   "execution_count": 35,
   "metadata": {
    "ExecuteTime": {
     "end_time": "2021-08-18T17:27:19.831201Z",
     "start_time": "2021-08-18T17:27:17.671783Z"
    }
   },
   "outputs": [],
   "source": [
    "g = pd.DataFrame(movies, columns = [\"movie_id\", \"genero\"])\n",
    "\n",
    "g.genero = g.genero.apply(lambda x: x.split(\"|\"))\n",
    "\n",
    "g.genero.apply(pd.Series)\\\n",
    "    .merge(g,left_index = True, right_index = True)\\\n",
    "    .drop([\"genero\"], axis = 1)\\\n",
    "    .melt(id_vars = ['movie_id'], value_name = \"genero\")\\\n",
    "    .drop(\"variable\", axis = 1)\\\n",
    "    .dropna()\n",
    "\n",
    "gg = g.genero.apply(pd.Series)\\\n",
    "    .merge(g,left_index = True, right_index = True)\\\n",
    "    .drop([\"genero\"], axis = 1)\\\n",
    "    .melt(id_vars = ['movie_id'], value_name = \"genero\")\\\n",
    "    .drop(\"variable\", axis = 1)\\\n",
    "    .dropna()\n"
   ]
  },
  {
   "cell_type": "code",
   "execution_count": 36,
   "metadata": {
    "ExecuteTime": {
     "end_time": "2021-08-18T17:27:19.854328Z",
     "start_time": "2021-08-18T17:27:19.836053Z"
    }
   },
   "outputs": [],
   "source": [
    "movies_2 = pd.merge(movies, gg, on='movie_id', how='left')"
   ]
  },
  {
   "cell_type": "code",
   "execution_count": 37,
   "metadata": {
    "ExecuteTime": {
     "end_time": "2021-08-18T17:27:19.894716Z",
     "start_time": "2021-08-18T17:27:19.857713Z"
    }
   },
   "outputs": [
    {
     "data": {
      "text/html": [
       "<div>\n",
       "<style scoped>\n",
       "    .dataframe tbody tr th:only-of-type {\n",
       "        vertical-align: middle;\n",
       "    }\n",
       "\n",
       "    .dataframe tbody tr th {\n",
       "        vertical-align: top;\n",
       "    }\n",
       "\n",
       "    .dataframe thead th {\n",
       "        text-align: right;\n",
       "    }\n",
       "</style>\n",
       "<table border=\"1\" class=\"dataframe\">\n",
       "  <thead>\n",
       "    <tr style=\"text-align: right;\">\n",
       "      <th></th>\n",
       "      <th>movie_id</th>\n",
       "      <th>titulo</th>\n",
       "      <th>genero_x</th>\n",
       "      <th>anyo</th>\n",
       "      <th>decada</th>\n",
       "      <th>gen_comedia</th>\n",
       "      <th>gen_infantil</th>\n",
       "      <th>gen_animacion</th>\n",
       "      <th>genero_y</th>\n",
       "    </tr>\n",
       "  </thead>\n",
       "  <tbody>\n",
       "    <tr>\n",
       "      <th>0</th>\n",
       "      <td>1</td>\n",
       "      <td>Toy Story</td>\n",
       "      <td>Animation|Children's|Comedy</td>\n",
       "      <td>1995</td>\n",
       "      <td>1990</td>\n",
       "      <td>1</td>\n",
       "      <td>1</td>\n",
       "      <td>1</td>\n",
       "      <td>Animation</td>\n",
       "    </tr>\n",
       "    <tr>\n",
       "      <th>1</th>\n",
       "      <td>1</td>\n",
       "      <td>Toy Story</td>\n",
       "      <td>Animation|Children's|Comedy</td>\n",
       "      <td>1995</td>\n",
       "      <td>1990</td>\n",
       "      <td>1</td>\n",
       "      <td>1</td>\n",
       "      <td>1</td>\n",
       "      <td>Children's</td>\n",
       "    </tr>\n",
       "    <tr>\n",
       "      <th>2</th>\n",
       "      <td>1</td>\n",
       "      <td>Toy Story</td>\n",
       "      <td>Animation|Children's|Comedy</td>\n",
       "      <td>1995</td>\n",
       "      <td>1990</td>\n",
       "      <td>1</td>\n",
       "      <td>1</td>\n",
       "      <td>1</td>\n",
       "      <td>Comedy</td>\n",
       "    </tr>\n",
       "    <tr>\n",
       "      <th>3</th>\n",
       "      <td>2</td>\n",
       "      <td>Jumanji</td>\n",
       "      <td>Adventure|Children's|Fantasy</td>\n",
       "      <td>1995</td>\n",
       "      <td>1990</td>\n",
       "      <td>0</td>\n",
       "      <td>1</td>\n",
       "      <td>0</td>\n",
       "      <td>Adventure</td>\n",
       "    </tr>\n",
       "    <tr>\n",
       "      <th>4</th>\n",
       "      <td>2</td>\n",
       "      <td>Jumanji</td>\n",
       "      <td>Adventure|Children's|Fantasy</td>\n",
       "      <td>1995</td>\n",
       "      <td>1990</td>\n",
       "      <td>0</td>\n",
       "      <td>1</td>\n",
       "      <td>0</td>\n",
       "      <td>Children's</td>\n",
       "    </tr>\n",
       "    <tr>\n",
       "      <th>...</th>\n",
       "      <td>...</td>\n",
       "      <td>...</td>\n",
       "      <td>...</td>\n",
       "      <td>...</td>\n",
       "      <td>...</td>\n",
       "      <td>...</td>\n",
       "      <td>...</td>\n",
       "      <td>...</td>\n",
       "      <td>...</td>\n",
       "    </tr>\n",
       "    <tr>\n",
       "      <th>6403</th>\n",
       "      <td>3949</td>\n",
       "      <td>Requiem for a Dream</td>\n",
       "      <td>Drama</td>\n",
       "      <td>2000</td>\n",
       "      <td>2000</td>\n",
       "      <td>0</td>\n",
       "      <td>0</td>\n",
       "      <td>0</td>\n",
       "      <td>Drama</td>\n",
       "    </tr>\n",
       "    <tr>\n",
       "      <th>6404</th>\n",
       "      <td>3950</td>\n",
       "      <td>Tigerland</td>\n",
       "      <td>Drama</td>\n",
       "      <td>2000</td>\n",
       "      <td>2000</td>\n",
       "      <td>0</td>\n",
       "      <td>0</td>\n",
       "      <td>0</td>\n",
       "      <td>Drama</td>\n",
       "    </tr>\n",
       "    <tr>\n",
       "      <th>6405</th>\n",
       "      <td>3951</td>\n",
       "      <td>Two Family House</td>\n",
       "      <td>Drama</td>\n",
       "      <td>2000</td>\n",
       "      <td>2000</td>\n",
       "      <td>0</td>\n",
       "      <td>0</td>\n",
       "      <td>0</td>\n",
       "      <td>Drama</td>\n",
       "    </tr>\n",
       "    <tr>\n",
       "      <th>6406</th>\n",
       "      <td>3952</td>\n",
       "      <td>Contender, The</td>\n",
       "      <td>Drama|Thriller</td>\n",
       "      <td>2000</td>\n",
       "      <td>2000</td>\n",
       "      <td>0</td>\n",
       "      <td>0</td>\n",
       "      <td>0</td>\n",
       "      <td>Drama</td>\n",
       "    </tr>\n",
       "    <tr>\n",
       "      <th>6407</th>\n",
       "      <td>3952</td>\n",
       "      <td>Contender, The</td>\n",
       "      <td>Drama|Thriller</td>\n",
       "      <td>2000</td>\n",
       "      <td>2000</td>\n",
       "      <td>0</td>\n",
       "      <td>0</td>\n",
       "      <td>0</td>\n",
       "      <td>Thriller</td>\n",
       "    </tr>\n",
       "  </tbody>\n",
       "</table>\n",
       "<p>6408 rows × 9 columns</p>\n",
       "</div>"
      ],
      "text/plain": [
       "      movie_id               titulo                      genero_x  anyo  \\\n",
       "0            1            Toy Story   Animation|Children's|Comedy  1995   \n",
       "1            1            Toy Story   Animation|Children's|Comedy  1995   \n",
       "2            1            Toy Story   Animation|Children's|Comedy  1995   \n",
       "3            2              Jumanji  Adventure|Children's|Fantasy  1995   \n",
       "4            2              Jumanji  Adventure|Children's|Fantasy  1995   \n",
       "...        ...                  ...                           ...   ...   \n",
       "6403      3949  Requiem for a Dream                         Drama  2000   \n",
       "6404      3950            Tigerland                         Drama  2000   \n",
       "6405      3951     Two Family House                         Drama  2000   \n",
       "6406      3952       Contender, The                Drama|Thriller  2000   \n",
       "6407      3952       Contender, The                Drama|Thriller  2000   \n",
       "\n",
       "      decada  gen_comedia  gen_infantil  gen_animacion    genero_y  \n",
       "0       1990            1             1              1   Animation  \n",
       "1       1990            1             1              1  Children's  \n",
       "2       1990            1             1              1      Comedy  \n",
       "3       1990            0             1              0   Adventure  \n",
       "4       1990            0             1              0  Children's  \n",
       "...      ...          ...           ...            ...         ...  \n",
       "6403    2000            0             0              0       Drama  \n",
       "6404    2000            0             0              0       Drama  \n",
       "6405    2000            0             0              0       Drama  \n",
       "6406    2000            0             0              0       Drama  \n",
       "6407    2000            0             0              0    Thriller  \n",
       "\n",
       "[6408 rows x 9 columns]"
      ]
     },
     "execution_count": 37,
     "metadata": {},
     "output_type": "execute_result"
    }
   ],
   "source": [
    "movies_2"
   ]
  },
  {
   "cell_type": "code",
   "execution_count": 38,
   "metadata": {
    "ExecuteTime": {
     "end_time": "2021-08-18T17:27:20.247018Z",
     "start_time": "2021-08-18T17:27:19.905972Z"
    }
   },
   "outputs": [
    {
     "data": {
      "image/png": "[encoded data removed]",
      "text/plain": [
       "<Figure size 432x288 with 1 Axes>"
      ]
     },
     "metadata": {},
     "output_type": "display_data"
    }
   ],
   "source": [
    "sns.countplot(x='decada', data=movies)\n",
    "plt.show()"
   ]
  },
  {
   "cell_type": "code",
   "execution_count": 39,
   "metadata": {
    "ExecuteTime": {
     "end_time": "2021-08-18T17:27:20.728951Z",
     "start_time": "2021-08-18T17:27:20.250648Z"
    }
   },
   "outputs": [
    {
     "data": {
      "image/png": "[encoded data removed]",
      "text/plain": [
       "<Figure size 432x288 with 1 Axes>"
      ]
     },
     "metadata": {},
     "output_type": "display_data"
    }
   ],
   "source": [
    "ax = sns.countplot(x='genero_y', data=movies_2)\n",
    "ax.tick_params(axis='x', rotation=90)\n",
    "plt.show()\n",
    "#sns.set(style=\"darkgrid\")"
   ]
  },
  {
   "cell_type": "code",
   "execution_count": 40,
   "metadata": {
    "ExecuteTime": {
     "end_time": "2021-08-18T17:27:20.781460Z",
     "start_time": "2021-08-18T17:27:20.732779Z"
    }
   },
   "outputs": [
    {
     "data": {
      "text/html": [
       "<div>\n",
       "<style scoped>\n",
       "    .dataframe tbody tr th:only-of-type {\n",
       "        vertical-align: middle;\n",
       "    }\n",
       "\n",
       "    .dataframe tbody tr th {\n",
       "        vertical-align: top;\n",
       "    }\n",
       "\n",
       "    .dataframe thead th {\n",
       "        text-align: right;\n",
       "    }\n",
       "</style>\n",
       "<table border=\"1\" class=\"dataframe\">\n",
       "  <thead>\n",
       "    <tr style=\"text-align: right;\">\n",
       "      <th></th>\n",
       "      <th>movie_id</th>\n",
       "      <th>anyo</th>\n",
       "      <th>decada</th>\n",
       "      <th>gen_comedia</th>\n",
       "      <th>gen_infantil</th>\n",
       "      <th>gen_animacion</th>\n",
       "    </tr>\n",
       "  </thead>\n",
       "  <tbody>\n",
       "    <tr>\n",
       "      <th>count</th>\n",
       "      <td>3883.000000</td>\n",
       "      <td>3883.000000</td>\n",
       "      <td>3883.000000</td>\n",
       "      <td>3883.000000</td>\n",
       "      <td>3883.000000</td>\n",
       "      <td>3883.000000</td>\n",
       "    </tr>\n",
       "    <tr>\n",
       "      <th>mean</th>\n",
       "      <td>1986.049446</td>\n",
       "      <td>1986.066959</td>\n",
       "      <td>1980.896214</td>\n",
       "      <td>0.309039</td>\n",
       "      <td>0.064641</td>\n",
       "      <td>0.027041</td>\n",
       "    </tr>\n",
       "    <tr>\n",
       "      <th>std</th>\n",
       "      <td>1146.778349</td>\n",
       "      <td>16.895690</td>\n",
       "      <td>16.610528</td>\n",
       "      <td>0.462157</td>\n",
       "      <td>0.245923</td>\n",
       "      <td>0.162224</td>\n",
       "    </tr>\n",
       "    <tr>\n",
       "      <th>min</th>\n",
       "      <td>1.000000</td>\n",
       "      <td>1919.000000</td>\n",
       "      <td>1910.000000</td>\n",
       "      <td>0.000000</td>\n",
       "      <td>0.000000</td>\n",
       "      <td>0.000000</td>\n",
       "    </tr>\n",
       "    <tr>\n",
       "      <th>25%</th>\n",
       "      <td>982.500000</td>\n",
       "      <td>1982.000000</td>\n",
       "      <td>1980.000000</td>\n",
       "      <td>0.000000</td>\n",
       "      <td>0.000000</td>\n",
       "      <td>0.000000</td>\n",
       "    </tr>\n",
       "    <tr>\n",
       "      <th>50%</th>\n",
       "      <td>2010.000000</td>\n",
       "      <td>1994.000000</td>\n",
       "      <td>1990.000000</td>\n",
       "      <td>0.000000</td>\n",
       "      <td>0.000000</td>\n",
       "      <td>0.000000</td>\n",
       "    </tr>\n",
       "    <tr>\n",
       "      <th>75%</th>\n",
       "      <td>2980.500000</td>\n",
       "      <td>1997.000000</td>\n",
       "      <td>1990.000000</td>\n",
       "      <td>1.000000</td>\n",
       "      <td>0.000000</td>\n",
       "      <td>0.000000</td>\n",
       "    </tr>\n",
       "    <tr>\n",
       "      <th>max</th>\n",
       "      <td>3952.000000</td>\n",
       "      <td>2000.000000</td>\n",
       "      <td>2000.000000</td>\n",
       "      <td>1.000000</td>\n",
       "      <td>1.000000</td>\n",
       "      <td>1.000000</td>\n",
       "    </tr>\n",
       "  </tbody>\n",
       "</table>\n",
       "</div>"
      ],
      "text/plain": [
       "          movie_id         anyo       decada  gen_comedia  gen_infantil  \\\n",
       "count  3883.000000  3883.000000  3883.000000  3883.000000   3883.000000   \n",
       "mean   1986.049446  1986.066959  1980.896214     0.309039      0.064641   \n",
       "std    1146.778349    16.895690    16.610528     0.462157      0.245923   \n",
       "min       1.000000  1919.000000  1910.000000     0.000000      0.000000   \n",
       "25%     982.500000  1982.000000  1980.000000     0.000000      0.000000   \n",
       "50%    2010.000000  1994.000000  1990.000000     0.000000      0.000000   \n",
       "75%    2980.500000  1997.000000  1990.000000     1.000000      0.000000   \n",
       "max    3952.000000  2000.000000  2000.000000     1.000000      1.000000   \n",
       "\n",
       "       gen_animacion  \n",
       "count    3883.000000  \n",
       "mean        0.027041  \n",
       "std         0.162224  \n",
       "min         0.000000  \n",
       "25%         0.000000  \n",
       "50%         0.000000  \n",
       "75%         0.000000  \n",
       "max         1.000000  "
      ]
     },
     "execution_count": 40,
     "metadata": {},
     "output_type": "execute_result"
    }
   ],
   "source": [
    "movies.describe()"
   ]
  },
  {
   "cell_type": "code",
   "execution_count": 41,
   "metadata": {
    "ExecuteTime": {
     "end_time": "2021-08-18T17:27:20.870645Z",
     "start_time": "2021-08-18T17:27:20.784629Z"
    }
   },
   "outputs": [
    {
     "data": {
      "text/html": [
       "<div>\n",
       "<style scoped>\n",
       "    .dataframe tbody tr th:only-of-type {\n",
       "        vertical-align: middle;\n",
       "    }\n",
       "\n",
       "    .dataframe tbody tr th {\n",
       "        vertical-align: top;\n",
       "    }\n",
       "\n",
       "    .dataframe thead th {\n",
       "        text-align: right;\n",
       "    }\n",
       "</style>\n",
       "<table border=\"1\" class=\"dataframe\">\n",
       "  <thead>\n",
       "    <tr style=\"text-align: right;\">\n",
       "      <th></th>\n",
       "      <th>movie_id</th>\n",
       "      <th>titulo</th>\n",
       "      <th>genero</th>\n",
       "      <th>anyo</th>\n",
       "      <th>decada</th>\n",
       "      <th>gen_comedia</th>\n",
       "      <th>gen_infantil</th>\n",
       "      <th>gen_animacion</th>\n",
       "    </tr>\n",
       "  </thead>\n",
       "  <tbody>\n",
       "    <tr>\n",
       "      <th>count</th>\n",
       "      <td>3883.000</td>\n",
       "      <td>3883</td>\n",
       "      <td>3883</td>\n",
       "      <td>3883.000</td>\n",
       "      <td>3883.000</td>\n",
       "      <td>3883.000</td>\n",
       "      <td>3883.000</td>\n",
       "      <td>3883.000</td>\n",
       "    </tr>\n",
       "    <tr>\n",
       "      <th>unique</th>\n",
       "      <td>NaN</td>\n",
       "      <td>3841</td>\n",
       "      <td>301</td>\n",
       "      <td>NaN</td>\n",
       "      <td>NaN</td>\n",
       "      <td>NaN</td>\n",
       "      <td>NaN</td>\n",
       "      <td>NaN</td>\n",
       "    </tr>\n",
       "    <tr>\n",
       "      <th>top</th>\n",
       "      <td>NaN</td>\n",
       "      <td>Hamlet</td>\n",
       "      <td>Drama</td>\n",
       "      <td>NaN</td>\n",
       "      <td>NaN</td>\n",
       "      <td>NaN</td>\n",
       "      <td>NaN</td>\n",
       "      <td>NaN</td>\n",
       "    </tr>\n",
       "    <tr>\n",
       "      <th>freq</th>\n",
       "      <td>NaN</td>\n",
       "      <td>5</td>\n",
       "      <td>843</td>\n",
       "      <td>NaN</td>\n",
       "      <td>NaN</td>\n",
       "      <td>NaN</td>\n",
       "      <td>NaN</td>\n",
       "      <td>NaN</td>\n",
       "    </tr>\n",
       "    <tr>\n",
       "      <th>mean</th>\n",
       "      <td>1986.049</td>\n",
       "      <td>NaN</td>\n",
       "      <td>NaN</td>\n",
       "      <td>1986.067</td>\n",
       "      <td>1980.896</td>\n",
       "      <td>0.309</td>\n",
       "      <td>0.065</td>\n",
       "      <td>0.027</td>\n",
       "    </tr>\n",
       "    <tr>\n",
       "      <th>std</th>\n",
       "      <td>1146.778</td>\n",
       "      <td>NaN</td>\n",
       "      <td>NaN</td>\n",
       "      <td>16.896</td>\n",
       "      <td>16.611</td>\n",
       "      <td>0.462</td>\n",
       "      <td>0.246</td>\n",
       "      <td>0.162</td>\n",
       "    </tr>\n",
       "    <tr>\n",
       "      <th>min</th>\n",
       "      <td>1.000</td>\n",
       "      <td>NaN</td>\n",
       "      <td>NaN</td>\n",
       "      <td>1919.000</td>\n",
       "      <td>1910.000</td>\n",
       "      <td>0.000</td>\n",
       "      <td>0.000</td>\n",
       "      <td>0.000</td>\n",
       "    </tr>\n",
       "    <tr>\n",
       "      <th>25%</th>\n",
       "      <td>982.500</td>\n",
       "      <td>NaN</td>\n",
       "      <td>NaN</td>\n",
       "      <td>1982.000</td>\n",
       "      <td>1980.000</td>\n",
       "      <td>0.000</td>\n",
       "      <td>0.000</td>\n",
       "      <td>0.000</td>\n",
       "    </tr>\n",
       "    <tr>\n",
       "      <th>50%</th>\n",
       "      <td>2010.000</td>\n",
       "      <td>NaN</td>\n",
       "      <td>NaN</td>\n",
       "      <td>1994.000</td>\n",
       "      <td>1990.000</td>\n",
       "      <td>0.000</td>\n",
       "      <td>0.000</td>\n",
       "      <td>0.000</td>\n",
       "    </tr>\n",
       "    <tr>\n",
       "      <th>75%</th>\n",
       "      <td>2980.500</td>\n",
       "      <td>NaN</td>\n",
       "      <td>NaN</td>\n",
       "      <td>1997.000</td>\n",
       "      <td>1990.000</td>\n",
       "      <td>1.000</td>\n",
       "      <td>0.000</td>\n",
       "      <td>0.000</td>\n",
       "    </tr>\n",
       "    <tr>\n",
       "      <th>max</th>\n",
       "      <td>3952.000</td>\n",
       "      <td>NaN</td>\n",
       "      <td>NaN</td>\n",
       "      <td>2000.000</td>\n",
       "      <td>2000.000</td>\n",
       "      <td>1.000</td>\n",
       "      <td>1.000</td>\n",
       "      <td>1.000</td>\n",
       "    </tr>\n",
       "  </tbody>\n",
       "</table>\n",
       "</div>"
      ],
      "text/plain": [
       "        movie_id  titulo genero      anyo    decada  gen_comedia  \\\n",
       "count   3883.000    3883   3883  3883.000  3883.000     3883.000   \n",
       "unique       NaN    3841    301       NaN       NaN          NaN   \n",
       "top          NaN  Hamlet  Drama       NaN       NaN          NaN   \n",
       "freq         NaN       5    843       NaN       NaN          NaN   \n",
       "mean    1986.049     NaN    NaN  1986.067  1980.896        0.309   \n",
       "std     1146.778     NaN    NaN    16.896    16.611        0.462   \n",
       "min        1.000     NaN    NaN  1919.000  1910.000        0.000   \n",
       "25%      982.500     NaN    NaN  1982.000  1980.000        0.000   \n",
       "50%     2010.000     NaN    NaN  1994.000  1990.000        0.000   \n",
       "75%     2980.500     NaN    NaN  1997.000  1990.000        1.000   \n",
       "max     3952.000     NaN    NaN  2000.000  2000.000        1.000   \n",
       "\n",
       "        gen_infantil  gen_animacion  \n",
       "count       3883.000       3883.000  \n",
       "unique           NaN            NaN  \n",
       "top              NaN            NaN  \n",
       "freq             NaN            NaN  \n",
       "mean           0.065          0.027  \n",
       "std            0.246          0.162  \n",
       "min            0.000          0.000  \n",
       "25%            0.000          0.000  \n",
       "50%            0.000          0.000  \n",
       "75%            0.000          0.000  \n",
       "max            1.000          1.000  "
      ]
     },
     "execution_count": 41,
     "metadata": {},
     "output_type": "execute_result"
    }
   ],
   "source": [
    "round(movies.describe(include='all'), 3)"
   ]
  },
  {
   "cell_type": "code",
   "execution_count": 42,
   "metadata": {
    "ExecuteTime": {
     "end_time": "2021-08-18T17:27:20.887185Z",
     "start_time": "2021-08-18T17:27:20.873842Z"
    }
   },
   "outputs": [
    {
     "data": {
      "text/plain": [
       "movie_id         0.0\n",
       "titulo           0.0\n",
       "genero           0.0\n",
       "anyo             0.0\n",
       "decada           0.0\n",
       "gen_comedia      0.0\n",
       "gen_infantil     0.0\n",
       "gen_animacion    0.0\n",
       "dtype: float64"
      ]
     },
     "execution_count": 42,
     "metadata": {},
     "output_type": "execute_result"
    }
   ],
   "source": [
    "movies.isnull().sum()/len(movies)"
   ]
  },
  {
   "cell_type": "markdown",
   "metadata": {
    "ExecuteTime": {
     "end_time": "2021-02-03T11:36:21.844979Z",
     "start_time": "2021-02-03T11:36:21.838998Z"
    }
   },
   "source": [
    "<span style=color:blue><font size=4><b><u>Una Variable</u></b></font></span>"
   ]
  },
  {
   "cell_type": "code",
   "execution_count": 43,
   "metadata": {
    "ExecuteTime": {
     "end_time": "2021-08-18T17:27:20.903537Z",
     "start_time": "2021-08-18T17:27:20.893485Z"
    }
   },
   "outputs": [
    {
     "data": {
      "text/plain": [
       "movie_id          int64\n",
       "titulo           object\n",
       "genero           object\n",
       "anyo              int64\n",
       "decada            int64\n",
       "gen_comedia       int64\n",
       "gen_infantil      int64\n",
       "gen_animacion     int64\n",
       "dtype: object"
      ]
     },
     "execution_count": 43,
     "metadata": {},
     "output_type": "execute_result"
    }
   ],
   "source": [
    "movies.dtypes"
   ]
  },
  {
   "cell_type": "code",
   "execution_count": 44,
   "metadata": {
    "ExecuteTime": {
     "end_time": "2021-08-18T17:27:21.161432Z",
     "start_time": "2021-08-18T17:27:20.908536Z"
    }
   },
   "outputs": [
    {
     "data": {
      "image/png": "[encoded data removed]",
      "text/plain": [
       "<Figure size 432x288 with 1 Axes>"
      ]
     },
     "metadata": {},
     "output_type": "display_data"
    }
   ],
   "source": [
    "sns.boxplot(y=\"anyo\", data=movies,  color='lightblue', fliersize=5,  orient='v', linewidth=1 , width=0.3);"
   ]
  },
  {
   "cell_type": "markdown",
   "metadata": {},
   "source": [
    "<span style=color:blue><font size=4><b><u>Dos Variables</u></b>: 1 Categórica, 1 Numérica</font></span>"
   ]
  },
  {
   "cell_type": "code",
   "execution_count": 45,
   "metadata": {
    "ExecuteTime": {
     "end_time": "2021-08-18T17:27:21.532356Z",
     "start_time": "2021-08-18T17:27:21.167424Z"
    },
    "scrolled": true
   },
   "outputs": [
    {
     "data": {
      "image/png": "[encoded data removed]",
      "text/plain": [
       "<Figure size 360x360 with 1 Axes>"
      ]
     },
     "metadata": {},
     "output_type": "display_data"
    }
   ],
   "source": [
    "ax = sns.catplot(x='gen_comedia', y='anyo', kind='box',\n",
    "                 data=movies);"
   ]
  },
  {
   "cell_type": "code",
   "execution_count": 46,
   "metadata": {
    "ExecuteTime": {
     "end_time": "2021-08-18T17:27:22.027625Z",
     "start_time": "2021-08-18T17:27:21.535967Z"
    }
   },
   "outputs": [
    {
     "data": {
      "image/png": "[encoded data removed]",
      "text/plain": [
       "<Figure size 360x360 with 1 Axes>"
      ]
     },
     "metadata": {},
     "output_type": "display_data"
    }
   ],
   "source": [
    "ax = sns.catplot(x='gen_comedia', y='anyo', kind='box',\n",
    "                 data=movies);\n",
    "ax = sns.stripplot(x='gen_comedia', y='anyo', data=movies, orient='v', color='darkblue', alpha= 0.4);"
   ]
  },
  {
   "cell_type": "markdown",
   "metadata": {},
   "source": [
    "<span style=color:blue><font size=4><b><u>Tres Variables</u></b> : 2 Categóricas, 1 Numérica</font></span>"
   ]
  },
  {
   "cell_type": "code",
   "execution_count": 47,
   "metadata": {
    "ExecuteTime": {
     "end_time": "2021-08-18T17:27:22.400986Z",
     "start_time": "2021-08-18T17:27:22.032092Z"
    }
   },
   "outputs": [
    {
     "data": {
      "image/png": "[encoded data removed]",
      "text/plain": [
       "<Figure size 432x288 with 1 Axes>"
      ]
     },
     "metadata": {},
     "output_type": "display_data"
    }
   ],
   "source": [
    "sns.boxplot(x='gen_comedia', y='anyo', hue='gen_infantil',\n",
    "                 data=movies);"
   ]
  },
  {
   "cell_type": "code",
   "execution_count": 48,
   "metadata": {
    "ExecuteTime": {
     "end_time": "2021-08-18T17:27:23.062583Z",
     "start_time": "2021-08-18T17:27:22.404797Z"
    },
    "scrolled": true
   },
   "outputs": [
    {
     "data": {
      "image/png": "[encoded data removed]",
      "text/plain": [
       "<Figure size 432x288 with 1 Axes>"
      ]
     },
     "metadata": {},
     "output_type": "display_data"
    }
   ],
   "source": [
    "sns.boxplot(x='gen_comedia', y='anyo', hue='gen_infantil',\n",
    "                 data=movies);\n",
    "ax = sns.stripplot(x='gen_comedia', y='anyo', hue='gen_infantil',\n",
    "                 data=movies, orient='v', color='darkblue', alpha= 0.4);"
   ]
  },
  {
   "cell_type": "markdown",
   "metadata": {},
   "source": [
    "### <span style=color:blue>Facet Grids y Categorical DataFrame</span>"
   ]
  },
  {
   "cell_type": "markdown",
   "metadata": {
    "ExecuteTime": {
     "end_time": "2021-02-03T13:24:29.112841Z",
     "start_time": "2021-02-03T13:24:29.106102Z"
    }
   },
   "source": [
    "<span style=color:blue><font size=4><b><u>Cuatro Variables</u></b> : 3 Categoricas =, 1 Numérica </font></span>"
   ]
  },
  {
   "cell_type": "code",
   "execution_count": 49,
   "metadata": {
    "ExecuteTime": {
     "end_time": "2021-08-18T17:27:23.943951Z",
     "start_time": "2021-08-18T17:27:23.068558Z"
    }
   },
   "outputs": [
    {
     "data": {
      "image/png": "[encoded data removed]",
      "text/plain": [
       "<Figure size 789.925x360 with 2 Axes>"
      ]
     },
     "metadata": {},
     "output_type": "display_data"
    }
   ],
   "source": [
    "sns.catplot(x='gen_comedia', y='anyo', hue='gen_infantil', col='gen_animacion',\n",
    "               kind='box', data=movies);"
   ]
  },
  {
   "cell_type": "markdown",
   "metadata": {},
   "source": [
    "## Exercici 3\n",
    "\n",
    "Mostra'm la teva creativitat. Sorprèn-me amb el dataset \"movies.dat\" de l'exercici anterior."
   ]
  },
  {
   "cell_type": "code",
   "execution_count": 109,
   "metadata": {
    "ExecuteTime": {
     "end_time": "2021-08-18T18:00:55.728039Z",
     "start_time": "2021-08-18T18:00:55.721074Z"
    }
   },
   "outputs": [],
   "source": [
    "movies.columns = ['movie_id', 'title', 'genero', 'anyo', 'decada', 'gen_comedia',\n",
    "       'gen_infantil', 'gen_animacion']"
   ]
  },
  {
   "cell_type": "code",
   "execution_count": 110,
   "metadata": {
    "ExecuteTime": {
     "end_time": "2021-08-18T18:00:57.478581Z",
     "start_time": "2021-08-18T18:00:57.459801Z"
    }
   },
   "outputs": [
    {
     "data": {
      "text/html": [
       "<div>\n",
       "<style scoped>\n",
       "    .dataframe tbody tr th:only-of-type {\n",
       "        vertical-align: middle;\n",
       "    }\n",
       "\n",
       "    .dataframe tbody tr th {\n",
       "        vertical-align: top;\n",
       "    }\n",
       "\n",
       "    .dataframe thead th {\n",
       "        text-align: right;\n",
       "    }\n",
       "</style>\n",
       "<table border=\"1\" class=\"dataframe\">\n",
       "  <thead>\n",
       "    <tr style=\"text-align: right;\">\n",
       "      <th></th>\n",
       "      <th>movie_id</th>\n",
       "      <th>title</th>\n",
       "      <th>genero</th>\n",
       "      <th>anyo</th>\n",
       "      <th>decada</th>\n",
       "      <th>gen_comedia</th>\n",
       "      <th>gen_infantil</th>\n",
       "      <th>gen_animacion</th>\n",
       "    </tr>\n",
       "  </thead>\n",
       "  <tbody>\n",
       "    <tr>\n",
       "      <th>0</th>\n",
       "      <td>1</td>\n",
       "      <td>Toy Story</td>\n",
       "      <td>Animation|Children's|Comedy</td>\n",
       "      <td>1995</td>\n",
       "      <td>1990</td>\n",
       "      <td>1</td>\n",
       "      <td>1</td>\n",
       "      <td>1</td>\n",
       "    </tr>\n",
       "    <tr>\n",
       "      <th>1</th>\n",
       "      <td>2</td>\n",
       "      <td>Jumanji</td>\n",
       "      <td>Adventure|Children's|Fantasy</td>\n",
       "      <td>1995</td>\n",
       "      <td>1990</td>\n",
       "      <td>0</td>\n",
       "      <td>1</td>\n",
       "      <td>0</td>\n",
       "    </tr>\n",
       "    <tr>\n",
       "      <th>2</th>\n",
       "      <td>3</td>\n",
       "      <td>Grumpier Old Men</td>\n",
       "      <td>Comedy|Romance</td>\n",
       "      <td>1995</td>\n",
       "      <td>1990</td>\n",
       "      <td>1</td>\n",
       "      <td>0</td>\n",
       "      <td>0</td>\n",
       "    </tr>\n",
       "    <tr>\n",
       "      <th>3</th>\n",
       "      <td>4</td>\n",
       "      <td>Waiting to Exhale</td>\n",
       "      <td>Comedy|Drama</td>\n",
       "      <td>1995</td>\n",
       "      <td>1990</td>\n",
       "      <td>1</td>\n",
       "      <td>0</td>\n",
       "      <td>0</td>\n",
       "    </tr>\n",
       "    <tr>\n",
       "      <th>4</th>\n",
       "      <td>5</td>\n",
       "      <td>Father of the Bride Part II</td>\n",
       "      <td>Comedy</td>\n",
       "      <td>1995</td>\n",
       "      <td>1990</td>\n",
       "      <td>1</td>\n",
       "      <td>0</td>\n",
       "      <td>0</td>\n",
       "    </tr>\n",
       "    <tr>\n",
       "      <th>...</th>\n",
       "      <td>...</td>\n",
       "      <td>...</td>\n",
       "      <td>...</td>\n",
       "      <td>...</td>\n",
       "      <td>...</td>\n",
       "      <td>...</td>\n",
       "      <td>...</td>\n",
       "      <td>...</td>\n",
       "    </tr>\n",
       "    <tr>\n",
       "      <th>3878</th>\n",
       "      <td>3948</td>\n",
       "      <td>Meet the Parents</td>\n",
       "      <td>Comedy</td>\n",
       "      <td>2000</td>\n",
       "      <td>2000</td>\n",
       "      <td>1</td>\n",
       "      <td>0</td>\n",
       "      <td>0</td>\n",
       "    </tr>\n",
       "    <tr>\n",
       "      <th>3879</th>\n",
       "      <td>3949</td>\n",
       "      <td>Requiem for a Dream</td>\n",
       "      <td>Drama</td>\n",
       "      <td>2000</td>\n",
       "      <td>2000</td>\n",
       "      <td>0</td>\n",
       "      <td>0</td>\n",
       "      <td>0</td>\n",
       "    </tr>\n",
       "    <tr>\n",
       "      <th>3880</th>\n",
       "      <td>3950</td>\n",
       "      <td>Tigerland</td>\n",
       "      <td>Drama</td>\n",
       "      <td>2000</td>\n",
       "      <td>2000</td>\n",
       "      <td>0</td>\n",
       "      <td>0</td>\n",
       "      <td>0</td>\n",
       "    </tr>\n",
       "    <tr>\n",
       "      <th>3881</th>\n",
       "      <td>3951</td>\n",
       "      <td>Two Family House</td>\n",
       "      <td>Drama</td>\n",
       "      <td>2000</td>\n",
       "      <td>2000</td>\n",
       "      <td>0</td>\n",
       "      <td>0</td>\n",
       "      <td>0</td>\n",
       "    </tr>\n",
       "    <tr>\n",
       "      <th>3882</th>\n",
       "      <td>3952</td>\n",
       "      <td>Contender, The</td>\n",
       "      <td>Drama|Thriller</td>\n",
       "      <td>2000</td>\n",
       "      <td>2000</td>\n",
       "      <td>0</td>\n",
       "      <td>0</td>\n",
       "      <td>0</td>\n",
       "    </tr>\n",
       "  </tbody>\n",
       "</table>\n",
       "<p>3883 rows × 8 columns</p>\n",
       "</div>"
      ],
      "text/plain": [
       "      movie_id                        title                        genero  \\\n",
       "0            1                    Toy Story   Animation|Children's|Comedy   \n",
       "1            2                      Jumanji  Adventure|Children's|Fantasy   \n",
       "2            3             Grumpier Old Men                Comedy|Romance   \n",
       "3            4            Waiting to Exhale                  Comedy|Drama   \n",
       "4            5  Father of the Bride Part II                        Comedy   \n",
       "...        ...                          ...                           ...   \n",
       "3878      3948             Meet the Parents                        Comedy   \n",
       "3879      3949          Requiem for a Dream                         Drama   \n",
       "3880      3950                    Tigerland                         Drama   \n",
       "3881      3951             Two Family House                         Drama   \n",
       "3882      3952               Contender, The                Drama|Thriller   \n",
       "\n",
       "      anyo  decada  gen_comedia  gen_infantil  gen_animacion  \n",
       "0     1995    1990            1             1              1  \n",
       "1     1995    1990            0             1              0  \n",
       "2     1995    1990            1             0              0  \n",
       "3     1995    1990            1             0              0  \n",
       "4     1995    1990            1             0              0  \n",
       "...    ...     ...          ...           ...            ...  \n",
       "3878  2000    2000            1             0              0  \n",
       "3879  2000    2000            0             0              0  \n",
       "3880  2000    2000            0             0              0  \n",
       "3881  2000    2000            0             0              0  \n",
       "3882  2000    2000            0             0              0  \n",
       "\n",
       "[3883 rows x 8 columns]"
      ]
     },
     "execution_count": 110,
     "metadata": {},
     "output_type": "execute_result"
    }
   ],
   "source": [
    "movies"
   ]
  },
  {
   "cell_type": "code",
   "execution_count": 111,
   "metadata": {
    "ExecuteTime": {
     "end_time": "2021-08-18T18:00:58.954923Z",
     "start_time": "2021-08-18T18:00:58.873486Z"
    }
   },
   "outputs": [],
   "source": [
    "# Carreguem un altre dataset amb películes a neflix\n",
    "netflix = pd.read_csv('netflix_titles.csv')"
   ]
  },
  {
   "cell_type": "code",
   "execution_count": 112,
   "metadata": {
    "ExecuteTime": {
     "end_time": "2021-08-18T18:01:00.291827Z",
     "start_time": "2021-08-18T18:01:00.270054Z"
    }
   },
   "outputs": [
    {
     "data": {
      "text/html": [
       "<div>\n",
       "<style scoped>\n",
       "    .dataframe tbody tr th:only-of-type {\n",
       "        vertical-align: middle;\n",
       "    }\n",
       "\n",
       "    .dataframe tbody tr th {\n",
       "        vertical-align: top;\n",
       "    }\n",
       "\n",
       "    .dataframe thead th {\n",
       "        text-align: right;\n",
       "    }\n",
       "</style>\n",
       "<table border=\"1\" class=\"dataframe\">\n",
       "  <thead>\n",
       "    <tr style=\"text-align: right;\">\n",
       "      <th></th>\n",
       "      <th>show_id</th>\n",
       "      <th>type</th>\n",
       "      <th>title</th>\n",
       "      <th>director</th>\n",
       "      <th>cast</th>\n",
       "      <th>country</th>\n",
       "      <th>date_added</th>\n",
       "      <th>release_year</th>\n",
       "      <th>rating</th>\n",
       "      <th>duration</th>\n",
       "      <th>listed_in</th>\n",
       "      <th>description</th>\n",
       "    </tr>\n",
       "  </thead>\n",
       "  <tbody>\n",
       "    <tr>\n",
       "      <th>0</th>\n",
       "      <td>s1</td>\n",
       "      <td>TV Show</td>\n",
       "      <td>3%</td>\n",
       "      <td>NaN</td>\n",
       "      <td>João Miguel, Bianca Comparato, Michel Gomes, R...</td>\n",
       "      <td>Brazil</td>\n",
       "      <td>August 14, 2020</td>\n",
       "      <td>2020</td>\n",
       "      <td>TV-MA</td>\n",
       "      <td>4 Seasons</td>\n",
       "      <td>International TV Shows, TV Dramas, TV Sci-Fi &amp;...</td>\n",
       "      <td>In a future where the elite inhabit an island ...</td>\n",
       "    </tr>\n",
       "    <tr>\n",
       "      <th>1</th>\n",
       "      <td>s2</td>\n",
       "      <td>Movie</td>\n",
       "      <td>7:19</td>\n",
       "      <td>Jorge Michel Grau</td>\n",
       "      <td>Demián Bichir, Héctor Bonilla, Oscar Serrano, ...</td>\n",
       "      <td>Mexico</td>\n",
       "      <td>December 23, 2016</td>\n",
       "      <td>2016</td>\n",
       "      <td>TV-MA</td>\n",
       "      <td>93 min</td>\n",
       "      <td>Dramas, International Movies</td>\n",
       "      <td>After a devastating earthquake hits Mexico Cit...</td>\n",
       "    </tr>\n",
       "    <tr>\n",
       "      <th>2</th>\n",
       "      <td>s3</td>\n",
       "      <td>Movie</td>\n",
       "      <td>23:59</td>\n",
       "      <td>Gilbert Chan</td>\n",
       "      <td>Tedd Chan, Stella Chung, Henley Hii, Lawrence ...</td>\n",
       "      <td>Singapore</td>\n",
       "      <td>December 20, 2018</td>\n",
       "      <td>2011</td>\n",
       "      <td>R</td>\n",
       "      <td>78 min</td>\n",
       "      <td>Horror Movies, International Movies</td>\n",
       "      <td>When an army recruit is found dead, his fellow...</td>\n",
       "    </tr>\n",
       "    <tr>\n",
       "      <th>3</th>\n",
       "      <td>s4</td>\n",
       "      <td>Movie</td>\n",
       "      <td>9</td>\n",
       "      <td>Shane Acker</td>\n",
       "      <td>Elijah Wood, John C. Reilly, Jennifer Connelly...</td>\n",
       "      <td>United States</td>\n",
       "      <td>November 16, 2017</td>\n",
       "      <td>2009</td>\n",
       "      <td>PG-13</td>\n",
       "      <td>80 min</td>\n",
       "      <td>Action &amp; Adventure, Independent Movies, Sci-Fi...</td>\n",
       "      <td>In a postapocalyptic world, rag-doll robots hi...</td>\n",
       "    </tr>\n",
       "    <tr>\n",
       "      <th>4</th>\n",
       "      <td>s5</td>\n",
       "      <td>Movie</td>\n",
       "      <td>21</td>\n",
       "      <td>Robert Luketic</td>\n",
       "      <td>Jim Sturgess, Kevin Spacey, Kate Bosworth, Aar...</td>\n",
       "      <td>United States</td>\n",
       "      <td>January 1, 2020</td>\n",
       "      <td>2008</td>\n",
       "      <td>PG-13</td>\n",
       "      <td>123 min</td>\n",
       "      <td>Dramas</td>\n",
       "      <td>A brilliant group of students become card-coun...</td>\n",
       "    </tr>\n",
       "  </tbody>\n",
       "</table>\n",
       "</div>"
      ],
      "text/plain": [
       "  show_id     type  title           director  \\\n",
       "0      s1  TV Show     3%                NaN   \n",
       "1      s2    Movie   7:19  Jorge Michel Grau   \n",
       "2      s3    Movie  23:59       Gilbert Chan   \n",
       "3      s4    Movie      9        Shane Acker   \n",
       "4      s5    Movie     21     Robert Luketic   \n",
       "\n",
       "                                                cast        country  \\\n",
       "0  João Miguel, Bianca Comparato, Michel Gomes, R...         Brazil   \n",
       "1  Demián Bichir, Héctor Bonilla, Oscar Serrano, ...         Mexico   \n",
       "2  Tedd Chan, Stella Chung, Henley Hii, Lawrence ...      Singapore   \n",
       "3  Elijah Wood, John C. Reilly, Jennifer Connelly...  United States   \n",
       "4  Jim Sturgess, Kevin Spacey, Kate Bosworth, Aar...  United States   \n",
       "\n",
       "          date_added  release_year rating   duration  \\\n",
       "0    August 14, 2020          2020  TV-MA  4 Seasons   \n",
       "1  December 23, 2016          2016  TV-MA     93 min   \n",
       "2  December 20, 2018          2011      R     78 min   \n",
       "3  November 16, 2017          2009  PG-13     80 min   \n",
       "4    January 1, 2020          2008  PG-13    123 min   \n",
       "\n",
       "                                           listed_in  \\\n",
       "0  International TV Shows, TV Dramas, TV Sci-Fi &...   \n",
       "1                       Dramas, International Movies   \n",
       "2                Horror Movies, International Movies   \n",
       "3  Action & Adventure, Independent Movies, Sci-Fi...   \n",
       "4                                             Dramas   \n",
       "\n",
       "                                         description  \n",
       "0  In a future where the elite inhabit an island ...  \n",
       "1  After a devastating earthquake hits Mexico Cit...  \n",
       "2  When an army recruit is found dead, his fellow...  \n",
       "3  In a postapocalyptic world, rag-doll robots hi...  \n",
       "4  A brilliant group of students become card-coun...  "
      ]
     },
     "execution_count": 112,
     "metadata": {},
     "output_type": "execute_result"
    }
   ],
   "source": [
    "netflix.head()"
   ]
  },
  {
   "cell_type": "code",
   "execution_count": 113,
   "metadata": {
    "ExecuteTime": {
     "end_time": "2021-08-18T18:01:01.668251Z",
     "start_time": "2021-08-18T18:01:01.644699Z"
    }
   },
   "outputs": [],
   "source": [
    "#Creem un nou dataframe amb les películes que son al nostre csv i a Netflix. Així tenim més columnes per fer plots.\n",
    "mergedStuff = pd.merge(movies, netflix, on=['title'], how='inner')"
   ]
  },
  {
   "cell_type": "code",
   "execution_count": 114,
   "metadata": {
    "ExecuteTime": {
     "end_time": "2021-08-18T18:01:03.008861Z",
     "start_time": "2021-08-18T18:01:02.971842Z"
    }
   },
   "outputs": [
    {
     "data": {
      "text/html": [
       "<div>\n",
       "<style scoped>\n",
       "    .dataframe tbody tr th:only-of-type {\n",
       "        vertical-align: middle;\n",
       "    }\n",
       "\n",
       "    .dataframe tbody tr th {\n",
       "        vertical-align: top;\n",
       "    }\n",
       "\n",
       "    .dataframe thead th {\n",
       "        text-align: right;\n",
       "    }\n",
       "</style>\n",
       "<table border=\"1\" class=\"dataframe\">\n",
       "  <thead>\n",
       "    <tr style=\"text-align: right;\">\n",
       "      <th></th>\n",
       "      <th>movie_id</th>\n",
       "      <th>title</th>\n",
       "      <th>genero</th>\n",
       "      <th>anyo</th>\n",
       "      <th>decada</th>\n",
       "      <th>gen_comedia</th>\n",
       "      <th>gen_infantil</th>\n",
       "      <th>gen_animacion</th>\n",
       "      <th>show_id</th>\n",
       "      <th>type</th>\n",
       "      <th>director</th>\n",
       "      <th>cast</th>\n",
       "      <th>country</th>\n",
       "      <th>date_added</th>\n",
       "      <th>release_year</th>\n",
       "      <th>rating</th>\n",
       "      <th>duration</th>\n",
       "      <th>listed_in</th>\n",
       "      <th>description</th>\n",
       "    </tr>\n",
       "  </thead>\n",
       "  <tbody>\n",
       "    <tr>\n",
       "      <th>0</th>\n",
       "      <td>7</td>\n",
       "      <td>Sabrina</td>\n",
       "      <td>Comedy|Romance</td>\n",
       "      <td>1995</td>\n",
       "      <td>1990</td>\n",
       "      <td>1</td>\n",
       "      <td>0</td>\n",
       "      <td>0</td>\n",
       "      <td>s5331</td>\n",
       "      <td>Movie</td>\n",
       "      <td>Rocky Soraya</td>\n",
       "      <td>Luna Maya, Christian Sugiono, Sara Wijayanto, ...</td>\n",
       "      <td>Indonesia</td>\n",
       "      <td>November 20, 2018</td>\n",
       "      <td>2018</td>\n",
       "      <td>TV-MA</td>\n",
       "      <td>114 min</td>\n",
       "      <td>Horror Movies, International Movies</td>\n",
       "      <td>A toy manufacturer and his wife are terrorized...</td>\n",
       "    </tr>\n",
       "    <tr>\n",
       "      <th>1</th>\n",
       "      <td>915</td>\n",
       "      <td>Sabrina</td>\n",
       "      <td>Comedy|Romance</td>\n",
       "      <td>1954</td>\n",
       "      <td>1950</td>\n",
       "      <td>1</td>\n",
       "      <td>0</td>\n",
       "      <td>0</td>\n",
       "      <td>s5331</td>\n",
       "      <td>Movie</td>\n",
       "      <td>Rocky Soraya</td>\n",
       "      <td>Luna Maya, Christian Sugiono, Sara Wijayanto, ...</td>\n",
       "      <td>Indonesia</td>\n",
       "      <td>November 20, 2018</td>\n",
       "      <td>2018</td>\n",
       "      <td>TV-MA</td>\n",
       "      <td>114 min</td>\n",
       "      <td>Horror Movies, International Movies</td>\n",
       "      <td>A toy manufacturer and his wife are terrorized...</td>\n",
       "    </tr>\n",
       "    <tr>\n",
       "      <th>2</th>\n",
       "      <td>10</td>\n",
       "      <td>GoldenEye</td>\n",
       "      <td>Action|Adventure|Thriller</td>\n",
       "      <td>1995</td>\n",
       "      <td>1990</td>\n",
       "      <td>0</td>\n",
       "      <td>0</td>\n",
       "      <td>0</td>\n",
       "      <td>s2466</td>\n",
       "      <td>Movie</td>\n",
       "      <td>Martin Campbell</td>\n",
       "      <td>Pierce Brosnan, Sean Bean, Izabella Scorupco, ...</td>\n",
       "      <td>United Kingdom, United States</td>\n",
       "      <td>December 31, 2019</td>\n",
       "      <td>1995</td>\n",
       "      <td>PG-13</td>\n",
       "      <td>130 min</td>\n",
       "      <td>Action &amp; Adventure</td>\n",
       "      <td>Pierce Brosnan takes his first turn as debonai...</td>\n",
       "    </tr>\n",
       "    <tr>\n",
       "      <th>3</th>\n",
       "      <td>13</td>\n",
       "      <td>Balto</td>\n",
       "      <td>Animation|Children's</td>\n",
       "      <td>1995</td>\n",
       "      <td>1990</td>\n",
       "      <td>0</td>\n",
       "      <td>1</td>\n",
       "      <td>1</td>\n",
       "      <td>s709</td>\n",
       "      <td>Movie</td>\n",
       "      <td>Simon Wells</td>\n",
       "      <td>Kevin Bacon, Bob Hoskins, Bridget Fonda, Jim C...</td>\n",
       "      <td>United States</td>\n",
       "      <td>April 1, 2018</td>\n",
       "      <td>1995</td>\n",
       "      <td>G</td>\n",
       "      <td>78 min</td>\n",
       "      <td>Children &amp; Family Movies, Dramas</td>\n",
       "      <td>Balto, who is half wolf and half dog, endures ...</td>\n",
       "    </tr>\n",
       "    <tr>\n",
       "      <th>4</th>\n",
       "      <td>21</td>\n",
       "      <td>Get Shorty</td>\n",
       "      <td>Action|Comedy|Drama</td>\n",
       "      <td>1995</td>\n",
       "      <td>1990</td>\n",
       "      <td>1</td>\n",
       "      <td>0</td>\n",
       "      <td>0</td>\n",
       "      <td>s2388</td>\n",
       "      <td>TV Show</td>\n",
       "      <td>NaN</td>\n",
       "      <td>Ray Romano, Chris O'Dowd</td>\n",
       "      <td>United States</td>\n",
       "      <td>November 1, 2018</td>\n",
       "      <td>2017</td>\n",
       "      <td>TV-MA</td>\n",
       "      <td>1 Season</td>\n",
       "      <td>Crime TV Shows, TV Comedies, TV Dramas</td>\n",
       "      <td>Organized crime enforcer Miles Daly strives to...</td>\n",
       "    </tr>\n",
       "    <tr>\n",
       "      <th>...</th>\n",
       "      <td>...</td>\n",
       "      <td>...</td>\n",
       "      <td>...</td>\n",
       "      <td>...</td>\n",
       "      <td>...</td>\n",
       "      <td>...</td>\n",
       "      <td>...</td>\n",
       "      <td>...</td>\n",
       "      <td>...</td>\n",
       "      <td>...</td>\n",
       "      <td>...</td>\n",
       "      <td>...</td>\n",
       "      <td>...</td>\n",
       "      <td>...</td>\n",
       "      <td>...</td>\n",
       "      <td>...</td>\n",
       "      <td>...</td>\n",
       "      <td>...</td>\n",
       "      <td>...</td>\n",
       "    </tr>\n",
       "    <tr>\n",
       "      <th>191</th>\n",
       "      <td>3702</td>\n",
       "      <td>Mad Max</td>\n",
       "      <td>Action|Sci-Fi</td>\n",
       "      <td>1979</td>\n",
       "      <td>1970</td>\n",
       "      <td>0</td>\n",
       "      <td>0</td>\n",
       "      <td>0</td>\n",
       "      <td>s3838</td>\n",
       "      <td>Movie</td>\n",
       "      <td>George Miller</td>\n",
       "      <td>Mel Gibson, Joanne Samuel, Hugh Keays-Byrne, S...</td>\n",
       "      <td>Australia, United States</td>\n",
       "      <td>August 1, 2020</td>\n",
       "      <td>1979</td>\n",
       "      <td>R</td>\n",
       "      <td>93 min</td>\n",
       "      <td>Action &amp; Adventure, Classic Movies, Cult Movies</td>\n",
       "      <td>In a post-apocalyptic future, a malicious gang...</td>\n",
       "    </tr>\n",
       "    <tr>\n",
       "      <th>192</th>\n",
       "      <td>3785</td>\n",
       "      <td>Scary Movie</td>\n",
       "      <td>Comedy|Horror</td>\n",
       "      <td>2000</td>\n",
       "      <td>2000</td>\n",
       "      <td>1</td>\n",
       "      <td>0</td>\n",
       "      <td>0</td>\n",
       "      <td>s5429</td>\n",
       "      <td>Movie</td>\n",
       "      <td>Keenen Ivory Wayans</td>\n",
       "      <td>Anna Faris, Jon Abrahams, Shannon Elizabeth, S...</td>\n",
       "      <td>United States</td>\n",
       "      <td>January 1, 2020</td>\n",
       "      <td>2000</td>\n",
       "      <td>R</td>\n",
       "      <td>88 min</td>\n",
       "      <td>Comedies, Horror Movies</td>\n",
       "      <td>The Wayans brothers spoof some of Hollywood's ...</td>\n",
       "    </tr>\n",
       "    <tr>\n",
       "      <th>193</th>\n",
       "      <td>3798</td>\n",
       "      <td>What Lies Beneath</td>\n",
       "      <td>Thriller</td>\n",
       "      <td>2000</td>\n",
       "      <td>2000</td>\n",
       "      <td>0</td>\n",
       "      <td>0</td>\n",
       "      <td>0</td>\n",
       "      <td>s7559</td>\n",
       "      <td>Movie</td>\n",
       "      <td>Robert Zemeckis</td>\n",
       "      <td>Harrison Ford, Michelle Pfeiffer, Diana Scarwi...</td>\n",
       "      <td>United States</td>\n",
       "      <td>January 1, 2020</td>\n",
       "      <td>2000</td>\n",
       "      <td>PG-13</td>\n",
       "      <td>130 min</td>\n",
       "      <td>Horror Movies, Thrillers</td>\n",
       "      <td>When Claire Spencer starts hearing ghostly voi...</td>\n",
       "    </tr>\n",
       "    <tr>\n",
       "      <th>194</th>\n",
       "      <td>3827</td>\n",
       "      <td>Space Cowboys</td>\n",
       "      <td>Action|Sci-Fi</td>\n",
       "      <td>2000</td>\n",
       "      <td>2000</td>\n",
       "      <td>0</td>\n",
       "      <td>0</td>\n",
       "      <td>0</td>\n",
       "      <td>s5733</td>\n",
       "      <td>Movie</td>\n",
       "      <td>Clint Eastwood</td>\n",
       "      <td>Clint Eastwood, Tommy Lee Jones, Donald Suther...</td>\n",
       "      <td>United States</td>\n",
       "      <td>August 1, 2019</td>\n",
       "      <td>2000</td>\n",
       "      <td>PG-13</td>\n",
       "      <td>130 min</td>\n",
       "      <td>Action &amp; Adventure, Dramas, Sci-Fi &amp; Fantasy</td>\n",
       "      <td>A retired engineer agrees to help NASA prevent...</td>\n",
       "    </tr>\n",
       "    <tr>\n",
       "      <th>195</th>\n",
       "      <td>3877</td>\n",
       "      <td>Supergirl</td>\n",
       "      <td>Action|Adventure|Fantasy</td>\n",
       "      <td>1984</td>\n",
       "      <td>1980</td>\n",
       "      <td>0</td>\n",
       "      <td>0</td>\n",
       "      <td>0</td>\n",
       "      <td>s5909</td>\n",
       "      <td>TV Show</td>\n",
       "      <td>Jesse Warn</td>\n",
       "      <td>Melissa Benoist, Mehcad Brooks, Chyler Leigh, ...</td>\n",
       "      <td>United States</td>\n",
       "      <td>May 25, 2020</td>\n",
       "      <td>2019</td>\n",
       "      <td>TV-14</td>\n",
       "      <td>5 Seasons</td>\n",
       "      <td>TV Action &amp; Adventure, TV Sci-Fi &amp; Fantasy</td>\n",
       "      <td>To avert a disaster, Kara Danvers reveals her ...</td>\n",
       "    </tr>\n",
       "  </tbody>\n",
       "</table>\n",
       "<p>196 rows × 19 columns</p>\n",
       "</div>"
      ],
      "text/plain": [
       "     movie_id              title                     genero  anyo  decada  \\\n",
       "0           7            Sabrina             Comedy|Romance  1995    1990   \n",
       "1         915            Sabrina             Comedy|Romance  1954    1950   \n",
       "2          10          GoldenEye  Action|Adventure|Thriller  1995    1990   \n",
       "3          13              Balto       Animation|Children's  1995    1990   \n",
       "4          21         Get Shorty        Action|Comedy|Drama  1995    1990   \n",
       "..        ...                ...                        ...   ...     ...   \n",
       "191      3702            Mad Max              Action|Sci-Fi  1979    1970   \n",
       "192      3785        Scary Movie              Comedy|Horror  2000    2000   \n",
       "193      3798  What Lies Beneath                   Thriller  2000    2000   \n",
       "194      3827      Space Cowboys              Action|Sci-Fi  2000    2000   \n",
       "195      3877          Supergirl   Action|Adventure|Fantasy  1984    1980   \n",
       "\n",
       "     gen_comedia  gen_infantil  gen_animacion show_id     type  \\\n",
       "0              1             0              0   s5331    Movie   \n",
       "1              1             0              0   s5331    Movie   \n",
       "2              0             0              0   s2466    Movie   \n",
       "3              0             1              1    s709    Movie   \n",
       "4              1             0              0   s2388  TV Show   \n",
       "..           ...           ...            ...     ...      ...   \n",
       "191            0             0              0   s3838    Movie   \n",
       "192            1             0              0   s5429    Movie   \n",
       "193            0             0              0   s7559    Movie   \n",
       "194            0             0              0   s5733    Movie   \n",
       "195            0             0              0   s5909  TV Show   \n",
       "\n",
       "                director                                               cast  \\\n",
       "0           Rocky Soraya  Luna Maya, Christian Sugiono, Sara Wijayanto, ...   \n",
       "1           Rocky Soraya  Luna Maya, Christian Sugiono, Sara Wijayanto, ...   \n",
       "2        Martin Campbell  Pierce Brosnan, Sean Bean, Izabella Scorupco, ...   \n",
       "3            Simon Wells  Kevin Bacon, Bob Hoskins, Bridget Fonda, Jim C...   \n",
       "4                    NaN                           Ray Romano, Chris O'Dowd   \n",
       "..                   ...                                                ...   \n",
       "191        George Miller  Mel Gibson, Joanne Samuel, Hugh Keays-Byrne, S...   \n",
       "192  Keenen Ivory Wayans  Anna Faris, Jon Abrahams, Shannon Elizabeth, S...   \n",
       "193      Robert Zemeckis  Harrison Ford, Michelle Pfeiffer, Diana Scarwi...   \n",
       "194       Clint Eastwood  Clint Eastwood, Tommy Lee Jones, Donald Suther...   \n",
       "195           Jesse Warn  Melissa Benoist, Mehcad Brooks, Chyler Leigh, ...   \n",
       "\n",
       "                           country         date_added  release_year rating  \\\n",
       "0                        Indonesia  November 20, 2018          2018  TV-MA   \n",
       "1                        Indonesia  November 20, 2018          2018  TV-MA   \n",
       "2    United Kingdom, United States  December 31, 2019          1995  PG-13   \n",
       "3                    United States      April 1, 2018          1995      G   \n",
       "4                    United States   November 1, 2018          2017  TV-MA   \n",
       "..                             ...                ...           ...    ...   \n",
       "191       Australia, United States     August 1, 2020          1979      R   \n",
       "192                  United States    January 1, 2020          2000      R   \n",
       "193                  United States    January 1, 2020          2000  PG-13   \n",
       "194                  United States     August 1, 2019          2000  PG-13   \n",
       "195                  United States       May 25, 2020          2019  TV-14   \n",
       "\n",
       "      duration                                        listed_in  \\\n",
       "0      114 min              Horror Movies, International Movies   \n",
       "1      114 min              Horror Movies, International Movies   \n",
       "2      130 min                               Action & Adventure   \n",
       "3       78 min                 Children & Family Movies, Dramas   \n",
       "4     1 Season           Crime TV Shows, TV Comedies, TV Dramas   \n",
       "..         ...                                              ...   \n",
       "191     93 min  Action & Adventure, Classic Movies, Cult Movies   \n",
       "192     88 min                          Comedies, Horror Movies   \n",
       "193    130 min                         Horror Movies, Thrillers   \n",
       "194    130 min     Action & Adventure, Dramas, Sci-Fi & Fantasy   \n",
       "195  5 Seasons       TV Action & Adventure, TV Sci-Fi & Fantasy   \n",
       "\n",
       "                                           description  \n",
       "0    A toy manufacturer and his wife are terrorized...  \n",
       "1    A toy manufacturer and his wife are terrorized...  \n",
       "2    Pierce Brosnan takes his first turn as debonai...  \n",
       "3    Balto, who is half wolf and half dog, endures ...  \n",
       "4    Organized crime enforcer Miles Daly strives to...  \n",
       "..                                                 ...  \n",
       "191  In a post-apocalyptic future, a malicious gang...  \n",
       "192  The Wayans brothers spoof some of Hollywood's ...  \n",
       "193  When Claire Spencer starts hearing ghostly voi...  \n",
       "194  A retired engineer agrees to help NASA prevent...  \n",
       "195  To avert a disaster, Kara Danvers reveals her ...  \n",
       "\n",
       "[196 rows x 19 columns]"
      ]
     },
     "execution_count": 114,
     "metadata": {},
     "output_type": "execute_result"
    }
   ],
   "source": [
    "mergedStuff"
   ]
  },
  {
   "cell_type": "code",
   "execution_count": 115,
   "metadata": {
    "ExecuteTime": {
     "end_time": "2021-08-18T18:01:05.185917Z",
     "start_time": "2021-08-18T18:01:05.178019Z"
    }
   },
   "outputs": [],
   "source": [
    "#Funció per descobrir la durada de les series. Asumint que cada temporada te 10 capítols de 40 minuts.\n",
    "\n",
    "def transform_to_mins(x):\n",
    "    if x[-6:] == 'Season':\n",
    "        return int(x[0:-6])*10*40\n",
    "    elif x[-7:] == 'Seasons':\n",
    "        return int(x[0:-7])*10*40\n",
    "    else:\n",
    "        return int(x[0:-4])"
   ]
  },
  {
   "cell_type": "code",
   "execution_count": 116,
   "metadata": {
    "ExecuteTime": {
     "end_time": "2021-08-18T18:01:06.541857Z",
     "start_time": "2021-08-18T18:01:06.533308Z"
    }
   },
   "outputs": [],
   "source": [
    "mergedStuff['duration'] = mergedStuff['duration'].apply(transform_to_mins)\n",
    "mergedStuff = mergedStuff.rename(columns={'duration': 'duration_min'})"
   ]
  },
  {
   "cell_type": "code",
   "execution_count": 165,
   "metadata": {
    "ExecuteTime": {
     "end_time": "2021-08-18T18:20:20.847750Z",
     "start_time": "2021-08-18T18:20:20.839941Z"
    }
   },
   "outputs": [],
   "source": [
    "mergedStuff['Num_actors'] = mergedStuff.cast.str.count(',')+1\n",
    "mergedStuff['Num_paisos'] = mergedStuff.country.str.count(',')+1"
   ]
  },
  {
   "cell_type": "code",
   "execution_count": 157,
   "metadata": {
    "ExecuteTime": {
     "end_time": "2021-08-18T18:19:34.142174Z",
     "start_time": "2021-08-18T18:19:34.090961Z"
    }
   },
   "outputs": [
    {
     "data": {
      "text/html": [
       "<div>\n",
       "<style scoped>\n",
       "    .dataframe tbody tr th:only-of-type {\n",
       "        vertical-align: middle;\n",
       "    }\n",
       "\n",
       "    .dataframe tbody tr th {\n",
       "        vertical-align: top;\n",
       "    }\n",
       "\n",
       "    .dataframe thead th {\n",
       "        text-align: right;\n",
       "    }\n",
       "</style>\n",
       "<table border=\"1\" class=\"dataframe\">\n",
       "  <thead>\n",
       "    <tr style=\"text-align: right;\">\n",
       "      <th></th>\n",
       "      <th>movie_id</th>\n",
       "      <th>title</th>\n",
       "      <th>genero</th>\n",
       "      <th>anyo</th>\n",
       "      <th>decada</th>\n",
       "      <th>gen_comedia</th>\n",
       "      <th>gen_infantil</th>\n",
       "      <th>gen_animacion</th>\n",
       "      <th>show_id</th>\n",
       "      <th>type</th>\n",
       "      <th>...</th>\n",
       "      <th>cast</th>\n",
       "      <th>country</th>\n",
       "      <th>date_added</th>\n",
       "      <th>release_year</th>\n",
       "      <th>rating</th>\n",
       "      <th>duration_min</th>\n",
       "      <th>listed_in</th>\n",
       "      <th>description</th>\n",
       "      <th>Num_actors</th>\n",
       "      <th>Num_paisos</th>\n",
       "    </tr>\n",
       "  </thead>\n",
       "  <tbody>\n",
       "    <tr>\n",
       "      <th>0</th>\n",
       "      <td>7</td>\n",
       "      <td>Sabrina</td>\n",
       "      <td>Comedy|Romance</td>\n",
       "      <td>1995</td>\n",
       "      <td>1990</td>\n",
       "      <td>1</td>\n",
       "      <td>0</td>\n",
       "      <td>0</td>\n",
       "      <td>s5331</td>\n",
       "      <td>Movie</td>\n",
       "      <td>...</td>\n",
       "      <td>Luna Maya, Christian Sugiono, Sara Wijayanto, ...</td>\n",
       "      <td>Indonesia</td>\n",
       "      <td>November 20, 2018</td>\n",
       "      <td>2018</td>\n",
       "      <td>TV-MA</td>\n",
       "      <td>114</td>\n",
       "      <td>Horror Movies, International Movies</td>\n",
       "      <td>A toy manufacturer and his wife are terrorized...</td>\n",
       "      <td>7.0</td>\n",
       "      <td>1.0</td>\n",
       "    </tr>\n",
       "    <tr>\n",
       "      <th>1</th>\n",
       "      <td>915</td>\n",
       "      <td>Sabrina</td>\n",
       "      <td>Comedy|Romance</td>\n",
       "      <td>1954</td>\n",
       "      <td>1950</td>\n",
       "      <td>1</td>\n",
       "      <td>0</td>\n",
       "      <td>0</td>\n",
       "      <td>s5331</td>\n",
       "      <td>Movie</td>\n",
       "      <td>...</td>\n",
       "      <td>Luna Maya, Christian Sugiono, Sara Wijayanto, ...</td>\n",
       "      <td>Indonesia</td>\n",
       "      <td>November 20, 2018</td>\n",
       "      <td>2018</td>\n",
       "      <td>TV-MA</td>\n",
       "      <td>114</td>\n",
       "      <td>Horror Movies, International Movies</td>\n",
       "      <td>A toy manufacturer and his wife are terrorized...</td>\n",
       "      <td>7.0</td>\n",
       "      <td>1.0</td>\n",
       "    </tr>\n",
       "    <tr>\n",
       "      <th>2</th>\n",
       "      <td>10</td>\n",
       "      <td>GoldenEye</td>\n",
       "      <td>Action|Adventure|Thriller</td>\n",
       "      <td>1995</td>\n",
       "      <td>1990</td>\n",
       "      <td>0</td>\n",
       "      <td>0</td>\n",
       "      <td>0</td>\n",
       "      <td>s2466</td>\n",
       "      <td>Movie</td>\n",
       "      <td>...</td>\n",
       "      <td>Pierce Brosnan, Sean Bean, Izabella Scorupco, ...</td>\n",
       "      <td>United Kingdom, United States</td>\n",
       "      <td>December 31, 2019</td>\n",
       "      <td>1995</td>\n",
       "      <td>PG-13</td>\n",
       "      <td>130</td>\n",
       "      <td>Action &amp; Adventure</td>\n",
       "      <td>Pierce Brosnan takes his first turn as debonai...</td>\n",
       "      <td>15.0</td>\n",
       "      <td>2.0</td>\n",
       "    </tr>\n",
       "    <tr>\n",
       "      <th>3</th>\n",
       "      <td>13</td>\n",
       "      <td>Balto</td>\n",
       "      <td>Animation|Children's</td>\n",
       "      <td>1995</td>\n",
       "      <td>1990</td>\n",
       "      <td>0</td>\n",
       "      <td>1</td>\n",
       "      <td>1</td>\n",
       "      <td>s709</td>\n",
       "      <td>Movie</td>\n",
       "      <td>...</td>\n",
       "      <td>Kevin Bacon, Bob Hoskins, Bridget Fonda, Jim C...</td>\n",
       "      <td>United States</td>\n",
       "      <td>April 1, 2018</td>\n",
       "      <td>1995</td>\n",
       "      <td>G</td>\n",
       "      <td>78</td>\n",
       "      <td>Children &amp; Family Movies, Dramas</td>\n",
       "      <td>Balto, who is half wolf and half dog, endures ...</td>\n",
       "      <td>8.0</td>\n",
       "      <td>1.0</td>\n",
       "    </tr>\n",
       "    <tr>\n",
       "      <th>4</th>\n",
       "      <td>21</td>\n",
       "      <td>Get Shorty</td>\n",
       "      <td>Action|Comedy|Drama</td>\n",
       "      <td>1995</td>\n",
       "      <td>1990</td>\n",
       "      <td>1</td>\n",
       "      <td>0</td>\n",
       "      <td>0</td>\n",
       "      <td>s2388</td>\n",
       "      <td>TV Show</td>\n",
       "      <td>...</td>\n",
       "      <td>Ray Romano, Chris O'Dowd</td>\n",
       "      <td>United States</td>\n",
       "      <td>November 1, 2018</td>\n",
       "      <td>2017</td>\n",
       "      <td>TV-MA</td>\n",
       "      <td>400</td>\n",
       "      <td>Crime TV Shows, TV Comedies, TV Dramas</td>\n",
       "      <td>Organized crime enforcer Miles Daly strives to...</td>\n",
       "      <td>2.0</td>\n",
       "      <td>1.0</td>\n",
       "    </tr>\n",
       "    <tr>\n",
       "      <th>...</th>\n",
       "      <td>...</td>\n",
       "      <td>...</td>\n",
       "      <td>...</td>\n",
       "      <td>...</td>\n",
       "      <td>...</td>\n",
       "      <td>...</td>\n",
       "      <td>...</td>\n",
       "      <td>...</td>\n",
       "      <td>...</td>\n",
       "      <td>...</td>\n",
       "      <td>...</td>\n",
       "      <td>...</td>\n",
       "      <td>...</td>\n",
       "      <td>...</td>\n",
       "      <td>...</td>\n",
       "      <td>...</td>\n",
       "      <td>...</td>\n",
       "      <td>...</td>\n",
       "      <td>...</td>\n",
       "      <td>...</td>\n",
       "      <td>...</td>\n",
       "    </tr>\n",
       "    <tr>\n",
       "      <th>191</th>\n",
       "      <td>3702</td>\n",
       "      <td>Mad Max</td>\n",
       "      <td>Action|Sci-Fi</td>\n",
       "      <td>1979</td>\n",
       "      <td>1970</td>\n",
       "      <td>0</td>\n",
       "      <td>0</td>\n",
       "      <td>0</td>\n",
       "      <td>s3838</td>\n",
       "      <td>Movie</td>\n",
       "      <td>...</td>\n",
       "      <td>Mel Gibson, Joanne Samuel, Hugh Keays-Byrne, S...</td>\n",
       "      <td>Australia, United States</td>\n",
       "      <td>August 1, 2020</td>\n",
       "      <td>1979</td>\n",
       "      <td>R</td>\n",
       "      <td>93</td>\n",
       "      <td>Action &amp; Adventure, Classic Movies, Cult Movies</td>\n",
       "      <td>In a post-apocalyptic future, a malicious gang...</td>\n",
       "      <td>8.0</td>\n",
       "      <td>2.0</td>\n",
       "    </tr>\n",
       "    <tr>\n",
       "      <th>192</th>\n",
       "      <td>3785</td>\n",
       "      <td>Scary Movie</td>\n",
       "      <td>Comedy|Horror</td>\n",
       "      <td>2000</td>\n",
       "      <td>2000</td>\n",
       "      <td>1</td>\n",
       "      <td>0</td>\n",
       "      <td>0</td>\n",
       "      <td>s5429</td>\n",
       "      <td>Movie</td>\n",
       "      <td>...</td>\n",
       "      <td>Anna Faris, Jon Abrahams, Shannon Elizabeth, S...</td>\n",
       "      <td>United States</td>\n",
       "      <td>January 1, 2020</td>\n",
       "      <td>2000</td>\n",
       "      <td>R</td>\n",
       "      <td>88</td>\n",
       "      <td>Comedies, Horror Movies</td>\n",
       "      <td>The Wayans brothers spoof some of Hollywood's ...</td>\n",
       "      <td>16.0</td>\n",
       "      <td>1.0</td>\n",
       "    </tr>\n",
       "    <tr>\n",
       "      <th>193</th>\n",
       "      <td>3798</td>\n",
       "      <td>What Lies Beneath</td>\n",
       "      <td>Thriller</td>\n",
       "      <td>2000</td>\n",
       "      <td>2000</td>\n",
       "      <td>0</td>\n",
       "      <td>0</td>\n",
       "      <td>0</td>\n",
       "      <td>s7559</td>\n",
       "      <td>Movie</td>\n",
       "      <td>...</td>\n",
       "      <td>Harrison Ford, Michelle Pfeiffer, Diana Scarwi...</td>\n",
       "      <td>United States</td>\n",
       "      <td>January 1, 2020</td>\n",
       "      <td>2000</td>\n",
       "      <td>PG-13</td>\n",
       "      <td>130</td>\n",
       "      <td>Horror Movies, Thrillers</td>\n",
       "      <td>When Claire Spencer starts hearing ghostly voi...</td>\n",
       "      <td>11.0</td>\n",
       "      <td>1.0</td>\n",
       "    </tr>\n",
       "    <tr>\n",
       "      <th>194</th>\n",
       "      <td>3827</td>\n",
       "      <td>Space Cowboys</td>\n",
       "      <td>Action|Sci-Fi</td>\n",
       "      <td>2000</td>\n",
       "      <td>2000</td>\n",
       "      <td>0</td>\n",
       "      <td>0</td>\n",
       "      <td>0</td>\n",
       "      <td>s5733</td>\n",
       "      <td>Movie</td>\n",
       "      <td>...</td>\n",
       "      <td>Clint Eastwood, Tommy Lee Jones, Donald Suther...</td>\n",
       "      <td>United States</td>\n",
       "      <td>August 1, 2019</td>\n",
       "      <td>2000</td>\n",
       "      <td>PG-13</td>\n",
       "      <td>130</td>\n",
       "      <td>Action &amp; Adventure, Dramas, Sci-Fi &amp; Fantasy</td>\n",
       "      <td>A retired engineer agrees to help NASA prevent...</td>\n",
       "      <td>12.0</td>\n",
       "      <td>1.0</td>\n",
       "    </tr>\n",
       "    <tr>\n",
       "      <th>195</th>\n",
       "      <td>3877</td>\n",
       "      <td>Supergirl</td>\n",
       "      <td>Action|Adventure|Fantasy</td>\n",
       "      <td>1984</td>\n",
       "      <td>1980</td>\n",
       "      <td>0</td>\n",
       "      <td>0</td>\n",
       "      <td>0</td>\n",
       "      <td>s5909</td>\n",
       "      <td>TV Show</td>\n",
       "      <td>...</td>\n",
       "      <td>Melissa Benoist, Mehcad Brooks, Chyler Leigh, ...</td>\n",
       "      <td>United States</td>\n",
       "      <td>May 25, 2020</td>\n",
       "      <td>2019</td>\n",
       "      <td>TV-14</td>\n",
       "      <td>2000</td>\n",
       "      <td>TV Action &amp; Adventure, TV Sci-Fi &amp; Fantasy</td>\n",
       "      <td>To avert a disaster, Kara Danvers reveals her ...</td>\n",
       "      <td>13.0</td>\n",
       "      <td>1.0</td>\n",
       "    </tr>\n",
       "  </tbody>\n",
       "</table>\n",
       "<p>196 rows × 21 columns</p>\n",
       "</div>"
      ],
      "text/plain": [
       "     movie_id              title                     genero  anyo  decada  \\\n",
       "0           7            Sabrina             Comedy|Romance  1995    1990   \n",
       "1         915            Sabrina             Comedy|Romance  1954    1950   \n",
       "2          10          GoldenEye  Action|Adventure|Thriller  1995    1990   \n",
       "3          13              Balto       Animation|Children's  1995    1990   \n",
       "4          21         Get Shorty        Action|Comedy|Drama  1995    1990   \n",
       "..        ...                ...                        ...   ...     ...   \n",
       "191      3702            Mad Max              Action|Sci-Fi  1979    1970   \n",
       "192      3785        Scary Movie              Comedy|Horror  2000    2000   \n",
       "193      3798  What Lies Beneath                   Thriller  2000    2000   \n",
       "194      3827      Space Cowboys              Action|Sci-Fi  2000    2000   \n",
       "195      3877          Supergirl   Action|Adventure|Fantasy  1984    1980   \n",
       "\n",
       "     gen_comedia  gen_infantil  gen_animacion show_id     type  ...  \\\n",
       "0              1             0              0   s5331    Movie  ...   \n",
       "1              1             0              0   s5331    Movie  ...   \n",
       "2              0             0              0   s2466    Movie  ...   \n",
       "3              0             1              1    s709    Movie  ...   \n",
       "4              1             0              0   s2388  TV Show  ...   \n",
       "..           ...           ...            ...     ...      ...  ...   \n",
       "191            0             0              0   s3838    Movie  ...   \n",
       "192            1             0              0   s5429    Movie  ...   \n",
       "193            0             0              0   s7559    Movie  ...   \n",
       "194            0             0              0   s5733    Movie  ...   \n",
       "195            0             0              0   s5909  TV Show  ...   \n",
       "\n",
       "                                                  cast  \\\n",
       "0    Luna Maya, Christian Sugiono, Sara Wijayanto, ...   \n",
       "1    Luna Maya, Christian Sugiono, Sara Wijayanto, ...   \n",
       "2    Pierce Brosnan, Sean Bean, Izabella Scorupco, ...   \n",
       "3    Kevin Bacon, Bob Hoskins, Bridget Fonda, Jim C...   \n",
       "4                             Ray Romano, Chris O'Dowd   \n",
       "..                                                 ...   \n",
       "191  Mel Gibson, Joanne Samuel, Hugh Keays-Byrne, S...   \n",
       "192  Anna Faris, Jon Abrahams, Shannon Elizabeth, S...   \n",
       "193  Harrison Ford, Michelle Pfeiffer, Diana Scarwi...   \n",
       "194  Clint Eastwood, Tommy Lee Jones, Donald Suther...   \n",
       "195  Melissa Benoist, Mehcad Brooks, Chyler Leigh, ...   \n",
       "\n",
       "                           country         date_added release_year  rating  \\\n",
       "0                        Indonesia  November 20, 2018         2018   TV-MA   \n",
       "1                        Indonesia  November 20, 2018         2018   TV-MA   \n",
       "2    United Kingdom, United States  December 31, 2019         1995   PG-13   \n",
       "3                    United States      April 1, 2018         1995       G   \n",
       "4                    United States   November 1, 2018         2017   TV-MA   \n",
       "..                             ...                ...          ...     ...   \n",
       "191       Australia, United States     August 1, 2020         1979       R   \n",
       "192                  United States    January 1, 2020         2000       R   \n",
       "193                  United States    January 1, 2020         2000   PG-13   \n",
       "194                  United States     August 1, 2019         2000   PG-13   \n",
       "195                  United States       May 25, 2020         2019   TV-14   \n",
       "\n",
       "    duration_min                                        listed_in  \\\n",
       "0            114              Horror Movies, International Movies   \n",
       "1            114              Horror Movies, International Movies   \n",
       "2            130                               Action & Adventure   \n",
       "3             78                 Children & Family Movies, Dramas   \n",
       "4            400           Crime TV Shows, TV Comedies, TV Dramas   \n",
       "..           ...                                              ...   \n",
       "191           93  Action & Adventure, Classic Movies, Cult Movies   \n",
       "192           88                          Comedies, Horror Movies   \n",
       "193          130                         Horror Movies, Thrillers   \n",
       "194          130     Action & Adventure, Dramas, Sci-Fi & Fantasy   \n",
       "195         2000       TV Action & Adventure, TV Sci-Fi & Fantasy   \n",
       "\n",
       "                                           description Num_actors  Num_paisos  \n",
       "0    A toy manufacturer and his wife are terrorized...        7.0         1.0  \n",
       "1    A toy manufacturer and his wife are terrorized...        7.0         1.0  \n",
       "2    Pierce Brosnan takes his first turn as debonai...       15.0         2.0  \n",
       "3    Balto, who is half wolf and half dog, endures ...        8.0         1.0  \n",
       "4    Organized crime enforcer Miles Daly strives to...        2.0         1.0  \n",
       "..                                                 ...        ...         ...  \n",
       "191  In a post-apocalyptic future, a malicious gang...        8.0         2.0  \n",
       "192  The Wayans brothers spoof some of Hollywood's ...       16.0         1.0  \n",
       "193  When Claire Spencer starts hearing ghostly voi...       11.0         1.0  \n",
       "194  A retired engineer agrees to help NASA prevent...       12.0         1.0  \n",
       "195  To avert a disaster, Kara Danvers reveals her ...       13.0         1.0  \n",
       "\n",
       "[196 rows x 21 columns]"
      ]
     },
     "execution_count": 157,
     "metadata": {},
     "output_type": "execute_result"
    }
   ],
   "source": [
    "mergedStuff"
   ]
  },
  {
   "cell_type": "code",
   "execution_count": 192,
   "metadata": {
    "ExecuteTime": {
     "end_time": "2021-08-18T18:35:44.775253Z",
     "start_time": "2021-08-18T18:35:44.763658Z"
    }
   },
   "outputs": [
    {
     "data": {
      "text/plain": [
       "R        62\n",
       "PG-13    38\n",
       "TV-MA    31\n",
       "PG       25\n",
       "TV-14    18\n",
       "G         8\n",
       "TV-PG     7\n",
       "NR        3\n",
       "TV-G      2\n",
       "TV-Y7     2\n",
       "Name: rating, dtype: int64"
      ]
     },
     "execution_count": 192,
     "metadata": {},
     "output_type": "execute_result"
    }
   ],
   "source": [
    "mergedStuff.rating.value_counts()"
   ]
  },
  {
   "cell_type": "code",
   "execution_count": 159,
   "metadata": {
    "ExecuteTime": {
     "end_time": "2021-08-18T18:19:37.527664Z",
     "start_time": "2021-08-18T18:19:37.052213Z"
    }
   },
   "outputs": [
    {
     "data": {
      "image/png": "[encoded data removed]",
      "text/plain": [
       "<Figure size 360x360 with 1 Axes>"
      ]
     },
     "metadata": {},
     "output_type": "display_data"
    }
   ],
   "source": [
    "ax = sns.catplot(x='release_year', y='type', kind='box',\n",
    "                 data=mergedStuff);"
   ]
  },
  {
   "cell_type": "code",
   "execution_count": 160,
   "metadata": {
    "ExecuteTime": {
     "end_time": "2021-08-18T18:19:39.274644Z",
     "start_time": "2021-08-18T18:19:38.900236Z"
    }
   },
   "outputs": [
    {
     "data": {
      "text/plain": [
       "<AxesSubplot:xlabel='Num_actors', ylabel='count'>"
      ]
     },
     "execution_count": 160,
     "metadata": {},
     "output_type": "execute_result"
    },
    {
     "data": {
      "image/png": "[encoded data removed]",
      "text/plain": [
       "<Figure size 432x288 with 1 Axes>"
      ]
     },
     "metadata": {},
     "output_type": "display_data"
    }
   ],
   "source": [
    "# Histograma del nombre d'actors a les pel·lícules i series\n",
    "sns.countplot(x='Num_actors', data=mergedStuff)"
   ]
  },
  {
   "cell_type": "code",
   "execution_count": 184,
   "metadata": {
    "ExecuteTime": {
     "end_time": "2021-08-18T18:29:05.241337Z",
     "start_time": "2021-08-18T18:29:04.956671Z"
    }
   },
   "outputs": [
    {
     "data": {
      "text/plain": [
       "<AxesSubplot:xlabel='rating', ylabel='count'>"
      ]
     },
     "execution_count": 184,
     "metadata": {},
     "output_type": "execute_result"
    },
    {
     "data": {
      "image/png": "[encoded data removed]",
      "text/plain": [
       "<Figure size 432x288 with 1 Axes>"
      ]
     },
     "metadata": {},
     "output_type": "display_data"
    }
   ],
   "source": [
    "# Histograma del nombre d'actors a les pel·lícules i series\n",
    "sns.countplot(x='rating', data=mergedStuff)"
   ]
  },
  {
   "cell_type": "code",
   "execution_count": 194,
   "metadata": {
    "ExecuteTime": {
     "end_time": "2021-08-18T18:37:10.997039Z",
     "start_time": "2021-08-18T18:37:10.316761Z"
    }
   },
   "outputs": [
    {
     "data": {
      "text/plain": [
       "<AxesSubplot:xlabel='Num_actors', ylabel='rating'>"
      ]
     },
     "execution_count": 194,
     "metadata": {},
     "output_type": "execute_result"
    },
    {
     "data": {
      "image/png": "[encoded data removed]",
      "text/plain": [
       "<Figure size 432x288 with 1 Axes>"
      ]
     },
     "metadata": {},
     "output_type": "display_data"
    }
   ],
   "source": [
    "# Nombre d'actors a les pel·lícules i series en funció del rating\n",
    "sns.barplot(x='Num_actors', y='rating', data=mergedStuff, orient=\"h\")"
   ]
  },
  {
   "cell_type": "code",
   "execution_count": 198,
   "metadata": {
    "ExecuteTime": {
     "end_time": "2021-08-18T18:39:37.656978Z",
     "start_time": "2021-08-18T18:39:36.881797Z"
    }
   },
   "outputs": [
    {
     "data": {
      "text/plain": [
       "<AxesSubplot:xlabel='Num_actors', ylabel='rating'>"
      ]
     },
     "execution_count": 198,
     "metadata": {},
     "output_type": "execute_result"
    },
    {
     "data": {
      "image/png": "[encoded data removed]",
      "text/plain": [
       "<Figure size 432x288 with 1 Axes>"
      ]
     },
     "metadata": {},
     "output_type": "display_data"
    }
   ],
   "source": [
    "# Nombre d'actors a les pel·lícules i series en funció del rating i el tipus \n",
    "sns.barplot(x='Num_actors', y='rating', hue='type', data=mergedStuff, orient=\"h\")"
   ]
  },
  {
   "cell_type": "code",
   "execution_count": 161,
   "metadata": {
    "ExecuteTime": {
     "end_time": "2021-08-18T18:19:41.300251Z",
     "start_time": "2021-08-18T18:19:40.905938Z"
    }
   },
   "outputs": [
    {
     "data": {
      "text/plain": [
       "<AxesSubplot:xlabel='Num_paisos', ylabel='count'>"
      ]
     },
     "execution_count": 161,
     "metadata": {},
     "output_type": "execute_result"
    },
    {
     "data": {
      "image/png": "[encoded data removed]",
      "text/plain": [
       "<Figure size 432x288 with 1 Axes>"
      ]
     },
     "metadata": {},
     "output_type": "display_data"
    }
   ],
   "source": [
    "# Histograma del nombre de paísos on s'han rodat les pel·lícules i series\n",
    "sns.countplot(x='Num_paisos', data=mergedStuff)"
   ]
  },
  {
   "cell_type": "code",
   "execution_count": 162,
   "metadata": {
    "ExecuteTime": {
     "end_time": "2021-08-18T18:19:43.332331Z",
     "start_time": "2021-08-18T18:19:42.864353Z"
    }
   },
   "outputs": [
    {
     "data": {
      "image/png": "[encoded data removed]",
      "text/plain": [
       "<Figure size 360x360 with 1 Axes>"
      ]
     },
     "metadata": {},
     "output_type": "display_data"
    }
   ],
   "source": [
    "# Nombre d'actors a les pel·lícules i series en funció del nombre de paísos on s'han rodat\n",
    "sns.catplot(x='Num_paisos', y='Num_actors', kind = 'box',\n",
    "            data=mergedStuff);"
   ]
  },
  {
   "cell_type": "code",
   "execution_count": 183,
   "metadata": {
    "ExecuteTime": {
     "end_time": "2021-08-18T18:27:27.506280Z",
     "start_time": "2021-08-18T18:27:27.185716Z"
    }
   },
   "outputs": [
    {
     "data": {
      "image/png": "[encoded data removed]",
      "text/plain": [
       "<Figure size 360x360 with 1 Axes>"
      ]
     },
     "metadata": {},
     "output_type": "display_data"
    }
   ],
   "source": [
    "#Nombre d'actors de les pel·lícules i series rodades només a Espanya\n",
    "sns.catplot(x='Num_actors', kind='box',\n",
    "            data=mergedStuff[mergedStuff.country =='Spain']);"
   ]
  },
  {
   "cell_type": "code",
   "execution_count": 181,
   "metadata": {
    "ExecuteTime": {
     "end_time": "2021-08-18T18:26:30.187538Z",
     "start_time": "2021-08-18T18:26:30.154770Z"
    }
   },
   "outputs": [
    {
     "data": {
      "text/html": [
       "<div>\n",
       "<style scoped>\n",
       "    .dataframe tbody tr th:only-of-type {\n",
       "        vertical-align: middle;\n",
       "    }\n",
       "\n",
       "    .dataframe tbody tr th {\n",
       "        vertical-align: top;\n",
       "    }\n",
       "\n",
       "    .dataframe thead th {\n",
       "        text-align: right;\n",
       "    }\n",
       "</style>\n",
       "<table border=\"1\" class=\"dataframe\">\n",
       "  <thead>\n",
       "    <tr style=\"text-align: right;\">\n",
       "      <th></th>\n",
       "      <th>movie_id</th>\n",
       "      <th>title</th>\n",
       "      <th>genero</th>\n",
       "      <th>anyo</th>\n",
       "      <th>decada</th>\n",
       "      <th>gen_comedia</th>\n",
       "      <th>gen_infantil</th>\n",
       "      <th>gen_animacion</th>\n",
       "      <th>show_id</th>\n",
       "      <th>type</th>\n",
       "      <th>...</th>\n",
       "      <th>cast</th>\n",
       "      <th>country</th>\n",
       "      <th>date_added</th>\n",
       "      <th>release_year</th>\n",
       "      <th>rating</th>\n",
       "      <th>duration_min</th>\n",
       "      <th>listed_in</th>\n",
       "      <th>description</th>\n",
       "      <th>Num_actors</th>\n",
       "      <th>Num_paisos</th>\n",
       "    </tr>\n",
       "  </thead>\n",
       "  <tbody>\n",
       "    <tr>\n",
       "      <th>25</th>\n",
       "      <td>401</td>\n",
       "      <td>Mirage</td>\n",
       "      <td>Action|Thriller</td>\n",
       "      <td>1995</td>\n",
       "      <td>1990</td>\n",
       "      <td>0</td>\n",
       "      <td>0</td>\n",
       "      <td>0</td>\n",
       "      <td>s4123</td>\n",
       "      <td>Movie</td>\n",
       "      <td>...</td>\n",
       "      <td>Adriana Ugarte, Chino Darín, Javier Gutiérrez,...</td>\n",
       "      <td>Spain</td>\n",
       "      <td>March 22, 2019</td>\n",
       "      <td>2018</td>\n",
       "      <td>TV-MA</td>\n",
       "      <td>129</td>\n",
       "      <td>Dramas, International Movies, Sci-Fi &amp; Fantasy</td>\n",
       "      <td>A space-time continuum glitch allows Vera to s...</td>\n",
       "      <td>12.0</td>\n",
       "      <td>1.0</td>\n",
       "    </tr>\n",
       "    <tr>\n",
       "      <th>41</th>\n",
       "      <td>692</td>\n",
       "      <td>Solo</td>\n",
       "      <td>Action|Sci-Fi|Thriller</td>\n",
       "      <td>1996</td>\n",
       "      <td>1990</td>\n",
       "      <td>0</td>\n",
       "      <td>0</td>\n",
       "      <td>0</td>\n",
       "      <td>s5697</td>\n",
       "      <td>Movie</td>\n",
       "      <td>...</td>\n",
       "      <td>Alain Hernández, Aura Garrido, Ben Temple</td>\n",
       "      <td>Spain</td>\n",
       "      <td>January 11, 2019</td>\n",
       "      <td>2018</td>\n",
       "      <td>TV-MA</td>\n",
       "      <td>91</td>\n",
       "      <td>Dramas, Independent Movies, International Movies</td>\n",
       "      <td>In a remote area of the Canary Islands, a surf...</td>\n",
       "      <td>3.0</td>\n",
       "      <td>1.0</td>\n",
       "    </tr>\n",
       "    <tr>\n",
       "      <th>105</th>\n",
       "      <td>1929</td>\n",
       "      <td>Grand Hotel</td>\n",
       "      <td>Drama</td>\n",
       "      <td>1932</td>\n",
       "      <td>1930</td>\n",
       "      <td>0</td>\n",
       "      <td>0</td>\n",
       "      <td>0</td>\n",
       "      <td>s2515</td>\n",
       "      <td>TV Show</td>\n",
       "      <td>...</td>\n",
       "      <td>Yon González, Amaia Salamanca, Adriana Ozores,...</td>\n",
       "      <td>Spain</td>\n",
       "      <td>November 1, 2017</td>\n",
       "      <td>2013</td>\n",
       "      <td>TV-PG</td>\n",
       "      <td>1200</td>\n",
       "      <td>International TV Shows, Romantic TV Shows, Spa...</td>\n",
       "      <td>To learn the truth about his sister's mysterio...</td>\n",
       "      <td>15.0</td>\n",
       "      <td>1.0</td>\n",
       "    </tr>\n",
       "  </tbody>\n",
       "</table>\n",
       "<p>3 rows × 21 columns</p>\n",
       "</div>"
      ],
      "text/plain": [
       "     movie_id        title                  genero  anyo  decada  gen_comedia  \\\n",
       "25        401       Mirage         Action|Thriller  1995    1990            0   \n",
       "41        692         Solo  Action|Sci-Fi|Thriller  1996    1990            0   \n",
       "105      1929  Grand Hotel                   Drama  1932    1930            0   \n",
       "\n",
       "     gen_infantil  gen_animacion show_id     type  ...  \\\n",
       "25              0              0   s4123    Movie  ...   \n",
       "41              0              0   s5697    Movie  ...   \n",
       "105             0              0   s2515  TV Show  ...   \n",
       "\n",
       "                                                  cast country  \\\n",
       "25   Adriana Ugarte, Chino Darín, Javier Gutiérrez,...   Spain   \n",
       "41           Alain Hernández, Aura Garrido, Ben Temple   Spain   \n",
       "105  Yon González, Amaia Salamanca, Adriana Ozores,...   Spain   \n",
       "\n",
       "            date_added release_year  rating duration_min  \\\n",
       "25      March 22, 2019         2018   TV-MA          129   \n",
       "41    January 11, 2019         2018   TV-MA           91   \n",
       "105   November 1, 2017         2013   TV-PG         1200   \n",
       "\n",
       "                                             listed_in  \\\n",
       "25      Dramas, International Movies, Sci-Fi & Fantasy   \n",
       "41    Dramas, Independent Movies, International Movies   \n",
       "105  International TV Shows, Romantic TV Shows, Spa...   \n",
       "\n",
       "                                           description Num_actors  Num_paisos  \n",
       "25   A space-time continuum glitch allows Vera to s...       12.0         1.0  \n",
       "41   In a remote area of the Canary Islands, a surf...        3.0         1.0  \n",
       "105  To learn the truth about his sister's mysterio...       15.0         1.0  \n",
       "\n",
       "[3 rows x 21 columns]"
      ]
     },
     "execution_count": 181,
     "metadata": {},
     "output_type": "execute_result"
    }
   ],
   "source": [
    "mergedStuff[mergedStuff.country =='Spain']"
   ]
  },
  {
   "cell_type": "code",
   "execution_count": 189,
   "metadata": {
    "ExecuteTime": {
     "end_time": "2021-08-18T18:32:52.159099Z",
     "start_time": "2021-08-18T18:32:51.954371Z"
    }
   },
   "outputs": [
    {
     "data": {
      "image/png": "[encoded data removed]",
      "text/plain": [
       "<Figure size 432x288 with 1 Axes>"
      ]
     },
     "metadata": {},
     "output_type": "display_data"
    }
   ],
   "source": [
    "# Nombre de paísos on s'han rodat les pel·lícules i series de tipus Drama\n",
    "sns.countplot(x='Num_paisos',\n",
    "            data=mergedStuff[mergedStuff.genero.str.contains(\"Drama\")]);"
   ]
  }
 ],
 "metadata": {
  "kernelspec": {
   "display_name": "Python 3",
   "language": "python",
   "name": "python3"
  },
  "language_info": {
   "codemirror_mode": {
    "name": "ipython",
    "version": 3
   },
   "file_extension": ".py",
   "mimetype": "text/x-python",
   "name": "python",
   "nbconvert_exporter": "python",
   "pygments_lexer": "ipython3",
   "version": "3.8.5"
  },
  "toc": {
   "base_numbering": 1,
   "nav_menu": {},
   "number_sections": true,
   "sideBar": true,
   "skip_h1_title": false,
   "title_cell": "Table of Contents",
   "title_sidebar": "Contents",
   "toc_cell": false,
   "toc_position": {
    "height": "calc(100% - 180px)",
    "left": "10px",
    "top": "150px",
    "width": "417.458px"
   },
   "toc_section_display": true,
   "toc_window_display": false
  },
  "varInspector": {
   "cols": {
    "lenName": 16,
    "lenType": 16,
    "lenVar": 40
   },
   "kernels_config": {
    "python": {
     "delete_cmd_postfix": "",
     "delete_cmd_prefix": "del ",
     "library": "var_list.py",
     "varRefreshCmd": "print(var_dic_list())"
    },
    "r": {
     "delete_cmd_postfix": ") ",
     "delete_cmd_prefix": "rm(",
     "library": "var_list.r",
     "varRefreshCmd": "cat(var_dic_list()) "
    }
   },
   "types_to_exclude": [
    "module",
    "function",
    "builtin_function_or_method",
    "instance",
    "_Feature"
   ],
   "window_display": false
  }
 },
 "nbformat": 4,
 "nbformat_minor": 4
}
