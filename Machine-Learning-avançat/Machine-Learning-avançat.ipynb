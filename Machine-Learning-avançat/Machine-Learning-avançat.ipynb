{
 "cells": [
  {
   "cell_type": "markdown",
   "metadata": {},
   "source": [
    "# Sprint 12. Pipelines, grid search i text mining"
   ]
  },
  {
   "cell_type": "markdown",
   "metadata": {},
   "source": [
    "## Nivell 1"
   ]
  },
  {
   "cell_type": "markdown",
   "metadata": {},
   "source": [
    "## Exercici 1.  Agafa el conjunt de dades que vulguis i realitza un pipeline i un gridsearch aplicant l'algoritme de Random Forest.\n",
    "\n"
   ]
  },
  {
   "cell_type": "code",
   "execution_count": 2,
   "metadata": {
    "execution": {
     "iopub.execute_input": "2022-02-07T18:27:22.819062Z",
     "iopub.status.busy": "2022-02-07T18:27:22.814582Z",
     "iopub.status.idle": "2022-02-07T18:27:26.776262Z",
     "shell.execute_reply": "2022-02-07T18:27:26.774386Z",
     "shell.execute_reply.started": "2022-02-07T18:27:22.817318Z"
    }
   },
   "outputs": [],
   "source": [
    "import pandas as pd\n",
    "import numpy as np\n",
    "import matplotlib.pyplot as plt\n",
    "import seaborn as sns\n",
    "import math\n",
    "import warnings\n",
    "\n",
    "warnings.filterwarnings('ignore')\n",
    "pd.set_option('display.max_columns', None)"
   ]
  },
  {
   "cell_type": "code",
   "execution_count": 3,
   "metadata": {
    "execution": {
     "iopub.execute_input": "2022-02-07T18:27:26.781319Z",
     "iopub.status.busy": "2022-02-07T18:27:26.780689Z",
     "iopub.status.idle": "2022-02-07T18:27:26.822738Z",
     "shell.execute_reply": "2022-02-07T18:27:26.821021Z",
     "shell.execute_reply.started": "2022-02-07T18:27:26.781256Z"
    }
   },
   "outputs": [],
   "source": [
    "df = pd.read_csv(\"../Sampling/Climbers.csv\", sep=\";\")"
   ]
  },
  {
   "cell_type": "markdown",
   "metadata": {},
   "source": [
    "#### Canviem el nom de les columnes per fer la manipulació més fàcilment"
   ]
  },
  {
   "cell_type": "code",
   "execution_count": 4,
   "metadata": {
    "execution": {
     "iopub.execute_input": "2022-02-07T18:27:26.828037Z",
     "iopub.status.busy": "2022-02-07T18:27:26.827592Z",
     "iopub.status.idle": "2022-02-07T18:27:26.837861Z",
     "shell.execute_reply": "2022-02-07T18:27:26.835663Z",
     "shell.execute_reply.started": "2022-02-07T18:27:26.827990Z"
    }
   },
   "outputs": [],
   "source": [
    "df.columns = ['Timestamp', 'Sex', 'Height', 'Weight', 'Arm_span','Time_climbing', 'Indoor_vs_outdoor',\n",
    "              'Hardest_V_Grade_ever','Hardest_V_Grade_last3months','V_Grade_sent_90perc_routes',\n",
    "              'Hardest_Ewbank_Grade_ever','Hardest_Ewbank_Grade_last3months','Ewbank_Grade_sent_90perc_routes',\n",
    "              'Freq_climbing_sessions_w','Avg_hours_climbing_w','Avg_hours_training_for_climbing_w',\n",
    "              'Freq_Hangboard_w', 'Hangboard_grips_used','Style_Hangboard','Max_Weight_Hangboard_18mm_Half_crimp',\n",
    "              'Max_Weight_Hangboard_18mm_Open_crimp','Min_Edge_mm,kg_Half_crimp','Min_Edge_mm,kg_Open_crimp',\n",
    "              'Freq_CampusBoard_w', 'Time_CampusBoard_h','Freq_Endurance_session_w','Endurance_training', \n",
    "              'Freq_General_Strength_Training_w','Time_General_Strength_Training_h','Type_StrengthTraining', \n",
    "              'Other_activities','Max_PullUp_reps', 'Max_weighted_PullUps_5rep', 'Max_PushUp_reps',\n",
    "              'Max_L-sit_time']"
   ]
  },
  {
   "cell_type": "markdown",
   "metadata": {},
   "source": [
    "#### Convertim les columnes objecte a nombre"
   ]
  },
  {
   "cell_type": "code",
   "execution_count": 6,
   "metadata": {
    "execution": {
     "iopub.execute_input": "2022-02-07T18:27:28.627830Z",
     "iopub.status.busy": "2022-02-07T18:27:28.627516Z",
     "iopub.status.idle": "2022-02-07T18:27:28.657895Z",
     "shell.execute_reply": "2022-02-07T18:27:28.653949Z",
     "shell.execute_reply.started": "2022-02-07T18:27:28.627799Z"
    }
   },
   "outputs": [],
   "source": [
    "df['Sex'] = df['Sex'].astype('category').cat.codes # 0 = Female, 1 = Male\n",
    "df.Height = pd.to_numeric(df.Height, errors='coerce')\n",
    "df.Weight = pd.to_numeric(df.Weight, errors='coerce')\n",
    "df.Arm_span = pd.to_numeric(df.Arm_span, errors='coerce')\n",
    "df.Hardest_Ewbank_Grade_ever = pd.to_numeric(df.Hardest_Ewbank_Grade_ever, errors='coerce')\n",
    "df.Hardest_Ewbank_Grade_last3months = pd.to_numeric(df.Hardest_Ewbank_Grade_last3months, errors='coerce')\n",
    "df.Ewbank_Grade_sent_90perc_routes = pd.to_numeric(df.Ewbank_Grade_sent_90perc_routes, errors='coerce')"
   ]
  },
  {
   "cell_type": "code",
   "execution_count": 7,
   "metadata": {
    "execution": {
     "iopub.execute_input": "2022-02-07T18:27:29.308826Z",
     "iopub.status.busy": "2022-02-07T18:27:29.307731Z",
     "iopub.status.idle": "2022-02-07T18:27:29.318765Z",
     "shell.execute_reply": "2022-02-07T18:27:29.317296Z",
     "shell.execute_reply.started": "2022-02-07T18:27:29.308754Z"
    }
   },
   "outputs": [],
   "source": [
    "def createTime(time):\n",
    "    start = time.find(\"- \") + len(\"- \")\n",
    "    end = time.find(\" years\")\n",
    "    substring = time[start:end]\n",
    "    return int(math.ceil(float(substring)))"
   ]
  },
  {
   "cell_type": "code",
   "execution_count": 8,
   "metadata": {
    "execution": {
     "iopub.execute_input": "2022-02-07T18:27:29.904230Z",
     "iopub.status.busy": "2022-02-07T18:27:29.903856Z",
     "iopub.status.idle": "2022-02-07T18:27:29.922356Z",
     "shell.execute_reply": "2022-02-07T18:27:29.919819Z",
     "shell.execute_reply.started": "2022-02-07T18:27:29.904199Z"
    }
   },
   "outputs": [],
   "source": [
    "df['Time_climbing'] = df['Time_climbing'].replace('More than 15 years', '- 15 years')\n",
    "df['Time_climbing'] = df['Time_climbing'].apply(lambda x: createTime(x))"
   ]
  },
  {
   "cell_type": "markdown",
   "metadata": {},
   "source": [
    "#### Seleccionem les columnes numèriques únicament"
   ]
  },
  {
   "cell_type": "code",
   "execution_count": 9,
   "metadata": {
    "execution": {
     "iopub.execute_input": "2022-02-07T18:27:31.407899Z",
     "iopub.status.busy": "2022-02-07T18:27:31.407569Z",
     "iopub.status.idle": "2022-02-07T18:27:31.452125Z",
     "shell.execute_reply": "2022-02-07T18:27:31.450009Z",
     "shell.execute_reply.started": "2022-02-07T18:27:31.407867Z"
    }
   },
   "outputs": [],
   "source": [
    "df_no_object = df.select_dtypes(exclude=['object'])\n",
    "df_no_object = df_no_object.dropna()"
   ]
  },
  {
   "cell_type": "code",
   "execution_count": 10,
   "metadata": {
    "execution": {
     "iopub.execute_input": "2022-02-07T18:27:32.074394Z",
     "iopub.status.busy": "2022-02-07T18:27:32.073984Z",
     "iopub.status.idle": "2022-02-07T18:27:32.140415Z",
     "shell.execute_reply": "2022-02-07T18:27:32.138279Z",
     "shell.execute_reply.started": "2022-02-07T18:27:32.074357Z"
    }
   },
   "outputs": [
    {
     "data": {
      "text/html": [
       "<div>\n",
       "<style scoped>\n",
       "    .dataframe tbody tr th:only-of-type {\n",
       "        vertical-align: middle;\n",
       "    }\n",
       "\n",
       "    .dataframe tbody tr th {\n",
       "        vertical-align: top;\n",
       "    }\n",
       "\n",
       "    .dataframe thead th {\n",
       "        text-align: right;\n",
       "    }\n",
       "</style>\n",
       "<table border=\"1\" class=\"dataframe\">\n",
       "  <thead>\n",
       "    <tr style=\"text-align: right;\">\n",
       "      <th></th>\n",
       "      <th>Sex</th>\n",
       "      <th>Height</th>\n",
       "      <th>Weight</th>\n",
       "      <th>Arm_span</th>\n",
       "      <th>Time_climbing</th>\n",
       "      <th>Hardest_Ewbank_Grade_ever</th>\n",
       "      <th>Hardest_Ewbank_Grade_last3months</th>\n",
       "      <th>Ewbank_Grade_sent_90perc_routes</th>\n",
       "      <th>Freq_climbing_sessions_w</th>\n",
       "      <th>Avg_hours_climbing_w</th>\n",
       "      <th>Avg_hours_training_for_climbing_w</th>\n",
       "      <th>Freq_Hangboard_w</th>\n",
       "      <th>Freq_CampusBoard_w</th>\n",
       "      <th>Time_CampusBoard_h</th>\n",
       "      <th>Freq_Endurance_session_w</th>\n",
       "      <th>Freq_General_Strength_Training_w</th>\n",
       "      <th>Time_General_Strength_Training_h</th>\n",
       "    </tr>\n",
       "  </thead>\n",
       "  <tbody>\n",
       "    <tr>\n",
       "      <th>2</th>\n",
       "      <td>1</td>\n",
       "      <td>178.0</td>\n",
       "      <td>67.0</td>\n",
       "      <td>175.0</td>\n",
       "      <td>1</td>\n",
       "      <td>21.0</td>\n",
       "      <td>21.0</td>\n",
       "      <td>19.0</td>\n",
       "      <td>3</td>\n",
       "      <td>4</td>\n",
       "      <td>3</td>\n",
       "      <td>2</td>\n",
       "      <td>0</td>\n",
       "      <td>0</td>\n",
       "      <td>2</td>\n",
       "      <td>3</td>\n",
       "      <td>2</td>\n",
       "    </tr>\n",
       "    <tr>\n",
       "      <th>3</th>\n",
       "      <td>1</td>\n",
       "      <td>173.0</td>\n",
       "      <td>70.0</td>\n",
       "      <td>178.0</td>\n",
       "      <td>10</td>\n",
       "      <td>21.0</td>\n",
       "      <td>21.0</td>\n",
       "      <td>18.0</td>\n",
       "      <td>2</td>\n",
       "      <td>6</td>\n",
       "      <td>1</td>\n",
       "      <td>1</td>\n",
       "      <td>0</td>\n",
       "      <td>0</td>\n",
       "      <td>1</td>\n",
       "      <td>0</td>\n",
       "      <td>0</td>\n",
       "    </tr>\n",
       "    <tr>\n",
       "      <th>7</th>\n",
       "      <td>1</td>\n",
       "      <td>186.0</td>\n",
       "      <td>88.0</td>\n",
       "      <td>192.0</td>\n",
       "      <td>2</td>\n",
       "      <td>23.0</td>\n",
       "      <td>22.0</td>\n",
       "      <td>21.0</td>\n",
       "      <td>3</td>\n",
       "      <td>8</td>\n",
       "      <td>8</td>\n",
       "      <td>1</td>\n",
       "      <td>0</td>\n",
       "      <td>0</td>\n",
       "      <td>2</td>\n",
       "      <td>3</td>\n",
       "      <td>4</td>\n",
       "    </tr>\n",
       "    <tr>\n",
       "      <th>8</th>\n",
       "      <td>1</td>\n",
       "      <td>185.0</td>\n",
       "      <td>60.0</td>\n",
       "      <td>180.0</td>\n",
       "      <td>1</td>\n",
       "      <td>21.0</td>\n",
       "      <td>21.0</td>\n",
       "      <td>18.0</td>\n",
       "      <td>1</td>\n",
       "      <td>3</td>\n",
       "      <td>1</td>\n",
       "      <td>0</td>\n",
       "      <td>0</td>\n",
       "      <td>0</td>\n",
       "      <td>0</td>\n",
       "      <td>1</td>\n",
       "      <td>1</td>\n",
       "    </tr>\n",
       "    <tr>\n",
       "      <th>10</th>\n",
       "      <td>1</td>\n",
       "      <td>178.0</td>\n",
       "      <td>81.6</td>\n",
       "      <td>178.0</td>\n",
       "      <td>6</td>\n",
       "      <td>25.0</td>\n",
       "      <td>23.0</td>\n",
       "      <td>21.0</td>\n",
       "      <td>2</td>\n",
       "      <td>4</td>\n",
       "      <td>0</td>\n",
       "      <td>1</td>\n",
       "      <td>0</td>\n",
       "      <td>0</td>\n",
       "      <td>2</td>\n",
       "      <td>3</td>\n",
       "      <td>3</td>\n",
       "    </tr>\n",
       "    <tr>\n",
       "      <th>...</th>\n",
       "      <td>...</td>\n",
       "      <td>...</td>\n",
       "      <td>...</td>\n",
       "      <td>...</td>\n",
       "      <td>...</td>\n",
       "      <td>...</td>\n",
       "      <td>...</td>\n",
       "      <td>...</td>\n",
       "      <td>...</td>\n",
       "      <td>...</td>\n",
       "      <td>...</td>\n",
       "      <td>...</td>\n",
       "      <td>...</td>\n",
       "      <td>...</td>\n",
       "      <td>...</td>\n",
       "      <td>...</td>\n",
       "      <td>...</td>\n",
       "    </tr>\n",
       "    <tr>\n",
       "      <th>584</th>\n",
       "      <td>1</td>\n",
       "      <td>172.0</td>\n",
       "      <td>82.5</td>\n",
       "      <td>191.7</td>\n",
       "      <td>3</td>\n",
       "      <td>22.0</td>\n",
       "      <td>22.0</td>\n",
       "      <td>19.0</td>\n",
       "      <td>2</td>\n",
       "      <td>4</td>\n",
       "      <td>2</td>\n",
       "      <td>1</td>\n",
       "      <td>0</td>\n",
       "      <td>0</td>\n",
       "      <td>0</td>\n",
       "      <td>5</td>\n",
       "      <td>10</td>\n",
       "    </tr>\n",
       "    <tr>\n",
       "      <th>585</th>\n",
       "      <td>1</td>\n",
       "      <td>165.0</td>\n",
       "      <td>63.0</td>\n",
       "      <td>165.0</td>\n",
       "      <td>9</td>\n",
       "      <td>31.0</td>\n",
       "      <td>31.0</td>\n",
       "      <td>30.0</td>\n",
       "      <td>4</td>\n",
       "      <td>12</td>\n",
       "      <td>4</td>\n",
       "      <td>1</td>\n",
       "      <td>1</td>\n",
       "      <td>1</td>\n",
       "      <td>0</td>\n",
       "      <td>1</td>\n",
       "      <td>1</td>\n",
       "    </tr>\n",
       "    <tr>\n",
       "      <th>586</th>\n",
       "      <td>1</td>\n",
       "      <td>164.0</td>\n",
       "      <td>68.0</td>\n",
       "      <td>164.0</td>\n",
       "      <td>5</td>\n",
       "      <td>29.0</td>\n",
       "      <td>29.0</td>\n",
       "      <td>25.0</td>\n",
       "      <td>2</td>\n",
       "      <td>3</td>\n",
       "      <td>4</td>\n",
       "      <td>3</td>\n",
       "      <td>0</td>\n",
       "      <td>0</td>\n",
       "      <td>2</td>\n",
       "      <td>1</td>\n",
       "      <td>1</td>\n",
       "    </tr>\n",
       "    <tr>\n",
       "      <th>587</th>\n",
       "      <td>1</td>\n",
       "      <td>178.0</td>\n",
       "      <td>65.0</td>\n",
       "      <td>182.0</td>\n",
       "      <td>4</td>\n",
       "      <td>27.0</td>\n",
       "      <td>26.0</td>\n",
       "      <td>23.0</td>\n",
       "      <td>3</td>\n",
       "      <td>4</td>\n",
       "      <td>2</td>\n",
       "      <td>7</td>\n",
       "      <td>0</td>\n",
       "      <td>0</td>\n",
       "      <td>1</td>\n",
       "      <td>0</td>\n",
       "      <td>0</td>\n",
       "    </tr>\n",
       "    <tr>\n",
       "      <th>590</th>\n",
       "      <td>1</td>\n",
       "      <td>180.0</td>\n",
       "      <td>63.5</td>\n",
       "      <td>181.0</td>\n",
       "      <td>2</td>\n",
       "      <td>22.0</td>\n",
       "      <td>22.0</td>\n",
       "      <td>18.0</td>\n",
       "      <td>1</td>\n",
       "      <td>2</td>\n",
       "      <td>1</td>\n",
       "      <td>2</td>\n",
       "      <td>1</td>\n",
       "      <td>0</td>\n",
       "      <td>1</td>\n",
       "      <td>1</td>\n",
       "      <td>1</td>\n",
       "    </tr>\n",
       "  </tbody>\n",
       "</table>\n",
       "<p>393 rows × 17 columns</p>\n",
       "</div>"
      ],
      "text/plain": [
       "     Sex  Height  Weight  Arm_span  Time_climbing  Hardest_Ewbank_Grade_ever  \\\n",
       "2      1   178.0    67.0     175.0              1                       21.0   \n",
       "3      1   173.0    70.0     178.0             10                       21.0   \n",
       "7      1   186.0    88.0     192.0              2                       23.0   \n",
       "8      1   185.0    60.0     180.0              1                       21.0   \n",
       "10     1   178.0    81.6     178.0              6                       25.0   \n",
       "..   ...     ...     ...       ...            ...                        ...   \n",
       "584    1   172.0    82.5     191.7              3                       22.0   \n",
       "585    1   165.0    63.0     165.0              9                       31.0   \n",
       "586    1   164.0    68.0     164.0              5                       29.0   \n",
       "587    1   178.0    65.0     182.0              4                       27.0   \n",
       "590    1   180.0    63.5     181.0              2                       22.0   \n",
       "\n",
       "     Hardest_Ewbank_Grade_last3months  Ewbank_Grade_sent_90perc_routes  \\\n",
       "2                                21.0                             19.0   \n",
       "3                                21.0                             18.0   \n",
       "7                                22.0                             21.0   \n",
       "8                                21.0                             18.0   \n",
       "10                               23.0                             21.0   \n",
       "..                                ...                              ...   \n",
       "584                              22.0                             19.0   \n",
       "585                              31.0                             30.0   \n",
       "586                              29.0                             25.0   \n",
       "587                              26.0                             23.0   \n",
       "590                              22.0                             18.0   \n",
       "\n",
       "     Freq_climbing_sessions_w  Avg_hours_climbing_w  \\\n",
       "2                           3                     4   \n",
       "3                           2                     6   \n",
       "7                           3                     8   \n",
       "8                           1                     3   \n",
       "10                          2                     4   \n",
       "..                        ...                   ...   \n",
       "584                         2                     4   \n",
       "585                         4                    12   \n",
       "586                         2                     3   \n",
       "587                         3                     4   \n",
       "590                         1                     2   \n",
       "\n",
       "     Avg_hours_training_for_climbing_w  Freq_Hangboard_w  Freq_CampusBoard_w  \\\n",
       "2                                    3                 2                   0   \n",
       "3                                    1                 1                   0   \n",
       "7                                    8                 1                   0   \n",
       "8                                    1                 0                   0   \n",
       "10                                   0                 1                   0   \n",
       "..                                 ...               ...                 ...   \n",
       "584                                  2                 1                   0   \n",
       "585                                  4                 1                   1   \n",
       "586                                  4                 3                   0   \n",
       "587                                  2                 7                   0   \n",
       "590                                  1                 2                   1   \n",
       "\n",
       "     Time_CampusBoard_h  Freq_Endurance_session_w  \\\n",
       "2                     0                         2   \n",
       "3                     0                         1   \n",
       "7                     0                         2   \n",
       "8                     0                         0   \n",
       "10                    0                         2   \n",
       "..                  ...                       ...   \n",
       "584                   0                         0   \n",
       "585                   1                         0   \n",
       "586                   0                         2   \n",
       "587                   0                         1   \n",
       "590                   0                         1   \n",
       "\n",
       "     Freq_General_Strength_Training_w  Time_General_Strength_Training_h  \n",
       "2                                   3                                 2  \n",
       "3                                   0                                 0  \n",
       "7                                   3                                 4  \n",
       "8                                   1                                 1  \n",
       "10                                  3                                 3  \n",
       "..                                ...                               ...  \n",
       "584                                 5                                10  \n",
       "585                                 1                                 1  \n",
       "586                                 1                                 1  \n",
       "587                                 0                                 0  \n",
       "590                                 1                                 1  \n",
       "\n",
       "[393 rows x 17 columns]"
      ]
     },
     "execution_count": 10,
     "metadata": {},
     "output_type": "execute_result"
    }
   ],
   "source": [
    "df_no_object"
   ]
  },
  {
   "cell_type": "markdown",
   "metadata": {
    "execution": {
     "iopub.execute_input": "2021-09-16T14:15:33.331224Z",
     "iopub.status.busy": "2021-09-16T14:15:33.320477Z",
     "iopub.status.idle": "2021-09-16T14:15:33.362716Z",
     "shell.execute_reply": "2021-09-16T14:15:33.358672Z",
     "shell.execute_reply.started": "2021-09-16T14:15:33.331061Z"
    }
   },
   "source": [
    "#### Eliminem els outliers"
   ]
  },
  {
   "cell_type": "code",
   "execution_count": 11,
   "metadata": {
    "execution": {
     "iopub.execute_input": "2022-02-07T18:27:34.623113Z",
     "iopub.status.busy": "2022-02-07T18:27:34.622788Z",
     "iopub.status.idle": "2022-02-07T18:27:34.636538Z",
     "shell.execute_reply": "2022-02-07T18:27:34.635301Z",
     "shell.execute_reply.started": "2022-02-07T18:27:34.623082Z"
    }
   },
   "outputs": [
    {
     "data": {
      "text/plain": [
       "count     393.000000\n",
       "mean      178.840992\n",
       "std        58.779576\n",
       "min         1.680000\n",
       "25%       172.000000\n",
       "50%       178.000000\n",
       "75%       183.000000\n",
       "max      1295.000000\n",
       "Name: Height, dtype: float64"
      ]
     },
     "execution_count": 11,
     "metadata": {},
     "output_type": "execute_result"
    }
   ],
   "source": [
    "df_no_object.Height.describe()"
   ]
  },
  {
   "cell_type": "code",
   "execution_count": 12,
   "metadata": {
    "execution": {
     "iopub.execute_input": "2022-02-07T18:27:35.657398Z",
     "iopub.status.busy": "2022-02-07T18:27:35.656941Z",
     "iopub.status.idle": "2022-02-07T18:27:35.672688Z",
     "shell.execute_reply": "2022-02-07T18:27:35.671473Z",
     "shell.execute_reply.started": "2022-02-07T18:27:35.657361Z"
    }
   },
   "outputs": [
    {
     "data": {
      "text/plain": [
       "159.0      1\n",
       "62.0       1\n",
       "1295.0     1\n",
       "153.0      1\n",
       "182.9      1\n",
       "          ..\n",
       "170.0     17\n",
       "175.0     22\n",
       "183.0     24\n",
       "180.0     34\n",
       "178.0     41\n",
       "Name: Height, Length: 67, dtype: int64"
      ]
     },
     "execution_count": 12,
     "metadata": {},
     "output_type": "execute_result"
    }
   ],
   "source": [
    "df_no_object.Height.value_counts().sort_values()"
   ]
  },
  {
   "cell_type": "code",
   "execution_count": 13,
   "metadata": {
    "execution": {
     "iopub.execute_input": "2022-02-07T18:27:36.995298Z",
     "iopub.status.busy": "2022-02-07T18:27:36.994896Z",
     "iopub.status.idle": "2022-02-07T18:27:37.006777Z",
     "shell.execute_reply": "2022-02-07T18:27:37.004598Z",
     "shell.execute_reply.started": "2022-02-07T18:27:36.995259Z"
    }
   },
   "outputs": [],
   "source": [
    "df_no_object = df_no_object.drop(df_no_object[df_no_object['Height'] > 200].index)\n",
    "df_no_object = df_no_object.drop(df_no_object[df_no_object['Height'] < 111].index)"
   ]
  },
  {
   "cell_type": "code",
   "execution_count": 14,
   "metadata": {
    "execution": {
     "iopub.execute_input": "2022-02-07T18:27:38.044844Z",
     "iopub.status.busy": "2022-02-07T18:27:38.044290Z",
     "iopub.status.idle": "2022-02-07T18:27:38.071742Z",
     "shell.execute_reply": "2022-02-07T18:27:38.063776Z",
     "shell.execute_reply.started": "2022-02-07T18:27:38.044789Z"
    }
   },
   "outputs": [
    {
     "data": {
      "text/plain": [
       "count    388.000000\n",
       "mean      72.415182\n",
       "std       15.691350\n",
       "min       42.000000\n",
       "25%       65.000000\n",
       "50%       70.300000\n",
       "75%       77.025000\n",
       "max      180.000000\n",
       "Name: Weight, dtype: float64"
      ]
     },
     "execution_count": 14,
     "metadata": {},
     "output_type": "execute_result"
    }
   ],
   "source": [
    "df_no_object.Weight.describe()"
   ]
  },
  {
   "cell_type": "code",
   "execution_count": 15,
   "metadata": {
    "execution": {
     "iopub.execute_input": "2022-02-07T18:27:39.183602Z",
     "iopub.status.busy": "2022-02-07T18:27:39.183166Z",
     "iopub.status.idle": "2022-02-07T18:27:39.195381Z",
     "shell.execute_reply": "2022-02-07T18:27:39.194286Z",
     "shell.execute_reply.started": "2022-02-07T18:27:39.183573Z"
    }
   },
   "outputs": [
    {
     "data": {
      "text/plain": [
       "71.2      1\n",
       "175.0     1\n",
       "64.5      1\n",
       "180.0     1\n",
       "82.5      1\n",
       "         ..\n",
       "72.0     16\n",
       "75.0     17\n",
       "65.0     20\n",
       "70.0     23\n",
       "68.0     28\n",
       "Name: Weight, Length: 97, dtype: int64"
      ]
     },
     "execution_count": 15,
     "metadata": {},
     "output_type": "execute_result"
    }
   ],
   "source": [
    "df_no_object.Weight.value_counts().sort_values()"
   ]
  },
  {
   "cell_type": "code",
   "execution_count": 16,
   "metadata": {
    "execution": {
     "iopub.execute_input": "2022-02-07T18:27:41.134706Z",
     "iopub.status.busy": "2022-02-07T18:27:41.134374Z",
     "iopub.status.idle": "2022-02-07T18:27:41.144314Z",
     "shell.execute_reply": "2022-02-07T18:27:41.140738Z",
     "shell.execute_reply.started": "2022-02-07T18:27:41.134675Z"
    }
   },
   "outputs": [],
   "source": [
    "df_no_object = df_no_object.drop(df_no_object[df_no_object['Weight'] > 120].index)"
   ]
  },
  {
   "cell_type": "code",
   "execution_count": 17,
   "metadata": {
    "execution": {
     "iopub.execute_input": "2022-02-07T18:27:50.817846Z",
     "iopub.status.busy": "2022-02-07T18:27:50.817481Z",
     "iopub.status.idle": "2022-02-07T18:27:50.843324Z",
     "shell.execute_reply": "2022-02-07T18:27:50.841291Z",
     "shell.execute_reply.started": "2022-02-07T18:27:50.817811Z"
    }
   },
   "outputs": [
    {
     "name": "stdout",
     "output_type": "stream",
     "text": [
      "<class 'pandas.core.frame.DataFrame'>\n",
      "Int64Index: 380 entries, 2 to 590\n",
      "Data columns (total 17 columns):\n",
      " #   Column                             Non-Null Count  Dtype  \n",
      "---  ------                             --------------  -----  \n",
      " 0   Sex                                380 non-null    int8   \n",
      " 1   Height                             380 non-null    float64\n",
      " 2   Weight                             380 non-null    float64\n",
      " 3   Arm_span                           380 non-null    float64\n",
      " 4   Time_climbing                      380 non-null    int64  \n",
      " 5   Hardest_Ewbank_Grade_ever          380 non-null    float64\n",
      " 6   Hardest_Ewbank_Grade_last3months   380 non-null    float64\n",
      " 7   Ewbank_Grade_sent_90perc_routes    380 non-null    float64\n",
      " 8   Freq_climbing_sessions_w           380 non-null    int64  \n",
      " 9   Avg_hours_climbing_w               380 non-null    int64  \n",
      " 10  Avg_hours_training_for_climbing_w  380 non-null    int64  \n",
      " 11  Freq_Hangboard_w                   380 non-null    int64  \n",
      " 12  Freq_CampusBoard_w                 380 non-null    int64  \n",
      " 13  Time_CampusBoard_h                 380 non-null    int64  \n",
      " 14  Freq_Endurance_session_w           380 non-null    int64  \n",
      " 15  Freq_General_Strength_Training_w   380 non-null    int64  \n",
      " 16  Time_General_Strength_Training_h   380 non-null    int64  \n",
      "dtypes: float64(6), int64(10), int8(1)\n",
      "memory usage: 50.8 KB\n"
     ]
    }
   ],
   "source": [
    "df_no_object.info()"
   ]
  },
  {
   "cell_type": "code",
   "execution_count": 1,
   "metadata": {
    "execution": {
     "iopub.execute_input": "2021-09-21T15:23:05.272835Z",
     "iopub.status.busy": "2021-09-21T15:23:05.265807Z",
     "iopub.status.idle": "2021-09-21T15:23:12.616633Z",
     "shell.execute_reply": "2021-09-21T15:23:12.611461Z",
     "shell.execute_reply.started": "2021-09-21T15:23:05.272710Z"
    }
   },
   "outputs": [],
   "source": [
    "import pandas as pd\n",
    "import numpy as np\n",
    "import matplotlib.pyplot as plt\n",
    "import seaborn as sns\n",
    "import math"
   ]
  },
  {
   "cell_type": "code",
   "execution_count": 2,
   "metadata": {
    "execution": {
     "iopub.execute_input": "2021-09-21T15:23:12.630357Z",
     "iopub.status.busy": "2021-09-21T15:23:12.629683Z",
     "iopub.status.idle": "2021-09-21T15:23:12.883614Z",
     "shell.execute_reply": "2021-09-21T15:23:12.877719Z",
     "shell.execute_reply.started": "2021-09-21T15:23:12.630303Z"
    }
   },
   "outputs": [],
   "source": [
    "df = pd.read_csv(\"../Sampling/Climbers.csv\", sep=\";\")"
   ]
  },
  {
   "cell_type": "markdown",
   "metadata": {},
   "source": [
    "#### Canviem el nom de les columnes per fer la manipulació més fàcilment"
   ]
  },
  {
   "cell_type": "code",
   "execution_count": 3,
   "metadata": {
    "execution": {
     "iopub.execute_input": "2021-09-21T15:23:12.916876Z",
     "iopub.status.busy": "2021-09-21T15:23:12.915352Z",
     "iopub.status.idle": "2021-09-21T15:23:12.929686Z",
     "shell.execute_reply": "2021-09-21T15:23:12.927690Z",
     "shell.execute_reply.started": "2021-09-21T15:23:12.916807Z"
    }
   },
   "outputs": [],
   "source": [
    "df.columns = ['Timestamp', 'Sex', 'Height', 'Weight', 'Arm_span','Time_climbing', 'Indoor_vs_outdoor',\n",
    "              'Hardest_V_Grade_ever','Hardest_V_Grade_last3months','V_Grade_sent_90perc_routes',\n",
    "              'Hardest_Ewbank_Grade_ever','Hardest_Ewbank_Grade_last3months','Ewbank_Grade_sent_90perc_routes',\n",
    "              'Freq_climbing_sessions_w','Avg_hours_climbing_w','Avg_hours_training_for_climbing_w',\n",
    "              'Freq_Hangboard_w', 'Hangboard_grips_used','Style_Hangboard','Max_Weight_Hangboard_18mm_Half_crimp',\n",
    "              'Max_Weight_Hangboard_18mm_Open_crimp','Min_Edge_mm,kg_Half_crimp','Min_Edge_mm,kg_Open_crimp',\n",
    "              'Freq_CampusBoard_w', 'Time_CampusBoard_h','Freq_Endurance_session_w','Endurance_training', \n",
    "              'Freq_General_Strength_Training_w','Time_General_Strength_Training_h','Type_StrengthTraining', \n",
    "              'Other_activities','Max_PullUp_reps', 'Max_weighted_PullUps_5rep', 'Max_PushUp_reps',\n",
    "              'Max_L-sit_time']"
   ]
  },
  {
   "cell_type": "markdown",
   "metadata": {},
   "source": [
    "#### Convertim les columnes objecte a nombre"
   ]
  },
  {
   "cell_type": "code",
   "execution_count": 4,
   "metadata": {
    "execution": {
     "iopub.execute_input": "2021-09-21T15:23:12.937971Z",
     "iopub.status.busy": "2021-09-21T15:23:12.932981Z",
     "iopub.status.idle": "2021-09-21T15:23:13.131226Z",
     "shell.execute_reply": "2021-09-21T15:23:13.128426Z",
     "shell.execute_reply.started": "2021-09-21T15:23:12.937878Z"
    }
   },
   "outputs": [],
   "source": [
    "df['Sex'] = df['Sex'].astype('category').cat.codes # 0 = Female, 1 = Male\n",
    "df.Height = pd.to_numeric(df.Height, errors='coerce')\n",
    "df.Weight = pd.to_numeric(df.Weight, errors='coerce')\n",
    "df.Arm_span = pd.to_numeric(df.Arm_span, errors='coerce')\n",
    "df.Hardest_Ewbank_Grade_ever = pd.to_numeric(df.Hardest_Ewbank_Grade_ever, errors='coerce')\n",
    "df.Hardest_Ewbank_Grade_last3months = pd.to_numeric(df.Hardest_Ewbank_Grade_last3months, errors='coerce')\n",
    "df.Ewbank_Grade_sent_90perc_routes = pd.to_numeric(df.Ewbank_Grade_sent_90perc_routes, errors='coerce')"
   ]
  },
  {
   "cell_type": "code",
   "execution_count": 5,
   "metadata": {
    "execution": {
     "iopub.execute_input": "2021-09-21T15:23:13.221739Z",
     "iopub.status.busy": "2021-09-21T15:23:13.220493Z",
     "iopub.status.idle": "2021-09-21T15:23:13.245814Z",
     "shell.execute_reply": "2021-09-21T15:23:13.241990Z",
     "shell.execute_reply.started": "2021-09-21T15:23:13.221629Z"
    }
   },
   "outputs": [],
   "source": [
    "def createTime(time):\n",
    "    start = time.find(\"- \") + len(\"- \")\n",
    "    end = time.find(\" years\")\n",
    "    substring = time[start:end]\n",
    "    return int(math.ceil(float(substring)))"
   ]
  },
  {
   "cell_type": "code",
   "execution_count": 6,
   "metadata": {
    "execution": {
     "iopub.execute_input": "2021-09-21T15:23:13.254053Z",
     "iopub.status.busy": "2021-09-21T15:23:13.252024Z",
     "iopub.status.idle": "2021-09-21T15:23:13.277179Z",
     "shell.execute_reply": "2021-09-21T15:23:13.274383Z",
     "shell.execute_reply.started": "2021-09-21T15:23:13.253998Z"
    }
   },
   "outputs": [],
   "source": [
    "df['Time_climbing'] = df['Time_climbing'].replace('More than 15 years', '- 15 years')\n",
    "df['Time_climbing'] = df['Time_climbing'].apply(lambda x: createTime(x))"
   ]
  },
  {
   "cell_type": "markdown",
   "metadata": {},
   "source": [
    "#### Seleccionem les columnes numèriques únicament"
   ]
  },
  {
   "cell_type": "code",
   "execution_count": 7,
   "metadata": {
    "execution": {
     "iopub.execute_input": "2021-09-21T15:23:13.281642Z",
     "iopub.status.busy": "2021-09-21T15:23:13.279904Z",
     "iopub.status.idle": "2021-09-21T15:23:13.347446Z",
     "shell.execute_reply": "2021-09-21T15:23:13.329945Z",
     "shell.execute_reply.started": "2021-09-21T15:23:13.281496Z"
    }
   },
   "outputs": [],
   "source": [
    "df_no_object = df.select_dtypes(exclude=['object'])\n",
    "df_no_object = df_no_object.dropna()"
   ]
  },
  {
   "cell_type": "code",
   "execution_count": 8,
   "metadata": {
    "execution": {
     "iopub.execute_input": "2021-09-21T15:23:13.588491Z",
     "iopub.status.busy": "2021-09-21T15:23:13.586347Z",
     "iopub.status.idle": "2021-09-21T15:23:13.902186Z",
     "shell.execute_reply": "2021-09-21T15:23:13.899151Z",
     "shell.execute_reply.started": "2021-09-21T15:23:13.588417Z"
    }
   },
   "outputs": [
    {
     "data": {
      "text/html": [
       "<div>\n",
       "<style scoped>\n",
       "    .dataframe tbody tr th:only-of-type {\n",
       "        vertical-align: middle;\n",
       "    }\n",
       "\n",
       "    .dataframe tbody tr th {\n",
       "        vertical-align: top;\n",
       "    }\n",
       "\n",
       "    .dataframe thead th {\n",
       "        text-align: right;\n",
       "    }\n",
       "</style>\n",
       "<table border=\"1\" class=\"dataframe\">\n",
       "  <thead>\n",
       "    <tr style=\"text-align: right;\">\n",
       "      <th></th>\n",
       "      <th>Sex</th>\n",
       "      <th>Height</th>\n",
       "      <th>Weight</th>\n",
       "      <th>Arm_span</th>\n",
       "      <th>Time_climbing</th>\n",
       "      <th>Hardest_Ewbank_Grade_ever</th>\n",
       "      <th>Hardest_Ewbank_Grade_last3months</th>\n",
       "      <th>Ewbank_Grade_sent_90perc_routes</th>\n",
       "      <th>Freq_climbing_sessions_w</th>\n",
       "      <th>Avg_hours_climbing_w</th>\n",
       "      <th>Avg_hours_training_for_climbing_w</th>\n",
       "      <th>Freq_Hangboard_w</th>\n",
       "      <th>Freq_CampusBoard_w</th>\n",
       "      <th>Time_CampusBoard_h</th>\n",
       "      <th>Freq_Endurance_session_w</th>\n",
       "      <th>Freq_General_Strength_Training_w</th>\n",
       "      <th>Time_General_Strength_Training_h</th>\n",
       "    </tr>\n",
       "  </thead>\n",
       "  <tbody>\n",
       "    <tr>\n",
       "      <th>2</th>\n",
       "      <td>1</td>\n",
       "      <td>178.0</td>\n",
       "      <td>67.0</td>\n",
       "      <td>175.0</td>\n",
       "      <td>1</td>\n",
       "      <td>21.0</td>\n",
       "      <td>21.0</td>\n",
       "      <td>19.0</td>\n",
       "      <td>3</td>\n",
       "      <td>4</td>\n",
       "      <td>3</td>\n",
       "      <td>2</td>\n",
       "      <td>0</td>\n",
       "      <td>0</td>\n",
       "      <td>2</td>\n",
       "      <td>3</td>\n",
       "      <td>2</td>\n",
       "    </tr>\n",
       "    <tr>\n",
       "      <th>3</th>\n",
       "      <td>1</td>\n",
       "      <td>173.0</td>\n",
       "      <td>70.0</td>\n",
       "      <td>178.0</td>\n",
       "      <td>10</td>\n",
       "      <td>21.0</td>\n",
       "      <td>21.0</td>\n",
       "      <td>18.0</td>\n",
       "      <td>2</td>\n",
       "      <td>6</td>\n",
       "      <td>1</td>\n",
       "      <td>1</td>\n",
       "      <td>0</td>\n",
       "      <td>0</td>\n",
       "      <td>1</td>\n",
       "      <td>0</td>\n",
       "      <td>0</td>\n",
       "    </tr>\n",
       "    <tr>\n",
       "      <th>7</th>\n",
       "      <td>1</td>\n",
       "      <td>186.0</td>\n",
       "      <td>88.0</td>\n",
       "      <td>192.0</td>\n",
       "      <td>2</td>\n",
       "      <td>23.0</td>\n",
       "      <td>22.0</td>\n",
       "      <td>21.0</td>\n",
       "      <td>3</td>\n",
       "      <td>8</td>\n",
       "      <td>8</td>\n",
       "      <td>1</td>\n",
       "      <td>0</td>\n",
       "      <td>0</td>\n",
       "      <td>2</td>\n",
       "      <td>3</td>\n",
       "      <td>4</td>\n",
       "    </tr>\n",
       "    <tr>\n",
       "      <th>8</th>\n",
       "      <td>1</td>\n",
       "      <td>185.0</td>\n",
       "      <td>60.0</td>\n",
       "      <td>180.0</td>\n",
       "      <td>1</td>\n",
       "      <td>21.0</td>\n",
       "      <td>21.0</td>\n",
       "      <td>18.0</td>\n",
       "      <td>1</td>\n",
       "      <td>3</td>\n",
       "      <td>1</td>\n",
       "      <td>0</td>\n",
       "      <td>0</td>\n",
       "      <td>0</td>\n",
       "      <td>0</td>\n",
       "      <td>1</td>\n",
       "      <td>1</td>\n",
       "    </tr>\n",
       "    <tr>\n",
       "      <th>10</th>\n",
       "      <td>1</td>\n",
       "      <td>178.0</td>\n",
       "      <td>81.6</td>\n",
       "      <td>178.0</td>\n",
       "      <td>6</td>\n",
       "      <td>25.0</td>\n",
       "      <td>23.0</td>\n",
       "      <td>21.0</td>\n",
       "      <td>2</td>\n",
       "      <td>4</td>\n",
       "      <td>0</td>\n",
       "      <td>1</td>\n",
       "      <td>0</td>\n",
       "      <td>0</td>\n",
       "      <td>2</td>\n",
       "      <td>3</td>\n",
       "      <td>3</td>\n",
       "    </tr>\n",
       "    <tr>\n",
       "      <th>...</th>\n",
       "      <td>...</td>\n",
       "      <td>...</td>\n",
       "      <td>...</td>\n",
       "      <td>...</td>\n",
       "      <td>...</td>\n",
       "      <td>...</td>\n",
       "      <td>...</td>\n",
       "      <td>...</td>\n",
       "      <td>...</td>\n",
       "      <td>...</td>\n",
       "      <td>...</td>\n",
       "      <td>...</td>\n",
       "      <td>...</td>\n",
       "      <td>...</td>\n",
       "      <td>...</td>\n",
       "      <td>...</td>\n",
       "      <td>...</td>\n",
       "    </tr>\n",
       "    <tr>\n",
       "      <th>584</th>\n",
       "      <td>1</td>\n",
       "      <td>172.0</td>\n",
       "      <td>82.5</td>\n",
       "      <td>191.7</td>\n",
       "      <td>3</td>\n",
       "      <td>22.0</td>\n",
       "      <td>22.0</td>\n",
       "      <td>19.0</td>\n",
       "      <td>2</td>\n",
       "      <td>4</td>\n",
       "      <td>2</td>\n",
       "      <td>1</td>\n",
       "      <td>0</td>\n",
       "      <td>0</td>\n",
       "      <td>0</td>\n",
       "      <td>5</td>\n",
       "      <td>10</td>\n",
       "    </tr>\n",
       "    <tr>\n",
       "      <th>585</th>\n",
       "      <td>1</td>\n",
       "      <td>165.0</td>\n",
       "      <td>63.0</td>\n",
       "      <td>165.0</td>\n",
       "      <td>9</td>\n",
       "      <td>31.0</td>\n",
       "      <td>31.0</td>\n",
       "      <td>30.0</td>\n",
       "      <td>4</td>\n",
       "      <td>12</td>\n",
       "      <td>4</td>\n",
       "      <td>1</td>\n",
       "      <td>1</td>\n",
       "      <td>1</td>\n",
       "      <td>0</td>\n",
       "      <td>1</td>\n",
       "      <td>1</td>\n",
       "    </tr>\n",
       "    <tr>\n",
       "      <th>586</th>\n",
       "      <td>1</td>\n",
       "      <td>164.0</td>\n",
       "      <td>68.0</td>\n",
       "      <td>164.0</td>\n",
       "      <td>5</td>\n",
       "      <td>29.0</td>\n",
       "      <td>29.0</td>\n",
       "      <td>25.0</td>\n",
       "      <td>2</td>\n",
       "      <td>3</td>\n",
       "      <td>4</td>\n",
       "      <td>3</td>\n",
       "      <td>0</td>\n",
       "      <td>0</td>\n",
       "      <td>2</td>\n",
       "      <td>1</td>\n",
       "      <td>1</td>\n",
       "    </tr>\n",
       "    <tr>\n",
       "      <th>587</th>\n",
       "      <td>1</td>\n",
       "      <td>178.0</td>\n",
       "      <td>65.0</td>\n",
       "      <td>182.0</td>\n",
       "      <td>4</td>\n",
       "      <td>27.0</td>\n",
       "      <td>26.0</td>\n",
       "      <td>23.0</td>\n",
       "      <td>3</td>\n",
       "      <td>4</td>\n",
       "      <td>2</td>\n",
       "      <td>7</td>\n",
       "      <td>0</td>\n",
       "      <td>0</td>\n",
       "      <td>1</td>\n",
       "      <td>0</td>\n",
       "      <td>0</td>\n",
       "    </tr>\n",
       "    <tr>\n",
       "      <th>590</th>\n",
       "      <td>1</td>\n",
       "      <td>180.0</td>\n",
       "      <td>63.5</td>\n",
       "      <td>181.0</td>\n",
       "      <td>2</td>\n",
       "      <td>22.0</td>\n",
       "      <td>22.0</td>\n",
       "      <td>18.0</td>\n",
       "      <td>1</td>\n",
       "      <td>2</td>\n",
       "      <td>1</td>\n",
       "      <td>2</td>\n",
       "      <td>1</td>\n",
       "      <td>0</td>\n",
       "      <td>1</td>\n",
       "      <td>1</td>\n",
       "      <td>1</td>\n",
       "    </tr>\n",
       "  </tbody>\n",
       "</table>\n",
       "<p>393 rows × 17 columns</p>\n",
       "</div>"
      ],
      "text/plain": [
       "     Sex  Height  Weight  Arm_span  Time_climbing  Hardest_Ewbank_Grade_ever  \\\n",
       "2      1   178.0    67.0     175.0              1                       21.0   \n",
       "3      1   173.0    70.0     178.0             10                       21.0   \n",
       "7      1   186.0    88.0     192.0              2                       23.0   \n",
       "8      1   185.0    60.0     180.0              1                       21.0   \n",
       "10     1   178.0    81.6     178.0              6                       25.0   \n",
       "..   ...     ...     ...       ...            ...                        ...   \n",
       "584    1   172.0    82.5     191.7              3                       22.0   \n",
       "585    1   165.0    63.0     165.0              9                       31.0   \n",
       "586    1   164.0    68.0     164.0              5                       29.0   \n",
       "587    1   178.0    65.0     182.0              4                       27.0   \n",
       "590    1   180.0    63.5     181.0              2                       22.0   \n",
       "\n",
       "     Hardest_Ewbank_Grade_last3months  Ewbank_Grade_sent_90perc_routes  \\\n",
       "2                                21.0                             19.0   \n",
       "3                                21.0                             18.0   \n",
       "7                                22.0                             21.0   \n",
       "8                                21.0                             18.0   \n",
       "10                               23.0                             21.0   \n",
       "..                                ...                              ...   \n",
       "584                              22.0                             19.0   \n",
       "585                              31.0                             30.0   \n",
       "586                              29.0                             25.0   \n",
       "587                              26.0                             23.0   \n",
       "590                              22.0                             18.0   \n",
       "\n",
       "     Freq_climbing_sessions_w  Avg_hours_climbing_w  \\\n",
       "2                           3                     4   \n",
       "3                           2                     6   \n",
       "7                           3                     8   \n",
       "8                           1                     3   \n",
       "10                          2                     4   \n",
       "..                        ...                   ...   \n",
       "584                         2                     4   \n",
       "585                         4                    12   \n",
       "586                         2                     3   \n",
       "587                         3                     4   \n",
       "590                         1                     2   \n",
       "\n",
       "     Avg_hours_training_for_climbing_w  Freq_Hangboard_w  Freq_CampusBoard_w  \\\n",
       "2                                    3                 2                   0   \n",
       "3                                    1                 1                   0   \n",
       "7                                    8                 1                   0   \n",
       "8                                    1                 0                   0   \n",
       "10                                   0                 1                   0   \n",
       "..                                 ...               ...                 ...   \n",
       "584                                  2                 1                   0   \n",
       "585                                  4                 1                   1   \n",
       "586                                  4                 3                   0   \n",
       "587                                  2                 7                   0   \n",
       "590                                  1                 2                   1   \n",
       "\n",
       "     Time_CampusBoard_h  Freq_Endurance_session_w  \\\n",
       "2                     0                         2   \n",
       "3                     0                         1   \n",
       "7                     0                         2   \n",
       "8                     0                         0   \n",
       "10                    0                         2   \n",
       "..                  ...                       ...   \n",
       "584                   0                         0   \n",
       "585                   1                         0   \n",
       "586                   0                         2   \n",
       "587                   0                         1   \n",
       "590                   0                         1   \n",
       "\n",
       "     Freq_General_Strength_Training_w  Time_General_Strength_Training_h  \n",
       "2                                   3                                 2  \n",
       "3                                   0                                 0  \n",
       "7                                   3                                 4  \n",
       "8                                   1                                 1  \n",
       "10                                  3                                 3  \n",
       "..                                ...                               ...  \n",
       "584                                 5                                10  \n",
       "585                                 1                                 1  \n",
       "586                                 1                                 1  \n",
       "587                                 0                                 0  \n",
       "590                                 1                                 1  \n",
       "\n",
       "[393 rows x 17 columns]"
      ]
     },
     "execution_count": 8,
     "metadata": {},
     "output_type": "execute_result"
    }
   ],
   "source": [
    "df_no_object"
   ]
  },
  {
   "cell_type": "markdown",
   "metadata": {
    "execution": {
     "iopub.execute_input": "2021-09-16T14:15:33.331224Z",
     "iopub.status.busy": "2021-09-16T14:15:33.320477Z",
     "iopub.status.idle": "2021-09-16T14:15:33.362716Z",
     "shell.execute_reply": "2021-09-16T14:15:33.358672Z",
     "shell.execute_reply.started": "2021-09-16T14:15:33.331061Z"
    }
   },
   "source": [
    "#### Eliminem els outliers"
   ]
  },
  {
   "cell_type": "code",
   "execution_count": 9,
   "metadata": {
    "execution": {
     "iopub.execute_input": "2021-09-21T15:23:13.951589Z",
     "iopub.status.busy": "2021-09-21T15:23:13.950984Z",
     "iopub.status.idle": "2021-09-21T15:23:14.127250Z",
     "shell.execute_reply": "2021-09-21T15:23:14.120709Z",
     "shell.execute_reply.started": "2021-09-21T15:23:13.951493Z"
    }
   },
   "outputs": [
    {
     "data": {
      "text/plain": [
       "count     393.000000\n",
       "mean      178.840992\n",
       "std        58.779576\n",
       "min         1.680000\n",
       "25%       172.000000\n",
       "50%       178.000000\n",
       "75%       183.000000\n",
       "max      1295.000000\n",
       "Name: Height, dtype: float64"
      ]
     },
     "execution_count": 9,
     "metadata": {},
     "output_type": "execute_result"
    }
   ],
   "source": [
    "df_no_object.Height.describe()"
   ]
  },
  {
   "cell_type": "code",
   "execution_count": 10,
   "metadata": {
    "execution": {
     "iopub.execute_input": "2021-09-21T15:23:14.134326Z",
     "iopub.status.busy": "2021-09-21T15:23:14.133015Z",
     "iopub.status.idle": "2021-09-21T15:23:14.168814Z",
     "shell.execute_reply": "2021-09-21T15:23:14.165959Z",
     "shell.execute_reply.started": "2021-09-21T15:23:14.134256Z"
    }
   },
   "outputs": [
    {
     "data": {
      "text/plain": [
       "159.0      1\n",
       "62.0       1\n",
       "1295.0     1\n",
       "153.0      1\n",
       "182.9      1\n",
       "          ..\n",
       "170.0     17\n",
       "175.0     22\n",
       "183.0     24\n",
       "180.0     34\n",
       "178.0     41\n",
       "Name: Height, Length: 67, dtype: int64"
      ]
     },
     "execution_count": 10,
     "metadata": {},
     "output_type": "execute_result"
    }
   ],
   "source": [
    "df_no_object.Height.value_counts().sort_values()"
   ]
  },
  {
   "cell_type": "code",
   "execution_count": 11,
   "metadata": {
    "execution": {
     "iopub.execute_input": "2021-09-21T15:23:14.174433Z",
     "iopub.status.busy": "2021-09-21T15:23:14.172978Z",
     "iopub.status.idle": "2021-09-21T15:23:14.201162Z",
     "shell.execute_reply": "2021-09-21T15:23:14.199014Z",
     "shell.execute_reply.started": "2021-09-21T15:23:14.174279Z"
    }
   },
   "outputs": [],
   "source": [
    "df_no_object = df_no_object.drop(df_no_object[df_no_object['Height'] > 200].index)\n",
    "df_no_object = df_no_object.drop(df_no_object[df_no_object['Height'] < 111].index)"
   ]
  },
  {
   "cell_type": "code",
   "execution_count": 12,
   "metadata": {
    "execution": {
     "iopub.execute_input": "2021-09-21T15:23:14.208495Z",
     "iopub.status.busy": "2021-09-21T15:23:14.207657Z",
     "iopub.status.idle": "2021-09-21T15:23:14.256005Z",
     "shell.execute_reply": "2021-09-21T15:23:14.252513Z",
     "shell.execute_reply.started": "2021-09-21T15:23:14.208448Z"
    }
   },
   "outputs": [
    {
     "data": {
      "text/plain": [
       "count    388.000000\n",
       "mean      72.415182\n",
       "std       15.691350\n",
       "min       42.000000\n",
       "25%       65.000000\n",
       "50%       70.300000\n",
       "75%       77.025000\n",
       "max      180.000000\n",
       "Name: Weight, dtype: float64"
      ]
     },
     "execution_count": 12,
     "metadata": {},
     "output_type": "execute_result"
    }
   ],
   "source": [
    "df_no_object.Weight.describe()"
   ]
  },
  {
   "cell_type": "code",
   "execution_count": 13,
   "metadata": {
    "execution": {
     "iopub.execute_input": "2021-09-21T15:23:14.261833Z",
     "iopub.status.busy": "2021-09-21T15:23:14.260653Z",
     "iopub.status.idle": "2021-09-21T15:23:14.293824Z",
     "shell.execute_reply": "2021-09-21T15:23:14.291286Z",
     "shell.execute_reply.started": "2021-09-21T15:23:14.261751Z"
    }
   },
   "outputs": [
    {
     "data": {
      "text/plain": [
       "71.2      1\n",
       "175.0     1\n",
       "64.5      1\n",
       "180.0     1\n",
       "82.5      1\n",
       "         ..\n",
       "72.0     16\n",
       "75.0     17\n",
       "65.0     20\n",
       "70.0     23\n",
       "68.0     28\n",
       "Name: Weight, Length: 97, dtype: int64"
      ]
     },
     "execution_count": 13,
     "metadata": {},
     "output_type": "execute_result"
    }
   ],
   "source": [
    "df_no_object.Weight.value_counts().sort_values()"
   ]
  },
  {
   "cell_type": "code",
   "execution_count": 14,
   "metadata": {
    "execution": {
     "iopub.execute_input": "2021-09-21T15:23:14.301414Z",
     "iopub.status.busy": "2021-09-21T15:23:14.300539Z",
     "iopub.status.idle": "2021-09-21T15:23:14.320515Z",
     "shell.execute_reply": "2021-09-21T15:23:14.317930Z",
     "shell.execute_reply.started": "2021-09-21T15:23:14.301345Z"
    }
   },
   "outputs": [],
   "source": [
    "df_no_object = df_no_object.drop(df_no_object[df_no_object['Weight'] > 120].index)"
   ]
  },
  {
   "cell_type": "code",
   "execution_count": 18,
   "metadata": {
    "execution": {
     "iopub.execute_input": "2022-02-07T18:40:30.738426Z",
     "iopub.status.busy": "2022-02-07T18:40:30.737955Z",
     "iopub.status.idle": "2022-02-07T18:40:30.760660Z",
     "shell.execute_reply": "2022-02-07T18:40:30.756885Z",
     "shell.execute_reply.started": "2022-02-07T18:40:30.738381Z"
    }
   },
   "outputs": [
    {
     "name": "stdout",
     "output_type": "stream",
     "text": [
      "<class 'pandas.core.frame.DataFrame'>\n",
      "Int64Index: 380 entries, 2 to 590\n",
      "Data columns (total 17 columns):\n",
      " #   Column                             Non-Null Count  Dtype  \n",
      "---  ------                             --------------  -----  \n",
      " 0   Sex                                380 non-null    int8   \n",
      " 1   Height                             380 non-null    float64\n",
      " 2   Weight                             380 non-null    float64\n",
      " 3   Arm_span                           380 non-null    float64\n",
      " 4   Time_climbing                      380 non-null    int64  \n",
      " 5   Hardest_Ewbank_Grade_ever          380 non-null    float64\n",
      " 6   Hardest_Ewbank_Grade_last3months   380 non-null    float64\n",
      " 7   Ewbank_Grade_sent_90perc_routes    380 non-null    float64\n",
      " 8   Freq_climbing_sessions_w           380 non-null    int64  \n",
      " 9   Avg_hours_climbing_w               380 non-null    int64  \n",
      " 10  Avg_hours_training_for_climbing_w  380 non-null    int64  \n",
      " 11  Freq_Hangboard_w                   380 non-null    int64  \n",
      " 12  Freq_CampusBoard_w                 380 non-null    int64  \n",
      " 13  Time_CampusBoard_h                 380 non-null    int64  \n",
      " 14  Freq_Endurance_session_w           380 non-null    int64  \n",
      " 15  Freq_General_Strength_Training_w   380 non-null    int64  \n",
      " 16  Time_General_Strength_Training_h   380 non-null    int64  \n",
      "dtypes: float64(6), int64(10), int8(1)\n",
      "memory usage: 50.8 KB\n"
     ]
    }
   ],
   "source": [
    "df_no_object.info()"
   ]
  },
  {
   "cell_type": "markdown",
   "metadata": {},
   "source": [
    "### Train test split\n",
    "Agafem 'time climbing' com a target per perdir!\n"
   ]
  },
  {
   "cell_type": "code",
   "execution_count": 19,
   "metadata": {
    "execution": {
     "iopub.execute_input": "2022-02-07T18:42:37.326372Z",
     "iopub.status.busy": "2022-02-07T18:42:37.326013Z",
     "iopub.status.idle": "2022-02-07T18:42:38.506007Z",
     "shell.execute_reply": "2022-02-07T18:42:38.504183Z",
     "shell.execute_reply.started": "2022-02-07T18:42:37.326339Z"
    }
   },
   "outputs": [],
   "source": [
    "X = df_no_object.loc[:, df_no_object.columns != 'Time_climbing']\n",
    "y = df_no_object.loc[:,['Time_climbing']]\n",
    "\n",
    "from sklearn.model_selection import train_test_split\n",
    "X_train, X_test, y_train, y_test = train_test_split(X, y, random_state=0, test_size=0.2)"
   ]
  },
  {
   "cell_type": "markdown",
   "metadata": {},
   "source": [
    "### Pipeline amb gridsearch i Random Forest\n",
    "Per poder incloure funcions en un pipeline és important que tinguin un mètode fit i un transform. Per tant, podem incloure el Standard Scaler, PCA i el Random Forest en el pipeline. "
   ]
  },
  {
   "cell_type": "code",
   "execution_count": 28,
   "metadata": {
    "execution": {
     "iopub.execute_input": "2022-02-07T21:41:49.608334Z",
     "iopub.status.busy": "2022-02-07T21:41:49.607889Z",
     "iopub.status.idle": "2022-02-07T21:55:29.758111Z",
     "shell.execute_reply": "2022-02-07T21:55:29.752341Z",
     "shell.execute_reply.started": "2022-02-07T21:41:49.608287Z"
    }
   },
   "outputs": [
    {
     "name": "stdout",
     "output_type": "stream",
     "text": [
      "Best parameter (CV score=0.172):\n",
      "{'pca__n_components': 10, 'regressor__bootstrap': True, 'regressor__max_features': 'log2', 'regressor__min_samples_split': 4, 'regressor__n_estimators': 500}\n"
     ]
    }
   ],
   "source": [
    "from sklearn.decomposition import PCA\n",
    "from sklearn.ensemble import RandomForestRegressor\n",
    "from sklearn.pipeline import Pipeline\n",
    "from sklearn.model_selection import GridSearchCV\n",
    "from sklearn.preprocessing import StandardScaler\n",
    "\n",
    "# Define a pipeline to search for the best combination of PCA truncation\n",
    "# and classifier regularization.\n",
    "pca = PCA()\n",
    "# Define a Standard Scaler to normalize inputs\n",
    "scaler = StandardScaler()\n",
    "# Define regressor\n",
    "regressor = RandomForestRegressor()\n",
    "\n",
    "#Create pipeline\n",
    "pipe = Pipeline(steps=[(\"scaler\", scaler), (\"pca\", pca), (\"regressor\", regressor)])\n",
    "\n",
    "X_digits, y_digits = X, y\n",
    "# Parameters of pipelines can be set using ‘__’ separated parameter names:\n",
    "param_grid = {\n",
    "    \"pca__n_components\": [3,5,7,10],\n",
    "    \"regressor__n_estimators\": [100,500,700],\n",
    "    \"regressor__max_features\": ['auto', 'sqrt', 'log2'],\n",
    "    \"regressor__min_samples_split\": [2,3,4,5],\n",
    "    \"regressor__bootstrap\": [True,False],\n",
    "}\n",
    "search = GridSearchCV(pipe, param_grid, scoring='r2', n_jobs=2)\n",
    "search.fit(X_digits, y_digits)\n",
    "print(\"Best parameter (R2 score=%0.3f):\" % search.best_score_)\n",
    "print(search.best_params_)\n"
   ]
  },
  {
   "cell_type": "markdown",
   "metadata": {},
   "source": [
    "Després de crear un pipeline amb StandardScaler, PCA i Random Forest Regressor, hem fet còrrer el gridSearch amb diferents paràmetres per al PCA i el Random Forest. El gridsearch ens ha donat com a valors óptims: 10 components per al PCA i, bootrsap True, max_features log2, min_samples_split 4 i n_estimators 500 per al Random Forest. Ara podem incloure aquests valors directament al pipeline i fer fit i predict amb el subconjunt test."
   ]
  },
  {
   "cell_type": "code",
   "execution_count": 50,
   "metadata": {
    "execution": {
     "iopub.execute_input": "2022-02-07T22:27:20.453206Z",
     "iopub.status.busy": "2022-02-07T22:27:20.452812Z",
     "iopub.status.idle": "2022-02-07T22:27:21.771130Z",
     "shell.execute_reply": "2022-02-07T22:27:21.769601Z",
     "shell.execute_reply.started": "2022-02-07T22:27:20.453175Z"
    }
   },
   "outputs": [],
   "source": [
    "pca = PCA(n_components=10)\n",
    "# Define a Standard Scaler to normalize inputs\n",
    "scaler = StandardScaler()\n",
    "# Define regressor\n",
    "regressor = RandomForestRegressor(bootstrap= True, max_features='log2', min_samples_split= 4, n_estimators= 500)\n",
    "\n",
    "#Create pipeline\n",
    "pipe = Pipeline(steps=[(\"scaler\", scaler), (\"pca\", pca), (\"regressor\", regressor)])\n",
    "\n",
    "pipe.fit(X_train,y_train)\n",
    "y_pred = pd.DataFrame(pipe.predict(X_test), index = X_test.index, columns = y_test.columns)\n"
   ]
  },
  {
   "cell_type": "code",
   "execution_count": 52,
   "metadata": {
    "execution": {
     "iopub.execute_input": "2022-02-07T22:32:54.392691Z",
     "iopub.status.busy": "2022-02-07T22:32:54.392349Z",
     "iopub.status.idle": "2022-02-07T22:32:54.405145Z",
     "shell.execute_reply": "2022-02-07T22:32:54.403338Z",
     "shell.execute_reply.started": "2022-02-07T22:32:54.392658Z"
    }
   },
   "outputs": [
    {
     "data": {
      "text/plain": [
       "0.2979473703828758"
      ]
     },
     "execution_count": 52,
     "metadata": {},
     "output_type": "execute_result"
    }
   ],
   "source": [
    "from sklearn.metrics import r2_score\n",
    "\n",
    "scores=r2_score(y_test, y_pred)\n",
    "scores"
   ]
  },
  {
   "cell_type": "markdown",
   "metadata": {},
   "source": [
    "Tot i que en el subconjunt d'entrenament el R2 score era de 0.172, en el subconjunt test l'score ha millorat lleugerament fins el 0.30. En la taula següent podem veure 10 resultats, la seva predicció i la desviació."
   ]
  },
  {
   "cell_type": "code",
   "execution_count": 59,
   "metadata": {
    "execution": {
     "iopub.execute_input": "2022-02-07T22:40:43.568133Z",
     "iopub.status.busy": "2022-02-07T22:40:43.567314Z",
     "iopub.status.idle": "2022-02-07T22:40:43.596492Z",
     "shell.execute_reply": "2022-02-07T22:40:43.595169Z",
     "shell.execute_reply.started": "2022-02-07T22:40:43.568069Z"
    }
   },
   "outputs": [
    {
     "data": {
      "text/html": [
       "<div>\n",
       "<style scoped>\n",
       "    .dataframe tbody tr th:only-of-type {\n",
       "        vertical-align: middle;\n",
       "    }\n",
       "\n",
       "    .dataframe tbody tr th {\n",
       "        vertical-align: top;\n",
       "    }\n",
       "\n",
       "    .dataframe thead th {\n",
       "        text-align: right;\n",
       "    }\n",
       "</style>\n",
       "<table border=\"1\" class=\"dataframe\">\n",
       "  <thead>\n",
       "    <tr style=\"text-align: right;\">\n",
       "      <th></th>\n",
       "      <th>y_real</th>\n",
       "      <th>y_pred</th>\n",
       "      <th>desv.</th>\n",
       "    </tr>\n",
       "  </thead>\n",
       "  <tbody>\n",
       "    <tr>\n",
       "      <th>243</th>\n",
       "      <td>5</td>\n",
       "      <td>6.411747</td>\n",
       "      <td>1.411747</td>\n",
       "    </tr>\n",
       "    <tr>\n",
       "      <th>478</th>\n",
       "      <td>7</td>\n",
       "      <td>3.498655</td>\n",
       "      <td>-3.501345</td>\n",
       "    </tr>\n",
       "    <tr>\n",
       "      <th>433</th>\n",
       "      <td>5</td>\n",
       "      <td>4.373976</td>\n",
       "      <td>-0.626024</td>\n",
       "    </tr>\n",
       "    <tr>\n",
       "      <th>426</th>\n",
       "      <td>4</td>\n",
       "      <td>7.637766</td>\n",
       "      <td>3.637766</td>\n",
       "    </tr>\n",
       "    <tr>\n",
       "      <th>347</th>\n",
       "      <td>2</td>\n",
       "      <td>4.855310</td>\n",
       "      <td>2.855310</td>\n",
       "    </tr>\n",
       "    <tr>\n",
       "      <th>118</th>\n",
       "      <td>5</td>\n",
       "      <td>6.054271</td>\n",
       "      <td>1.054271</td>\n",
       "    </tr>\n",
       "    <tr>\n",
       "      <th>489</th>\n",
       "      <td>3</td>\n",
       "      <td>2.791667</td>\n",
       "      <td>-0.208333</td>\n",
       "    </tr>\n",
       "    <tr>\n",
       "      <th>98</th>\n",
       "      <td>12</td>\n",
       "      <td>4.465047</td>\n",
       "      <td>-7.534953</td>\n",
       "    </tr>\n",
       "    <tr>\n",
       "      <th>290</th>\n",
       "      <td>3</td>\n",
       "      <td>3.211193</td>\n",
       "      <td>0.211193</td>\n",
       "    </tr>\n",
       "    <tr>\n",
       "      <th>66</th>\n",
       "      <td>5</td>\n",
       "      <td>3.284043</td>\n",
       "      <td>-1.715957</td>\n",
       "    </tr>\n",
       "  </tbody>\n",
       "</table>\n",
       "</div>"
      ],
      "text/plain": [
       "     y_real    y_pred     desv.\n",
       "243       5  6.411747  1.411747\n",
       "478       7  3.498655 -3.501345\n",
       "433       5  4.373976 -0.626024\n",
       "426       4  7.637766  3.637766\n",
       "347       2  4.855310  2.855310\n",
       "118       5  6.054271  1.054271\n",
       "489       3  2.791667 -0.208333\n",
       "98       12  4.465047 -7.534953\n",
       "290       3  3.211193  0.211193\n",
       "66        5  3.284043 -1.715957"
      ]
     },
     "execution_count": 59,
     "metadata": {},
     "output_type": "execute_result"
    }
   ],
   "source": [
    "taula = pd.concat([y_test,y_pred], axis=1)[:10]\n",
    "taula.columns=['y_real','y_pred']\n",
    "taula['desv.'] = taula['y_pred'] - taula ['y_real']\n",
    "taula"
   ]
  },
  {
   "cell_type": "markdown",
   "metadata": {},
   "source": [
    "## Exercici 2. Agafa un text en anglès que vulguis, i calcula'n la freqüència de les paraules"
   ]
  },
  {
   "cell_type": "markdown",
   "metadata": {},
   "source": [
    "Carreguem alguns documents de fetch_20newsgroups de sklearn.datasets i calculem la freqüència de les paraules d'un dels documents."
   ]
  },
  {
   "cell_type": "code",
   "execution_count": 60,
   "metadata": {
    "execution": {
     "iopub.execute_input": "2022-02-07T22:56:50.284915Z",
     "iopub.status.busy": "2022-02-07T22:56:50.281646Z",
     "iopub.status.idle": "2022-02-07T22:56:51.212094Z",
     "shell.execute_reply": "2022-02-07T22:56:51.210144Z",
     "shell.execute_reply.started": "2022-02-07T22:56:50.284678Z"
    }
   },
   "outputs": [],
   "source": [
    "from sklearn.datasets import fetch_20newsgroups"
   ]
  },
  {
   "cell_type": "code",
   "execution_count": 71,
   "metadata": {
    "execution": {
     "iopub.execute_input": "2022-02-07T23:09:27.993725Z",
     "iopub.status.busy": "2022-02-07T23:09:27.988967Z",
     "iopub.status.idle": "2022-02-07T23:09:28.660060Z",
     "shell.execute_reply": "2022-02-07T23:09:28.658839Z",
     "shell.execute_reply.started": "2022-02-07T23:09:27.993630Z"
    }
   },
   "outputs": [],
   "source": [
    "docs = fetch_20newsgroups(subset=\"train\").data[1:10]"
   ]
  },
  {
   "cell_type": "code",
   "execution_count": 147,
   "metadata": {
    "execution": {
     "iopub.execute_input": "2022-02-07T23:53:25.783207Z",
     "iopub.status.busy": "2022-02-07T23:53:25.782705Z",
     "iopub.status.idle": "2022-02-07T23:53:25.793122Z",
     "shell.execute_reply": "2022-02-07T23:53:25.791787Z",
     "shell.execute_reply.started": "2022-02-07T23:53:25.783166Z"
    }
   },
   "outputs": [
    {
     "data": {
      "text/plain": [
       "['From: dfo@vttoulu.tko.vtt.fi (Foxvog Douglas)\\nSubject: Re: Rewording the Second Amendment (ideas)\\nOrganization: VTT\\nLines: 58\\n\\nIn article <1r1eu1$4t@transfer.stratus.com> cdt@sw.stratus.com (C. D. Tavares) writes:\\n>In article <1993Apr20.083057.16899@ousrvr.oulu.fi>, dfo@vttoulu.tko.vtt.fi (Foxvog Douglas) writes:\\n>> In article <1qv87v$4j3@transfer.stratus.com> cdt@sw.stratus.com (C. D. Tavares) writes:\\n>> >In article <C5n3GI.F8F@ulowell.ulowell.edu>, jrutledg@cs.ulowell.edu (John Lawrence Rutledge) writes:\\n>\\n>> >> The massive destructive power of many modern weapons, makes the\\n>> >> cost of an accidental or crimial usage of these weapons to great.\\n>> >> The weapons of mass destruction need to be in the control of\\n>> >> the government only.  Individual access would result in the\\n>> >> needless deaths of millions.  This makes the right of the people\\n>> >> to keep and bear many modern weapons non-existant.\\n\\n>> >Thanks for stating where you\\'re coming from.  Needless to say, I\\n>> >disagree on every count.\\n\\n>> You believe that individuals should have the right to own weapons of\\n>> mass destruction?  I find it hard to believe that you would support a \\n>> neighbor\\'s right to keep nuclear weapons, biological weapons, and nerve\\n>> gas on his/her property.  \\n\\n>> If we cannot even agree on keeping weapons of mass destruction out of\\n>> the hands of individuals, can there be any hope for us?\\n\\n>I don\\'t sign any blank checks.\\n\\nOf course.  The term must be rigidly defined in any bill.\\n\\n>When Doug Foxvog says \"weapons of mass destruction,\" he means CBW and\\n>nukes.  When Sarah Brady says \"weapons of mass destruction\" she means\\n>Street Sweeper shotguns and semi-automatic SKS rifles.  \\n\\nI doubt she uses this term for that.  You are using a quote allegedly\\nfrom her, can you back it up?\\n\\n>When John\\n>Lawrence Rutledge says \"weapons of mass destruction,\" and then immediately\\n>follows it with:\\n\\n>>> The US has thousands of people killed each year by handguns,\\n>>> this number can easily be reduced by putting reasonable restrictions\\n>>> on them.\\n\\n>...what does Rutledge mean by the term?\\n\\nI read the article as presenting first an argument about weapons of mass\\ndestruction (as commonly understood) and then switching to other topics.\\nThe first point evidently was to show that not all weapons should be\\nallowed, and then the later analysis was, given this understanding, to\\nconsider another class.\\n\\n>cdt@rocket.sw.stratus.com   --If you believe that I speak for my company,\\n>OR cdt@vos.stratus.com        write today for my special Investors\\' Packet...\\n\\n\\n\\n-- \\ndoug foxvog\\ndouglas.foxvog@vtt.fi\\n']"
      ]
     },
     "execution_count": 147,
     "metadata": {},
     "output_type": "execute_result"
    }
   ],
   "source": [
    "#Fem una ullada al quart document\n",
    "docs[4:5]"
   ]
  },
  {
   "cell_type": "markdown",
   "metadata": {},
   "source": [
    "### Tokenització"
   ]
  },
  {
   "cell_type": "code",
   "execution_count": 169,
   "metadata": {
    "execution": {
     "iopub.execute_input": "2022-02-08T00:01:42.541688Z",
     "iopub.status.busy": "2022-02-08T00:01:42.541266Z",
     "iopub.status.idle": "2022-02-08T00:01:42.550565Z",
     "shell.execute_reply": "2022-02-08T00:01:42.548956Z",
     "shell.execute_reply.started": "2022-02-08T00:01:42.541644Z"
    }
   },
   "outputs": [],
   "source": [
    "from nltk import RegexpTokenizer\n",
    "\n",
    "tokenizer = nltk.RegexpTokenizer(r\"\\w+\")\n",
    "words_dict = tokenizer.tokenize(str(docs[4:5]))"
   ]
  },
  {
   "cell_type": "code",
   "execution_count": 170,
   "metadata": {
    "execution": {
     "iopub.execute_input": "2022-02-08T00:01:53.577077Z",
     "iopub.status.busy": "2022-02-08T00:01:53.576463Z",
     "iopub.status.idle": "2022-02-08T00:01:53.585177Z",
     "shell.execute_reply": "2022-02-08T00:01:53.583712Z",
     "shell.execute_reply.started": "2022-02-08T00:01:53.577031Z"
    }
   },
   "outputs": [
    {
     "data": {
      "text/plain": [
       "['From',\n",
       " 'dfo',\n",
       " 'vttoulu',\n",
       " 'tko',\n",
       " 'vtt',\n",
       " 'fi',\n",
       " 'Foxvog',\n",
       " 'Douglas',\n",
       " 'nSubject',\n",
       " 'Re',\n",
       " 'Rewording',\n",
       " 'the',\n",
       " 'Second',\n",
       " 'Amendment',\n",
       " 'ideas',\n",
       " 'nOrganization',\n",
       " 'VTT',\n",
       " 'nLines',\n",
       " '58',\n",
       " 'n']"
      ]
     },
     "execution_count": 170,
     "metadata": {},
     "output_type": "execute_result"
    }
   ],
   "source": [
    "# 20 primers elements del diccionari\n",
    "words_dict[:20]"
   ]
  },
  {
   "cell_type": "markdown",
   "metadata": {},
   "source": [
    "### Càlcul de la freqüència"
   ]
  },
  {
   "cell_type": "code",
   "execution_count": 171,
   "metadata": {
    "execution": {
     "iopub.execute_input": "2022-02-08T00:01:57.289500Z",
     "iopub.status.busy": "2022-02-08T00:01:57.288911Z",
     "iopub.status.idle": "2022-02-08T00:01:57.301559Z",
     "shell.execute_reply": "2022-02-08T00:01:57.299728Z",
     "shell.execute_reply.started": "2022-02-08T00:01:57.289456Z"
    }
   },
   "outputs": [
    {
     "data": {
      "text/plain": [
       "[('n', 49),\n",
       " ('of', 16),\n",
       " ('weapons', 13),\n",
       " ('the', 12),\n",
       " ('to', 10),\n",
       " ('mass', 7),\n",
       " ('and', 7),\n",
       " ('stratus', 6),\n",
       " ('com', 6),\n",
       " ('destruction', 6)]"
      ]
     },
     "execution_count": 171,
     "metadata": {},
     "output_type": "execute_result"
    }
   ],
   "source": [
    "from nltk.probability import FreqDist\n",
    "\n",
    "fdist = FreqDist(words_dict)\n",
    "fdist.most_common(10)"
   ]
  },
  {
   "cell_type": "markdown",
   "metadata": {},
   "source": [
    "Tot i que en el resultat anterior algunes de les paraules més freqüents tenen significat, encara podem fer una neteja per eliminar les que en careixen i, així, obtindre uns resultats que ens permetin esbrinar millor la temàtica del document."
   ]
  },
  {
   "cell_type": "markdown",
   "metadata": {},
   "source": [
    "## Nivell 2"
   ]
  },
  {
   "cell_type": "markdown",
   "metadata": {},
   "source": [
    "## Exercici 1. Treu les stopwords i realitza stemming al teu conjunt de dades."
   ]
  },
  {
   "cell_type": "markdown",
   "metadata": {},
   "source": [
    "### Eliminació de stopwords"
   ]
  },
  {
   "cell_type": "code",
   "execution_count": 172,
   "metadata": {
    "execution": {
     "iopub.execute_input": "2022-02-08T00:02:05.510597Z",
     "iopub.status.busy": "2022-02-08T00:02:05.509977Z",
     "iopub.status.idle": "2022-02-08T00:02:05.520114Z",
     "shell.execute_reply": "2022-02-08T00:02:05.518735Z",
     "shell.execute_reply.started": "2022-02-08T00:02:05.510543Z"
    }
   },
   "outputs": [],
   "source": [
    "from nltk.corpus import stopwords\n",
    "stop_words=set(stopwords.words(\"english\"))\n",
    "\n",
    "filtered_words_dict=[]\n",
    "for w in words_dict:\n",
    "    if w not in stop_words:\n",
    "            filtered_words_dict.append(w)"
   ]
  },
  {
   "cell_type": "markdown",
   "metadata": {},
   "source": [
    "### Stemming"
   ]
  },
  {
   "cell_type": "code",
   "execution_count": 173,
   "metadata": {
    "execution": {
     "iopub.execute_input": "2022-02-08T00:02:07.525701Z",
     "iopub.status.busy": "2022-02-08T00:02:07.525321Z",
     "iopub.status.idle": "2022-02-08T00:02:07.539269Z",
     "shell.execute_reply": "2022-02-08T00:02:07.538020Z",
     "shell.execute_reply.started": "2022-02-08T00:02:07.525668Z"
    }
   },
   "outputs": [],
   "source": [
    "from nltk.stem.snowball import SnowballStemmer\n",
    "\n",
    "#Converting vectorizer vocabulary into stemmer vocabulary\n",
    "Voc_stemmer = []\n",
    "\n",
    "stemmer = SnowballStemmer(\"english\") \n",
    "\n",
    "for elem in filtered_words_dict:\n",
    "    raiz = stemmer.stem(str(elem))\n",
    "    Voc_stemmer.append(raiz)"
   ]
  },
  {
   "cell_type": "code",
   "execution_count": 174,
   "metadata": {
    "execution": {
     "iopub.execute_input": "2022-02-08T00:02:09.913911Z",
     "iopub.status.busy": "2022-02-08T00:02:09.913317Z",
     "iopub.status.idle": "2022-02-08T00:02:09.924904Z",
     "shell.execute_reply": "2022-02-08T00:02:09.922582Z",
     "shell.execute_reply.started": "2022-02-08T00:02:09.913869Z"
    }
   },
   "outputs": [
    {
     "data": {
      "text/plain": [
       "[('n', 49),\n",
       " ('weapon', 13),\n",
       " ('destruct', 7),\n",
       " ('mass', 7),\n",
       " ('stratus', 6),\n",
       " ('com', 6),\n",
       " ('foxvog', 5),\n",
       " ('articl', 5),\n",
       " ('write', 5),\n",
       " ('vtt', 4)]"
      ]
     },
     "execution_count": 174,
     "metadata": {},
     "output_type": "execute_result"
    }
   ],
   "source": [
    "fdist_2 = FreqDist(Voc_stemmer)\n",
    "fdist_2.most_common(10)"
   ]
  },
  {
   "cell_type": "markdown",
   "metadata": {},
   "source": [
    "Una vegada eliminades les Stopwords i fet el stemming, les paraules més freqüents tenen una mica més de sentit i podem fins i tot deduir que es tracta d'un article de temàtica bèlica, ja que hi trobem les arrels de paraules com arma ('weapon'), destrucció ('destruc'), massa ('mass')."
   ]
  },
  {
   "cell_type": "markdown",
   "metadata": {},
   "source": [
    "## Nivell 3"
   ]
  },
  {
   "cell_type": "markdown",
   "metadata": {},
   "source": [
    "## Exercici 1. Realitza sentiment analysis al teu conjunt de dades.\n"
   ]
  },
  {
   "cell_type": "markdown",
   "metadata": {
    "execution": {
     "iopub.execute_input": "2022-02-08T22:42:14.158248Z",
     "iopub.status.busy": "2022-02-08T22:42:14.147420Z",
     "iopub.status.idle": "2022-02-08T22:42:14.280844Z",
     "shell.execute_reply": "2022-02-08T22:42:14.279292Z",
     "shell.execute_reply.started": "2022-02-08T22:42:14.158139Z"
    }
   },
   "source": [
    "Si fem un analisis ràpid amb el SentimentIntensityAnalyzer de NLTK, ens dona com a resultat un 79% de sentiment neutre, un 18% de negatiu i un 3% de positiu.\n",
    "Una alternativa es entrenar un model amb altres textos que ja tinguen l'etiqueta de sentiment positiu, negatiu o neutre i llavors introduir aquest text al model per a que faci la predicció."
   ]
  },
  {
   "cell_type": "code",
   "execution_count": 182,
   "metadata": {
    "execution": {
     "iopub.execute_input": "2022-02-08T22:45:16.652783Z",
     "iopub.status.busy": "2022-02-08T22:45:16.652370Z",
     "iopub.status.idle": "2022-02-08T22:45:16.707973Z",
     "shell.execute_reply": "2022-02-08T22:45:16.706179Z",
     "shell.execute_reply.started": "2022-02-08T22:45:16.652735Z"
    }
   },
   "outputs": [
    {
     "name": "stderr",
     "output_type": "stream",
     "text": [
      "[nltk_data] Downloading package vader_lexicon to\n",
      "[nltk_data]     /Users/yvonnemullermartorell/nltk_data...\n",
      "[nltk_data]   Package vader_lexicon is already up-to-date!\n"
     ]
    },
    {
     "data": {
      "text/plain": [
       "{'neg': 0.18, 'neu': 0.79, 'pos': 0.03, 'compound': -0.9957}"
      ]
     },
     "execution_count": 182,
     "metadata": {},
     "output_type": "execute_result"
    }
   ],
   "source": [
    "import nltk\n",
    "nltk.download('vader_lexicon')\n",
    "from nltk.sentiment import SentimentIntensityAnalyzer\n",
    "\n",
    "sia = SentimentIntensityAnalyzer()\n",
    "sia.polarity_scores(str(docs[4:5]))"
   ]
  }
 ],
 "metadata": {
  "kernelspec": {
   "display_name": "Python 3",
   "language": "python",
   "name": "python3"
  },
  "language_info": {
   "codemirror_mode": {
    "name": "ipython",
    "version": 3
   },
   "file_extension": ".py",
   "mimetype": "text/x-python",
   "name": "python",
   "nbconvert_exporter": "python",
   "pygments_lexer": "ipython3",
   "version": "3.8.5"
  },
  "toc": {
   "base_numbering": 1,
   "nav_menu": {},
   "number_sections": true,
   "sideBar": true,
   "skip_h1_title": false,
   "title_cell": "Table of Contents",
   "title_sidebar": "Contents",
   "toc_cell": true,
   "toc_position": {},
   "toc_section_display": true,
   "toc_window_display": false
  },
  "varInspector": {
   "cols": {
    "lenName": 16,
    "lenType": 16,
    "lenVar": 40
   },
   "kernels_config": {
    "python": {
     "delete_cmd_postfix": "",
     "delete_cmd_prefix": "del ",
     "library": "var_list.py",
     "varRefreshCmd": "print(var_dic_list())"
    },
    "r": {
     "delete_cmd_postfix": ") ",
     "delete_cmd_prefix": "rm(",
     "library": "var_list.r",
     "varRefreshCmd": "cat(var_dic_list()) "
    }
   },
   "types_to_exclude": [
    "module",
    "function",
    "builtin_function_or_method",
    "instance",
    "_Feature"
   ],
   "window_display": false
  }
 },
 "nbformat": 4,
 "nbformat_minor": 4
}
