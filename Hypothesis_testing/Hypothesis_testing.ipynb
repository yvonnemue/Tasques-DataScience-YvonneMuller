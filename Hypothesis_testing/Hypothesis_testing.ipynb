{
 "cells": [
  {
   "cell_type": "markdown",
   "metadata": {},
   "source": [
    "## Exercici 1\n",
    "Agafa un conjunt de dades de tema esportiu que t'agradi i selecciona un atribut del conjunt de dades. Calcula el p-valor i digues si rebutja la hipòtesi nul·la agafant un alfa de 5%. "
   ]
  },
  {
   "cell_type": "code",
   "execution_count": 1,
   "metadata": {
    "execution": {
     "iopub.execute_input": "2021-09-21T15:23:05.272835Z",
     "iopub.status.busy": "2021-09-21T15:23:05.265807Z",
     "iopub.status.idle": "2021-09-21T15:23:12.616633Z",
     "shell.execute_reply": "2021-09-21T15:23:12.611461Z",
     "shell.execute_reply.started": "2021-09-21T15:23:05.272710Z"
    }
   },
   "outputs": [],
   "source": [
    "import pandas as pd\n",
    "import numpy as np\n",
    "import matplotlib.pyplot as plt\n",
    "import seaborn as sns\n",
    "import math"
   ]
  },
  {
   "cell_type": "code",
   "execution_count": 2,
   "metadata": {
    "execution": {
     "iopub.execute_input": "2021-09-21T15:23:12.630357Z",
     "iopub.status.busy": "2021-09-21T15:23:12.629683Z",
     "iopub.status.idle": "2021-09-21T15:23:12.883614Z",
     "shell.execute_reply": "2021-09-21T15:23:12.877719Z",
     "shell.execute_reply.started": "2021-09-21T15:23:12.630303Z"
    }
   },
   "outputs": [],
   "source": [
    "df = pd.read_csv(\"../Sampling/Climbers.csv\", sep=\";\")"
   ]
  },
  {
   "cell_type": "markdown",
   "metadata": {},
   "source": [
    "#### Canviem el nom de les columnes per fer la manipulació més fàcilment"
   ]
  },
  {
   "cell_type": "code",
   "execution_count": 3,
   "metadata": {
    "execution": {
     "iopub.execute_input": "2021-09-21T15:23:12.916876Z",
     "iopub.status.busy": "2021-09-21T15:23:12.915352Z",
     "iopub.status.idle": "2021-09-21T15:23:12.929686Z",
     "shell.execute_reply": "2021-09-21T15:23:12.927690Z",
     "shell.execute_reply.started": "2021-09-21T15:23:12.916807Z"
    }
   },
   "outputs": [],
   "source": [
    "df.columns = ['Timestamp', 'Sex', 'Height', 'Weight', 'Arm_span','Time_climbing', 'Indoor_vs_outdoor',\n",
    "              'Hardest_V_Grade_ever','Hardest_V_Grade_last3months','V_Grade_sent_90perc_routes',\n",
    "              'Hardest_Ewbank_Grade_ever','Hardest_Ewbank_Grade_last3months','Ewbank_Grade_sent_90perc_routes',\n",
    "              'Freq_climbing_sessions_w','Avg_hours_climbing_w','Avg_hours_training_for_climbing_w',\n",
    "              'Freq_Hangboard_w', 'Hangboard_grips_used','Style_Hangboard','Max_Weight_Hangboard_18mm_Half_crimp',\n",
    "              'Max_Weight_Hangboard_18mm_Open_crimp','Min_Edge_mm,kg_Half_crimp','Min_Edge_mm,kg_Open_crimp',\n",
    "              'Freq_CampusBoard_w', 'Time_CampusBoard_h','Freq_Endurance_session_w','Endurance_training', \n",
    "              'Freq_General_Strength_Training_w','Time_General_Strength_Training_h','Type_StrengthTraining', \n",
    "              'Other_activities','Max_PullUp_reps', 'Max_weighted_PullUps_5rep', 'Max_PushUp_reps',\n",
    "              'Max_L-sit_time']"
   ]
  },
  {
   "cell_type": "markdown",
   "metadata": {},
   "source": [
    "#### Convertim les columnes objecte a nombre"
   ]
  },
  {
   "cell_type": "code",
   "execution_count": 4,
   "metadata": {
    "execution": {
     "iopub.execute_input": "2021-09-21T15:23:12.937971Z",
     "iopub.status.busy": "2021-09-21T15:23:12.932981Z",
     "iopub.status.idle": "2021-09-21T15:23:13.131226Z",
     "shell.execute_reply": "2021-09-21T15:23:13.128426Z",
     "shell.execute_reply.started": "2021-09-21T15:23:12.937878Z"
    }
   },
   "outputs": [],
   "source": [
    "df['Sex'] = df['Sex'].astype('category').cat.codes # 0 = Female, 1 = Male\n",
    "df.Height = pd.to_numeric(df.Height, errors='coerce')\n",
    "df.Weight = pd.to_numeric(df.Weight, errors='coerce')\n",
    "df.Arm_span = pd.to_numeric(df.Arm_span, errors='coerce')\n",
    "df.Hardest_Ewbank_Grade_ever = pd.to_numeric(df.Hardest_Ewbank_Grade_ever, errors='coerce')\n",
    "df.Hardest_Ewbank_Grade_last3months = pd.to_numeric(df.Hardest_Ewbank_Grade_last3months, errors='coerce')\n",
    "df.Ewbank_Grade_sent_90perc_routes = pd.to_numeric(df.Ewbank_Grade_sent_90perc_routes, errors='coerce')"
   ]
  },
  {
   "cell_type": "code",
   "execution_count": 5,
   "metadata": {
    "execution": {
     "iopub.execute_input": "2021-09-21T15:23:13.221739Z",
     "iopub.status.busy": "2021-09-21T15:23:13.220493Z",
     "iopub.status.idle": "2021-09-21T15:23:13.245814Z",
     "shell.execute_reply": "2021-09-21T15:23:13.241990Z",
     "shell.execute_reply.started": "2021-09-21T15:23:13.221629Z"
    }
   },
   "outputs": [],
   "source": [
    "def createTime(time):\n",
    "    start = time.find(\"- \") + len(\"- \")\n",
    "    end = time.find(\" years\")\n",
    "    substring = time[start:end]\n",
    "    return int(math.ceil(float(substring)))"
   ]
  },
  {
   "cell_type": "code",
   "execution_count": 6,
   "metadata": {
    "execution": {
     "iopub.execute_input": "2021-09-21T15:23:13.254053Z",
     "iopub.status.busy": "2021-09-21T15:23:13.252024Z",
     "iopub.status.idle": "2021-09-21T15:23:13.277179Z",
     "shell.execute_reply": "2021-09-21T15:23:13.274383Z",
     "shell.execute_reply.started": "2021-09-21T15:23:13.253998Z"
    }
   },
   "outputs": [],
   "source": [
    "df['Time_climbing'] = df['Time_climbing'].replace('More than 15 years', '- 15 years')\n",
    "df['Time_climbing'] = df['Time_climbing'].apply(lambda x: createTime(x))"
   ]
  },
  {
   "cell_type": "markdown",
   "metadata": {},
   "source": [
    "#### Seleccionem les columnes numèriques únicament"
   ]
  },
  {
   "cell_type": "code",
   "execution_count": 7,
   "metadata": {
    "execution": {
     "iopub.execute_input": "2021-09-21T15:23:13.281642Z",
     "iopub.status.busy": "2021-09-21T15:23:13.279904Z",
     "iopub.status.idle": "2021-09-21T15:23:13.347446Z",
     "shell.execute_reply": "2021-09-21T15:23:13.329945Z",
     "shell.execute_reply.started": "2021-09-21T15:23:13.281496Z"
    }
   },
   "outputs": [],
   "source": [
    "df_no_object = df.select_dtypes(exclude=['object'])\n",
    "df_no_object = df_no_object.dropna()"
   ]
  },
  {
   "cell_type": "code",
   "execution_count": 8,
   "metadata": {
    "execution": {
     "iopub.execute_input": "2021-09-21T15:23:13.588491Z",
     "iopub.status.busy": "2021-09-21T15:23:13.586347Z",
     "iopub.status.idle": "2021-09-21T15:23:13.902186Z",
     "shell.execute_reply": "2021-09-21T15:23:13.899151Z",
     "shell.execute_reply.started": "2021-09-21T15:23:13.588417Z"
    }
   },
   "outputs": [
    {
     "data": {
      "text/html": [
       "<div>\n",
       "<style scoped>\n",
       "    .dataframe tbody tr th:only-of-type {\n",
       "        vertical-align: middle;\n",
       "    }\n",
       "\n",
       "    .dataframe tbody tr th {\n",
       "        vertical-align: top;\n",
       "    }\n",
       "\n",
       "    .dataframe thead th {\n",
       "        text-align: right;\n",
       "    }\n",
       "</style>\n",
       "<table border=\"1\" class=\"dataframe\">\n",
       "  <thead>\n",
       "    <tr style=\"text-align: right;\">\n",
       "      <th></th>\n",
       "      <th>Sex</th>\n",
       "      <th>Height</th>\n",
       "      <th>Weight</th>\n",
       "      <th>Arm_span</th>\n",
       "      <th>Time_climbing</th>\n",
       "      <th>Hardest_Ewbank_Grade_ever</th>\n",
       "      <th>Hardest_Ewbank_Grade_last3months</th>\n",
       "      <th>Ewbank_Grade_sent_90perc_routes</th>\n",
       "      <th>Freq_climbing_sessions_w</th>\n",
       "      <th>Avg_hours_climbing_w</th>\n",
       "      <th>Avg_hours_training_for_climbing_w</th>\n",
       "      <th>Freq_Hangboard_w</th>\n",
       "      <th>Freq_CampusBoard_w</th>\n",
       "      <th>Time_CampusBoard_h</th>\n",
       "      <th>Freq_Endurance_session_w</th>\n",
       "      <th>Freq_General_Strength_Training_w</th>\n",
       "      <th>Time_General_Strength_Training_h</th>\n",
       "    </tr>\n",
       "  </thead>\n",
       "  <tbody>\n",
       "    <tr>\n",
       "      <th>2</th>\n",
       "      <td>1</td>\n",
       "      <td>178.0</td>\n",
       "      <td>67.0</td>\n",
       "      <td>175.0</td>\n",
       "      <td>1</td>\n",
       "      <td>21.0</td>\n",
       "      <td>21.0</td>\n",
       "      <td>19.0</td>\n",
       "      <td>3</td>\n",
       "      <td>4</td>\n",
       "      <td>3</td>\n",
       "      <td>2</td>\n",
       "      <td>0</td>\n",
       "      <td>0</td>\n",
       "      <td>2</td>\n",
       "      <td>3</td>\n",
       "      <td>2</td>\n",
       "    </tr>\n",
       "    <tr>\n",
       "      <th>3</th>\n",
       "      <td>1</td>\n",
       "      <td>173.0</td>\n",
       "      <td>70.0</td>\n",
       "      <td>178.0</td>\n",
       "      <td>10</td>\n",
       "      <td>21.0</td>\n",
       "      <td>21.0</td>\n",
       "      <td>18.0</td>\n",
       "      <td>2</td>\n",
       "      <td>6</td>\n",
       "      <td>1</td>\n",
       "      <td>1</td>\n",
       "      <td>0</td>\n",
       "      <td>0</td>\n",
       "      <td>1</td>\n",
       "      <td>0</td>\n",
       "      <td>0</td>\n",
       "    </tr>\n",
       "    <tr>\n",
       "      <th>7</th>\n",
       "      <td>1</td>\n",
       "      <td>186.0</td>\n",
       "      <td>88.0</td>\n",
       "      <td>192.0</td>\n",
       "      <td>2</td>\n",
       "      <td>23.0</td>\n",
       "      <td>22.0</td>\n",
       "      <td>21.0</td>\n",
       "      <td>3</td>\n",
       "      <td>8</td>\n",
       "      <td>8</td>\n",
       "      <td>1</td>\n",
       "      <td>0</td>\n",
       "      <td>0</td>\n",
       "      <td>2</td>\n",
       "      <td>3</td>\n",
       "      <td>4</td>\n",
       "    </tr>\n",
       "    <tr>\n",
       "      <th>8</th>\n",
       "      <td>1</td>\n",
       "      <td>185.0</td>\n",
       "      <td>60.0</td>\n",
       "      <td>180.0</td>\n",
       "      <td>1</td>\n",
       "      <td>21.0</td>\n",
       "      <td>21.0</td>\n",
       "      <td>18.0</td>\n",
       "      <td>1</td>\n",
       "      <td>3</td>\n",
       "      <td>1</td>\n",
       "      <td>0</td>\n",
       "      <td>0</td>\n",
       "      <td>0</td>\n",
       "      <td>0</td>\n",
       "      <td>1</td>\n",
       "      <td>1</td>\n",
       "    </tr>\n",
       "    <tr>\n",
       "      <th>10</th>\n",
       "      <td>1</td>\n",
       "      <td>178.0</td>\n",
       "      <td>81.6</td>\n",
       "      <td>178.0</td>\n",
       "      <td>6</td>\n",
       "      <td>25.0</td>\n",
       "      <td>23.0</td>\n",
       "      <td>21.0</td>\n",
       "      <td>2</td>\n",
       "      <td>4</td>\n",
       "      <td>0</td>\n",
       "      <td>1</td>\n",
       "      <td>0</td>\n",
       "      <td>0</td>\n",
       "      <td>2</td>\n",
       "      <td>3</td>\n",
       "      <td>3</td>\n",
       "    </tr>\n",
       "    <tr>\n",
       "      <th>...</th>\n",
       "      <td>...</td>\n",
       "      <td>...</td>\n",
       "      <td>...</td>\n",
       "      <td>...</td>\n",
       "      <td>...</td>\n",
       "      <td>...</td>\n",
       "      <td>...</td>\n",
       "      <td>...</td>\n",
       "      <td>...</td>\n",
       "      <td>...</td>\n",
       "      <td>...</td>\n",
       "      <td>...</td>\n",
       "      <td>...</td>\n",
       "      <td>...</td>\n",
       "      <td>...</td>\n",
       "      <td>...</td>\n",
       "      <td>...</td>\n",
       "    </tr>\n",
       "    <tr>\n",
       "      <th>584</th>\n",
       "      <td>1</td>\n",
       "      <td>172.0</td>\n",
       "      <td>82.5</td>\n",
       "      <td>191.7</td>\n",
       "      <td>3</td>\n",
       "      <td>22.0</td>\n",
       "      <td>22.0</td>\n",
       "      <td>19.0</td>\n",
       "      <td>2</td>\n",
       "      <td>4</td>\n",
       "      <td>2</td>\n",
       "      <td>1</td>\n",
       "      <td>0</td>\n",
       "      <td>0</td>\n",
       "      <td>0</td>\n",
       "      <td>5</td>\n",
       "      <td>10</td>\n",
       "    </tr>\n",
       "    <tr>\n",
       "      <th>585</th>\n",
       "      <td>1</td>\n",
       "      <td>165.0</td>\n",
       "      <td>63.0</td>\n",
       "      <td>165.0</td>\n",
       "      <td>9</td>\n",
       "      <td>31.0</td>\n",
       "      <td>31.0</td>\n",
       "      <td>30.0</td>\n",
       "      <td>4</td>\n",
       "      <td>12</td>\n",
       "      <td>4</td>\n",
       "      <td>1</td>\n",
       "      <td>1</td>\n",
       "      <td>1</td>\n",
       "      <td>0</td>\n",
       "      <td>1</td>\n",
       "      <td>1</td>\n",
       "    </tr>\n",
       "    <tr>\n",
       "      <th>586</th>\n",
       "      <td>1</td>\n",
       "      <td>164.0</td>\n",
       "      <td>68.0</td>\n",
       "      <td>164.0</td>\n",
       "      <td>5</td>\n",
       "      <td>29.0</td>\n",
       "      <td>29.0</td>\n",
       "      <td>25.0</td>\n",
       "      <td>2</td>\n",
       "      <td>3</td>\n",
       "      <td>4</td>\n",
       "      <td>3</td>\n",
       "      <td>0</td>\n",
       "      <td>0</td>\n",
       "      <td>2</td>\n",
       "      <td>1</td>\n",
       "      <td>1</td>\n",
       "    </tr>\n",
       "    <tr>\n",
       "      <th>587</th>\n",
       "      <td>1</td>\n",
       "      <td>178.0</td>\n",
       "      <td>65.0</td>\n",
       "      <td>182.0</td>\n",
       "      <td>4</td>\n",
       "      <td>27.0</td>\n",
       "      <td>26.0</td>\n",
       "      <td>23.0</td>\n",
       "      <td>3</td>\n",
       "      <td>4</td>\n",
       "      <td>2</td>\n",
       "      <td>7</td>\n",
       "      <td>0</td>\n",
       "      <td>0</td>\n",
       "      <td>1</td>\n",
       "      <td>0</td>\n",
       "      <td>0</td>\n",
       "    </tr>\n",
       "    <tr>\n",
       "      <th>590</th>\n",
       "      <td>1</td>\n",
       "      <td>180.0</td>\n",
       "      <td>63.5</td>\n",
       "      <td>181.0</td>\n",
       "      <td>2</td>\n",
       "      <td>22.0</td>\n",
       "      <td>22.0</td>\n",
       "      <td>18.0</td>\n",
       "      <td>1</td>\n",
       "      <td>2</td>\n",
       "      <td>1</td>\n",
       "      <td>2</td>\n",
       "      <td>1</td>\n",
       "      <td>0</td>\n",
       "      <td>1</td>\n",
       "      <td>1</td>\n",
       "      <td>1</td>\n",
       "    </tr>\n",
       "  </tbody>\n",
       "</table>\n",
       "<p>393 rows × 17 columns</p>\n",
       "</div>"
      ],
      "text/plain": [
       "     Sex  Height  Weight  Arm_span  Time_climbing  Hardest_Ewbank_Grade_ever  \\\n",
       "2      1   178.0    67.0     175.0              1                       21.0   \n",
       "3      1   173.0    70.0     178.0             10                       21.0   \n",
       "7      1   186.0    88.0     192.0              2                       23.0   \n",
       "8      1   185.0    60.0     180.0              1                       21.0   \n",
       "10     1   178.0    81.6     178.0              6                       25.0   \n",
       "..   ...     ...     ...       ...            ...                        ...   \n",
       "584    1   172.0    82.5     191.7              3                       22.0   \n",
       "585    1   165.0    63.0     165.0              9                       31.0   \n",
       "586    1   164.0    68.0     164.0              5                       29.0   \n",
       "587    1   178.0    65.0     182.0              4                       27.0   \n",
       "590    1   180.0    63.5     181.0              2                       22.0   \n",
       "\n",
       "     Hardest_Ewbank_Grade_last3months  Ewbank_Grade_sent_90perc_routes  \\\n",
       "2                                21.0                             19.0   \n",
       "3                                21.0                             18.0   \n",
       "7                                22.0                             21.0   \n",
       "8                                21.0                             18.0   \n",
       "10                               23.0                             21.0   \n",
       "..                                ...                              ...   \n",
       "584                              22.0                             19.0   \n",
       "585                              31.0                             30.0   \n",
       "586                              29.0                             25.0   \n",
       "587                              26.0                             23.0   \n",
       "590                              22.0                             18.0   \n",
       "\n",
       "     Freq_climbing_sessions_w  Avg_hours_climbing_w  \\\n",
       "2                           3                     4   \n",
       "3                           2                     6   \n",
       "7                           3                     8   \n",
       "8                           1                     3   \n",
       "10                          2                     4   \n",
       "..                        ...                   ...   \n",
       "584                         2                     4   \n",
       "585                         4                    12   \n",
       "586                         2                     3   \n",
       "587                         3                     4   \n",
       "590                         1                     2   \n",
       "\n",
       "     Avg_hours_training_for_climbing_w  Freq_Hangboard_w  Freq_CampusBoard_w  \\\n",
       "2                                    3                 2                   0   \n",
       "3                                    1                 1                   0   \n",
       "7                                    8                 1                   0   \n",
       "8                                    1                 0                   0   \n",
       "10                                   0                 1                   0   \n",
       "..                                 ...               ...                 ...   \n",
       "584                                  2                 1                   0   \n",
       "585                                  4                 1                   1   \n",
       "586                                  4                 3                   0   \n",
       "587                                  2                 7                   0   \n",
       "590                                  1                 2                   1   \n",
       "\n",
       "     Time_CampusBoard_h  Freq_Endurance_session_w  \\\n",
       "2                     0                         2   \n",
       "3                     0                         1   \n",
       "7                     0                         2   \n",
       "8                     0                         0   \n",
       "10                    0                         2   \n",
       "..                  ...                       ...   \n",
       "584                   0                         0   \n",
       "585                   1                         0   \n",
       "586                   0                         2   \n",
       "587                   0                         1   \n",
       "590                   0                         1   \n",
       "\n",
       "     Freq_General_Strength_Training_w  Time_General_Strength_Training_h  \n",
       "2                                   3                                 2  \n",
       "3                                   0                                 0  \n",
       "7                                   3                                 4  \n",
       "8                                   1                                 1  \n",
       "10                                  3                                 3  \n",
       "..                                ...                               ...  \n",
       "584                                 5                                10  \n",
       "585                                 1                                 1  \n",
       "586                                 1                                 1  \n",
       "587                                 0                                 0  \n",
       "590                                 1                                 1  \n",
       "\n",
       "[393 rows x 17 columns]"
      ]
     },
     "execution_count": 8,
     "metadata": {},
     "output_type": "execute_result"
    }
   ],
   "source": [
    "df_no_object"
   ]
  },
  {
   "cell_type": "markdown",
   "metadata": {
    "execution": {
     "iopub.execute_input": "2021-09-16T14:15:33.331224Z",
     "iopub.status.busy": "2021-09-16T14:15:33.320477Z",
     "iopub.status.idle": "2021-09-16T14:15:33.362716Z",
     "shell.execute_reply": "2021-09-16T14:15:33.358672Z",
     "shell.execute_reply.started": "2021-09-16T14:15:33.331061Z"
    }
   },
   "source": [
    "#### Eliminem els outliers"
   ]
  },
  {
   "cell_type": "code",
   "execution_count": 9,
   "metadata": {
    "execution": {
     "iopub.execute_input": "2021-09-21T15:23:13.951589Z",
     "iopub.status.busy": "2021-09-21T15:23:13.950984Z",
     "iopub.status.idle": "2021-09-21T15:23:14.127250Z",
     "shell.execute_reply": "2021-09-21T15:23:14.120709Z",
     "shell.execute_reply.started": "2021-09-21T15:23:13.951493Z"
    }
   },
   "outputs": [
    {
     "data": {
      "text/plain": [
       "count     393.000000\n",
       "mean      178.840992\n",
       "std        58.779576\n",
       "min         1.680000\n",
       "25%       172.000000\n",
       "50%       178.000000\n",
       "75%       183.000000\n",
       "max      1295.000000\n",
       "Name: Height, dtype: float64"
      ]
     },
     "execution_count": 9,
     "metadata": {},
     "output_type": "execute_result"
    }
   ],
   "source": [
    "df_no_object.Height.describe()"
   ]
  },
  {
   "cell_type": "code",
   "execution_count": 10,
   "metadata": {
    "execution": {
     "iopub.execute_input": "2021-09-21T15:23:14.134326Z",
     "iopub.status.busy": "2021-09-21T15:23:14.133015Z",
     "iopub.status.idle": "2021-09-21T15:23:14.168814Z",
     "shell.execute_reply": "2021-09-21T15:23:14.165959Z",
     "shell.execute_reply.started": "2021-09-21T15:23:14.134256Z"
    }
   },
   "outputs": [
    {
     "data": {
      "text/plain": [
       "159.0      1\n",
       "62.0       1\n",
       "1295.0     1\n",
       "153.0      1\n",
       "182.9      1\n",
       "          ..\n",
       "170.0     17\n",
       "175.0     22\n",
       "183.0     24\n",
       "180.0     34\n",
       "178.0     41\n",
       "Name: Height, Length: 67, dtype: int64"
      ]
     },
     "execution_count": 10,
     "metadata": {},
     "output_type": "execute_result"
    }
   ],
   "source": [
    "df_no_object.Height.value_counts().sort_values()"
   ]
  },
  {
   "cell_type": "code",
   "execution_count": 11,
   "metadata": {
    "execution": {
     "iopub.execute_input": "2021-09-21T15:23:14.174433Z",
     "iopub.status.busy": "2021-09-21T15:23:14.172978Z",
     "iopub.status.idle": "2021-09-21T15:23:14.201162Z",
     "shell.execute_reply": "2021-09-21T15:23:14.199014Z",
     "shell.execute_reply.started": "2021-09-21T15:23:14.174279Z"
    }
   },
   "outputs": [],
   "source": [
    "df_no_object = df_no_object.drop(df_no_object[df_no_object['Height'] > 200].index)\n",
    "df_no_object = df_no_object.drop(df_no_object[df_no_object['Height'] < 111].index)"
   ]
  },
  {
   "cell_type": "code",
   "execution_count": 12,
   "metadata": {
    "execution": {
     "iopub.execute_input": "2021-09-21T15:23:14.208495Z",
     "iopub.status.busy": "2021-09-21T15:23:14.207657Z",
     "iopub.status.idle": "2021-09-21T15:23:14.256005Z",
     "shell.execute_reply": "2021-09-21T15:23:14.252513Z",
     "shell.execute_reply.started": "2021-09-21T15:23:14.208448Z"
    }
   },
   "outputs": [
    {
     "data": {
      "text/plain": [
       "count    388.000000\n",
       "mean      72.415182\n",
       "std       15.691350\n",
       "min       42.000000\n",
       "25%       65.000000\n",
       "50%       70.300000\n",
       "75%       77.025000\n",
       "max      180.000000\n",
       "Name: Weight, dtype: float64"
      ]
     },
     "execution_count": 12,
     "metadata": {},
     "output_type": "execute_result"
    }
   ],
   "source": [
    "df_no_object.Weight.describe()"
   ]
  },
  {
   "cell_type": "code",
   "execution_count": 13,
   "metadata": {
    "execution": {
     "iopub.execute_input": "2021-09-21T15:23:14.261833Z",
     "iopub.status.busy": "2021-09-21T15:23:14.260653Z",
     "iopub.status.idle": "2021-09-21T15:23:14.293824Z",
     "shell.execute_reply": "2021-09-21T15:23:14.291286Z",
     "shell.execute_reply.started": "2021-09-21T15:23:14.261751Z"
    }
   },
   "outputs": [
    {
     "data": {
      "text/plain": [
       "71.2      1\n",
       "175.0     1\n",
       "64.5      1\n",
       "180.0     1\n",
       "82.5      1\n",
       "         ..\n",
       "72.0     16\n",
       "75.0     17\n",
       "65.0     20\n",
       "70.0     23\n",
       "68.0     28\n",
       "Name: Weight, Length: 97, dtype: int64"
      ]
     },
     "execution_count": 13,
     "metadata": {},
     "output_type": "execute_result"
    }
   ],
   "source": [
    "df_no_object.Weight.value_counts().sort_values()"
   ]
  },
  {
   "cell_type": "code",
   "execution_count": 14,
   "metadata": {
    "execution": {
     "iopub.execute_input": "2021-09-21T15:23:14.301414Z",
     "iopub.status.busy": "2021-09-21T15:23:14.300539Z",
     "iopub.status.idle": "2021-09-21T15:23:14.320515Z",
     "shell.execute_reply": "2021-09-21T15:23:14.317930Z",
     "shell.execute_reply.started": "2021-09-21T15:23:14.301345Z"
    }
   },
   "outputs": [],
   "source": [
    "df_no_object = df_no_object.drop(df_no_object[df_no_object['Weight'] > 120].index)"
   ]
  },
  {
   "cell_type": "markdown",
   "metadata": {},
   "source": [
    "#### Calculem el p-value amb alpha de 5%. \n",
    "\n",
    "*Null Hypothesis (H<sub>0</sub>)*: no hi ha diferència d'alçada entre els ciutadans escaladors i no escaladors. \n",
    "\n",
    "*Alternative Hypothesis (H<sub>a</sub>)*: els escaladors són, de mitjana, més alts que la resta de ciutadans.\n",
    "\n",
    "\n",
    "\"Según datos basados en estudios recientes recopilados por el portal digital Datos Mundiales, la estatura media de los hombres españoles es de 176 centímetros y la estatura media de las mujeres españolas es de 162 centímetros.\" [Fuente](#https://www.sport.es/es/noticias/preguntas/altura-media-espana-11463120)\n",
    "\n",
    "**Resposta: segons les dades del nostre dataset, acceptem la hipòtesi alternativa tant per als homes com per a les dones (H<sub>a</sub>)**\n"
   ]
  },
  {
   "cell_type": "code",
   "execution_count": 15,
   "metadata": {
    "execution": {
     "iopub.execute_input": "2021-09-21T15:23:14.329884Z",
     "iopub.status.busy": "2021-09-21T15:23:14.327718Z",
     "iopub.status.idle": "2021-09-21T15:23:14.415053Z",
     "shell.execute_reply": "2021-09-21T15:23:14.391293Z",
     "shell.execute_reply.started": "2021-09-21T15:23:14.329773Z"
    }
   },
   "outputs": [
    {
     "name": "stdout",
     "output_type": "stream",
     "text": [
      "P value, homes:  2.6601051575125444e-16\n",
      "P value es inferior a 0.05 i, per tant, rebutgem la null hypothesis\n"
     ]
    },
    {
     "data": {
      "text/plain": [
       "179.2848484848485"
      ]
     },
     "execution_count": 15,
     "metadata": {},
     "output_type": "execute_result"
    }
   ],
   "source": [
    "from scipy.stats import ttest_1samp\n",
    " \n",
    "heights_men = df_no_object.Height[df_no_object['Sex'] == 1]\n",
    "    \n",
    "tset, pval = ttest_1samp(heights_men, 176)\n",
    "\n",
    "print(\"P value, homes: \",pval)\n",
    "\n",
    "if pval < 0.05:    # alpha value is 0.05 or 5%\n",
    "   print(\"P value es inferior a 0.05 i, per tant, rebutgem la null hypothesis\")\n",
    "else:\n",
    "  print(\"P value es superior a 0.05 i, per tant, acceptem la null hypothesis\")\n",
    "\n",
    "heights_men.mean()"
   ]
  },
  {
   "cell_type": "code",
   "execution_count": 16,
   "metadata": {
    "execution": {
     "iopub.execute_input": "2021-09-21T15:23:14.430496Z",
     "iopub.status.busy": "2021-09-21T15:23:14.426413Z",
     "iopub.status.idle": "2021-09-21T15:23:14.488278Z",
     "shell.execute_reply": "2021-09-21T15:23:14.473017Z",
     "shell.execute_reply.started": "2021-09-21T15:23:14.430403Z"
    }
   },
   "outputs": [
    {
     "name": "stdout",
     "output_type": "stream",
     "text": [
      "P value, dones:  0.0004976774697382497\n",
      "P value es inferior a 0.05 i, per tant, rebutgem la null hypothesis\n"
     ]
    },
    {
     "data": {
      "text/plain": [
       "165.16300000000004"
      ]
     },
     "execution_count": 16,
     "metadata": {},
     "output_type": "execute_result"
    }
   ],
   "source": [
    "heights_wom = df_no_object.Height[df_no_object['Sex'] == 0]\n",
    "    \n",
    "tset, pval = ttest_1samp(heights_wom, 162)\n",
    "\n",
    "print(\"P value, dones: \",pval)\n",
    "\n",
    "if pval < 0.05:    # alpha value is 0.05 or 5%\n",
    "   print(\"P value es inferior a 0.05 i, per tant, rebutgem la null hypothesis\")\n",
    "else:\n",
    "  print(\"P value es superior a 0.05 i, per tant, acceptem la null hypothesis\")\n",
    "\n",
    "heights_wom.mean()"
   ]
  },
  {
   "cell_type": "markdown",
   "metadata": {},
   "source": [
    "## Exercici 2\n",
    "Continua amb el conjunt de dades de tema esportiu que t'agradi i selecciona dos altres atributs del conjunt de dades. Calcula els p-valors i digues si rebutgen la hipòtesi nul·la agafant un alfa de 5%."
   ]
  },
  {
   "cell_type": "markdown",
   "metadata": {},
   "source": [
    "**Resposta:** \n",
    "\n",
    "*Null Hypothesis (H<sub>0</sub>)*: l'alçada dels escaladors no influeix en el grau d'escalada.\n",
    "\n",
    "*Alternative Hypothesis (H<sub>a</sub>)*: les persones més altes escalen graus més alts."
   ]
  },
  {
   "cell_type": "markdown",
   "metadata": {},
   "source": [
    "Creem dos grups d'escaladors (nois) en funció de l'alçada (superior a la mitjana i inferior o igual a la mitjana) i comparem el grau mitjà. Si la H<sub>0</sub> és correcta, no hi hauria d'haver gaire diferècia entre el grau que escalen uns i els altres, si la H<sub>a</sub> és correcta, observarem una diferència notable.\n",
    "\n",
    "\n",
    "**Resposta: segons les dades del nostre dataset, acceptem la null hypothesis, ja que el p value és molt superior a 0.05 i la diferència entre el grau dels escaladors alts (21.7) i baixos (22.2) no és significativa**"
   ]
  },
  {
   "cell_type": "code",
   "execution_count": 17,
   "metadata": {
    "execution": {
     "iopub.execute_input": "2021-09-21T15:23:14.502121Z",
     "iopub.status.busy": "2021-09-21T15:23:14.500407Z",
     "iopub.status.idle": "2021-09-21T15:23:16.073211Z",
     "shell.execute_reply": "2021-09-21T15:23:16.070883Z",
     "shell.execute_reply.started": "2021-09-21T15:23:14.502048Z"
    }
   },
   "outputs": [
    {
     "data": {
      "text/plain": [
       "179.2848484848485"
      ]
     },
     "execution_count": 17,
     "metadata": {},
     "output_type": "execute_result"
    },
    {
     "data": {
      "image/png": "[encoded data removed]",
      "text/plain": [
       "<Figure size 432x288 with 1 Axes>"
      ]
     },
     "metadata": {
      "needs_background": "light"
     },
     "output_type": "display_data"
    }
   ],
   "source": [
    "sns.histplot(x='Height', data=df_no_object[df_no_object['Sex'] == 1])\n",
    "df_no_object.Height[df_no_object['Sex'] == 1].mean()"
   ]
  },
  {
   "cell_type": "code",
   "execution_count": 18,
   "metadata": {
    "execution": {
     "iopub.execute_input": "2021-09-21T15:23:16.076601Z",
     "iopub.status.busy": "2021-09-21T15:23:16.076091Z",
     "iopub.status.idle": "2021-09-21T15:23:16.147632Z",
     "shell.execute_reply": "2021-09-21T15:23:16.106347Z",
     "shell.execute_reply.started": "2021-09-21T15:23:16.076540Z"
    }
   },
   "outputs": [
    {
     "name": "stderr",
     "output_type": "stream",
     "text": [
      "<ipython-input-18-059a529c092c>:1: UserWarning: Boolean Series key will be reindexed to match DataFrame index.\n",
      "  baixos = df_no_object[df_no_object['Sex'] == 1][df_no_object['Height'] < 179]\n",
      "<ipython-input-18-059a529c092c>:2: UserWarning: Boolean Series key will be reindexed to match DataFrame index.\n",
      "  alts = df_no_object[df_no_object['Sex'] == 1][df_no_object['Height'] >= 179]\n"
     ]
    }
   ],
   "source": [
    "baixos = df_no_object[df_no_object['Sex'] == 1][df_no_object['Height'] < 179]\n",
    "alts = df_no_object[df_no_object['Sex'] == 1][df_no_object['Height'] >= 179]"
   ]
  },
  {
   "cell_type": "code",
   "execution_count": 19,
   "metadata": {
    "execution": {
     "iopub.execute_input": "2021-09-21T15:23:16.154498Z",
     "iopub.status.busy": "2021-09-21T15:23:16.153537Z",
     "iopub.status.idle": "2021-09-21T15:23:16.164203Z",
     "shell.execute_reply": "2021-09-21T15:23:16.161395Z",
     "shell.execute_reply.started": "2021-09-21T15:23:16.154438Z"
    }
   },
   "outputs": [
    {
     "name": "stdout",
     "output_type": "stream",
     "text": [
      "Baixos: 159\n",
      "Alts: 171\n"
     ]
    }
   ],
   "source": [
    "# Nombre de registres en cada grup\n",
    "print('Baixos:', len(baixos))\n",
    "print('Alts:', len(alts))"
   ]
  },
  {
   "cell_type": "code",
   "execution_count": 20,
   "metadata": {
    "execution": {
     "iopub.execute_input": "2021-09-21T15:23:16.167305Z",
     "iopub.status.busy": "2021-09-21T15:23:16.166524Z",
     "iopub.status.idle": "2021-09-21T15:23:16.289817Z",
     "shell.execute_reply": "2021-09-21T15:23:16.285742Z",
     "shell.execute_reply.started": "2021-09-21T15:23:16.167258Z"
    }
   },
   "outputs": [
    {
     "name": "stdout",
     "output_type": "stream",
     "text": [
      "P value:  0.23646417226469152\n",
      "P value es superior a 0.05 i, per tant, acceptem la null hypothesis\n"
     ]
    }
   ],
   "source": [
    "from statsmodels.stats import weightstats as stests\n",
    "\n",
    "ztest, pval1 = stests.ztest(alts.Ewbank_Grade_sent_90perc_routes, \n",
    "                            x2=baixos.Ewbank_Grade_sent_90perc_routes, \n",
    "                            value=0,alternative='two-sided')\n",
    "\n",
    "print(\"P value: \",float(pval1))\n",
    "\n",
    "if pval1 < 0.05:    # alpha value is 0.05 or 5%\n",
    "   print(\"P value es inferior a 0.05 i, per tant, rebutgem la null hypothesis\")\n",
    "else:\n",
    "  print(\"P value es superior a 0.05 i, per tant, acceptem la null hypothesis\")"
   ]
  },
  {
   "cell_type": "code",
   "execution_count": 21,
   "metadata": {
    "execution": {
     "iopub.execute_input": "2021-09-21T15:23:16.296813Z",
     "iopub.status.busy": "2021-09-21T15:23:16.295327Z",
     "iopub.status.idle": "2021-09-21T15:23:16.310757Z",
     "shell.execute_reply": "2021-09-21T15:23:16.308627Z",
     "shell.execute_reply.started": "2021-09-21T15:23:16.296755Z"
    }
   },
   "outputs": [
    {
     "data": {
      "text/plain": [
       "22.21383647798742"
      ]
     },
     "execution_count": 21,
     "metadata": {},
     "output_type": "execute_result"
    }
   ],
   "source": [
    "baixos.Ewbank_Grade_sent_90perc_routes.mean()"
   ]
  },
  {
   "cell_type": "code",
   "execution_count": 22,
   "metadata": {
    "execution": {
     "iopub.execute_input": "2021-09-21T15:23:16.316045Z",
     "iopub.status.busy": "2021-09-21T15:23:16.315497Z",
     "iopub.status.idle": "2021-09-21T15:23:16.345959Z",
     "shell.execute_reply": "2021-09-21T15:23:16.338635Z",
     "shell.execute_reply.started": "2021-09-21T15:23:16.315979Z"
    }
   },
   "outputs": [
    {
     "data": {
      "text/plain": [
       "21.72514619883041"
      ]
     },
     "execution_count": 22,
     "metadata": {},
     "output_type": "execute_result"
    }
   ],
   "source": [
    "alts.Ewbank_Grade_sent_90perc_routes.mean()"
   ]
  },
  {
   "cell_type": "markdown",
   "metadata": {},
   "source": [
    "## Exercici 3\n",
    "Continua amb el conjunt de dades de tema esportiu que t'agradi i selecciona tres atributs del conjunt de dades. Calcula el p-valor i digues si rebutja la hipòtesi nul·la agafant un alfa de 5%."
   ]
  },
  {
   "cell_type": "markdown",
   "metadata": {},
   "source": [
    "**Resposta:** \n",
    "\n",
    "*Null Hypothesis (H<sub>0</sub>)*: el nombre de sesions d'escalada a la setmana i d'entrenaments amb [hangboard](https://www.dewoodstok.nl/wp-content/uploads/2020/04/dewoodstok_woodbord_2-510x510.jpg) dels escaladors no influeixen en el grau d'escalada.\n",
    "\n",
    "*Alternative Hypothesis (H<sub>a</sub>)*: el nombre de sesions d'escalada a la setmana i d'entrenaments amb [hangboard](https://www.dewoodstok.nl/wp-content/uploads/2020/04/dewoodstok_woodbord_2-510x510.jpg) dels escaladors sí que influeixen en el grau d'escalada. Com major és la frequencia, major és el grau."
   ]
  },
  {
   "cell_type": "markdown",
   "metadata": {},
   "source": [
    "**Resposta: segons les dades del nostre dataset, rebutgem la null hypothesis, ja que els p values de Freq_climbing_sessions_w i Freq_Hangboard_w son inferiors a 0.05 (com observem a la columna PR(>F) de la taula de la línia 24)**\n",
    "\n",
    "També s'ha inclòs l'alçada per contrastar els resultats, ja que, com hem descobert en l'exercici anterior, l'alçada no és una variable estadísticament rellevant per determinar el grau de l'escalador. En la taula de la línia 24 es torna a confirmar el cas, amb un p value de 0,12 (superior a l'alfa de 0,05 establert)."
   ]
  },
  {
   "cell_type": "code",
   "execution_count": 23,
   "metadata": {
    "execution": {
     "iopub.execute_input": "2021-09-21T15:23:16.356260Z",
     "iopub.status.busy": "2021-09-21T15:23:16.354295Z",
     "iopub.status.idle": "2021-09-21T15:23:16.438764Z",
     "shell.execute_reply": "2021-09-21T15:23:16.430757Z",
     "shell.execute_reply.started": "2021-09-21T15:23:16.356093Z"
    }
   },
   "outputs": [
    {
     "data": {
      "text/plain": [
       "(152.955, 159.429]     12\n",
       "(159.429, 165.857]     27\n",
       "(165.857, 172.286]     57\n",
       "(172.286, 178.714]    113\n",
       "(178.714, 185.143]    114\n",
       "(185.143, 191.571]     45\n",
       "(191.571, 198.0]       12\n",
       "Name: Height, dtype: int64"
      ]
     },
     "execution_count": 23,
     "metadata": {},
     "output_type": "execute_result"
    }
   ],
   "source": [
    "df2 = df_no_object\n",
    "\n",
    "df2['Height'] = pd.cut(df2['Height'], 7)\n",
    "\n",
    "df2['Height'].value_counts().sort_index()"
   ]
  },
  {
   "cell_type": "code",
   "execution_count": 24,
   "metadata": {
    "execution": {
     "iopub.execute_input": "2021-09-21T15:23:16.445643Z",
     "iopub.status.busy": "2021-09-21T15:23:16.444981Z",
     "iopub.status.idle": "2021-09-21T15:23:18.937874Z",
     "shell.execute_reply": "2021-09-21T15:23:18.925856Z",
     "shell.execute_reply.started": "2021-09-21T15:23:16.445575Z"
    }
   },
   "outputs": [
    {
     "name": "stdout",
     "output_type": "stream",
     "text": [
      "Overall model F( 18, 361) =  4.486, p =  0.0000\n"
     ]
    },
    {
     "data": {
      "text/html": [
       "<div>\n",
       "<style scoped>\n",
       "    .dataframe tbody tr th:only-of-type {\n",
       "        vertical-align: middle;\n",
       "    }\n",
       "\n",
       "    .dataframe tbody tr th {\n",
       "        vertical-align: top;\n",
       "    }\n",
       "\n",
       "    .dataframe thead th {\n",
       "        text-align: right;\n",
       "    }\n",
       "</style>\n",
       "<table border=\"1\" class=\"dataframe\">\n",
       "  <thead>\n",
       "    <tr style=\"text-align: right;\">\n",
       "      <th></th>\n",
       "      <th>sum_sq</th>\n",
       "      <th>df</th>\n",
       "      <th>F</th>\n",
       "      <th>PR(&gt;F)</th>\n",
       "    </tr>\n",
       "  </thead>\n",
       "  <tbody>\n",
       "    <tr>\n",
       "      <th>C(Freq_climbing_sessions_w)</th>\n",
       "      <td>271.185982</td>\n",
       "      <td>6.0</td>\n",
       "      <td>3.699615</td>\n",
       "      <td>0.001395</td>\n",
       "    </tr>\n",
       "    <tr>\n",
       "      <th>C(Freq_Hangboard_w)</th>\n",
       "      <td>272.210290</td>\n",
       "      <td>6.0</td>\n",
       "      <td>3.713589</td>\n",
       "      <td>0.001350</td>\n",
       "    </tr>\n",
       "    <tr>\n",
       "      <th>C(Height)</th>\n",
       "      <td>123.788353</td>\n",
       "      <td>6.0</td>\n",
       "      <td>1.688764</td>\n",
       "      <td>0.122640</td>\n",
       "    </tr>\n",
       "    <tr>\n",
       "      <th>Residual</th>\n",
       "      <td>4410.285013</td>\n",
       "      <td>361.0</td>\n",
       "      <td>NaN</td>\n",
       "      <td>NaN</td>\n",
       "    </tr>\n",
       "  </tbody>\n",
       "</table>\n",
       "</div>"
      ],
      "text/plain": [
       "                                  sum_sq     df         F    PR(>F)\n",
       "C(Freq_climbing_sessions_w)   271.185982    6.0  3.699615  0.001395\n",
       "C(Freq_Hangboard_w)           272.210290    6.0  3.713589  0.001350\n",
       "C(Height)                     123.788353    6.0  1.688764  0.122640\n",
       "Residual                     4410.285013  361.0       NaN       NaN"
      ]
     },
     "execution_count": 24,
     "metadata": {},
     "output_type": "execute_result"
    }
   ],
   "source": [
    "import statsmodels.api as sm\n",
    "from statsmodels.formula.api import ols\n",
    "\n",
    "model = ols('Ewbank_Grade_sent_90perc_routes ~ C(Freq_climbing_sessions_w)+C(Freq_Hangboard_w)+C(Height)', df2).fit()\n",
    "\n",
    "print(f\"Overall model F({model.df_model: .0f},{model.df_resid: .0f}) = {model.fvalue: .3f}, p = {model.f_pvalue: .4f}\")\n",
    "res = sm.stats.anova_lm(model, typ= 2)\n",
    "res"
   ]
  }
 ],
 "metadata": {
  "kernelspec": {
   "display_name": "Python 3",
   "language": "python",
   "name": "python3"
  },
  "language_info": {
   "codemirror_mode": {
    "name": "ipython",
    "version": 3
   },
   "file_extension": ".py",
   "mimetype": "text/x-python",
   "name": "python",
   "nbconvert_exporter": "python",
   "pygments_lexer": "ipython3",
   "version": "3.8.5"
  }
 },
 "nbformat": 4,
 "nbformat_minor": 4
}
