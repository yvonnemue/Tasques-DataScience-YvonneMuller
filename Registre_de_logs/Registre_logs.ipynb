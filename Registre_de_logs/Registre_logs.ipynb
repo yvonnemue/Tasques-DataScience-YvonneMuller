{
 "cells": [
  {
   "cell_type": "markdown",
   "metadata": {},
   "source": [
    "# Exercici 1\n",
    "\n",
    "Estandaritza, identifica i enumera cada un dels atributs / variables de l'estructura de l'arxiu \"Web_access_log-akumenius.com\" que trobaràs al repositori de GitHub \"Data-sources\"."
   ]
  },
  {
   "cell_type": "markdown",
   "metadata": {
    "execution": {
     "iopub.status.busy": "2021-09-06T15:07:19.923488Z",
     "iopub.status.idle": "2021-09-06T15:07:19.940374Z"
    }
   },
   "source": [
    "## Resposta \n",
    "\n",
    "L'access log d'Akumenius te el format següent:\n",
    "\n",
    "\"%n %h %l %u %t \\\"%r\\\" %>s %b \\\"%{Referer}i\\\" \\\"%{User-agent}i\\\" %v\" \n",
    "\n",
    "On: \n",
    "- '%n' és el nom del servidor\n",
    "- '%h' és l'adreça IP del client\n",
    "- '%l' és la identitat del client determinada per identd a la màquina del client. Retorna - si la informació no està disponible\n",
    "- '%u' és l'userID del client si la sol·licitud ha estat autenticada\n",
    "- '%t' és la data, hora i zona horària en què s'ha rebut la sol·licitud\n",
    "- '\\\"%r\\\"' és la línia de sol·licitud que inclou el mètode HTTP utilitzat, la ruta del recurs sol·licitat i el protocol HTTP utilitzat pel client\n",
    "- '%>s' és el códi d'estat que el servidor torna al client\n",
    "- '%b' és la mida de l'objecte sol·licitat\n",
    "- '\\\"%{Referer}i\\\"' és la pàgina o lloc web des d'on el client diu haver sigut referit\n",
    "- '\\\"%{User-agent}i\\\"' és la informació d'identificació que el navegador client reporta sobre ell mateix\n",
    "- '%v' és el log virtual\n",
    "\n",
    "Fonts d'informació:\n",
    " - https://www.keycdn.com/support/apache-access-log\n",
    " - https://httpd.apache.org/docs/2.4/logs.html"
   ]
  },
  {
   "cell_type": "code",
   "execution_count": 1,
   "metadata": {
    "execution": {
     "iopub.execute_input": "2021-09-08T14:10:53.160288Z",
     "iopub.status.busy": "2021-09-08T14:10:53.159904Z",
     "iopub.status.idle": "2021-09-08T14:10:55.239059Z",
     "shell.execute_reply": "2021-09-08T14:10:55.237529Z",
     "shell.execute_reply.started": "2021-09-08T14:10:53.160194Z"
    }
   },
   "outputs": [],
   "source": [
    "import pandas as pd\n",
    "import numpy as np\n",
    "\n",
    "data = \"Web_access_log-akumenius.com.txt\""
   ]
  },
  {
   "cell_type": "code",
   "execution_count": 2,
   "metadata": {
    "execution": {
     "iopub.execute_input": "2021-09-08T14:10:55.242543Z",
     "iopub.status.busy": "2021-09-08T14:10:55.242193Z",
     "iopub.status.idle": "2021-09-08T14:10:57.968339Z",
     "shell.execute_reply": "2021-09-08T14:10:57.962596Z",
     "shell.execute_reply.started": "2021-09-08T14:10:55.242505Z"
    }
   },
   "outputs": [],
   "source": [
    "df = pd.read_csv(data, delimiter = \"\\t\", header=None, names=['Servidor'])"
   ]
  },
  {
   "cell_type": "code",
   "execution_count": 3,
   "metadata": {
    "execution": {
     "iopub.execute_input": "2021-09-08T14:10:57.987962Z",
     "iopub.status.busy": "2021-09-08T14:10:57.987297Z",
     "iopub.status.idle": "2021-09-08T14:10:58.182778Z",
     "shell.execute_reply": "2021-09-08T14:10:58.116506Z",
     "shell.execute_reply.started": "2021-09-08T14:10:57.987836Z"
    }
   },
   "outputs": [
    {
     "data": {
      "text/html": [
       "<div>\n",
       "<style scoped>\n",
       "    .dataframe tbody tr th:only-of-type {\n",
       "        vertical-align: middle;\n",
       "    }\n",
       "\n",
       "    .dataframe tbody tr th {\n",
       "        vertical-align: top;\n",
       "    }\n",
       "\n",
       "    .dataframe thead th {\n",
       "        text-align: right;\n",
       "    }\n",
       "</style>\n",
       "<table border=\"1\" class=\"dataframe\">\n",
       "  <thead>\n",
       "    <tr style=\"text-align: right;\">\n",
       "      <th></th>\n",
       "      <th>Servidor</th>\n",
       "    </tr>\n",
       "  </thead>\n",
       "  <tbody>\n",
       "    <tr>\n",
       "      <th>0</th>\n",
       "      <td>localhost 127.0.0.1 - - [23/Feb/2014:03:10:31 ...</td>\n",
       "    </tr>\n",
       "    <tr>\n",
       "      <th>1</th>\n",
       "      <td>localhost 127.0.0.1 - - [23/Feb/2014:03:10:31 ...</td>\n",
       "    </tr>\n",
       "    <tr>\n",
       "      <th>2</th>\n",
       "      <td>localhost 127.0.0.1 - - [23/Feb/2014:03:10:31 ...</td>\n",
       "    </tr>\n",
       "    <tr>\n",
       "      <th>3</th>\n",
       "      <td>localhost 127.0.0.1 - - [23/Feb/2014:03:10:31 ...</td>\n",
       "    </tr>\n",
       "    <tr>\n",
       "      <th>4</th>\n",
       "      <td>localhost 127.0.0.1 - - [23/Feb/2014:03:10:31 ...</td>\n",
       "    </tr>\n",
       "    <tr>\n",
       "      <th>...</th>\n",
       "      <td>...</td>\n",
       "    </tr>\n",
       "    <tr>\n",
       "      <th>261868</th>\n",
       "      <td>www.akumenius.com 5.255.253.53 - - [02/Mar/201...</td>\n",
       "    </tr>\n",
       "    <tr>\n",
       "      <th>261869</th>\n",
       "      <td>www.akumenius.com 74.86.158.107 - - [02/Mar/20...</td>\n",
       "    </tr>\n",
       "    <tr>\n",
       "      <th>261870</th>\n",
       "      <td>localhost 127.0.0.1 - - [02/Mar/2014:03:10:18 ...</td>\n",
       "    </tr>\n",
       "    <tr>\n",
       "      <th>261871</th>\n",
       "      <td>localhost 127.0.0.1 - - [02/Mar/2014:03:10:18 ...</td>\n",
       "    </tr>\n",
       "    <tr>\n",
       "      <th>261872</th>\n",
       "      <td>localhost 127.0.0.1 - - [02/Mar/2014:03:10:18 ...</td>\n",
       "    </tr>\n",
       "  </tbody>\n",
       "</table>\n",
       "<p>261873 rows × 1 columns</p>\n",
       "</div>"
      ],
      "text/plain": [
       "                                                 Servidor\n",
       "0       localhost 127.0.0.1 - - [23/Feb/2014:03:10:31 ...\n",
       "1       localhost 127.0.0.1 - - [23/Feb/2014:03:10:31 ...\n",
       "2       localhost 127.0.0.1 - - [23/Feb/2014:03:10:31 ...\n",
       "3       localhost 127.0.0.1 - - [23/Feb/2014:03:10:31 ...\n",
       "4       localhost 127.0.0.1 - - [23/Feb/2014:03:10:31 ...\n",
       "...                                                   ...\n",
       "261868  www.akumenius.com 5.255.253.53 - - [02/Mar/201...\n",
       "261869  www.akumenius.com 74.86.158.107 - - [02/Mar/20...\n",
       "261870  localhost 127.0.0.1 - - [02/Mar/2014:03:10:18 ...\n",
       "261871  localhost 127.0.0.1 - - [02/Mar/2014:03:10:18 ...\n",
       "261872  localhost 127.0.0.1 - - [02/Mar/2014:03:10:18 ...\n",
       "\n",
       "[261873 rows x 1 columns]"
      ]
     },
     "execution_count": 3,
     "metadata": {},
     "output_type": "execute_result"
    }
   ],
   "source": [
    "df"
   ]
  },
  {
   "cell_type": "code",
   "execution_count": 4,
   "metadata": {
    "execution": {
     "iopub.execute_input": "2021-09-08T14:10:58.201312Z",
     "iopub.status.busy": "2021-09-08T14:10:58.199768Z",
     "iopub.status.idle": "2021-09-08T14:11:00.464809Z",
     "shell.execute_reply": "2021-09-08T14:11:00.463045Z",
     "shell.execute_reply.started": "2021-09-08T14:10:58.201243Z"
    }
   },
   "outputs": [],
   "source": [
    "new = df['Servidor'].str.split(\" \", n = 1, expand = True)\n",
    "df['Servidor'] = new[0]\n",
    "df['IP'] = new[1]"
   ]
  },
  {
   "cell_type": "code",
   "execution_count": 5,
   "metadata": {
    "execution": {
     "iopub.execute_input": "2021-09-08T14:11:00.469147Z",
     "iopub.status.busy": "2021-09-08T14:11:00.468730Z",
     "iopub.status.idle": "2021-09-08T14:11:01.764468Z",
     "shell.execute_reply": "2021-09-08T14:11:01.762643Z",
     "shell.execute_reply.started": "2021-09-08T14:11:00.469083Z"
    }
   },
   "outputs": [],
   "source": [
    "new2 = df['IP'].str.split(\" \", n = 1, expand = True)\n",
    "df['IP'] = new2[0]\n",
    "df['Opciones'] = new2[1]"
   ]
  },
  {
   "cell_type": "code",
   "execution_count": 6,
   "metadata": {
    "execution": {
     "iopub.execute_input": "2021-09-08T14:11:01.767628Z",
     "iopub.status.busy": "2021-09-08T14:11:01.767161Z",
     "iopub.status.idle": "2021-09-08T14:11:03.048534Z",
     "shell.execute_reply": "2021-09-08T14:11:03.046772Z",
     "shell.execute_reply.started": "2021-09-08T14:11:01.767595Z"
    }
   },
   "outputs": [],
   "source": [
    "new3 = df['Opciones'].str.split(\" \", n = 1, expand = True)\n",
    "df['Identd client'] = new3[0]\n",
    "df['Opciones'] = new3[1]"
   ]
  },
  {
   "cell_type": "code",
   "execution_count": 7,
   "metadata": {
    "execution": {
     "iopub.execute_input": "2021-09-08T14:11:03.051688Z",
     "iopub.status.busy": "2021-09-08T14:11:03.051136Z",
     "iopub.status.idle": "2021-09-08T14:11:04.756621Z",
     "shell.execute_reply": "2021-09-08T14:11:04.752188Z",
     "shell.execute_reply.started": "2021-09-08T14:11:03.051647Z"
    }
   },
   "outputs": [],
   "source": [
    "new4 = df['Opciones'].str.split(\" \", n = 1, expand = True)\n",
    "df['UserID'] = new4[0]\n",
    "df['Opciones'] = new4[1]"
   ]
  },
  {
   "cell_type": "code",
   "execution_count": 8,
   "metadata": {
    "execution": {
     "iopub.execute_input": "2021-09-08T14:11:04.760883Z",
     "iopub.status.busy": "2021-09-08T14:11:04.760094Z",
     "iopub.status.idle": "2021-09-08T14:11:06.319428Z",
     "shell.execute_reply": "2021-09-08T14:11:06.318272Z",
     "shell.execute_reply.started": "2021-09-08T14:11:04.760816Z"
    }
   },
   "outputs": [],
   "source": [
    "new5 = df['Opciones'].str.split(\" \\\"\", n = 1, expand = True)\n",
    "df['Timestamp'] = new5[0]\n",
    "df['Opciones'] = new5[1]"
   ]
  },
  {
   "cell_type": "code",
   "execution_count": 9,
   "metadata": {
    "execution": {
     "iopub.execute_input": "2021-09-08T14:11:06.330306Z",
     "iopub.status.busy": "2021-09-08T14:11:06.329821Z",
     "iopub.status.idle": "2021-09-08T14:11:07.957121Z",
     "shell.execute_reply": "2021-09-08T14:11:07.955233Z",
     "shell.execute_reply.started": "2021-09-08T14:11:06.330271Z"
    }
   },
   "outputs": [],
   "source": [
    "new6 = df['Opciones'].str.split(\"\\\" \", n = 1, expand = True)\n",
    "df['Request line'] = new6[0]\n",
    "df['Opciones'] = new6[1]"
   ]
  },
  {
   "cell_type": "code",
   "execution_count": 10,
   "metadata": {
    "execution": {
     "iopub.execute_input": "2021-09-08T14:11:07.968706Z",
     "iopub.status.busy": "2021-09-08T14:11:07.968102Z",
     "iopub.status.idle": "2021-09-08T14:11:09.828255Z",
     "shell.execute_reply": "2021-09-08T14:11:09.826789Z",
     "shell.execute_reply.started": "2021-09-08T14:11:07.968664Z"
    }
   },
   "outputs": [],
   "source": [
    "new7 = df['Opciones'].str.split(\" \", n = 1, expand = True)\n",
    "df['Status code'] = new7[0]\n",
    "df['Opciones'] = new7[1]"
   ]
  },
  {
   "cell_type": "code",
   "execution_count": 11,
   "metadata": {
    "execution": {
     "iopub.execute_input": "2021-09-08T14:11:09.832359Z",
     "iopub.status.busy": "2021-09-08T14:11:09.831562Z",
     "iopub.status.idle": "2021-09-08T14:11:11.637005Z",
     "shell.execute_reply": "2021-09-08T14:11:11.635199Z",
     "shell.execute_reply.started": "2021-09-08T14:11:09.832302Z"
    }
   },
   "outputs": [],
   "source": [
    "new8 = df['Opciones'].str.split(\" \", n = 1, expand = True)\n",
    "df['Size obj. req.'] = new8[0]\n",
    "df['Opciones'] = new8[1]"
   ]
  },
  {
   "cell_type": "code",
   "execution_count": 12,
   "metadata": {
    "execution": {
     "iopub.execute_input": "2021-09-08T14:11:11.641126Z",
     "iopub.status.busy": "2021-09-08T14:11:11.639576Z",
     "iopub.status.idle": "2021-09-08T14:11:13.857430Z",
     "shell.execute_reply": "2021-09-08T14:11:13.856073Z",
     "shell.execute_reply.started": "2021-09-08T14:11:11.641050Z"
    }
   },
   "outputs": [],
   "source": [
    "new9 = df['Opciones'].str.split(\" \\\"\", n = 1, expand = True)\n",
    "df['Referer'] = new9[0]\n",
    "df['User-Agent'] = new9[1]\n",
    "df = df.drop(columns = ['Opciones'])"
   ]
  },
  {
   "cell_type": "code",
   "execution_count": 13,
   "metadata": {
    "execution": {
     "iopub.execute_input": "2021-09-08T14:11:13.860431Z",
     "iopub.status.busy": "2021-09-08T14:11:13.859754Z",
     "iopub.status.idle": "2021-09-08T14:11:15.391565Z",
     "shell.execute_reply": "2021-09-08T14:11:15.389999Z",
     "shell.execute_reply.started": "2021-09-08T14:11:13.860371Z"
    }
   },
   "outputs": [],
   "source": [
    "new10 = df['User-Agent'].str.split(\"\\\" \", n = 1, expand = True)\n",
    "df['User-Agent'] = new10[0]\n",
    "df['Vlog'] = new10[1]"
   ]
  },
  {
   "cell_type": "markdown",
   "metadata": {},
   "source": [
    "# Exercici 2\n",
    "\n",
    "Neteja, preprocesa, estructura i transforma (dataframe) les dades del registre d'Accés a la web."
   ]
  },
  {
   "cell_type": "code",
   "execution_count": 14,
   "metadata": {
    "execution": {
     "iopub.execute_input": "2021-09-08T14:11:15.395730Z",
     "iopub.status.busy": "2021-09-08T14:11:15.395140Z",
     "iopub.status.idle": "2021-09-08T14:11:15.602852Z",
     "shell.execute_reply": "2021-09-08T14:11:15.598028Z",
     "shell.execute_reply.started": "2021-09-08T14:11:15.395676Z"
    }
   },
   "outputs": [],
   "source": [
    "df1 = df.copy()"
   ]
  },
  {
   "cell_type": "markdown",
   "metadata": {},
   "source": [
    "### Eliminem les variables que no aporten informació"
   ]
  },
  {
   "cell_type": "code",
   "execution_count": 15,
   "metadata": {
    "execution": {
     "iopub.execute_input": "2021-09-08T14:11:15.667463Z",
     "iopub.status.busy": "2021-09-08T14:11:15.620866Z",
     "iopub.status.idle": "2021-09-08T14:11:16.417211Z",
     "shell.execute_reply": "2021-09-08T14:11:16.414885Z",
     "shell.execute_reply.started": "2021-09-08T14:11:15.667378Z"
    }
   },
   "outputs": [
    {
     "data": {
      "text/html": [
       "<div>\n",
       "<style scoped>\n",
       "    .dataframe tbody tr th:only-of-type {\n",
       "        vertical-align: middle;\n",
       "    }\n",
       "\n",
       "    .dataframe tbody tr th {\n",
       "        vertical-align: top;\n",
       "    }\n",
       "\n",
       "    .dataframe thead th {\n",
       "        text-align: right;\n",
       "    }\n",
       "</style>\n",
       "<table border=\"1\" class=\"dataframe\">\n",
       "  <thead>\n",
       "    <tr style=\"text-align: right;\">\n",
       "      <th></th>\n",
       "      <th>Servidor</th>\n",
       "      <th>IP</th>\n",
       "      <th>UserID</th>\n",
       "      <th>Timestamp</th>\n",
       "      <th>Request line</th>\n",
       "      <th>Status code</th>\n",
       "      <th>Size obj. req.</th>\n",
       "      <th>Referer</th>\n",
       "      <th>User-Agent</th>\n",
       "    </tr>\n",
       "  </thead>\n",
       "  <tbody>\n",
       "    <tr>\n",
       "      <th>0</th>\n",
       "      <td>localhost</td>\n",
       "      <td>127.0.0.1</td>\n",
       "      <td>-</td>\n",
       "      <td>[23/Feb/2014:03:10:31 +0100]</td>\n",
       "      <td>OPTIONS * HTTP/1.0</td>\n",
       "      <td>200</td>\n",
       "      <td>-</td>\n",
       "      <td>\"-\"</td>\n",
       "      <td>Apache (internal dummy connection)</td>\n",
       "    </tr>\n",
       "    <tr>\n",
       "      <th>1</th>\n",
       "      <td>localhost</td>\n",
       "      <td>127.0.0.1</td>\n",
       "      <td>-</td>\n",
       "      <td>[23/Feb/2014:03:10:31 +0100]</td>\n",
       "      <td>OPTIONS * HTTP/1.0</td>\n",
       "      <td>200</td>\n",
       "      <td>-</td>\n",
       "      <td>\"-\"</td>\n",
       "      <td>Apache (internal dummy connection)</td>\n",
       "    </tr>\n",
       "    <tr>\n",
       "      <th>2</th>\n",
       "      <td>localhost</td>\n",
       "      <td>127.0.0.1</td>\n",
       "      <td>-</td>\n",
       "      <td>[23/Feb/2014:03:10:31 +0100]</td>\n",
       "      <td>OPTIONS * HTTP/1.0</td>\n",
       "      <td>200</td>\n",
       "      <td>-</td>\n",
       "      <td>\"-\"</td>\n",
       "      <td>Apache (internal dummy connection)</td>\n",
       "    </tr>\n",
       "    <tr>\n",
       "      <th>3</th>\n",
       "      <td>localhost</td>\n",
       "      <td>127.0.0.1</td>\n",
       "      <td>-</td>\n",
       "      <td>[23/Feb/2014:03:10:31 +0100]</td>\n",
       "      <td>OPTIONS * HTTP/1.0</td>\n",
       "      <td>200</td>\n",
       "      <td>-</td>\n",
       "      <td>\"-\"</td>\n",
       "      <td>Apache (internal dummy connection)</td>\n",
       "    </tr>\n",
       "    <tr>\n",
       "      <th>4</th>\n",
       "      <td>localhost</td>\n",
       "      <td>127.0.0.1</td>\n",
       "      <td>-</td>\n",
       "      <td>[23/Feb/2014:03:10:31 +0100]</td>\n",
       "      <td>OPTIONS * HTTP/1.0</td>\n",
       "      <td>200</td>\n",
       "      <td>-</td>\n",
       "      <td>\"-\"</td>\n",
       "      <td>Apache (internal dummy connection)</td>\n",
       "    </tr>\n",
       "    <tr>\n",
       "      <th>...</th>\n",
       "      <td>...</td>\n",
       "      <td>...</td>\n",
       "      <td>...</td>\n",
       "      <td>...</td>\n",
       "      <td>...</td>\n",
       "      <td>...</td>\n",
       "      <td>...</td>\n",
       "      <td>...</td>\n",
       "      <td>...</td>\n",
       "    </tr>\n",
       "    <tr>\n",
       "      <th>261868</th>\n",
       "      <td>www.akumenius.com</td>\n",
       "      <td>5.255.253.53</td>\n",
       "      <td>-</td>\n",
       "      <td>[02/Mar/2014:03:05:39 +0100]</td>\n",
       "      <td>GET / HTTP/1.1</td>\n",
       "      <td>200</td>\n",
       "      <td>7528</td>\n",
       "      <td>\"-\"</td>\n",
       "      <td>Mozilla/5.0 (compatible; YandexBot/3.0; +http:...</td>\n",
       "    </tr>\n",
       "    <tr>\n",
       "      <th>261869</th>\n",
       "      <td>www.akumenius.com</td>\n",
       "      <td>74.86.158.107</td>\n",
       "      <td>-</td>\n",
       "      <td>[02/Mar/2014:03:09:52 +0100]</td>\n",
       "      <td>HEAD / HTTP/1.1</td>\n",
       "      <td>200</td>\n",
       "      <td>-</td>\n",
       "      <td>\"-\"</td>\n",
       "      <td>Mozilla/5.0+(compatible; UptimeRobot/2.0; http...</td>\n",
       "    </tr>\n",
       "    <tr>\n",
       "      <th>261870</th>\n",
       "      <td>localhost</td>\n",
       "      <td>127.0.0.1</td>\n",
       "      <td>-</td>\n",
       "      <td>[02/Mar/2014:03:10:18 +0100]</td>\n",
       "      <td>OPTIONS * HTTP/1.0</td>\n",
       "      <td>200</td>\n",
       "      <td>-</td>\n",
       "      <td>\"-\"</td>\n",
       "      <td>Apache (internal dummy connection)</td>\n",
       "    </tr>\n",
       "    <tr>\n",
       "      <th>261871</th>\n",
       "      <td>localhost</td>\n",
       "      <td>127.0.0.1</td>\n",
       "      <td>-</td>\n",
       "      <td>[02/Mar/2014:03:10:18 +0100]</td>\n",
       "      <td>OPTIONS * HTTP/1.0</td>\n",
       "      <td>200</td>\n",
       "      <td>-</td>\n",
       "      <td>\"-\"</td>\n",
       "      <td>Apache (internal dummy connection)</td>\n",
       "    </tr>\n",
       "    <tr>\n",
       "      <th>261872</th>\n",
       "      <td>localhost</td>\n",
       "      <td>127.0.0.1</td>\n",
       "      <td>-</td>\n",
       "      <td>[02/Mar/2014:03:10:18 +0100]</td>\n",
       "      <td>OPTIONS * HTTP/1.0</td>\n",
       "      <td>200</td>\n",
       "      <td>-</td>\n",
       "      <td>\"-\"</td>\n",
       "      <td>Apache (internal dummy connection)</td>\n",
       "    </tr>\n",
       "  </tbody>\n",
       "</table>\n",
       "<p>261873 rows × 9 columns</p>\n",
       "</div>"
      ],
      "text/plain": [
       "                 Servidor             IP UserID                     Timestamp  \\\n",
       "0               localhost      127.0.0.1      -  [23/Feb/2014:03:10:31 +0100]   \n",
       "1               localhost      127.0.0.1      -  [23/Feb/2014:03:10:31 +0100]   \n",
       "2               localhost      127.0.0.1      -  [23/Feb/2014:03:10:31 +0100]   \n",
       "3               localhost      127.0.0.1      -  [23/Feb/2014:03:10:31 +0100]   \n",
       "4               localhost      127.0.0.1      -  [23/Feb/2014:03:10:31 +0100]   \n",
       "...                   ...            ...    ...                           ...   \n",
       "261868  www.akumenius.com   5.255.253.53      -  [02/Mar/2014:03:05:39 +0100]   \n",
       "261869  www.akumenius.com  74.86.158.107      -  [02/Mar/2014:03:09:52 +0100]   \n",
       "261870          localhost      127.0.0.1      -  [02/Mar/2014:03:10:18 +0100]   \n",
       "261871          localhost      127.0.0.1      -  [02/Mar/2014:03:10:18 +0100]   \n",
       "261872          localhost      127.0.0.1      -  [02/Mar/2014:03:10:18 +0100]   \n",
       "\n",
       "              Request line Status code Size obj. req. Referer  \\\n",
       "0       OPTIONS * HTTP/1.0         200              -     \"-\"   \n",
       "1       OPTIONS * HTTP/1.0         200              -     \"-\"   \n",
       "2       OPTIONS * HTTP/1.0         200              -     \"-\"   \n",
       "3       OPTIONS * HTTP/1.0         200              -     \"-\"   \n",
       "4       OPTIONS * HTTP/1.0         200              -     \"-\"   \n",
       "...                    ...         ...            ...     ...   \n",
       "261868      GET / HTTP/1.1         200           7528     \"-\"   \n",
       "261869     HEAD / HTTP/1.1         200              -     \"-\"   \n",
       "261870  OPTIONS * HTTP/1.0         200              -     \"-\"   \n",
       "261871  OPTIONS * HTTP/1.0         200              -     \"-\"   \n",
       "261872  OPTIONS * HTTP/1.0         200              -     \"-\"   \n",
       "\n",
       "                                               User-Agent  \n",
       "0                      Apache (internal dummy connection)  \n",
       "1                      Apache (internal dummy connection)  \n",
       "2                      Apache (internal dummy connection)  \n",
       "3                      Apache (internal dummy connection)  \n",
       "4                      Apache (internal dummy connection)  \n",
       "...                                                   ...  \n",
       "261868  Mozilla/5.0 (compatible; YandexBot/3.0; +http:...  \n",
       "261869  Mozilla/5.0+(compatible; UptimeRobot/2.0; http...  \n",
       "261870                 Apache (internal dummy connection)  \n",
       "261871                 Apache (internal dummy connection)  \n",
       "261872                 Apache (internal dummy connection)  \n",
       "\n",
       "[261873 rows x 9 columns]"
      ]
     },
     "execution_count": 15,
     "metadata": {},
     "output_type": "execute_result"
    }
   ],
   "source": [
    "# Com que Identd client i Vlog no aporten cap informació, les eliminem del df\n",
    "df1['Identd client'].value_counts()\n",
    "df1['Vlog'].value_counts()\n",
    "df1 = df1.drop(columns = ['Identd client', 'Vlog'])\n",
    "df1"
   ]
  },
  {
   "cell_type": "markdown",
   "metadata": {},
   "source": [
    "### Dividim el Timestamp en diferents columnes per poder filtrar per any, mes, dia, hora"
   ]
  },
  {
   "cell_type": "code",
   "execution_count": 16,
   "metadata": {
    "execution": {
     "iopub.execute_input": "2021-09-08T14:11:16.420122Z",
     "iopub.status.busy": "2021-09-08T14:11:16.419519Z",
     "iopub.status.idle": "2021-09-08T14:11:16.939350Z",
     "shell.execute_reply": "2021-09-08T14:11:16.929667Z",
     "shell.execute_reply.started": "2021-09-08T14:11:16.420060Z"
    }
   },
   "outputs": [
    {
     "data": {
      "text/plain": [
       "[28/Feb/2014:04:16:25 +0100]    83\n",
       "[25/Feb/2014:18:01:20 +0100]    76\n",
       "[25/Feb/2014:18:36:30 +0100]    68\n",
       "[25/Feb/2014:15:58:34 +0100]    67\n",
       "[26/Feb/2014:17:36:25 +0100]    67\n",
       "                                ..\n",
       "[24/Feb/2014:04:31:35 +0100]     1\n",
       "[23/Feb/2014:15:52:57 +0100]     1\n",
       "[25/Feb/2014:08:40:24 +0100]     1\n",
       "[23/Feb/2014:18:44:00 +0100]     1\n",
       "[24/Feb/2014:05:43:42 +0100]     1\n",
       "Name: Timestamp, Length: 118735, dtype: int64"
      ]
     },
     "execution_count": 16,
     "metadata": {},
     "output_type": "execute_result"
    }
   ],
   "source": [
    " df1['Timestamp'].value_counts()"
   ]
  },
  {
   "cell_type": "code",
   "execution_count": 17,
   "metadata": {
    "execution": {
     "iopub.execute_input": "2021-09-08T14:11:16.942162Z",
     "iopub.status.busy": "2021-09-08T14:11:16.941680Z",
     "iopub.status.idle": "2021-09-08T14:11:18.493676Z",
     "shell.execute_reply": "2021-09-08T14:11:18.492107Z",
     "shell.execute_reply.started": "2021-09-08T14:11:16.942102Z"
    }
   },
   "outputs": [],
   "source": [
    "time = df1['Timestamp'].str.split(\" \", n = 1, expand = True)\n",
    "df1['Timestamp'] = time[0]\n",
    "df1['Zone'] = time[1]"
   ]
  },
  {
   "cell_type": "markdown",
   "metadata": {},
   "source": [
    "#### Com que totes les dates son a la mateixa zona horaria (UTC + 1) podem eliminar la columna"
   ]
  },
  {
   "cell_type": "code",
   "execution_count": 18,
   "metadata": {
    "execution": {
     "iopub.execute_input": "2021-09-08T14:11:18.496939Z",
     "iopub.status.busy": "2021-09-08T14:11:18.496374Z",
     "iopub.status.idle": "2021-09-08T14:11:18.650044Z",
     "shell.execute_reply": "2021-09-08T14:11:18.646816Z",
     "shell.execute_reply.started": "2021-09-08T14:11:18.496901Z"
    }
   },
   "outputs": [
    {
     "data": {
      "text/plain": [
       "+0100]    261873\n",
       "Name: Zone, dtype: int64"
      ]
     },
     "execution_count": 18,
     "metadata": {},
     "output_type": "execute_result"
    }
   ],
   "source": [
    "df1['Zone'].value_counts()"
   ]
  },
  {
   "cell_type": "code",
   "execution_count": 19,
   "metadata": {
    "execution": {
     "iopub.execute_input": "2021-09-08T14:11:18.656872Z",
     "iopub.status.busy": "2021-09-08T14:11:18.653217Z",
     "iopub.status.idle": "2021-09-08T14:11:19.161695Z",
     "shell.execute_reply": "2021-09-08T14:11:19.160033Z",
     "shell.execute_reply.started": "2021-09-08T14:11:18.656818Z"
    }
   },
   "outputs": [],
   "source": [
    "df1 = df1.drop(columns = ['Zone'])"
   ]
  },
  {
   "cell_type": "markdown",
   "metadata": {},
   "source": [
    "#### Creem noves columnes per al dia, el mes, l'any i l'hora i eliminem la columna de Timestamp"
   ]
  },
  {
   "cell_type": "code",
   "execution_count": 20,
   "metadata": {
    "execution": {
     "iopub.execute_input": "2021-09-08T14:11:19.165506Z",
     "iopub.status.busy": "2021-09-08T14:11:19.164941Z",
     "iopub.status.idle": "2021-09-08T14:11:20.723197Z",
     "shell.execute_reply": "2021-09-08T14:11:20.721396Z",
     "shell.execute_reply.started": "2021-09-08T14:11:19.165448Z"
    }
   },
   "outputs": [],
   "source": [
    "df1['Dia'] = df1['Timestamp'].apply(lambda x:x[1:3])\n",
    "df1['Mes'] = df1['Timestamp'].apply(lambda x:x[4:7])\n",
    "df1['Any'] = df1['Timestamp'].apply(lambda x:x[8:12])\n",
    "df1['Hora'] = df1['Timestamp'].apply(lambda x:x[13:15])\n",
    "df1['Minut'] = df1['Timestamp'].apply(lambda x:x[16:18])\n",
    "df1 = df1.drop(columns = ['Timestamp'])"
   ]
  },
  {
   "cell_type": "markdown",
   "metadata": {},
   "source": [
    "#### Creem noves columnes per al verb, página i mètode HTTP utilitzat per fer la sol·licitud"
   ]
  },
  {
   "cell_type": "code",
   "execution_count": 21,
   "metadata": {
    "execution": {
     "iopub.execute_input": "2021-09-08T14:11:20.727703Z",
     "iopub.status.busy": "2021-09-08T14:11:20.727183Z",
     "iopub.status.idle": "2021-09-08T14:11:21.014655Z",
     "shell.execute_reply": "2021-09-08T14:11:21.012495Z",
     "shell.execute_reply.started": "2021-09-08T14:11:20.727662Z"
    }
   },
   "outputs": [
    {
     "data": {
      "text/plain": [
       "OPTIONS * HTTP/1.0                                                                              13892\n",
       "POST /destinos-get HTTP/1.1                                                                      8056\n",
       "POST /hotel-list-data/ HTTP/1.1                                                                  2318\n",
       "GET / HTTP/1.1                                                                                   2216\n",
       "HEAD / HTTP/1.1                                                                                  1723\n",
       "                                                                                                ...  \n",
       "GET /destinosEstrelles/hoteles-en-Harlech_REINO%20UNIDO-con-1-estrella HTTP/1.1                     1\n",
       "GET /destinos-caracteristicas/hoteles-baratos-en-Aguilas_ESPA%C3%91A-con-Bar-es HTTP/1.1            1\n",
       "GET /hoteles-baratos/ofertas-hotel-Legend--en-PORT%20DICKSON-3231697t-destinos.html HTTP/1.1        1\n",
       "GET /destinos-ajax2/hoteles-en-ESLOVENIA_SI HTTP/1.1                                                1\n",
       "GET /destinos-caracteristicas/hoteles-baratos-en-Aden_YEMEN-con-Maletero HTTP/1.1                   1\n",
       "Name: Request line, Length: 66764, dtype: int64"
      ]
     },
     "execution_count": 21,
     "metadata": {},
     "output_type": "execute_result"
    }
   ],
   "source": [
    "df1['Request line'].value_counts()"
   ]
  },
  {
   "cell_type": "code",
   "execution_count": 22,
   "metadata": {
    "execution": {
     "iopub.execute_input": "2021-09-08T14:11:21.017537Z",
     "iopub.status.busy": "2021-09-08T14:11:21.016488Z",
     "iopub.status.idle": "2021-09-08T14:11:22.302246Z",
     "shell.execute_reply": "2021-09-08T14:11:22.300713Z",
     "shell.execute_reply.started": "2021-09-08T14:11:21.017467Z"
    }
   },
   "outputs": [],
   "source": [
    "# Creem la columna amb el verb\n",
    "metod1 = df1['Request line'].str.split(\" \", n = 1, expand = True)\n",
    "df1['Metod (verb)'] = metod1[0]\n",
    "df1['Request line'] = metod1[1]"
   ]
  },
  {
   "cell_type": "code",
   "execution_count": 23,
   "metadata": {
    "execution": {
     "iopub.execute_input": "2021-09-08T14:11:22.321807Z",
     "iopub.status.busy": "2021-09-08T14:11:22.305819Z",
     "iopub.status.idle": "2021-09-08T14:11:22.537089Z",
     "shell.execute_reply": "2021-09-08T14:11:22.502799Z",
     "shell.execute_reply.started": "2021-09-08T14:11:22.321423Z"
    }
   },
   "outputs": [
    {
     "data": {
      "text/plain": [
       "GET                  229482\n",
       "POST                  16669\n",
       "OPTIONS               13892\n",
       "HEAD                   1788\n",
       "-                        37\n",
       "\\x80w\\x01\\x03\\x01         5\n",
       "Name: Metod (verb), dtype: int64"
      ]
     },
     "execution_count": 23,
     "metadata": {},
     "output_type": "execute_result"
    }
   ],
   "source": [
    "df1['Metod (verb)'].value_counts()"
   ]
  },
  {
   "cell_type": "code",
   "execution_count": 24,
   "metadata": {
    "execution": {
     "iopub.execute_input": "2021-09-08T14:11:22.605822Z",
     "iopub.status.busy": "2021-09-08T14:11:22.604869Z",
     "iopub.status.idle": "2021-09-08T14:11:23.068371Z",
     "shell.execute_reply": "2021-09-08T14:11:23.053644Z",
     "shell.execute_reply.started": "2021-09-08T14:11:22.605756Z"
    }
   },
   "outputs": [
    {
     "data": {
      "text/plain": [
       "122077    \\x80w\\x01\\x03\\x01\n",
       "196635    \\x80w\\x01\\x03\\x01\n",
       "246949    \\x80w\\x01\\x03\\x01\n",
       "255719    \\x80w\\x01\\x03\\x01\n",
       "255830    \\x80w\\x01\\x03\\x01\n",
       "Name: Metod (verb), dtype: object"
      ]
     },
     "execution_count": 24,
     "metadata": {},
     "output_type": "execute_result"
    }
   ],
   "source": [
    "df1['Metod (verb)'][df1['Metod (verb)'].str.startswith('\\\\')]"
   ]
  },
  {
   "cell_type": "code",
   "execution_count": 25,
   "metadata": {
    "execution": {
     "iopub.execute_input": "2021-09-08T14:11:23.081499Z",
     "iopub.status.busy": "2021-09-08T14:11:23.081033Z",
     "iopub.status.idle": "2021-09-08T14:11:24.459319Z",
     "shell.execute_reply": "2021-09-08T14:11:24.456859Z",
     "shell.execute_reply.started": "2021-09-08T14:11:23.081461Z"
    }
   },
   "outputs": [],
   "source": [
    "df1['Metod (verb)'][df1['Metod (verb)'].str.startswith('\\\\')] = '-'"
   ]
  },
  {
   "cell_type": "code",
   "execution_count": 26,
   "metadata": {
    "execution": {
     "iopub.execute_input": "2021-09-08T14:11:24.466934Z",
     "iopub.status.busy": "2021-09-08T14:11:24.463300Z",
     "iopub.status.idle": "2021-09-08T14:11:27.872753Z",
     "shell.execute_reply": "2021-09-08T14:11:27.868236Z",
     "shell.execute_reply.started": "2021-09-08T14:11:24.466860Z"
    }
   },
   "outputs": [],
   "source": [
    "# Creem la columna amb la página\n",
    "metod2 = df1['Request line'].str.split(\" \", n = 1, expand = True)\n",
    "df1['Metod (pagina)'] = metod2[0]\n",
    "df1['Metod HTTP'] = metod2[1]\n",
    "df1 = df1.drop(columns = ['Request line'])"
   ]
  },
  {
   "cell_type": "code",
   "execution_count": 27,
   "metadata": {
    "execution": {
     "iopub.execute_input": "2021-09-08T14:11:27.883363Z",
     "iopub.status.busy": "2021-09-08T14:11:27.881869Z",
     "iopub.status.idle": "2021-09-08T14:11:28.097138Z",
     "shell.execute_reply": "2021-09-08T14:11:28.092774Z",
     "shell.execute_reply.started": "2021-09-08T14:11:27.883223Z"
    }
   },
   "outputs": [
    {
     "data": {
      "text/html": [
       "<div>\n",
       "<style scoped>\n",
       "    .dataframe tbody tr th:only-of-type {\n",
       "        vertical-align: middle;\n",
       "    }\n",
       "\n",
       "    .dataframe tbody tr th {\n",
       "        vertical-align: top;\n",
       "    }\n",
       "\n",
       "    .dataframe thead th {\n",
       "        text-align: right;\n",
       "    }\n",
       "</style>\n",
       "<table border=\"1\" class=\"dataframe\">\n",
       "  <thead>\n",
       "    <tr style=\"text-align: right;\">\n",
       "      <th></th>\n",
       "      <th>Servidor</th>\n",
       "      <th>IP</th>\n",
       "      <th>UserID</th>\n",
       "      <th>Status code</th>\n",
       "      <th>Size obj. req.</th>\n",
       "      <th>Referer</th>\n",
       "      <th>User-Agent</th>\n",
       "      <th>Dia</th>\n",
       "      <th>Mes</th>\n",
       "      <th>Any</th>\n",
       "      <th>Hora</th>\n",
       "      <th>Minut</th>\n",
       "      <th>Metod (verb)</th>\n",
       "      <th>Metod (pagina)</th>\n",
       "      <th>Metod HTTP</th>\n",
       "    </tr>\n",
       "  </thead>\n",
       "  <tbody>\n",
       "    <tr>\n",
       "      <th>0</th>\n",
       "      <td>localhost</td>\n",
       "      <td>127.0.0.1</td>\n",
       "      <td>-</td>\n",
       "      <td>200</td>\n",
       "      <td>-</td>\n",
       "      <td>\"-\"</td>\n",
       "      <td>Apache (internal dummy connection)</td>\n",
       "      <td>23</td>\n",
       "      <td>Feb</td>\n",
       "      <td>2014</td>\n",
       "      <td>03</td>\n",
       "      <td>10</td>\n",
       "      <td>OPTIONS</td>\n",
       "      <td>*</td>\n",
       "      <td>HTTP/1.0</td>\n",
       "    </tr>\n",
       "    <tr>\n",
       "      <th>1</th>\n",
       "      <td>localhost</td>\n",
       "      <td>127.0.0.1</td>\n",
       "      <td>-</td>\n",
       "      <td>200</td>\n",
       "      <td>-</td>\n",
       "      <td>\"-\"</td>\n",
       "      <td>Apache (internal dummy connection)</td>\n",
       "      <td>23</td>\n",
       "      <td>Feb</td>\n",
       "      <td>2014</td>\n",
       "      <td>03</td>\n",
       "      <td>10</td>\n",
       "      <td>OPTIONS</td>\n",
       "      <td>*</td>\n",
       "      <td>HTTP/1.0</td>\n",
       "    </tr>\n",
       "    <tr>\n",
       "      <th>2</th>\n",
       "      <td>localhost</td>\n",
       "      <td>127.0.0.1</td>\n",
       "      <td>-</td>\n",
       "      <td>200</td>\n",
       "      <td>-</td>\n",
       "      <td>\"-\"</td>\n",
       "      <td>Apache (internal dummy connection)</td>\n",
       "      <td>23</td>\n",
       "      <td>Feb</td>\n",
       "      <td>2014</td>\n",
       "      <td>03</td>\n",
       "      <td>10</td>\n",
       "      <td>OPTIONS</td>\n",
       "      <td>*</td>\n",
       "      <td>HTTP/1.0</td>\n",
       "    </tr>\n",
       "    <tr>\n",
       "      <th>3</th>\n",
       "      <td>localhost</td>\n",
       "      <td>127.0.0.1</td>\n",
       "      <td>-</td>\n",
       "      <td>200</td>\n",
       "      <td>-</td>\n",
       "      <td>\"-\"</td>\n",
       "      <td>Apache (internal dummy connection)</td>\n",
       "      <td>23</td>\n",
       "      <td>Feb</td>\n",
       "      <td>2014</td>\n",
       "      <td>03</td>\n",
       "      <td>10</td>\n",
       "      <td>OPTIONS</td>\n",
       "      <td>*</td>\n",
       "      <td>HTTP/1.0</td>\n",
       "    </tr>\n",
       "    <tr>\n",
       "      <th>4</th>\n",
       "      <td>localhost</td>\n",
       "      <td>127.0.0.1</td>\n",
       "      <td>-</td>\n",
       "      <td>200</td>\n",
       "      <td>-</td>\n",
       "      <td>\"-\"</td>\n",
       "      <td>Apache (internal dummy connection)</td>\n",
       "      <td>23</td>\n",
       "      <td>Feb</td>\n",
       "      <td>2014</td>\n",
       "      <td>03</td>\n",
       "      <td>10</td>\n",
       "      <td>OPTIONS</td>\n",
       "      <td>*</td>\n",
       "      <td>HTTP/1.0</td>\n",
       "    </tr>\n",
       "    <tr>\n",
       "      <th>...</th>\n",
       "      <td>...</td>\n",
       "      <td>...</td>\n",
       "      <td>...</td>\n",
       "      <td>...</td>\n",
       "      <td>...</td>\n",
       "      <td>...</td>\n",
       "      <td>...</td>\n",
       "      <td>...</td>\n",
       "      <td>...</td>\n",
       "      <td>...</td>\n",
       "      <td>...</td>\n",
       "      <td>...</td>\n",
       "      <td>...</td>\n",
       "      <td>...</td>\n",
       "      <td>...</td>\n",
       "    </tr>\n",
       "    <tr>\n",
       "      <th>261868</th>\n",
       "      <td>www.akumenius.com</td>\n",
       "      <td>5.255.253.53</td>\n",
       "      <td>-</td>\n",
       "      <td>200</td>\n",
       "      <td>7528</td>\n",
       "      <td>\"-\"</td>\n",
       "      <td>Mozilla/5.0 (compatible; YandexBot/3.0; +http:...</td>\n",
       "      <td>02</td>\n",
       "      <td>Mar</td>\n",
       "      <td>2014</td>\n",
       "      <td>03</td>\n",
       "      <td>05</td>\n",
       "      <td>GET</td>\n",
       "      <td>/</td>\n",
       "      <td>HTTP/1.1</td>\n",
       "    </tr>\n",
       "    <tr>\n",
       "      <th>261869</th>\n",
       "      <td>www.akumenius.com</td>\n",
       "      <td>74.86.158.107</td>\n",
       "      <td>-</td>\n",
       "      <td>200</td>\n",
       "      <td>-</td>\n",
       "      <td>\"-\"</td>\n",
       "      <td>Mozilla/5.0+(compatible; UptimeRobot/2.0; http...</td>\n",
       "      <td>02</td>\n",
       "      <td>Mar</td>\n",
       "      <td>2014</td>\n",
       "      <td>03</td>\n",
       "      <td>09</td>\n",
       "      <td>HEAD</td>\n",
       "      <td>/</td>\n",
       "      <td>HTTP/1.1</td>\n",
       "    </tr>\n",
       "    <tr>\n",
       "      <th>261870</th>\n",
       "      <td>localhost</td>\n",
       "      <td>127.0.0.1</td>\n",
       "      <td>-</td>\n",
       "      <td>200</td>\n",
       "      <td>-</td>\n",
       "      <td>\"-\"</td>\n",
       "      <td>Apache (internal dummy connection)</td>\n",
       "      <td>02</td>\n",
       "      <td>Mar</td>\n",
       "      <td>2014</td>\n",
       "      <td>03</td>\n",
       "      <td>10</td>\n",
       "      <td>OPTIONS</td>\n",
       "      <td>*</td>\n",
       "      <td>HTTP/1.0</td>\n",
       "    </tr>\n",
       "    <tr>\n",
       "      <th>261871</th>\n",
       "      <td>localhost</td>\n",
       "      <td>127.0.0.1</td>\n",
       "      <td>-</td>\n",
       "      <td>200</td>\n",
       "      <td>-</td>\n",
       "      <td>\"-\"</td>\n",
       "      <td>Apache (internal dummy connection)</td>\n",
       "      <td>02</td>\n",
       "      <td>Mar</td>\n",
       "      <td>2014</td>\n",
       "      <td>03</td>\n",
       "      <td>10</td>\n",
       "      <td>OPTIONS</td>\n",
       "      <td>*</td>\n",
       "      <td>HTTP/1.0</td>\n",
       "    </tr>\n",
       "    <tr>\n",
       "      <th>261872</th>\n",
       "      <td>localhost</td>\n",
       "      <td>127.0.0.1</td>\n",
       "      <td>-</td>\n",
       "      <td>200</td>\n",
       "      <td>-</td>\n",
       "      <td>\"-\"</td>\n",
       "      <td>Apache (internal dummy connection)</td>\n",
       "      <td>02</td>\n",
       "      <td>Mar</td>\n",
       "      <td>2014</td>\n",
       "      <td>03</td>\n",
       "      <td>10</td>\n",
       "      <td>OPTIONS</td>\n",
       "      <td>*</td>\n",
       "      <td>HTTP/1.0</td>\n",
       "    </tr>\n",
       "  </tbody>\n",
       "</table>\n",
       "<p>261873 rows × 15 columns</p>\n",
       "</div>"
      ],
      "text/plain": [
       "                 Servidor             IP UserID Status code Size obj. req.  \\\n",
       "0               localhost      127.0.0.1      -         200              -   \n",
       "1               localhost      127.0.0.1      -         200              -   \n",
       "2               localhost      127.0.0.1      -         200              -   \n",
       "3               localhost      127.0.0.1      -         200              -   \n",
       "4               localhost      127.0.0.1      -         200              -   \n",
       "...                   ...            ...    ...         ...            ...   \n",
       "261868  www.akumenius.com   5.255.253.53      -         200           7528   \n",
       "261869  www.akumenius.com  74.86.158.107      -         200              -   \n",
       "261870          localhost      127.0.0.1      -         200              -   \n",
       "261871          localhost      127.0.0.1      -         200              -   \n",
       "261872          localhost      127.0.0.1      -         200              -   \n",
       "\n",
       "       Referer                                         User-Agent Dia  Mes  \\\n",
       "0          \"-\"                 Apache (internal dummy connection)  23  Feb   \n",
       "1          \"-\"                 Apache (internal dummy connection)  23  Feb   \n",
       "2          \"-\"                 Apache (internal dummy connection)  23  Feb   \n",
       "3          \"-\"                 Apache (internal dummy connection)  23  Feb   \n",
       "4          \"-\"                 Apache (internal dummy connection)  23  Feb   \n",
       "...        ...                                                ...  ..  ...   \n",
       "261868     \"-\"  Mozilla/5.0 (compatible; YandexBot/3.0; +http:...  02  Mar   \n",
       "261869     \"-\"  Mozilla/5.0+(compatible; UptimeRobot/2.0; http...  02  Mar   \n",
       "261870     \"-\"                 Apache (internal dummy connection)  02  Mar   \n",
       "261871     \"-\"                 Apache (internal dummy connection)  02  Mar   \n",
       "261872     \"-\"                 Apache (internal dummy connection)  02  Mar   \n",
       "\n",
       "         Any Hora Minut Metod (verb) Metod (pagina) Metod HTTP  \n",
       "0       2014   03    10      OPTIONS              *   HTTP/1.0  \n",
       "1       2014   03    10      OPTIONS              *   HTTP/1.0  \n",
       "2       2014   03    10      OPTIONS              *   HTTP/1.0  \n",
       "3       2014   03    10      OPTIONS              *   HTTP/1.0  \n",
       "4       2014   03    10      OPTIONS              *   HTTP/1.0  \n",
       "...      ...  ...   ...          ...            ...        ...  \n",
       "261868  2014   03    05          GET              /   HTTP/1.1  \n",
       "261869  2014   03    09         HEAD              /   HTTP/1.1  \n",
       "261870  2014   03    10      OPTIONS              *   HTTP/1.0  \n",
       "261871  2014   03    10      OPTIONS              *   HTTP/1.0  \n",
       "261872  2014   03    10      OPTIONS              *   HTTP/1.0  \n",
       "\n",
       "[261873 rows x 15 columns]"
      ]
     },
     "execution_count": 27,
     "metadata": {},
     "output_type": "execute_result"
    }
   ],
   "source": [
    "df1"
   ]
  },
  {
   "cell_type": "code",
   "execution_count": 28,
   "metadata": {
    "execution": {
     "iopub.execute_input": "2021-09-08T14:11:28.143586Z",
     "iopub.status.busy": "2021-09-08T14:11:28.142656Z",
     "iopub.status.idle": "2021-09-08T14:11:28.510587Z",
     "shell.execute_reply": "2021-09-08T14:11:28.499930Z",
     "shell.execute_reply.started": "2021-09-08T14:11:28.143487Z"
    }
   },
   "outputs": [
    {
     "data": {
      "text/html": [
       "<div>\n",
       "<style scoped>\n",
       "    .dataframe tbody tr th:only-of-type {\n",
       "        vertical-align: middle;\n",
       "    }\n",
       "\n",
       "    .dataframe tbody tr th {\n",
       "        vertical-align: top;\n",
       "    }\n",
       "\n",
       "    .dataframe thead th {\n",
       "        text-align: right;\n",
       "    }\n",
       "</style>\n",
       "<table border=\"1\" class=\"dataframe\">\n",
       "  <thead>\n",
       "    <tr style=\"text-align: right;\">\n",
       "      <th></th>\n",
       "      <th>Dia</th>\n",
       "      <th>Mes</th>\n",
       "      <th>Any</th>\n",
       "      <th>Hora</th>\n",
       "      <th>Minut</th>\n",
       "      <th>Servidor</th>\n",
       "      <th>IP</th>\n",
       "      <th>UserID</th>\n",
       "      <th>Metod (verb)</th>\n",
       "      <th>Metod (pagina)</th>\n",
       "      <th>Metod HTTP</th>\n",
       "      <th>Status code</th>\n",
       "      <th>Size obj. req.</th>\n",
       "      <th>Referer</th>\n",
       "      <th>User-Agent</th>\n",
       "    </tr>\n",
       "  </thead>\n",
       "  <tbody>\n",
       "    <tr>\n",
       "      <th>0</th>\n",
       "      <td>23</td>\n",
       "      <td>Feb</td>\n",
       "      <td>2014</td>\n",
       "      <td>03</td>\n",
       "      <td>10</td>\n",
       "      <td>localhost</td>\n",
       "      <td>127.0.0.1</td>\n",
       "      <td>-</td>\n",
       "      <td>OPTIONS</td>\n",
       "      <td>*</td>\n",
       "      <td>HTTP/1.0</td>\n",
       "      <td>200</td>\n",
       "      <td>-</td>\n",
       "      <td>\"-\"</td>\n",
       "      <td>Apache (internal dummy connection)</td>\n",
       "    </tr>\n",
       "    <tr>\n",
       "      <th>1</th>\n",
       "      <td>23</td>\n",
       "      <td>Feb</td>\n",
       "      <td>2014</td>\n",
       "      <td>03</td>\n",
       "      <td>10</td>\n",
       "      <td>localhost</td>\n",
       "      <td>127.0.0.1</td>\n",
       "      <td>-</td>\n",
       "      <td>OPTIONS</td>\n",
       "      <td>*</td>\n",
       "      <td>HTTP/1.0</td>\n",
       "      <td>200</td>\n",
       "      <td>-</td>\n",
       "      <td>\"-\"</td>\n",
       "      <td>Apache (internal dummy connection)</td>\n",
       "    </tr>\n",
       "    <tr>\n",
       "      <th>2</th>\n",
       "      <td>23</td>\n",
       "      <td>Feb</td>\n",
       "      <td>2014</td>\n",
       "      <td>03</td>\n",
       "      <td>10</td>\n",
       "      <td>localhost</td>\n",
       "      <td>127.0.0.1</td>\n",
       "      <td>-</td>\n",
       "      <td>OPTIONS</td>\n",
       "      <td>*</td>\n",
       "      <td>HTTP/1.0</td>\n",
       "      <td>200</td>\n",
       "      <td>-</td>\n",
       "      <td>\"-\"</td>\n",
       "      <td>Apache (internal dummy connection)</td>\n",
       "    </tr>\n",
       "    <tr>\n",
       "      <th>3</th>\n",
       "      <td>23</td>\n",
       "      <td>Feb</td>\n",
       "      <td>2014</td>\n",
       "      <td>03</td>\n",
       "      <td>10</td>\n",
       "      <td>localhost</td>\n",
       "      <td>127.0.0.1</td>\n",
       "      <td>-</td>\n",
       "      <td>OPTIONS</td>\n",
       "      <td>*</td>\n",
       "      <td>HTTP/1.0</td>\n",
       "      <td>200</td>\n",
       "      <td>-</td>\n",
       "      <td>\"-\"</td>\n",
       "      <td>Apache (internal dummy connection)</td>\n",
       "    </tr>\n",
       "    <tr>\n",
       "      <th>4</th>\n",
       "      <td>23</td>\n",
       "      <td>Feb</td>\n",
       "      <td>2014</td>\n",
       "      <td>03</td>\n",
       "      <td>10</td>\n",
       "      <td>localhost</td>\n",
       "      <td>127.0.0.1</td>\n",
       "      <td>-</td>\n",
       "      <td>OPTIONS</td>\n",
       "      <td>*</td>\n",
       "      <td>HTTP/1.0</td>\n",
       "      <td>200</td>\n",
       "      <td>-</td>\n",
       "      <td>\"-\"</td>\n",
       "      <td>Apache (internal dummy connection)</td>\n",
       "    </tr>\n",
       "    <tr>\n",
       "      <th>...</th>\n",
       "      <td>...</td>\n",
       "      <td>...</td>\n",
       "      <td>...</td>\n",
       "      <td>...</td>\n",
       "      <td>...</td>\n",
       "      <td>...</td>\n",
       "      <td>...</td>\n",
       "      <td>...</td>\n",
       "      <td>...</td>\n",
       "      <td>...</td>\n",
       "      <td>...</td>\n",
       "      <td>...</td>\n",
       "      <td>...</td>\n",
       "      <td>...</td>\n",
       "      <td>...</td>\n",
       "    </tr>\n",
       "    <tr>\n",
       "      <th>261868</th>\n",
       "      <td>02</td>\n",
       "      <td>Mar</td>\n",
       "      <td>2014</td>\n",
       "      <td>03</td>\n",
       "      <td>05</td>\n",
       "      <td>www.akumenius.com</td>\n",
       "      <td>5.255.253.53</td>\n",
       "      <td>-</td>\n",
       "      <td>GET</td>\n",
       "      <td>/</td>\n",
       "      <td>HTTP/1.1</td>\n",
       "      <td>200</td>\n",
       "      <td>7528</td>\n",
       "      <td>\"-\"</td>\n",
       "      <td>Mozilla/5.0 (compatible; YandexBot/3.0; +http:...</td>\n",
       "    </tr>\n",
       "    <tr>\n",
       "      <th>261869</th>\n",
       "      <td>02</td>\n",
       "      <td>Mar</td>\n",
       "      <td>2014</td>\n",
       "      <td>03</td>\n",
       "      <td>09</td>\n",
       "      <td>www.akumenius.com</td>\n",
       "      <td>74.86.158.107</td>\n",
       "      <td>-</td>\n",
       "      <td>HEAD</td>\n",
       "      <td>/</td>\n",
       "      <td>HTTP/1.1</td>\n",
       "      <td>200</td>\n",
       "      <td>-</td>\n",
       "      <td>\"-\"</td>\n",
       "      <td>Mozilla/5.0+(compatible; UptimeRobot/2.0; http...</td>\n",
       "    </tr>\n",
       "    <tr>\n",
       "      <th>261870</th>\n",
       "      <td>02</td>\n",
       "      <td>Mar</td>\n",
       "      <td>2014</td>\n",
       "      <td>03</td>\n",
       "      <td>10</td>\n",
       "      <td>localhost</td>\n",
       "      <td>127.0.0.1</td>\n",
       "      <td>-</td>\n",
       "      <td>OPTIONS</td>\n",
       "      <td>*</td>\n",
       "      <td>HTTP/1.0</td>\n",
       "      <td>200</td>\n",
       "      <td>-</td>\n",
       "      <td>\"-\"</td>\n",
       "      <td>Apache (internal dummy connection)</td>\n",
       "    </tr>\n",
       "    <tr>\n",
       "      <th>261871</th>\n",
       "      <td>02</td>\n",
       "      <td>Mar</td>\n",
       "      <td>2014</td>\n",
       "      <td>03</td>\n",
       "      <td>10</td>\n",
       "      <td>localhost</td>\n",
       "      <td>127.0.0.1</td>\n",
       "      <td>-</td>\n",
       "      <td>OPTIONS</td>\n",
       "      <td>*</td>\n",
       "      <td>HTTP/1.0</td>\n",
       "      <td>200</td>\n",
       "      <td>-</td>\n",
       "      <td>\"-\"</td>\n",
       "      <td>Apache (internal dummy connection)</td>\n",
       "    </tr>\n",
       "    <tr>\n",
       "      <th>261872</th>\n",
       "      <td>02</td>\n",
       "      <td>Mar</td>\n",
       "      <td>2014</td>\n",
       "      <td>03</td>\n",
       "      <td>10</td>\n",
       "      <td>localhost</td>\n",
       "      <td>127.0.0.1</td>\n",
       "      <td>-</td>\n",
       "      <td>OPTIONS</td>\n",
       "      <td>*</td>\n",
       "      <td>HTTP/1.0</td>\n",
       "      <td>200</td>\n",
       "      <td>-</td>\n",
       "      <td>\"-\"</td>\n",
       "      <td>Apache (internal dummy connection)</td>\n",
       "    </tr>\n",
       "  </tbody>\n",
       "</table>\n",
       "<p>261873 rows × 15 columns</p>\n",
       "</div>"
      ],
      "text/plain": [
       "       Dia  Mes   Any Hora Minut           Servidor             IP UserID  \\\n",
       "0       23  Feb  2014   03    10          localhost      127.0.0.1      -   \n",
       "1       23  Feb  2014   03    10          localhost      127.0.0.1      -   \n",
       "2       23  Feb  2014   03    10          localhost      127.0.0.1      -   \n",
       "3       23  Feb  2014   03    10          localhost      127.0.0.1      -   \n",
       "4       23  Feb  2014   03    10          localhost      127.0.0.1      -   \n",
       "...     ..  ...   ...  ...   ...                ...            ...    ...   \n",
       "261868  02  Mar  2014   03    05  www.akumenius.com   5.255.253.53      -   \n",
       "261869  02  Mar  2014   03    09  www.akumenius.com  74.86.158.107      -   \n",
       "261870  02  Mar  2014   03    10          localhost      127.0.0.1      -   \n",
       "261871  02  Mar  2014   03    10          localhost      127.0.0.1      -   \n",
       "261872  02  Mar  2014   03    10          localhost      127.0.0.1      -   \n",
       "\n",
       "       Metod (verb) Metod (pagina) Metod HTTP Status code Size obj. req.  \\\n",
       "0           OPTIONS              *   HTTP/1.0         200              -   \n",
       "1           OPTIONS              *   HTTP/1.0         200              -   \n",
       "2           OPTIONS              *   HTTP/1.0         200              -   \n",
       "3           OPTIONS              *   HTTP/1.0         200              -   \n",
       "4           OPTIONS              *   HTTP/1.0         200              -   \n",
       "...             ...            ...        ...         ...            ...   \n",
       "261868          GET              /   HTTP/1.1         200           7528   \n",
       "261869         HEAD              /   HTTP/1.1         200              -   \n",
       "261870      OPTIONS              *   HTTP/1.0         200              -   \n",
       "261871      OPTIONS              *   HTTP/1.0         200              -   \n",
       "261872      OPTIONS              *   HTTP/1.0         200              -   \n",
       "\n",
       "       Referer                                         User-Agent  \n",
       "0          \"-\"                 Apache (internal dummy connection)  \n",
       "1          \"-\"                 Apache (internal dummy connection)  \n",
       "2          \"-\"                 Apache (internal dummy connection)  \n",
       "3          \"-\"                 Apache (internal dummy connection)  \n",
       "4          \"-\"                 Apache (internal dummy connection)  \n",
       "...        ...                                                ...  \n",
       "261868     \"-\"  Mozilla/5.0 (compatible; YandexBot/3.0; +http:...  \n",
       "261869     \"-\"  Mozilla/5.0+(compatible; UptimeRobot/2.0; http...  \n",
       "261870     \"-\"                 Apache (internal dummy connection)  \n",
       "261871     \"-\"                 Apache (internal dummy connection)  \n",
       "261872     \"-\"                 Apache (internal dummy connection)  \n",
       "\n",
       "[261873 rows x 15 columns]"
      ]
     },
     "execution_count": 28,
     "metadata": {},
     "output_type": "execute_result"
    }
   ],
   "source": [
    "df1 = df1[['Dia', 'Mes', 'Any', 'Hora', 'Minut','Servidor', 'IP', 'UserID', 'Metod (verb)', 'Metod (pagina)', 'Metod HTTP', 'Status code', 'Size obj. req.', 'Referer', 'User-Agent']]\n",
    "df1"
   ]
  },
  {
   "cell_type": "markdown",
   "metadata": {},
   "source": [
    "#### Creem noves columnes per al navegador i sistema operatiu del client"
   ]
  },
  {
   "cell_type": "code",
   "execution_count": 29,
   "metadata": {
    "execution": {
     "iopub.execute_input": "2021-09-08T14:11:28.528429Z",
     "iopub.status.busy": "2021-09-08T14:11:28.522045Z",
     "iopub.status.idle": "2021-09-08T14:11:28.769719Z",
     "shell.execute_reply": "2021-09-08T14:11:28.767784Z",
     "shell.execute_reply.started": "2021-09-08T14:11:28.528347Z"
    }
   },
   "outputs": [
    {
     "data": {
      "text/plain": [
       "Mozilla/5.0 (compatible; Googlebot/2.1; +http://www.google.com/bot.html)                                                                      50914\n",
       "Mozilla/5.0 (X11; U; Linux i686; ca; rv:1.9.2.17) Gecko/20110428 Fedora/3.6.17-1.fc13 Firefox/3.6.17                                          13920\n",
       "Apache (internal dummy connection)                                                                                                            13892\n",
       "Mozilla/5.0 (Windows NT 6.1; WOW64) AppleWebKit/537.36 (KHTML, like Gecko) Chrome/33.0.1750.117 Safari/537.36                                  9388\n",
       "Mozilla/5.0 (Windows NT 6.1) AppleWebKit/537.36 (KHTML, like Gecko) Chrome/33.0.1750.117 Safari/537.36                                         7761\n",
       "                                                                                                                                              ...  \n",
       "Mozilla/5.0 (Linux; Android 4.2.2; GT-P5200 Build/JDQ39) AppleWebKit/537.36 (KHTML, like Gecko) Chrome/32.0.1700.99 Safari/537.36                 1\n",
       "Mozilla/5.0 (Windows; U; Windows NT 5.1; de; rv:1.9) Gecko/2008052906 Firefox/3.0                                                                 1\n",
       "Mozilla/5.0 (Windows NT 5.2; rv:16.0) Gecko/20100101 Firefox/16.0                                                                                 1\n",
       "Mozilla/4.0 (compatible; MSIE 6.0; Windows NT 5.2; SV1; .NET CLR 1.1.4322; .NET CLR 2.0.50727; .NET CLR 3.0.4506.2152; .NET CLR 3.5.30729)        1\n",
       "Mozilla/5.0 (compatible; Google Desktop/5.9.1005.12335; http://desktop.google.com/)                                                               1\n",
       "Name: User-Agent, Length: 735, dtype: int64"
      ]
     },
     "execution_count": 29,
     "metadata": {},
     "output_type": "execute_result"
    }
   ],
   "source": [
    "df1['User-Agent'].value_counts()"
   ]
  },
  {
   "cell_type": "code",
   "execution_count": 30,
   "metadata": {
    "execution": {
     "iopub.execute_input": "2021-09-08T14:11:28.775314Z",
     "iopub.status.busy": "2021-09-08T14:11:28.773882Z",
     "iopub.status.idle": "2021-09-08T14:11:32.440893Z",
     "shell.execute_reply": "2021-09-08T14:11:32.439511Z",
     "shell.execute_reply.started": "2021-09-08T14:11:28.775249Z"
    }
   },
   "outputs": [
    {
     "name": "stderr",
     "output_type": "stream",
     "text": [
      "<ipython-input-30-9e662c3c3705>:2: SettingWithCopyWarning: \n",
      "A value is trying to be set on a copy of a slice from a DataFrame.\n",
      "Try using .loc[row_indexer,col_indexer] = value instead\n",
      "\n",
      "See the caveats in the documentation: https://pandas.pydata.org/pandas-docs/stable/user_guide/indexing.html#returning-a-view-versus-a-copy\n",
      "  df1['Navegador'] = UA[0]\n",
      "<ipython-input-30-9e662c3c3705>:3: SettingWithCopyWarning: \n",
      "A value is trying to be set on a copy of a slice from a DataFrame.\n",
      "Try using .loc[row_indexer,col_indexer] = value instead\n",
      "\n",
      "See the caveats in the documentation: https://pandas.pydata.org/pandas-docs/stable/user_guide/indexing.html#returning-a-view-versus-a-copy\n",
      "  df1['User-Agent'] = UA[1]\n"
     ]
    }
   ],
   "source": [
    "UA = df1['User-Agent'].str.split(\" \", n = 1, expand = True)\n",
    "df1['Navegador'] = UA[0]\n",
    "df1['User-Agent'] = UA[1]"
   ]
  },
  {
   "cell_type": "code",
   "execution_count": 31,
   "metadata": {
    "execution": {
     "iopub.execute_input": "2021-09-08T14:11:32.465462Z",
     "iopub.status.busy": "2021-09-08T14:11:32.443593Z",
     "iopub.status.idle": "2021-09-08T14:11:32.599374Z",
     "shell.execute_reply": "2021-09-08T14:11:32.596697Z",
     "shell.execute_reply.started": "2021-09-08T14:11:32.465394Z"
    }
   },
   "outputs": [],
   "source": [
    "def getNav(navegador):\n",
    "    if \"Mozil\" in navegador:\n",
    "        return 'Mozilla'\n",
    "    elif \"Opera\" in navegador:\n",
    "        return 'Opera'\n",
    "    elif \"Safari\" in navegador:\n",
    "        return 'Safari'\n",
    "    elif \"Google\" in navegador:\n",
    "        return 'Google'\n",
    "    elif \"Apache\" in navegador:\n",
    "        return 'Apache'\n",
    "    elif \"facebook\" in navegador:\n",
    "        return 'Facebook'\n",
    "    else:\n",
    "        return 'Other'\n",
    "    \n",
    "def getOS(navegador):\n",
    "    if \"Linux\" in navegador:\n",
    "        return 'Linux'\n",
    "    elif \"Windows\" in navegador:\n",
    "        return 'Windows'\n",
    "    elif \"Mac\" in navegador:\n",
    "        return 'Mac'\n",
    "    elif \"Apple\" in navegador:\n",
    "        return 'Mac'\n",
    "    else:\n",
    "        return 'Other'    "
   ]
  },
  {
   "cell_type": "code",
   "execution_count": 32,
   "metadata": {
    "execution": {
     "iopub.execute_input": "2021-09-08T14:11:32.605017Z",
     "iopub.status.busy": "2021-09-08T14:11:32.603761Z",
     "iopub.status.idle": "2021-09-08T14:11:34.187689Z",
     "shell.execute_reply": "2021-09-08T14:11:34.186587Z",
     "shell.execute_reply.started": "2021-09-08T14:11:32.604971Z"
    }
   },
   "outputs": [
    {
     "name": "stderr",
     "output_type": "stream",
     "text": [
      "<ipython-input-32-dff5c201d813>:1: SettingWithCopyWarning: \n",
      "A value is trying to be set on a copy of a slice from a DataFrame.\n",
      "Try using .loc[row_indexer,col_indexer] = value instead\n",
      "\n",
      "See the caveats in the documentation: https://pandas.pydata.org/pandas-docs/stable/user_guide/indexing.html#returning-a-view-versus-a-copy\n",
      "  df1['Navegador'] = df1['Navegador'].apply(lambda x: getNav(str(x)))\n",
      "<ipython-input-32-dff5c201d813>:2: SettingWithCopyWarning: \n",
      "A value is trying to be set on a copy of a slice from a DataFrame.\n",
      "Try using .loc[row_indexer,col_indexer] = value instead\n",
      "\n",
      "See the caveats in the documentation: https://pandas.pydata.org/pandas-docs/stable/user_guide/indexing.html#returning-a-view-versus-a-copy\n",
      "  df1['OS'] = df1['User-Agent'].apply(lambda x: getOS(str(x)))\n"
     ]
    }
   ],
   "source": [
    "df1['Navegador'] = df1['Navegador'].apply(lambda x: getNav(str(x)))\n",
    "df1['OS'] = df1['User-Agent'].apply(lambda x: getOS(str(x)))\n",
    "df1 = df1.drop(columns = ['User-Agent'])"
   ]
  },
  {
   "cell_type": "code",
   "execution_count": 33,
   "metadata": {
    "execution": {
     "iopub.execute_input": "2021-09-08T14:11:34.205690Z",
     "iopub.status.busy": "2021-09-08T14:11:34.197465Z",
     "iopub.status.idle": "2021-09-08T14:11:34.376929Z",
     "shell.execute_reply": "2021-09-08T14:11:34.372435Z",
     "shell.execute_reply.started": "2021-09-08T14:11:34.205610Z"
    }
   },
   "outputs": [
    {
     "data": {
      "text/plain": [
       "Mozilla     242449\n",
       "Apache       13902\n",
       "Other         2892\n",
       "Facebook      2032\n",
       "Google         340\n",
       "Opera          242\n",
       "Safari          16\n",
       "Name: Navegador, dtype: int64"
      ]
     },
     "execution_count": 33,
     "metadata": {},
     "output_type": "execute_result"
    }
   ],
   "source": [
    "df1['Navegador'].value_counts()"
   ]
  },
  {
   "cell_type": "markdown",
   "metadata": {},
   "source": [
    "#### Netegem la columna Referer"
   ]
  },
  {
   "cell_type": "code",
   "execution_count": 34,
   "metadata": {
    "execution": {
     "iopub.execute_input": "2021-09-08T14:11:34.387914Z",
     "iopub.status.busy": "2021-09-08T14:11:34.386969Z",
     "iopub.status.idle": "2021-09-08T14:11:34.579436Z",
     "shell.execute_reply": "2021-09-08T14:11:34.566138Z",
     "shell.execute_reply.started": "2021-09-08T14:11:34.387861Z"
    }
   },
   "outputs": [
    {
     "data": {
      "text/plain": [
       "\"-\"                                                                                                                                                                                                                                                                                                                                                           99547\n",
       "\"http://www.akumenius.com/\"                                                                                                                                                                                                                                                                                                                                   41394\n",
       "\"http://www.akumenius.com/hotel-list\"                                                                                                                                                                                                                                                                                                                         22039\n",
       "\"http://test.akumenius.com/newdesign/\"                                                                                                                                                                                                                                                                                                                        11839\n",
       "\"http://www.akumenius.com/hoteles-baratos/hoteles-todo-incluido.html\"                                                                                                                                                                                                                                                                                          5398\n",
       "                                                                                                                                                                                                                                                                                                                                                              ...  \n",
       "\"http://www.akumenius.com/destinosCaracteristicas/hoteles-baratos-en-Amiens_FRANCIA-con-Parking-exterior\"                                                                                                                                                                                                                                                         1\n",
       "\"http://www.akumenius.com/destinosCaracteristicas/hoteles-baratos-en-Costa-Brava_ESPA%C3%91A-con-Revelado-de-fotos\"                                                                                                                                                                                                                                               1\n",
       "\"http://www.google.es/aclk?sa=L&ai=C6nhw07YMU6_uM4a9jAaCoYDAAoWf4bUEjZ-np4gBmrqOiuUBEAQgo8fWGygIUMS4y4kFYNWN1IKICcgBAakCJon8rtwPtz6qBCdP0I_6UBsXEAftfosDiTD9FMuntjstes_0FhUaBNqkse9ODK6hnguABbP4_hjYBgSAB5HKmhOQBwM&num=6&sig=AOD64_3GNsv30cQ2P5KZnIOFDCIVGEpkhw&ved=0CGkQ0Qw&adurl=http://www.akumenius.com&rct=j&q=semana%20de%20pascua%202014%20viajes\"        1\n",
       "\"http://www.google.es/aclk?sa=L&ai=C5LxHb74MU6aFNqqUjAbs7YC4C4Wf4bUEjZ-np4gBoJ68HQgAEAMoA1DEuMuJBWDVhdaC3AjIAQGpAjr6dSWWFLc-qgQnT9A0R9t2mSBvXpvr-UwCrhs2bGc8nM_zIv5G2XAxEavK6kncupjEgAeRypoTkAcD&sig=AOD64_3xzJCrBeAkIxz0BtfchHiDpwIpLw&rct=j&q=chollos+en+barcelona+semana+santa&ved=0CDsQ0Qw&adurl=http://www.akumenius.com\"                                    1\n",
       "\"http://www.ratonviajero.com/?gclid=CL__mv-z7rwCFYWWtAodjkQA4Q\"                                                                                                                                                                                                                                                                                                   1\n",
       "Name: Referer, Length: 2507, dtype: int64"
      ]
     },
     "execution_count": 34,
     "metadata": {},
     "output_type": "execute_result"
    }
   ],
   "source": [
    "df1['Referer'].value_counts()"
   ]
  },
  {
   "cell_type": "code",
   "execution_count": 35,
   "metadata": {
    "execution": {
     "iopub.execute_input": "2021-09-08T14:11:34.588249Z",
     "iopub.status.busy": "2021-09-08T14:11:34.587659Z",
     "iopub.status.idle": "2021-09-08T14:11:34.628284Z",
     "shell.execute_reply": "2021-09-08T14:11:34.625485Z",
     "shell.execute_reply.started": "2021-09-08T14:11:34.588192Z"
    }
   },
   "outputs": [],
   "source": [
    "def Referer(navegador):\n",
    "    if \"akumenius.com/\" in navegador:\n",
    "        return 'Akumenius'\n",
    "    elif \"yahoo\" in navegador:\n",
    "        return 'Yahoo search'\n",
    "    elif \"google\" in navegador:\n",
    "        return 'Google search'\n",
    "    elif \"\\\"-\\\"\" in navegador:\n",
    "        return 'Unknown'\n",
    "    else:\n",
    "        return 'Other'"
   ]
  },
  {
   "cell_type": "code",
   "execution_count": 36,
   "metadata": {
    "execution": {
     "iopub.execute_input": "2021-09-08T14:11:34.632201Z",
     "iopub.status.busy": "2021-09-08T14:11:34.631377Z",
     "iopub.status.idle": "2021-09-08T14:11:35.269536Z",
     "shell.execute_reply": "2021-09-08T14:11:35.255269Z",
     "shell.execute_reply.started": "2021-09-08T14:11:34.632129Z"
    }
   },
   "outputs": [],
   "source": [
    "df1['Referer'] = df1['Referer'].apply(lambda x: Referer(str(x)))"
   ]
  },
  {
   "cell_type": "code",
   "execution_count": 37,
   "metadata": {
    "execution": {
     "iopub.execute_input": "2021-09-08T14:11:35.332785Z",
     "iopub.status.busy": "2021-09-08T14:11:35.299982Z",
     "iopub.status.idle": "2021-09-08T14:11:35.404868Z",
     "shell.execute_reply": "2021-09-08T14:11:35.401321Z",
     "shell.execute_reply.started": "2021-09-08T14:11:35.332699Z"
    }
   },
   "outputs": [
    {
     "data": {
      "text/plain": [
       "Akumenius        160052\n",
       "Unknown           99547\n",
       "Google search      1495\n",
       "Other               760\n",
       "Yahoo search         19\n",
       "Name: Referer, dtype: int64"
      ]
     },
     "execution_count": 37,
     "metadata": {},
     "output_type": "execute_result"
    }
   ],
   "source": [
    "df1['Referer'].value_counts()"
   ]
  },
  {
   "cell_type": "markdown",
   "metadata": {},
   "source": [
    "#### Substituim els guions de totes les columnes per valors NaN"
   ]
  },
  {
   "cell_type": "code",
   "execution_count": 38,
   "metadata": {
    "execution": {
     "iopub.execute_input": "2021-09-08T14:11:35.412622Z",
     "iopub.status.busy": "2021-09-08T14:11:35.412057Z",
     "iopub.status.idle": "2021-09-08T14:11:37.872489Z",
     "shell.execute_reply": "2021-09-08T14:11:37.869107Z",
     "shell.execute_reply.started": "2021-09-08T14:11:35.412574Z"
    }
   },
   "outputs": [],
   "source": [
    "df1 = df1.replace('-', np.nan)\n",
    "df1 = df1.replace('*', np.nan)"
   ]
  },
  {
   "cell_type": "code",
   "execution_count": 39,
   "metadata": {
    "execution": {
     "iopub.execute_input": "2021-09-08T14:11:37.887892Z",
     "iopub.status.busy": "2021-09-08T14:11:37.881703Z",
     "iopub.status.idle": "2021-09-08T14:11:38.985619Z",
     "shell.execute_reply": "2021-09-08T14:11:38.978851Z",
     "shell.execute_reply.started": "2021-09-08T14:11:37.887805Z"
    }
   },
   "outputs": [
    {
     "data": {
      "text/plain": [
       "Dia                    0\n",
       "Mes                    0\n",
       "Any                    0\n",
       "Hora                   0\n",
       "Minut                  0\n",
       "Servidor               0\n",
       "IP                     0\n",
       "UserID            261846\n",
       "Metod (verb)          42\n",
       "Metod (pagina)     13934\n",
       "Metod HTTP            42\n",
       "Status code            0\n",
       "Size obj. req.     42335\n",
       "Referer                0\n",
       "Navegador              0\n",
       "OS                     0\n",
       "dtype: int64"
      ]
     },
     "execution_count": 39,
     "metadata": {},
     "output_type": "execute_result"
    }
   ],
   "source": [
    "df1.isna().sum()"
   ]
  },
  {
   "cell_type": "markdown",
   "metadata": {},
   "source": [
    "# Exercici 3 \n",
    "\n",
    "Geolocalitza les IP's."
   ]
  },
  {
   "cell_type": "markdown",
   "metadata": {},
   "source": [
    "#### Fem un subset de les dades, ja que el df és molt gran i la IP 127.0.0.1, com és localhost, no es pot geolocalitzar \n",
    "\n",
    "A més, com l'API només ens deixa fer 45 requests per minut, hem reduit el df per a que hi hagi menys de 45 IPs diferents"
   ]
  },
  {
   "cell_type": "code",
   "execution_count": 40,
   "metadata": {
    "execution": {
     "iopub.execute_input": "2021-09-08T14:11:38.992168Z",
     "iopub.status.busy": "2021-09-08T14:11:38.991479Z",
     "iopub.status.idle": "2021-09-08T14:11:39.857126Z",
     "shell.execute_reply": "2021-09-08T14:11:39.852744Z",
     "shell.execute_reply.started": "2021-09-08T14:11:38.992123Z"
    }
   },
   "outputs": [],
   "source": [
    "df2 = df1[df1['Servidor'] != 'localhost']\n",
    "df2 = df2[df2['IP'] != '66.249.76.216']\n",
    "df3 = df2[:70] "
   ]
  },
  {
   "cell_type": "code",
   "execution_count": 41,
   "metadata": {
    "execution": {
     "iopub.execute_input": "2021-09-08T14:11:39.862139Z",
     "iopub.status.busy": "2021-09-08T14:11:39.861258Z",
     "iopub.status.idle": "2021-09-08T14:11:39.933904Z",
     "shell.execute_reply": "2021-09-08T14:11:39.932551Z",
     "shell.execute_reply.started": "2021-09-08T14:11:39.862076Z"
    }
   },
   "outputs": [
    {
     "data": {
      "text/plain": [
       "44"
      ]
     },
     "execution_count": 41,
     "metadata": {},
     "output_type": "execute_result"
    }
   ],
   "source": [
    "df3.IP.nunique()"
   ]
  },
  {
   "cell_type": "code",
   "execution_count": 42,
   "metadata": {
    "execution": {
     "iopub.execute_input": "2021-09-08T14:11:39.947595Z",
     "iopub.status.busy": "2021-09-08T14:11:39.942366Z",
     "iopub.status.idle": "2021-09-08T14:11:40.010027Z",
     "shell.execute_reply": "2021-09-08T14:11:40.008710Z",
     "shell.execute_reply.started": "2021-09-08T14:11:39.942712Z"
    }
   },
   "outputs": [
    {
     "data": {
      "text/plain": [
       "157.55.33.97       7\n",
       "199.30.20.223      6\n",
       "157.55.35.112      5\n",
       "74.86.158.107      3\n",
       "217.12.28.5        3\n",
       "180.76.5.188       2\n",
       "5.10.83.71         2\n",
       "5.255.253.53       2\n",
       "131.253.24.3       2\n",
       "180.76.5.223       2\n",
       "5.10.83.87         2\n",
       "180.76.6.55        2\n",
       "180.76.5.195       1\n",
       "180.76.5.23        1\n",
       "180.76.5.31        1\n",
       "180.76.5.200       1\n",
       "193.111.141.116    1\n",
       "180.76.5.65        1\n",
       "157.55.32.88       1\n",
       "5.10.83.31         1\n",
       "5.10.83.64         1\n",
       "180.76.5.27        1\n",
       "180.76.6.44        1\n",
       "180.76.6.40        1\n",
       "180.76.5.168       1\n",
       "180.76.6.59        1\n",
       "180.76.6.136       1\n",
       "5.10.83.21         1\n",
       "180.76.5.18        1\n",
       "176.31.255.177     1\n",
       "180.76.6.50        1\n",
       "185.10.104.131     1\n",
       "180.76.5.95        1\n",
       "180.76.6.148       1\n",
       "157.55.33.26       1\n",
       "157.56.92.174      1\n",
       "5.10.83.88         1\n",
       "180.76.6.16        1\n",
       "180.76.5.213       1\n",
       "180.76.6.135       1\n",
       "180.76.5.145       1\n",
       "180.76.5.64        1\n",
       "180.76.5.172       1\n",
       "180.76.6.64        1\n",
       "Name: IP, dtype: int64"
      ]
     },
     "execution_count": 42,
     "metadata": {},
     "output_type": "execute_result"
    }
   ],
   "source": [
    "df3.IP.value_counts()"
   ]
  },
  {
   "cell_type": "code",
   "execution_count": 43,
   "metadata": {
    "execution": {
     "iopub.execute_input": "2021-09-08T14:11:40.015880Z",
     "iopub.status.busy": "2021-09-08T14:11:40.015331Z",
     "iopub.status.idle": "2021-09-08T14:11:40.503426Z",
     "shell.execute_reply": "2021-09-08T14:11:40.502263Z",
     "shell.execute_reply.started": "2021-09-08T14:11:40.015832Z"
    }
   },
   "outputs": [],
   "source": [
    "import requests\n",
    "import json\n",
    "\n",
    "# URL de la API\n",
    "api_url = \"http://ip-api.com/json/\"\n",
    "\n",
    "\n",
    "def ip_scraping_country(ip=\"\"):\n",
    "    res = requests.get(api_url+ip)\n",
    "    api_json_res = json.loads(res.content)\n",
    "    country = api_json_res['country']\n",
    "    return country\n",
    "\n",
    "def ip_scraping_city(ip=\"\"):\n",
    "    res = requests.get(api_url+ip)\n",
    "    api_json_res = json.loads(res.content)\n",
    "    city = api_json_res['city']\n",
    "    return city"
   ]
  },
  {
   "cell_type": "code",
   "execution_count": 44,
   "metadata": {
    "execution": {
     "iopub.execute_input": "2021-09-08T14:11:40.507470Z",
     "iopub.status.busy": "2021-09-08T14:11:40.506875Z",
     "iopub.status.idle": "2021-09-08T14:11:44.568793Z",
     "shell.execute_reply": "2021-09-08T14:11:44.567128Z",
     "shell.execute_reply.started": "2021-09-08T14:11:40.507410Z"
    }
   },
   "outputs": [],
   "source": [
    "diff = {}\n",
    "for elem in df3['IP']:\n",
    "    if elem not in diff.keys():\n",
    "        diff[elem] = ip_scraping_country(elem)"
   ]
  },
  {
   "cell_type": "code",
   "execution_count": 45,
   "metadata": {
    "execution": {
     "iopub.execute_input": "2021-09-08T14:11:44.571851Z",
     "iopub.status.busy": "2021-09-08T14:11:44.571345Z",
     "iopub.status.idle": "2021-09-08T14:12:48.750127Z",
     "shell.execute_reply": "2021-09-08T14:12:48.747541Z",
     "shell.execute_reply.started": "2021-09-08T14:11:44.571793Z"
    }
   },
   "outputs": [],
   "source": [
    "import time\n",
    "time.sleep(60) \n",
    "\n",
    "diff_city = {}\n",
    "for elem in df3['IP']:\n",
    "    if elem not in diff_city.keys():\n",
    "        diff_city[elem] = ip_scraping_city(elem)"
   ]
  },
  {
   "cell_type": "code",
   "execution_count": 46,
   "metadata": {
    "execution": {
     "iopub.execute_input": "2021-09-08T14:12:48.755853Z",
     "iopub.status.busy": "2021-09-08T14:12:48.754539Z",
     "iopub.status.idle": "2021-09-08T14:12:48.852877Z",
     "shell.execute_reply": "2021-09-08T14:12:48.851074Z",
     "shell.execute_reply.started": "2021-09-08T14:12:48.755739Z"
    }
   },
   "outputs": [
    {
     "name": "stderr",
     "output_type": "stream",
     "text": [
      "<ipython-input-46-00a32617ddec>:1: SettingWithCopyWarning: \n",
      "A value is trying to be set on a copy of a slice from a DataFrame.\n",
      "Try using .loc[row_indexer,col_indexer] = value instead\n",
      "\n",
      "See the caveats in the documentation: https://pandas.pydata.org/pandas-docs/stable/user_guide/indexing.html#returning-a-view-versus-a-copy\n",
      "  df3['Country'] = df3['IP'].apply(lambda x: diff[x])\n",
      "<ipython-input-46-00a32617ddec>:2: SettingWithCopyWarning: \n",
      "A value is trying to be set on a copy of a slice from a DataFrame.\n",
      "Try using .loc[row_indexer,col_indexer] = value instead\n",
      "\n",
      "See the caveats in the documentation: https://pandas.pydata.org/pandas-docs/stable/user_guide/indexing.html#returning-a-view-versus-a-copy\n",
      "  df3['City'] = df3['IP'].apply(lambda x: diff_city[x])\n"
     ]
    }
   ],
   "source": [
    "df3['Country'] = df3['IP'].apply(lambda x: diff[x])\n",
    "df3['City'] = df3['IP'].apply(lambda x: diff_city[x])"
   ]
  },
  {
   "cell_type": "code",
   "execution_count": 47,
   "metadata": {
    "execution": {
     "iopub.execute_input": "2021-09-08T14:12:48.856193Z",
     "iopub.status.busy": "2021-09-08T14:12:48.855622Z",
     "iopub.status.idle": "2021-09-08T14:12:49.022343Z",
     "shell.execute_reply": "2021-09-08T14:12:49.021080Z",
     "shell.execute_reply.started": "2021-09-08T14:12:48.856135Z"
    }
   },
   "outputs": [
    {
     "data": {
      "text/html": [
       "<div>\n",
       "<style scoped>\n",
       "    .dataframe tbody tr th:only-of-type {\n",
       "        vertical-align: middle;\n",
       "    }\n",
       "\n",
       "    .dataframe tbody tr th {\n",
       "        vertical-align: top;\n",
       "    }\n",
       "\n",
       "    .dataframe thead th {\n",
       "        text-align: right;\n",
       "    }\n",
       "</style>\n",
       "<table border=\"1\" class=\"dataframe\">\n",
       "  <thead>\n",
       "    <tr style=\"text-align: right;\">\n",
       "      <th></th>\n",
       "      <th>Dia</th>\n",
       "      <th>Mes</th>\n",
       "      <th>Any</th>\n",
       "      <th>Hora</th>\n",
       "      <th>Minut</th>\n",
       "      <th>Servidor</th>\n",
       "      <th>IP</th>\n",
       "      <th>UserID</th>\n",
       "      <th>Metod (verb)</th>\n",
       "      <th>Metod (pagina)</th>\n",
       "      <th>Metod HTTP</th>\n",
       "      <th>Status code</th>\n",
       "      <th>Size obj. req.</th>\n",
       "      <th>Referer</th>\n",
       "      <th>Navegador</th>\n",
       "      <th>OS</th>\n",
       "      <th>Country</th>\n",
       "      <th>City</th>\n",
       "    </tr>\n",
       "  </thead>\n",
       "  <tbody>\n",
       "    <tr>\n",
       "      <th>36</th>\n",
       "      <td>23</td>\n",
       "      <td>Feb</td>\n",
       "      <td>2014</td>\n",
       "      <td>03</td>\n",
       "      <td>10</td>\n",
       "      <td>www.akumenius.com</td>\n",
       "      <td>5.255.253.53</td>\n",
       "      <td>NaN</td>\n",
       "      <td>GET</td>\n",
       "      <td>/destinos-baratos/hoteles-baratos/ofertas-hote...</td>\n",
       "      <td>HTTP/1.1</td>\n",
       "      <td>404</td>\n",
       "      <td>3100</td>\n",
       "      <td>Unknown</td>\n",
       "      <td>Mozilla</td>\n",
       "      <td>Other</td>\n",
       "      <td>Russia</td>\n",
       "      <td>Moscow</td>\n",
       "    </tr>\n",
       "    <tr>\n",
       "      <th>41</th>\n",
       "      <td>23</td>\n",
       "      <td>Feb</td>\n",
       "      <td>2014</td>\n",
       "      <td>03</td>\n",
       "      <td>11</td>\n",
       "      <td>www.akumenius.com</td>\n",
       "      <td>157.55.35.112</td>\n",
       "      <td>NaN</td>\n",
       "      <td>GET</td>\n",
       "      <td>/destinos-baratos/destinos-caracteristicas/hot...</td>\n",
       "      <td>HTTP/1.1</td>\n",
       "      <td>200</td>\n",
       "      <td>14818</td>\n",
       "      <td>Unknown</td>\n",
       "      <td>Mozilla</td>\n",
       "      <td>Other</td>\n",
       "      <td>United States</td>\n",
       "      <td>Newark</td>\n",
       "    </tr>\n",
       "    <tr>\n",
       "      <th>44</th>\n",
       "      <td>23</td>\n",
       "      <td>Feb</td>\n",
       "      <td>2014</td>\n",
       "      <td>03</td>\n",
       "      <td>11</td>\n",
       "      <td>www.akumenius.com</td>\n",
       "      <td>193.111.141.116</td>\n",
       "      <td>NaN</td>\n",
       "      <td>GET</td>\n",
       "      <td>/hoteles-baratos/ofertas-hotel-Roque-Monica-Ap...</td>\n",
       "      <td>HTTP/1.1</td>\n",
       "      <td>404</td>\n",
       "      <td>17750</td>\n",
       "      <td>Unknown</td>\n",
       "      <td>Mozilla</td>\n",
       "      <td>Linux</td>\n",
       "      <td>Germany</td>\n",
       "      <td>Düsseldorf</td>\n",
       "    </tr>\n",
       "    <tr>\n",
       "      <th>68</th>\n",
       "      <td>23</td>\n",
       "      <td>Feb</td>\n",
       "      <td>2014</td>\n",
       "      <td>03</td>\n",
       "      <td>11</td>\n",
       "      <td>www.akumenius.com</td>\n",
       "      <td>5.10.83.71</td>\n",
       "      <td>NaN</td>\n",
       "      <td>GET</td>\n",
       "      <td>/destinosEstrelles/hoteles-en-Abingdon_ESTADOS...</td>\n",
       "      <td>HTTP/1.1</td>\n",
       "      <td>200</td>\n",
       "      <td>8835</td>\n",
       "      <td>Unknown</td>\n",
       "      <td>Mozilla</td>\n",
       "      <td>Other</td>\n",
       "      <td>Netherlands</td>\n",
       "      <td>Amsterdam</td>\n",
       "    </tr>\n",
       "    <tr>\n",
       "      <th>69</th>\n",
       "      <td>23</td>\n",
       "      <td>Feb</td>\n",
       "      <td>2014</td>\n",
       "      <td>03</td>\n",
       "      <td>11</td>\n",
       "      <td>www.akumenius.com</td>\n",
       "      <td>180.76.5.223</td>\n",
       "      <td>NaN</td>\n",
       "      <td>GET</td>\n",
       "      <td>/destinos-baratos/hoteles-en-TlaxcalaMEXICO_</td>\n",
       "      <td>HTTP/1.1</td>\n",
       "      <td>200</td>\n",
       "      <td>7630</td>\n",
       "      <td>Unknown</td>\n",
       "      <td>Mozilla</td>\n",
       "      <td>Other</td>\n",
       "      <td>China</td>\n",
       "      <td>Beijing</td>\n",
       "    </tr>\n",
       "    <tr>\n",
       "      <th>...</th>\n",
       "      <td>...</td>\n",
       "      <td>...</td>\n",
       "      <td>...</td>\n",
       "      <td>...</td>\n",
       "      <td>...</td>\n",
       "      <td>...</td>\n",
       "      <td>...</td>\n",
       "      <td>...</td>\n",
       "      <td>...</td>\n",
       "      <td>...</td>\n",
       "      <td>...</td>\n",
       "      <td>...</td>\n",
       "      <td>...</td>\n",
       "      <td>...</td>\n",
       "      <td>...</td>\n",
       "      <td>...</td>\n",
       "      <td>...</td>\n",
       "      <td>...</td>\n",
       "    </tr>\n",
       "    <tr>\n",
       "      <th>525</th>\n",
       "      <td>23</td>\n",
       "      <td>Feb</td>\n",
       "      <td>2014</td>\n",
       "      <td>03</td>\n",
       "      <td>23</td>\n",
       "      <td>www.akumenius.com</td>\n",
       "      <td>74.86.158.107</td>\n",
       "      <td>NaN</td>\n",
       "      <td>HEAD</td>\n",
       "      <td>/</td>\n",
       "      <td>HTTP/1.1</td>\n",
       "      <td>200</td>\n",
       "      <td>NaN</td>\n",
       "      <td>Unknown</td>\n",
       "      <td>Mozilla</td>\n",
       "      <td>Other</td>\n",
       "      <td>United States</td>\n",
       "      <td>Dallas</td>\n",
       "    </tr>\n",
       "    <tr>\n",
       "      <th>526</th>\n",
       "      <td>23</td>\n",
       "      <td>Feb</td>\n",
       "      <td>2014</td>\n",
       "      <td>03</td>\n",
       "      <td>23</td>\n",
       "      <td>www.akumenius.com</td>\n",
       "      <td>5.10.83.87</td>\n",
       "      <td>NaN</td>\n",
       "      <td>GET</td>\n",
       "      <td>/destinos-baratos/hoteles-en-Bagnolo%20Piemont...</td>\n",
       "      <td>HTTP/1.1</td>\n",
       "      <td>200</td>\n",
       "      <td>7648</td>\n",
       "      <td>Unknown</td>\n",
       "      <td>Mozilla</td>\n",
       "      <td>Other</td>\n",
       "      <td>Netherlands</td>\n",
       "      <td>Amsterdam</td>\n",
       "    </tr>\n",
       "    <tr>\n",
       "      <th>554</th>\n",
       "      <td>23</td>\n",
       "      <td>Feb</td>\n",
       "      <td>2014</td>\n",
       "      <td>03</td>\n",
       "      <td>23</td>\n",
       "      <td>www.akumenius.com</td>\n",
       "      <td>180.76.6.59</td>\n",
       "      <td>NaN</td>\n",
       "      <td>GET</td>\n",
       "      <td>/destinos-baratos/destinos-caracteristicas/hot...</td>\n",
       "      <td>HTTP/1.1</td>\n",
       "      <td>200</td>\n",
       "      <td>7179</td>\n",
       "      <td>Unknown</td>\n",
       "      <td>Mozilla</td>\n",
       "      <td>Other</td>\n",
       "      <td>China</td>\n",
       "      <td>Beijing</td>\n",
       "    </tr>\n",
       "    <tr>\n",
       "      <th>559</th>\n",
       "      <td>23</td>\n",
       "      <td>Feb</td>\n",
       "      <td>2014</td>\n",
       "      <td>03</td>\n",
       "      <td>24</td>\n",
       "      <td>www.akumenius.com</td>\n",
       "      <td>157.55.33.26</td>\n",
       "      <td>NaN</td>\n",
       "      <td>GET</td>\n",
       "      <td>/destinos-baratos/destinos-caracteristicas/hot...</td>\n",
       "      <td>HTTP/1.1</td>\n",
       "      <td>200</td>\n",
       "      <td>13587</td>\n",
       "      <td>Unknown</td>\n",
       "      <td>Mozilla</td>\n",
       "      <td>Other</td>\n",
       "      <td>United States</td>\n",
       "      <td>Newark</td>\n",
       "    </tr>\n",
       "    <tr>\n",
       "      <th>569</th>\n",
       "      <td>23</td>\n",
       "      <td>Feb</td>\n",
       "      <td>2014</td>\n",
       "      <td>03</td>\n",
       "      <td>24</td>\n",
       "      <td>www.akumenius.com</td>\n",
       "      <td>180.76.5.213</td>\n",
       "      <td>NaN</td>\n",
       "      <td>GET</td>\n",
       "      <td>/destinos-baratos/destinos-caracteristicas/hot...</td>\n",
       "      <td>HTTP/1.1</td>\n",
       "      <td>200</td>\n",
       "      <td>8250</td>\n",
       "      <td>Unknown</td>\n",
       "      <td>Mozilla</td>\n",
       "      <td>Other</td>\n",
       "      <td>China</td>\n",
       "      <td>Beijing</td>\n",
       "    </tr>\n",
       "  </tbody>\n",
       "</table>\n",
       "<p>70 rows × 18 columns</p>\n",
       "</div>"
      ],
      "text/plain": [
       "    Dia  Mes   Any Hora Minut           Servidor               IP UserID  \\\n",
       "36   23  Feb  2014   03    10  www.akumenius.com     5.255.253.53    NaN   \n",
       "41   23  Feb  2014   03    11  www.akumenius.com    157.55.35.112    NaN   \n",
       "44   23  Feb  2014   03    11  www.akumenius.com  193.111.141.116    NaN   \n",
       "68   23  Feb  2014   03    11  www.akumenius.com       5.10.83.71    NaN   \n",
       "69   23  Feb  2014   03    11  www.akumenius.com     180.76.5.223    NaN   \n",
       "..   ..  ...   ...  ...   ...                ...              ...    ...   \n",
       "525  23  Feb  2014   03    23  www.akumenius.com    74.86.158.107    NaN   \n",
       "526  23  Feb  2014   03    23  www.akumenius.com       5.10.83.87    NaN   \n",
       "554  23  Feb  2014   03    23  www.akumenius.com      180.76.6.59    NaN   \n",
       "559  23  Feb  2014   03    24  www.akumenius.com     157.55.33.26    NaN   \n",
       "569  23  Feb  2014   03    24  www.akumenius.com     180.76.5.213    NaN   \n",
       "\n",
       "    Metod (verb)                                     Metod (pagina)  \\\n",
       "36           GET  /destinos-baratos/hoteles-baratos/ofertas-hote...   \n",
       "41           GET  /destinos-baratos/destinos-caracteristicas/hot...   \n",
       "44           GET  /hoteles-baratos/ofertas-hotel-Roque-Monica-Ap...   \n",
       "68           GET  /destinosEstrelles/hoteles-en-Abingdon_ESTADOS...   \n",
       "69           GET       /destinos-baratos/hoteles-en-TlaxcalaMEXICO_   \n",
       "..           ...                                                ...   \n",
       "525         HEAD                                                  /   \n",
       "526          GET  /destinos-baratos/hoteles-en-Bagnolo%20Piemont...   \n",
       "554          GET  /destinos-baratos/destinos-caracteristicas/hot...   \n",
       "559          GET  /destinos-baratos/destinos-caracteristicas/hot...   \n",
       "569          GET  /destinos-baratos/destinos-caracteristicas/hot...   \n",
       "\n",
       "    Metod HTTP Status code Size obj. req.  Referer Navegador     OS  \\\n",
       "36    HTTP/1.1         404           3100  Unknown   Mozilla  Other   \n",
       "41    HTTP/1.1         200          14818  Unknown   Mozilla  Other   \n",
       "44    HTTP/1.1         404          17750  Unknown   Mozilla  Linux   \n",
       "68    HTTP/1.1         200           8835  Unknown   Mozilla  Other   \n",
       "69    HTTP/1.1         200           7630  Unknown   Mozilla  Other   \n",
       "..         ...         ...            ...      ...       ...    ...   \n",
       "525   HTTP/1.1         200            NaN  Unknown   Mozilla  Other   \n",
       "526   HTTP/1.1         200           7648  Unknown   Mozilla  Other   \n",
       "554   HTTP/1.1         200           7179  Unknown   Mozilla  Other   \n",
       "559   HTTP/1.1         200          13587  Unknown   Mozilla  Other   \n",
       "569   HTTP/1.1         200           8250  Unknown   Mozilla  Other   \n",
       "\n",
       "           Country        City  \n",
       "36          Russia      Moscow  \n",
       "41   United States      Newark  \n",
       "44         Germany  Düsseldorf  \n",
       "68     Netherlands   Amsterdam  \n",
       "69           China     Beijing  \n",
       "..             ...         ...  \n",
       "525  United States      Dallas  \n",
       "526    Netherlands   Amsterdam  \n",
       "554          China     Beijing  \n",
       "559  United States      Newark  \n",
       "569          China     Beijing  \n",
       "\n",
       "[70 rows x 18 columns]"
      ]
     },
     "execution_count": 47,
     "metadata": {},
     "output_type": "execute_result"
    }
   ],
   "source": [
    "df3"
   ]
  },
  {
   "cell_type": "markdown",
   "metadata": {},
   "source": [
    "# Exercici 4\n",
    "\n",
    "Mostra'm la teva creativitat.\n",
    "Sorprèn-me fent un pas més enllà amb l'anàlisi anterior."
   ]
  },
  {
   "cell_type": "markdown",
   "metadata": {},
   "source": [
    "### Fem visualitzacions amb l'últim df"
   ]
  },
  {
   "cell_type": "code",
   "execution_count": 48,
   "metadata": {
    "execution": {
     "iopub.execute_input": "2021-09-08T14:12:49.029487Z",
     "iopub.status.busy": "2021-09-08T14:12:49.025138Z",
     "iopub.status.idle": "2021-09-08T14:12:51.305062Z",
     "shell.execute_reply": "2021-09-08T14:12:51.303371Z",
     "shell.execute_reply.started": "2021-09-08T14:12:49.029402Z"
    }
   },
   "outputs": [],
   "source": [
    "import seaborn as sns\n",
    "import matplotlib.pyplot as plt"
   ]
  },
  {
   "cell_type": "code",
   "execution_count": 49,
   "metadata": {
    "execution": {
     "iopub.execute_input": "2021-09-08T14:12:51.309413Z",
     "iopub.status.busy": "2021-09-08T14:12:51.308370Z",
     "iopub.status.idle": "2021-09-08T14:12:51.330086Z",
     "shell.execute_reply": "2021-09-08T14:12:51.324650Z",
     "shell.execute_reply.started": "2021-09-08T14:12:51.309297Z"
    }
   },
   "outputs": [],
   "source": [
    "df4 = df3.copy()"
   ]
  },
  {
   "cell_type": "code",
   "execution_count": 50,
   "metadata": {
    "execution": {
     "iopub.execute_input": "2021-09-08T14:12:51.337200Z",
     "iopub.status.busy": "2021-09-08T14:12:51.335954Z",
     "iopub.status.idle": "2021-09-08T14:12:51.431452Z",
     "shell.execute_reply": "2021-09-08T14:12:51.424329Z",
     "shell.execute_reply.started": "2021-09-08T14:12:51.337152Z"
    }
   },
   "outputs": [
    {
     "data": {
      "text/html": [
       "<div>\n",
       "<style scoped>\n",
       "    .dataframe tbody tr th:only-of-type {\n",
       "        vertical-align: middle;\n",
       "    }\n",
       "\n",
       "    .dataframe tbody tr th {\n",
       "        vertical-align: top;\n",
       "    }\n",
       "\n",
       "    .dataframe thead th {\n",
       "        text-align: right;\n",
       "    }\n",
       "</style>\n",
       "<table border=\"1\" class=\"dataframe\">\n",
       "  <thead>\n",
       "    <tr style=\"text-align: right;\">\n",
       "      <th></th>\n",
       "      <th>Dia</th>\n",
       "      <th>Mes</th>\n",
       "      <th>Any</th>\n",
       "      <th>Hora</th>\n",
       "      <th>Minut</th>\n",
       "      <th>Servidor</th>\n",
       "      <th>IP</th>\n",
       "      <th>UserID</th>\n",
       "      <th>Metod (verb)</th>\n",
       "      <th>Metod (pagina)</th>\n",
       "      <th>Metod HTTP</th>\n",
       "      <th>Status code</th>\n",
       "      <th>Size obj. req.</th>\n",
       "      <th>Referer</th>\n",
       "      <th>Navegador</th>\n",
       "      <th>OS</th>\n",
       "      <th>Country</th>\n",
       "      <th>City</th>\n",
       "    </tr>\n",
       "  </thead>\n",
       "  <tbody>\n",
       "    <tr>\n",
       "      <th>36</th>\n",
       "      <td>23</td>\n",
       "      <td>Feb</td>\n",
       "      <td>2014</td>\n",
       "      <td>03</td>\n",
       "      <td>10</td>\n",
       "      <td>www.akumenius.com</td>\n",
       "      <td>5.255.253.53</td>\n",
       "      <td>NaN</td>\n",
       "      <td>GET</td>\n",
       "      <td>/destinos-baratos/hoteles-baratos/ofertas-hote...</td>\n",
       "      <td>HTTP/1.1</td>\n",
       "      <td>404</td>\n",
       "      <td>3100</td>\n",
       "      <td>Unknown</td>\n",
       "      <td>Mozilla</td>\n",
       "      <td>Other</td>\n",
       "      <td>Russia</td>\n",
       "      <td>Moscow</td>\n",
       "    </tr>\n",
       "    <tr>\n",
       "      <th>41</th>\n",
       "      <td>23</td>\n",
       "      <td>Feb</td>\n",
       "      <td>2014</td>\n",
       "      <td>03</td>\n",
       "      <td>11</td>\n",
       "      <td>www.akumenius.com</td>\n",
       "      <td>157.55.35.112</td>\n",
       "      <td>NaN</td>\n",
       "      <td>GET</td>\n",
       "      <td>/destinos-baratos/destinos-caracteristicas/hot...</td>\n",
       "      <td>HTTP/1.1</td>\n",
       "      <td>200</td>\n",
       "      <td>14818</td>\n",
       "      <td>Unknown</td>\n",
       "      <td>Mozilla</td>\n",
       "      <td>Other</td>\n",
       "      <td>United States</td>\n",
       "      <td>Newark</td>\n",
       "    </tr>\n",
       "    <tr>\n",
       "      <th>44</th>\n",
       "      <td>23</td>\n",
       "      <td>Feb</td>\n",
       "      <td>2014</td>\n",
       "      <td>03</td>\n",
       "      <td>11</td>\n",
       "      <td>www.akumenius.com</td>\n",
       "      <td>193.111.141.116</td>\n",
       "      <td>NaN</td>\n",
       "      <td>GET</td>\n",
       "      <td>/hoteles-baratos/ofertas-hotel-Roque-Monica-Ap...</td>\n",
       "      <td>HTTP/1.1</td>\n",
       "      <td>404</td>\n",
       "      <td>17750</td>\n",
       "      <td>Unknown</td>\n",
       "      <td>Mozilla</td>\n",
       "      <td>Linux</td>\n",
       "      <td>Germany</td>\n",
       "      <td>Düsseldorf</td>\n",
       "    </tr>\n",
       "    <tr>\n",
       "      <th>68</th>\n",
       "      <td>23</td>\n",
       "      <td>Feb</td>\n",
       "      <td>2014</td>\n",
       "      <td>03</td>\n",
       "      <td>11</td>\n",
       "      <td>www.akumenius.com</td>\n",
       "      <td>5.10.83.71</td>\n",
       "      <td>NaN</td>\n",
       "      <td>GET</td>\n",
       "      <td>/destinosEstrelles/hoteles-en-Abingdon_ESTADOS...</td>\n",
       "      <td>HTTP/1.1</td>\n",
       "      <td>200</td>\n",
       "      <td>8835</td>\n",
       "      <td>Unknown</td>\n",
       "      <td>Mozilla</td>\n",
       "      <td>Other</td>\n",
       "      <td>Netherlands</td>\n",
       "      <td>Amsterdam</td>\n",
       "    </tr>\n",
       "    <tr>\n",
       "      <th>69</th>\n",
       "      <td>23</td>\n",
       "      <td>Feb</td>\n",
       "      <td>2014</td>\n",
       "      <td>03</td>\n",
       "      <td>11</td>\n",
       "      <td>www.akumenius.com</td>\n",
       "      <td>180.76.5.223</td>\n",
       "      <td>NaN</td>\n",
       "      <td>GET</td>\n",
       "      <td>/destinos-baratos/hoteles-en-TlaxcalaMEXICO_</td>\n",
       "      <td>HTTP/1.1</td>\n",
       "      <td>200</td>\n",
       "      <td>7630</td>\n",
       "      <td>Unknown</td>\n",
       "      <td>Mozilla</td>\n",
       "      <td>Other</td>\n",
       "      <td>China</td>\n",
       "      <td>Beijing</td>\n",
       "    </tr>\n",
       "    <tr>\n",
       "      <th>...</th>\n",
       "      <td>...</td>\n",
       "      <td>...</td>\n",
       "      <td>...</td>\n",
       "      <td>...</td>\n",
       "      <td>...</td>\n",
       "      <td>...</td>\n",
       "      <td>...</td>\n",
       "      <td>...</td>\n",
       "      <td>...</td>\n",
       "      <td>...</td>\n",
       "      <td>...</td>\n",
       "      <td>...</td>\n",
       "      <td>...</td>\n",
       "      <td>...</td>\n",
       "      <td>...</td>\n",
       "      <td>...</td>\n",
       "      <td>...</td>\n",
       "      <td>...</td>\n",
       "    </tr>\n",
       "    <tr>\n",
       "      <th>525</th>\n",
       "      <td>23</td>\n",
       "      <td>Feb</td>\n",
       "      <td>2014</td>\n",
       "      <td>03</td>\n",
       "      <td>23</td>\n",
       "      <td>www.akumenius.com</td>\n",
       "      <td>74.86.158.107</td>\n",
       "      <td>NaN</td>\n",
       "      <td>HEAD</td>\n",
       "      <td>/</td>\n",
       "      <td>HTTP/1.1</td>\n",
       "      <td>200</td>\n",
       "      <td>NaN</td>\n",
       "      <td>Unknown</td>\n",
       "      <td>Mozilla</td>\n",
       "      <td>Other</td>\n",
       "      <td>United States</td>\n",
       "      <td>Dallas</td>\n",
       "    </tr>\n",
       "    <tr>\n",
       "      <th>526</th>\n",
       "      <td>23</td>\n",
       "      <td>Feb</td>\n",
       "      <td>2014</td>\n",
       "      <td>03</td>\n",
       "      <td>23</td>\n",
       "      <td>www.akumenius.com</td>\n",
       "      <td>5.10.83.87</td>\n",
       "      <td>NaN</td>\n",
       "      <td>GET</td>\n",
       "      <td>/destinos-baratos/hoteles-en-Bagnolo%20Piemont...</td>\n",
       "      <td>HTTP/1.1</td>\n",
       "      <td>200</td>\n",
       "      <td>7648</td>\n",
       "      <td>Unknown</td>\n",
       "      <td>Mozilla</td>\n",
       "      <td>Other</td>\n",
       "      <td>Netherlands</td>\n",
       "      <td>Amsterdam</td>\n",
       "    </tr>\n",
       "    <tr>\n",
       "      <th>554</th>\n",
       "      <td>23</td>\n",
       "      <td>Feb</td>\n",
       "      <td>2014</td>\n",
       "      <td>03</td>\n",
       "      <td>23</td>\n",
       "      <td>www.akumenius.com</td>\n",
       "      <td>180.76.6.59</td>\n",
       "      <td>NaN</td>\n",
       "      <td>GET</td>\n",
       "      <td>/destinos-baratos/destinos-caracteristicas/hot...</td>\n",
       "      <td>HTTP/1.1</td>\n",
       "      <td>200</td>\n",
       "      <td>7179</td>\n",
       "      <td>Unknown</td>\n",
       "      <td>Mozilla</td>\n",
       "      <td>Other</td>\n",
       "      <td>China</td>\n",
       "      <td>Beijing</td>\n",
       "    </tr>\n",
       "    <tr>\n",
       "      <th>559</th>\n",
       "      <td>23</td>\n",
       "      <td>Feb</td>\n",
       "      <td>2014</td>\n",
       "      <td>03</td>\n",
       "      <td>24</td>\n",
       "      <td>www.akumenius.com</td>\n",
       "      <td>157.55.33.26</td>\n",
       "      <td>NaN</td>\n",
       "      <td>GET</td>\n",
       "      <td>/destinos-baratos/destinos-caracteristicas/hot...</td>\n",
       "      <td>HTTP/1.1</td>\n",
       "      <td>200</td>\n",
       "      <td>13587</td>\n",
       "      <td>Unknown</td>\n",
       "      <td>Mozilla</td>\n",
       "      <td>Other</td>\n",
       "      <td>United States</td>\n",
       "      <td>Newark</td>\n",
       "    </tr>\n",
       "    <tr>\n",
       "      <th>569</th>\n",
       "      <td>23</td>\n",
       "      <td>Feb</td>\n",
       "      <td>2014</td>\n",
       "      <td>03</td>\n",
       "      <td>24</td>\n",
       "      <td>www.akumenius.com</td>\n",
       "      <td>180.76.5.213</td>\n",
       "      <td>NaN</td>\n",
       "      <td>GET</td>\n",
       "      <td>/destinos-baratos/destinos-caracteristicas/hot...</td>\n",
       "      <td>HTTP/1.1</td>\n",
       "      <td>200</td>\n",
       "      <td>8250</td>\n",
       "      <td>Unknown</td>\n",
       "      <td>Mozilla</td>\n",
       "      <td>Other</td>\n",
       "      <td>China</td>\n",
       "      <td>Beijing</td>\n",
       "    </tr>\n",
       "  </tbody>\n",
       "</table>\n",
       "<p>70 rows × 18 columns</p>\n",
       "</div>"
      ],
      "text/plain": [
       "    Dia  Mes   Any Hora Minut           Servidor               IP UserID  \\\n",
       "36   23  Feb  2014   03    10  www.akumenius.com     5.255.253.53    NaN   \n",
       "41   23  Feb  2014   03    11  www.akumenius.com    157.55.35.112    NaN   \n",
       "44   23  Feb  2014   03    11  www.akumenius.com  193.111.141.116    NaN   \n",
       "68   23  Feb  2014   03    11  www.akumenius.com       5.10.83.71    NaN   \n",
       "69   23  Feb  2014   03    11  www.akumenius.com     180.76.5.223    NaN   \n",
       "..   ..  ...   ...  ...   ...                ...              ...    ...   \n",
       "525  23  Feb  2014   03    23  www.akumenius.com    74.86.158.107    NaN   \n",
       "526  23  Feb  2014   03    23  www.akumenius.com       5.10.83.87    NaN   \n",
       "554  23  Feb  2014   03    23  www.akumenius.com      180.76.6.59    NaN   \n",
       "559  23  Feb  2014   03    24  www.akumenius.com     157.55.33.26    NaN   \n",
       "569  23  Feb  2014   03    24  www.akumenius.com     180.76.5.213    NaN   \n",
       "\n",
       "    Metod (verb)                                     Metod (pagina)  \\\n",
       "36           GET  /destinos-baratos/hoteles-baratos/ofertas-hote...   \n",
       "41           GET  /destinos-baratos/destinos-caracteristicas/hot...   \n",
       "44           GET  /hoteles-baratos/ofertas-hotel-Roque-Monica-Ap...   \n",
       "68           GET  /destinosEstrelles/hoteles-en-Abingdon_ESTADOS...   \n",
       "69           GET       /destinos-baratos/hoteles-en-TlaxcalaMEXICO_   \n",
       "..           ...                                                ...   \n",
       "525         HEAD                                                  /   \n",
       "526          GET  /destinos-baratos/hoteles-en-Bagnolo%20Piemont...   \n",
       "554          GET  /destinos-baratos/destinos-caracteristicas/hot...   \n",
       "559          GET  /destinos-baratos/destinos-caracteristicas/hot...   \n",
       "569          GET  /destinos-baratos/destinos-caracteristicas/hot...   \n",
       "\n",
       "    Metod HTTP Status code Size obj. req.  Referer Navegador     OS  \\\n",
       "36    HTTP/1.1         404           3100  Unknown   Mozilla  Other   \n",
       "41    HTTP/1.1         200          14818  Unknown   Mozilla  Other   \n",
       "44    HTTP/1.1         404          17750  Unknown   Mozilla  Linux   \n",
       "68    HTTP/1.1         200           8835  Unknown   Mozilla  Other   \n",
       "69    HTTP/1.1         200           7630  Unknown   Mozilla  Other   \n",
       "..         ...         ...            ...      ...       ...    ...   \n",
       "525   HTTP/1.1         200            NaN  Unknown   Mozilla  Other   \n",
       "526   HTTP/1.1         200           7648  Unknown   Mozilla  Other   \n",
       "554   HTTP/1.1         200           7179  Unknown   Mozilla  Other   \n",
       "559   HTTP/1.1         200          13587  Unknown   Mozilla  Other   \n",
       "569   HTTP/1.1         200           8250  Unknown   Mozilla  Other   \n",
       "\n",
       "           Country        City  \n",
       "36          Russia      Moscow  \n",
       "41   United States      Newark  \n",
       "44         Germany  Düsseldorf  \n",
       "68     Netherlands   Amsterdam  \n",
       "69           China     Beijing  \n",
       "..             ...         ...  \n",
       "525  United States      Dallas  \n",
       "526    Netherlands   Amsterdam  \n",
       "554          China     Beijing  \n",
       "559  United States      Newark  \n",
       "569          China     Beijing  \n",
       "\n",
       "[70 rows x 18 columns]"
      ]
     },
     "execution_count": 50,
     "metadata": {},
     "output_type": "execute_result"
    }
   ],
   "source": [
    "df4"
   ]
  },
  {
   "cell_type": "markdown",
   "metadata": {},
   "source": [
    "#### Nombre de requests per país i ciutat"
   ]
  },
  {
   "cell_type": "code",
   "execution_count": 77,
   "metadata": {
    "execution": {
     "iopub.execute_input": "2021-09-08T16:02:45.366399Z",
     "iopub.status.busy": "2021-09-08T16:02:45.364042Z",
     "iopub.status.idle": "2021-09-08T16:02:46.338576Z",
     "shell.execute_reply": "2021-09-08T16:02:46.333556Z",
     "shell.execute_reply.started": "2021-09-08T16:02:45.366276Z"
    }
   },
   "outputs": [
    {
     "data": {
      "text/plain": [
       "Text(0.5, 1.0, 'Nombre de visites per país i ciutat')"
      ]
     },
     "execution_count": 77,
     "metadata": {},
     "output_type": "execute_result"
    },
    {
     "data": {
      "image/png": "[encoded data removed]",
      "text/plain": [
       "<Figure size 432x288 with 1 Axes>"
      ]
     },
     "metadata": {
      "needs_background": "light"
     },
     "output_type": "display_data"
    }
   ],
   "source": [
    "df_plot = df4.groupby(['Country', 'City']).size().reset_index().pivot(columns='City', index='Country', values=0)\n",
    "df_plot = df_plot.reindex(['China', 'United States', 'Netherlands', 'Spain', 'Germany', 'Russia', 'France'])\n",
    "df_plot.plot(kind='bar', stacked=True)\n",
    "plt.legend(bbox_to_anchor=(1.05, 1), loc=2, borderaxespad=0.)\n",
    "plt.title('Nombre de requests per país i ciutat')"
   ]
  },
  {
   "cell_type": "markdown",
   "metadata": {},
   "source": [
    "#### El navegador més utilitzat és Mozilla, amb un sistema operatiu diferent de Linux i Windows"
   ]
  },
  {
   "cell_type": "code",
   "execution_count": 98,
   "metadata": {
    "execution": {
     "iopub.execute_input": "2021-09-08T16:13:36.553511Z",
     "iopub.status.busy": "2021-09-08T16:13:36.552868Z",
     "iopub.status.idle": "2021-09-08T16:13:37.374461Z",
     "shell.execute_reply": "2021-09-08T16:13:37.364042Z",
     "shell.execute_reply.started": "2021-09-08T16:13:36.553467Z"
    }
   },
   "outputs": [
    {
     "data": {
      "text/plain": [
       "(array([0, 1]), [Text(0, 0, 'Mozilla'), Text(1, 0, 'Other')])"
      ]
     },
     "execution_count": 98,
     "metadata": {},
     "output_type": "execute_result"
    },
    {
     "data": {
      "image/png": "[encoded data removed]",
      "text/plain": [
       "<Figure size 432x288 with 1 Axes>"
      ]
     },
     "metadata": {
      "needs_background": "light"
     },
     "output_type": "display_data"
    }
   ],
   "source": [
    "ax = sns.countplot(x='Navegador',\n",
    "                   hue='OS',\n",
    "                   data=df4)\n",
    "plt.legend(loc='upper right')\n",
    "plt.xticks(rotation=90)"
   ]
  },
  {
   "cell_type": "markdown",
   "metadata": {},
   "source": [
    "#### Minut amb més requests\n",
    "\n",
    "Tots els registres que disposem son del mateix dia a la mateixa hora, pero podem veure en quin minut se'n van fer més.\n",
    "\n",
    "Podem observar dos pics en els minuts 16 i 18 "
   ]
  },
  {
   "cell_type": "code",
   "execution_count": 92,
   "metadata": {
    "execution": {
     "iopub.execute_input": "2021-09-08T16:11:44.279882Z",
     "iopub.status.busy": "2021-09-08T16:11:44.279547Z",
     "iopub.status.idle": "2021-09-08T16:11:44.799408Z",
     "shell.execute_reply": "2021-09-08T16:11:44.797531Z",
     "shell.execute_reply.started": "2021-09-08T16:11:44.279850Z"
    }
   },
   "outputs": [
    {
     "data": {
      "text/plain": [
       "Text(0.5, 1.0, 'Nombre de requests per minut')"
      ]
     },
     "execution_count": 92,
     "metadata": {},
     "output_type": "execute_result"
    },
    {
     "data": {
      "image/png": "[encoded data removed]",
      "text/plain": [
       "<Figure size 432x288 with 1 Axes>"
      ]
     },
     "metadata": {
      "needs_background": "light"
     },
     "output_type": "display_data"
    }
   ],
   "source": [
    "ax = sns.countplot(x='Minut',\n",
    "                   data=df4)\n",
    "plt.title('Nombre de requests per minut')"
   ]
  }
 ],
 "metadata": {
  "kernelspec": {
   "display_name": "Python 3",
   "language": "python",
   "name": "python3"
  },
  "language_info": {
   "codemirror_mode": {
    "name": "ipython",
    "version": 3
   },
   "file_extension": ".py",
   "mimetype": "text/x-python",
   "name": "python",
   "nbconvert_exporter": "python",
   "pygments_lexer": "ipython3",
   "version": "3.8.5"
  }
 },
 "nbformat": 4,
 "nbformat_minor": 4
}
