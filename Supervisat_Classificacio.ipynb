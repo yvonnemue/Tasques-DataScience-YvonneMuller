{
 "cells": [
  {
   "cell_type": "markdown",
   "metadata": {},
   "source": [
    "# Sprint 10. Aprenentatge Supervisat - Classificació"
   ]
  },
  {
   "cell_type": "markdown",
   "metadata": {},
   "source": [
    "## Exercici 1. Crea almenys tres models de classificació diferents per intentar predir el millor possible l’endarreriment dels vols (ArrDelay) de DelayedFlights.csv. Considera si el vol ha arribat tard o no (ArrDelay > 0)."
   ]
  },
  {
   "cell_type": "code",
   "execution_count": 1,
   "metadata": {
    "ExecuteTime": {
     "end_time": "2021-11-23T14:44:08.728280Z",
     "start_time": "2021-11-23T14:44:05.546031Z"
    },
    "execution": {
     "iopub.execute_input": "2022-01-21T09:08:57.914695Z",
     "iopub.status.busy": "2022-01-21T09:08:57.914137Z",
     "iopub.status.idle": "2022-01-21T09:09:02.775676Z",
     "shell.execute_reply": "2022-01-21T09:09:02.774585Z",
     "shell.execute_reply.started": "2022-01-21T09:08:57.914602Z"
    }
   },
   "outputs": [],
   "source": [
    "import pandas as pd\n",
    "import numpy as np\n",
    "import matplotlib.pyplot as plt\n",
    "import seaborn as sns\n",
    "import math\n",
    "import warnings\n",
    "\n",
    "warnings.filterwarnings('ignore')\n",
    "pd.set_option('display.max_columns', None)"
   ]
  },
  {
   "cell_type": "code",
   "execution_count": 2,
   "metadata": {
    "ExecuteTime": {
     "end_time": "2021-11-23T14:44:22.125037Z",
     "start_time": "2021-11-23T14:44:08.784812Z"
    },
    "execution": {
     "iopub.execute_input": "2022-01-21T09:09:02.795729Z",
     "iopub.status.busy": "2022-01-21T09:09:02.795245Z",
     "iopub.status.idle": "2022-01-21T09:09:18.192914Z",
     "shell.execute_reply": "2022-01-21T09:09:18.183092Z",
     "shell.execute_reply.started": "2022-01-21T09:09:02.795680Z"
    }
   },
   "outputs": [],
   "source": [
    "df = pd.read_csv(\"../estructures_dataframe/DelayedFlights.csv\", sep=\",\")"
   ]
  },
  {
   "cell_type": "code",
   "execution_count": 3,
   "metadata": {
    "ExecuteTime": {
     "end_time": "2021-11-23T14:44:30.478928Z",
     "start_time": "2021-11-23T14:44:22.472525Z"
    },
    "execution": {
     "iopub.execute_input": "2022-01-21T09:09:18.277733Z",
     "iopub.status.busy": "2022-01-21T09:09:18.277111Z",
     "iopub.status.idle": "2022-01-21T09:09:25.870124Z",
     "shell.execute_reply": "2022-01-21T09:09:25.865433Z",
     "shell.execute_reply.started": "2022-01-21T09:09:18.277673Z"
    }
   },
   "outputs": [],
   "source": [
    "df = df.set_index('Unnamed: 0')\n",
    "\n",
    "#Dropping Na\n",
    "df = df.dropna()"
   ]
  },
  {
   "cell_type": "code",
   "execution_count": 4,
   "metadata": {
    "ExecuteTime": {
     "end_time": "2021-11-23T14:44:30.888377Z",
     "start_time": "2021-11-23T14:44:30.786589Z"
    },
    "execution": {
     "iopub.execute_input": "2022-01-21T09:09:26.018878Z",
     "iopub.status.busy": "2022-01-21T09:09:26.014925Z",
     "iopub.status.idle": "2022-01-21T09:09:26.236563Z",
     "shell.execute_reply": "2022-01-21T09:09:26.232867Z",
     "shell.execute_reply.started": "2022-01-21T09:09:26.018799Z"
    }
   },
   "outputs": [
    {
     "data": {
      "text/html": [
       "<div>\n",
       "<style scoped>\n",
       "    .dataframe tbody tr th:only-of-type {\n",
       "        vertical-align: middle;\n",
       "    }\n",
       "\n",
       "    .dataframe tbody tr th {\n",
       "        vertical-align: top;\n",
       "    }\n",
       "\n",
       "    .dataframe thead th {\n",
       "        text-align: right;\n",
       "    }\n",
       "</style>\n",
       "<table border=\"1\" class=\"dataframe\">\n",
       "  <thead>\n",
       "    <tr style=\"text-align: right;\">\n",
       "      <th></th>\n",
       "      <th>Year</th>\n",
       "      <th>Month</th>\n",
       "      <th>DayofMonth</th>\n",
       "      <th>DayOfWeek</th>\n",
       "      <th>DepTime</th>\n",
       "      <th>CRSDepTime</th>\n",
       "      <th>ArrTime</th>\n",
       "      <th>CRSArrTime</th>\n",
       "      <th>UniqueCarrier</th>\n",
       "      <th>FlightNum</th>\n",
       "      <th>TailNum</th>\n",
       "      <th>ActualElapsedTime</th>\n",
       "      <th>CRSElapsedTime</th>\n",
       "      <th>AirTime</th>\n",
       "      <th>ArrDelay</th>\n",
       "      <th>DepDelay</th>\n",
       "      <th>Origin</th>\n",
       "      <th>Dest</th>\n",
       "      <th>Distance</th>\n",
       "      <th>TaxiIn</th>\n",
       "      <th>TaxiOut</th>\n",
       "      <th>Cancelled</th>\n",
       "      <th>CancellationCode</th>\n",
       "      <th>Diverted</th>\n",
       "      <th>CarrierDelay</th>\n",
       "      <th>WeatherDelay</th>\n",
       "      <th>NASDelay</th>\n",
       "      <th>SecurityDelay</th>\n",
       "      <th>LateAircraftDelay</th>\n",
       "    </tr>\n",
       "    <tr>\n",
       "      <th>Unnamed: 0</th>\n",
       "      <th></th>\n",
       "      <th></th>\n",
       "      <th></th>\n",
       "      <th></th>\n",
       "      <th></th>\n",
       "      <th></th>\n",
       "      <th></th>\n",
       "      <th></th>\n",
       "      <th></th>\n",
       "      <th></th>\n",
       "      <th></th>\n",
       "      <th></th>\n",
       "      <th></th>\n",
       "      <th></th>\n",
       "      <th></th>\n",
       "      <th></th>\n",
       "      <th></th>\n",
       "      <th></th>\n",
       "      <th></th>\n",
       "      <th></th>\n",
       "      <th></th>\n",
       "      <th></th>\n",
       "      <th></th>\n",
       "      <th></th>\n",
       "      <th></th>\n",
       "      <th></th>\n",
       "      <th></th>\n",
       "      <th></th>\n",
       "      <th></th>\n",
       "    </tr>\n",
       "  </thead>\n",
       "  <tbody>\n",
       "    <tr>\n",
       "      <th>4</th>\n",
       "      <td>2008</td>\n",
       "      <td>1</td>\n",
       "      <td>3</td>\n",
       "      <td>4</td>\n",
       "      <td>1829.0</td>\n",
       "      <td>1755</td>\n",
       "      <td>1959.0</td>\n",
       "      <td>1925</td>\n",
       "      <td>WN</td>\n",
       "      <td>3920</td>\n",
       "      <td>N464WN</td>\n",
       "      <td>90.0</td>\n",
       "      <td>90.0</td>\n",
       "      <td>77.0</td>\n",
       "      <td>34.0</td>\n",
       "      <td>34.0</td>\n",
       "      <td>IND</td>\n",
       "      <td>BWI</td>\n",
       "      <td>515</td>\n",
       "      <td>3.0</td>\n",
       "      <td>10.0</td>\n",
       "      <td>0</td>\n",
       "      <td>N</td>\n",
       "      <td>0</td>\n",
       "      <td>2.0</td>\n",
       "      <td>0.0</td>\n",
       "      <td>0.0</td>\n",
       "      <td>0.0</td>\n",
       "      <td>32.0</td>\n",
       "    </tr>\n",
       "    <tr>\n",
       "      <th>6</th>\n",
       "      <td>2008</td>\n",
       "      <td>1</td>\n",
       "      <td>3</td>\n",
       "      <td>4</td>\n",
       "      <td>1937.0</td>\n",
       "      <td>1830</td>\n",
       "      <td>2037.0</td>\n",
       "      <td>1940</td>\n",
       "      <td>WN</td>\n",
       "      <td>509</td>\n",
       "      <td>N763SW</td>\n",
       "      <td>240.0</td>\n",
       "      <td>250.0</td>\n",
       "      <td>230.0</td>\n",
       "      <td>57.0</td>\n",
       "      <td>67.0</td>\n",
       "      <td>IND</td>\n",
       "      <td>LAS</td>\n",
       "      <td>1591</td>\n",
       "      <td>3.0</td>\n",
       "      <td>7.0</td>\n",
       "      <td>0</td>\n",
       "      <td>N</td>\n",
       "      <td>0</td>\n",
       "      <td>10.0</td>\n",
       "      <td>0.0</td>\n",
       "      <td>0.0</td>\n",
       "      <td>0.0</td>\n",
       "      <td>47.0</td>\n",
       "    </tr>\n",
       "    <tr>\n",
       "      <th>11</th>\n",
       "      <td>2008</td>\n",
       "      <td>1</td>\n",
       "      <td>3</td>\n",
       "      <td>4</td>\n",
       "      <td>1644.0</td>\n",
       "      <td>1510</td>\n",
       "      <td>1845.0</td>\n",
       "      <td>1725</td>\n",
       "      <td>WN</td>\n",
       "      <td>1333</td>\n",
       "      <td>N334SW</td>\n",
       "      <td>121.0</td>\n",
       "      <td>135.0</td>\n",
       "      <td>107.0</td>\n",
       "      <td>80.0</td>\n",
       "      <td>94.0</td>\n",
       "      <td>IND</td>\n",
       "      <td>MCO</td>\n",
       "      <td>828</td>\n",
       "      <td>6.0</td>\n",
       "      <td>8.0</td>\n",
       "      <td>0</td>\n",
       "      <td>N</td>\n",
       "      <td>0</td>\n",
       "      <td>8.0</td>\n",
       "      <td>0.0</td>\n",
       "      <td>0.0</td>\n",
       "      <td>0.0</td>\n",
       "      <td>72.0</td>\n",
       "    </tr>\n",
       "    <tr>\n",
       "      <th>16</th>\n",
       "      <td>2008</td>\n",
       "      <td>1</td>\n",
       "      <td>3</td>\n",
       "      <td>4</td>\n",
       "      <td>1452.0</td>\n",
       "      <td>1425</td>\n",
       "      <td>1640.0</td>\n",
       "      <td>1625</td>\n",
       "      <td>WN</td>\n",
       "      <td>675</td>\n",
       "      <td>N286WN</td>\n",
       "      <td>228.0</td>\n",
       "      <td>240.0</td>\n",
       "      <td>213.0</td>\n",
       "      <td>15.0</td>\n",
       "      <td>27.0</td>\n",
       "      <td>IND</td>\n",
       "      <td>PHX</td>\n",
       "      <td>1489</td>\n",
       "      <td>7.0</td>\n",
       "      <td>8.0</td>\n",
       "      <td>0</td>\n",
       "      <td>N</td>\n",
       "      <td>0</td>\n",
       "      <td>3.0</td>\n",
       "      <td>0.0</td>\n",
       "      <td>0.0</td>\n",
       "      <td>0.0</td>\n",
       "      <td>12.0</td>\n",
       "    </tr>\n",
       "    <tr>\n",
       "      <th>18</th>\n",
       "      <td>2008</td>\n",
       "      <td>1</td>\n",
       "      <td>3</td>\n",
       "      <td>4</td>\n",
       "      <td>1323.0</td>\n",
       "      <td>1255</td>\n",
       "      <td>1526.0</td>\n",
       "      <td>1510</td>\n",
       "      <td>WN</td>\n",
       "      <td>4</td>\n",
       "      <td>N674AA</td>\n",
       "      <td>123.0</td>\n",
       "      <td>135.0</td>\n",
       "      <td>110.0</td>\n",
       "      <td>16.0</td>\n",
       "      <td>28.0</td>\n",
       "      <td>IND</td>\n",
       "      <td>TPA</td>\n",
       "      <td>838</td>\n",
       "      <td>4.0</td>\n",
       "      <td>9.0</td>\n",
       "      <td>0</td>\n",
       "      <td>N</td>\n",
       "      <td>0</td>\n",
       "      <td>0.0</td>\n",
       "      <td>0.0</td>\n",
       "      <td>0.0</td>\n",
       "      <td>0.0</td>\n",
       "      <td>16.0</td>\n",
       "    </tr>\n",
       "  </tbody>\n",
       "</table>\n",
       "</div>"
      ],
      "text/plain": [
       "            Year  Month  DayofMonth  DayOfWeek  DepTime  CRSDepTime  ArrTime  \\\n",
       "Unnamed: 0                                                                     \n",
       "4           2008      1           3          4   1829.0        1755   1959.0   \n",
       "6           2008      1           3          4   1937.0        1830   2037.0   \n",
       "11          2008      1           3          4   1644.0        1510   1845.0   \n",
       "16          2008      1           3          4   1452.0        1425   1640.0   \n",
       "18          2008      1           3          4   1323.0        1255   1526.0   \n",
       "\n",
       "            CRSArrTime UniqueCarrier  FlightNum TailNum  ActualElapsedTime  \\\n",
       "Unnamed: 0                                                                   \n",
       "4                 1925            WN       3920  N464WN               90.0   \n",
       "6                 1940            WN        509  N763SW              240.0   \n",
       "11                1725            WN       1333  N334SW              121.0   \n",
       "16                1625            WN        675  N286WN              228.0   \n",
       "18                1510            WN          4  N674AA              123.0   \n",
       "\n",
       "            CRSElapsedTime  AirTime  ArrDelay  DepDelay Origin Dest  Distance  \\\n",
       "Unnamed: 0                                                                      \n",
       "4                     90.0     77.0      34.0      34.0    IND  BWI       515   \n",
       "6                    250.0    230.0      57.0      67.0    IND  LAS      1591   \n",
       "11                   135.0    107.0      80.0      94.0    IND  MCO       828   \n",
       "16                   240.0    213.0      15.0      27.0    IND  PHX      1489   \n",
       "18                   135.0    110.0      16.0      28.0    IND  TPA       838   \n",
       "\n",
       "            TaxiIn  TaxiOut  Cancelled CancellationCode  Diverted  \\\n",
       "Unnamed: 0                                                          \n",
       "4              3.0     10.0          0                N         0   \n",
       "6              3.0      7.0          0                N         0   \n",
       "11             6.0      8.0          0                N         0   \n",
       "16             7.0      8.0          0                N         0   \n",
       "18             4.0      9.0          0                N         0   \n",
       "\n",
       "            CarrierDelay  WeatherDelay  NASDelay  SecurityDelay  \\\n",
       "Unnamed: 0                                                        \n",
       "4                    2.0           0.0       0.0            0.0   \n",
       "6                   10.0           0.0       0.0            0.0   \n",
       "11                   8.0           0.0       0.0            0.0   \n",
       "16                   3.0           0.0       0.0            0.0   \n",
       "18                   0.0           0.0       0.0            0.0   \n",
       "\n",
       "            LateAircraftDelay  \n",
       "Unnamed: 0                     \n",
       "4                        32.0  \n",
       "6                        47.0  \n",
       "11                       72.0  \n",
       "16                       12.0  \n",
       "18                       16.0  "
      ]
     },
     "execution_count": 4,
     "metadata": {},
     "output_type": "execute_result"
    }
   ],
   "source": [
    "df.head()"
   ]
  },
  {
   "cell_type": "code",
   "execution_count": 5,
   "metadata": {
    "ExecuteTime": {
     "end_time": "2021-11-23T14:44:33.383591Z",
     "start_time": "2021-11-23T14:44:31.075066Z"
    },
    "execution": {
     "iopub.execute_input": "2022-01-21T09:09:26.241055Z",
     "iopub.status.busy": "2022-01-21T09:09:26.240480Z",
     "iopub.status.idle": "2022-01-21T09:09:28.802964Z",
     "shell.execute_reply": "2022-01-21T09:09:28.799280Z",
     "shell.execute_reply.started": "2022-01-21T09:09:26.241000Z"
    }
   },
   "outputs": [
    {
     "data": {
      "text/html": [
       "<div>\n",
       "<style scoped>\n",
       "    .dataframe tbody tr th:only-of-type {\n",
       "        vertical-align: middle;\n",
       "    }\n",
       "\n",
       "    .dataframe tbody tr th {\n",
       "        vertical-align: top;\n",
       "    }\n",
       "\n",
       "    .dataframe thead th {\n",
       "        text-align: right;\n",
       "    }\n",
       "</style>\n",
       "<table border=\"1\" class=\"dataframe\">\n",
       "  <thead>\n",
       "    <tr style=\"text-align: right;\">\n",
       "      <th></th>\n",
       "      <th>Year</th>\n",
       "      <th>Month</th>\n",
       "      <th>DayofMonth</th>\n",
       "      <th>DayOfWeek</th>\n",
       "      <th>DepTime</th>\n",
       "      <th>CRSDepTime</th>\n",
       "      <th>ArrTime</th>\n",
       "      <th>CRSArrTime</th>\n",
       "      <th>FlightNum</th>\n",
       "      <th>ActualElapsedTime</th>\n",
       "      <th>CRSElapsedTime</th>\n",
       "      <th>AirTime</th>\n",
       "      <th>ArrDelay</th>\n",
       "      <th>DepDelay</th>\n",
       "      <th>Distance</th>\n",
       "      <th>TaxiIn</th>\n",
       "      <th>TaxiOut</th>\n",
       "      <th>Cancelled</th>\n",
       "      <th>Diverted</th>\n",
       "      <th>CarrierDelay</th>\n",
       "      <th>WeatherDelay</th>\n",
       "      <th>NASDelay</th>\n",
       "      <th>SecurityDelay</th>\n",
       "      <th>LateAircraftDelay</th>\n",
       "    </tr>\n",
       "  </thead>\n",
       "  <tbody>\n",
       "    <tr>\n",
       "      <th>count</th>\n",
       "      <td>1247486.000</td>\n",
       "      <td>1247486.000</td>\n",
       "      <td>1247486.000</td>\n",
       "      <td>1247486.000</td>\n",
       "      <td>1247486.000</td>\n",
       "      <td>1247486.000</td>\n",
       "      <td>1247486.000</td>\n",
       "      <td>1247486.000</td>\n",
       "      <td>1247486.000</td>\n",
       "      <td>1247486.000</td>\n",
       "      <td>1247486.000</td>\n",
       "      <td>1247486.000</td>\n",
       "      <td>1247486.000</td>\n",
       "      <td>1247486.000</td>\n",
       "      <td>1247486.000</td>\n",
       "      <td>1247486.000</td>\n",
       "      <td>1247486.000</td>\n",
       "      <td>1247486.000</td>\n",
       "      <td>1247486.000</td>\n",
       "      <td>1247486.000</td>\n",
       "      <td>1247486.000</td>\n",
       "      <td>1247486.000</td>\n",
       "      <td>1247486.000</td>\n",
       "      <td>1247486.000</td>\n",
       "    </tr>\n",
       "    <tr>\n",
       "      <th>mean</th>\n",
       "      <td>2008.000</td>\n",
       "      <td>6.065</td>\n",
       "      <td>15.725</td>\n",
       "      <td>3.980</td>\n",
       "      <td>1558.832</td>\n",
       "      <td>1487.949</td>\n",
       "      <td>1616.749</td>\n",
       "      <td>1652.458</td>\n",
       "      <td>2276.526</td>\n",
       "      <td>135.378</td>\n",
       "      <td>131.764</td>\n",
       "      <td>107.420</td>\n",
       "      <td>63.291</td>\n",
       "      <td>59.677</td>\n",
       "      <td>741.587</td>\n",
       "      <td>7.297</td>\n",
       "      <td>20.660</td>\n",
       "      <td>0.000</td>\n",
       "      <td>0.000</td>\n",
       "      <td>19.179</td>\n",
       "      <td>3.703</td>\n",
       "      <td>15.022</td>\n",
       "      <td>0.090</td>\n",
       "      <td>25.296</td>\n",
       "    </tr>\n",
       "    <tr>\n",
       "      <th>std</th>\n",
       "      <td>0.000</td>\n",
       "      <td>3.509</td>\n",
       "      <td>8.793</td>\n",
       "      <td>1.993</td>\n",
       "      <td>454.330</td>\n",
       "      <td>421.178</td>\n",
       "      <td>583.942</td>\n",
       "      <td>461.737</td>\n",
       "      <td>1997.547</td>\n",
       "      <td>72.296</td>\n",
       "      <td>69.532</td>\n",
       "      <td>68.175</td>\n",
       "      <td>60.754</td>\n",
       "      <td>59.869</td>\n",
       "      <td>559.364</td>\n",
       "      <td>6.033</td>\n",
       "      <td>16.680</td>\n",
       "      <td>0.000</td>\n",
       "      <td>0.000</td>\n",
       "      <td>43.546</td>\n",
       "      <td>21.492</td>\n",
       "      <td>33.833</td>\n",
       "      <td>2.023</td>\n",
       "      <td>42.055</td>\n",
       "    </tr>\n",
       "    <tr>\n",
       "      <th>min</th>\n",
       "      <td>2008.000</td>\n",
       "      <td>1.000</td>\n",
       "      <td>1.000</td>\n",
       "      <td>1.000</td>\n",
       "      <td>1.000</td>\n",
       "      <td>0.000</td>\n",
       "      <td>1.000</td>\n",
       "      <td>0.000</td>\n",
       "      <td>1.000</td>\n",
       "      <td>14.000</td>\n",
       "      <td>-21.000</td>\n",
       "      <td>0.000</td>\n",
       "      <td>15.000</td>\n",
       "      <td>6.000</td>\n",
       "      <td>11.000</td>\n",
       "      <td>0.000</td>\n",
       "      <td>0.000</td>\n",
       "      <td>0.000</td>\n",
       "      <td>0.000</td>\n",
       "      <td>0.000</td>\n",
       "      <td>0.000</td>\n",
       "      <td>0.000</td>\n",
       "      <td>0.000</td>\n",
       "      <td>0.000</td>\n",
       "    </tr>\n",
       "    <tr>\n",
       "      <th>25%</th>\n",
       "      <td>2008.000</td>\n",
       "      <td>3.000</td>\n",
       "      <td>8.000</td>\n",
       "      <td>2.000</td>\n",
       "      <td>1232.000</td>\n",
       "      <td>1150.000</td>\n",
       "      <td>1326.000</td>\n",
       "      <td>1340.000</td>\n",
       "      <td>637.000</td>\n",
       "      <td>83.000</td>\n",
       "      <td>80.000</td>\n",
       "      <td>58.000</td>\n",
       "      <td>26.000</td>\n",
       "      <td>24.000</td>\n",
       "      <td>334.000</td>\n",
       "      <td>4.000</td>\n",
       "      <td>11.000</td>\n",
       "      <td>0.000</td>\n",
       "      <td>0.000</td>\n",
       "      <td>0.000</td>\n",
       "      <td>0.000</td>\n",
       "      <td>0.000</td>\n",
       "      <td>0.000</td>\n",
       "      <td>0.000</td>\n",
       "    </tr>\n",
       "    <tr>\n",
       "      <th>50%</th>\n",
       "      <td>2008.000</td>\n",
       "      <td>6.000</td>\n",
       "      <td>16.000</td>\n",
       "      <td>4.000</td>\n",
       "      <td>1618.000</td>\n",
       "      <td>1529.000</td>\n",
       "      <td>1737.000</td>\n",
       "      <td>1722.000</td>\n",
       "      <td>1589.000</td>\n",
       "      <td>118.000</td>\n",
       "      <td>115.000</td>\n",
       "      <td>90.000</td>\n",
       "      <td>43.000</td>\n",
       "      <td>41.000</td>\n",
       "      <td>595.000</td>\n",
       "      <td>6.000</td>\n",
       "      <td>16.000</td>\n",
       "      <td>0.000</td>\n",
       "      <td>0.000</td>\n",
       "      <td>2.000</td>\n",
       "      <td>0.000</td>\n",
       "      <td>2.000</td>\n",
       "      <td>0.000</td>\n",
       "      <td>8.000</td>\n",
       "    </tr>\n",
       "    <tr>\n",
       "      <th>75%</th>\n",
       "      <td>2008.000</td>\n",
       "      <td>9.000</td>\n",
       "      <td>23.000</td>\n",
       "      <td>6.000</td>\n",
       "      <td>1924.000</td>\n",
       "      <td>1830.000</td>\n",
       "      <td>2048.000</td>\n",
       "      <td>2022.000</td>\n",
       "      <td>3676.000</td>\n",
       "      <td>167.000</td>\n",
       "      <td>161.000</td>\n",
       "      <td>136.000</td>\n",
       "      <td>79.000</td>\n",
       "      <td>75.000</td>\n",
       "      <td>972.000</td>\n",
       "      <td>8.000</td>\n",
       "      <td>24.000</td>\n",
       "      <td>0.000</td>\n",
       "      <td>0.000</td>\n",
       "      <td>21.000</td>\n",
       "      <td>0.000</td>\n",
       "      <td>15.000</td>\n",
       "      <td>0.000</td>\n",
       "      <td>33.000</td>\n",
       "    </tr>\n",
       "    <tr>\n",
       "      <th>max</th>\n",
       "      <td>2008.000</td>\n",
       "      <td>12.000</td>\n",
       "      <td>31.000</td>\n",
       "      <td>7.000</td>\n",
       "      <td>2400.000</td>\n",
       "      <td>2359.000</td>\n",
       "      <td>2400.000</td>\n",
       "      <td>2359.000</td>\n",
       "      <td>9741.000</td>\n",
       "      <td>1114.000</td>\n",
       "      <td>660.000</td>\n",
       "      <td>1091.000</td>\n",
       "      <td>2461.000</td>\n",
       "      <td>2467.000</td>\n",
       "      <td>4962.000</td>\n",
       "      <td>240.000</td>\n",
       "      <td>422.000</td>\n",
       "      <td>0.000</td>\n",
       "      <td>0.000</td>\n",
       "      <td>2436.000</td>\n",
       "      <td>1352.000</td>\n",
       "      <td>1357.000</td>\n",
       "      <td>392.000</td>\n",
       "      <td>1316.000</td>\n",
       "    </tr>\n",
       "  </tbody>\n",
       "</table>\n",
       "</div>"
      ],
      "text/plain": [
       "              Year        Month   DayofMonth    DayOfWeek      DepTime  \\\n",
       "count  1247486.000  1247486.000  1247486.000  1247486.000  1247486.000   \n",
       "mean      2008.000        6.065       15.725        3.980     1558.832   \n",
       "std          0.000        3.509        8.793        1.993      454.330   \n",
       "min       2008.000        1.000        1.000        1.000        1.000   \n",
       "25%       2008.000        3.000        8.000        2.000     1232.000   \n",
       "50%       2008.000        6.000       16.000        4.000     1618.000   \n",
       "75%       2008.000        9.000       23.000        6.000     1924.000   \n",
       "max       2008.000       12.000       31.000        7.000     2400.000   \n",
       "\n",
       "        CRSDepTime      ArrTime   CRSArrTime    FlightNum ActualElapsedTime  \\\n",
       "count  1247486.000  1247486.000  1247486.000  1247486.000       1247486.000   \n",
       "mean      1487.949     1616.749     1652.458     2276.526           135.378   \n",
       "std        421.178      583.942      461.737     1997.547            72.296   \n",
       "min          0.000        1.000        0.000        1.000            14.000   \n",
       "25%       1150.000     1326.000     1340.000      637.000            83.000   \n",
       "50%       1529.000     1737.000     1722.000     1589.000           118.000   \n",
       "75%       1830.000     2048.000     2022.000     3676.000           167.000   \n",
       "max       2359.000     2400.000     2359.000     9741.000          1114.000   \n",
       "\n",
       "      CRSElapsedTime      AirTime     ArrDelay     DepDelay     Distance  \\\n",
       "count    1247486.000  1247486.000  1247486.000  1247486.000  1247486.000   \n",
       "mean         131.764      107.420       63.291       59.677      741.587   \n",
       "std           69.532       68.175       60.754       59.869      559.364   \n",
       "min          -21.000        0.000       15.000        6.000       11.000   \n",
       "25%           80.000       58.000       26.000       24.000      334.000   \n",
       "50%          115.000       90.000       43.000       41.000      595.000   \n",
       "75%          161.000      136.000       79.000       75.000      972.000   \n",
       "max          660.000     1091.000     2461.000     2467.000     4962.000   \n",
       "\n",
       "            TaxiIn      TaxiOut    Cancelled     Diverted CarrierDelay  \\\n",
       "count  1247486.000  1247486.000  1247486.000  1247486.000  1247486.000   \n",
       "mean         7.297       20.660        0.000        0.000       19.179   \n",
       "std          6.033       16.680        0.000        0.000       43.546   \n",
       "min          0.000        0.000        0.000        0.000        0.000   \n",
       "25%          4.000       11.000        0.000        0.000        0.000   \n",
       "50%          6.000       16.000        0.000        0.000        2.000   \n",
       "75%          8.000       24.000        0.000        0.000       21.000   \n",
       "max        240.000      422.000        0.000        0.000     2436.000   \n",
       "\n",
       "      WeatherDelay     NASDelay SecurityDelay LateAircraftDelay  \n",
       "count  1247486.000  1247486.000   1247486.000       1247486.000  \n",
       "mean         3.703       15.022         0.090            25.296  \n",
       "std         21.492       33.833         2.023            42.055  \n",
       "min          0.000        0.000         0.000             0.000  \n",
       "25%          0.000        0.000         0.000             0.000  \n",
       "50%          0.000        2.000         0.000             8.000  \n",
       "75%          0.000       15.000         0.000            33.000  \n",
       "max       1352.000     1357.000       392.000          1316.000  "
      ]
     },
     "execution_count": 5,
     "metadata": {},
     "output_type": "execute_result"
    }
   ],
   "source": [
    "df.describe().apply(lambda s: s.apply('{0:.3f}'.format))"
   ]
  },
  {
   "cell_type": "code",
   "execution_count": 6,
   "metadata": {
    "execution": {
     "iopub.execute_input": "2022-01-21T09:09:28.811918Z",
     "iopub.status.busy": "2022-01-21T09:09:28.811489Z",
     "iopub.status.idle": "2022-01-21T09:09:29.359788Z",
     "shell.execute_reply": "2022-01-21T09:09:29.358531Z",
     "shell.execute_reply.started": "2022-01-21T09:09:28.811870Z"
    }
   },
   "outputs": [
    {
     "name": "stdout",
     "output_type": "stream",
     "text": [
      "<class 'pandas.core.frame.DataFrame'>\n",
      "Int64Index: 1247486 entries, 4 to 7009718\n",
      "Data columns (total 29 columns):\n",
      " #   Column             Non-Null Count    Dtype  \n",
      "---  ------             --------------    -----  \n",
      " 0   Year               1247486 non-null  int64  \n",
      " 1   Month              1247486 non-null  int64  \n",
      " 2   DayofMonth         1247486 non-null  int64  \n",
      " 3   DayOfWeek          1247486 non-null  int64  \n",
      " 4   DepTime            1247486 non-null  float64\n",
      " 5   CRSDepTime         1247486 non-null  int64  \n",
      " 6   ArrTime            1247486 non-null  float64\n",
      " 7   CRSArrTime         1247486 non-null  int64  \n",
      " 8   UniqueCarrier      1247486 non-null  object \n",
      " 9   FlightNum          1247486 non-null  int64  \n",
      " 10  TailNum            1247486 non-null  object \n",
      " 11  ActualElapsedTime  1247486 non-null  float64\n",
      " 12  CRSElapsedTime     1247486 non-null  float64\n",
      " 13  AirTime            1247486 non-null  float64\n",
      " 14  ArrDelay           1247486 non-null  float64\n",
      " 15  DepDelay           1247486 non-null  float64\n",
      " 16  Origin             1247486 non-null  object \n",
      " 17  Dest               1247486 non-null  object \n",
      " 18  Distance           1247486 non-null  int64  \n",
      " 19  TaxiIn             1247486 non-null  float64\n",
      " 20  TaxiOut            1247486 non-null  float64\n",
      " 21  Cancelled          1247486 non-null  int64  \n",
      " 22  CancellationCode   1247486 non-null  object \n",
      " 23  Diverted           1247486 non-null  int64  \n",
      " 24  CarrierDelay       1247486 non-null  float64\n",
      " 25  WeatherDelay       1247486 non-null  float64\n",
      " 26  NASDelay           1247486 non-null  float64\n",
      " 27  SecurityDelay      1247486 non-null  float64\n",
      " 28  LateAircraftDelay  1247486 non-null  float64\n",
      "dtypes: float64(14), int64(10), object(5)\n",
      "memory usage: 285.5+ MB\n"
     ]
    }
   ],
   "source": [
    "df.info()"
   ]
  },
  {
   "cell_type": "markdown",
   "metadata": {},
   "source": [
    "### Vols que NO han arribat tard\n",
    "Considerem que un vol no ha arribat tard si l'ArrDelay és de, com a molt, 15 minuts."
   ]
  },
  {
   "cell_type": "code",
   "execution_count": 7,
   "metadata": {
    "execution": {
     "iopub.execute_input": "2022-01-21T09:09:29.377730Z",
     "iopub.status.busy": "2022-01-21T09:09:29.377034Z",
     "iopub.status.idle": "2022-01-21T09:09:29.546164Z",
     "shell.execute_reply": "2022-01-21T09:09:29.544486Z",
     "shell.execute_reply.started": "2022-01-21T09:09:29.377680Z"
    }
   },
   "outputs": [
    {
     "data": {
      "text/plain": [
       "32476"
      ]
     },
     "execution_count": 7,
     "metadata": {},
     "output_type": "execute_result"
    }
   ],
   "source": [
    "# Núm. de vols amb un delay igual o menor que 15 min\n",
    "df[df['ArrDelay'] < 16].count()['ArrDelay']"
   ]
  },
  {
   "cell_type": "code",
   "execution_count": 8,
   "metadata": {
    "execution": {
     "iopub.execute_input": "2022-01-21T09:09:29.554982Z",
     "iopub.status.busy": "2022-01-21T09:09:29.554369Z",
     "iopub.status.idle": "2022-01-21T09:09:30.470501Z",
     "shell.execute_reply": "2022-01-21T09:09:30.468840Z",
     "shell.execute_reply.started": "2022-01-21T09:09:29.554935Z"
    }
   },
   "outputs": [
    {
     "data": {
      "text/plain": [
       "1215010"
      ]
     },
     "execution_count": 8,
     "metadata": {},
     "output_type": "execute_result"
    }
   ],
   "source": [
    "# Núm. de vols amb un delay superior a 15 min\n",
    "df[df['ArrDelay'] > 15].count()['ArrDelay']"
   ]
  },
  {
   "cell_type": "markdown",
   "metadata": {},
   "source": [
    "### Crear columna binària per saber si un vol ha arribat tard o no"
   ]
  },
  {
   "cell_type": "code",
   "execution_count": 9,
   "metadata": {
    "execution": {
     "iopub.execute_input": "2022-01-21T09:09:30.475763Z",
     "iopub.status.busy": "2022-01-21T09:09:30.475249Z",
     "iopub.status.idle": "2022-01-21T09:09:30.484957Z",
     "shell.execute_reply": "2022-01-21T09:09:30.483701Z",
     "shell.execute_reply.started": "2022-01-21T09:09:30.475726Z"
    }
   },
   "outputs": [],
   "source": [
    "def endarrerit(x):\n",
    "    if x>15:\n",
    "        return 1\n",
    "    else:\n",
    "        return 0"
   ]
  },
  {
   "cell_type": "code",
   "execution_count": 10,
   "metadata": {
    "execution": {
     "iopub.execute_input": "2022-01-21T09:09:30.497688Z",
     "iopub.status.busy": "2022-01-21T09:09:30.496721Z",
     "iopub.status.idle": "2022-01-21T09:09:31.513608Z",
     "shell.execute_reply": "2022-01-21T09:09:31.512167Z",
     "shell.execute_reply.started": "2022-01-21T09:09:30.497623Z"
    }
   },
   "outputs": [],
   "source": [
    "df['Tard']=df.ArrDelay.apply(lambda x:endarrerit(x))"
   ]
  },
  {
   "cell_type": "code",
   "execution_count": 11,
   "metadata": {
    "execution": {
     "iopub.execute_input": "2022-01-21T09:09:31.517592Z",
     "iopub.status.busy": "2022-01-21T09:09:31.517039Z",
     "iopub.status.idle": "2022-01-21T09:09:33.022344Z",
     "shell.execute_reply": "2022-01-21T09:09:33.021363Z",
     "shell.execute_reply.started": "2022-01-21T09:09:31.517556Z"
    }
   },
   "outputs": [
    {
     "data": {
      "text/html": [
       "<div>\n",
       "<style scoped>\n",
       "    .dataframe tbody tr th:only-of-type {\n",
       "        vertical-align: middle;\n",
       "    }\n",
       "\n",
       "    .dataframe tbody tr th {\n",
       "        vertical-align: top;\n",
       "    }\n",
       "\n",
       "    .dataframe thead th {\n",
       "        text-align: right;\n",
       "    }\n",
       "</style>\n",
       "<table border=\"1\" class=\"dataframe\">\n",
       "  <thead>\n",
       "    <tr style=\"text-align: right;\">\n",
       "      <th></th>\n",
       "      <th>Year</th>\n",
       "      <th>Month</th>\n",
       "      <th>DayofMonth</th>\n",
       "      <th>DayOfWeek</th>\n",
       "      <th>DepTime</th>\n",
       "      <th>CRSDepTime</th>\n",
       "      <th>ArrTime</th>\n",
       "      <th>CRSArrTime</th>\n",
       "      <th>UniqueCarrier</th>\n",
       "      <th>FlightNum</th>\n",
       "      <th>TailNum</th>\n",
       "      <th>ActualElapsedTime</th>\n",
       "      <th>CRSElapsedTime</th>\n",
       "      <th>AirTime</th>\n",
       "      <th>ArrDelay</th>\n",
       "      <th>DepDelay</th>\n",
       "      <th>Origin</th>\n",
       "      <th>Dest</th>\n",
       "      <th>Distance</th>\n",
       "      <th>TaxiIn</th>\n",
       "      <th>TaxiOut</th>\n",
       "      <th>Cancelled</th>\n",
       "      <th>CancellationCode</th>\n",
       "      <th>Diverted</th>\n",
       "      <th>CarrierDelay</th>\n",
       "      <th>WeatherDelay</th>\n",
       "      <th>NASDelay</th>\n",
       "      <th>SecurityDelay</th>\n",
       "      <th>LateAircraftDelay</th>\n",
       "      <th>Tard</th>\n",
       "    </tr>\n",
       "    <tr>\n",
       "      <th>Unnamed: 0</th>\n",
       "      <th></th>\n",
       "      <th></th>\n",
       "      <th></th>\n",
       "      <th></th>\n",
       "      <th></th>\n",
       "      <th></th>\n",
       "      <th></th>\n",
       "      <th></th>\n",
       "      <th></th>\n",
       "      <th></th>\n",
       "      <th></th>\n",
       "      <th></th>\n",
       "      <th></th>\n",
       "      <th></th>\n",
       "      <th></th>\n",
       "      <th></th>\n",
       "      <th></th>\n",
       "      <th></th>\n",
       "      <th></th>\n",
       "      <th></th>\n",
       "      <th></th>\n",
       "      <th></th>\n",
       "      <th></th>\n",
       "      <th></th>\n",
       "      <th></th>\n",
       "      <th></th>\n",
       "      <th></th>\n",
       "      <th></th>\n",
       "      <th></th>\n",
       "      <th></th>\n",
       "    </tr>\n",
       "  </thead>\n",
       "  <tbody>\n",
       "    <tr>\n",
       "      <th>211496</th>\n",
       "      <td>2008</td>\n",
       "      <td>1</td>\n",
       "      <td>27</td>\n",
       "      <td>7</td>\n",
       "      <td>1152.0</td>\n",
       "      <td>1143</td>\n",
       "      <td>1325.0</td>\n",
       "      <td>1310</td>\n",
       "      <td>OO</td>\n",
       "      <td>6515</td>\n",
       "      <td>N938SW</td>\n",
       "      <td>93.0</td>\n",
       "      <td>87.0</td>\n",
       "      <td>60.0</td>\n",
       "      <td>15.0</td>\n",
       "      <td>9.0</td>\n",
       "      <td>LAX</td>\n",
       "      <td>OAK</td>\n",
       "      <td>337</td>\n",
       "      <td>6.0</td>\n",
       "      <td>27.0</td>\n",
       "      <td>0</td>\n",
       "      <td>N</td>\n",
       "      <td>0</td>\n",
       "      <td>0.0</td>\n",
       "      <td>0.0</td>\n",
       "      <td>0.0</td>\n",
       "      <td>0.0</td>\n",
       "      <td>15.0</td>\n",
       "      <td>0</td>\n",
       "    </tr>\n",
       "    <tr>\n",
       "      <th>6219221</th>\n",
       "      <td>2008</td>\n",
       "      <td>11</td>\n",
       "      <td>26</td>\n",
       "      <td>3</td>\n",
       "      <td>1620.0</td>\n",
       "      <td>1610</td>\n",
       "      <td>1725.0</td>\n",
       "      <td>1710</td>\n",
       "      <td>DL</td>\n",
       "      <td>1629</td>\n",
       "      <td>N937DL</td>\n",
       "      <td>65.0</td>\n",
       "      <td>60.0</td>\n",
       "      <td>32.0</td>\n",
       "      <td>15.0</td>\n",
       "      <td>10.0</td>\n",
       "      <td>TYS</td>\n",
       "      <td>ATL</td>\n",
       "      <td>152</td>\n",
       "      <td>16.0</td>\n",
       "      <td>17.0</td>\n",
       "      <td>0</td>\n",
       "      <td>N</td>\n",
       "      <td>0</td>\n",
       "      <td>0.0</td>\n",
       "      <td>0.0</td>\n",
       "      <td>5.0</td>\n",
       "      <td>0.0</td>\n",
       "      <td>10.0</td>\n",
       "      <td>0</td>\n",
       "    </tr>\n",
       "    <tr>\n",
       "      <th>3813613</th>\n",
       "      <td>2008</td>\n",
       "      <td>7</td>\n",
       "      <td>21</td>\n",
       "      <td>1</td>\n",
       "      <td>1326.0</td>\n",
       "      <td>1313</td>\n",
       "      <td>1522.0</td>\n",
       "      <td>1507</td>\n",
       "      <td>OO</td>\n",
       "      <td>6726</td>\n",
       "      <td>N753SK</td>\n",
       "      <td>116.0</td>\n",
       "      <td>114.0</td>\n",
       "      <td>97.0</td>\n",
       "      <td>15.0</td>\n",
       "      <td>13.0</td>\n",
       "      <td>BOI</td>\n",
       "      <td>DEN</td>\n",
       "      <td>649</td>\n",
       "      <td>8.0</td>\n",
       "      <td>11.0</td>\n",
       "      <td>0</td>\n",
       "      <td>N</td>\n",
       "      <td>0</td>\n",
       "      <td>13.0</td>\n",
       "      <td>0.0</td>\n",
       "      <td>2.0</td>\n",
       "      <td>0.0</td>\n",
       "      <td>0.0</td>\n",
       "      <td>0</td>\n",
       "    </tr>\n",
       "    <tr>\n",
       "      <th>3813305</th>\n",
       "      <td>2008</td>\n",
       "      <td>7</td>\n",
       "      <td>21</td>\n",
       "      <td>1</td>\n",
       "      <td>723.0</td>\n",
       "      <td>700</td>\n",
       "      <td>845.0</td>\n",
       "      <td>830</td>\n",
       "      <td>OO</td>\n",
       "      <td>6343</td>\n",
       "      <td>N732SK</td>\n",
       "      <td>82.0</td>\n",
       "      <td>90.0</td>\n",
       "      <td>68.0</td>\n",
       "      <td>15.0</td>\n",
       "      <td>23.0</td>\n",
       "      <td>SFO</td>\n",
       "      <td>SNA</td>\n",
       "      <td>372</td>\n",
       "      <td>3.0</td>\n",
       "      <td>11.0</td>\n",
       "      <td>0</td>\n",
       "      <td>N</td>\n",
       "      <td>0</td>\n",
       "      <td>15.0</td>\n",
       "      <td>0.0</td>\n",
       "      <td>0.0</td>\n",
       "      <td>0.0</td>\n",
       "      <td>0.0</td>\n",
       "      <td>0</td>\n",
       "    </tr>\n",
       "    <tr>\n",
       "      <th>5222588</th>\n",
       "      <td>2008</td>\n",
       "      <td>9</td>\n",
       "      <td>5</td>\n",
       "      <td>5</td>\n",
       "      <td>726.0</td>\n",
       "      <td>650</td>\n",
       "      <td>930.0</td>\n",
       "      <td>915</td>\n",
       "      <td>MQ</td>\n",
       "      <td>4834</td>\n",
       "      <td>N803AE</td>\n",
       "      <td>184.0</td>\n",
       "      <td>205.0</td>\n",
       "      <td>167.0</td>\n",
       "      <td>15.0</td>\n",
       "      <td>36.0</td>\n",
       "      <td>LGA</td>\n",
       "      <td>XNA</td>\n",
       "      <td>1147</td>\n",
       "      <td>5.0</td>\n",
       "      <td>12.0</td>\n",
       "      <td>0</td>\n",
       "      <td>N</td>\n",
       "      <td>0</td>\n",
       "      <td>15.0</td>\n",
       "      <td>0.0</td>\n",
       "      <td>0.0</td>\n",
       "      <td>0.0</td>\n",
       "      <td>0.0</td>\n",
       "      <td>0</td>\n",
       "    </tr>\n",
       "    <tr>\n",
       "      <th>...</th>\n",
       "      <td>...</td>\n",
       "      <td>...</td>\n",
       "      <td>...</td>\n",
       "      <td>...</td>\n",
       "      <td>...</td>\n",
       "      <td>...</td>\n",
       "      <td>...</td>\n",
       "      <td>...</td>\n",
       "      <td>...</td>\n",
       "      <td>...</td>\n",
       "      <td>...</td>\n",
       "      <td>...</td>\n",
       "      <td>...</td>\n",
       "      <td>...</td>\n",
       "      <td>...</td>\n",
       "      <td>...</td>\n",
       "      <td>...</td>\n",
       "      <td>...</td>\n",
       "      <td>...</td>\n",
       "      <td>...</td>\n",
       "      <td>...</td>\n",
       "      <td>...</td>\n",
       "      <td>...</td>\n",
       "      <td>...</td>\n",
       "      <td>...</td>\n",
       "      <td>...</td>\n",
       "      <td>...</td>\n",
       "      <td>...</td>\n",
       "      <td>...</td>\n",
       "      <td>...</td>\n",
       "    </tr>\n",
       "    <tr>\n",
       "      <th>6857047</th>\n",
       "      <td>2008</td>\n",
       "      <td>12</td>\n",
       "      <td>19</td>\n",
       "      <td>5</td>\n",
       "      <td>1602.0</td>\n",
       "      <td>1325</td>\n",
       "      <td>1921.0</td>\n",
       "      <td>1546</td>\n",
       "      <td>NW</td>\n",
       "      <td>357</td>\n",
       "      <td>N366NW</td>\n",
       "      <td>259.0</td>\n",
       "      <td>201.0</td>\n",
       "      <td>192.0</td>\n",
       "      <td>1655.0</td>\n",
       "      <td>1597.0</td>\n",
       "      <td>BOS</td>\n",
       "      <td>MSP</td>\n",
       "      <td>1124</td>\n",
       "      <td>8.0</td>\n",
       "      <td>59.0</td>\n",
       "      <td>0</td>\n",
       "      <td>N</td>\n",
       "      <td>0</td>\n",
       "      <td>1307.0</td>\n",
       "      <td>0.0</td>\n",
       "      <td>58.0</td>\n",
       "      <td>0.0</td>\n",
       "      <td>290.0</td>\n",
       "      <td>1</td>\n",
       "    </tr>\n",
       "    <tr>\n",
       "      <th>3387883</th>\n",
       "      <td>2008</td>\n",
       "      <td>6</td>\n",
       "      <td>20</td>\n",
       "      <td>5</td>\n",
       "      <td>2140.0</td>\n",
       "      <td>1710</td>\n",
       "      <td>2252.0</td>\n",
       "      <td>1825</td>\n",
       "      <td>MQ</td>\n",
       "      <td>3538</td>\n",
       "      <td>N512AE</td>\n",
       "      <td>72.0</td>\n",
       "      <td>75.0</td>\n",
       "      <td>50.0</td>\n",
       "      <td>1707.0</td>\n",
       "      <td>1710.0</td>\n",
       "      <td>LIT</td>\n",
       "      <td>DFW</td>\n",
       "      <td>304</td>\n",
       "      <td>6.0</td>\n",
       "      <td>16.0</td>\n",
       "      <td>0</td>\n",
       "      <td>N</td>\n",
       "      <td>0</td>\n",
       "      <td>1707.0</td>\n",
       "      <td>0.0</td>\n",
       "      <td>0.0</td>\n",
       "      <td>0.0</td>\n",
       "      <td>0.0</td>\n",
       "      <td>1</td>\n",
       "    </tr>\n",
       "    <tr>\n",
       "      <th>2832617</th>\n",
       "      <td>2008</td>\n",
       "      <td>5</td>\n",
       "      <td>6</td>\n",
       "      <td>2</td>\n",
       "      <td>2.0</td>\n",
       "      <td>1530</td>\n",
       "      <td>254.0</td>\n",
       "      <td>1823</td>\n",
       "      <td>NW</td>\n",
       "      <td>1107</td>\n",
       "      <td>N333NW</td>\n",
       "      <td>172.0</td>\n",
       "      <td>173.0</td>\n",
       "      <td>145.0</td>\n",
       "      <td>1951.0</td>\n",
       "      <td>1952.0</td>\n",
       "      <td>RSW</td>\n",
       "      <td>DTW</td>\n",
       "      <td>1085</td>\n",
       "      <td>10.0</td>\n",
       "      <td>17.0</td>\n",
       "      <td>0</td>\n",
       "      <td>N</td>\n",
       "      <td>0</td>\n",
       "      <td>1951.0</td>\n",
       "      <td>0.0</td>\n",
       "      <td>0.0</td>\n",
       "      <td>0.0</td>\n",
       "      <td>0.0</td>\n",
       "      <td>1</td>\n",
       "    </tr>\n",
       "    <tr>\n",
       "      <th>2235378</th>\n",
       "      <td>2008</td>\n",
       "      <td>4</td>\n",
       "      <td>10</td>\n",
       "      <td>4</td>\n",
       "      <td>724.0</td>\n",
       "      <td>1417</td>\n",
       "      <td>858.0</td>\n",
       "      <td>1605</td>\n",
       "      <td>NW</td>\n",
       "      <td>1699</td>\n",
       "      <td>N3324L</td>\n",
       "      <td>154.0</td>\n",
       "      <td>168.0</td>\n",
       "      <td>132.0</td>\n",
       "      <td>2453.0</td>\n",
       "      <td>2467.0</td>\n",
       "      <td>CLT</td>\n",
       "      <td>MSP</td>\n",
       "      <td>930</td>\n",
       "      <td>8.0</td>\n",
       "      <td>14.0</td>\n",
       "      <td>0</td>\n",
       "      <td>N</td>\n",
       "      <td>0</td>\n",
       "      <td>2436.0</td>\n",
       "      <td>0.0</td>\n",
       "      <td>0.0</td>\n",
       "      <td>0.0</td>\n",
       "      <td>17.0</td>\n",
       "      <td>1</td>\n",
       "    </tr>\n",
       "    <tr>\n",
       "      <th>1018798</th>\n",
       "      <td>2008</td>\n",
       "      <td>2</td>\n",
       "      <td>3</td>\n",
       "      <td>7</td>\n",
       "      <td>1117.0</td>\n",
       "      <td>1820</td>\n",
       "      <td>2256.0</td>\n",
       "      <td>555</td>\n",
       "      <td>NW</td>\n",
       "      <td>808</td>\n",
       "      <td>N817NW</td>\n",
       "      <td>459.0</td>\n",
       "      <td>455.0</td>\n",
       "      <td>437.0</td>\n",
       "      <td>2461.0</td>\n",
       "      <td>2457.0</td>\n",
       "      <td>HNL</td>\n",
       "      <td>MSP</td>\n",
       "      <td>3972</td>\n",
       "      <td>6.0</td>\n",
       "      <td>16.0</td>\n",
       "      <td>0</td>\n",
       "      <td>N</td>\n",
       "      <td>0</td>\n",
       "      <td>1455.0</td>\n",
       "      <td>0.0</td>\n",
       "      <td>4.0</td>\n",
       "      <td>0.0</td>\n",
       "      <td>1002.0</td>\n",
       "      <td>1</td>\n",
       "    </tr>\n",
       "  </tbody>\n",
       "</table>\n",
       "<p>1247486 rows × 30 columns</p>\n",
       "</div>"
      ],
      "text/plain": [
       "            Year  Month  DayofMonth  DayOfWeek  DepTime  CRSDepTime  ArrTime  \\\n",
       "Unnamed: 0                                                                     \n",
       "211496      2008      1          27          7   1152.0        1143   1325.0   \n",
       "6219221     2008     11          26          3   1620.0        1610   1725.0   \n",
       "3813613     2008      7          21          1   1326.0        1313   1522.0   \n",
       "3813305     2008      7          21          1    723.0         700    845.0   \n",
       "5222588     2008      9           5          5    726.0         650    930.0   \n",
       "...          ...    ...         ...        ...      ...         ...      ...   \n",
       "6857047     2008     12          19          5   1602.0        1325   1921.0   \n",
       "3387883     2008      6          20          5   2140.0        1710   2252.0   \n",
       "2832617     2008      5           6          2      2.0        1530    254.0   \n",
       "2235378     2008      4          10          4    724.0        1417    858.0   \n",
       "1018798     2008      2           3          7   1117.0        1820   2256.0   \n",
       "\n",
       "            CRSArrTime UniqueCarrier  FlightNum TailNum  ActualElapsedTime  \\\n",
       "Unnamed: 0                                                                   \n",
       "211496            1310            OO       6515  N938SW               93.0   \n",
       "6219221           1710            DL       1629  N937DL               65.0   \n",
       "3813613           1507            OO       6726  N753SK              116.0   \n",
       "3813305            830            OO       6343  N732SK               82.0   \n",
       "5222588            915            MQ       4834  N803AE              184.0   \n",
       "...                ...           ...        ...     ...                ...   \n",
       "6857047           1546            NW        357  N366NW              259.0   \n",
       "3387883           1825            MQ       3538  N512AE               72.0   \n",
       "2832617           1823            NW       1107  N333NW              172.0   \n",
       "2235378           1605            NW       1699  N3324L              154.0   \n",
       "1018798            555            NW        808  N817NW              459.0   \n",
       "\n",
       "            CRSElapsedTime  AirTime  ArrDelay  DepDelay Origin Dest  Distance  \\\n",
       "Unnamed: 0                                                                      \n",
       "211496                87.0     60.0      15.0       9.0    LAX  OAK       337   \n",
       "6219221               60.0     32.0      15.0      10.0    TYS  ATL       152   \n",
       "3813613              114.0     97.0      15.0      13.0    BOI  DEN       649   \n",
       "3813305               90.0     68.0      15.0      23.0    SFO  SNA       372   \n",
       "5222588              205.0    167.0      15.0      36.0    LGA  XNA      1147   \n",
       "...                    ...      ...       ...       ...    ...  ...       ...   \n",
       "6857047              201.0    192.0    1655.0    1597.0    BOS  MSP      1124   \n",
       "3387883               75.0     50.0    1707.0    1710.0    LIT  DFW       304   \n",
       "2832617              173.0    145.0    1951.0    1952.0    RSW  DTW      1085   \n",
       "2235378              168.0    132.0    2453.0    2467.0    CLT  MSP       930   \n",
       "1018798              455.0    437.0    2461.0    2457.0    HNL  MSP      3972   \n",
       "\n",
       "            TaxiIn  TaxiOut  Cancelled CancellationCode  Diverted  \\\n",
       "Unnamed: 0                                                          \n",
       "211496         6.0     27.0          0                N         0   \n",
       "6219221       16.0     17.0          0                N         0   \n",
       "3813613        8.0     11.0          0                N         0   \n",
       "3813305        3.0     11.0          0                N         0   \n",
       "5222588        5.0     12.0          0                N         0   \n",
       "...            ...      ...        ...              ...       ...   \n",
       "6857047        8.0     59.0          0                N         0   \n",
       "3387883        6.0     16.0          0                N         0   \n",
       "2832617       10.0     17.0          0                N         0   \n",
       "2235378        8.0     14.0          0                N         0   \n",
       "1018798        6.0     16.0          0                N         0   \n",
       "\n",
       "            CarrierDelay  WeatherDelay  NASDelay  SecurityDelay  \\\n",
       "Unnamed: 0                                                        \n",
       "211496               0.0           0.0       0.0            0.0   \n",
       "6219221              0.0           0.0       5.0            0.0   \n",
       "3813613             13.0           0.0       2.0            0.0   \n",
       "3813305             15.0           0.0       0.0            0.0   \n",
       "5222588             15.0           0.0       0.0            0.0   \n",
       "...                  ...           ...       ...            ...   \n",
       "6857047           1307.0           0.0      58.0            0.0   \n",
       "3387883           1707.0           0.0       0.0            0.0   \n",
       "2832617           1951.0           0.0       0.0            0.0   \n",
       "2235378           2436.0           0.0       0.0            0.0   \n",
       "1018798           1455.0           0.0       4.0            0.0   \n",
       "\n",
       "            LateAircraftDelay  Tard  \n",
       "Unnamed: 0                           \n",
       "211496                   15.0     0  \n",
       "6219221                  10.0     0  \n",
       "3813613                   0.0     0  \n",
       "3813305                   0.0     0  \n",
       "5222588                   0.0     0  \n",
       "...                       ...   ...  \n",
       "6857047                 290.0     1  \n",
       "3387883                   0.0     1  \n",
       "2832617                   0.0     1  \n",
       "2235378                  17.0     1  \n",
       "1018798                1002.0     1  \n",
       "\n",
       "[1247486 rows x 30 columns]"
      ]
     },
     "execution_count": 11,
     "metadata": {},
     "output_type": "execute_result"
    }
   ],
   "source": [
    "df.sort_values([\"ArrDelay\"], ascending=True)"
   ]
  },
  {
   "cell_type": "markdown",
   "metadata": {},
   "source": [
    "### Està la data balancejada?\n",
    "No ho està! Més del 97% dels vols han arribat tard i només un 2.6% han arribat puntuals (menys de 16 minuts de retard)."
   ]
  },
  {
   "cell_type": "code",
   "execution_count": 12,
   "metadata": {
    "execution": {
     "iopub.execute_input": "2022-01-21T09:09:33.025889Z",
     "iopub.status.busy": "2022-01-21T09:09:33.025317Z",
     "iopub.status.idle": "2022-01-21T09:09:33.051006Z",
     "shell.execute_reply": "2022-01-21T09:09:33.049646Z",
     "shell.execute_reply.started": "2022-01-21T09:09:33.025798Z"
    }
   },
   "outputs": [
    {
     "data": {
      "text/plain": [
       "1    0.973967\n",
       "0    0.026033\n",
       "Name: Tard, dtype: float64"
      ]
     },
     "execution_count": 12,
     "metadata": {},
     "output_type": "execute_result"
    }
   ],
   "source": [
    "df.Tard.value_counts(normalize=True)"
   ]
  },
  {
   "cell_type": "markdown",
   "metadata": {},
   "source": [
    "### Reducció del conjunt de dades\n",
    "\n",
    "Com que el conjunt de dades té més d'1 milió de registres, podem utilitzar la tècnica de random sampling per seleccionar només un subconjunt de les dades (2%) i fer que els models s'executin més ràpidament. També ens hem d'assegurar que la proporció de vols amb retard sigui la mateixa que al conjunt complet de les dades, és a dir, un 97% aprox."
   ]
  },
  {
   "cell_type": "code",
   "execution_count": 13,
   "metadata": {
    "execution": {
     "iopub.execute_input": "2022-01-21T09:09:33.054465Z",
     "iopub.status.busy": "2022-01-21T09:09:33.053824Z",
     "iopub.status.idle": "2022-01-21T09:09:33.167939Z",
     "shell.execute_reply": "2022-01-21T09:09:33.164431Z",
     "shell.execute_reply.started": "2022-01-21T09:09:33.054408Z"
    }
   },
   "outputs": [
    {
     "data": {
      "text/html": [
       "<div>\n",
       "<style scoped>\n",
       "    .dataframe tbody tr th:only-of-type {\n",
       "        vertical-align: middle;\n",
       "    }\n",
       "\n",
       "    .dataframe tbody tr th {\n",
       "        vertical-align: top;\n",
       "    }\n",
       "\n",
       "    .dataframe thead th {\n",
       "        text-align: right;\n",
       "    }\n",
       "</style>\n",
       "<table border=\"1\" class=\"dataframe\">\n",
       "  <thead>\n",
       "    <tr style=\"text-align: right;\">\n",
       "      <th></th>\n",
       "      <th>Year</th>\n",
       "      <th>Month</th>\n",
       "      <th>DayofMonth</th>\n",
       "      <th>DayOfWeek</th>\n",
       "      <th>DepTime</th>\n",
       "      <th>CRSDepTime</th>\n",
       "      <th>ArrTime</th>\n",
       "      <th>CRSArrTime</th>\n",
       "      <th>UniqueCarrier</th>\n",
       "      <th>FlightNum</th>\n",
       "      <th>TailNum</th>\n",
       "      <th>ActualElapsedTime</th>\n",
       "      <th>CRSElapsedTime</th>\n",
       "      <th>AirTime</th>\n",
       "      <th>ArrDelay</th>\n",
       "      <th>DepDelay</th>\n",
       "      <th>Origin</th>\n",
       "      <th>Dest</th>\n",
       "      <th>Distance</th>\n",
       "      <th>TaxiIn</th>\n",
       "      <th>TaxiOut</th>\n",
       "      <th>Cancelled</th>\n",
       "      <th>CancellationCode</th>\n",
       "      <th>Diverted</th>\n",
       "      <th>CarrierDelay</th>\n",
       "      <th>WeatherDelay</th>\n",
       "      <th>NASDelay</th>\n",
       "      <th>SecurityDelay</th>\n",
       "      <th>LateAircraftDelay</th>\n",
       "      <th>Tard</th>\n",
       "    </tr>\n",
       "    <tr>\n",
       "      <th>Unnamed: 0</th>\n",
       "      <th></th>\n",
       "      <th></th>\n",
       "      <th></th>\n",
       "      <th></th>\n",
       "      <th></th>\n",
       "      <th></th>\n",
       "      <th></th>\n",
       "      <th></th>\n",
       "      <th></th>\n",
       "      <th></th>\n",
       "      <th></th>\n",
       "      <th></th>\n",
       "      <th></th>\n",
       "      <th></th>\n",
       "      <th></th>\n",
       "      <th></th>\n",
       "      <th></th>\n",
       "      <th></th>\n",
       "      <th></th>\n",
       "      <th></th>\n",
       "      <th></th>\n",
       "      <th></th>\n",
       "      <th></th>\n",
       "      <th></th>\n",
       "      <th></th>\n",
       "      <th></th>\n",
       "      <th></th>\n",
       "      <th></th>\n",
       "      <th></th>\n",
       "      <th></th>\n",
       "    </tr>\n",
       "  </thead>\n",
       "  <tbody>\n",
       "    <tr>\n",
       "      <th>636553</th>\n",
       "      <td>2008</td>\n",
       "      <td>2</td>\n",
       "      <td>12</td>\n",
       "      <td>2</td>\n",
       "      <td>2251.0</td>\n",
       "      <td>2200</td>\n",
       "      <td>2341.0</td>\n",
       "      <td>2255</td>\n",
       "      <td>WN</td>\n",
       "      <td>64</td>\n",
       "      <td>N523SW</td>\n",
       "      <td>50.0</td>\n",
       "      <td>55.0</td>\n",
       "      <td>38.0</td>\n",
       "      <td>46.0</td>\n",
       "      <td>51.0</td>\n",
       "      <td>HOU</td>\n",
       "      <td>DAL</td>\n",
       "      <td>239</td>\n",
       "      <td>2.0</td>\n",
       "      <td>10.0</td>\n",
       "      <td>0</td>\n",
       "      <td>N</td>\n",
       "      <td>0</td>\n",
       "      <td>0.0</td>\n",
       "      <td>0.0</td>\n",
       "      <td>0.0</td>\n",
       "      <td>0.0</td>\n",
       "      <td>46.0</td>\n",
       "      <td>1</td>\n",
       "    </tr>\n",
       "    <tr>\n",
       "      <th>2470826</th>\n",
       "      <td>2008</td>\n",
       "      <td>5</td>\n",
       "      <td>28</td>\n",
       "      <td>3</td>\n",
       "      <td>1837.0</td>\n",
       "      <td>1755</td>\n",
       "      <td>1948.0</td>\n",
       "      <td>1915</td>\n",
       "      <td>WN</td>\n",
       "      <td>15</td>\n",
       "      <td>N780SW</td>\n",
       "      <td>71.0</td>\n",
       "      <td>80.0</td>\n",
       "      <td>62.0</td>\n",
       "      <td>33.0</td>\n",
       "      <td>42.0</td>\n",
       "      <td>BWI</td>\n",
       "      <td>MHT</td>\n",
       "      <td>377</td>\n",
       "      <td>3.0</td>\n",
       "      <td>6.0</td>\n",
       "      <td>0</td>\n",
       "      <td>N</td>\n",
       "      <td>0</td>\n",
       "      <td>0.0</td>\n",
       "      <td>0.0</td>\n",
       "      <td>0.0</td>\n",
       "      <td>0.0</td>\n",
       "      <td>33.0</td>\n",
       "      <td>1</td>\n",
       "    </tr>\n",
       "    <tr>\n",
       "      <th>2352374</th>\n",
       "      <td>2008</td>\n",
       "      <td>4</td>\n",
       "      <td>19</td>\n",
       "      <td>6</td>\n",
       "      <td>2041.0</td>\n",
       "      <td>1950</td>\n",
       "      <td>2256.0</td>\n",
       "      <td>2226</td>\n",
       "      <td>CO</td>\n",
       "      <td>1835</td>\n",
       "      <td>N35204</td>\n",
       "      <td>315.0</td>\n",
       "      <td>336.0</td>\n",
       "      <td>292.0</td>\n",
       "      <td>30.0</td>\n",
       "      <td>51.0</td>\n",
       "      <td>EWR</td>\n",
       "      <td>PHX</td>\n",
       "      <td>2133</td>\n",
       "      <td>4.0</td>\n",
       "      <td>19.0</td>\n",
       "      <td>0</td>\n",
       "      <td>N</td>\n",
       "      <td>0</td>\n",
       "      <td>8.0</td>\n",
       "      <td>0.0</td>\n",
       "      <td>0.0</td>\n",
       "      <td>0.0</td>\n",
       "      <td>22.0</td>\n",
       "      <td>1</td>\n",
       "    </tr>\n",
       "    <tr>\n",
       "      <th>2467909</th>\n",
       "      <td>2008</td>\n",
       "      <td>5</td>\n",
       "      <td>27</td>\n",
       "      <td>2</td>\n",
       "      <td>2232.0</td>\n",
       "      <td>2055</td>\n",
       "      <td>2350.0</td>\n",
       "      <td>2215</td>\n",
       "      <td>WN</td>\n",
       "      <td>3496</td>\n",
       "      <td>N735SA</td>\n",
       "      <td>78.0</td>\n",
       "      <td>80.0</td>\n",
       "      <td>69.0</td>\n",
       "      <td>95.0</td>\n",
       "      <td>97.0</td>\n",
       "      <td>HOU</td>\n",
       "      <td>MAF</td>\n",
       "      <td>441</td>\n",
       "      <td>3.0</td>\n",
       "      <td>6.0</td>\n",
       "      <td>0</td>\n",
       "      <td>N</td>\n",
       "      <td>0</td>\n",
       "      <td>6.0</td>\n",
       "      <td>0.0</td>\n",
       "      <td>0.0</td>\n",
       "      <td>0.0</td>\n",
       "      <td>89.0</td>\n",
       "      <td>1</td>\n",
       "    </tr>\n",
       "    <tr>\n",
       "      <th>4277277</th>\n",
       "      <td>2008</td>\n",
       "      <td>8</td>\n",
       "      <td>16</td>\n",
       "      <td>6</td>\n",
       "      <td>1552.0</td>\n",
       "      <td>1530</td>\n",
       "      <td>1722.0</td>\n",
       "      <td>1705</td>\n",
       "      <td>WN</td>\n",
       "      <td>828</td>\n",
       "      <td>N600WN</td>\n",
       "      <td>90.0</td>\n",
       "      <td>95.0</td>\n",
       "      <td>76.0</td>\n",
       "      <td>17.0</td>\n",
       "      <td>22.0</td>\n",
       "      <td>ABQ</td>\n",
       "      <td>SLC</td>\n",
       "      <td>493</td>\n",
       "      <td>6.0</td>\n",
       "      <td>8.0</td>\n",
       "      <td>0</td>\n",
       "      <td>N</td>\n",
       "      <td>0</td>\n",
       "      <td>4.0</td>\n",
       "      <td>0.0</td>\n",
       "      <td>0.0</td>\n",
       "      <td>0.0</td>\n",
       "      <td>13.0</td>\n",
       "      <td>1</td>\n",
       "    </tr>\n",
       "  </tbody>\n",
       "</table>\n",
       "</div>"
      ],
      "text/plain": [
       "            Year  Month  DayofMonth  DayOfWeek  DepTime  CRSDepTime  ArrTime  \\\n",
       "Unnamed: 0                                                                     \n",
       "636553      2008      2          12          2   2251.0        2200   2341.0   \n",
       "2470826     2008      5          28          3   1837.0        1755   1948.0   \n",
       "2352374     2008      4          19          6   2041.0        1950   2256.0   \n",
       "2467909     2008      5          27          2   2232.0        2055   2350.0   \n",
       "4277277     2008      8          16          6   1552.0        1530   1722.0   \n",
       "\n",
       "            CRSArrTime UniqueCarrier  FlightNum TailNum  ActualElapsedTime  \\\n",
       "Unnamed: 0                                                                   \n",
       "636553            2255            WN         64  N523SW               50.0   \n",
       "2470826           1915            WN         15  N780SW               71.0   \n",
       "2352374           2226            CO       1835  N35204              315.0   \n",
       "2467909           2215            WN       3496  N735SA               78.0   \n",
       "4277277           1705            WN        828  N600WN               90.0   \n",
       "\n",
       "            CRSElapsedTime  AirTime  ArrDelay  DepDelay Origin Dest  Distance  \\\n",
       "Unnamed: 0                                                                      \n",
       "636553                55.0     38.0      46.0      51.0    HOU  DAL       239   \n",
       "2470826               80.0     62.0      33.0      42.0    BWI  MHT       377   \n",
       "2352374              336.0    292.0      30.0      51.0    EWR  PHX      2133   \n",
       "2467909               80.0     69.0      95.0      97.0    HOU  MAF       441   \n",
       "4277277               95.0     76.0      17.0      22.0    ABQ  SLC       493   \n",
       "\n",
       "            TaxiIn  TaxiOut  Cancelled CancellationCode  Diverted  \\\n",
       "Unnamed: 0                                                          \n",
       "636553         2.0     10.0          0                N         0   \n",
       "2470826        3.0      6.0          0                N         0   \n",
       "2352374        4.0     19.0          0                N         0   \n",
       "2467909        3.0      6.0          0                N         0   \n",
       "4277277        6.0      8.0          0                N         0   \n",
       "\n",
       "            CarrierDelay  WeatherDelay  NASDelay  SecurityDelay  \\\n",
       "Unnamed: 0                                                        \n",
       "636553               0.0           0.0       0.0            0.0   \n",
       "2470826              0.0           0.0       0.0            0.0   \n",
       "2352374              8.0           0.0       0.0            0.0   \n",
       "2467909              6.0           0.0       0.0            0.0   \n",
       "4277277              4.0           0.0       0.0            0.0   \n",
       "\n",
       "            LateAircraftDelay  Tard  \n",
       "Unnamed: 0                           \n",
       "636553                   46.0     1  \n",
       "2470826                  33.0     1  \n",
       "2352374                  22.0     1  \n",
       "2467909                  89.0     1  \n",
       "4277277                  13.0     1  "
      ]
     },
     "execution_count": 13,
     "metadata": {},
     "output_type": "execute_result"
    }
   ],
   "source": [
    "from random import sample\n",
    "\n",
    "df_reduit = df.sample(frac=0.02, replace=True, random_state=1)\n",
    "\n",
    "df_reduit.head()"
   ]
  },
  {
   "cell_type": "code",
   "execution_count": 14,
   "metadata": {
    "execution": {
     "iopub.execute_input": "2022-01-21T09:09:33.175003Z",
     "iopub.status.busy": "2022-01-21T09:09:33.172316Z",
     "iopub.status.idle": "2022-01-21T09:09:33.194550Z",
     "shell.execute_reply": "2022-01-21T09:09:33.192755Z",
     "shell.execute_reply.started": "2022-01-21T09:09:33.174939Z"
    }
   },
   "outputs": [
    {
     "data": {
      "text/plain": [
       "1    0.975431\n",
       "0    0.024569\n",
       "Name: Tard, dtype: float64"
      ]
     },
     "execution_count": 14,
     "metadata": {},
     "output_type": "execute_result"
    }
   ],
   "source": [
    "# Mateixa proporció de vols amb retard\n",
    "df_reduit.Tard.value_counts(normalize=True)"
   ]
  },
  {
   "cell_type": "markdown",
   "metadata": {},
   "source": [
    "### Train test split\n",
    "\n",
    "Com que alguns models de classificació només accepten valors numèrics, hem d'excloure del subconjunt X les columnes no numèriques. \n",
    "\n",
    "Utilitzem la columna que hem ('Tard') creat com a target (y). Com que la columna Target està basada en la columna ArrDelay, aquesta també l'hem d'excloure del subconjunt X.\n"
   ]
  },
  {
   "cell_type": "markdown",
   "metadata": {},
   "source": [
    "#### Split"
   ]
  },
  {
   "cell_type": "code",
   "execution_count": 15,
   "metadata": {
    "execution": {
     "iopub.execute_input": "2022-01-21T09:09:33.199615Z",
     "iopub.status.busy": "2022-01-21T09:09:33.199018Z",
     "iopub.status.idle": "2022-01-21T09:09:34.552976Z",
     "shell.execute_reply": "2022-01-21T09:09:34.549553Z",
     "shell.execute_reply.started": "2022-01-21T09:09:33.199538Z"
    }
   },
   "outputs": [],
   "source": [
    "from sklearn.model_selection import train_test_split\n",
    "\n",
    "X = df_reduit[df_reduit.columns[~df_reduit.columns.isin(['ArrDelay', 'Tard','UniqueCarrier','TailNum','Origin','Dest','CancellationCode'])]]\n",
    "\n",
    "y = df_reduit['Tard']\n",
    "\n",
    "X_train, X_test, y_train, y_test = train_test_split(X, y, random_state=0, test_size=0.2, stratify = y) "
   ]
  },
  {
   "cell_type": "code",
   "execution_count": 16,
   "metadata": {
    "execution": {
     "iopub.execute_input": "2022-01-21T09:09:34.561548Z",
     "iopub.status.busy": "2022-01-21T09:09:34.560081Z",
     "iopub.status.idle": "2022-01-21T09:09:34.609930Z",
     "shell.execute_reply": "2022-01-21T09:09:34.608339Z",
     "shell.execute_reply.started": "2022-01-21T09:09:34.561493Z"
    }
   },
   "outputs": [
    {
     "name": "stdout",
     "output_type": "stream",
     "text": [
      "<class 'pandas.core.frame.DataFrame'>\n",
      "Int64Index: 24950 entries, 636553 to 6242851\n",
      "Data columns (total 23 columns):\n",
      " #   Column             Non-Null Count  Dtype  \n",
      "---  ------             --------------  -----  \n",
      " 0   Year               24950 non-null  int64  \n",
      " 1   Month              24950 non-null  int64  \n",
      " 2   DayofMonth         24950 non-null  int64  \n",
      " 3   DayOfWeek          24950 non-null  int64  \n",
      " 4   DepTime            24950 non-null  float64\n",
      " 5   CRSDepTime         24950 non-null  int64  \n",
      " 6   ArrTime            24950 non-null  float64\n",
      " 7   CRSArrTime         24950 non-null  int64  \n",
      " 8   FlightNum          24950 non-null  int64  \n",
      " 9   ActualElapsedTime  24950 non-null  float64\n",
      " 10  CRSElapsedTime     24950 non-null  float64\n",
      " 11  AirTime            24950 non-null  float64\n",
      " 12  DepDelay           24950 non-null  float64\n",
      " 13  Distance           24950 non-null  int64  \n",
      " 14  TaxiIn             24950 non-null  float64\n",
      " 15  TaxiOut            24950 non-null  float64\n",
      " 16  Cancelled          24950 non-null  int64  \n",
      " 17  Diverted           24950 non-null  int64  \n",
      " 18  CarrierDelay       24950 non-null  float64\n",
      " 19  WeatherDelay       24950 non-null  float64\n",
      " 20  NASDelay           24950 non-null  float64\n",
      " 21  SecurityDelay      24950 non-null  float64\n",
      " 22  LateAircraftDelay  24950 non-null  float64\n",
      "dtypes: float64(13), int64(10)\n",
      "memory usage: 4.6 MB\n"
     ]
    }
   ],
   "source": [
    "X.info()"
   ]
  },
  {
   "cell_type": "markdown",
   "metadata": {},
   "source": [
    "### Model 1 Regressió logística"
   ]
  },
  {
   "cell_type": "code",
   "execution_count": 17,
   "metadata": {
    "ExecuteTime": {
     "end_time": "2021-11-23T14:44:33.740783Z",
     "start_time": "2021-11-23T14:44:33.695204Z"
    },
    "execution": {
     "iopub.execute_input": "2022-01-21T09:09:34.613852Z",
     "iopub.status.busy": "2022-01-21T09:09:34.613200Z",
     "iopub.status.idle": "2022-01-21T09:09:35.116068Z",
     "shell.execute_reply": "2022-01-21T09:09:35.115055Z",
     "shell.execute_reply.started": "2022-01-21T09:09:34.613791Z"
    }
   },
   "outputs": [],
   "source": [
    "from sklearn.linear_model import LogisticRegression\n",
    "\n",
    "lr = LogisticRegression()\n",
    "lr = lr.fit(X_train, y_train)\n",
    "\n",
    "y_hat_lr = lr.predict(X_test)"
   ]
  },
  {
   "cell_type": "markdown",
   "metadata": {},
   "source": [
    "### Model 2 KNN"
   ]
  },
  {
   "cell_type": "code",
   "execution_count": 18,
   "metadata": {
    "execution": {
     "iopub.execute_input": "2022-01-21T09:09:35.118963Z",
     "iopub.status.busy": "2022-01-21T09:09:35.118403Z",
     "iopub.status.idle": "2022-01-21T09:09:41.126267Z",
     "shell.execute_reply": "2022-01-21T09:09:41.124041Z",
     "shell.execute_reply.started": "2022-01-21T09:09:35.118910Z"
    }
   },
   "outputs": [],
   "source": [
    "from sklearn.neighbors import KNeighborsClassifier\n",
    "\n",
    "knn = KNeighborsClassifier(n_neighbors=3)\n",
    "knn.fit(X_train, y_train)\n",
    "\n",
    "y_hat_knn = knn.predict(X_test)"
   ]
  },
  {
   "cell_type": "markdown",
   "metadata": {},
   "source": [
    "### Model 3 XGBoost"
   ]
  },
  {
   "cell_type": "code",
   "execution_count": 19,
   "metadata": {
    "execution": {
     "iopub.execute_input": "2022-01-21T09:09:41.129420Z",
     "iopub.status.busy": "2022-01-21T09:09:41.128900Z",
     "iopub.status.idle": "2022-01-21T09:09:44.313560Z",
     "shell.execute_reply": "2022-01-21T09:09:44.312327Z",
     "shell.execute_reply.started": "2022-01-21T09:09:41.129386Z"
    }
   },
   "outputs": [
    {
     "name": "stdout",
     "output_type": "stream",
     "text": [
      "[10:09:41] WARNING: /opt/concourse/worker/volumes/live/7a2b9f41-3287-451b-6691-43e9a6c0910f/volume/xgboost-split_1619728204606/work/src/learner.cc:1061: Starting in XGBoost 1.3.0, the default evaluation metric used with the objective 'binary:logistic' was changed from 'error' to 'logloss'. Explicitly set eval_metric if you'd like to restore the old behavior.\n"
     ]
    }
   ],
   "source": [
    "from xgboost import XGBClassifier\n",
    "\n",
    "xgb = XGBClassifier()\n",
    "xgb.fit(X_train, y_train)\n",
    "\n",
    "y_hat_xgb = xgb.predict(X_test)"
   ]
  },
  {
   "cell_type": "markdown",
   "metadata": {},
   "source": [
    "## Exercici 2. Compara els models de classificació utilitzant la precisió (accuracy), una matriu de confiança i d’altres mètriques més avançades."
   ]
  },
  {
   "cell_type": "markdown",
   "metadata": {},
   "source": [
    "Com que tenim un subconjunt de dades molt poc balancejades l'accuracy de tots els models serà probablement molt alt, ja que si els models prediuen que tots els vols arribaran tard, l'accuracy serà del 97% aprox. \n",
    "\n",
    "En casos amb dades poc balancejades hem de decidir a què donem més importància: volem que el model predigui molt bé la classe no predominant encara que això signifiqui predir un elevat nombre de casos com a False negative (el model prediu que no han arribat tard quan en realitat sí que han arribat tard), volem el contrari, predir molt bé la classe predominant o volem trobar un punt mig (el cas més habitual). Els casos de dades molt poc balancejades són usuals per exemple quan els bancs volen predir el risc que un client no pugui tornar un préstec. En aquest cas, el banc vol predir molt bé els clients que no podran tornar el préstec però també vol evitar ser massa restrictiu amb els clients que en realitat sí que seran capaços de tornar el préstec, ja que el benefici del banc prové d'aquestos clients. Per tant, el banc ha d'ajustar molt bé el model perquè no predigui gaires False positive (clients que no podran tornar el préstec però que el model prediu que sí) ni False negative (clients que sí que podran tornar el préstec, però que el model diu que no). En lloc de l'accuracy, en aquestos casos té més sentit estudiar una matriu de confiança o un gràfic amb la corba ROC AUC.\n",
    "\n",
    "Com observem en el càlcul i el gràfic de la corva ROC AUC, l'XGBoost és el model que millor prediu l'endarreriment dels vols, ja que és el que més s'aproxima a 1. La regressió logística ocupa la segona posició amb 0.92 i el model KNN l'última amb només 0.54. Per tant, el model KNN tot i tindre una accuracy del 97%, no és un model útil per detectar els vols que arribaran tard."
   ]
  },
  {
   "cell_type": "markdown",
   "metadata": {},
   "source": [
    "#### Acuracy score"
   ]
  },
  {
   "cell_type": "code",
   "execution_count": 20,
   "metadata": {
    "execution": {
     "iopub.execute_input": "2022-01-21T09:09:44.316548Z",
     "iopub.status.busy": "2022-01-21T09:09:44.316121Z",
     "iopub.status.idle": "2022-01-21T09:09:44.337944Z",
     "shell.execute_reply": "2022-01-21T09:09:44.336698Z",
     "shell.execute_reply.started": "2022-01-21T09:09:44.316498Z"
    }
   },
   "outputs": [
    {
     "name": "stdout",
     "output_type": "stream",
     "text": [
      "Logistic Reg.  :  0.974\n",
      "KNN  :  0.972\n",
      "XGBoost  :  0.995\n"
     ]
    }
   ],
   "source": [
    "from sklearn.metrics import accuracy_score\n",
    "accuracy_1 = {}\n",
    "accuracy_1['Logistic Reg.'] = accuracy_score(y_test, y_hat_lr)\n",
    "accuracy_1['KNN'] = accuracy_score(y_test, y_hat_knn)\n",
    "accuracy_1['XGBoost'] = accuracy_score(y_test, y_hat_xgb)\n",
    "for key, value in accuracy_1.items():\n",
    "    print(key, ' : ', format(value, '.3f'))"
   ]
  },
  {
   "cell_type": "markdown",
   "metadata": {},
   "source": [
    "#### Confusion matrix"
   ]
  },
  {
   "cell_type": "code",
   "execution_count": 21,
   "metadata": {
    "execution": {
     "iopub.execute_input": "2022-01-21T09:09:44.344445Z",
     "iopub.status.busy": "2022-01-21T09:09:44.343988Z",
     "iopub.status.idle": "2022-01-21T09:09:44.399461Z",
     "shell.execute_reply": "2022-01-21T09:09:44.397831Z",
     "shell.execute_reply.started": "2022-01-21T09:09:44.344386Z"
    }
   },
   "outputs": [
    {
     "name": "stdout",
     "output_type": "stream",
     "text": [
      "Confusion matrix Log. Reg.: \n",
      " [[   2  121]\n",
      " [   8 4859]]\n",
      "Confusion matrix KNN: \n",
      " [[   0  123]\n",
      " [  18 4849]]\n",
      "Confusion matrix XGB: \n",
      " [[ 100   23]\n",
      " [   2 4865]]\n"
     ]
    }
   ],
   "source": [
    "from sklearn.metrics import confusion_matrix\n",
    "\n",
    "cm_lr = confusion_matrix(y_test, y_hat_lr)\n",
    "cm_knn = confusion_matrix(y_test, y_hat_knn)\n",
    "cm_xgb = confusion_matrix(y_test, y_hat_xgb)\n",
    "print('Confusion matrix Log. Reg.: \\n', cm_lr)\n",
    "print('Confusion matrix KNN: \\n', cm_knn)\n",
    "print('Confusion matrix XGB: \\n', cm_xgb)"
   ]
  },
  {
   "cell_type": "markdown",
   "metadata": {},
   "source": [
    "#### Altres mètriques"
   ]
  },
  {
   "cell_type": "markdown",
   "metadata": {},
   "source": [
    "##### ROC AUC score"
   ]
  },
  {
   "cell_type": "code",
   "execution_count": 22,
   "metadata": {
    "execution": {
     "iopub.execute_input": "2022-01-21T09:09:44.406854Z",
     "iopub.status.busy": "2022-01-21T09:09:44.404647Z",
     "iopub.status.idle": "2022-01-21T09:09:47.320654Z",
     "shell.execute_reply": "2022-01-21T09:09:47.319114Z",
     "shell.execute_reply.started": "2022-01-21T09:09:44.406770Z"
    }
   },
   "outputs": [
    {
     "name": "stdout",
     "output_type": "stream",
     "text": [
      "AUC Log. Reg.  :  0.91676\n",
      "AUC KNN  :  0.54278\n",
      "AUC XGB  :  0.99911\n"
     ]
    }
   ],
   "source": [
    "from sklearn.metrics import roc_auc_score\n",
    "\n",
    "ROC_AUC_1 = {}\n",
    "ROC_AUC_1['AUC Log. Reg.'] = roc_auc_score(y_test, lr.predict_proba(X_test)[:, 1])\n",
    "ROC_AUC_1['AUC KNN'] = roc_auc_score(y_test, knn.predict_proba(X_test)[:, 1])\n",
    "ROC_AUC_1['AUC XGB'] = roc_auc_score(y_test, xgb.predict_proba(X_test)[:, 1])\n",
    "\n",
    "for key, value in ROC_AUC_1.items():\n",
    "    print(key, ' : ', format(value, '.5f'))"
   ]
  },
  {
   "cell_type": "markdown",
   "metadata": {},
   "source": [
    "### Fem un plot amb les corbes"
   ]
  },
  {
   "cell_type": "code",
   "execution_count": 23,
   "metadata": {
    "execution": {
     "iopub.execute_input": "2022-01-21T09:09:47.328705Z",
     "iopub.status.busy": "2022-01-21T09:09:47.325581Z",
     "iopub.status.idle": "2022-01-21T09:09:47.732013Z",
     "shell.execute_reply": "2022-01-21T09:09:47.730715Z",
     "shell.execute_reply.started": "2022-01-21T09:09:47.328631Z"
    }
   },
   "outputs": [
    {
     "data": {
      "text/plain": [
       "<sklearn.metrics._plot.roc_curve.RocCurveDisplay at 0x7f96a1e9be20>"
      ]
     },
     "execution_count": 23,
     "metadata": {},
     "output_type": "execute_result"
    },
    {
     "data": {
      "image/png": "[encoded data removed]",
      "text/plain": [
       "<Figure size 432x288 with 1 Axes>"
      ]
     },
     "metadata": {
      "needs_background": "light"
     },
     "output_type": "display_data"
    }
   ],
   "source": [
    "from sklearn import metrics \n",
    "\n",
    "metrics.plot_roc_curve(lr, X_test, y_test)"
   ]
  },
  {
   "cell_type": "code",
   "execution_count": 24,
   "metadata": {
    "execution": {
     "iopub.execute_input": "2022-01-21T09:09:47.735499Z",
     "iopub.status.busy": "2022-01-21T09:09:47.734998Z",
     "iopub.status.idle": "2022-01-21T09:09:50.875289Z",
     "shell.execute_reply": "2022-01-21T09:09:50.874070Z",
     "shell.execute_reply.started": "2022-01-21T09:09:47.735465Z"
    }
   },
   "outputs": [
    {
     "data": {
      "text/plain": [
       "<sklearn.metrics._plot.roc_curve.RocCurveDisplay at 0x7f96a23ee850>"
      ]
     },
     "execution_count": 24,
     "metadata": {},
     "output_type": "execute_result"
    },
    {
     "data": {
      "image/png": "[encoded data removed]",
      "text/plain": [
       "<Figure size 432x288 with 1 Axes>"
      ]
     },
     "metadata": {
      "needs_background": "light"
     },
     "output_type": "display_data"
    }
   ],
   "source": [
    "metrics.plot_roc_curve(knn, X_test, y_test) "
   ]
  },
  {
   "cell_type": "code",
   "execution_count": 25,
   "metadata": {
    "execution": {
     "iopub.execute_input": "2022-01-21T09:09:50.879439Z",
     "iopub.status.busy": "2022-01-21T09:09:50.878150Z",
     "iopub.status.idle": "2022-01-21T09:09:51.240873Z",
     "shell.execute_reply": "2022-01-21T09:09:51.239754Z",
     "shell.execute_reply.started": "2022-01-21T09:09:50.879372Z"
    }
   },
   "outputs": [
    {
     "data": {
      "text/plain": [
       "<sklearn.metrics._plot.roc_curve.RocCurveDisplay at 0x7f9671d9eca0>"
      ]
     },
     "execution_count": 25,
     "metadata": {},
     "output_type": "execute_result"
    },
    {
     "data": {
      "image/png": "[encoded data removed]",
      "text/plain": [
       "<Figure size 432x288 with 1 Axes>"
      ]
     },
     "metadata": {
      "needs_background": "light"
     },
     "output_type": "display_data"
    }
   ],
   "source": [
    "metrics.plot_roc_curve(xgb, X_test, y_test) "
   ]
  },
  {
   "cell_type": "markdown",
   "metadata": {},
   "source": [
    "## Exercici 3. Entrena’ls utilitzant els diferents paràmetres que admeten."
   ]
  },
  {
   "cell_type": "markdown",
   "metadata": {},
   "source": [
    "Si coneixem els diferents paràmetres que admeten els models podem utilitzar Grid Search per descobrir amb quina combinació de paràmetres obtenem una millor predicció en cada model. \n",
    "\n",
    "En tots els models es poden modificar una sèrie de parametres més extensa, pero en aquest exercici només se n'han modificat alguns a causa de la limitada potència computacional de què disposem.\n",
    "\n",
    "Amb això, la millor combinació, pel que fa al ROC AUC és de la regressió (1.0) amb newton-cg com a solver, l2 com a penalty i sense class_weight.\n",
    "\n",
    "Pel que fa a l'XGBoost el millor resultat obtingut és de 0.998229 amb gbtree com a booster, 6 com a max_depth i 50 com a scale_pos_weight.\n",
    "\n",
    "Finalment, la millor combinació obtinguda amb el KNN la formen 7 neighbors, 'distance' com a weights i 'minkowski' com a metric."
   ]
  },
  {
   "cell_type": "markdown",
   "metadata": {},
   "source": [
    "#### Regressió logística"
   ]
  },
  {
   "cell_type": "code",
   "execution_count": 26,
   "metadata": {
    "execution": {
     "iopub.execute_input": "2022-01-21T09:09:51.257075Z",
     "iopub.status.busy": "2022-01-21T09:09:51.256608Z",
     "iopub.status.idle": "2022-01-21T09:14:03.778684Z",
     "shell.execute_reply": "2022-01-21T09:14:03.777174Z",
     "shell.execute_reply.started": "2022-01-21T09:09:51.257041Z"
    }
   },
   "outputs": [
    {
     "name": "stdout",
     "output_type": "stream",
     "text": [
      "Best: 1.000000 using {'class_weight': None, 'penalty': 'l2', 'solver': 'newton-cg'}\n",
      "1.000000 (0.000000) with: {'class_weight': None, 'penalty': 'l2', 'solver': 'newton-cg'}\n",
      "0.955780 (0.006662) with: {'class_weight': None, 'penalty': 'l2', 'solver': 'lbfgs'}\n",
      "1.000000 (0.000000) with: {'class_weight': None, 'penalty': 'l2', 'solver': 'liblinear'}\n",
      "0.907349 (0.014788) with: {'class_weight': None, 'penalty': 'l2', 'solver': 'saga'}\n",
      "0.000000 (0.000000) with: {'class_weight': None, 'penalty': 'l1', 'solver': 'newton-cg'}\n",
      "0.000000 (0.000000) with: {'class_weight': None, 'penalty': 'l1', 'solver': 'lbfgs'}\n",
      "0.996626 (0.001122) with: {'class_weight': None, 'penalty': 'l1', 'solver': 'liblinear'}\n",
      "0.907416 (0.014804) with: {'class_weight': None, 'penalty': 'l1', 'solver': 'saga'}\n",
      "0.000000 (0.000000) with: {'class_weight': None, 'penalty': 'elasticnet', 'solver': 'newton-cg'}\n",
      "0.000000 (0.000000) with: {'class_weight': None, 'penalty': 'elasticnet', 'solver': 'lbfgs'}\n",
      "0.000000 (0.000000) with: {'class_weight': None, 'penalty': 'elasticnet', 'solver': 'liblinear'}\n",
      "0.000000 (0.000000) with: {'class_weight': None, 'penalty': 'elasticnet', 'solver': 'saga'}\n",
      "1.000000 (0.000000) with: {'class_weight': 'balanced', 'penalty': 'l2', 'solver': 'newton-cg'}\n",
      "0.977938 (0.006380) with: {'class_weight': 'balanced', 'penalty': 'l2', 'solver': 'lbfgs'}\n",
      "1.000000 (0.000000) with: {'class_weight': 'balanced', 'penalty': 'l2', 'solver': 'liblinear'}\n",
      "0.860747 (0.068543) with: {'class_weight': 'balanced', 'penalty': 'l2', 'solver': 'saga'}\n",
      "0.000000 (0.000000) with: {'class_weight': 'balanced', 'penalty': 'l1', 'solver': 'newton-cg'}\n",
      "0.000000 (0.000000) with: {'class_weight': 'balanced', 'penalty': 'l1', 'solver': 'lbfgs'}\n",
      "0.995155 (0.002562) with: {'class_weight': 'balanced', 'penalty': 'l1', 'solver': 'liblinear'}\n",
      "0.916036 (0.025750) with: {'class_weight': 'balanced', 'penalty': 'l1', 'solver': 'saga'}\n",
      "0.000000 (0.000000) with: {'class_weight': 'balanced', 'penalty': 'elasticnet', 'solver': 'newton-cg'}\n",
      "0.000000 (0.000000) with: {'class_weight': 'balanced', 'penalty': 'elasticnet', 'solver': 'lbfgs'}\n",
      "0.000000 (0.000000) with: {'class_weight': 'balanced', 'penalty': 'elasticnet', 'solver': 'liblinear'}\n",
      "0.000000 (0.000000) with: {'class_weight': 'balanced', 'penalty': 'elasticnet', 'solver': 'saga'}\n",
      "1.000000 (0.000000) with: {'class_weight': {0: 1, 1: 10}, 'penalty': 'l2', 'solver': 'newton-cg'}\n",
      "0.956910 (0.008344) with: {'class_weight': {0: 1, 1: 10}, 'penalty': 'l2', 'solver': 'lbfgs'}\n",
      "0.996406 (0.005082) with: {'class_weight': {0: 1, 1: 10}, 'penalty': 'l2', 'solver': 'liblinear'}\n",
      "0.907872 (0.014816) with: {'class_weight': {0: 1, 1: 10}, 'penalty': 'l2', 'solver': 'saga'}\n",
      "0.000000 (0.000000) with: {'class_weight': {0: 1, 1: 10}, 'penalty': 'l1', 'solver': 'newton-cg'}\n",
      "0.000000 (0.000000) with: {'class_weight': {0: 1, 1: 10}, 'penalty': 'l1', 'solver': 'lbfgs'}\n",
      "0.996191 (0.001477) with: {'class_weight': {0: 1, 1: 10}, 'penalty': 'l1', 'solver': 'liblinear'}\n",
      "0.907867 (0.014854) with: {'class_weight': {0: 1, 1: 10}, 'penalty': 'l1', 'solver': 'saga'}\n",
      "0.000000 (0.000000) with: {'class_weight': {0: 1, 1: 10}, 'penalty': 'elasticnet', 'solver': 'newton-cg'}\n",
      "0.000000 (0.000000) with: {'class_weight': {0: 1, 1: 10}, 'penalty': 'elasticnet', 'solver': 'lbfgs'}\n",
      "0.000000 (0.000000) with: {'class_weight': {0: 1, 1: 10}, 'penalty': 'elasticnet', 'solver': 'liblinear'}\n",
      "0.000000 (0.000000) with: {'class_weight': {0: 1, 1: 10}, 'penalty': 'elasticnet', 'solver': 'saga'}\n",
      "1.000000 (0.000000) with: {'class_weight': {0: 1, 1: 30}, 'penalty': 'l2', 'solver': 'newton-cg'}\n",
      "0.972521 (0.003429) with: {'class_weight': {0: 1, 1: 30}, 'penalty': 'l2', 'solver': 'lbfgs'}\n",
      "0.995224 (0.005585) with: {'class_weight': {0: 1, 1: 30}, 'penalty': 'l2', 'solver': 'liblinear'}\n",
      "0.848542 (0.085235) with: {'class_weight': {0: 1, 1: 30}, 'penalty': 'l2', 'solver': 'saga'}\n",
      "0.000000 (0.000000) with: {'class_weight': {0: 1, 1: 30}, 'penalty': 'l1', 'solver': 'newton-cg'}\n",
      "0.000000 (0.000000) with: {'class_weight': {0: 1, 1: 30}, 'penalty': 'l1', 'solver': 'lbfgs'}\n",
      "0.997946 (0.001828) with: {'class_weight': {0: 1, 1: 30}, 'penalty': 'l1', 'solver': 'liblinear'}\n",
      "0.688620 (0.119785) with: {'class_weight': {0: 1, 1: 30}, 'penalty': 'l1', 'solver': 'saga'}\n",
      "0.000000 (0.000000) with: {'class_weight': {0: 1, 1: 30}, 'penalty': 'elasticnet', 'solver': 'newton-cg'}\n",
      "0.000000 (0.000000) with: {'class_weight': {0: 1, 1: 30}, 'penalty': 'elasticnet', 'solver': 'lbfgs'}\n",
      "0.000000 (0.000000) with: {'class_weight': {0: 1, 1: 30}, 'penalty': 'elasticnet', 'solver': 'liblinear'}\n",
      "0.000000 (0.000000) with: {'class_weight': {0: 1, 1: 30}, 'penalty': 'elasticnet', 'solver': 'saga'}\n"
     ]
    },
    {
     "data": {
      "text/plain": [
       "{\"GridSearch lr{'class_weight': None, 'penalty': 'l2', 'solver': 'newton-cg'}\": 1.0}"
      ]
     },
     "execution_count": 26,
     "metadata": {},
     "output_type": "execute_result"
    }
   ],
   "source": [
    "from sklearn.model_selection import GridSearchCV\n",
    "\n",
    "losses = {}\n",
    "\n",
    "#Creating the grid for gridsearch\n",
    "param_grid = {}\n",
    "param_grid['solver'] = ['newton-cg', 'lbfgs','liblinear', 'saga']\n",
    "param_grid['penalty'] = ['l2', 'l1', 'elasticnet']\n",
    "param_grid['class_weight'] = [None,'balanced', {0:1,1:10},{0:1,1:30}]\n",
    "\n",
    "grid_search_lr = GridSearchCV(LogisticRegression(), param_grid, n_jobs=-1, cv=3, scoring='roc_auc', error_score=0)\n",
    "grid_result_lr = grid_search_lr.fit(X, y)\n",
    "\n",
    "# summarize results\n",
    "print(\"Best: %f using %s\" % (grid_result_lr.best_score_, grid_result_lr.best_params_))\n",
    "means = grid_result_lr.cv_results_['mean_test_score']\n",
    "stds = grid_result_lr.cv_results_['std_test_score']\n",
    "params = grid_result_lr.cv_results_['params']\n",
    "for mean, stdev, param in zip(means, stds, params):\n",
    "    print(\"%f (%f) with: %r\" % (mean, stdev, param))\n",
    "\n",
    "#Update the dict    \n",
    "losses['GridSearch lr' + str(grid_result_lr.best_params_)] = grid_result_lr.best_score_\n",
    "losses"
   ]
  },
  {
   "cell_type": "markdown",
   "metadata": {},
   "source": [
    "#### KNN"
   ]
  },
  {
   "cell_type": "code",
   "execution_count": 27,
   "metadata": {
    "execution": {
     "iopub.execute_input": "2022-01-21T09:14:03.789253Z",
     "iopub.status.busy": "2022-01-21T09:14:03.788740Z",
     "iopub.status.idle": "2022-01-21T09:56:19.590437Z",
     "shell.execute_reply": "2022-01-21T09:56:19.575075Z",
     "shell.execute_reply.started": "2022-01-21T09:14:03.789205Z"
    }
   },
   "outputs": [
    {
     "name": "stdout",
     "output_type": "stream",
     "text": [
      "Best: 0.566336 using {'metric': 'minkowski', 'n_neighbors': 7, 'weights': 'distance'}\n",
      "0.542641 (0.003280) with: {'metric': 'minkowski', 'n_neighbors': 3, 'weights': 'distance'}\n",
      "0.541630 (0.003368) with: {'metric': 'minkowski', 'n_neighbors': 3, 'weights': 'uniform'}\n",
      "0.558007 (0.012502) with: {'metric': 'minkowski', 'n_neighbors': 5, 'weights': 'distance'}\n",
      "0.555774 (0.012198) with: {'metric': 'minkowski', 'n_neighbors': 5, 'weights': 'uniform'}\n",
      "0.566336 (0.013850) with: {'metric': 'minkowski', 'n_neighbors': 7, 'weights': 'distance'}\n",
      "0.562425 (0.013324) with: {'metric': 'minkowski', 'n_neighbors': 7, 'weights': 'uniform'}\n",
      "0.542641 (0.003280) with: {'metric': 'euclidean', 'n_neighbors': 3, 'weights': 'distance'}\n",
      "0.541630 (0.003368) with: {'metric': 'euclidean', 'n_neighbors': 3, 'weights': 'uniform'}\n",
      "0.558007 (0.012502) with: {'metric': 'euclidean', 'n_neighbors': 5, 'weights': 'distance'}\n",
      "0.555774 (0.012198) with: {'metric': 'euclidean', 'n_neighbors': 5, 'weights': 'uniform'}\n",
      "0.566336 (0.013850) with: {'metric': 'euclidean', 'n_neighbors': 7, 'weights': 'distance'}\n",
      "0.562425 (0.013324) with: {'metric': 'euclidean', 'n_neighbors': 7, 'weights': 'uniform'}\n"
     ]
    },
    {
     "data": {
      "text/plain": [
       "{\"GridSearch lr{'class_weight': None, 'penalty': 'l2', 'solver': 'newton-cg'}\": 1.0,\n",
       " \"GridSearch knn{'metric': 'minkowski', 'n_neighbors': 7, 'weights': 'distance'}\": 0.5663356889979276}"
      ]
     },
     "execution_count": 27,
     "metadata": {},
     "output_type": "execute_result"
    }
   ],
   "source": [
    "# Creating the grid\n",
    "param_grid = {}\n",
    "param_grid['n_neighbors'] = [3,5,7]\n",
    "param_grid['weights'] = ['distance', 'uniform']\n",
    "param_grid['metric'] = ['minkowski', 'euclidean']\n",
    "\n",
    "grid_search_knn = GridSearchCV(KNeighborsClassifier(), param_grid, n_jobs=-1, cv=3, scoring='roc_auc', error_score=0)\n",
    "grid_result_knn = grid_search_knn.fit(X, y)\n",
    "   \n",
    "# summarize results\n",
    "print(\"Best: %f using %s\" % (grid_result_knn.best_score_, grid_result_knn.best_params_))\n",
    "means = grid_result_knn.cv_results_['mean_test_score']\n",
    "stds = grid_result_knn.cv_results_['std_test_score']\n",
    "params = grid_result_knn.cv_results_['params']\n",
    "for mean, stdev, param in zip(means, stds, params):\n",
    "    print(\"%f (%f) with: %r\" % (mean, stdev, param))\n",
    "    \n",
    "losses['GridSearch knn'+ str(grid_result_knn.best_params_)] = grid_result_knn.best_score_\n",
    "losses"
   ]
  },
  {
   "cell_type": "markdown",
   "metadata": {},
   "source": [
    "#### XGB"
   ]
  },
  {
   "cell_type": "code",
   "execution_count": 28,
   "metadata": {
    "execution": {
     "iopub.execute_input": "2022-01-21T09:56:19.686814Z",
     "iopub.status.busy": "2022-01-21T09:56:19.681354Z",
     "iopub.status.idle": "2022-01-21T09:57:50.336516Z",
     "shell.execute_reply": "2022-01-21T09:57:50.333808Z",
     "shell.execute_reply.started": "2022-01-21T09:56:19.686693Z"
    }
   },
   "outputs": [
    {
     "name": "stdout",
     "output_type": "stream",
     "text": [
      "Best: 0.998229 using {'booster': 'gbtree', 'max_depth': 6, 'scale_pos_weight': 50}\n",
      "0.995303 (0.000590) with: {'booster': 'gbtree', 'max_depth': 2, 'scale_pos_weight': 1}\n",
      "0.993658 (0.000780) with: {'booster': 'gbtree', 'max_depth': 2, 'scale_pos_weight': 10}\n",
      "0.991143 (0.001353) with: {'booster': 'gbtree', 'max_depth': 2, 'scale_pos_weight': 50}\n",
      "0.991334 (0.000903) with: {'booster': 'gbtree', 'max_depth': 2, 'scale_pos_weight': 100}\n",
      "0.997926 (0.000713) with: {'booster': 'gbtree', 'max_depth': 4, 'scale_pos_weight': 1}\n",
      "0.998206 (0.000435) with: {'booster': 'gbtree', 'max_depth': 4, 'scale_pos_weight': 10}\n",
      "0.997631 (0.000310) with: {'booster': 'gbtree', 'max_depth': 4, 'scale_pos_weight': 50}\n",
      "0.997282 (0.000699) with: {'booster': 'gbtree', 'max_depth': 4, 'scale_pos_weight': 100}\n",
      "0.997813 (0.000447) with: {'booster': 'gbtree', 'max_depth': 6, 'scale_pos_weight': 1}\n",
      "0.998101 (0.000507) with: {'booster': 'gbtree', 'max_depth': 6, 'scale_pos_weight': 10}\n",
      "0.998229 (0.000371) with: {'booster': 'gbtree', 'max_depth': 6, 'scale_pos_weight': 50}\n",
      "0.998226 (0.000488) with: {'booster': 'gbtree', 'max_depth': 6, 'scale_pos_weight': 100}\n",
      "0.997563 (0.000472) with: {'booster': 'gbtree', 'max_depth': 8, 'scale_pos_weight': 1}\n",
      "0.997640 (0.000450) with: {'booster': 'gbtree', 'max_depth': 8, 'scale_pos_weight': 10}\n",
      "0.997842 (0.000431) with: {'booster': 'gbtree', 'max_depth': 8, 'scale_pos_weight': 50}\n",
      "0.997869 (0.000452) with: {'booster': 'gbtree', 'max_depth': 8, 'scale_pos_weight': 100}\n",
      "0.994509 (0.000539) with: {'booster': 'gblinear', 'max_depth': 2, 'scale_pos_weight': 1}\n",
      "0.994711 (0.000738) with: {'booster': 'gblinear', 'max_depth': 2, 'scale_pos_weight': 10}\n",
      "0.994268 (0.000901) with: {'booster': 'gblinear', 'max_depth': 2, 'scale_pos_weight': 50}\n",
      "0.994387 (0.000860) with: {'booster': 'gblinear', 'max_depth': 2, 'scale_pos_weight': 100}\n",
      "0.994654 (0.000862) with: {'booster': 'gblinear', 'max_depth': 4, 'scale_pos_weight': 1}\n",
      "0.994415 (0.000599) with: {'booster': 'gblinear', 'max_depth': 4, 'scale_pos_weight': 10}\n",
      "0.994371 (0.000923) with: {'booster': 'gblinear', 'max_depth': 4, 'scale_pos_weight': 50}\n",
      "0.994488 (0.000979) with: {'booster': 'gblinear', 'max_depth': 4, 'scale_pos_weight': 100}\n",
      "0.994735 (0.000908) with: {'booster': 'gblinear', 'max_depth': 6, 'scale_pos_weight': 1}\n",
      "0.994685 (0.000423) with: {'booster': 'gblinear', 'max_depth': 6, 'scale_pos_weight': 10}\n",
      "0.994394 (0.000550) with: {'booster': 'gblinear', 'max_depth': 6, 'scale_pos_weight': 50}\n",
      "0.994129 (0.000943) with: {'booster': 'gblinear', 'max_depth': 6, 'scale_pos_weight': 100}\n",
      "0.995330 (0.000248) with: {'booster': 'gblinear', 'max_depth': 8, 'scale_pos_weight': 1}\n",
      "0.994649 (0.000863) with: {'booster': 'gblinear', 'max_depth': 8, 'scale_pos_weight': 10}\n",
      "0.994243 (0.000521) with: {'booster': 'gblinear', 'max_depth': 8, 'scale_pos_weight': 50}\n",
      "0.993570 (0.000897) with: {'booster': 'gblinear', 'max_depth': 8, 'scale_pos_weight': 100}\n"
     ]
    },
    {
     "data": {
      "text/plain": [
       "{\"GridSearch lr{'class_weight': None, 'penalty': 'l2', 'solver': 'newton-cg'}\": 1.0,\n",
       " \"GridSearch knn{'metric': 'minkowski', 'n_neighbors': 7, 'weights': 'distance'}\": 0.5663356889979276,\n",
       " \"GridSearch xgb{'booster': 'gbtree', 'max_depth': 6, 'scale_pos_weight': 50}\": 0.9982293899975875}"
      ]
     },
     "execution_count": 28,
     "metadata": {},
     "output_type": "execute_result"
    }
   ],
   "source": [
    "param_grid = {}\n",
    "param_grid['booster'] = ['gbtree', 'gblinear']\n",
    "param_grid['max_depth'] = [2, 4, 6, 8]\n",
    "param_grid['scale_pos_weight'] = [1, 10, 50, 100]\n",
    "\n",
    "grid_search_xgb = GridSearchCV(XGBClassifier(eval_metric='logloss'), param_grid, n_jobs=-1, cv=3, scoring='roc_auc', error_score=0)\n",
    "grid_result_xgb = grid_search_xgb.fit(X_train, y_train)\n",
    "\n",
    "# summarize results\n",
    "print(\"Best: %f using %s\" % (grid_result_xgb.best_score_, grid_result_xgb.best_params_))\n",
    "means = grid_result_xgb.cv_results_['mean_test_score']\n",
    "stds = grid_result_xgb.cv_results_['std_test_score']\n",
    "params = grid_result_xgb.cv_results_['params']\n",
    "for mean, stdev, param in zip(means, stds, params):\n",
    "    print(\"%f (%f) with: %r\" % (mean, stdev, param))\n",
    "\n",
    "losses['GridSearch xgb'+ str(grid_result_xgb.best_params_)] = grid_result_xgb.best_score_\n",
    "losses"
   ]
  },
  {
   "cell_type": "markdown",
   "metadata": {},
   "source": [
    "## Exercici 4. Compara el seu rendiment utilitzant l’aproximació traint/test o cross-validation."
   ]
  },
  {
   "cell_type": "markdown",
   "metadata": {},
   "source": [
    "En l'exercici anterior, en tots els casos podem veure com tot i utilitzant els paràmetres per defecte del model ('booster': 'gbtree', 'max_depth': 6, 'scale_pos_weight': 1, en el cas de l'XGBoost, per exemple), el score de ROC AUC és lleugerament diferent al model del primer exercici. Això es deu a que en el primer cas hem fet la validació només amb el test subset i en l'exercici 3 hem utilitzat GridSearch, que inclou cross validation, és a dir, validació interna. Quan s'utilitza la cross validation el score sol ser una mica inferior al score del test subset però ens permet evitar el sobreentrenament del model.\n",
    " \n",
    "ROC AUC Default params *Log Reg* Exercici 1: **0.916765**\n",
    "\n",
    "ROC AUC Default params *Log Reg* Exercici 3: **0.955780**\n",
    "\n",
    "ROC AUC Default params *KNN* Exercici 1: **0.542784**\n",
    "\n",
    "ROC AUC Default params *KNN* Exercici 3: **0.541630**\n",
    "\n",
    "ROC AUC Default params *XGB* Exercici 1: **0.999113**\n",
    "\n",
    "ROC AUC Default params *XGB* Exercici 3: **0.997813**\n"
   ]
  },
  {
   "cell_type": "code",
   "execution_count": 81,
   "metadata": {
    "execution": {
     "iopub.execute_input": "2022-01-22T18:31:33.084018Z",
     "iopub.status.busy": "2022-01-22T18:31:33.083433Z",
     "iopub.status.idle": "2022-01-22T18:31:33.157489Z",
     "shell.execute_reply": "2022-01-22T18:31:33.153343Z",
     "shell.execute_reply.started": "2022-01-22T18:31:33.083967Z"
    }
   },
   "outputs": [
    {
     "name": "stdout",
     "output_type": "stream",
     "text": [
      "AUC Log. Reg.  :  0.916765\n",
      "AUC KNN  :  0.542784\n",
      "AUC XGB  :  0.999113\n"
     ]
    }
   ],
   "source": [
    "# ROC AUC default params\n",
    "for key, value in ROC_AUC_1.items():\n",
    "    print(key, ' : ', format(value, '.6f'))"
   ]
  },
  {
   "cell_type": "markdown",
   "metadata": {},
   "source": [
    "## Exercici 5. Realitza algun procés d’enginyeria de variables per millorar-ne la predicció"
   ]
  },
  {
   "cell_type": "markdown",
   "metadata": {},
   "source": [
    "En el cas dels models de classificació també podem transformar les columnes objecte en columnes numèriques per poder utilitzar aquesta informació per ajudar el model a predir millor. Per fer-ho analitzem el valor que aporta cadascuna de les columnes numèriques:\n",
    "\n",
    "- Cancellation code només té un valor, pel que no aporta valor al model i no cal incloure'l. \n",
    "\n",
    "- Com que UniqueCarrier només té 20 valors differents podem crear columnes dummy per convertir la columna d'objecte a integer. \n",
    "\n",
    "- Tailnum, Origin i Dest tenen tants valors no numèrics diferents que no els anem a utilitzar per a la predicció."
   ]
  },
  {
   "cell_type": "code",
   "execution_count": 37,
   "metadata": {
    "execution": {
     "iopub.execute_input": "2022-01-21T10:33:03.288847Z",
     "iopub.status.busy": "2022-01-21T10:33:03.285721Z",
     "iopub.status.idle": "2022-01-21T10:33:03.800960Z",
     "shell.execute_reply": "2022-01-21T10:33:03.797463Z",
     "shell.execute_reply.started": "2022-01-21T10:33:03.288778Z"
    }
   },
   "outputs": [
    {
     "data": {
      "text/plain": [
       "1"
      ]
     },
     "execution_count": 37,
     "metadata": {},
     "output_type": "execute_result"
    }
   ],
   "source": [
    "df_reduit.CancellationCode.nunique()"
   ]
  },
  {
   "cell_type": "code",
   "execution_count": 38,
   "metadata": {
    "execution": {
     "iopub.execute_input": "2022-01-21T10:33:03.811028Z",
     "iopub.status.busy": "2022-01-21T10:33:03.809162Z",
     "iopub.status.idle": "2022-01-21T10:33:03.873681Z",
     "shell.execute_reply": "2022-01-21T10:33:03.871936Z",
     "shell.execute_reply.started": "2022-01-21T10:33:03.810975Z"
    }
   },
   "outputs": [
    {
     "data": {
      "text/plain": [
       "20"
      ]
     },
     "execution_count": 38,
     "metadata": {},
     "output_type": "execute_result"
    }
   ],
   "source": [
    "df_reduit.UniqueCarrier.nunique()"
   ]
  },
  {
   "cell_type": "code",
   "execution_count": 39,
   "metadata": {
    "execution": {
     "iopub.execute_input": "2022-01-21T10:33:03.890554Z",
     "iopub.status.busy": "2022-01-21T10:33:03.890013Z",
     "iopub.status.idle": "2022-01-21T10:33:04.203773Z",
     "shell.execute_reply": "2022-01-21T10:33:04.199531Z",
     "shell.execute_reply.started": "2022-01-21T10:33:03.890504Z"
    }
   },
   "outputs": [
    {
     "data": {
      "text/plain": [
       "4885"
      ]
     },
     "execution_count": 39,
     "metadata": {},
     "output_type": "execute_result"
    }
   ],
   "source": [
    "df_reduit.TailNum.nunique()"
   ]
  },
  {
   "cell_type": "markdown",
   "metadata": {},
   "source": [
    "#### Dummies"
   ]
  },
  {
   "cell_type": "code",
   "execution_count": 40,
   "metadata": {
    "execution": {
     "iopub.execute_input": "2022-01-21T10:33:04.210853Z",
     "iopub.status.busy": "2022-01-21T10:33:04.209933Z",
     "iopub.status.idle": "2022-01-21T10:33:04.371423Z",
     "shell.execute_reply": "2022-01-21T10:33:04.366887Z",
     "shell.execute_reply.started": "2022-01-21T10:33:04.210777Z"
    }
   },
   "outputs": [],
   "source": [
    "df_dum = pd.get_dummies(df_reduit['UniqueCarrier'], drop_first=True)"
   ]
  },
  {
   "cell_type": "code",
   "execution_count": 41,
   "metadata": {
    "execution": {
     "iopub.execute_input": "2022-01-21T10:33:04.375222Z",
     "iopub.status.busy": "2022-01-21T10:33:04.374798Z",
     "iopub.status.idle": "2022-01-21T10:33:05.192270Z",
     "shell.execute_reply": "2022-01-21T10:33:05.190875Z",
     "shell.execute_reply.started": "2022-01-21T10:33:04.375189Z"
    }
   },
   "outputs": [
    {
     "data": {
      "text/html": [
       "<div>\n",
       "<style scoped>\n",
       "    .dataframe tbody tr th:only-of-type {\n",
       "        vertical-align: middle;\n",
       "    }\n",
       "\n",
       "    .dataframe tbody tr th {\n",
       "        vertical-align: top;\n",
       "    }\n",
       "\n",
       "    .dataframe thead th {\n",
       "        text-align: right;\n",
       "    }\n",
       "</style>\n",
       "<table border=\"1\" class=\"dataframe\">\n",
       "  <thead>\n",
       "    <tr style=\"text-align: right;\">\n",
       "      <th></th>\n",
       "      <th>Year</th>\n",
       "      <th>Month</th>\n",
       "      <th>DayofMonth</th>\n",
       "      <th>DayOfWeek</th>\n",
       "      <th>DepTime</th>\n",
       "      <th>CRSDepTime</th>\n",
       "      <th>ArrTime</th>\n",
       "      <th>CRSArrTime</th>\n",
       "      <th>UniqueCarrier</th>\n",
       "      <th>FlightNum</th>\n",
       "      <th>TailNum</th>\n",
       "      <th>ActualElapsedTime</th>\n",
       "      <th>CRSElapsedTime</th>\n",
       "      <th>AirTime</th>\n",
       "      <th>ArrDelay</th>\n",
       "      <th>DepDelay</th>\n",
       "      <th>Origin</th>\n",
       "      <th>Dest</th>\n",
       "      <th>Distance</th>\n",
       "      <th>TaxiIn</th>\n",
       "      <th>TaxiOut</th>\n",
       "      <th>Cancelled</th>\n",
       "      <th>CancellationCode</th>\n",
       "      <th>Diverted</th>\n",
       "      <th>CarrierDelay</th>\n",
       "      <th>WeatherDelay</th>\n",
       "      <th>NASDelay</th>\n",
       "      <th>SecurityDelay</th>\n",
       "      <th>LateAircraftDelay</th>\n",
       "      <th>Tard</th>\n",
       "      <th>AA</th>\n",
       "      <th>AQ</th>\n",
       "      <th>AS</th>\n",
       "      <th>B6</th>\n",
       "      <th>CO</th>\n",
       "      <th>DL</th>\n",
       "      <th>EV</th>\n",
       "      <th>F9</th>\n",
       "      <th>FL</th>\n",
       "      <th>HA</th>\n",
       "      <th>MQ</th>\n",
       "      <th>NW</th>\n",
       "      <th>OH</th>\n",
       "      <th>OO</th>\n",
       "      <th>UA</th>\n",
       "      <th>US</th>\n",
       "      <th>WN</th>\n",
       "      <th>XE</th>\n",
       "      <th>YV</th>\n",
       "    </tr>\n",
       "    <tr>\n",
       "      <th>Unnamed: 0</th>\n",
       "      <th></th>\n",
       "      <th></th>\n",
       "      <th></th>\n",
       "      <th></th>\n",
       "      <th></th>\n",
       "      <th></th>\n",
       "      <th></th>\n",
       "      <th></th>\n",
       "      <th></th>\n",
       "      <th></th>\n",
       "      <th></th>\n",
       "      <th></th>\n",
       "      <th></th>\n",
       "      <th></th>\n",
       "      <th></th>\n",
       "      <th></th>\n",
       "      <th></th>\n",
       "      <th></th>\n",
       "      <th></th>\n",
       "      <th></th>\n",
       "      <th></th>\n",
       "      <th></th>\n",
       "      <th></th>\n",
       "      <th></th>\n",
       "      <th></th>\n",
       "      <th></th>\n",
       "      <th></th>\n",
       "      <th></th>\n",
       "      <th></th>\n",
       "      <th></th>\n",
       "      <th></th>\n",
       "      <th></th>\n",
       "      <th></th>\n",
       "      <th></th>\n",
       "      <th></th>\n",
       "      <th></th>\n",
       "      <th></th>\n",
       "      <th></th>\n",
       "      <th></th>\n",
       "      <th></th>\n",
       "      <th></th>\n",
       "      <th></th>\n",
       "      <th></th>\n",
       "      <th></th>\n",
       "      <th></th>\n",
       "      <th></th>\n",
       "      <th></th>\n",
       "      <th></th>\n",
       "      <th></th>\n",
       "    </tr>\n",
       "  </thead>\n",
       "  <tbody>\n",
       "    <tr>\n",
       "      <th>636553</th>\n",
       "      <td>2008</td>\n",
       "      <td>2</td>\n",
       "      <td>12</td>\n",
       "      <td>2</td>\n",
       "      <td>2251.0</td>\n",
       "      <td>2200</td>\n",
       "      <td>2341.0</td>\n",
       "      <td>2255</td>\n",
       "      <td>WN</td>\n",
       "      <td>64</td>\n",
       "      <td>N523SW</td>\n",
       "      <td>50.0</td>\n",
       "      <td>55.0</td>\n",
       "      <td>38.0</td>\n",
       "      <td>46.0</td>\n",
       "      <td>51.0</td>\n",
       "      <td>HOU</td>\n",
       "      <td>DAL</td>\n",
       "      <td>239</td>\n",
       "      <td>2.0</td>\n",
       "      <td>10.0</td>\n",
       "      <td>0</td>\n",
       "      <td>N</td>\n",
       "      <td>0</td>\n",
       "      <td>0.0</td>\n",
       "      <td>0.0</td>\n",
       "      <td>0.0</td>\n",
       "      <td>0.0</td>\n",
       "      <td>46.0</td>\n",
       "      <td>1</td>\n",
       "      <td>0</td>\n",
       "      <td>0</td>\n",
       "      <td>0</td>\n",
       "      <td>0</td>\n",
       "      <td>0</td>\n",
       "      <td>0</td>\n",
       "      <td>0</td>\n",
       "      <td>0</td>\n",
       "      <td>0</td>\n",
       "      <td>0</td>\n",
       "      <td>0</td>\n",
       "      <td>0</td>\n",
       "      <td>0</td>\n",
       "      <td>0</td>\n",
       "      <td>0</td>\n",
       "      <td>0</td>\n",
       "      <td>1</td>\n",
       "      <td>0</td>\n",
       "      <td>0</td>\n",
       "    </tr>\n",
       "    <tr>\n",
       "      <th>2470826</th>\n",
       "      <td>2008</td>\n",
       "      <td>5</td>\n",
       "      <td>28</td>\n",
       "      <td>3</td>\n",
       "      <td>1837.0</td>\n",
       "      <td>1755</td>\n",
       "      <td>1948.0</td>\n",
       "      <td>1915</td>\n",
       "      <td>WN</td>\n",
       "      <td>15</td>\n",
       "      <td>N780SW</td>\n",
       "      <td>71.0</td>\n",
       "      <td>80.0</td>\n",
       "      <td>62.0</td>\n",
       "      <td>33.0</td>\n",
       "      <td>42.0</td>\n",
       "      <td>BWI</td>\n",
       "      <td>MHT</td>\n",
       "      <td>377</td>\n",
       "      <td>3.0</td>\n",
       "      <td>6.0</td>\n",
       "      <td>0</td>\n",
       "      <td>N</td>\n",
       "      <td>0</td>\n",
       "      <td>0.0</td>\n",
       "      <td>0.0</td>\n",
       "      <td>0.0</td>\n",
       "      <td>0.0</td>\n",
       "      <td>33.0</td>\n",
       "      <td>1</td>\n",
       "      <td>0</td>\n",
       "      <td>0</td>\n",
       "      <td>0</td>\n",
       "      <td>0</td>\n",
       "      <td>0</td>\n",
       "      <td>0</td>\n",
       "      <td>0</td>\n",
       "      <td>0</td>\n",
       "      <td>0</td>\n",
       "      <td>0</td>\n",
       "      <td>0</td>\n",
       "      <td>0</td>\n",
       "      <td>0</td>\n",
       "      <td>0</td>\n",
       "      <td>0</td>\n",
       "      <td>0</td>\n",
       "      <td>1</td>\n",
       "      <td>0</td>\n",
       "      <td>0</td>\n",
       "    </tr>\n",
       "    <tr>\n",
       "      <th>2352374</th>\n",
       "      <td>2008</td>\n",
       "      <td>4</td>\n",
       "      <td>19</td>\n",
       "      <td>6</td>\n",
       "      <td>2041.0</td>\n",
       "      <td>1950</td>\n",
       "      <td>2256.0</td>\n",
       "      <td>2226</td>\n",
       "      <td>CO</td>\n",
       "      <td>1835</td>\n",
       "      <td>N35204</td>\n",
       "      <td>315.0</td>\n",
       "      <td>336.0</td>\n",
       "      <td>292.0</td>\n",
       "      <td>30.0</td>\n",
       "      <td>51.0</td>\n",
       "      <td>EWR</td>\n",
       "      <td>PHX</td>\n",
       "      <td>2133</td>\n",
       "      <td>4.0</td>\n",
       "      <td>19.0</td>\n",
       "      <td>0</td>\n",
       "      <td>N</td>\n",
       "      <td>0</td>\n",
       "      <td>8.0</td>\n",
       "      <td>0.0</td>\n",
       "      <td>0.0</td>\n",
       "      <td>0.0</td>\n",
       "      <td>22.0</td>\n",
       "      <td>1</td>\n",
       "      <td>0</td>\n",
       "      <td>0</td>\n",
       "      <td>0</td>\n",
       "      <td>0</td>\n",
       "      <td>1</td>\n",
       "      <td>0</td>\n",
       "      <td>0</td>\n",
       "      <td>0</td>\n",
       "      <td>0</td>\n",
       "      <td>0</td>\n",
       "      <td>0</td>\n",
       "      <td>0</td>\n",
       "      <td>0</td>\n",
       "      <td>0</td>\n",
       "      <td>0</td>\n",
       "      <td>0</td>\n",
       "      <td>0</td>\n",
       "      <td>0</td>\n",
       "      <td>0</td>\n",
       "    </tr>\n",
       "    <tr>\n",
       "      <th>2467909</th>\n",
       "      <td>2008</td>\n",
       "      <td>5</td>\n",
       "      <td>27</td>\n",
       "      <td>2</td>\n",
       "      <td>2232.0</td>\n",
       "      <td>2055</td>\n",
       "      <td>2350.0</td>\n",
       "      <td>2215</td>\n",
       "      <td>WN</td>\n",
       "      <td>3496</td>\n",
       "      <td>N735SA</td>\n",
       "      <td>78.0</td>\n",
       "      <td>80.0</td>\n",
       "      <td>69.0</td>\n",
       "      <td>95.0</td>\n",
       "      <td>97.0</td>\n",
       "      <td>HOU</td>\n",
       "      <td>MAF</td>\n",
       "      <td>441</td>\n",
       "      <td>3.0</td>\n",
       "      <td>6.0</td>\n",
       "      <td>0</td>\n",
       "      <td>N</td>\n",
       "      <td>0</td>\n",
       "      <td>6.0</td>\n",
       "      <td>0.0</td>\n",
       "      <td>0.0</td>\n",
       "      <td>0.0</td>\n",
       "      <td>89.0</td>\n",
       "      <td>1</td>\n",
       "      <td>0</td>\n",
       "      <td>0</td>\n",
       "      <td>0</td>\n",
       "      <td>0</td>\n",
       "      <td>0</td>\n",
       "      <td>0</td>\n",
       "      <td>0</td>\n",
       "      <td>0</td>\n",
       "      <td>0</td>\n",
       "      <td>0</td>\n",
       "      <td>0</td>\n",
       "      <td>0</td>\n",
       "      <td>0</td>\n",
       "      <td>0</td>\n",
       "      <td>0</td>\n",
       "      <td>0</td>\n",
       "      <td>1</td>\n",
       "      <td>0</td>\n",
       "      <td>0</td>\n",
       "    </tr>\n",
       "    <tr>\n",
       "      <th>4277277</th>\n",
       "      <td>2008</td>\n",
       "      <td>8</td>\n",
       "      <td>16</td>\n",
       "      <td>6</td>\n",
       "      <td>1552.0</td>\n",
       "      <td>1530</td>\n",
       "      <td>1722.0</td>\n",
       "      <td>1705</td>\n",
       "      <td>WN</td>\n",
       "      <td>828</td>\n",
       "      <td>N600WN</td>\n",
       "      <td>90.0</td>\n",
       "      <td>95.0</td>\n",
       "      <td>76.0</td>\n",
       "      <td>17.0</td>\n",
       "      <td>22.0</td>\n",
       "      <td>ABQ</td>\n",
       "      <td>SLC</td>\n",
       "      <td>493</td>\n",
       "      <td>6.0</td>\n",
       "      <td>8.0</td>\n",
       "      <td>0</td>\n",
       "      <td>N</td>\n",
       "      <td>0</td>\n",
       "      <td>4.0</td>\n",
       "      <td>0.0</td>\n",
       "      <td>0.0</td>\n",
       "      <td>0.0</td>\n",
       "      <td>13.0</td>\n",
       "      <td>1</td>\n",
       "      <td>0</td>\n",
       "      <td>0</td>\n",
       "      <td>0</td>\n",
       "      <td>0</td>\n",
       "      <td>0</td>\n",
       "      <td>0</td>\n",
       "      <td>0</td>\n",
       "      <td>0</td>\n",
       "      <td>0</td>\n",
       "      <td>0</td>\n",
       "      <td>0</td>\n",
       "      <td>0</td>\n",
       "      <td>0</td>\n",
       "      <td>0</td>\n",
       "      <td>0</td>\n",
       "      <td>0</td>\n",
       "      <td>1</td>\n",
       "      <td>0</td>\n",
       "      <td>0</td>\n",
       "    </tr>\n",
       "  </tbody>\n",
       "</table>\n",
       "</div>"
      ],
      "text/plain": [
       "            Year  Month  DayofMonth  DayOfWeek  DepTime  CRSDepTime  ArrTime  \\\n",
       "Unnamed: 0                                                                     \n",
       "636553      2008      2          12          2   2251.0        2200   2341.0   \n",
       "2470826     2008      5          28          3   1837.0        1755   1948.0   \n",
       "2352374     2008      4          19          6   2041.0        1950   2256.0   \n",
       "2467909     2008      5          27          2   2232.0        2055   2350.0   \n",
       "4277277     2008      8          16          6   1552.0        1530   1722.0   \n",
       "\n",
       "            CRSArrTime UniqueCarrier  FlightNum TailNum  ActualElapsedTime  \\\n",
       "Unnamed: 0                                                                   \n",
       "636553            2255            WN         64  N523SW               50.0   \n",
       "2470826           1915            WN         15  N780SW               71.0   \n",
       "2352374           2226            CO       1835  N35204              315.0   \n",
       "2467909           2215            WN       3496  N735SA               78.0   \n",
       "4277277           1705            WN        828  N600WN               90.0   \n",
       "\n",
       "            CRSElapsedTime  AirTime  ArrDelay  DepDelay Origin Dest  Distance  \\\n",
       "Unnamed: 0                                                                      \n",
       "636553                55.0     38.0      46.0      51.0    HOU  DAL       239   \n",
       "2470826               80.0     62.0      33.0      42.0    BWI  MHT       377   \n",
       "2352374              336.0    292.0      30.0      51.0    EWR  PHX      2133   \n",
       "2467909               80.0     69.0      95.0      97.0    HOU  MAF       441   \n",
       "4277277               95.0     76.0      17.0      22.0    ABQ  SLC       493   \n",
       "\n",
       "            TaxiIn  TaxiOut  Cancelled CancellationCode  Diverted  \\\n",
       "Unnamed: 0                                                          \n",
       "636553         2.0     10.0          0                N         0   \n",
       "2470826        3.0      6.0          0                N         0   \n",
       "2352374        4.0     19.0          0                N         0   \n",
       "2467909        3.0      6.0          0                N         0   \n",
       "4277277        6.0      8.0          0                N         0   \n",
       "\n",
       "            CarrierDelay  WeatherDelay  NASDelay  SecurityDelay  \\\n",
       "Unnamed: 0                                                        \n",
       "636553               0.0           0.0       0.0            0.0   \n",
       "2470826              0.0           0.0       0.0            0.0   \n",
       "2352374              8.0           0.0       0.0            0.0   \n",
       "2467909              6.0           0.0       0.0            0.0   \n",
       "4277277              4.0           0.0       0.0            0.0   \n",
       "\n",
       "            LateAircraftDelay  Tard  AA  AQ  AS  B6  CO  DL  EV  F9  FL  HA  \\\n",
       "Unnamed: 0                                                                    \n",
       "636553                   46.0     1   0   0   0   0   0   0   0   0   0   0   \n",
       "2470826                  33.0     1   0   0   0   0   0   0   0   0   0   0   \n",
       "2352374                  22.0     1   0   0   0   0   1   0   0   0   0   0   \n",
       "2467909                  89.0     1   0   0   0   0   0   0   0   0   0   0   \n",
       "4277277                  13.0     1   0   0   0   0   0   0   0   0   0   0   \n",
       "\n",
       "            MQ  NW  OH  OO  UA  US  WN  XE  YV  \n",
       "Unnamed: 0                                      \n",
       "636553       0   0   0   0   0   0   1   0   0  \n",
       "2470826      0   0   0   0   0   0   1   0   0  \n",
       "2352374      0   0   0   0   0   0   0   0   0  \n",
       "2467909      0   0   0   0   0   0   1   0   0  \n",
       "4277277      0   0   0   0   0   0   1   0   0  "
      ]
     },
     "execution_count": 41,
     "metadata": {},
     "output_type": "execute_result"
    }
   ],
   "source": [
    "df2 = pd.concat([df_reduit,df_dum], axis=1)\n",
    "df2.head()"
   ]
  },
  {
   "cell_type": "markdown",
   "metadata": {},
   "source": [
    "#### Split"
   ]
  },
  {
   "cell_type": "code",
   "execution_count": 66,
   "metadata": {
    "execution": {
     "iopub.execute_input": "2022-01-22T17:47:18.764907Z",
     "iopub.status.busy": "2022-01-22T17:47:18.764568Z",
     "iopub.status.idle": "2022-01-22T17:47:19.040574Z",
     "shell.execute_reply": "2022-01-22T17:47:19.039605Z",
     "shell.execute_reply.started": "2022-01-22T17:47:18.764875Z"
    }
   },
   "outputs": [],
   "source": [
    "X_plus = df2[df2.columns[~df2.columns.isin(['CancellationCode','UniqueCarrier','TailNum','Origin','Dest','ArrDelay'])]]\n",
    "\n",
    "y_plus = df2['Tard']\n",
    "\n",
    "X_train_plus, X_test_plus, y_train_plus, y_test_plus = train_test_split(X_plus, y_plus, random_state=0, test_size=0.2) "
   ]
  },
  {
   "cell_type": "markdown",
   "metadata": {},
   "source": [
    "### Model 1 Regressió logística"
   ]
  },
  {
   "cell_type": "code",
   "execution_count": 68,
   "metadata": {
    "ExecuteTime": {
     "end_time": "2021-11-23T14:44:33.740783Z",
     "start_time": "2021-11-23T14:44:33.695204Z"
    },
    "execution": {
     "iopub.execute_input": "2022-01-22T17:47:23.826065Z",
     "iopub.status.busy": "2022-01-22T17:47:23.825723Z",
     "iopub.status.idle": "2022-01-22T17:47:24.256010Z",
     "shell.execute_reply": "2022-01-22T17:47:24.255087Z",
     "shell.execute_reply.started": "2022-01-22T17:47:23.826033Z"
    }
   },
   "outputs": [],
   "source": [
    "lr_plus = LogisticRegression()\n",
    "lr_plus.fit(X_train_plus, y_train_plus)\n",
    "\n",
    "y_hat_lr_plus = lr_plus.predict(X_test_plus)"
   ]
  },
  {
   "cell_type": "markdown",
   "metadata": {},
   "source": [
    "### Model 2 KNN"
   ]
  },
  {
   "cell_type": "code",
   "execution_count": 69,
   "metadata": {
    "execution": {
     "iopub.execute_input": "2022-01-22T17:47:25.783740Z",
     "iopub.status.busy": "2022-01-22T17:47:25.783330Z",
     "iopub.status.idle": "2022-01-22T17:47:34.899879Z",
     "shell.execute_reply": "2022-01-22T17:47:34.896601Z",
     "shell.execute_reply.started": "2022-01-22T17:47:25.783708Z"
    }
   },
   "outputs": [],
   "source": [
    "knn_plus = KNeighborsClassifier(n_neighbors=3)\n",
    "knn_plus.fit(X_train_plus, y_train_plus)\n",
    "\n",
    "y_hat_knn_plus = knn_plus.predict(X_test_plus)"
   ]
  },
  {
   "cell_type": "markdown",
   "metadata": {},
   "source": [
    "### Model 3 XGBoost"
   ]
  },
  {
   "cell_type": "code",
   "execution_count": 70,
   "metadata": {
    "execution": {
     "iopub.execute_input": "2022-01-22T17:47:34.912176Z",
     "iopub.status.busy": "2022-01-22T17:47:34.911661Z",
     "iopub.status.idle": "2022-01-22T17:47:37.909244Z",
     "shell.execute_reply": "2022-01-22T17:47:37.908180Z",
     "shell.execute_reply.started": "2022-01-22T17:47:34.912129Z"
    }
   },
   "outputs": [
    {
     "name": "stdout",
     "output_type": "stream",
     "text": [
      "[18:47:36] WARNING: /opt/concourse/worker/volumes/live/7a2b9f41-3287-451b-6691-43e9a6c0910f/volume/xgboost-split_1619728204606/work/src/learner.cc:1061: Starting in XGBoost 1.3.0, the default evaluation metric used with the objective 'binary:logistic' was changed from 'error' to 'logloss'. Explicitly set eval_metric if you'd like to restore the old behavior.\n"
     ]
    }
   ],
   "source": [
    "xgb_plus = XGBClassifier()\n",
    "xgb_plus.fit(X_train_plus, y_train_plus)\n",
    "\n",
    "y_hat_xgb_plus = xgb_plus.predict(X_test_plus)"
   ]
  },
  {
   "cell_type": "markdown",
   "metadata": {},
   "source": [
    "### Mètriques"
   ]
  },
  {
   "cell_type": "code",
   "execution_count": 82,
   "metadata": {
    "execution": {
     "iopub.execute_input": "2022-01-22T18:35:23.570800Z",
     "iopub.status.busy": "2022-01-22T18:35:23.569149Z",
     "iopub.status.idle": "2022-01-22T18:35:32.975117Z",
     "shell.execute_reply": "2022-01-22T18:35:32.973824Z",
     "shell.execute_reply.started": "2022-01-22T18:35:23.570758Z"
    }
   },
   "outputs": [
    {
     "name": "stdout",
     "output_type": "stream",
     "text": [
      "AUC Log. Reg.  :  0.967694\n",
      "AUC KNN  :  0.532513\n",
      "AUC XGB  :  1.000000\n"
     ]
    }
   ],
   "source": [
    "ROC_AUC_2 = {}\n",
    "ROC_AUC_2['AUC Log. Reg.'] = roc_auc_score(y_test_plus, lr_plus.predict_proba(X_test_plus)[:, 1])\n",
    "ROC_AUC_2['AUC KNN'] = roc_auc_score(y_test_plus, knn_plus.predict_proba(X_test_plus)[:, 1])\n",
    "ROC_AUC_2['AUC XGB'] = roc_auc_score(y_test_plus, xgb_plus.predict_proba(X_test_plus)[:, 1])\n",
    "\n",
    "# ROC AUC default params\n",
    "for key, value in ROC_AUC_2.items():\n",
    "    print(key, ' : ', format(value, '.6f'))"
   ]
  },
  {
   "cell_type": "markdown",
   "metadata": {},
   "source": [
    "#### Amb aquestes dades i les dels exercics anteriors podem veure si realmente hem millorat la predició afegint la columna UniqueCarrier\n",
    "\n",
    "Tot i que incloure més variables en un model no sempre significa que el model pugui predir millor, en el cas de la regressió logística i de l'XGBoost, la predicció ha millorat una mica, ja que el ROC AUC score de partida ja era prou elevant en els dos casos. En el cas del KNN, en canvi, no ha millorat, sino que ha empitjorat lleugerament."
   ]
  },
  {
   "cell_type": "code",
   "execution_count": 83,
   "metadata": {
    "execution": {
     "iopub.execute_input": "2022-01-22T18:35:46.877440Z",
     "iopub.status.busy": "2022-01-22T18:35:46.877100Z",
     "iopub.status.idle": "2022-01-22T18:35:46.889849Z",
     "shell.execute_reply": "2022-01-22T18:35:46.888596Z",
     "shell.execute_reply.started": "2022-01-22T18:35:46.877408Z"
    }
   },
   "outputs": [
    {
     "name": "stdout",
     "output_type": "stream",
     "text": [
      "AUC Log. Reg.  :  0.916765\n",
      "AUC KNN  :  0.542784\n",
      "AUC XGB  :  0.999113\n"
     ]
    }
   ],
   "source": [
    "# ROC AUC default params\n",
    "for key, value in ROC_AUC_1.items():\n",
    "    print(key, ' : ', format(value, '.6f'))"
   ]
  },
  {
   "cell_type": "code",
   "execution_count": 84,
   "metadata": {
    "execution": {
     "iopub.execute_input": "2022-01-22T18:35:49.922020Z",
     "iopub.status.busy": "2022-01-22T18:35:49.921672Z",
     "iopub.status.idle": "2022-01-22T18:35:49.933358Z",
     "shell.execute_reply": "2022-01-22T18:35:49.931498Z",
     "shell.execute_reply.started": "2022-01-22T18:35:49.921988Z"
    }
   },
   "outputs": [
    {
     "name": "stdout",
     "output_type": "stream",
     "text": [
      "AUC Log. Reg.  :  0.967694\n",
      "AUC KNN  :  0.532513\n",
      "AUC XGB  :  1.000000\n"
     ]
    }
   ],
   "source": [
    "# ROC AUC default params\n",
    "for key, value in ROC_AUC_2.items():\n",
    "    print(key, ' : ', format(value, '.6f'))"
   ]
  },
  {
   "cell_type": "markdown",
   "metadata": {},
   "source": [
    "## Exercici 6. No utilitzis la variable DepDelay a l’hora de fer prediccions"
   ]
  },
  {
   "cell_type": "markdown",
   "metadata": {},
   "source": [
    "Tot i que la correlació entre DepDelay i Tard, la nostra variable target, no és gens alta (0.11), com sí que hi ha correlació elevada (0.95) entre DepDelay i ArrDelay (la variable en la que es bassa Tard), és probable que els models es basin en DepDelay per fer la predicció de Tard. Si eliminem DepDelay del model és possible que el ROC AUC dels models canviï: \n",
    "\n",
    "- El ROC AUC dels models de regressió logística i XGBoost han augmentat lleugerament (de 0.92 a 0.95 en el primer cas i de 0.999 a 1.0 en el segon). En el cas del KNN, ha disminuït de 0.54 a 0.53. Per tant, com ja hem mencionat anteriorment, un model amb més variables no sempre prediu millor, ja que també augmenta el soroll del model. A vegades, com més simple és un model, millor és la seva predicció.\n"
   ]
  },
  {
   "cell_type": "code",
   "execution_count": 86,
   "metadata": {
    "execution": {
     "iopub.execute_input": "2022-01-22T18:39:56.056154Z",
     "iopub.status.busy": "2022-01-22T18:39:56.055814Z",
     "iopub.status.idle": "2022-01-22T18:39:56.116707Z",
     "shell.execute_reply": "2022-01-22T18:39:56.115613Z",
     "shell.execute_reply.started": "2022-01-22T18:39:56.056122Z"
    }
   },
   "outputs": [
    {
     "data": {
      "text/plain": [
       "0.9503277697576276"
      ]
     },
     "execution_count": 86,
     "metadata": {},
     "output_type": "execute_result"
    }
   ],
   "source": [
    "# Correlació entre DepDelay i ArrDelay\n",
    "df_reduit.corr()['DepDelay']['ArrDelay']"
   ]
  },
  {
   "cell_type": "code",
   "execution_count": 87,
   "metadata": {
    "execution": {
     "iopub.execute_input": "2022-01-22T18:40:04.782429Z",
     "iopub.status.busy": "2022-01-22T18:40:04.773583Z",
     "iopub.status.idle": "2022-01-22T18:40:04.849878Z",
     "shell.execute_reply": "2022-01-22T18:40:04.844598Z",
     "shell.execute_reply.started": "2022-01-22T18:40:04.782383Z"
    }
   },
   "outputs": [
    {
     "data": {
      "text/plain": [
       "0.11294060261367381"
      ]
     },
     "execution_count": 87,
     "metadata": {},
     "output_type": "execute_result"
    }
   ],
   "source": [
    "# Correlació entre DepDelay i Tard\n",
    "df_reduit.corr()['DepDelay']['Tard']"
   ]
  },
  {
   "cell_type": "markdown",
   "metadata": {},
   "source": [
    "#### Split"
   ]
  },
  {
   "cell_type": "code",
   "execution_count": 73,
   "metadata": {
    "execution": {
     "iopub.execute_input": "2022-01-22T17:52:05.637778Z",
     "iopub.status.busy": "2022-01-22T17:52:05.637461Z",
     "iopub.status.idle": "2022-01-22T17:52:05.801649Z",
     "shell.execute_reply": "2022-01-22T17:52:05.800791Z",
     "shell.execute_reply.started": "2022-01-22T17:52:05.637747Z"
    }
   },
   "outputs": [],
   "source": [
    "X_3 = df2[df2.columns[~df2.columns.isin(['CancellationCode','UniqueCarrier','TailNum','Origin','Dest','ArrDelay','DepDelay'])]]\n",
    "\n",
    "y_3 = df2['Tard']\n",
    "\n",
    "X_train_3, X_test_3, y_train_3, y_test_3 = train_test_split(X_3, y_3, random_state=0, test_size=0.2) "
   ]
  },
  {
   "cell_type": "markdown",
   "metadata": {},
   "source": [
    "#### Model 1 Regressió logística"
   ]
  },
  {
   "cell_type": "code",
   "execution_count": 93,
   "metadata": {
    "ExecuteTime": {
     "end_time": "2021-11-23T14:44:33.740783Z",
     "start_time": "2021-11-23T14:44:33.695204Z"
    },
    "execution": {
     "iopub.execute_input": "2022-01-22T18:45:20.931235Z",
     "iopub.status.busy": "2022-01-22T18:45:20.930303Z",
     "iopub.status.idle": "2022-01-22T18:45:21.706219Z",
     "shell.execute_reply": "2022-01-22T18:45:21.705197Z",
     "shell.execute_reply.started": "2022-01-22T18:45:20.931144Z"
    }
   },
   "outputs": [],
   "source": [
    "lr_3 = LogisticRegression()\n",
    "lr_3.fit(X_train_3, y_train_3)\n",
    "\n",
    "y_hat_lr_3 = lr_3.predict(X_test_3)\n",
    "\n",
    "accuracy_2 = {}\n",
    "accuracy_2['Acc. Logistic Reg.'] = accuracy_score(y_test_3, y_hat_lr_3)\n",
    "\n",
    "ROC_AUC_3 = {}\n",
    "ROC_AUC_3['ROC AUC Logistic Reg.'] = roc_auc_score(y_test_3, lr_3.predict_proba(X_test_3)[:, 1])"
   ]
  },
  {
   "cell_type": "markdown",
   "metadata": {},
   "source": [
    "#### Model 2 KNN"
   ]
  },
  {
   "cell_type": "code",
   "execution_count": 94,
   "metadata": {
    "execution": {
     "iopub.execute_input": "2022-01-22T18:45:30.558768Z",
     "iopub.status.busy": "2022-01-22T18:45:30.558443Z",
     "iopub.status.idle": "2022-01-22T18:45:39.195683Z",
     "shell.execute_reply": "2022-01-22T18:45:39.194485Z",
     "shell.execute_reply.started": "2022-01-22T18:45:30.558736Z"
    }
   },
   "outputs": [],
   "source": [
    "knn_3 = KNeighborsClassifier(n_neighbors=3)\n",
    "knn_3.fit(X_train_3, y_train_3)\n",
    "\n",
    "y_hat_knn_3 = knn_3.predict(X_test_3)\n",
    "\n",
    "accuracy_2['Acc. KNN'] = accuracy_score(y_test_3, y_hat_knn_3)\n",
    "ROC_AUC_3['ROC AUC KNN'] = roc_auc_score(y_test_3, knn_3.predict_proba(X_test_3)[:, 1])"
   ]
  },
  {
   "cell_type": "markdown",
   "metadata": {},
   "source": [
    "#### Model 3 XGBoost"
   ]
  },
  {
   "cell_type": "code",
   "execution_count": 95,
   "metadata": {
    "execution": {
     "iopub.execute_input": "2022-01-22T18:45:39.216210Z",
     "iopub.status.busy": "2022-01-22T18:45:39.214218Z",
     "iopub.status.idle": "2022-01-22T18:45:40.418023Z",
     "shell.execute_reply": "2022-01-22T18:45:40.417019Z",
     "shell.execute_reply.started": "2022-01-22T18:45:39.216127Z"
    }
   },
   "outputs": [
    {
     "name": "stdout",
     "output_type": "stream",
     "text": [
      "[19:45:39] WARNING: /opt/concourse/worker/volumes/live/7a2b9f41-3287-451b-6691-43e9a6c0910f/volume/xgboost-split_1619728204606/work/src/learner.cc:1061: Starting in XGBoost 1.3.0, the default evaluation metric used with the objective 'binary:logistic' was changed from 'error' to 'logloss'. Explicitly set eval_metric if you'd like to restore the old behavior.\n"
     ]
    }
   ],
   "source": [
    "xgb_3 = XGBClassifier()\n",
    "xgb_3.fit(X_train_3, y_train_3)\n",
    "\n",
    "y_hat_xgb_3 = xgb_3.predict(X_test_3)\n",
    "\n",
    "accuracy_2['Acc. XGB'] = accuracy_score(y_test_3, y_hat_xgb_3)\n",
    "ROC_AUC_3['ROC AUC XGB'] = roc_auc_score(y_test_3, xgb_3.predict_proba(X_test_3)[:, 1])"
   ]
  },
  {
   "cell_type": "markdown",
   "metadata": {},
   "source": [
    "#### Mètriques"
   ]
  },
  {
   "cell_type": "code",
   "execution_count": 96,
   "metadata": {
    "execution": {
     "iopub.execute_input": "2022-01-22T18:45:40.426398Z",
     "iopub.status.busy": "2022-01-22T18:45:40.425664Z",
     "iopub.status.idle": "2022-01-22T18:45:40.458679Z",
     "shell.execute_reply": "2022-01-22T18:45:40.457389Z",
     "shell.execute_reply.started": "2022-01-22T18:45:40.426311Z"
    }
   },
   "outputs": [
    {
     "data": {
      "text/plain": [
       "'ROC AUC amb DepDelay: '"
      ]
     },
     "metadata": {},
     "output_type": "display_data"
    },
    {
     "data": {
      "text/plain": [
       "{'AUC Log. Reg.': 0.9167648056180582,\n",
       " 'AUC KNN': 0.5427835714560145,\n",
       " 'AUC XGB': 0.9991129909244438}"
      ]
     },
     "metadata": {},
     "output_type": "display_data"
    },
    {
     "data": {
      "text/plain": [
       "'ROC AUC sense DepDelay: '"
      ]
     },
     "metadata": {},
     "output_type": "display_data"
    },
    {
     "data": {
      "text/plain": [
       "{'ROC AUC Logistic Reg.': 0.9538529026120937,\n",
       " 'ROC AUC KNN': 0.5314460355820649,\n",
       " 'ROC AUC XGB': 1.0}"
      ]
     },
     "metadata": {},
     "output_type": "display_data"
    }
   ],
   "source": [
    "# ROC AUC primer vs tercer model\n",
    "display('ROC AUC amb DepDelay: ',ROC_AUC_1)\n",
    "display('ROC AUC sense DepDelay: ',ROC_AUC_3)"
   ]
  }
 ],
 "metadata": {
  "kernelspec": {
   "display_name": "Python 3",
   "language": "python",
   "name": "python3"
  },
  "language_info": {
   "codemirror_mode": {
    "name": "ipython",
    "version": 3
   },
   "file_extension": ".py",
   "mimetype": "text/x-python",
   "name": "python",
   "nbconvert_exporter": "python",
   "pygments_lexer": "ipython3",
   "version": "3.8.5"
  },
  "toc": {
   "base_numbering": 1,
   "nav_menu": {},
   "number_sections": true,
   "sideBar": true,
   "skip_h1_title": false,
   "title_cell": "Table of Contents",
   "title_sidebar": "Contents",
   "toc_cell": true,
   "toc_position": {},
   "toc_section_display": true,
   "toc_window_display": false
  },
  "varInspector": {
   "cols": {
    "lenName": 16,
    "lenType": 16,
    "lenVar": 40
   },
   "kernels_config": {
    "python": {
     "delete_cmd_postfix": "",
     "delete_cmd_prefix": "del ",
     "library": "var_list.py",
     "varRefreshCmd": "print(var_dic_list())"
    },
    "r": {
     "delete_cmd_postfix": ") ",
     "delete_cmd_prefix": "rm(",
     "library": "var_list.r",
     "varRefreshCmd": "cat(var_dic_list()) "
    }
   },
   "types_to_exclude": [
    "module",
    "function",
    "builtin_function_or_method",
    "instance",
    "_Feature"
   ],
   "window_display": false
  }
 },
 "nbformat": 4,
 "nbformat_minor": 4
}
