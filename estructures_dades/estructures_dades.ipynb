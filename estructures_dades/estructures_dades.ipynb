{
 "cells": [
  {
   "cell_type": "markdown",
   "metadata": {},
   "source": [
    "- Exercici 1\n",
    "Crea una llista que agrupi els mesos de l’any en trimestres (1T: Gener, Febrer i Març, 2T: Abril, Maig, Juny...), és a dir, una llista amb 4 llistes dins.\n",
    "\n",
    "- Exercici 2\n",
    "Crea un codi que et permeti accedir a:\n",
    "\n",
    "    + El segon mes del primer trimestre\n",
    "    + Els mesos del primer trimestre\n",
    "    + Setembre i octubre \n",
    "    \n",
    "\n",
    "- Exercici 3\n",
    "Crea una llista amb nombres desordenats i respon a les següents preguntes:\n",
    "\n",
    "    + Quants números hi ha?\n",
    "    + Quantes vegades apareix el número 3\n",
    "    + Quantes vegades apareixen els nombres 3 i 4?\n",
    "    + Quin és el número més gran?\n",
    "    + Quins són els 3 números més petits?\n",
    "    + Quin és el rang d’aquesta llista? \n",
    "    \n",
    "\n",
    "- Exercici 4\n",
    "Crea un diccionari de la següent forma i respon a les preguntes:\n",
    "\n",
    "compra = { \"Pomes\" : {\"Qty\": 5, \"€\": 0.42}, \"Peres\" : {\"Qty\": 3, \"€\": 0.66} }\n",
    "    \n",
    "    + Afegeix alguna fruita més\n",
    "    + Quant han costat les peres en total?\n",
    "    + Quantes fruites hem comprat en total?\n",
    "    + Quina és la fruita més cara?\n"
   ]
  },
  {
   "cell_type": "code",
   "execution_count": null,
   "metadata": {},
   "outputs": [],
   "source": []
  },
  {
   "cell_type": "code",
   "execution_count": 1,
   "metadata": {},
   "outputs": [],
   "source": [
    "#Exercici 1\n",
    "mesos_per_trimestres = [[\"gener\", \"febrer\", \"març\"],[\"abril\", \"maig\", \"juny\"],\n",
    "                        [\"juliol\", \"agost\", \"setembre\"],[\"octubre\", \"novembre\", \"desembre\"]]"
   ]
  },
  {
   "cell_type": "code",
   "execution_count": 2,
   "metadata": {},
   "outputs": [
    {
     "name": "stdout",
     "output_type": "stream",
     "text": [
      "febrer\n"
     ]
    }
   ],
   "source": [
    "#Exercici 2\n",
    "segon_mes_primer_trimestre = mesos_per_trimestres[0][1]\n",
    "print(segon_mes_primer_trimestre)"
   ]
  },
  {
   "cell_type": "code",
   "execution_count": 3,
   "metadata": {},
   "outputs": [
    {
     "name": "stdout",
     "output_type": "stream",
     "text": [
      "['gener', 'febrer', 'març']\n"
     ]
    }
   ],
   "source": [
    "mesos_primer_trimestre = mesos_per_trimestres[0]\n",
    "print(mesos_primer_trimestre)"
   ]
  },
  {
   "cell_type": "code",
   "execution_count": 4,
   "metadata": {},
   "outputs": [
    {
     "name": "stdout",
     "output_type": "stream",
     "text": [
      "['setembre', 'octubre']\n"
     ]
    }
   ],
   "source": [
    "set_oct = [mesos_per_trimestres[2][2], mesos_per_trimestres[3][0]]\n",
    "print(set_oct)"
   ]
  },
  {
   "cell_type": "code",
   "execution_count": 5,
   "metadata": {},
   "outputs": [],
   "source": [
    "#Exercici 3\n",
    "nombres = [3,5,6,2,4,5,66,3,22,3,1,0,3,45,6,7,88,9,4]"
   ]
  },
  {
   "cell_type": "code",
   "execution_count": 6,
   "metadata": {},
   "outputs": [
    {
     "name": "stdout",
     "output_type": "stream",
     "text": [
      "19\n"
     ]
    }
   ],
   "source": [
    "#Quants números hi ha?\n",
    "print(len(nombres))"
   ]
  },
  {
   "cell_type": "code",
   "execution_count": 7,
   "metadata": {},
   "outputs": [
    {
     "name": "stdout",
     "output_type": "stream",
     "text": [
      "4\n"
     ]
    }
   ],
   "source": [
    "#Quantes vegades apareix el número 3?\n",
    "print(nombres.count(3))"
   ]
  },
  {
   "cell_type": "code",
   "execution_count": 8,
   "metadata": {},
   "outputs": [
    {
     "name": "stdout",
     "output_type": "stream",
     "text": [
      "6\n"
     ]
    }
   ],
   "source": [
    "#Quantes vegades apareixen els nombres 3 i 4?\n",
    "print(nombres.count(3)+nombres.count(4))"
   ]
  },
  {
   "cell_type": "code",
   "execution_count": 9,
   "metadata": {},
   "outputs": [
    {
     "name": "stdout",
     "output_type": "stream",
     "text": [
      "88\n"
     ]
    }
   ],
   "source": [
    "#Quin és el número més gran?\n",
    "print(max(nombres))"
   ]
  },
  {
   "cell_type": "code",
   "execution_count": 10,
   "metadata": {},
   "outputs": [
    {
     "name": "stdout",
     "output_type": "stream",
     "text": [
      "[0, 1, 2]\n"
     ]
    }
   ],
   "source": [
    "#Quins són els 3 números més petits?\n",
    "print(sorted(nombres)[:3])"
   ]
  },
  {
   "cell_type": "code",
   "execution_count": 11,
   "metadata": {},
   "outputs": [
    {
     "name": "stdout",
     "output_type": "stream",
     "text": [
      "[0, 88]\n"
     ]
    }
   ],
   "source": [
    "#Quin és el rang d’aquesta llista?\n",
    "rang = [min(nombres), max(nombres)]\n",
    "print(rang)"
   ]
  },
  {
   "cell_type": "code",
   "execution_count": 12,
   "metadata": {},
   "outputs": [],
   "source": [
    "#Exercici 4\n",
    "compra = { \"Pomes\" : {\"Qty\": 5, \"€\": 0.42}, \"Peres\" : {\"Qty\": 3, \"€\": 0.66} }"
   ]
  },
  {
   "cell_type": "code",
   "execution_count": 13,
   "metadata": {},
   "outputs": [
    {
     "name": "stdout",
     "output_type": "stream",
     "text": [
      "{'Pomes': {'Qty': 5, '€': 0.42}, 'Peres': {'Qty': 3, '€': 0.66}, 'Pinya': {'Qty': 2, '€': 0.86}}\n"
     ]
    }
   ],
   "source": [
    "#Afegeix alguna fruita més\n",
    "compra[\"Pinya\"] = {\"Qty\": 2, \"€\": 0.86} \n",
    "print(compra)"
   ]
  },
  {
   "cell_type": "code",
   "execution_count": 14,
   "metadata": {},
   "outputs": [
    {
     "name": "stdout",
     "output_type": "stream",
     "text": [
      "1.98\n"
     ]
    }
   ],
   "source": [
    "#Quant han costat les peres en total?\n",
    "preu_peres = compra[\"Peres\"][\"Qty\"]*compra[\"Peres\"][\"€\"]\n",
    "print(preu_peres)"
   ]
  },
  {
   "cell_type": "code",
   "execution_count": 15,
   "metadata": {},
   "outputs": [
    {
     "name": "stdout",
     "output_type": "stream",
     "text": [
      "10\n"
     ]
    }
   ],
   "source": [
    "#Quantes fruites hem comprat en total?\n",
    "total = compra[\"Pomes\"][\"Qty\"]+compra[\"Peres\"][\"Qty\"]+compra[\"Pinya\"][\"Qty\"]\n",
    "print(total)"
   ]
  },
  {
   "cell_type": "code",
   "execution_count": 20,
   "metadata": {},
   "outputs": [
    {
     "name": "stdout",
     "output_type": "stream",
     "text": [
      "10\n"
     ]
    }
   ],
   "source": [
    "result = 0\n",
    "for elem in compra:\n",
    "    result += compra[str(elem)][\"Qty\"]\n",
    "print(result)"
   ]
  },
  {
   "cell_type": "code",
   "execution_count": null,
   "metadata": {},
   "outputs": [],
   "source": [
    "#Quina és la fruita més cara?\n",
    "dictionary={}\n",
    "\n",
    "for elem in compra:\n",
    "    dictionary[elem] = compra[str(elem)]['€']\n",
    "print(dictionary)\n",
    "    \n",
    "max_key = max(dictionary, key=dictionary.get)\n",
    "print('Fruita més cara: ', max_key)\n"
   ]
  }
 ],
 "metadata": {
  "kernelspec": {
   "display_name": "Python 3",
   "language": "python",
   "name": "python3"
  },
  "language_info": {
   "codemirror_mode": {
    "name": "ipython",
    "version": 3
   },
   "file_extension": ".py",
   "mimetype": "text/x-python",
   "name": "python",
   "nbconvert_exporter": "python",
   "pygments_lexer": "ipython3",
   "version": "3.8.5"
  },
  "varInspector": {
   "cols": {
    "lenName": 16,
    "lenType": 16,
    "lenVar": 40
   },
   "kernels_config": {
    "python": {
     "delete_cmd_postfix": "",
     "delete_cmd_prefix": "del ",
     "library": "var_list.py",
     "varRefreshCmd": "print(var_dic_list())"
    },
    "r": {
     "delete_cmd_postfix": ") ",
     "delete_cmd_prefix": "rm(",
     "library": "var_list.r",
     "varRefreshCmd": "cat(var_dic_list()) "
    }
   },
   "types_to_exclude": [
    "module",
    "function",
    "builtin_function_or_method",
    "instance",
    "_Feature"
   ],
   "window_display": false
  }
 },
 "nbformat": 4,
 "nbformat_minor": 4
}
