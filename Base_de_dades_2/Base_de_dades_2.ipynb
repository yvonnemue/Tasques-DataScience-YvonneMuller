{
 "cells": [
  {
   "cell_type": "markdown",
   "metadata": {},
   "source": [
    "# Sprint 13 Tasca 2. Base de dades MySQL"
   ]
  },
  {
   "cell_type": "markdown",
   "metadata": {},
   "source": [
    "## Nivell 1"
   ]
  },
  {
   "cell_type": "markdown",
   "metadata": {},
   "source": [
    "## Exercici 1. Crea una base de dades relacionals senzilla utilitzant MySQL(https://www.mysql.com/) i connecta-la a Python"
   ]
  },
  {
   "cell_type": "code",
   "execution_count": 67,
   "metadata": {
    "execution": {
     "iopub.execute_input": "2022-02-13T22:15:27.172715Z",
     "iopub.status.busy": "2022-02-13T22:15:27.172363Z",
     "iopub.status.idle": "2022-02-13T22:15:30.053338Z",
     "shell.execute_reply": "2022-02-13T22:15:30.052256Z",
     "shell.execute_reply.started": "2022-02-13T22:15:27.172673Z"
    }
   },
   "outputs": [
    {
     "name": "stdout",
     "output_type": "stream",
     "text": [
      "<mysql.connector.connection.MySQLConnection object at 0x7ff462a736a0>\n"
     ]
    }
   ],
   "source": [
    "import pandas as pd\n",
    "import numpy as np\n",
    "import matplotlib.pyplot as plt\n",
    "import seaborn as sns\n",
    "import warnings\n",
    "import mysql.connector\n",
    "\n",
    "mydb = mysql.connector.connect(\n",
    "  host=\"localhost\",\n",
    "  user=\"root\",\n",
    "  password=\"123123123\",\n",
    "  database=\"IT_Academy\"\n",
    ")\n",
    "\n",
    "print(mydb)"
   ]
  },
  {
   "cell_type": "markdown",
   "metadata": {},
   "source": [
    "## Nivell 2"
   ]
  },
  {
   "cell_type": "markdown",
   "metadata": {},
   "source": [
    "## Exercici 2. Mostra que pots carregar algunes consultes senzilles a un Pandas Dataframe."
   ]
  },
  {
   "cell_type": "markdown",
   "metadata": {},
   "source": [
    "#### Seleccionem el nom dels hotels"
   ]
  },
  {
   "cell_type": "code",
   "execution_count": 48,
   "metadata": {
    "execution": {
     "iopub.execute_input": "2022-02-13T22:05:57.235338Z",
     "iopub.status.busy": "2022-02-13T22:05:57.234971Z",
     "iopub.status.idle": "2022-02-13T22:05:57.248547Z",
     "shell.execute_reply": "2022-02-13T22:05:57.246818Z",
     "shell.execute_reply.started": "2022-02-13T22:05:57.235302Z"
    }
   },
   "outputs": [],
   "source": [
    "select_hotels = \"SELECT * \\\n",
    "FROM d_hotel\"\n",
    "with mydb.cursor() as cursor:\n",
    "    cursor.execute(select_hotels)\n",
    "    result = cursor.fetchall()\n",
    "    df_1 = []\n",
    "    for row in result:\n",
    "        df_1.append(row)"
   ]
  },
  {
   "cell_type": "code",
   "execution_count": 51,
   "metadata": {
    "execution": {
     "iopub.execute_input": "2022-02-13T22:07:14.697323Z",
     "iopub.status.busy": "2022-02-13T22:07:14.696269Z",
     "iopub.status.idle": "2022-02-13T22:07:14.740777Z",
     "shell.execute_reply": "2022-02-13T22:07:14.730089Z",
     "shell.execute_reply.started": "2022-02-13T22:07:14.697171Z"
    }
   },
   "outputs": [
    {
     "data": {
      "text/html": [
       "<div>\n",
       "<style scoped>\n",
       "    .dataframe tbody tr th:only-of-type {\n",
       "        vertical-align: middle;\n",
       "    }\n",
       "\n",
       "    .dataframe tbody tr th {\n",
       "        vertical-align: top;\n",
       "    }\n",
       "\n",
       "    .dataframe thead th {\n",
       "        text-align: right;\n",
       "    }\n",
       "</style>\n",
       "<table border=\"1\" class=\"dataframe\">\n",
       "  <thead>\n",
       "    <tr style=\"text-align: right;\">\n",
       "      <th></th>\n",
       "      <th>id_hotel</th>\n",
       "      <th>nom</th>\n",
       "    </tr>\n",
       "  </thead>\n",
       "  <tbody>\n",
       "    <tr>\n",
       "      <th>0</th>\n",
       "      <td>1</td>\n",
       "      <td>Hotel Playa</td>\n",
       "    </tr>\n",
       "    <tr>\n",
       "      <th>1</th>\n",
       "      <td>2</td>\n",
       "      <td>Hotel Marea</td>\n",
       "    </tr>\n",
       "    <tr>\n",
       "      <th>2</th>\n",
       "      <td>3</td>\n",
       "      <td>Hotel Sol</td>\n",
       "    </tr>\n",
       "    <tr>\n",
       "      <th>3</th>\n",
       "      <td>4</td>\n",
       "      <td>Hotel Oceano</td>\n",
       "    </tr>\n",
       "    <tr>\n",
       "      <th>4</th>\n",
       "      <td>5</td>\n",
       "      <td>Hotel Atlantis</td>\n",
       "    </tr>\n",
       "    <tr>\n",
       "      <th>5</th>\n",
       "      <td>6</td>\n",
       "      <td>Hotel Calor</td>\n",
       "    </tr>\n",
       "  </tbody>\n",
       "</table>\n",
       "</div>"
      ],
      "text/plain": [
       "   id_hotel             nom\n",
       "0         1     Hotel Playa\n",
       "1         2     Hotel Marea\n",
       "2         3       Hotel Sol\n",
       "3         4    Hotel Oceano\n",
       "4         5  Hotel Atlantis\n",
       "5         6     Hotel Calor"
      ]
     },
     "execution_count": 51,
     "metadata": {},
     "output_type": "execute_result"
    }
   ],
   "source": [
    "pd.DataFrame(df_1, columns=['id_hotel', 'nom'])"
   ]
  },
  {
   "cell_type": "markdown",
   "metadata": {},
   "source": [
    "#### Seleccionem els 10 primers registres de la taula de reserves"
   ]
  },
  {
   "cell_type": "code",
   "execution_count": 53,
   "metadata": {
    "execution": {
     "iopub.execute_input": "2022-02-13T22:10:15.627110Z",
     "iopub.status.busy": "2022-02-13T22:10:15.626596Z",
     "iopub.status.idle": "2022-02-13T22:10:15.642776Z",
     "shell.execute_reply": "2022-02-13T22:10:15.641311Z",
     "shell.execute_reply.started": "2022-02-13T22:10:15.627053Z"
    }
   },
   "outputs": [],
   "source": [
    "select_10_results = \"SELECT * \\\n",
    "FROM h_reserva \\\n",
    "LIMIT 10\"\n",
    "with mydb.cursor() as cursor:\n",
    "    cursor.execute(select_10_results)\n",
    "    result = cursor.fetchall()\n",
    "    df_2 = []\n",
    "    for row in result:\n",
    "        df_2.append(row)"
   ]
  },
  {
   "cell_type": "code",
   "execution_count": 56,
   "metadata": {
    "execution": {
     "iopub.execute_input": "2022-02-13T22:10:41.361537Z",
     "iopub.status.busy": "2022-02-13T22:10:41.361219Z",
     "iopub.status.idle": "2022-02-13T22:10:41.454237Z",
     "shell.execute_reply": "2022-02-13T22:10:41.439674Z",
     "shell.execute_reply.started": "2022-02-13T22:10:41.361506Z"
    }
   },
   "outputs": [
    {
     "data": {
      "text/html": [
       "<div>\n",
       "<style scoped>\n",
       "    .dataframe tbody tr th:only-of-type {\n",
       "        vertical-align: middle;\n",
       "    }\n",
       "\n",
       "    .dataframe tbody tr th {\n",
       "        vertical-align: top;\n",
       "    }\n",
       "\n",
       "    .dataframe thead th {\n",
       "        text-align: right;\n",
       "    }\n",
       "</style>\n",
       "<table border=\"1\" class=\"dataframe\">\n",
       "  <thead>\n",
       "    <tr style=\"text-align: right;\">\n",
       "      <th></th>\n",
       "      <th>id_reserva</th>\n",
       "      <th>id_hotel</th>\n",
       "      <th>id_tipo_habitacion</th>\n",
       "      <th>id_regimen</th>\n",
       "      <th>id_pais</th>\n",
       "      <th>desc_tipo_cliente</th>\n",
       "      <th>desc_canal</th>\n",
       "      <th>fecha_venta</th>\n",
       "      <th>fecha_entrada</th>\n",
       "      <th>fecha_salida</th>\n",
       "      <th>fecha_cancelacion</th>\n",
       "      <th>importe</th>\n",
       "      <th>habitaciones</th>\n",
       "      <th>adultos</th>\n",
       "      <th>menores</th>\n",
       "      <th>cunas</th>\n",
       "    </tr>\n",
       "  </thead>\n",
       "  <tbody>\n",
       "    <tr>\n",
       "      <th>0</th>\n",
       "      <td>1</td>\n",
       "      <td>1</td>\n",
       "      <td>DBSUPVML</td>\n",
       "      <td>AI</td>\n",
       "      <td>GBR</td>\n",
       "      <td>VACACIONAL</td>\n",
       "      <td>TTOO</td>\n",
       "      <td>2018-07-06</td>\n",
       "      <td>2018-08-12</td>\n",
       "      <td>2018-08-19</td>\n",
       "      <td>None</td>\n",
       "      <td>0.0000</td>\n",
       "      <td>0</td>\n",
       "      <td>0</td>\n",
       "      <td>0</td>\n",
       "      <td>0</td>\n",
       "    </tr>\n",
       "    <tr>\n",
       "      <th>1</th>\n",
       "      <td>2</td>\n",
       "      <td>1</td>\n",
       "      <td>DBVML</td>\n",
       "      <td>AI</td>\n",
       "      <td>None</td>\n",
       "      <td>VACACIONAL</td>\n",
       "      <td>TTOO</td>\n",
       "      <td>2018-07-06</td>\n",
       "      <td>2018-08-13</td>\n",
       "      <td>2018-08-20</td>\n",
       "      <td>None</td>\n",
       "      <td>0.0000</td>\n",
       "      <td>7</td>\n",
       "      <td>28</td>\n",
       "      <td>0</td>\n",
       "      <td>0</td>\n",
       "    </tr>\n",
       "    <tr>\n",
       "      <th>2</th>\n",
       "      <td>3</td>\n",
       "      <td>1</td>\n",
       "      <td>DBVML</td>\n",
       "      <td>AI</td>\n",
       "      <td>None</td>\n",
       "      <td>VACACIONAL</td>\n",
       "      <td>TTOO</td>\n",
       "      <td>2018-07-06</td>\n",
       "      <td>2018-08-13</td>\n",
       "      <td>2018-08-20</td>\n",
       "      <td>None</td>\n",
       "      <td>1564.4538</td>\n",
       "      <td>0</td>\n",
       "      <td>0</td>\n",
       "      <td>0</td>\n",
       "      <td>0</td>\n",
       "    </tr>\n",
       "    <tr>\n",
       "      <th>3</th>\n",
       "      <td>4</td>\n",
       "      <td>1</td>\n",
       "      <td>DBVML</td>\n",
       "      <td>AI</td>\n",
       "      <td>None</td>\n",
       "      <td>VACACIONAL</td>\n",
       "      <td>TTOO</td>\n",
       "      <td>2018-07-06</td>\n",
       "      <td>2018-08-13</td>\n",
       "      <td>2018-08-20</td>\n",
       "      <td>None</td>\n",
       "      <td>0.0000</td>\n",
       "      <td>0</td>\n",
       "      <td>0</td>\n",
       "      <td>0</td>\n",
       "      <td>0</td>\n",
       "    </tr>\n",
       "    <tr>\n",
       "      <th>4</th>\n",
       "      <td>5</td>\n",
       "      <td>1</td>\n",
       "      <td>DBVML</td>\n",
       "      <td>AI</td>\n",
       "      <td>None</td>\n",
       "      <td>VACACIONAL</td>\n",
       "      <td>TTOO</td>\n",
       "      <td>2018-07-06</td>\n",
       "      <td>2018-08-13</td>\n",
       "      <td>2018-08-20</td>\n",
       "      <td>None</td>\n",
       "      <td>38.2824</td>\n",
       "      <td>0</td>\n",
       "      <td>0</td>\n",
       "      <td>0</td>\n",
       "      <td>0</td>\n",
       "    </tr>\n",
       "    <tr>\n",
       "      <th>5</th>\n",
       "      <td>6</td>\n",
       "      <td>1</td>\n",
       "      <td>DBVML</td>\n",
       "      <td>AI</td>\n",
       "      <td>None</td>\n",
       "      <td>VACACIONAL</td>\n",
       "      <td>TTOO</td>\n",
       "      <td>2018-07-06</td>\n",
       "      <td>2018-08-13</td>\n",
       "      <td>2018-08-20</td>\n",
       "      <td>None</td>\n",
       "      <td>1.8135</td>\n",
       "      <td>0</td>\n",
       "      <td>0</td>\n",
       "      <td>0</td>\n",
       "      <td>0</td>\n",
       "    </tr>\n",
       "    <tr>\n",
       "      <th>6</th>\n",
       "      <td>7</td>\n",
       "      <td>1</td>\n",
       "      <td>DBVML</td>\n",
       "      <td>HB</td>\n",
       "      <td>DEU</td>\n",
       "      <td>VACACIONAL</td>\n",
       "      <td>TTOO</td>\n",
       "      <td>2018-07-06</td>\n",
       "      <td>2018-08-14</td>\n",
       "      <td>2018-08-19</td>\n",
       "      <td>None</td>\n",
       "      <td>0.0000</td>\n",
       "      <td>5</td>\n",
       "      <td>20</td>\n",
       "      <td>0</td>\n",
       "      <td>0</td>\n",
       "    </tr>\n",
       "    <tr>\n",
       "      <th>7</th>\n",
       "      <td>8</td>\n",
       "      <td>1</td>\n",
       "      <td>DBVML</td>\n",
       "      <td>HB</td>\n",
       "      <td>DEU</td>\n",
       "      <td>VACACIONAL</td>\n",
       "      <td>TTOO</td>\n",
       "      <td>2018-07-06</td>\n",
       "      <td>2018-08-14</td>\n",
       "      <td>2018-08-19</td>\n",
       "      <td>None</td>\n",
       "      <td>772.9020</td>\n",
       "      <td>0</td>\n",
       "      <td>0</td>\n",
       "      <td>0</td>\n",
       "      <td>0</td>\n",
       "    </tr>\n",
       "    <tr>\n",
       "      <th>8</th>\n",
       "      <td>9</td>\n",
       "      <td>1</td>\n",
       "      <td>DBVML</td>\n",
       "      <td>HB</td>\n",
       "      <td>DEU</td>\n",
       "      <td>VACACIONAL</td>\n",
       "      <td>TTOO</td>\n",
       "      <td>2018-07-06</td>\n",
       "      <td>2018-08-14</td>\n",
       "      <td>2018-08-19</td>\n",
       "      <td>None</td>\n",
       "      <td>0.0000</td>\n",
       "      <td>0</td>\n",
       "      <td>0</td>\n",
       "      <td>0</td>\n",
       "      <td>0</td>\n",
       "    </tr>\n",
       "    <tr>\n",
       "      <th>9</th>\n",
       "      <td>10</td>\n",
       "      <td>1</td>\n",
       "      <td>DBVML</td>\n",
       "      <td>HB</td>\n",
       "      <td>DEU</td>\n",
       "      <td>VACACIONAL</td>\n",
       "      <td>TTOO</td>\n",
       "      <td>2018-07-06</td>\n",
       "      <td>2018-08-14</td>\n",
       "      <td>2018-08-19</td>\n",
       "      <td>None</td>\n",
       "      <td>65.9529</td>\n",
       "      <td>0</td>\n",
       "      <td>0</td>\n",
       "      <td>0</td>\n",
       "      <td>0</td>\n",
       "    </tr>\n",
       "  </tbody>\n",
       "</table>\n",
       "</div>"
      ],
      "text/plain": [
       "   id_reserva  id_hotel id_tipo_habitacion id_regimen id_pais  \\\n",
       "0           1         1           DBSUPVML         AI     GBR   \n",
       "1           2         1              DBVML         AI    None   \n",
       "2           3         1              DBVML         AI    None   \n",
       "3           4         1              DBVML         AI    None   \n",
       "4           5         1              DBVML         AI    None   \n",
       "5           6         1              DBVML         AI    None   \n",
       "6           7         1              DBVML         HB     DEU   \n",
       "7           8         1              DBVML         HB     DEU   \n",
       "8           9         1              DBVML         HB     DEU   \n",
       "9          10         1              DBVML         HB     DEU   \n",
       "\n",
       "  desc_tipo_cliente desc_canal fecha_venta fecha_entrada fecha_salida  \\\n",
       "0        VACACIONAL       TTOO  2018-07-06    2018-08-12   2018-08-19   \n",
       "1        VACACIONAL       TTOO  2018-07-06    2018-08-13   2018-08-20   \n",
       "2        VACACIONAL       TTOO  2018-07-06    2018-08-13   2018-08-20   \n",
       "3        VACACIONAL       TTOO  2018-07-06    2018-08-13   2018-08-20   \n",
       "4        VACACIONAL       TTOO  2018-07-06    2018-08-13   2018-08-20   \n",
       "5        VACACIONAL       TTOO  2018-07-06    2018-08-13   2018-08-20   \n",
       "6        VACACIONAL       TTOO  2018-07-06    2018-08-14   2018-08-19   \n",
       "7        VACACIONAL       TTOO  2018-07-06    2018-08-14   2018-08-19   \n",
       "8        VACACIONAL       TTOO  2018-07-06    2018-08-14   2018-08-19   \n",
       "9        VACACIONAL       TTOO  2018-07-06    2018-08-14   2018-08-19   \n",
       "\n",
       "  fecha_cancelacion    importe  habitaciones  adultos  menores  cunas  \n",
       "0              None     0.0000             0        0        0      0  \n",
       "1              None     0.0000             7       28        0      0  \n",
       "2              None  1564.4538             0        0        0      0  \n",
       "3              None     0.0000             0        0        0      0  \n",
       "4              None    38.2824             0        0        0      0  \n",
       "5              None     1.8135             0        0        0      0  \n",
       "6              None     0.0000             5       20        0      0  \n",
       "7              None   772.9020             0        0        0      0  \n",
       "8              None     0.0000             0        0        0      0  \n",
       "9              None    65.9529             0        0        0      0  "
      ]
     },
     "execution_count": 56,
     "metadata": {},
     "output_type": "execute_result"
    }
   ],
   "source": [
    "pd.DataFrame(df_2, columns=['id_reserva', 'id_hotel', 'id_tipo_habitacion','id_regimen','id_pais','desc_tipo_cliente','desc_canal','fecha_venta',\n",
    "                                 'fecha_entrada','fecha_salida','fecha_cancelacion','importe','habitaciones','adultos','menores','cunas'])"
   ]
  },
  {
   "cell_type": "markdown",
   "metadata": {},
   "source": [
    "#### Seleccionem la info que ens interesa de la taula de reserves i de la taula d'hotels i ho extreiem en un sol df"
   ]
  },
  {
   "cell_type": "code",
   "execution_count": 59,
   "metadata": {
    "execution": {
     "iopub.execute_input": "2022-02-13T22:13:09.327917Z",
     "iopub.status.busy": "2022-02-13T22:13:09.327376Z",
     "iopub.status.idle": "2022-02-13T22:13:13.340845Z",
     "shell.execute_reply": "2022-02-13T22:13:13.339318Z",
     "shell.execute_reply.started": "2022-02-13T22:13:09.327878Z"
    }
   },
   "outputs": [],
   "source": [
    "select_notnull_results = \"SELECT * \\\n",
    "FROM h_reserva \\\n",
    "LEFT JOIN d_hotel \\\n",
    "ON d_hotel.id_hotel = h_reserva.id_hotel \\\n",
    "WHERE id_pais IS NOT NULL \\\n",
    "AND id_tipo_habitacion IS NOT NULL \\\n",
    "AND fecha_entrada >= 2018-08-01 \\\n",
    "AND importe > 0.0\"\n",
    "with mydb.cursor() as cursor:\n",
    "    cursor.execute(select_notnull_results)\n",
    "    result = cursor.fetchall()\n",
    "    df_3 = []\n",
    "    for row in result:\n",
    "        df_3.append(row)"
   ]
  },
  {
   "cell_type": "code",
   "execution_count": 65,
   "metadata": {
    "execution": {
     "iopub.execute_input": "2022-02-13T22:14:09.823778Z",
     "iopub.status.busy": "2022-02-13T22:14:09.823423Z",
     "iopub.status.idle": "2022-02-13T22:14:10.209809Z",
     "shell.execute_reply": "2022-02-13T22:14:10.207908Z",
     "shell.execute_reply.started": "2022-02-13T22:14:09.823737Z"
    }
   },
   "outputs": [],
   "source": [
    "data = pd.DataFrame(df_3, columns=['id_reserva', 'id_hotel', 'id_tipo_habitacion','id_regimen','id_pais','desc_tipo_cliente','desc_canal','fecha_venta',\n",
    "                                 'fecha_entrada','fecha_salida','fecha_cancelacion','importe','habitaciones','adultos','menores','cunas','id_hotel_2','nom_hotel'])"
   ]
  },
  {
   "cell_type": "code",
   "execution_count": 66,
   "metadata": {
    "execution": {
     "iopub.execute_input": "2022-02-13T22:14:11.338852Z",
     "iopub.status.busy": "2022-02-13T22:14:11.338514Z",
     "iopub.status.idle": "2022-02-13T22:14:11.466318Z",
     "shell.execute_reply": "2022-02-13T22:14:11.405694Z",
     "shell.execute_reply.started": "2022-02-13T22:14:11.338818Z"
    }
   },
   "outputs": [
    {
     "data": {
      "text/html": [
       "<div>\n",
       "<style scoped>\n",
       "    .dataframe tbody tr th:only-of-type {\n",
       "        vertical-align: middle;\n",
       "    }\n",
       "\n",
       "    .dataframe tbody tr th {\n",
       "        vertical-align: top;\n",
       "    }\n",
       "\n",
       "    .dataframe thead th {\n",
       "        text-align: right;\n",
       "    }\n",
       "</style>\n",
       "<table border=\"1\" class=\"dataframe\">\n",
       "  <thead>\n",
       "    <tr style=\"text-align: right;\">\n",
       "      <th></th>\n",
       "      <th>id_reserva</th>\n",
       "      <th>id_hotel</th>\n",
       "      <th>id_tipo_habitacion</th>\n",
       "      <th>id_regimen</th>\n",
       "      <th>id_pais</th>\n",
       "      <th>desc_tipo_cliente</th>\n",
       "      <th>desc_canal</th>\n",
       "      <th>fecha_venta</th>\n",
       "      <th>fecha_entrada</th>\n",
       "      <th>fecha_salida</th>\n",
       "      <th>fecha_cancelacion</th>\n",
       "      <th>importe</th>\n",
       "      <th>habitaciones</th>\n",
       "      <th>adultos</th>\n",
       "      <th>menores</th>\n",
       "      <th>cunas</th>\n",
       "      <th>id_hotel_2</th>\n",
       "      <th>nom_hotel</th>\n",
       "    </tr>\n",
       "  </thead>\n",
       "  <tbody>\n",
       "    <tr>\n",
       "      <th>0</th>\n",
       "      <td>8</td>\n",
       "      <td>1</td>\n",
       "      <td>DBVML</td>\n",
       "      <td>HB</td>\n",
       "      <td>DEU</td>\n",
       "      <td>VACACIONAL</td>\n",
       "      <td>TTOO</td>\n",
       "      <td>2018-07-06</td>\n",
       "      <td>2018-08-14</td>\n",
       "      <td>2018-08-19</td>\n",
       "      <td>None</td>\n",
       "      <td>772.902000</td>\n",
       "      <td>0</td>\n",
       "      <td>0</td>\n",
       "      <td>0</td>\n",
       "      <td>0</td>\n",
       "      <td>1</td>\n",
       "      <td>Hotel Playa</td>\n",
       "    </tr>\n",
       "    <tr>\n",
       "      <th>1</th>\n",
       "      <td>10</td>\n",
       "      <td>1</td>\n",
       "      <td>DBVML</td>\n",
       "      <td>HB</td>\n",
       "      <td>DEU</td>\n",
       "      <td>VACACIONAL</td>\n",
       "      <td>TTOO</td>\n",
       "      <td>2018-07-06</td>\n",
       "      <td>2018-08-14</td>\n",
       "      <td>2018-08-19</td>\n",
       "      <td>None</td>\n",
       "      <td>65.952900</td>\n",
       "      <td>0</td>\n",
       "      <td>0</td>\n",
       "      <td>0</td>\n",
       "      <td>0</td>\n",
       "      <td>1</td>\n",
       "      <td>Hotel Playa</td>\n",
       "    </tr>\n",
       "    <tr>\n",
       "      <th>2</th>\n",
       "      <td>12</td>\n",
       "      <td>1</td>\n",
       "      <td>DBVM</td>\n",
       "      <td>AI</td>\n",
       "      <td>GBR</td>\n",
       "      <td>VACACIONAL</td>\n",
       "      <td>TTOO</td>\n",
       "      <td>2018-07-06</td>\n",
       "      <td>2018-08-14</td>\n",
       "      <td>2018-08-21</td>\n",
       "      <td>None</td>\n",
       "      <td>1694.838600</td>\n",
       "      <td>0</td>\n",
       "      <td>0</td>\n",
       "      <td>0</td>\n",
       "      <td>0</td>\n",
       "      <td>1</td>\n",
       "      <td>Hotel Playa</td>\n",
       "    </tr>\n",
       "    <tr>\n",
       "      <th>3</th>\n",
       "      <td>15</td>\n",
       "      <td>1</td>\n",
       "      <td>DBSUPVM</td>\n",
       "      <td>AI</td>\n",
       "      <td>GBR</td>\n",
       "      <td>VACACIONAL</td>\n",
       "      <td>TTOO</td>\n",
       "      <td>2018-07-06</td>\n",
       "      <td>2018-08-16</td>\n",
       "      <td>2018-08-23</td>\n",
       "      <td>None</td>\n",
       "      <td>1629.646200</td>\n",
       "      <td>0</td>\n",
       "      <td>0</td>\n",
       "      <td>0</td>\n",
       "      <td>0</td>\n",
       "      <td>1</td>\n",
       "      <td>Hotel Playa</td>\n",
       "    </tr>\n",
       "    <tr>\n",
       "      <th>4</th>\n",
       "      <td>18</td>\n",
       "      <td>1</td>\n",
       "      <td>DBL</td>\n",
       "      <td>HB</td>\n",
       "      <td>DEU</td>\n",
       "      <td>VACACIONAL</td>\n",
       "      <td>TTOO</td>\n",
       "      <td>2018-07-06</td>\n",
       "      <td>2018-08-17</td>\n",
       "      <td>2018-08-24</td>\n",
       "      <td>None</td>\n",
       "      <td>1042.914600</td>\n",
       "      <td>0</td>\n",
       "      <td>0</td>\n",
       "      <td>0</td>\n",
       "      <td>0</td>\n",
       "      <td>1</td>\n",
       "      <td>Hotel Playa</td>\n",
       "    </tr>\n",
       "    <tr>\n",
       "      <th>...</th>\n",
       "      <td>...</td>\n",
       "      <td>...</td>\n",
       "      <td>...</td>\n",
       "      <td>...</td>\n",
       "      <td>...</td>\n",
       "      <td>...</td>\n",
       "      <td>...</td>\n",
       "      <td>...</td>\n",
       "      <td>...</td>\n",
       "      <td>...</td>\n",
       "      <td>...</td>\n",
       "      <td>...</td>\n",
       "      <td>...</td>\n",
       "      <td>...</td>\n",
       "      <td>...</td>\n",
       "      <td>...</td>\n",
       "      <td>...</td>\n",
       "      <td>...</td>\n",
       "    </tr>\n",
       "    <tr>\n",
       "      <th>72264</th>\n",
       "      <td>302728</td>\n",
       "      <td>6</td>\n",
       "      <td>DBL</td>\n",
       "      <td>AI</td>\n",
       "      <td>FRA</td>\n",
       "      <td>TTOO</td>\n",
       "      <td>TTOO</td>\n",
       "      <td>2019-10-15</td>\n",
       "      <td>2019-12-22</td>\n",
       "      <td>2019-12-29</td>\n",
       "      <td>None</td>\n",
       "      <td>56.303091</td>\n",
       "      <td>0</td>\n",
       "      <td>0</td>\n",
       "      <td>0</td>\n",
       "      <td>0</td>\n",
       "      <td>6</td>\n",
       "      <td>Hotel Calor</td>\n",
       "    </tr>\n",
       "    <tr>\n",
       "      <th>72265</th>\n",
       "      <td>302729</td>\n",
       "      <td>6</td>\n",
       "      <td>DBL</td>\n",
       "      <td>AI</td>\n",
       "      <td>FRA</td>\n",
       "      <td>TTOO</td>\n",
       "      <td>TTOO</td>\n",
       "      <td>2019-10-15</td>\n",
       "      <td>2019-12-22</td>\n",
       "      <td>2019-12-29</td>\n",
       "      <td>None</td>\n",
       "      <td>216.229572</td>\n",
       "      <td>0</td>\n",
       "      <td>0</td>\n",
       "      <td>0</td>\n",
       "      <td>0</td>\n",
       "      <td>6</td>\n",
       "      <td>Hotel Calor</td>\n",
       "    </tr>\n",
       "    <tr>\n",
       "      <th>72266</th>\n",
       "      <td>302763</td>\n",
       "      <td>6</td>\n",
       "      <td>DBL</td>\n",
       "      <td>HB</td>\n",
       "      <td>ESP</td>\n",
       "      <td>TTOO</td>\n",
       "      <td>TTOO</td>\n",
       "      <td>2019-10-15</td>\n",
       "      <td>2020-01-22</td>\n",
       "      <td>2020-02-05</td>\n",
       "      <td>None</td>\n",
       "      <td>840.311784</td>\n",
       "      <td>0</td>\n",
       "      <td>0</td>\n",
       "      <td>0</td>\n",
       "      <td>0</td>\n",
       "      <td>6</td>\n",
       "      <td>Hotel Calor</td>\n",
       "    </tr>\n",
       "    <tr>\n",
       "      <th>72267</th>\n",
       "      <td>302764</td>\n",
       "      <td>6</td>\n",
       "      <td>DBL</td>\n",
       "      <td>HB</td>\n",
       "      <td>ESP</td>\n",
       "      <td>TTOO</td>\n",
       "      <td>TTOO</td>\n",
       "      <td>2019-10-15</td>\n",
       "      <td>2020-01-22</td>\n",
       "      <td>2020-02-05</td>\n",
       "      <td>None</td>\n",
       "      <td>48.222720</td>\n",
       "      <td>0</td>\n",
       "      <td>0</td>\n",
       "      <td>0</td>\n",
       "      <td>0</td>\n",
       "      <td>6</td>\n",
       "      <td>Hotel Calor</td>\n",
       "    </tr>\n",
       "    <tr>\n",
       "      <th>72268</th>\n",
       "      <td>302765</td>\n",
       "      <td>6</td>\n",
       "      <td>DBL</td>\n",
       "      <td>HB</td>\n",
       "      <td>ESP</td>\n",
       "      <td>TTOO</td>\n",
       "      <td>TTOO</td>\n",
       "      <td>2019-10-15</td>\n",
       "      <td>2020-01-22</td>\n",
       "      <td>2020-02-05</td>\n",
       "      <td>None</td>\n",
       "      <td>181.981332</td>\n",
       "      <td>0</td>\n",
       "      <td>0</td>\n",
       "      <td>0</td>\n",
       "      <td>0</td>\n",
       "      <td>6</td>\n",
       "      <td>Hotel Calor</td>\n",
       "    </tr>\n",
       "  </tbody>\n",
       "</table>\n",
       "<p>72269 rows × 18 columns</p>\n",
       "</div>"
      ],
      "text/plain": [
       "       id_reserva  id_hotel id_tipo_habitacion id_regimen id_pais  \\\n",
       "0               8         1              DBVML         HB     DEU   \n",
       "1              10         1              DBVML         HB     DEU   \n",
       "2              12         1               DBVM         AI     GBR   \n",
       "3              15         1            DBSUPVM         AI     GBR   \n",
       "4              18         1                DBL         HB     DEU   \n",
       "...           ...       ...                ...        ...     ...   \n",
       "72264      302728         6                DBL         AI     FRA   \n",
       "72265      302729         6                DBL         AI     FRA   \n",
       "72266      302763         6                DBL         HB     ESP   \n",
       "72267      302764         6                DBL         HB     ESP   \n",
       "72268      302765         6                DBL         HB     ESP   \n",
       "\n",
       "      desc_tipo_cliente desc_canal fecha_venta fecha_entrada fecha_salida  \\\n",
       "0            VACACIONAL       TTOO  2018-07-06    2018-08-14   2018-08-19   \n",
       "1            VACACIONAL       TTOO  2018-07-06    2018-08-14   2018-08-19   \n",
       "2            VACACIONAL       TTOO  2018-07-06    2018-08-14   2018-08-21   \n",
       "3            VACACIONAL       TTOO  2018-07-06    2018-08-16   2018-08-23   \n",
       "4            VACACIONAL       TTOO  2018-07-06    2018-08-17   2018-08-24   \n",
       "...                 ...        ...         ...           ...          ...   \n",
       "72264              TTOO       TTOO  2019-10-15    2019-12-22   2019-12-29   \n",
       "72265              TTOO       TTOO  2019-10-15    2019-12-22   2019-12-29   \n",
       "72266              TTOO       TTOO  2019-10-15    2020-01-22   2020-02-05   \n",
       "72267              TTOO       TTOO  2019-10-15    2020-01-22   2020-02-05   \n",
       "72268              TTOO       TTOO  2019-10-15    2020-01-22   2020-02-05   \n",
       "\n",
       "      fecha_cancelacion      importe  habitaciones  adultos  menores  cunas  \\\n",
       "0                  None   772.902000             0        0        0      0   \n",
       "1                  None    65.952900             0        0        0      0   \n",
       "2                  None  1694.838600             0        0        0      0   \n",
       "3                  None  1629.646200             0        0        0      0   \n",
       "4                  None  1042.914600             0        0        0      0   \n",
       "...                 ...          ...           ...      ...      ...    ...   \n",
       "72264              None    56.303091             0        0        0      0   \n",
       "72265              None   216.229572             0        0        0      0   \n",
       "72266              None   840.311784             0        0        0      0   \n",
       "72267              None    48.222720             0        0        0      0   \n",
       "72268              None   181.981332             0        0        0      0   \n",
       "\n",
       "       id_hotel_2    nom_hotel  \n",
       "0               1  Hotel Playa  \n",
       "1               1  Hotel Playa  \n",
       "2               1  Hotel Playa  \n",
       "3               1  Hotel Playa  \n",
       "4               1  Hotel Playa  \n",
       "...           ...          ...  \n",
       "72264           6  Hotel Calor  \n",
       "72265           6  Hotel Calor  \n",
       "72266           6  Hotel Calor  \n",
       "72267           6  Hotel Calor  \n",
       "72268           6  Hotel Calor  \n",
       "\n",
       "[72269 rows x 18 columns]"
      ]
     },
     "execution_count": 66,
     "metadata": {},
     "output_type": "execute_result"
    }
   ],
   "source": [
    "data"
   ]
  },
  {
   "cell_type": "markdown",
   "metadata": {},
   "source": [
    "## Nivell 3"
   ]
  },
  {
   "cell_type": "markdown",
   "metadata": {},
   "source": [
    "## Exercici 3. Genera algun gràfic que resumeixi les dades. \n"
   ]
  },
  {
   "cell_type": "markdown",
   "metadata": {},
   "source": [
    "- La majoria de reserves es van fer a l'Hotel Playa.\n",
    "- El règim de la majoria de reserves era mitja pensió (HB = half board) seguit de tot inclòs (AI = All inclusive).\n",
    "- El top 3 de nacionalitats és: la Gran Bretanya, seguida d'Alemanya i Espanya en tercera posició.\n",
    "- Pel que fa a l'import de les resevres, a mesura que augmenta el preu, disminueix el nombre de reserves."
   ]
  },
  {
   "cell_type": "code",
   "execution_count": 89,
   "metadata": {
    "execution": {
     "iopub.execute_input": "2022-02-13T22:29:35.917527Z",
     "iopub.status.busy": "2022-02-13T22:29:35.916458Z",
     "iopub.status.idle": "2022-02-13T22:29:36.281413Z",
     "shell.execute_reply": "2022-02-13T22:29:36.280057Z",
     "shell.execute_reply.started": "2022-02-13T22:29:35.917482Z"
    }
   },
   "outputs": [
    {
     "data": {
      "image/png": "[encoded data removed]",
      "text/plain": [
       "<Figure size 432x288 with 1 Axes>"
      ]
     },
     "metadata": {
      "needs_background": "light"
     },
     "output_type": "display_data"
    }
   ],
   "source": [
    "# Nombre de reserves per hotel\n",
    "ax = sns.countplot(x='nom_hotel' ,data=data)\n",
    "ax.tick_params(axis='x', rotation=45)"
   ]
  },
  {
   "cell_type": "code",
   "execution_count": 137,
   "metadata": {
    "execution": {
     "iopub.execute_input": "2022-02-13T22:51:55.180596Z",
     "iopub.status.busy": "2022-02-13T22:51:55.180023Z",
     "iopub.status.idle": "2022-02-13T22:51:55.538465Z",
     "shell.execute_reply": "2022-02-13T22:51:55.537274Z",
     "shell.execute_reply.started": "2022-02-13T22:51:55.180543Z"
    }
   },
   "outputs": [
    {
     "data": {
      "image/png": "[encoded data removed]",
      "text/plain": [
       "<Figure size 432x288 with 1 Axes>"
      ]
     },
     "metadata": {
      "needs_background": "light"
     },
     "output_type": "display_data"
    }
   ],
   "source": [
    "# Tipus de pensió per reserva\n",
    "ax = sns.countplot(x='id_regimen' ,data=data)\n",
    "ax.tick_params(axis='x', rotation=45)"
   ]
  },
  {
   "cell_type": "code",
   "execution_count": 120,
   "metadata": {
    "execution": {
     "iopub.execute_input": "2022-02-13T22:45:20.710470Z",
     "iopub.status.busy": "2022-02-13T22:45:20.710133Z",
     "iopub.status.idle": "2022-02-13T22:45:22.527323Z",
     "shell.execute_reply": "2022-02-13T22:45:22.526443Z",
     "shell.execute_reply.started": "2022-02-13T22:45:20.710436Z"
    }
   },
   "outputs": [
    {
     "data": {
      "image/png": "[encoded data removed]",
      "text/plain": [
       "<Figure size 432x288 with 1 Axes>"
      ]
     },
     "metadata": {},
     "output_type": "display_data"
    }
   ],
   "source": [
    "# Nacionalitat per reserva\n",
    "labels = data.id_pais.value_counts().index\n",
    "\n",
    "plt.pie(data.id_pais.value_counts(),labels=labels, autopct='%.0f%%')\n",
    "plt.show()"
   ]
  },
  {
   "cell_type": "code",
   "execution_count": 138,
   "metadata": {
    "execution": {
     "iopub.execute_input": "2022-02-13T22:51:58.959496Z",
     "iopub.status.busy": "2022-02-13T22:51:58.959158Z",
     "iopub.status.idle": "2022-02-13T22:52:01.541625Z",
     "shell.execute_reply": "2022-02-13T22:52:01.540634Z",
     "shell.execute_reply.started": "2022-02-13T22:51:58.959461Z"
    }
   },
   "outputs": [
    {
     "data": {
      "text/plain": [
       "(5.0, 500.0)"
      ]
     },
     "execution_count": 138,
     "metadata": {},
     "output_type": "execute_result"
    },
    {
     "data": {
      "image/png": "[encoded data removed]",
      "text/plain": [
       "<Figure size 432x288 with 1 Axes>"
      ]
     },
     "metadata": {
      "needs_background": "light"
     },
     "output_type": "display_data"
    }
   ],
   "source": [
    "# Histograma amb l'import de les reserves\n",
    "ax = sns.histplot(data.importe)\n",
    "ax.set_xlim(5,500)"
   ]
  }
 ],
 "metadata": {
  "kernelspec": {
   "display_name": "Python 3",
   "language": "python",
   "name": "python3"
  },
  "language_info": {
   "codemirror_mode": {
    "name": "ipython",
    "version": 3
   },
   "file_extension": ".py",
   "mimetype": "text/x-python",
   "name": "python",
   "nbconvert_exporter": "python",
   "pygments_lexer": "ipython3",
   "version": "3.8.5"
  },
  "toc": {
   "base_numbering": 1,
   "nav_menu": {},
   "number_sections": true,
   "sideBar": true,
   "skip_h1_title": false,
   "title_cell": "Table of Contents",
   "title_sidebar": "Contents",
   "toc_cell": true,
   "toc_position": {},
   "toc_section_display": true,
   "toc_window_display": false
  },
  "varInspector": {
   "cols": {
    "lenName": 16,
    "lenType": 16,
    "lenVar": 40
   },
   "kernels_config": {
    "python": {
     "delete_cmd_postfix": "",
     "delete_cmd_prefix": "del ",
     "library": "var_list.py",
     "varRefreshCmd": "print(var_dic_list())"
    },
    "r": {
     "delete_cmd_postfix": ") ",
     "delete_cmd_prefix": "rm(",
     "library": "var_list.r",
     "varRefreshCmd": "cat(var_dic_list()) "
    }
   },
   "types_to_exclude": [
    "module",
    "function",
    "builtin_function_or_method",
    "instance",
    "_Feature"
   ],
   "window_display": false
  }
 },
 "nbformat": 4,
 "nbformat_minor": 4
}
